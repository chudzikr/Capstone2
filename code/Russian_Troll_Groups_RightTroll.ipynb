{
 "cells": [
  {
   "cell_type": "markdown",
   "metadata": {},
   "source": [
    "# Capstone 2 Project - Russian Troll Groups - RightTroll"
   ]
  },
  {
   "cell_type": "markdown",
   "metadata": {},
   "source": [
    "In the analysis of each troll group, each of the troll groups* will be segmented out and analyzed each individually.  The \"troll classes\", as defined by Clemson University's Darren Linvill and Patrick Warren in their analysis of the Russian Troll Farm Twitter data.\n",
    "\n",
    "I will analyze the Troll Groups to explore questions about the nature of the disinformation campaign, such as:\n",
    "* Did other trolls retweet and amplify troll tweets?\n",
    "* Can common topics or themes be identified?\n",
    "* What were the most-used hashtags?\n",
    "* Did the tweets predominantly support one candidate or political party, or seek to undermine the other?"
   ]
  },
  {
   "cell_type": "markdown",
   "metadata": {},
   "source": [
    "## Data Dictionary\n",
    "\n",
    "Header | Definition\n",
    "-------|---------\n",
    "`external_author_id` | An author account ID from Twitter \n",
    "`author` | The handle sending the tweet\n",
    "`content` | The text of the tweet\n",
    "`region` | A region classification, as [determined by Social Studio](https://help.salesforce.com/articleView?   id=000199367&type=1)\n",
    "`language` | The language of the tweet\n",
    "`publish_date` | The date and time the tweet was sent\n",
    "`harvested_date` | The date and time the tweet was collected by Social Studio\n",
    "`following` | The number of accounts the handle was following at the time of the tweet\n",
    "`followers` | The number of followers the handle had at the time of the tweet\n",
    "`updates` | The number of “update actions” on the account that authored the tweet, including tweets, retweets and likes\n",
    "`post_type` | Indicates if the tweet was a retweet or a quote-tweet\n",
    "`account_type` | Specific account theme, as coded by Linvill and Warren\n",
    "`retweet` | A binary indicator of whether or not the tweet is a retweet\n",
    "`account_category` | General account theme, as coded by Linvill and Warren\n",
    "`new_june_2018` | A binary indicator of whether the handle was newly listed in June 2018"
   ]
  },
  {
   "cell_type": "code",
   "execution_count": 1,
   "metadata": {},
   "outputs": [],
   "source": [
    "# import standard libraries\n",
    "import pandas as pd\n",
    "pd.set_option(\"display.max_colwidth\", 200)\n",
    "#import numpy as np\n",
    "#import datetime\n",
    "import re\n",
    "import matplotlib.pyplot as plt\n",
    "import seaborn as sns\n",
    "#get_ipython().run_line_magic('matplotlib', 'inline')"
   ]
  },
  {
   "cell_type": "code",
   "execution_count": 2,
   "metadata": {},
   "outputs": [],
   "source": [
    "# import nltk libraries\n",
    "from nltk.corpus import stopwords\n",
    "from nltk import FreqDist\n",
    "#nltk.download('stopwords') # run one time"
   ]
  },
  {
   "cell_type": "code",
   "execution_count": 3,
   "metadata": {},
   "outputs": [],
   "source": [
    "# import gensim libraries\n",
    "from gensim.models.ldamulticore import LdaMulticore\n",
    "from gensim.test.utils import datapath\n",
    "from gensim import corpora\n",
    "from gensim.utils import any2unicode"
   ]
  },
  {
   "cell_type": "code",
   "execution_count": 4,
   "metadata": {},
   "outputs": [],
   "source": [
    "# encoding='utf-8',\n",
    "#right_troll = pd.read_csv('../data/right_troll.csv', parse_dates = ['publish_date'], low_memory=False)\n",
    "#nonenglish = pd.read_csv('../data/nonenglish.csv', parse_dates = ['publish_date'], low_memory=False)\n",
    "#fearmonger = pd.read_csv('../data/fearmonger.csv', parse_dates = ['publish_date'], low_memory=False)\n",
    "#left_troll = pd.read_csv('../data/left_troll.csv', parse_dates = ['publish_date'], low_memory=False)\n",
    "#hashtagamer = pd.read_csv('../data/hashtagamer.csv', parse_dates = ['publish_date'], low_memory=False)\n",
    "#newsfeed = pd.read_csv('../data/newsfeed.csv', parse_dates = ['publish_date'], low_memory=False)\n",
    "#commercial = pd.read_csv('../data/commercial.csv', parse_dates = ['publish_date'], low_memory=False)\n",
    "# print(df.shape)"
   ]
  },
  {
   "cell_type": "code",
   "execution_count": 5,
   "metadata": {},
   "outputs": [],
   "source": [
    "# read each troll classification file as 'df', for repurposing code for each class\n",
    "# nrows=100, \n",
    "full_df = pd.read_csv('../data/all_IRAhandle_tweets.csv', parse_dates = ['publish_date'], low_memory=False)\n",
    "name = 'Right Troll'"
   ]
  },
  {
   "cell_type": "code",
   "execution_count": 6,
   "metadata": {},
   "outputs": [],
   "source": [
    "df = full_df[full_df['account_category'] == \"RightTroll\"]"
   ]
  },
  {
   "cell_type": "code",
   "execution_count": 7,
   "metadata": {},
   "outputs": [
    {
     "name": "stderr",
     "output_type": "stream",
     "text": [
      "/Users/admin/anaconda3/lib/python3.6/site-packages/pandas/core/frame.py:3697: SettingWithCopyWarning: \n",
      "A value is trying to be set on a copy of a slice from a DataFrame\n",
      "\n",
      "See the caveats in the documentation: http://pandas.pydata.org/pandas-docs/stable/indexing.html#indexing-view-versus-copy\n",
      "  errors=errors)\n"
     ]
    }
   ],
   "source": [
    "df.drop('Unnamed: 0', axis=1, inplace=True)\n",
    "# drop rows with problematic character encoding\n",
    "#df.drop([58, 59], axis=0, inplace=True)\n",
    "#df.head()"
   ]
  },
  {
   "cell_type": "code",
   "execution_count": 8,
   "metadata": {},
   "outputs": [
    {
     "name": "stderr",
     "output_type": "stream",
     "text": [
      "/Users/admin/anaconda3/lib/python3.6/site-packages/ipykernel_launcher.py:1: SettingWithCopyWarning: \n",
      "A value is trying to be set on a copy of a slice from a DataFrame.\n",
      "Try using .loc[row_indexer,col_indexer] = value instead\n",
      "\n",
      "See the caveats in the documentation: http://pandas.pydata.org/pandas-docs/stable/indexing.html#indexing-view-versus-copy\n",
      "  \"\"\"Entry point for launching an IPython kernel.\n"
     ]
    }
   ],
   "source": [
    "df['cleaned'] = df['content'].fillna('').astype(str).map(any2unicode)"
   ]
  },
  {
   "cell_type": "markdown",
   "metadata": {},
   "source": [
    "## Text Preprocessing\n",
    "* Noise Removal\n",
    "* Tokenization\n",
    "* Normalization  \n",
    "(1) stemming\n",
    "(2) lemmatization, and \n",
    "(3) everything else"
   ]
  },
  {
   "cell_type": "markdown",
   "metadata": {},
   "source": [
    "### Remove URLs and non-English Characters"
   ]
  },
  {
   "cell_type": "code",
   "execution_count": 9,
   "metadata": {},
   "outputs": [],
   "source": [
    "def preprocess_text(text):\n",
    "    '''Remove URLs and Non-English characters, except for @ and #'''\n",
    "    # remove URL's\n",
    "    text = re.sub(r'\\w+:\\/{2}[\\d\\w-]+(\\.[\\d\\w-]+)*(?:(?:\\/[^\\s/]*))*', '', text)\n",
    "\n",
    "    # remove symbols excluding the @, # and \\s symbol\n",
    "    text = re.sub(r'[^\\w@#\\s]', '', text)\n",
    "\n",
    "    # remove URL's\n",
    "    text = re.sub('(https://[^\\s]+)', '', text)\n",
    "    text = re.sub('https?://[A-Za-z0-9./]+', '', text)\n",
    "\n",
    "    # remove URL's\n",
    "    text = re.sub('http?://[A-Za-z0-9./]+', '', text)\n",
    "\n",
    "    # lowercase, remove words less than len 2 & remove numbers in tokenized list\n",
    "    #return [word.lower() for word in text if len(word) > 2 and not word.isdigit() and not word in ignore_words]\n",
    "    return text"
   ]
  },
  {
   "cell_type": "code",
   "execution_count": 10,
   "metadata": {},
   "outputs": [
    {
     "name": "stderr",
     "output_type": "stream",
     "text": [
      "/Users/admin/anaconda3/lib/python3.6/site-packages/ipykernel_launcher.py:1: SettingWithCopyWarning: \n",
      "A value is trying to be set on a copy of a slice from a DataFrame.\n",
      "Try using .loc[row_indexer,col_indexer] = value instead\n",
      "\n",
      "See the caveats in the documentation: http://pandas.pydata.org/pandas-docs/stable/indexing.html#indexing-view-versus-copy\n",
      "  \"\"\"Entry point for launching an IPython kernel.\n"
     ]
    }
   ],
   "source": [
    "df['cleaned'] = df['cleaned'].apply(preprocess_text)"
   ]
  },
  {
   "cell_type": "markdown",
   "metadata": {},
   "source": [
    "### Hashtag Analysis"
   ]
  },
  {
   "cell_type": "code",
   "execution_count": 11,
   "metadata": {},
   "outputs": [],
   "source": [
    "# regex to find hashtags\n",
    "hashtag_re = re.compile(\"(?:^|\\s)[＃#]{1}(\\w+)\", re.UNICODE)\n",
    "\n",
    "def extract_hashtags(tweet):\n",
    "    '''Take in tweet contents from 'cleaned' content, extract hashtags and return cleaned text'''\n",
    "    hashtags_only = []\n",
    "    if len(re.findall(hashtag_re, tweet)) > 0:\n",
    "        hashtags_only.append(re.findall(hashtag_re, tweet))\n",
    "    else:\n",
    "        hashtags_only.append([\"0\"])\n",
    "    return hashtags_only[0]"
   ]
  },
  {
   "cell_type": "code",
   "execution_count": 12,
   "metadata": {},
   "outputs": [
    {
     "name": "stderr",
     "output_type": "stream",
     "text": [
      "/Users/admin/anaconda3/lib/python3.6/site-packages/ipykernel_launcher.py:2: SettingWithCopyWarning: \n",
      "A value is trying to be set on a copy of a slice from a DataFrame.\n",
      "Try using .loc[row_indexer,col_indexer] = value instead\n",
      "\n",
      "See the caveats in the documentation: http://pandas.pydata.org/pandas-docs/stable/indexing.html#indexing-view-versus-copy\n",
      "  \n"
     ]
    },
    {
     "data": {
      "text/plain": [
       "0                     [0]\n",
       "1                     [0]\n",
       "2            [BoycottNFL]\n",
       "3                     [0]\n",
       "4     [StandForOurAnthem]\n",
       "5                     [0]\n",
       "6                     [0]\n",
       "7                     [0]\n",
       "8                     [0]\n",
       "9                     [0]\n",
       "10                    [0]\n",
       "11                    [0]\n",
       "12                    [0]\n",
       "13                    [0]\n",
       "14                    [0]\n",
       "15                    [0]\n",
       "16                    [0]\n",
       "17                    [0]\n",
       "18                    [0]\n",
       "19                    [0]\n",
       "20                    [0]\n",
       "21                    [0]\n",
       "22                    [0]\n",
       "23                    [0]\n",
       "24         [HipHopAwards]\n",
       "Name: hashtags, dtype: object"
      ]
     },
     "execution_count": 12,
     "metadata": {},
     "output_type": "execute_result"
    }
   ],
   "source": [
    "# Create a new column to store hashtags, extract hashtags from 'content'\n",
    "df['hashtags'] = df['cleaned'].map(extract_hashtags)\n",
    "df['hashtags'].head(25)"
   ]
  },
  {
   "cell_type": "code",
   "execution_count": 13,
   "metadata": {},
   "outputs": [],
   "source": [
    "# remove all hashtags from a tweet\n",
    "def remove_hashtags(tweet):\n",
    "    '''After extracting hashtags, take in tweet content and remove hashtags'''\n",
    "    hashtags_only = []\n",
    "    if len(re.findall(hashtag_re, tweet)) > 0:\n",
    "        tweet = re.sub(hashtag_re, \"\", tweet)\n",
    "    hashtags_only.append(tweet)\n",
    "    return hashtags_only[0]"
   ]
  },
  {
   "cell_type": "code",
   "execution_count": 14,
   "metadata": {},
   "outputs": [
    {
     "name": "stderr",
     "output_type": "stream",
     "text": [
      "/Users/admin/anaconda3/lib/python3.6/site-packages/ipykernel_launcher.py:2: SettingWithCopyWarning: \n",
      "A value is trying to be set on a copy of a slice from a DataFrame.\n",
      "Try using .loc[row_indexer,col_indexer] = value instead\n",
      "\n",
      "See the caveats in the documentation: http://pandas.pydata.org/pandas-docs/stable/indexing.html#indexing-view-versus-copy\n",
      "  \n"
     ]
    }
   ],
   "source": [
    "# Clean hashtags fron 'cleaned' content\n",
    "df['cleaned'] = df['cleaned'].apply(remove_hashtags)"
   ]
  },
  {
   "cell_type": "code",
   "execution_count": 15,
   "metadata": {},
   "outputs": [
    {
     "name": "stdout",
     "output_type": "stream",
     "text": [
      "0                 429355\n",
      "MAGA               14394\n",
      "tcot               10531\n",
      "PJNET              10138\n",
      "top                 7416\n",
      "news                6708\n",
      "mar                 4865\n",
      "topl                4399\n",
      "FAKENEWS            4352\n",
      "IslamKills          4209\n",
      "2A                  3999\n",
      "Trump               3728\n",
      "WakeUpAmerica       3705\n",
      "TCOT                3367\n",
      "ccot                3335\n",
      "GOPDebate           3210\n",
      "amb                 2914\n",
      "TrumpTrain          2774\n",
      "may                 2583\n",
      "DemnDebate          2469\n",
      "ISIS                2315\n",
      "Trump2016           2288\n",
      "VegasGOPDebate      2271\n",
      "DemDebate           2258\n",
      "pjnet               2244\n",
      "dtype: int64\n"
     ]
    }
   ],
   "source": [
    "# create a list of all hashtags\n",
    "all_hashtags = df['hashtags'].tolist()\n",
    "\n",
    "# all_hashtags is a list of lists.\n",
    "cleaned_hashtags = []\n",
    "for i in all_hashtags:\n",
    "    for j in i:\n",
    "            cleaned_hashtags.append(j)\n",
    "\n",
    "# remove the '0' from the list\n",
    "def remove_values_from_list(the_list, val):\n",
    "   return [value for value in the_list if value != val]\n",
    "\n",
    "# cleaned_hashtags list\n",
    "cleaned_hashtags = remove_values_from_list(cleaned_hashtags, 0)\n",
    "\n",
    "# Convert cleaned_hashtags to a series and count the most frequent occuring\n",
    "cleaned_hashtag_series = pd.Series(cleaned_hashtags)\n",
    "hashtag_counts = cleaned_hashtag_series.value_counts()\n",
    "print(hashtag_counts[:25])"
   ]
  },
  {
   "cell_type": "markdown",
   "metadata": {},
   "source": [
    "### Get User Mentions"
   ]
  },
  {
   "cell_type": "code",
   "execution_count": 16,
   "metadata": {},
   "outputs": [],
   "source": [
    "#Regex to get user mentions \"@\":\n",
    "# New Regex\n",
    "twitter_username_re = re.compile(\"(?<=^|(?<=[^a-zA-Z0-9-_\\.]))@([A-Za-z]+[A-Za-z0-9-_]+)\", re.UNICODE)\n",
    "\n",
    "def extract_usermentions(tweet):\n",
    "    '''Take in tweet contents from 'cleaned' col and extract user mentions'''\n",
    "    mentions_only = []\n",
    "    if len(re.findall(twitter_username_re, tweet)) > 0:\n",
    "        mentions_only.append(re.findall(twitter_username_re, tweet))\n",
    "    else:\n",
    "        mentions_only.append([\"0\"])\n",
    "    return mentions_only[0]"
   ]
  },
  {
   "cell_type": "code",
   "execution_count": 17,
   "metadata": {},
   "outputs": [
    {
     "name": "stderr",
     "output_type": "stream",
     "text": [
      "/Users/admin/anaconda3/lib/python3.6/site-packages/ipykernel_launcher.py:2: SettingWithCopyWarning: \n",
      "A value is trying to be set on a copy of a slice from a DataFrame.\n",
      "Try using .loc[row_indexer,col_indexer] = value instead\n",
      "\n",
      "See the caveats in the documentation: http://pandas.pydata.org/pandas-docs/stable/indexing.html#indexing-view-versus-copy\n",
      "  \n"
     ]
    },
    {
     "data": {
      "text/plain": [
       "0                             [nedryun]\n",
       "1                                   [0]\n",
       "2                                   [0]\n",
       "3                                   [0]\n",
       "4                                   [0]\n",
       "5                                   [0]\n",
       "6                                   [0]\n",
       "7    [SenatorMenendez, CarmenYulinCruz]\n",
       "8                                   [0]\n",
       "9                                 [CNN]\n",
       "Name: mentions, dtype: object"
      ]
     },
     "execution_count": 17,
     "metadata": {},
     "output_type": "execute_result"
    }
   ],
   "source": [
    "# make a new column to store the extracted mentions\n",
    "df['mentions'] = df['cleaned'].map(extract_usermentions)\n",
    "df['mentions'].head(10)"
   ]
  },
  {
   "cell_type": "code",
   "execution_count": 18,
   "metadata": {},
   "outputs": [
    {
     "name": "stdout",
     "output_type": "stream",
     "text": [
      "0                  592362\n",
      "realDonaldTrump     10170\n",
      "POTUS                3856\n",
      "HillaryClinton       3533\n",
      "CNN                  2496\n",
      "FoxNews              2455\n",
      "YouTube              1467\n",
      "CNNPolitics          1033\n",
      "seanhannity           889\n",
      "BreitbartNews         819\n",
      "mashable              763\n",
      "tedcruz               749\n",
      "nytimes               738\n",
      "AC360                 685\n",
      "VanJones68            678\n",
      "CNNSitRoom            675\n",
      "JakeTapper            673\n",
      "TheLeadCNN            658\n",
      "jstines3              657\n",
      "WolfBlitzer           654\n",
      "BrianStelter          654\n",
      "DonLemon              652\n",
      "CNNI                  650\n",
      "AnaNavarro            649\n",
      "truthfeednews         649\n",
      "dtype: int64\n"
     ]
    }
   ],
   "source": [
    "# create a list of all mentions\n",
    "all_mentions = df['mentions'].tolist()\n",
    "\n",
    "# all_hashtags is a list of lists.\n",
    "cleaned_mentions = []\n",
    "for i in all_mentions:\n",
    "    for j in i:\n",
    "            cleaned_mentions.append(j)\n",
    "\n",
    "# remove the '0' from the list\n",
    "def remove_values_from_list(the_list, val):\n",
    "   return [value for value in the_list if value != val]\n",
    "\n",
    "# cleaned_mentions list\n",
    "cleaned_mentions = remove_values_from_list(cleaned_mentions, 0)\n",
    "\n",
    "# Convert cleaned_hashtags to a series and count the most frequent occuring\n",
    "cleaned_mentions_series = pd.Series(cleaned_mentions)\n",
    "mention_counts = cleaned_mentions_series.value_counts()\n",
    "# remove first element with values of '0'\n",
    "# mention_counts = del mention_counts[0]\n",
    "print(mention_counts[:25])"
   ]
  },
  {
   "cell_type": "code",
   "execution_count": 21,
   "metadata": {},
   "outputs": [],
   "source": [
    "# remove all mentions from a tweet\n",
    "def remove_mentions(tweet):\n",
    "    '''Take tweet content and remove @mentions from it'''\n",
    "    mentions_only = []\n",
    "    if len(re.findall(\"(?<=^|(?<=[^a-zA-Z0-9-_\\.]))@([A-Za-z]+[A-Za-z0-9-_]+)\", tweet)) > 0:\n",
    "        tweet = re.sub(\"(?<=^|(?<=[^a-zA-Z0-9-_\\.]))@([A-Za-z]+[A-Za-z0-9-_]+)\", \"\", tweet)\n",
    "    mentions_only.append(tweet)\n",
    "    return mentions_only[0]"
   ]
  },
  {
   "cell_type": "code",
   "execution_count": 22,
   "metadata": {},
   "outputs": [
    {
     "name": "stderr",
     "output_type": "stream",
     "text": [
      "/Users/admin/anaconda3/lib/python3.6/site-packages/ipykernel_launcher.py:2: SettingWithCopyWarning: \n",
      "A value is trying to be set on a copy of a slice from a DataFrame.\n",
      "Try using .loc[row_indexer,col_indexer] = value instead\n",
      "\n",
      "See the caveats in the documentation: http://pandas.pydata.org/pandas-docs/stable/indexing.html#indexing-view-versus-copy\n",
      "  \n"
     ]
    }
   ],
   "source": [
    "#create list of content with no hashtags\n",
    "df['cleaned'] = df['cleaned'].apply(remove_mentions)"
   ]
  },
  {
   "cell_type": "code",
   "execution_count": 37,
   "metadata": {},
   "outputs": [],
   "source": [
    "# remove unwanted characters, numbers and symbols from the remaining content\n",
    "#df['cleaned'] = df['cleaned'].str.replace(\"[^a-zA-Z#]\", \" \")"
   ]
  },
  {
   "cell_type": "markdown",
   "metadata": {},
   "source": [
    "### Create dataframes for the troll classifications\n",
    "Create dataframes for each troll classification, for easier size to work with."
   ]
  },
  {
   "cell_type": "code",
   "execution_count": 38,
   "metadata": {},
   "outputs": [],
   "source": [
    "#right_troll = df.loc[df['account_category'] == 'RightTroll']\n",
    "#nonenglish = df.loc[df['account_category'] == 'NonEnglish']\n",
    "#fearmonger = df.loc[df['account_category'] == 'Fearmonger']\n",
    "#left_troll = df.loc[df['account_category'] == 'LeftTroll']\n",
    "#hashtagamer = df.loc[df['account_category'] == 'HashtagGamer']\n",
    "#newsfeed = df.loc[df['account_category'] == 'NewsFeed']\n",
    "#commercial = df.loc[df['account_category'] == 'Commercial']"
   ]
  },
  {
   "cell_type": "code",
   "execution_count": 39,
   "metadata": {},
   "outputs": [],
   "source": [
    "#right_troll.to_csv(\"../data/right_troll.csv\")\n",
    "#nonenglish.to_csv(\"../data/nonenglish.csv\")\n",
    "#fearmonger.to_csv(\"../data/fearmonger.csv\")\n",
    "#left_troll.to_csv(\"../data/left_troll.csv\")\n",
    "#hashtagamer.to_csv(\"../data/hashtagamer.csv\")\n",
    "#newsfeed.to_csv(\"../data/newsfeed.csv\")\n",
    "#commercial.to_csv(\"../data/commercial.csv\")"
   ]
  },
  {
   "cell_type": "markdown",
   "metadata": {},
   "source": [
    "## Remove stopwords\n",
    "Remove words < 3 letters, convert to lower case"
   ]
  },
  {
   "cell_type": "code",
   "execution_count": 40,
   "metadata": {},
   "outputs": [
    {
     "data": {
      "text/plain": [
       "0    We have a sitting Democrat US Senator on trial for corruption and youve barely heard a peep from the mainstream media   \n",
       "1          Marshawn Lynch arrives to game in antiTrump shirt Judging by his sagging pants the shirt should say Lynch vs belt \n",
       "2                  Daughter of fallen Navy Sailor delivers powerful monologue on anthem protests burns her NFL packers gear  \n",
       "3     JUST IN President Trump dedicates Presidents Cup golf tournament trophy to the people of Florida Texas and Puerto Rico \n",
       "4                                                                                       19000 RESPECTING our National Anthem \n",
       "Name: cleaned, dtype: object"
      ]
     },
     "execution_count": 40,
     "metadata": {},
     "output_type": "execute_result"
    }
   ],
   "source": [
    "df.cleaned.head()"
   ]
  },
  {
   "cell_type": "code",
   "execution_count": 23,
   "metadata": {},
   "outputs": [
    {
     "name": "stderr",
     "output_type": "stream",
     "text": [
      "/Users/admin/anaconda3/lib/python3.6/site-packages/ipykernel_launcher.py:2: SettingWithCopyWarning: \n",
      "A value is trying to be set on a copy of a slice from a DataFrame.\n",
      "Try using .loc[row_indexer,col_indexer] = value instead\n",
      "\n",
      "See the caveats in the documentation: http://pandas.pydata.org/pandas-docs/stable/indexing.html#indexing-view-versus-copy\n",
      "  \n",
      "/Users/admin/anaconda3/lib/python3.6/site-packages/ipykernel_launcher.py:5: SettingWithCopyWarning: \n",
      "A value is trying to be set on a copy of a slice from a DataFrame.\n",
      "Try using .loc[row_indexer,col_indexer] = value instead\n",
      "\n",
      "See the caveats in the documentation: http://pandas.pydata.org/pandas-docs/stable/indexing.html#indexing-view-versus-copy\n",
      "  \"\"\"\n",
      "/Users/admin/anaconda3/lib/python3.6/site-packages/ipykernel_launcher.py:16: SettingWithCopyWarning: \n",
      "A value is trying to be set on a copy of a slice from a DataFrame.\n",
      "Try using .loc[row_indexer,col_indexer] = value instead\n",
      "\n",
      "See the caveats in the documentation: http://pandas.pydata.org/pandas-docs/stable/indexing.html#indexing-view-versus-copy\n",
      "  app.launch_new_instance()\n"
     ]
    },
    {
     "data": {
      "text/plain": [
       "0                  sitting democrat senator trial corruption youve barely heard peep mainstream media\n",
       "1              marshawn lynch arrives game antitrump shirt judging sagging pants shirt say lynch belt\n",
       "2      daughter fallen navy sailor delivers powerful monologue anthem protests burns nfl packers gear\n",
       "3    president trump dedicates presidents cup golf tournament trophy people florida texas puerto rico\n",
       "4                                                                    19000 respecting national anthem\n",
       "Name: cleaned, dtype: object"
      ]
     },
     "execution_count": 23,
     "metadata": {},
     "output_type": "execute_result"
    }
   ],
   "source": [
    "# remove short words (length < 3)\n",
    "df['cleaned'] = df['cleaned'].apply(lambda x: ' '.join([w for w in x.split() if len(w)>2]))\n",
    "\n",
    "# transform to lower-case\n",
    "df['cleaned'] = df['cleaned'].apply(lambda x: \" \".join(x.lower() for x in x.split()))\n",
    "#train['tweet'].head()\n",
    "\n",
    "#stop = set(stopwords.words('english'))\n",
    "stop = stopwords.words('english')\n",
    "\n",
    "#extend/add to stopwords - words that are commonly occuring but add no meaning\n",
    "#stopword_list += ['http', 'https', 'âµã', 'â½ã', 'â²ã', 'âºã', 'â¼ã', 'âµ']\n",
    "newStop = ['you','get', 'amp', 'one', 'new']\n",
    "stop.extend(newStop)\n",
    "\n",
    "df['cleaned'] = df['cleaned'].apply(lambda x: \" \".join(x for x in x.split() if x not in stop))\n",
    "df['cleaned'].head()"
   ]
  },
  {
   "cell_type": "code",
   "execution_count": 24,
   "metadata": {},
   "outputs": [],
   "source": [
    "#convert 'cleaned' Series to a list\n",
    "content = df['cleaned'].tolist()\n",
    "#content[:50]"
   ]
  },
  {
   "cell_type": "markdown",
   "metadata": {},
   "source": [
    "### Re-Check Fequency Distribution\n",
    "Re-check the word frequency distribution after doing some cleaning of the text."
   ]
  },
  {
   "cell_type": "code",
   "execution_count": 25,
   "metadata": {},
   "outputs": [],
   "source": [
    "# function to plot most frequent terms\n",
    "def freq_words(x, terms = 20):\n",
    "    ''' Take in a list of content, split into individual words, count occurrences, list 20 highest occurring words'''\n",
    "    all_words = ' '.join([text for text in x])\n",
    "    all_words = all_words.split()\n",
    "    fdist = FreqDist(all_words)\n",
    "    words_df = pd.DataFrame({'word':list(fdist.keys()), 'count':list(fdist.values())})\n",
    "    # selecting top 20 most frequent words\n",
    "    d = words_df.nlargest(columns=\"count\", n = terms)\n",
    "    return d"
   ]
  },
  {
   "cell_type": "code",
   "execution_count": 26,
   "metadata": {},
   "outputs": [
    {
     "name": "stdout",
     "output_type": "stream",
     "text": [
      "           word  count\n",
      "36        trump  83652\n",
      "120       obama  27896\n",
      "135    breaking  27380\n",
      "149     hillary  23625\n",
      "483       video  21739\n",
      "43       people  21102\n",
      "35    president  18732\n",
      "259        like  17510\n",
      "191        dont  16710\n",
      "1917        via  16122\n",
      "398     america  15111\n",
      "255     clinton  14981\n",
      "222        news  14196\n",
      "10        media  14167\n",
      "917      trumps  13296\n",
      "451       white  12283\n",
      "332        look  11515\n",
      "594        time  11354\n",
      "702        says  10894\n",
      "175        want  10774\n"
     ]
    }
   ],
   "source": [
    "counts = freq_words(content, 20)\n",
    "print(counts)"
   ]
  },
  {
   "cell_type": "markdown",
   "metadata": {},
   "source": [
    "### Plot most frequently occurring words "
   ]
  },
  {
   "cell_type": "code",
   "execution_count": 27,
   "metadata": {},
   "outputs": [
    {
     "data": {
      "image/png": "[encoded data removed]",
      "text/plain": [
       "<Figure size 1440x360 with 1 Axes>"
      ]
     },
     "metadata": {
      "needs_background": "light"
     },
     "output_type": "display_data"
    }
   ],
   "source": [
    "# Plot most frequent words\n",
    "plt.figure(figsize=(20,5))\n",
    "# rotate and right align group names\n",
    "plt.xticks(rotation=45, ha='right')\n",
    "ax = sns.barplot(data=counts, x= \"word\", y = \"count\")\n",
    "ax.set(ylabel = 'Count')\n",
    "ax.set(title = 'Top 20 Most Frequent Words')    \n",
    "plt.show()"
   ]
  },
  {
   "cell_type": "markdown",
   "metadata": {},
   "source": [
    "## Troll Amplification\n",
    "Examining the troll \"echo chamber\". Are trolls retweeting or mentioning other trolls?"
   ]
  },
  {
   "cell_type": "code",
   "execution_count": 28,
   "metadata": {},
   "outputs": [
    {
     "name": "stdout",
     "output_type": "stream",
     "text": [
      "72\n",
      "There are 72 trolls in the echo chamber.\n"
     ]
    }
   ],
   "source": [
    "# read list of users created during EDA\n",
    "users = pd.read_csv('../data/users_totals.csv', encoding='utf-8',low_memory=False)\n",
    "\n",
    "userlist = users['author'].tolist()\n",
    "lc_userlist = [x.lower() for x in userlist]\n",
    "lc_userlist.sort()\n",
    "\n",
    "amplify = cleaned_mentions_series[cleaned_mentions_series.isin(lc_userlist)]\n",
    "\n",
    "print(amplify.shape[0])\n",
    "\n",
    "# Get counts of amplified troll tweets\n",
    "amp_counts = amplify.value_counts()\n",
    "print(\"There are\",(amplify.shape[0]), \"trolls in the echo chamber.\")"
   ]
  },
  {
   "cell_type": "markdown",
   "metadata": {},
   "source": [
    "### Normalization\n",
    "3 distinct steps:  \n",
    "* stemming  \n",
    "* lemmatization  \n",
    "* everything else"
   ]
  },
  {
   "cell_type": "markdown",
   "metadata": {},
   "source": [
    "### Lemmatization"
   ]
  },
  {
   "cell_type": "code",
   "execution_count": 29,
   "metadata": {},
   "outputs": [
    {
     "name": "stderr",
     "output_type": "stream",
     "text": [
      "/Users/admin/anaconda3/lib/python3.6/site-packages/ipykernel_launcher.py:2: SettingWithCopyWarning: \n",
      "A value is trying to be set on a copy of a slice from a DataFrame.\n",
      "Try using .loc[row_indexer,col_indexer] = value instead\n",
      "\n",
      "See the caveats in the documentation: http://pandas.pydata.org/pandas-docs/stable/indexing.html#indexing-view-versus-copy\n",
      "  \n"
     ]
    },
    {
     "data": {
      "text/plain": [
       "0                sitting democrat senator trial corruption youve barely heard peep mainstream medium\n",
       "1              marshawn lynch arrives game antitrump shirt judging sagging pant shirt say lynch belt\n",
       "2        daughter fallen navy sailor delivers powerful monologue anthem protest burn nfl packer gear\n",
       "3    president trump dedicates president cup golf tournament trophy people florida texas puerto rico\n",
       "4                                                                   19000 respecting national anthem\n",
       "Name: cleaned, dtype: object"
      ]
     },
     "execution_count": 29,
     "metadata": {},
     "output_type": "execute_result"
    }
   ],
   "source": [
    "from textblob import Word\n",
    "df['cleaned'] = df['cleaned'].apply(lambda x: \" \".join([Word(word).lemmatize() for word in x.split()]))\n",
    "df['cleaned'].head()"
   ]
  },
  {
   "cell_type": "markdown",
   "metadata": {},
   "source": [
    "### Tokenize"
   ]
  },
  {
   "cell_type": "code",
   "execution_count": 30,
   "metadata": {},
   "outputs": [],
   "source": [
    "#create a list from df['cleaned']\n",
    "content_notags = df['cleaned'].tolist()\n",
    "\n",
    "# First, create a new column with the tokenized text\n",
    "from nltk.tokenize import TweetTokenizer\n",
    "tt = TweetTokenizer()\n",
    "#df['tokenized_text'] = df['content'].apply(tt.tokenize)\n",
    "# map tt.tokenize to 'content' list\n",
    "documents = list(map(tt.tokenize, content_notags))"
   ]
  },
  {
   "cell_type": "code",
   "execution_count": 31,
   "metadata": {},
   "outputs": [],
   "source": [
    "from collections import defaultdict\n",
    "\n",
    "frequency = defaultdict(int)\n",
    "for document in documents:\n",
    "    for token in document:\n",
    "        frequency[token] += 1"
   ]
  },
  {
   "cell_type": "code",
   "execution_count": 32,
   "metadata": {},
   "outputs": [],
   "source": [
    "documents = [[token for token in document if frequency[token] > 10] for document in documents]\n",
    "# create a dictionary using from gensim.corpora.Dictionary\n",
    "dictionary = corpora.Dictionary(documents)\n",
    "#Convert document (a list of words) into the bag-of-words format = list of (token_id, token_count) 2-tuples. \n",
    "corpus = [dictionary.doc2bow(document) for document in documents]"
   ]
  },
  {
   "cell_type": "code",
   "execution_count": 33,
   "metadata": {},
   "outputs": [
    {
     "data": {
      "text/plain": [
       "711668"
      ]
     },
     "execution_count": 33,
     "metadata": {},
     "output_type": "execute_result"
    }
   ],
   "source": [
    "len(corpus)"
   ]
  },
  {
   "cell_type": "markdown",
   "metadata": {},
   "source": [
    "## LDA Model\n",
    "Fit an LDA Model for the tweet topics"
   ]
  },
  {
   "cell_type": "code",
   "execution_count": 34,
   "metadata": {},
   "outputs": [],
   "source": [
    "# comment out once model is trained.\n",
    "# fit LDA model\n",
    "tweet_topics = LdaMulticore(corpus=corpus,\n",
    "                          id2word=dictionary,\n",
    "                          num_topics=10,\n",
    "                          passes=10,\n",
    "                          workers=2)"
   ]
  },
  {
   "cell_type": "code",
   "execution_count": 35,
   "metadata": {},
   "outputs": [],
   "source": [
    "# save/load model to/from disk\n",
    "\n",
    "temp_file = datapath(\"model_right_troll_tweets\")\n",
    "tweet_topics.save(temp_file)\n",
    "\n",
    "# Load a pretrained model from disk.\n",
    "#tweet_topics = LdaMulticore.load(\"model\")\n",
    "# - or -\n",
    "#m1 = LdaMulticore.load(datapath(\"lda_3_0_1_model\"))"
   ]
  },
  {
   "cell_type": "code",
   "execution_count": 54,
   "metadata": {},
   "outputs": [
    {
     "name": "stdout",
     "output_type": "stream",
     "text": [
      "0 --- (0, '0.106*\"trump\" + 0.043*\"obama\" + 0.040*\"president\" + 0.018*\"donald\" + 0.010*\"american\" + 0.010*\"supporter\" + 0.008*\"support\" + 0.007*\"job\" + 0.007*\"border\" + 0.007*\"poll\"')\n",
      "1 --- (1, '0.032*\"news\" + 0.017*\"post\" + 0.015*\"god\" + 0.015*\"fake\" + 0.014*\"medium\" + 0.013*\"shooting\" + 0.012*\"good\" + 0.008*\"thank\" + 0.008*\"morning\" + 0.007*\"bless\"')\n",
      "2 --- (2, '0.012*\"police\" + 0.011*\"man\" + 0.008*\"breaking\" + 0.007*\"killed\" + 0.007*\"found\" + 0.006*\"woman\" + 0.006*\"dead\" + 0.005*\"national\" + 0.005*\"official\" + 0.005*\"video\"')\n",
      "3 --- (3, '0.015*\"gop\" + 0.015*\"republican\" + 0.011*\"democrat\" + 0.010*\"bernie\" + 0.010*\"party\" + 0.010*\"election\" + 0.009*\"candidate\" + 0.009*\"john\" + 0.009*\"tax\" + 0.009*\"sander\"')\n",
      "4 --- (4, '0.067*\"hillary\" + 0.047*\"clinton\" + 0.016*\"well\" + 0.015*\"obama\" + 0.011*\"email\" + 0.011*\"campaign\" + 0.010*\"thanks\" + 0.009*\"comey\" + 0.009*\"fbi\" + 0.008*\"bill\"')\n",
      "5 --- (5, '0.034*\"trump\" + 0.020*\"video\" + 0.014*\"lol\" + 0.011*\"look\" + 0.010*\"tweet\" + 0.010*\"happy\" + 0.009*\"antifa\" + 0.009*\"victim\" + 0.008*\"week\" + 0.008*\"breaking\"')\n",
      "6 --- (6, '0.029*\"white\" + 0.026*\"trump\" + 0.022*\"house\" + 0.021*\"via\" + 0.016*\"cnn\" + 0.015*\"war\" + 0.010*\"racist\" + 0.009*\"cruz\" + 0.008*\"call\" + 0.008*\"liberal\"')\n",
      "7 --- (7, '0.022*\"state\" + 0.022*\"obama\" + 0.018*\"muslim\" + 0.012*\"terrorist\" + 0.012*\"russia\" + 0.012*\"isi\" + 0.010*\"attack\" + 0.009*\"via\" + 0.009*\"say\" + 0.009*\"refugee\"')\n",
      "8 --- (8, '0.021*\"america\" + 0.018*\"day\" + 0.017*\"year\" + 0.012*\"american\" + 0.011*\"country\" + 0.011*\"great\" + 0.009*\"time\" + 0.009*\"people\" + 0.009*\"best\" + 0.008*\"fight\"')\n",
      "9 --- (9, '0.023*\"people\" + 0.022*\"dont\" + 0.020*\"like\" + 0.016*\"know\" + 0.016*\"want\" + 0.014*\"think\" + 0.012*\"gun\" + 0.012*\"need\" + 0.011*\"right\" + 0.011*\"make\"')\n"
     ]
    }
   ],
   "source": [
    "# print out first 10 topics\n",
    "for i, topic in enumerate(tweet_topics.print_topics(10)):\n",
    "    print('{} --- {}'.format(i, topic))"
   ]
  },
  {
   "cell_type": "markdown",
   "metadata": {},
   "source": [
    "### Wordcloud\n",
    "Crate a basic word cloud of the topic groupings"
   ]
  },
  {
   "cell_type": "code",
   "execution_count": 36,
   "metadata": {},
   "outputs": [
    {
     "data": {
      "image/png": "[encoded data removed]",
      "text/plain": [
       "<Figure size 720x720 with 4 Axes>"
      ]
     },
     "metadata": {
      "needs_background": "light"
     },
     "output_type": "display_data"
    }
   ],
   "source": [
    "#Wordcloud of Top N words in each topic\n",
    "from matplotlib import pyplot as plt\n",
    "from wordcloud import WordCloud, STOPWORDS\n",
    "import matplotlib.colors as mcolors\n",
    "\n",
    "cols = [color for name, color in mcolors.TABLEAU_COLORS.items()]  # more colors: 'mcolors.XKCD_COLORS'\n",
    "\n",
    "cloud = WordCloud(stopwords=stop,\n",
    "                  background_color='white',\n",
    "                  width=2500,\n",
    "                  height=1800,\n",
    "                  max_words=10,\n",
    "                  colormap='tab10',\n",
    "                  color_func=lambda *args, **kwargs: cols[i],\n",
    "                  prefer_horizontal=1.0)\n",
    "\n",
    "topics = tweet_topics.show_topics(formatted=False)\n",
    "\n",
    "fig, axes = plt.subplots(2, 2, figsize=(10,10), sharex=True, sharey=True)\n",
    "\n",
    "for i, ax in enumerate(axes.flatten()):\n",
    "    fig.add_subplot(ax)\n",
    "    topic_words = dict(topics[i][1])\n",
    "    cloud.generate_from_frequencies(topic_words, max_font_size=300)\n",
    "    plt.gca().imshow(cloud)\n",
    "    plt.gca().set_title('Topic ' + str(i), fontdict=dict(size=16))\n",
    "    plt.gca().axis('off')\n",
    "\n",
    "\n",
    "plt.subplots_adjust(wspace=0, hspace=0)\n",
    "plt.axis('off')\n",
    "plt.margins(x=0, y=0)\n",
    "plt.tight_layout()\n",
    "plt.show()"
   ]
  },
  {
   "cell_type": "markdown",
   "metadata": {},
   "source": [
    "### Use pyLDAvis library to Visualize Topics"
   ]
  },
  {
   "cell_type": "code",
   "execution_count": 37,
   "metadata": {},
   "outputs": [],
   "source": [
    "## Try the pyLDAvis visualization\n",
    "import pyLDAvis.gensim as gensimvis\n",
    "import pyLDAvis"
   ]
  },
  {
   "cell_type": "code",
   "execution_count": 38,
   "metadata": {},
   "outputs": [
    {
     "name": "stderr",
     "output_type": "stream",
     "text": [
      "/Users/admin/anaconda3/lib/python3.6/site-packages/pyLDAvis/_prepare.py:257: FutureWarning: Sorting because non-concatenation axis is not aligned. A future version\n",
      "of pandas will change to not sort by default.\n",
      "\n",
      "To accept the future behavior, pass 'sort=False'.\n",
      "\n",
      "To retain the current behavior and silence the warning, pass 'sort=True'.\n",
      "\n",
      "  return pd.concat([default_term_info] + list(topic_dfs))\n"
     ]
    },
    {
     "data": {
      "text/html": [
       "\n",
       "<link rel=\"stylesheet\" type=\"text/css\" href=\"https://cdn.rawgit.com/bmabey/pyLDAvis/files/ldavis.v1.0.0.css\">\n",
       "\n",
       "\n",
       "<div id=\"ldavis_el18368115227380856773392480\"></div>\n",
       "<script type=\"text/javascript\">\n",
       "\n",
       "var ldavis_el18368115227380856773392480_data = {\"mdsDat\": {\"x\": [-0.28798157847739925, 0.14226600184399282, -0.3049460710857661, -0.02040579289798345, -0.00832547801172144, 0.20868139642804412, 0.09299660837174034, 0.09805627548058742, 0.05395066967687539, 0.02570796867163005], \"y\": [-0.004101674378272972, 0.045898388732778954, 0.028293840538589774, -0.2602635923731171, 0.17575434346923183, 0.025195619729945093, 0.12513651998200392, -0.15233895572224845, -0.18801822073682212, 0.20444373075791097], \"topics\": [1, 2, 3, 4, 5, 6, 7, 8, 9, 10], \"cluster\": [1, 1, 1, 1, 1, 1, 1, 1, 1, 1], \"Freq\": [16.086668014526367, 12.798661231994629, 10.361547470092773, 10.287984848022461, 9.643389701843262, 9.263289451599121, 8.195755958557129, 8.043448448181152, 7.8172101974487305, 7.502050876617432]}, \"tinfo\": {\"Category\": [\"Default\", \"Default\", \"Default\", \"Default\", \"Default\", \"Default\", \"Default\", \"Default\", \"Default\", \"Default\", \"Default\", \"Default\", \"Default\", \"Default\", \"Default\", \"Default\", \"Default\", \"Default\", \"Default\", \"Default\", \"Default\", \"Default\", \"Default\", \"Default\", \"Default\", \"Default\", \"Default\", \"Default\", \"Default\", \"Default\", \"Topic1\", \"Topic1\", \"Topic1\", \"Topic1\", \"Topic1\", \"Topic1\", \"Topic1\", \"Topic1\", \"Topic1\", \"Topic1\", \"Topic1\", \"Topic1\", \"Topic1\", \"Topic1\", \"Topic1\", \"Topic1\", \"Topic1\", \"Topic1\", \"Topic1\", \"Topic1\", \"Topic1\", \"Topic1\", \"Topic1\", \"Topic1\", \"Topic1\", \"Topic1\", \"Topic1\", \"Topic1\", \"Topic1\", \"Topic1\", \"Topic1\", \"Topic1\", \"Topic1\", \"Topic1\", \"Topic1\", \"Topic1\", \"Topic1\", \"Topic1\", \"Topic1\", \"Topic1\", \"Topic1\", \"Topic1\", \"Topic1\", \"Topic1\", \"Topic1\", \"Topic1\", \"Topic1\", \"Topic1\", \"Topic1\", \"Topic1\", \"Topic1\", \"Topic1\", \"Topic1\", \"Topic1\", \"Topic1\", \"Topic1\", \"Topic1\", \"Topic1\", \"Topic1\", \"Topic1\", \"Topic1\", \"Topic2\", \"Topic2\", \"Topic2\", \"Topic2\", \"Topic2\", \"Topic2\", \"Topic2\", \"Topic2\", \"Topic2\", \"Topic2\", \"Topic2\", \"Topic2\", \"Topic2\", \"Topic2\", \"Topic2\", \"Topic2\", \"Topic2\", \"Topic2\", \"Topic2\", \"Topic2\", \"Topic2\", \"Topic2\", \"Topic2\", \"Topic2\", \"Topic2\", \"Topic2\", \"Topic2\", \"Topic2\", \"Topic2\", \"Topic2\", \"Topic2\", \"Topic2\", \"Topic2\", \"Topic2\", \"Topic2\", \"Topic2\", \"Topic2\", \"Topic2\", \"Topic2\", \"Topic2\", \"Topic2\", \"Topic2\", \"Topic2\", \"Topic2\", \"Topic2\", \"Topic2\", \"Topic2\", \"Topic2\", \"Topic2\", \"Topic2\", \"Topic2\", \"Topic2\", \"Topic2\", \"Topic2\", \"Topic2\", \"Topic3\", \"Topic3\", \"Topic3\", \"Topic3\", \"Topic3\", \"Topic3\", \"Topic3\", \"Topic3\", \"Topic3\", \"Topic3\", \"Topic3\", \"Topic3\", \"Topic3\", \"Topic3\", \"Topic3\", \"Topic3\", \"Topic3\", \"Topic3\", \"Topic3\", \"Topic3\", \"Topic3\", \"Topic3\", \"Topic3\", \"Topic3\", \"Topic3\", \"Topic3\", \"Topic3\", \"Topic3\", \"Topic3\", \"Topic3\", \"Topic3\", \"Topic3\", \"Topic3\", \"Topic3\", \"Topic3\", \"Topic3\", \"Topic3\", \"Topic3\", \"Topic3\", \"Topic3\", \"Topic3\", \"Topic3\", \"Topic3\", \"Topic3\", \"Topic3\", \"Topic3\", \"Topic3\", \"Topic3\", \"Topic3\", \"Topic3\", \"Topic3\", \"Topic3\", \"Topic3\", \"Topic3\", \"Topic3\", \"Topic3\", \"Topic3\", \"Topic3\", \"Topic3\", \"Topic4\", \"Topic4\", \"Topic4\", \"Topic4\", \"Topic4\", \"Topic4\", \"Topic4\", \"Topic4\", \"Topic4\", \"Topic4\", \"Topic4\", \"Topic4\", \"Topic4\", \"Topic4\", \"Topic4\", \"Topic4\", \"Topic4\", \"Topic4\", \"Topic4\", \"Topic4\", \"Topic4\", \"Topic4\", \"Topic4\", \"Topic4\", \"Topic4\", \"Topic4\", \"Topic4\", \"Topic4\", \"Topic4\", \"Topic4\", \"Topic4\", \"Topic4\", \"Topic4\", \"Topic4\", \"Topic4\", \"Topic4\", \"Topic4\", \"Topic4\", \"Topic4\", \"Topic4\", \"Topic4\", \"Topic4\", \"Topic4\", \"Topic4\", \"Topic4\", \"Topic4\", \"Topic5\", \"Topic5\", \"Topic5\", \"Topic5\", \"Topic5\", \"Topic5\", \"Topic5\", \"Topic5\", \"Topic5\", \"Topic5\", \"Topic5\", \"Topic5\", \"Topic5\", \"Topic5\", \"Topic5\", \"Topic5\", \"Topic5\", \"Topic5\", \"Topic5\", \"Topic5\", \"Topic5\", \"Topic5\", \"Topic5\", \"Topic5\", \"Topic5\", \"Topic5\", \"Topic5\", \"Topic5\", \"Topic5\", \"Topic5\", \"Topic5\", \"Topic5\", \"Topic5\", \"Topic5\", \"Topic5\", \"Topic5\", \"Topic5\", \"Topic5\", \"Topic5\", \"Topic5\", \"Topic5\", \"Topic5\", \"Topic5\", \"Topic5\", \"Topic5\", \"Topic5\", \"Topic5\", \"Topic5\", \"Topic5\", \"Topic5\", \"Topic5\", \"Topic6\", \"Topic6\", \"Topic6\", \"Topic6\", \"Topic6\", \"Topic6\", \"Topic6\", \"Topic6\", \"Topic6\", \"Topic6\", \"Topic6\", \"Topic6\", \"Topic6\", \"Topic6\", \"Topic6\", \"Topic6\", \"Topic6\", \"Topic6\", \"Topic6\", \"Topic6\", \"Topic6\", \"Topic6\", \"Topic6\", \"Topic6\", \"Topic6\", \"Topic6\", \"Topic6\", \"Topic6\", \"Topic6\", \"Topic6\", \"Topic6\", \"Topic6\", \"Topic6\", \"Topic6\", \"Topic6\", \"Topic6\", \"Topic6\", \"Topic6\", \"Topic6\", \"Topic6\", \"Topic6\", \"Topic6\", \"Topic6\", \"Topic6\", \"Topic7\", \"Topic7\", \"Topic7\", \"Topic7\", \"Topic7\", \"Topic7\", \"Topic7\", \"Topic7\", \"Topic7\", \"Topic7\", \"Topic7\", \"Topic7\", \"Topic7\", \"Topic7\", \"Topic7\", \"Topic7\", \"Topic7\", \"Topic7\", \"Topic7\", \"Topic7\", \"Topic7\", \"Topic7\", \"Topic7\", \"Topic7\", \"Topic7\", \"Topic7\", \"Topic7\", \"Topic7\", \"Topic7\", \"Topic7\", \"Topic7\", \"Topic7\", \"Topic7\", \"Topic7\", \"Topic7\", \"Topic7\", \"Topic7\", \"Topic7\", \"Topic7\", \"Topic7\", \"Topic7\", \"Topic7\", \"Topic7\", \"Topic7\", \"Topic7\", \"Topic7\", \"Topic7\", \"Topic8\", \"Topic8\", \"Topic8\", \"Topic8\", \"Topic8\", \"Topic8\", \"Topic8\", \"Topic8\", \"Topic8\", \"Topic8\", \"Topic8\", \"Topic8\", \"Topic8\", \"Topic8\", \"Topic8\", \"Topic8\", \"Topic8\", \"Topic8\", \"Topic8\", \"Topic8\", \"Topic8\", \"Topic8\", \"Topic8\", \"Topic8\", \"Topic8\", \"Topic8\", \"Topic8\", \"Topic8\", \"Topic8\", \"Topic8\", \"Topic8\", \"Topic8\", \"Topic8\", \"Topic8\", \"Topic8\", \"Topic8\", \"Topic8\", \"Topic8\", \"Topic8\", \"Topic8\", \"Topic8\", \"Topic8\", \"Topic8\", \"Topic8\", \"Topic8\", \"Topic8\", \"Topic8\", \"Topic8\", \"Topic9\", \"Topic9\", \"Topic9\", \"Topic9\", \"Topic9\", \"Topic9\", \"Topic9\", \"Topic9\", \"Topic9\", \"Topic9\", \"Topic9\", \"Topic9\", \"Topic9\", \"Topic9\", \"Topic9\", \"Topic9\", \"Topic9\", \"Topic9\", \"Topic9\", \"Topic9\", \"Topic9\", \"Topic9\", \"Topic9\", \"Topic9\", \"Topic9\", \"Topic9\", \"Topic9\", \"Topic9\", \"Topic9\", \"Topic9\", \"Topic9\", \"Topic9\", \"Topic9\", \"Topic9\", \"Topic9\", \"Topic9\", \"Topic9\", \"Topic9\", \"Topic9\", \"Topic9\", \"Topic9\", \"Topic9\", \"Topic9\", \"Topic9\", \"Topic9\", \"Topic9\", \"Topic10\", \"Topic10\", \"Topic10\", \"Topic10\", \"Topic10\", \"Topic10\", \"Topic10\", \"Topic10\", \"Topic10\", \"Topic10\", \"Topic10\", \"Topic10\", \"Topic10\", \"Topic10\", \"Topic10\", \"Topic10\", \"Topic10\", \"Topic10\", \"Topic10\", \"Topic10\", \"Topic10\", \"Topic10\", \"Topic10\", \"Topic10\", \"Topic10\", \"Topic10\", \"Topic10\", \"Topic10\", \"Topic10\", \"Topic10\", \"Topic10\", \"Topic10\", \"Topic10\", \"Topic10\", \"Topic10\", \"Topic10\", \"Topic10\", \"Topic10\", \"Topic10\", \"Topic10\", \"Topic10\", \"Topic10\", \"Topic10\", \"Topic10\", \"Topic10\"], \"Freq\": [91723.0, 29399.0, 20631.0, 15379.0, 22205.0, 13905.0, 17272.0, 41047.0, 17768.0, 12148.0, 14476.0, 14439.0, 11982.0, 10708.0, 10420.0, 23179.0, 17971.0, 9269.0, 10958.0, 7381.0, 9557.0, 12372.0, 14793.0, 12006.0, 13629.0, 6714.0, 7248.0, 9027.0, 9267.0, 6260.0, 17271.84375, 14475.17578125, 14438.138671875, 9556.6064453125, 7282.82275390625, 7268.35107421875, 6355.09326171875, 4212.28759765625, 3628.92724609375, 3156.073974609375, 3087.626953125, 2572.356201171875, 2189.09814453125, 2096.936279296875, 2047.9990234375, 1845.1590576171875, 1734.2979736328125, 1670.201171875, 1609.99658203125, 1598.55810546875, 1578.7578125, 1501.6168212890625, 1471.2498779296875, 1456.5166015625, 1401.211181640625, 1400.385009765625, 1391.7313232421875, 1389.4052734375, 1363.8814697265625, 1345.992431640625, 10256.068359375, 10474.03125, 14097.669921875, 4631.4501953125, 16566.853515625, 6353.75244140625, 6385.0830078125, 5479.70849609375, 3710.580322265625, 10519.8466796875, 4113.29150390625, 5932.33203125, 2912.488525390625, 6616.40234375, 4113.34326171875, 3552.2265625, 3232.17578125, 3698.279296875, 8110.1005859375, 4304.267578125, 5916.9833984375, 4510.0830078125, 4573.51806640625, 4386.541015625, 4920.37353515625, 4560.87744140625, 4357.03759765625, 4657.92578125, 4763.09375, 4369.380859375, 4398.97216796875, 10957.9677734375, 5529.39990234375, 4167.40380859375, 3790.557373046875, 3297.814208984375, 3202.83154296875, 3156.40234375, 2928.512451171875, 2816.009765625, 2525.91162109375, 2502.71435546875, 2154.73583984375, 1911.96142578125, 1818.697265625, 1706.32275390625, 1686.971923828125, 1611.3819580078125, 1577.770263671875, 1560.3863525390625, 1546.011474609375, 1515.135986328125, 1390.355712890625, 1390.3524169921875, 1379.6051025390625, 1376.6365966796875, 1341.5238037109375, 1331.5216064453125, 1321.6854248046875, 1299.82080078125, 1291.7315673828125, 77581.4765625, 6539.15185546875, 17441.08984375, 4816.9404296875, 2904.71728515625, 4513.70361328125, 2420.117919921875, 3191.398193359375, 1714.25244140625, 5615.74462890625, 3401.322509765625, 7142.248046875, 3797.1572265625, 2504.11279296875, 3192.59619140625, 2307.7626953125, 5625.978515625, 8490.9072265625, 4139.62158203125, 4510.279296875, 4237.6630859375, 3542.28515625, 3083.487060546875, 2839.603515625, 2859.321533203125, 5471.74072265625, 3362.64453125, 2936.795654296875, 2717.787109375, 2548.894287109375, 2352.7685546875, 2309.78857421875, 2205.88525390625, 2132.35986328125, 1973.531494140625, 1888.5665283203125, 1849.8963623046875, 1837.3568115234375, 1812.8702392578125, 1769.736328125, 1767.0704345703125, 1764.0982666015625, 1673.023681640625, 1625.5157470703125, 1565.6259765625, 1416.7169189453125, 1322.6922607421875, 1295.0047607421875, 1289.433349609375, 1258.560546875, 1234.6170654296875, 1194.5477294921875, 1192.93896484375, 1182.8875732421875, 1120.0032958984375, 1680.448974609375, 2655.47314453125, 3010.58251953125, 1753.333984375, 2870.778076171875, 2406.127197265625, 3947.884765625, 3508.614013671875, 7174.541015625, 2452.053466796875, 4442.28173828125, 4924.4794921875, 3567.289306640625, 3238.56103515625, 3834.79443359375, 2752.513916015625, 3978.544677734375, 2109.637939453125, 4089.17431640625, 2475.50341796875, 2902.5234375, 3873.049072265625, 2733.265869140625, 3544.037841796875, 3280.7724609375, 3032.583740234375, 2662.83544921875, 2563.580322265625, 2415.040283203125, 12147.078125, 7247.9462890625, 6769.935546875, 6310.2109375, 4026.042236328125, 3873.087646484375, 3758.002197265625, 3681.549072265625, 2971.256591796875, 2933.251708984375, 2637.4228515625, 2405.003173828125, 2381.817626953125, 2348.035400390625, 2162.599853515625, 2119.552490234375, 2094.026611328125, 1928.2818603515625, 1894.6702880859375, 1890.3682861328125, 1861.2022705078125, 1754.3277587890625, 1652.01318359375, 1613.593505859375, 1610.697509765625, 1583.1480712890625, 1579.704345703125, 1493.6805419921875, 1448.5291748046875, 1355.436279296875, 3958.87353515625, 4116.646484375, 3051.126953125, 7201.03955078125, 4713.55908203125, 7482.78173828125, 3004.532470703125, 5228.88427734375, 2519.071533203125, 4921.44091796875, 5894.82470703125, 2096.996826171875, 2991.85693359375, 2902.3984375, 3067.69189453125, 2136.78076171875, 29398.529296875, 20631.01953125, 4953.32373046875, 2501.607421875, 2467.400634765625, 2367.9072265625, 2192.399169921875, 1914.4368896484375, 1881.51025390625, 1861.0703125, 1747.4765625, 1699.799072265625, 1636.0245361328125, 1483.2518310546875, 1473.4892578125, 1391.326904296875, 1377.82666015625, 1370.1414794921875, 1337.8153076171875, 1331.076416015625, 1248.46630859375, 1205.3868408203125, 1161.3778076171875, 1110.3824462890625, 1094.78759765625, 1024.709716796875, 990.0582275390625, 962.5740356445312, 957.129150390625, 956.5358276367188, 5177.0224609375, 4589.81787109375, 3006.6123046875, 3869.74560546875, 4484.86474609375, 5525.171875, 1988.8382568359375, 3450.224853515625, 6133.134765625, 1852.0892333984375, 2201.12451171875, 1743.854736328125, 7011.0634765625, 2167.315673828125, 1874.08984375, 2167.5068359375, 2688.034912109375, 2503.831787109375, 1972.9927978515625, 1865.29443359375, 1946.28125, 13904.2666015625, 10707.0576171875, 10419.2724609375, 5128.11376953125, 5078.65673828125, 4633.51025390625, 4521.5361328125, 4420.685546875, 4079.3984375, 3631.19970703125, 2709.0146484375, 2599.282958984375, 1889.2620849609375, 1887.086181640625, 1855.488037109375, 1787.0780029296875, 1777.22216796875, 1715.764892578125, 1680.643798828125, 1680.515869140625, 1643.5462646484375, 1637.67578125, 1550.8079833984375, 1534.0009765625, 1485.461181640625, 1458.363037109375, 1415.21630859375, 1279.5169677734375, 1235.3350830078125, 1228.6741943359375, 6249.1650390625, 1886.8055419921875, 2103.672607421875, 6904.7041015625, 2702.53173828125, 6657.7822265625, 2464.1962890625, 14141.5009765625, 1711.47314453125, 1858.9615478515625, 2033.3602294921875, 1912.35302734375, 1825.3182373046875, 1795.30029296875, 15378.42578125, 7380.166015625, 6713.9033203125, 6259.314453125, 4254.7939453125, 2900.810546875, 2565.66650390625, 2522.236572265625, 2513.584228515625, 2443.067626953125, 1876.4202880859375, 1794.736083984375, 1740.963134765625, 1715.2003173828125, 1654.3489990234375, 1535.157958984375, 1444.46240234375, 1380.1861572265625, 1356.590576171875, 1270.443359375, 1233.6259765625, 1209.4749755859375, 1205.1202392578125, 1200.0780029296875, 1171.73681640625, 1164.58203125, 1150.77880859375, 1137.147216796875, 1111.363037109375, 1081.83251953125, 11391.896484375, 2243.685302734375, 3395.416748046875, 2554.588134765625, 2089.655029296875, 1989.5892333984375, 2400.3173828125, 2027.4468994140625, 1589.600341796875, 1525.2523193359375, 1946.4793701171875, 3111.62890625, 1486.2149658203125, 1604.2080078125, 2394.134765625, 1578.6600341796875, 1585.4415283203125, 5042.00927734375, 3161.77294921875, 2189.430908203125, 2115.224853515625, 2024.0516357421875, 1759.23046875, 1714.857177734375, 1592.055908203125, 1538.801025390625, 1496.392578125, 1455.0816650390625, 1311.7757568359375, 1275.150390625, 1243.322509765625, 1208.2171630859375, 1207.394775390625, 1175.4822998046875, 1167.583984375, 1159.295654296875, 1130.531005859375, 1099.647705078125, 1085.32275390625, 1070.0518798828125, 1065.753662109375, 1061.6580810546875, 1039.404541015625, 1021.3724365234375, 1016.7249145507812, 1009.057861328125, 1000.7059326171875, 1490.7156982421875, 2318.487548828125, 1797.3077392578125, 1988.177734375, 2700.515869140625, 1956.878662109375, 2103.540283203125, 2725.681884765625, 1588.7425537109375, 1570.9686279296875, 1353.2659912109375, 1767.115966796875, 1681.3631591796875, 1754.5745849609375, 1358.3948974609375, 1913.319091796875, 1665.0576171875, 1320.1326904296875, 9268.841796875, 4865.7373046875, 3737.87255859375, 3349.514892578125, 3219.76953125, 2482.781005859375, 2148.009521484375, 1997.875, 1951.194091796875, 1928.2005615234375, 1783.4117431640625, 1728.1383056640625, 1701.9559326171875, 1661.072509765625, 1631.6146240234375, 1620.9703369140625, 1601.4366455078125, 1468.8892822265625, 1409.734375, 1381.4324951171875, 1358.1204833984375, 1323.436767578125, 1288.071533203125, 1205.55419921875, 1164.501708984375, 1153.7874755859375, 1127.0364990234375, 1119.01220703125, 1110.24853515625, 1105.54638671875, 10311.720703125, 4164.1435546875, 3273.142333984375, 1997.22705078125, 4909.69970703125, 13273.7021484375, 1899.1397705078125, 2054.264892578125, 3709.96923828125, 2069.925048828125, 1955.5211181640625, 1945.181396484375, 2084.3466796875, 2245.831787109375, 2056.208251953125, 1764.3616943359375, 5763.958984375, 4899.3408203125, 4730.43115234375, 3542.0146484375, 3333.12744140625, 3250.424560546875, 3225.26904296875, 2605.34375, 2557.28759765625, 2546.308837890625, 2350.481201171875, 2095.951416015625, 1876.1873779296875, 1795.7598876953125, 1761.3447265625, 1686.3787841796875, 1556.5419921875, 1549.4742431640625, 1507.504638671875, 1480.517578125, 1433.6795654296875, 1401.38525390625, 1368.1021728515625, 1340.2227783203125, 1281.9488525390625, 1279.6845703125, 1258.0277099609375, 1222.719970703125, 1217.8289794921875, 1210.9697265625, 3874.7529296875, 2725.517333984375, 2110.15625, 3066.565673828125, 2228.300537109375, 2347.80224609375, 2435.56689453125, 2673.42041015625, 1819.3232421875, 1946.8922119140625, 2139.40283203125, 2390.731689453125, 1747.8485107421875, 1906.4700927734375, 1810.787353515625], \"Term\": [\"trump\", \"hillary\", \"clinton\", \"news\", \"president\", \"white\", \"dont\", \"obama\", \"via\", \"muslim\", \"want\", \"america\", \"year\", \"police\", \"house\", \"people\", \"like\", \"black\", \"donald\", \"post\", \"good\", \"know\", \"breaking\", \"need\", \"right\", \"war\", \"refugee\", \"attack\", \"life\", \"fake\", \"dont\", \"want\", \"america\", \"good\", \"great\", \"god\", \"really\", \"thank\", \"patriot\", \"freedom\", \"join\", \"morning\", \"save\", \"anything\", \"politician\", \"idea\", \"trust\", \"forget\", \"nice\", \"wait\", \"understand\", \"hear\", \"politics\", \"together\", \"yeah\", \"pray\", \"pretty\", \"enlist\", \"ppl\", \"beautiful\", \"need\", \"know\", \"like\", \"doesnt\", \"people\", \"cant\", \"let\", \"thats\", \"care\", \"make\", \"help\", \"see\", \"true\", \"country\", \"work\", \"please\", \"always\", \"much\", \"american\", \"even\", \"think\", \"stop\", \"money\", \"thing\", \"right\", \"day\", \"life\", \"time\", \"president\", \"take\", \"look\", \"donald\", \"voter\", \"cruz\", \"wall\", \"traitor\", \"team\", \"session\", \"united\", \"ted\", \"mass\", \"senator\", \"jeff\", \"refuse\", \"air\", \"thousand\", \"joe\", \"gov\", \"pelosi\", \"deep\", \"david\", \"truthnation\", \"eric\", \"establishment\", \"maxine\", \"low\", \"burn\", \"praise\", \"anthem\", \"terrebehlog\", \"marriage\", \"trump\", \"gop\", \"president\", \"shooting\", \"mccain\", \"poll\", \"fraud\", \"immigration\", \"nfl\", \"supporter\", \"border\", \"state\", \"lol\", \"order\", \"national\", \"water\", \"breaking\", \"obama\", \"call\", \"liberal\", \"video\", \"look\", \"democrat\", \"republican\", \"watch\", \"best\", \"wrong\", \"without\", \"theyre\", \"there\", \"justice\", \"hey\", \"safe\", \"tonight\", \"mind\", \"ive\", \"seen\", \"stupid\", \"respect\", \"far\", \"exactly\", \"guess\", \"amendment\", \"west\", \"chance\", \"youll\", \"2nd\", \"lady\", \"sense\", \"heard\", \"common\", \"speak\", \"probably\", \"term\", \"absolutely\", \"tnp\", \"thought\", \"lost\", \"future\", \"everyone\", \"hell\", \"ever\", \"nothing\", \"right\", \"point\", \"love\", \"would\", \"way\", \"youre\", \"never\", \"live\", \"think\", \"little\", \"time\", \"guy\", \"thing\", \"like\", \"free\", \"people\", \"say\", \"make\", \"going\", \"first\", \"day\", \"muslim\", \"refugee\", \"terrorist\", \"isi\", \"school\", \"islam\", \"dead\", \"girl\", \"court\", \"islamic\", \"terror\", \"europe\", \"christmas\", \"night\", \"syria\", \"syrian\", \"terrorism\", \"radical\", \"killing\", \"welcome\", \"israel\", \"rape\", \"germany\", \"migrant\", \"enemy\", \"die\", \"gay\", \"france\", \"arm\", \"kind\", \"kill\", \"killed\", \"ban\", \"attack\", \"child\", \"woman\", \"control\", \"gun\", \"old\", \"say\", \"obama\", \"immigrant\", \"law\", \"man\", \"people\", \"american\", \"hillary\", \"clinton\", \"email\", \"paul\", \"retweet\", \"1\", \"share\", \"putin\", \"happened\", \"liar\", \"foundation\", \"rice\", \"ryan\", \"susan\", \"joke\", \"phone\", \"follower\", \"eye\", \"saw\", \"interest\", \"walk\", \"loss\", \"reminder\", \"pic\", \"investigate\", \"spread\", \"peaceful\", \"ignore\", \"collusion\", \"hack\", \"election\", \"russia\", \"russian\", \"campaign\", \"bill\", \"vote\", \"dnc\", \"potus\", \"medium\", \"lying\", \"investigation\", \"running\", \"obama\", \"realdonaldtrump\", \"blame\", \"crime\", \"well\", \"democrat\", \"show\", \"money\", \"say\", \"white\", \"police\", \"house\", \"bernie\", \"officer\", \"north\", \"korea\", \"sander\", \"antifa\", \"christian\", \"carson\", \"ben\", \"governor\", \"suspect\", \"south\", \"response\", \"mad\", \"violent\", \"thug\", \"interview\", \"warning\", \"kim\", \"church\", \"virginia\", \"outside\", \"steve\", \"probe\", \"hearing\", \"warns\", \"bank\", \"cnn\", \"china\", \"calling\", \"breaking\", \"shot\", \"video\", \"protest\", \"trump\", \"evidence\", \"home\", \"liberal\", \"supporter\", \"attack\", \"call\", \"news\", \"post\", \"war\", \"fake\", \"history\", \"washington\", \"account\", \"ready\", \"george\", \"fox\", \"cut\", \"cia\", \"daily\", \"planned\", \"damn\", \"event\", \"defense\", \"civil\", \"mistake\", \"loretta\", \"parenthood\", \"birthday\", \"shoot\", \"jim\", \"alert\", \"targeted\", \"iraq\", \"prof\", \"youve\", \"iowa\", \"via\", \"latest\", \"plan\", \"happy\", \"photo\", \"soros\", \"tax\", \"wow\", \"release\", \"worst\", \"top\", \"medium\", \"billion\", \"former\", \"obama\", \"million\", \"video\", \"city\", \"bless\", \"college\", \"climate\", \"food\", \"activist\", \"sanctuary\", \"2\", \"rubio\", \"close\", \"university\", \"penny\", \"mexico\", \"test\", \"area\", \"secretary\", \"wanna\", \"rise\", \"anymore\", \"awesome\", \"short\", \"powerful\", \"pen\", \"choose\", \"color\", \"carolina\", \"sale\", \"fair\", \"sen\", \"tear\", \"marine\", \"student\", \"check\", \"texas\", \"change\", \"california\", \"rally\", \"free\", \"press\", \"dog\", \"mike\", \"pay\", \"judge\", \"speech\", \"moment\", \"state\", \"gun\", \"york\", \"black\", \"illegal\", \"matter\", \"agree\", \"iran\", \"barack\", \"prison\", \"son\", \"ago\", \"sex\", \"drug\", \"alien\", \"michelle\", \"middle\", \"kelly\", \"star\", \"rep\", \"mom\", \"inside\", \"totally\", \"single\", \"interesting\", \"riot\", \"pres\", \"alozrast\", \"charged\", \"east\", \"worth\", \"safety\", \"gang\", \"year\", \"party\", \"deal\", \"using\", \"life\", \"obama\", \"member\", \"cop\", \"via\", \"death\", \"political\", \"flag\", \"racist\", \"american\", \"woman\", \"criminal\", \"win\", \"candidate\", \"fbi\", \"whats\", \"yes\", \"race\", \"obamacare\", \"bush\", \"gonna\", \"behind\", \"presidential\", \"meet\", \"review\", \"shit\", \"sorry\", \"wanted\", \"whole\", \"repeal\", \"primary\", \"michael\", \"fun\", \"movie\", \"lied\", \"reality\", \"breitbart\", \"different\", \"disgusting\", \"card\", \"surprise\", \"2020\", \"isnt\", \"2016\", \"james\", \"truth\", \"question\", \"comey\", \"lie\", \"another\", \"game\", \"run\", \"report\", \"time\", \"debate\", \"obamas\", \"election\"], \"Total\": [91723.0, 29399.0, 20631.0, 15379.0, 22205.0, 13905.0, 17272.0, 41047.0, 17768.0, 12148.0, 14476.0, 14439.0, 11982.0, 10708.0, 10420.0, 23179.0, 17971.0, 9269.0, 10958.0, 7381.0, 9557.0, 12372.0, 14793.0, 12006.0, 13629.0, 6714.0, 7248.0, 9027.0, 9267.0, 6260.0, 17272.826171875, 14476.16015625, 14439.123046875, 9557.5908203125, 7283.806640625, 7269.33447265625, 6356.0771484375, 4213.27099609375, 3629.910888671875, 3157.0576171875, 3088.610595703125, 2573.33984375, 2190.081787109375, 2097.919921875, 2048.982666015625, 1846.1427001953125, 1735.28173828125, 1671.1849365234375, 1610.980224609375, 1599.541748046875, 1579.741455078125, 1502.6004638671875, 1472.233642578125, 1457.500244140625, 1402.19482421875, 1401.36865234375, 1392.7149658203125, 1390.3887939453125, 1364.8651123046875, 1346.97607421875, 12006.57421875, 12372.06640625, 17971.609375, 5410.07763671875, 23179.376953125, 8003.1513671875, 8426.63671875, 7089.49169921875, 4540.79150390625, 16537.076171875, 5157.56591796875, 8334.83984375, 3391.788330078125, 9759.15625, 5379.2763671875, 4583.94775390625, 4003.4033203125, 4989.39404296875, 17484.751953125, 6474.86376953125, 11432.5205078125, 7507.98095703125, 7856.05419921875, 7289.9560546875, 13629.5908203125, 11209.6787109375, 9267.6123046875, 15313.03125, 22205.044921875, 9646.212890625, 10995.375, 10958.916015625, 5530.34765625, 4168.3515625, 3791.5048828125, 3298.76171875, 3203.779052734375, 3157.349853515625, 2929.4599609375, 2816.957275390625, 2526.859130859375, 2503.661865234375, 2155.683349609375, 1912.9088134765625, 1819.6446533203125, 1707.270263671875, 1687.9193115234375, 1612.329345703125, 1578.717529296875, 1561.3336181640625, 1546.958984375, 1516.151123046875, 1391.3031005859375, 1391.2999267578125, 1380.552490234375, 1377.583984375, 1342.47119140625, 1332.468994140625, 1322.6326904296875, 1300.7724609375, 1292.678955078125, 91723.796875, 7429.57958984375, 22205.044921875, 5692.23828125, 3226.044677734375, 5396.21875, 2645.413330078125, 3705.46923828125, 1781.879638671875, 7528.92333984375, 4121.94873046875, 12322.201171875, 5975.03857421875, 3214.025634765625, 4783.1943359375, 2858.02587890625, 14793.259765625, 41047.4453125, 10328.91015625, 12969.640625, 15735.2294921875, 10995.375, 10653.3681640625, 6854.32568359375, 8963.3720703125, 5472.716796875, 3363.619873046875, 2937.77099609375, 2718.762451171875, 2549.86962890625, 2353.743896484375, 2310.763916015625, 2206.860595703125, 2133.335205078125, 1974.5069580078125, 1889.541748046875, 1850.8717041015625, 1838.3321533203125, 1813.8455810546875, 1770.711669921875, 1768.0457763671875, 1765.0736083984375, 1673.9989013671875, 1626.4910888671875, 1566.601318359375, 1417.6922607421875, 1323.6676025390625, 1295.9801025390625, 1290.40869140625, 1259.535888671875, 1235.5924072265625, 1195.523193359375, 1193.914306640625, 1183.8629150390625, 1120.9786376953125, 1687.5521240234375, 2887.35205078125, 3471.90673828125, 1861.604248046875, 3311.2998046875, 2763.578369140625, 5083.68310546875, 4976.90673828125, 13629.5908203125, 3122.067138671875, 7880.8583984375, 10305.208984375, 6593.9853515625, 5877.09619140625, 9112.80859375, 4768.09228515625, 11432.5205078125, 2727.353515625, 15313.03125, 4112.7412109375, 7289.9560546875, 17971.609375, 7039.30029296875, 23179.376953125, 19364.91796875, 16537.076171875, 7427.623046875, 7835.9501953125, 11209.6787109375, 12148.048828125, 7248.91650390625, 6770.90576171875, 6311.18115234375, 4027.012451171875, 3874.057861328125, 3758.972412109375, 3682.519287109375, 2972.226806640625, 2934.221923828125, 2638.39306640625, 2405.973388671875, 2382.787841796875, 2349.005615234375, 2163.570068359375, 2120.522705078125, 2094.996826171875, 1929.2520751953125, 1895.6405029296875, 1891.3385009765625, 1862.1724853515625, 1755.2978515625, 1652.9833984375, 1614.5635986328125, 1611.667724609375, 1584.1182861328125, 1580.674560546875, 1494.6507568359375, 1449.4993896484375, 1356.4066162109375, 4232.41064453125, 4522.5712890625, 3355.832275390625, 9027.2060546875, 5731.728515625, 11691.7939453125, 3955.125, 10292.626953125, 3458.677978515625, 19364.91796875, 41047.4453125, 2591.1943359375, 7911.9052734375, 9102.462890625, 23179.376953125, 17484.751953125, 29399.48828125, 20631.978515625, 4954.28369140625, 2502.567138671875, 2468.3603515625, 2368.866943359375, 2193.35888671875, 1915.396728515625, 1882.4700927734375, 1862.030029296875, 1748.436279296875, 1700.7587890625, 1636.9842529296875, 1484.2115478515625, 1474.4490966796875, 1392.2867431640625, 1378.786376953125, 1371.101318359375, 1338.775146484375, 1332.0362548828125, 1249.4261474609375, 1206.3466796875, 1162.337646484375, 1111.34228515625, 1095.7474365234375, 1025.6695556640625, 991.01806640625, 963.5337524414062, 958.0888061523438, 957.4954833984375, 6988.66015625, 6366.58837890625, 4035.548583984375, 6094.42431640625, 7470.6494140625, 10443.076171875, 2535.2021484375, 5569.54541015625, 13006.9658203125, 2416.863525390625, 3246.891845703125, 2254.7119140625, 41047.4453125, 3574.306640625, 2676.7158203125, 3747.800537109375, 6241.80908203125, 10653.3681640625, 8290.6015625, 7856.05419921875, 19364.91796875, 13905.2119140625, 10708.0029296875, 10420.2177734375, 5129.06005859375, 5079.6025390625, 4634.4560546875, 4522.48193359375, 4421.6318359375, 4080.34423828125, 3632.1455078125, 2709.96044921875, 2600.228759765625, 1890.207763671875, 1888.0318603515625, 1856.4337158203125, 1788.023681640625, 1778.167724609375, 1716.710693359375, 1681.5894775390625, 1681.4615478515625, 1644.491943359375, 1638.621337890625, 1551.753662109375, 1534.9466552734375, 1486.4068603515625, 1459.3087158203125, 1416.1619873046875, 1280.462646484375, 1236.28076171875, 1229.619873046875, 7496.1650390625, 2218.48828125, 2607.3876953125, 14793.259765625, 3789.116455078125, 15735.2294921875, 3496.91455078125, 91723.796875, 2021.0863037109375, 3987.51220703125, 12969.640625, 7528.92333984375, 9027.2060546875, 10328.91015625, 15379.3798828125, 7381.12109375, 6714.8583984375, 6260.26904296875, 4255.7490234375, 2901.765380859375, 2566.62109375, 2523.19140625, 2514.5390625, 2444.0224609375, 1877.375, 1795.6907958984375, 1741.9178466796875, 1716.1549072265625, 1655.3037109375, 1536.1126708984375, 1445.4171142578125, 1381.140869140625, 1357.5452880859375, 1271.3980712890625, 1234.58056640625, 1210.4296875, 1206.074951171875, 1201.03271484375, 1172.6915283203125, 1165.53662109375, 1151.7335205078125, 1138.1019287109375, 1112.3177490234375, 1082.7872314453125, 17768.97265625, 2693.472412109375, 5539.88134765625, 3748.667236328125, 2910.148681640625, 2850.010498046875, 3934.552978515625, 3023.48681640625, 1976.92724609375, 2029.701904296875, 3674.814208984375, 13006.9658203125, 2029.8515625, 3114.390869140625, 41047.4453125, 6355.51171875, 15735.2294921875, 5042.96533203125, 3162.7294921875, 2190.387451171875, 2116.181396484375, 2025.008056640625, 1760.1868896484375, 1715.8134765625, 1593.0123291015625, 1539.7574462890625, 1497.3489990234375, 1456.0380859375, 1312.732177734375, 1276.1068115234375, 1244.2789306640625, 1209.173583984375, 1208.3511962890625, 1176.438720703125, 1168.5404052734375, 1160.2520751953125, 1131.4874267578125, 1100.6041259765625, 1086.2791748046875, 1071.00830078125, 1066.7100830078125, 1062.614501953125, 1040.361083984375, 1022.3287963867188, 1017.6813354492188, 1010.0142822265625, 1001.662353515625, 1663.2611083984375, 3014.102294921875, 2395.3857421875, 2823.209716796875, 4689.37451171875, 3020.353759765625, 4109.08935546875, 7039.30029296875, 2416.043701171875, 2451.3916015625, 1789.623779296875, 3566.082275390625, 3724.108154296875, 4423.294921875, 1916.03173828125, 12322.201171875, 10292.626953125, 2056.291259765625, 9269.80078125, 4866.69580078125, 3738.831298828125, 3350.473876953125, 3220.728271484375, 2483.73974609375, 2148.96826171875, 1998.8338623046875, 1952.1529541015625, 1929.159423828125, 1784.37060546875, 1729.09716796875, 1702.914794921875, 1662.0313720703125, 1632.573486328125, 1621.92919921875, 1602.3955078125, 1469.84814453125, 1410.6932373046875, 1382.391357421875, 1359.079345703125, 1324.3956298828125, 1289.0303955078125, 1206.5130615234375, 1165.4613037109375, 1154.746337890625, 1127.995361328125, 1119.9710693359375, 1111.2073974609375, 1106.5052490234375, 11982.9990234375, 5496.2158203125, 4416.03369140625, 2405.120361328125, 9267.6123046875, 41047.4453125, 2613.855224609375, 3081.047607421875, 17768.97265625, 4407.6533203125, 3798.06103515625, 3927.79833984375, 5409.62939453125, 17484.751953125, 11691.7939453125, 3845.417724609375, 5764.91650390625, 4900.29833984375, 4731.388671875, 3542.97216796875, 3334.0849609375, 3251.382080078125, 3226.2265625, 2606.30126953125, 2558.2451171875, 2547.266357421875, 2351.438720703125, 2096.908935546875, 1877.14501953125, 1796.717529296875, 1762.3023681640625, 1687.33642578125, 1557.4996337890625, 1550.4317626953125, 1508.4622802734375, 1481.47509765625, 1434.6370849609375, 1402.3427734375, 1369.0596923828125, 1341.180419921875, 1282.906494140625, 1280.6422119140625, 1258.9853515625, 1223.677490234375, 1218.78662109375, 1211.92724609375, 4719.78125, 3642.062255859375, 2782.9326171875, 5296.154296875, 3431.48583984375, 3947.50732421875, 4920.7548828125, 6578.6064453125, 2712.2119140625, 3420.123046875, 5983.6083984375, 15313.03125, 3215.02880859375, 5816.77880859375, 6988.66015625], \"loglift\": [30.0, 29.0, 28.0, 27.0, 26.0, 25.0, 24.0, 23.0, 22.0, 21.0, 20.0, 19.0, 18.0, 17.0, 16.0, 15.0, 14.0, 13.0, 12.0, 11.0, 10.0, 9.0, 8.0, 7.0, 6.0, 5.0, 4.0, 3.0, 2.0, 1.0, 1.8271000385284424, 1.8271000385284424, 1.8271000385284424, 1.8271000385284424, 1.8270000219345093, 1.8270000219345093, 1.8270000219345093, 1.8269000053405762, 1.8269000053405762, 1.8269000053405762, 1.8269000053405762, 1.826799988746643, 1.82669997215271, 1.82669997215271, 1.82669997215271, 1.8265999555587769, 1.8265999555587769, 1.8265999555587769, 1.8265999555587769, 1.8265999555587769, 1.8265999555587769, 1.8265000581741333, 1.8265000581741333, 1.8265000581741333, 1.8265000581741333, 1.8265000581741333, 1.8265000581741333, 1.8265000581741333, 1.8265000581741333, 1.8264000415802002, 1.669600009918213, 1.660599946975708, 1.5844000577926636, 1.6718000173568726, 1.4912999868392944, 1.5964000225067139, 1.5497000217437744, 1.569599986076355, 1.6253000497817993, 1.3747999668121338, 1.6009000539779663, 1.4872000217437744, 1.6748000383377075, 1.4385000467300415, 1.558899998664856, 1.5721999406814575, 1.6131999492645264, 1.5276999473571777, 1.059000015258789, 1.4189000129699707, 1.1684999465942383, 1.3174999952316284, 1.2862000465393066, 1.319200038909912, 0.8083000183105469, 0.9279000163078308, 1.0723999738693237, 0.6370000243186951, 0.28780001401901245, 1.0351999998092651, 0.9110999703407288, 2.0557000637054443, 2.0557000637054443, 2.0555999279022217, 2.0555999279022217, 2.055500030517578, 2.055500030517578, 2.055500030517578, 2.055500030517578, 2.055500030517578, 2.055500030517578, 2.055500030517578, 2.0553998947143555, 2.055299997329712, 2.055299997329712, 2.055299997329712, 2.055299997329712, 2.0552000999450684, 2.0552000999450684, 2.0552000999450684, 2.0552000999450684, 2.0552000999450684, 2.0550999641418457, 2.0550999641418457, 2.0550999641418457, 2.0550999641418457, 2.0550999641418457, 2.0550999641418457, 2.0550999641418457, 2.0550999641418457, 2.0550999641418457, 1.8883999586105347, 1.9282000064849854, 1.8142999410629272, 1.8889000415802002, 1.9508999586105347, 1.8772000074386597, 1.9667999744415283, 1.906499981880188, 2.0171000957489014, 1.7626999616622925, 1.863700032234192, 1.5104999542236328, 1.6024999618530273, 1.8062000274658203, 1.6516000032424927, 1.8420000076293945, 1.0891000032424927, 0.48010000586509705, 1.1414999961853027, 0.9995999932289124, 0.7439000010490417, 0.9230999946594238, 0.8159999847412109, 1.1746000051498413, 0.9132999777793884, 2.266900062561035, 2.2667999267578125, 2.266700029373169, 2.266700029373169, 2.266700029373169, 2.266700029373169, 2.2665998935699463, 2.2665998935699463, 2.2665998935699463, 2.2665998935699463, 2.2665998935699463, 2.2664999961853027, 2.2664999961853027, 2.2664999961853027, 2.2664999961853027, 2.2664999961853027, 2.2664999961853027, 2.2664999961853027, 2.2664999961853027, 2.266400098800659, 2.266400098800659, 2.2662999629974365, 2.2662999629974365, 2.2662999629974365, 2.2662999629974365, 2.2662999629974365, 2.2662999629974365, 2.2662999629974365, 2.266200065612793, 2.266200065612793, 2.2629001140594482, 2.1833999156951904, 2.124500036239624, 2.2070999145507812, 2.124300003051758, 2.1285998821258545, 2.01419997215271, 1.9175000190734863, 1.6253999471664429, 2.0255000591278076, 1.6937999725341797, 1.5285999774932861, 1.6526999473571777, 1.6711000204086304, 1.4014999866485596, 1.7175999879837036, 1.2115000486373901, 2.0102999210357666, 0.9466999769210815, 1.7594000101089478, 1.3461999893188477, 0.7322999835014343, 1.3210999965667725, 0.38909998536109924, 0.4916999936103821, 0.570900022983551, 1.2412999868392944, 1.1497999429702759, 0.7319999933242798, 2.2741000652313232, 2.2741000652313232, 2.2741000652313232, 2.2739999294281006, 2.2739999294281006, 2.273900032043457, 2.273900032043457, 2.273900032043457, 2.273900032043457, 2.273900032043457, 2.2737998962402344, 2.2737998962402344, 2.2737998962402344, 2.2737998962402344, 2.273699998855591, 2.273699998855591, 2.273699998855591, 2.273699998855591, 2.273699998855591, 2.273699998855591, 2.273699998855591, 2.2736001014709473, 2.2736001014709473, 2.2736001014709473, 2.2736001014709473, 2.2736001014709473, 2.2736001014709473, 2.2734999656677246, 2.2734999656677246, 2.2734999656677246, 2.20740008354187, 2.1802000999450684, 2.178999900817871, 2.0481998920440674, 2.0785999298095703, 1.8279000520706177, 1.9993000030517578, 1.597000002861023, 1.957200050354004, 0.9042999744415283, 0.3334999978542328, 2.0625998973846436, 1.3016999959945679, 1.1311999559402466, 0.25189998745918274, 0.17219999432563782, 2.338900089263916, 2.338900089263916, 2.33870005607605, 2.3385000228881836, 2.3385000228881836, 2.3385000228881836, 2.3385000228881836, 2.338399887084961, 2.338399887084961, 2.338399887084961, 2.3382999897003174, 2.3382999897003174, 2.3382999897003174, 2.3382999897003174, 2.338200092315674, 2.338200092315674, 2.338200092315674, 2.338200092315674, 2.338200092315674, 2.338200092315674, 2.338099956512451, 2.338099956512451, 2.338099956512451, 2.3380000591278076, 2.3380000591278076, 2.3380000591278076, 2.337899923324585, 2.337899923324585, 2.337899923324585, 2.337899923324585, 2.038800001144409, 2.011699914932251, 2.044600009918213, 1.8846999406814575, 1.8286000490188599, 1.702299952507019, 2.0961999893188477, 1.8600000143051147, 1.5871000289916992, 2.072700023651123, 1.9501999616622925, 2.0820000171661377, 0.5716999769210815, 1.8386000394821167, 1.9823999404907227, 1.7913000583648682, 1.496399998664856, 0.8907999992370605, 0.9032999873161316, 0.9010000228881836, 0.0414000004529953, 2.378999948501587, 2.378999948501587, 2.378999948501587, 2.3789000511169434, 2.3789000511169434, 2.3789000511169434, 2.3789000511169434, 2.3789000511169434, 2.3789000511169434, 2.3789000511169434, 2.3787999153137207, 2.378700017929077, 2.3785998821258545, 2.3785998821258545, 2.3785998821258545, 2.3785998821258545, 2.3785998821258545, 2.3785998821258545, 2.378499984741211, 2.378499984741211, 2.378499984741211, 2.378499984741211, 2.378499984741211, 2.378499984741211, 2.378499984741211, 2.378499984741211, 2.3784000873565674, 2.3784000873565674, 2.3782999515533447, 2.3782999515533447, 2.197200059890747, 2.2172000408172607, 2.164400100708008, 1.6171000003814697, 2.0411999225616455, 1.5190000534057617, 2.029099941253662, 0.5094000101089478, 2.2128000259399414, 1.6160000562667847, 0.526199996471405, 1.0087000131607056, 0.7806000113487244, 0.6292999982833862, 2.501499891281128, 2.5013999938964844, 2.5013999938964844, 2.5013999938964844, 2.501300096511841, 2.501199960708618, 2.501199960708618, 2.501199960708618, 2.501199960708618, 2.501199960708618, 2.500999927520752, 2.500999927520752, 2.500999927520752, 2.500999927520752, 2.500999927520752, 2.5009000301361084, 2.5009000301361084, 2.5009000301361084, 2.5009000301361084, 2.5007998943328857, 2.5007998943328857, 2.5007998943328857, 2.5007998943328857, 2.5007998943328857, 2.500699996948242, 2.500699996948242, 2.500699996948242, 2.500699996948242, 2.500699996948242, 2.500699996948242, 2.056999921798706, 2.3187999725341797, 2.01200008392334, 2.118000030517578, 2.170300006866455, 2.142199993133545, 2.0074000358581543, 2.101900100708008, 2.2834999561309814, 2.2158000469207764, 1.8660999536514282, 1.0712000131607056, 2.1898000240325928, 1.8381999731063843, -0.3402000069618225, 1.1088000535964966, 0.20649999380111694, 2.5201001167297363, 2.5199999809265137, 2.51990008354187, 2.51990008354187, 2.5197999477386475, 2.5197999477386475, 2.5197999477386475, 2.519700050354004, 2.519700050354004, 2.519700050354004, 2.519700050354004, 2.5195999145507812, 2.5195999145507812, 2.5195000171661377, 2.5195000171661377, 2.5195000171661377, 2.5195000171661377, 2.5195000171661377, 2.5195000171661377, 2.5195000171661377, 2.519399881362915, 2.519399881362915, 2.519399881362915, 2.519399881362915, 2.519399881362915, 2.519399881362915, 2.519399881362915, 2.519399881362915, 2.519399881362915, 2.519399881362915, 2.410799980163574, 2.2578999996185303, 2.233099937438965, 2.1696999073028564, 1.968500018119812, 2.0862998962402344, 1.8507000207901, 1.5714999437332153, 2.101099967956543, 2.0752999782562256, 2.240799903869629, 1.8181999921798706, 1.725100040435791, 1.5957000255584717, 2.1763999462127686, 0.6577000021934509, 0.6987000107765198, 2.0771000385284424, 2.5487000942230225, 2.5485999584198, 2.5485999584198, 2.5485999584198, 2.5485000610351562, 2.5485000610351562, 2.5483999252319336, 2.5483999252319336, 2.5483999252319336, 2.54830002784729, 2.54830002784729, 2.54830002784729, 2.54830002784729, 2.54830002784729, 2.54830002784729, 2.54830002784729, 2.5481998920440674, 2.5481998920440674, 2.5481998920440674, 2.548099994659424, 2.548099994659424, 2.548099994659424, 2.548099994659424, 2.5480000972747803, 2.5480000972747803, 2.5480000972747803, 2.5480000972747803, 2.5480000972747803, 2.5480000972747803, 2.5480000972747803, 2.3986001014709473, 2.2713000774383545, 2.2493999004364014, 2.36299991607666, 1.9134999513626099, 1.4198999404907227, 2.2293999195098877, 2.1435000896453857, 0.9824000000953674, 1.7929999828338623, 1.8849999904632568, 1.8460999727249146, 1.5951000452041626, 0.4966000020503998, 0.8108000159263611, 1.769700050354004, 2.5897998809814453, 2.5897998809814453, 2.5897998809814453, 2.5896999835968018, 2.5896999835968018, 2.5896999835968018, 2.5896999835968018, 2.589600086212158, 2.589600086212158, 2.589600086212158, 2.589600086212158, 2.5894999504089355, 2.5894999504089355, 2.5894999504089355, 2.5894999504089355, 2.589400053024292, 2.589400053024292, 2.589400053024292, 2.589400053024292, 2.5892999172210693, 2.5892999172210693, 2.5892999172210693, 2.5892999172210693, 2.5892999172210693, 2.589200019836426, 2.589200019836426, 2.589200019836426, 2.589200019836426, 2.589200019836426, 2.589200019836426, 2.392699956893921, 2.300100088119507, 2.3132998943328857, 2.043600082397461, 2.1582000255584717, 2.0703999996185303, 1.8867000341415405, 1.6894999742507935, 2.190700054168701, 2.026599884033203, 1.5614999532699585, 0.7329000234603882, 1.9804999828338623, 1.4744999408721924, 1.2395000457763672], \"logprob\": [30.0, 29.0, 28.0, 27.0, 26.0, 25.0, 24.0, 23.0, 22.0, 21.0, 20.0, 19.0, 18.0, 17.0, 16.0, 15.0, 14.0, 13.0, 12.0, 11.0, 10.0, 9.0, 8.0, 7.0, 6.0, 5.0, 4.0, 3.0, 2.0, 1.0, -3.871500015258789, -4.0482001304626465, -4.0507001876831055, -4.463399887084961, -4.735099792480469, -4.737100124359131, -4.871399879455566, -5.282599925994873, -5.431700229644775, -5.571300029754639, -5.593200206756592, -5.7758002281188965, -5.937099933624268, -5.980100154876709, -6.003699779510498, -6.107999801635742, -6.170000076293945, -6.207699775695801, -6.2444000244140625, -6.251500129699707, -6.263999938964844, -6.3140997886657715, -6.334499835968018, -6.344600200653076, -6.383299827575684, -6.383900165557861, -6.390100002288818, -6.39169979095459, -6.410299777984619, -6.423500061035156, -4.3927001953125, -4.371699810028076, -4.0746002197265625, -5.187699794769287, -3.9131999015808105, -4.871600151062012, -4.866600036621094, -5.019599914550781, -5.40939998626709, -4.367300033569336, -5.306399822235107, -4.940199851989746, -5.651599884033203, -4.831099987030029, -5.306399822235107, -5.453000068664551, -5.547500133514404, -5.412700176239014, -4.627500057220459, -5.261000156402588, -4.942800045013428, -5.214300155639648, -5.200300216674805, -5.242099761962891, -5.127200126647949, -5.203100204467773, -5.248799800872803, -5.182000160217285, -5.1596999168396, -5.245999813079834, -5.239200115203857, -4.097899913787842, -4.781899929046631, -5.064700126647949, -5.15939998626709, -5.298699855804443, -5.327899932861328, -5.34250020980835, -5.417500019073486, -5.456600189208984, -5.565400123596191, -5.5746002197265625, -5.724299907684326, -5.843800067901611, -5.893799781799316, -5.957600116729736, -5.968999862670898, -6.014900207519531, -6.035900115966797, -6.046999931335449, -6.056300163269043, -6.076499938964844, -6.162399768829346, -6.162399768829346, -6.170199871063232, -6.172299861907959, -6.198200225830078, -6.205599784851074, -6.213099956512451, -6.229700088500977, -6.236000061035156, -2.1405999660491943, -4.614200115203857, -3.6331000328063965, -4.9197998046875, -5.425600051879883, -4.984799861907959, -5.608099937438965, -5.331500053405762, -5.953000068664551, -4.76639986038208, -5.2677998542785645, -4.525899887084961, -5.157700061798096, -5.573999881744385, -5.331099987030029, -5.655700206756592, -4.764599800109863, -4.353000164031982, -5.071400165557861, -4.985599994659424, -5.047900199890137, -5.227200031280518, -5.365900039672852, -5.448299884796143, -5.441400051116943, -4.581099987030029, -5.067999839782715, -5.203400135040283, -5.280900001525879, -5.345099925994873, -5.425099849700928, -5.443600177764893, -5.48960018157959, -5.523499965667725, -5.600900173187256, -5.644899845123291, -5.665599822998047, -5.672399997711182, -5.685800075531006, -5.70989990234375, -5.711400032043457, -5.713099956512451, -5.76609992980957, -5.794899940490723, -5.832399845123291, -5.932400226593018, -6.001100063323975, -6.022200107574463, -6.026500225067139, -6.05079984664917, -6.070000171661377, -6.103000164031982, -6.104300022125244, -6.112800121307373, -6.167399883270264, -5.76170015335083, -5.304100036621094, -5.178599834442139, -5.719200134277344, -5.226099967956543, -5.402699947357178, -4.90749979019165, -5.0254998207092285, -4.310200214385986, -5.383800029754639, -4.789599895477295, -4.686500072479248, -5.008900165557861, -5.105599880218506, -4.936600208282471, -5.268199920654297, -4.899799823760986, -5.534200191497803, -4.872399806976318, -5.374300003051758, -5.215099811553955, -4.926700115203857, -5.275199890136719, -5.015500068664551, -5.092599868774414, -5.171299934387207, -5.301300048828125, -5.339300155639648, -5.39900016784668, -3.7764999866485596, -4.292900085449219, -4.361100196838379, -4.431399822235107, -4.880799770355225, -4.91949987411499, -4.949699878692627, -4.970300197601318, -5.184599876403809, -5.197500228881836, -5.303800106048584, -5.395999908447266, -5.405700206756592, -5.420000076293945, -5.502299785614014, -5.52239990234375, -5.5345001220703125, -5.617000102996826, -5.6346001625061035, -5.6367998123168945, -5.652400016784668, -5.71150016784668, -5.771599769592285, -5.795100212097168, -5.796899795532227, -5.814199924468994, -5.816400051116943, -5.872399806976318, -5.9029998779296875, -5.9695000648498535, -4.897600173950195, -4.85860013961792, -5.158100128173828, -4.2993998527526855, -4.723199844360352, -4.261000156402588, -5.173500061035156, -4.6194000244140625, -5.349699974060059, -4.679999828338623, -4.499499797821045, -5.533100128173828, -5.177700042724609, -5.208099842071533, -5.152699947357178, -5.5142998695373535, -2.827899932861328, -3.1821000576019287, -4.608799934387207, -5.291999816894531, -5.305699825286865, -5.34689998626709, -5.423900127410889, -5.559500217437744, -5.5767998695373535, -5.587699890136719, -5.650700092315674, -5.678400039672852, -5.716599941253662, -5.814700126647949, -5.821300029754639, -5.878600120544434, -5.888400077819824, -5.894000053405762, -5.917900085449219, -5.922900199890137, -5.986999988555908, -6.02209997177124, -6.059299945831299, -6.1041998863220215, -6.118299961090088, -6.184500217437744, -6.218900203704834, -6.247000217437744, -6.252699851989746, -6.253300189971924, -4.564700126647949, -4.685100078582764, -5.108099937438965, -4.8557000160217285, -4.708199977874756, -4.499599933624268, -5.521299839019775, -4.9704999923706055, -4.395199775695801, -5.592599868774414, -5.419899940490723, -5.6528000831604, -4.26140022277832, -5.435400009155273, -5.5808000564575195, -5.435299873352051, -5.220099925994873, -5.291100025177002, -5.529300212860107, -5.5854997634887695, -5.543000221252441, -3.5364999771118164, -3.797800064086914, -3.825000047683716, -4.533899784088135, -4.543600082397461, -4.63539981842041, -4.659800052642822, -4.682400226593018, -4.762700080871582, -4.8790998458862305, -5.172100067138672, -5.213399887084961, -5.53249979019165, -5.533599853515625, -5.55049991607666, -5.588099956512451, -5.593599796295166, -5.628799915313721, -5.649499893188477, -5.649600028991699, -5.671800136566162, -5.6753997802734375, -5.729899883270264, -5.740799903869629, -5.7729997634887695, -5.791399955749512, -5.821400165557861, -5.9222002029418945, -5.957300186157227, -5.962699890136719, -4.33620023727417, -5.53380012512207, -5.425000190734863, -4.236499786376953, -5.174499988555908, -4.272900104522705, -5.2667999267578125, -3.5195999145507812, -5.63129997253418, -5.548699855804443, -5.459000110626221, -5.520299911499023, -5.56689977645874, -5.583499908447266, -3.3132998943328857, -4.047399997711182, -4.142099857330322, -4.212200164794922, -4.598199844360352, -4.981200218200684, -5.104000091552734, -5.121099948883057, -5.124499797821045, -5.1529998779296875, -5.416900157928467, -5.461400032043457, -5.491799831390381, -5.506700038909912, -5.542799949645996, -5.617599964141846, -5.678500175476074, -5.723999977111816, -5.741300106048584, -5.8069000244140625, -5.836299896240234, -5.855999946594238, -5.8597002029418945, -5.863800048828125, -5.887700080871582, -5.893899917602539, -5.905799865722656, -5.917699813842773, -5.9405999183654785, -5.967599868774414, -3.613300085067749, -5.238100051879883, -4.823800086975098, -5.10830020904541, -5.309199810028076, -5.35830020904541, -5.170599937438965, -5.3394999504089355, -5.582799911499023, -5.624100208282471, -5.380199909210205, -4.911099910736084, -5.650000095367432, -5.573599815368652, -5.1732001304626465, -5.589700222015381, -5.585400104522705, -4.4096999168396, -4.876299858093262, -5.243800163269043, -5.278299808502197, -5.322400093078613, -5.462600231170654, -5.488100051879883, -5.562399864196777, -5.596499919891357, -5.6244001388549805, -5.652400016784668, -5.756100177764893, -5.78439998626709, -5.809700012207031, -5.8383002281188965, -5.839000225067139, -5.865799903869629, -5.872499942779541, -5.879700183868408, -5.904799938201904, -5.932499885559082, -5.9456000328063965, -5.959799766540527, -5.963799953460693, -5.967599868774414, -5.988800048828125, -6.00629997253418, -6.010900020599365, -6.018499851226807, -6.026800155639648, -5.628200054168701, -5.186600208282471, -5.441199779510498, -5.3403000831604, -5.033999919891357, -5.356100082397461, -5.283899784088135, -5.024799823760986, -5.564499855041504, -5.575799942016602, -5.724999904632568, -5.458099842071533, -5.507900238037109, -5.465199947357178, -5.721199989318848, -5.378600120544434, -5.517600059509277, -5.74970006942749, -3.7723000049591064, -4.4166998863220215, -4.6803998947143555, -4.79010009765625, -4.829599857330322, -5.089600086212158, -5.234399795532227, -5.3069000244140625, -5.33050012588501, -5.342400074005127, -5.420400142669678, -5.451900005340576, -5.467199802398682, -5.491499900817871, -5.509399890899658, -5.515900135040283, -5.5279998779296875, -5.6143999099731445, -5.6554999351501465, -5.67579984664917, -5.692800045013428, -5.718699932098389, -5.745800018310547, -5.811999797821045, -5.846700191497803, -5.855899810791016, -5.87939977645874, -5.886499881744385, -5.894400119781494, -5.898600101470947, -3.6656999588012695, -4.572400093078613, -4.813199996948242, -5.307199954986572, -4.407700061798096, -3.4131999015808105, -5.357500076293945, -5.2789998054504395, -4.687900066375732, -5.271399974822998, -5.3282999992370605, -5.333600044250488, -5.264500141143799, -5.189899921417236, -5.27810001373291, -5.43120002746582, -4.206200122833252, -4.36870002746582, -4.403800010681152, -4.6930999755859375, -4.753900051116943, -4.7789998054504395, -4.786799907684326, -5.000199794769287, -5.018799781799316, -5.023200035095215, -5.1031999588012695, -5.217800140380859, -5.32859992980957, -5.372399806976318, -5.39169979095459, -5.435200214385986, -5.5152997970581055, -5.519899845123291, -5.547299861907959, -5.565400123596191, -5.597599983215332, -5.620299816131592, -5.644400119781494, -5.664999961853027, -5.709400177001953, -5.71120023727417, -5.7281999588012695, -5.756700038909912, -5.760700225830078, -5.76639986038208, -4.603300094604492, -4.955100059509277, -5.210999965667725, -4.837200164794922, -5.156599998474121, -5.104300022125244, -5.067599773406982, -4.974400043487549, -5.359300136566162, -5.291600227355957, -5.197299957275391, -5.08620023727417, -5.399400234222412, -5.3125, -5.363999843597412]}, \"token.table\": {\"Topic\": [5, 8, 8, 10, 10, 3, 3, 7, 8, 9, 9, 2, 7, 9, 9, 1, 3, 3, 1, 1, 2, 4, 5, 7, 8, 9, 2, 4, 8, 9, 10, 2, 6, 8, 1, 8, 4, 4, 6, 8, 4, 8, 6, 9, 1, 10, 6, 6, 3, 2, 5, 8, 5, 7, 7, 9, 5, 6, 9, 8, 2, 3, 2, 4, 6, 10, 10, 2, 10, 2, 6, 8, 2, 3, 4, 5, 6, 9, 6, 9, 2, 5, 10, 10, 1, 3, 8, 10, 1, 4, 8, 6, 3, 1, 8, 9, 7, 8, 1, 4, 2, 6, 8, 6, 4, 6, 7, 8, 7, 8, 5, 8, 6, 7, 8, 5, 8, 5, 10, 3, 1, 4, 4, 9, 1, 3, 4, 4, 5, 8, 9, 1, 5, 6, 9, 2, 7, 7, 7, 2, 1, 3, 4, 7, 8, 9, 10, 4, 5, 9, 4, 6, 8, 9, 10, 2, 3, 10, 2, 7, 1, 2, 5, 6, 9, 4, 10, 10, 5, 6, 10, 1, 3, 7, 8, 9, 2, 1, 9, 9, 5, 10, 5, 4, 1, 2, 2, 4, 1, 3, 6, 10, 7, 1, 3, 3, 10, 6, 9, 3, 5, 8, 7, 3, 10, 1, 2, 3, 4, 6, 7, 10, 2, 4, 6, 9, 5, 8, 1, 2, 7, 9, 5, 7, 4, 2, 8, 1, 3, 8, 1, 10, 3, 6, 7, 8, 10, 9, 4, 7, 4, 4, 1, 1, 2, 3, 6, 8, 10, 10, 1, 2, 5, 2, 6, 1, 3, 1, 3, 4, 8, 1, 3, 5, 5, 3, 7, 1, 3, 6, 2, 3, 1, 4, 3, 5, 7, 1, 3, 6, 6, 1, 5, 9, 1, 4, 2, 4, 9, 5, 9, 6, 5, 2, 5, 10, 7, 9, 7, 4, 4, 4, 5, 10, 4, 3, 6, 10, 2, 7, 2, 1, 5, 2, 4, 8, 3, 9, 2, 4, 4, 9, 4, 6, 4, 1, 3, 6, 3, 7, 10, 1, 2, 3, 4, 6, 8, 1, 3, 5, 5, 1, 2, 3, 4, 5, 6, 7, 8, 9, 10, 1, 5, 10, 10, 1, 9, 1, 3, 1, 3, 3, 4, 7, 10, 2, 5, 6, 10, 1, 2, 5, 6, 7, 7, 5, 2, 3, 1, 3, 2, 5, 10, 6, 1, 2, 3, 7, 10, 1, 3, 4, 6, 8, 9, 8, 9, 2, 2, 9, 2, 2, 10, 2, 5, 7, 10, 10, 4, 9, 8, 10, 9, 9, 4, 2, 8, 2, 4, 5, 7, 8, 3, 7, 9, 3, 8, 1, 3, 5, 7, 1, 10, 1, 3, 4, 2, 4, 6, 1, 3, 1, 3, 5, 7, 2, 10, 1, 4, 6, 1, 3, 1, 2, 4, 5, 7, 9, 10, 2, 4, 5, 7, 9, 10, 6, 4, 9, 2, 4, 6, 7, 1, 9, 1, 5, 1, 3, 8, 10, 5, 2, 8, 8, 1, 3, 4, 5, 6, 7, 5, 2, 7, 7, 1, 5, 3, 6, 6, 5, 9, 10, 1, 1, 2, 5, 7, 1, 5, 10, 8, 1, 2, 1, 9, 1, 2, 10, 7, 8, 9, 1, 10, 9, 3, 6, 7, 2, 6, 5, 3, 7, 10, 10, 1, 2, 9, 10, 4, 6, 7, 8, 4, 7, 1, 5, 10, 1, 4, 2, 7, 9, 5, 9, 10, 2, 4, 6, 7, 8, 9, 10, 1, 2, 6, 7, 9, 10, 3, 6, 5, 10, 5, 1, 3, 7, 9, 8, 8, 1, 6, 10, 5, 10, 5, 6, 7, 5, 7, 5, 3, 9, 8, 8, 6, 1, 5, 1, 2, 3, 4, 5, 6, 9, 10, 4, 8, 1, 3, 3, 8, 2, 3, 2, 9, 5, 10, 7, 2, 3, 8, 6, 8, 9, 3, 5, 6, 7, 8, 9, 10, 9, 9, 5, 7, 10, 6, 3, 1, 2, 5, 6, 8, 10, 5, 9, 2, 4, 7, 8, 6, 1, 2, 3, 4, 6, 8, 3, 2, 6, 10, 5, 6, 4, 4, 1, 2, 3, 6, 8, 9, 7, 3, 7, 8, 2, 8, 2, 3, 2, 4, 4, 4, 8, 2, 8, 1, 1, 3, 3, 3, 1, 3, 1, 2, 3, 5, 3, 5, 2, 6, 1, 2, 3, 4, 7, 8, 9, 10, 3, 4, 5, 6, 8, 9, 10, 1, 3, 5, 7, 8, 9, 2, 1, 5, 2, 6, 1, 1, 10, 2, 1, 2, 8, 6, 9, 2, 7, 9, 2, 5, 6, 7, 8, 9, 10, 6, 6, 1, 5, 8, 2, 1, 5, 2, 8, 1, 10, 7, 6, 6, 7, 2, 3, 4, 5, 6, 7, 8, 9, 10, 2, 8, 1, 3, 7, 4, 1, 3, 5, 3, 10, 6, 10, 10, 3, 1, 4, 8, 9, 1, 3, 10, 5, 7, 10, 9, 1, 3, 5, 6, 2, 6, 7, 3, 1, 4, 9, 10, 6, 8, 10, 3, 1, 3, 9, 7], \"Freq\": [0.9996340274810791, 0.9993644952774048, 0.25150585174560547, 0.748477041721344, 0.9992349147796631, 0.9994956254959106, 0.9991269707679749, 0.9997580051422119, 0.999325692653656, 0.9994093775749207, 0.999858558177948, 0.9996457099914551, 0.9994103312492371, 0.9993654489517212, 0.9996041655540466, 0.807313084602356, 0.19233635067939758, 0.9994032979011536, 0.9999222159385681, 0.46383270621299744, 0.145326629281044, 0.12222077697515488, 0.08584623038768768, 0.04220820590853691, 0.012067657895386219, 0.1284547746181488, 0.16812071204185486, 0.16812071204185486, 0.12495047599077225, 0.13239885866641998, 0.4063170552253723, 0.9995216727256775, 0.9996705651283264, 0.9989208579063416, 0.9995614886283875, 0.9990294575691223, 0.9996554851531982, 0.7976997494697571, 0.20216664671897888, 0.9995692372322083, 0.9091634154319763, 0.09058855473995209, 0.9994958639144897, 0.9997021555900574, 0.9992753863334656, 0.9995028376579285, 0.9995274543762207, 0.9997933506965637, 0.9998690485954285, 0.2509821951389313, 0.6003494262695312, 0.14858146011829376, 0.26750725507736206, 0.7320732474327087, 0.9988188743591309, 0.9999136328697205, 0.7001116871833801, 0.1957622766494751, 0.10385861247777939, 0.9997693300247192, 0.8250951766967773, 0.17467465996742249, 0.3803083300590515, 0.09193375706672668, 0.4667666256427765, 0.06097371503710747, 0.9992933869361877, 0.9996489882469177, 0.9995007514953613, 0.3271139860153198, 0.024500440806150436, 0.6479373574256897, 0.40081673860549927, 0.06428558379411697, 0.1065940111875534, 0.15151646733283997, 0.1737840622663498, 0.10291501879692078, 0.8069379329681396, 0.19291338324546814, 0.19361959397792816, 0.6350066661834717, 0.1713041216135025, 0.9997350573539734, 0.7939372658729553, 0.18630161881446838, 0.019742222502827644, 0.9994463324546814, 0.8172584176063538, 0.1825672835111618, 0.998691737651825, 0.9996455907821655, 0.9996161460876465, 0.4239371418952942, 0.5759829878807068, 0.9993537068367004, 0.24922916293144226, 0.7501923441886902, 0.17743338644504547, 0.8224394917488098, 0.1492006927728653, 0.8505792021751404, 0.9993343353271484, 0.9996846318244934, 0.9996693730354309, 0.9995143413543701, 0.9996153116226196, 0.9998085498809814, 0.9991739392280579, 0.9994417428970337, 0.9999525547027588, 0.99909907579422, 0.8336262702941895, 0.1662183254957199, 0.9993665814399719, 0.9988635778427124, 0.9994217157363892, 0.40506574511528015, 0.5948057174682617, 0.9995205402374268, 0.2401946783065796, 0.7597737312316895, 0.33300361037254333, 0.6666563749313354, 0.6779274344444275, 0.18013852834701538, 0.14181554317474365, 0.9995872378349304, 0.5784726142883301, 0.13954851031303406, 0.28176525235176086, 0.2551088333129883, 0.18957628309726715, 0.09621841460466385, 0.45872780680656433, 0.9996757507324219, 0.999267578125, 0.9994730949401855, 0.999212384223938, 0.9993801116943359, 0.40688052773475647, 0.2154388278722763, 0.11070790141820908, 0.0823395624756813, 0.06199999153614044, 0.07011798024177551, 0.052454669028520584, 0.9997413158416748, 0.2586030960083008, 0.7411628365516663, 0.22392867505550385, 0.13000114262104034, 0.11411968618631363, 0.4696376621723175, 0.06216459721326828, 0.18351313471794128, 0.2727813720703125, 0.5436965227127075, 0.9991458654403687, 0.9990195631980896, 0.2414259910583496, 0.28939205408096313, 0.23504303395748138, 0.1251247525215149, 0.10897962003946304, 0.9992940425872803, 0.9994985461235046, 0.9992173314094543, 0.784552812576294, 0.1487060934305191, 0.06666135042905807, 0.8559951186180115, 0.14380569756031036, 0.16888366639614105, 0.6408604979515076, 0.19009611010551453, 0.9999164342880249, 0.9999521970748901, 0.9992318749427795, 0.9991176128387451, 0.740771472454071, 0.25913408398628235, 0.9997408986091614, 0.9995856881141663, 0.999001145362854, 0.9990633726119995, 0.9990656971931458, 0.9995954036712646, 0.6647244095802307, 0.18733984231948853, 0.025483161211013794, 0.12231917679309845, 0.9992756843566895, 0.22326332330703735, 0.7766023278236389, 0.8670310974121094, 0.13287833333015442, 0.8465744256973267, 0.15288807451725006, 0.999408483505249, 0.9991967678070068, 0.9993305206298828, 0.9997972846031189, 0.9995980858802795, 0.999706506729126, 0.19346728920936584, 0.22537152469158173, 0.32720983028411865, 0.08320624381303787, 0.08078152686357498, 0.030372831970453262, 0.059597112238407135, 0.15530328452587128, 0.1654871106147766, 0.18356339633464813, 0.4951883554458618, 0.9994296431541443, 0.9995021820068359, 0.999290943145752, 0.2986137568950653, 0.5150284767150879, 0.1859111487865448, 0.9991785287857056, 0.9995816349983215, 0.9995645880699158, 0.9147908687591553, 0.08467485755681992, 0.2244541198015213, 0.3882488012313843, 0.38725438714027405, 0.9996650218963623, 0.9995559453964233, 0.9416609406471252, 0.057477306574583054, 0.14748109877109528, 0.18140175938606262, 0.6706703305244446, 0.9995433688163757, 0.9995732307434082, 0.9997856020927429, 0.9994050860404968, 0.9998589754104614, 0.9998164176940918, 0.3079046905040741, 0.09612765908241272, 0.3585265278816223, 0.09330037236213684, 0.02221437357366085, 0.12197711318731308, 0.9995132684707642, 0.9999381899833679, 0.8801305294036865, 0.1197914332151413, 0.999175488948822, 0.9993610382080078, 0.9998892545700073, 0.9993917346000671, 0.23949182033538818, 0.09064741432666779, 0.5080335736274719, 0.16176627576351166, 0.39778822660446167, 0.6020315289497375, 0.9994825124740601, 0.9997502565383911, 0.318246454000473, 0.68157559633255, 0.9996004104614258, 0.9995745420455933, 0.9996386766433716, 0.12918034195899963, 0.8706103563308716, 0.7974691987037659, 0.2022271752357483, 0.9996694326400757, 0.9999833703041077, 0.9998239874839783, 0.3260177969932556, 0.20764826238155365, 0.4662054777145386, 0.9998831152915955, 0.9993810057640076, 0.9994460344314575, 0.9998570084571838, 0.19025975465774536, 0.8092793226242065, 0.8611595034599304, 0.13844400644302368, 0.9995085597038269, 0.9992220401763916, 0.9989461898803711, 0.9997255206108093, 0.9993178844451904, 0.15830524265766144, 0.6778790354728699, 0.1635410189628601, 0.9992729425430298, 0.9997738599777222, 0.999363124370575, 0.9998128414154053, 0.9997269511222839, 0.9995835423469543, 0.1788218468427658, 0.8210126161575317, 0.9993703961372375, 0.9997133016586304, 0.24147188663482666, 0.7581930160522461, 0.9996830224990845, 0.9991401433944702, 0.9994553327560425, 0.99980229139328, 0.9990171790122986, 0.42721638083457947, 0.12110281735658646, 0.45138323307037354, 0.9996839761734009, 0.9996487498283386, 0.06450224667787552, 0.9354007244110107, 0.9103228449821472, 0.08955083042383194, 0.9996621012687683, 0.999620795249939, 0.9989629983901978, 0.8465844988822937, 0.1533292829990387, 0.9998934268951416, 0.9992437362670898, 0.8331252932548523, 0.16669932007789612, 0.20677699148654938, 0.2646644413471222, 0.08973818272352219, 0.37816429138183594, 0.05927775800228119, 0.0013903098879382014, 0.7577162981033325, 0.1339799016714096, 0.10810956358909607, 0.9994468092918396, 0.21789346635341644, 0.3477351665496826, 0.05536005273461342, 0.020586537197232246, 0.04664739966392517, 0.15675067901611328, 0.056362394243478775, 0.025366932153701782, 0.03909129276871681, 0.034156691282987595, 0.18513420224189758, 0.31986960768699646, 0.4950459897518158, 0.9992259740829468, 0.47013187408447266, 0.5298020243644714, 0.7844595313072205, 0.21550656855106354, 0.22622662782669067, 0.7736437320709229, 0.5773797631263733, 0.1377909630537033, 0.15331079065799713, 0.13149912655353546, 0.6354770660400391, 0.05405822768807411, 0.20183970034122467, 0.10845118016004562, 0.40007731318473816, 0.32213544845581055, 0.04938440024852753, 0.11313848197460175, 0.1152302697300911, 0.9989003539085388, 0.9988836646080017, 0.1324920356273651, 0.8672468066215515, 0.4362469017505646, 0.5636441707611084, 0.9995760917663574, 0.7662823796272278, 0.23336030542850494, 0.9993432760238647, 0.6361463069915771, 0.11156748235225677, 0.1834060549736023, 0.0563582107424736, 0.012517327442765236, 0.19884727895259857, 0.10920121520757675, 0.31881481409072876, 0.18313725292682648, 0.07756142318248749, 0.1122773066163063, 0.8964316844940186, 0.10341130197048187, 0.9994747638702393, 0.9996600151062012, 0.9997776746749878, 0.999599814414978, 0.9004834890365601, 0.09919267147779465, 0.21196334064006805, 0.47151657938957214, 0.23925641179084778, 0.07718940824270248, 0.9995665550231934, 0.2731597423553467, 0.7265130877494812, 0.9991326928138733, 0.9996793270111084, 0.9994627833366394, 0.9993794560432434, 0.9996509552001953, 0.24362662434577942, 0.7560248374938965, 0.12776312232017517, 0.16049061715602875, 0.28227466344833374, 0.2484457641839981, 0.18110264837741852, 0.9997432231903076, 0.9995983242988586, 0.9994229674339294, 0.29070499539375305, 0.7087565064430237, 0.5822260975837708, 0.12639933824539185, 0.23739652335643768, 0.05397111549973488, 0.999479353427887, 0.9990424513816833, 0.741172194480896, 0.25854843854904175, 0.9999136924743652, 0.6675455570220947, 0.21847324073314667, 0.11373152583837509, 0.854198694229126, 0.14575348794460297, 0.4222627878189087, 0.4208362400531769, 0.15681225061416626, 0.999910295009613, 0.9619055986404419, 0.037600744515657425, 0.9993915557861328, 0.9995719194412231, 0.9999015927314758, 0.29476138949394226, 0.7050564289093018, 0.09700968861579895, 0.20685818791389465, 0.1436142921447754, 0.17080233991146088, 0.05832275375723839, 0.32338187098503113, 0.9996198415756226, 0.27386292815208435, 0.13392291963100433, 0.08045690506696701, 0.00017191645747516304, 0.18377868831157684, 0.3276727795600891, 0.999881386756897, 0.7283129692077637, 0.27149102091789246, 0.7790852785110474, 0.22059562802314758, 0.9990535378456116, 0.9995297193527222, 0.24216662347316742, 0.7576121687889099, 0.9997490644454956, 0.999773383140564, 0.3297736644744873, 0.14385534822940826, 0.4955017566680908, 0.03056575544178486, 0.9989727139472961, 0.9995455145835876, 0.9990585446357727, 0.9994422197341919, 0.7147301435470581, 0.152894526720047, 0.13235904276371002, 0.9990758299827576, 0.28177255392074585, 0.7181763648986816, 0.9987921714782715, 0.38701188564300537, 0.6128290295600891, 0.9993270635604858, 0.7748779654502869, 0.2249153107404709, 0.7853770852088928, 0.2142811119556427, 0.9999063611030579, 0.22748449444770813, 0.5149996280670166, 0.2574998140335083, 0.9995204210281372, 0.9991620779037476, 0.8365116715431213, 0.1634477823972702, 0.9998481273651123, 0.3337794840335846, 0.6194401383399963, 0.0466824471950531, 0.9988224506378174, 0.9993661642074585, 0.9996480345726013, 0.9990233182907104, 0.9995747804641724, 0.2145007997751236, 0.785452127456665, 0.9993881583213806, 0.22102248668670654, 0.6576867699623108, 0.12085874378681183, 0.9994866251945496, 0.9996935129165649, 0.9995494484901428, 0.9992341995239258, 0.999179482460022, 0.9990317821502686, 0.2951173186302185, 0.7046211361885071, 0.9992707967758179, 0.20195333659648895, 0.14833223819732666, 0.6492814421653748, 0.9995748996734619, 0.22164179384708405, 0.3597289025783539, 0.3852389454841614, 0.03308914229273796, 0.9993510246276855, 0.4105532467365265, 0.07738941162824631, 0.512035608291626, 0.9992606043815613, 0.9995278120040894, 0.39336299896240234, 0.6062714457511902, 0.9991198778152466, 0.9998305439949036, 0.9998735785484314, 0.9995248913764954, 0.8042784333229065, 0.19525250792503357, 0.9988491535186768, 0.9991291165351868, 0.9990765452384949, 0.009693147614598274, 0.11882462352514267, 0.18266569077968597, 0.18684378266334534, 0.00016712323122192174, 0.14406022429466248, 0.3574765920639038, 0.17405067384243011, 0.4143368899822235, 0.13786913454532623, 0.08067897707223892, 0.044059768319129944, 0.1489570289850235, 0.9995338320732117, 0.9994274973869324, 0.9994488954544067, 0.9993900060653687, 0.9995538592338562, 0.360979288816452, 0.5264281034469604, 0.11254923045635223, 0.9992006421089172, 0.9995375275611877, 0.9995080828666687, 0.2751362919807434, 0.15554995834827423, 0.5692777633666992, 0.7734912633895874, 0.22619298100471497, 0.7209512591362, 0.12973982095718384, 0.14921648800373077, 0.7451279163360596, 0.25473612546920776, 0.9993987679481506, 0.9996100068092346, 0.9989134073257446, 0.9987002015113831, 0.9995259046554565, 0.9998571276664734, 0.9995060563087463, 0.9994210004806519, 0.1996910125017166, 0.105448417365551, 0.16943010687828064, 0.254119336605072, 0.100491002202034, 0.08128100633621216, 0.023547736927866936, 0.06589235365390778, 0.9997485876083374, 0.9988817572593689, 0.7117113471031189, 0.2881878912448883, 0.9995290040969849, 0.9989957809448242, 0.9997356534004211, 0.9989083409309387, 0.9995724558830261, 0.9993990063667297, 0.9993804693222046, 0.9996006488800049, 0.9991087317466736, 0.8462400436401367, 0.1535424143075943, 0.9994511008262634, 0.7133589386940002, 0.19635184109210968, 0.09025850892066956, 0.2272452712059021, 0.23798032104969025, 0.08081439882516861, 0.10988346487283707, 0.11905046552419662, 0.1042143926024437, 0.12073912471532822, 0.9992058277130127, 0.999582827091217, 0.30175328254699707, 0.6982430219650269, 0.9992609620094299, 0.9992277026176453, 0.9995623826980591, 0.20030316710472107, 0.12140271067619324, 0.1150725856423378, 0.09766475111246109, 0.39676305651664734, 0.06850097328424454, 0.9993472099304199, 0.999427080154419, 0.5796042084693909, 0.15695247054100037, 0.10809756815433502, 0.1552482396364212, 0.9991031885147095, 0.6006941199302673, 0.1867346167564392, 0.11161456257104874, 0.10082603991031647, 0.23058275878429413, 0.7690515518188477, 0.9992753267288208, 0.7459233999252319, 0.2539539635181427, 0.9993546009063721, 0.999183714389801, 0.9994534850120544, 0.999736487865448, 0.999753475189209, 0.45292386412620544, 0.17664963006973267, 0.13953661918640137, 0.0737076848745346, 0.12025444954633713, 0.0369056761264801, 0.9995396137237549, 0.1723194420337677, 0.6099803447723389, 0.21755965054035187, 0.9997568130493164, 0.9993387460708618, 0.9996601939201355, 0.9992710947990417, 0.9994061589241028, 0.9994720220565796, 0.9995241761207581, 0.999866247177124, 0.9989721775054932, 0.2954084575176239, 0.7041630744934082, 0.9996983408927917, 0.7729750275611877, 0.2269556224346161, 0.9996589422225952, 0.9997195601463318, 0.6017869114875793, 0.39821913838386536, 0.5175586342811584, 0.07093799114227295, 0.34804224967956543, 0.06341558694839478, 0.9195276498794556, 0.08000409603118896, 0.9992559552192688, 0.9996494650840759, 0.3041853606700897, 0.06027546152472496, 0.26702746748924255, 0.005224308464676142, 0.060144852846860886, 0.05276551470160484, 0.09423346817493439, 0.1561415195465088, 0.9955248236656189, 0.000592574302572757, 0.000592574302572757, 0.000592574302572757, 0.000592574302572757, 0.000592574302572757, 0.000592574302572757, 0.9996567964553833, 0.9993741512298584, 0.2541625201702118, 0.5295505523681641, 0.21579322218894958, 0.9989935159683228, 0.9997690916061401, 0.8585441708564758, 0.14092861115932465, 0.8458110690116882, 0.15418027341365814, 0.9992613792419434, 0.42087143659591675, 0.5790994167327881, 0.9992407560348511, 0.9995306730270386, 0.9998430013656616, 0.9992870688438416, 0.16922229528427124, 0.8303118944168091, 0.15003681182861328, 0.641117513179779, 0.20879091322422028, 0.2693319618701935, 0.06208997592329979, 0.4231269657611847, 0.10072938352823257, 0.062344182282686234, 0.03133096918463707, 0.05109553784132004, 0.9995859861373901, 0.999383270740509, 0.34836480021476746, 0.5290586948394775, 0.12247349321842194, 0.9997563362121582, 0.9996613264083862, 0.9988585710525513, 0.9998668432235718, 0.9987770318984985, 0.9999198317527771, 0.9992079734802246, 0.9998721480369568, 0.9997008442878723, 0.9989640116691589, 0.9997362494468689, 0.31896477937698364, 0.1264033168554306, 0.1078835055232048, 0.11959784477949142, 0.0744139552116394, 0.00044626061571761966, 0.04563014954328537, 0.0744139552116394, 0.132093146443367, 0.8075504302978516, 0.19209063053131104, 0.42902734875679016, 0.5409474968910217, 0.029875710606575012, 0.9992923140525818, 0.30023348331451416, 0.26883232593536377, 0.4306443929672241, 0.9996980428695679, 0.9997255802154541, 0.9999128580093384, 0.9996792078018188, 0.999841034412384, 0.999737560749054, 0.14069697260856628, 0.640021562576294, 0.043363746255636215, 0.1758498251438141, 0.7646009922027588, 0.20764875411987305, 0.027512993663549423, 0.1157805472612381, 0.7513418793678284, 0.1325317770242691, 0.9991329312324524, 0.37679973244667053, 0.4778166115283966, 0.12614978849887848, 0.019116545096039772, 0.19447745382785797, 0.13494352996349335, 0.6704180240631104, 0.9998157024383545, 0.999147891998291, 0.1393641084432602, 0.8605524897575378, 0.9996745586395264, 0.14978422224521637, 0.6419324278831482, 0.2076554149389267, 0.99951171875, 0.4292936325073242, 0.5511224865913391, 0.01956748589873314, 0.9988152980804443], \"Term\": [\"1\", \"2\", \"2016\", \"2016\", \"2020\", \"2nd\", \"absolutely\", \"account\", \"activist\", \"ago\", \"agree\", \"air\", \"alert\", \"alien\", \"alozrast\", \"always\", \"always\", \"amendment\", \"america\", \"american\", \"american\", \"american\", \"american\", \"american\", \"american\", \"american\", \"another\", \"another\", \"another\", \"another\", \"another\", \"anthem\", \"antifa\", \"anymore\", \"anything\", \"area\", \"arm\", \"attack\", \"attack\", \"awesome\", \"ban\", \"ban\", \"bank\", \"barack\", \"beautiful\", \"behind\", \"ben\", \"bernie\", \"best\", \"bill\", \"bill\", \"bill\", \"billion\", \"billion\", \"birthday\", \"black\", \"blame\", \"blame\", \"blame\", \"bless\", \"border\", \"border\", \"breaking\", \"breaking\", \"breaking\", \"breaking\", \"breitbart\", \"burn\", \"bush\", \"california\", \"california\", \"california\", \"call\", \"call\", \"call\", \"call\", \"call\", \"call\", \"calling\", \"calling\", \"campaign\", \"campaign\", \"campaign\", \"candidate\", \"cant\", \"cant\", \"cant\", \"card\", \"care\", \"care\", \"carolina\", \"carson\", \"chance\", \"change\", \"change\", \"charged\", \"check\", \"check\", \"child\", \"child\", \"china\", \"china\", \"choose\", \"christian\", \"christmas\", \"church\", \"cia\", \"city\", \"civil\", \"climate\", \"clinton\", \"close\", \"cnn\", \"cnn\", \"college\", \"collusion\", \"color\", \"comey\", \"comey\", \"common\", \"control\", \"control\", \"cop\", \"cop\", \"country\", \"country\", \"country\", \"court\", \"crime\", \"crime\", \"crime\", \"criminal\", \"criminal\", \"criminal\", \"criminal\", \"cruz\", \"cut\", \"daily\", \"damn\", \"david\", \"day\", \"day\", \"day\", \"day\", \"day\", \"day\", \"day\", \"dead\", \"deal\", \"deal\", \"death\", \"death\", \"death\", \"death\", \"death\", \"debate\", \"debate\", \"debate\", \"deep\", \"defense\", \"democrat\", \"democrat\", \"democrat\", \"democrat\", \"democrat\", \"die\", \"different\", \"disgusting\", \"dnc\", \"dnc\", \"dnc\", \"doesnt\", \"doesnt\", \"dog\", \"dog\", \"dog\", \"donald\", \"dont\", \"drug\", \"east\", \"election\", \"election\", \"email\", \"enemy\", \"enlist\", \"eric\", \"establishment\", \"europe\", \"even\", \"even\", \"even\", \"even\", \"event\", \"ever\", \"ever\", \"everyone\", \"everyone\", \"evidence\", \"evidence\", \"exactly\", \"eye\", \"fair\", \"fake\", \"far\", \"fbi\", \"first\", \"first\", \"first\", \"first\", \"first\", \"first\", \"first\", \"flag\", \"flag\", \"flag\", \"flag\", \"follower\", \"food\", \"forget\", \"former\", \"former\", \"former\", \"foundation\", \"fox\", \"france\", \"fraud\", \"fraud\", \"free\", \"free\", \"free\", \"freedom\", \"fun\", \"future\", \"future\", \"game\", \"game\", \"game\", \"gang\", \"gay\", \"george\", \"germany\", \"girl\", \"god\", \"going\", \"going\", \"going\", \"going\", \"going\", \"going\", \"gonna\", \"good\", \"gop\", \"gop\", \"gov\", \"governor\", \"great\", \"guess\", \"gun\", \"gun\", \"gun\", \"gun\", \"guy\", \"guy\", \"hack\", \"happened\", \"happy\", \"happy\", \"hear\", \"heard\", \"hearing\", \"hell\", \"hell\", \"help\", \"help\", \"hey\", \"hillary\", \"history\", \"home\", \"home\", \"home\", \"house\", \"idea\", \"ignore\", \"illegal\", \"immigrant\", \"immigrant\", \"immigration\", \"immigration\", \"inside\", \"interest\", \"interesting\", \"interview\", \"investigate\", \"investigation\", \"investigation\", \"investigation\", \"iowa\", \"iran\", \"iraq\", \"isi\", \"islam\", \"islamic\", \"isnt\", \"isnt\", \"israel\", \"ive\", \"james\", \"james\", \"jeff\", \"jim\", \"joe\", \"join\", \"joke\", \"judge\", \"judge\", \"judge\", \"justice\", \"kelly\", \"kill\", \"kill\", \"killed\", \"killed\", \"killing\", \"kim\", \"kind\", \"know\", \"know\", \"korea\", \"lady\", \"latest\", \"latest\", \"law\", \"law\", \"law\", \"law\", \"law\", \"law\", \"let\", \"let\", \"let\", \"liar\", \"liberal\", \"liberal\", \"liberal\", \"liberal\", \"liberal\", \"liberal\", \"liberal\", \"liberal\", \"liberal\", \"liberal\", \"lie\", \"lie\", \"lie\", \"lied\", \"life\", \"life\", \"like\", \"like\", \"little\", \"little\", \"live\", \"live\", \"live\", \"live\", \"lol\", \"lol\", \"lol\", \"lol\", \"look\", \"look\", \"look\", \"look\", \"look\", \"loretta\", \"loss\", \"lost\", \"lost\", \"love\", \"love\", \"low\", \"lying\", \"lying\", \"mad\", \"make\", \"make\", \"make\", \"make\", \"make\", \"man\", \"man\", \"man\", \"man\", \"man\", \"man\", \"marine\", \"marine\", \"marriage\", \"mass\", \"matter\", \"maxine\", \"mccain\", \"mccain\", \"medium\", \"medium\", \"medium\", \"medium\", \"meet\", \"member\", \"member\", \"mexico\", \"michael\", \"michelle\", \"middle\", \"migrant\", \"mike\", \"mike\", \"million\", \"million\", \"million\", \"million\", \"million\", \"mind\", \"mistake\", \"mom\", \"moment\", \"moment\", \"money\", \"money\", \"money\", \"money\", \"morning\", \"movie\", \"much\", \"much\", \"muslim\", \"national\", \"national\", \"national\", \"need\", \"need\", \"never\", \"never\", \"never\", \"news\", \"nfl\", \"nfl\", \"nice\", \"night\", \"north\", \"nothing\", \"nothing\", \"obama\", \"obama\", \"obama\", \"obama\", \"obama\", \"obama\", \"obamacare\", \"obamas\", \"obamas\", \"obamas\", \"obamas\", \"obamas\", \"obamas\", \"officer\", \"old\", \"old\", \"order\", \"order\", \"outside\", \"parenthood\", \"party\", \"party\", \"patriot\", \"paul\", \"pay\", \"pay\", \"pay\", \"pay\", \"peaceful\", \"pelosi\", \"pen\", \"penny\", \"people\", \"people\", \"people\", \"phone\", \"photo\", \"photo\", \"pic\", \"plan\", \"plan\", \"planned\", \"please\", \"please\", \"point\", \"point\", \"police\", \"political\", \"political\", \"political\", \"politician\", \"politics\", \"poll\", \"poll\", \"post\", \"potus\", \"potus\", \"potus\", \"powerful\", \"ppl\", \"praise\", \"pray\", \"pres\", \"president\", \"president\", \"presidential\", \"press\", \"press\", \"press\", \"pretty\", \"primary\", \"prison\", \"probably\", \"probe\", \"prof\", \"protest\", \"protest\", \"putin\", \"question\", \"question\", \"question\", \"race\", \"racist\", \"racist\", \"racist\", \"racist\", \"radical\", \"rally\", \"rally\", \"rally\", \"rape\", \"ready\", \"realdonaldtrump\", \"realdonaldtrump\", \"reality\", \"really\", \"refugee\", \"refuse\", \"release\", \"release\", \"reminder\", \"rep\", \"repeal\", \"report\", \"report\", \"report\", \"report\", \"report\", \"report\", \"report\", \"republican\", \"republican\", \"republican\", \"republican\", \"republican\", \"republican\", \"respect\", \"response\", \"retweet\", \"review\", \"rice\", \"right\", \"right\", \"right\", \"riot\", \"rise\", \"rubio\", \"run\", \"run\", \"run\", \"running\", \"running\", \"russia\", \"russia\", \"russia\", \"russian\", \"russian\", \"ryan\", \"safe\", \"safety\", \"sale\", \"sanctuary\", \"sander\", \"save\", \"saw\", \"say\", \"say\", \"say\", \"say\", \"say\", \"say\", \"say\", \"say\", \"school\", \"secretary\", \"see\", \"see\", \"seen\", \"sen\", \"senator\", \"sense\", \"session\", \"sex\", \"share\", \"shit\", \"shoot\", \"shooting\", \"shooting\", \"short\", \"shot\", \"shot\", \"shot\", \"show\", \"show\", \"show\", \"show\", \"show\", \"show\", \"show\", \"single\", \"son\", \"soros\", \"soros\", \"sorry\", \"south\", \"speak\", \"speech\", \"speech\", \"speech\", \"speech\", \"speech\", \"speech\", \"spread\", \"star\", \"state\", \"state\", \"state\", \"state\", \"steve\", \"stop\", \"stop\", \"stop\", \"stop\", \"student\", \"student\", \"stupid\", \"supporter\", \"supporter\", \"surprise\", \"susan\", \"suspect\", \"syria\", \"syrian\", \"take\", \"take\", \"take\", \"take\", \"take\", \"take\", \"targeted\", \"tax\", \"tax\", \"tax\", \"team\", \"tear\", \"ted\", \"term\", \"terrebehlog\", \"terror\", \"terrorism\", \"terrorist\", \"test\", \"texas\", \"texas\", \"thank\", \"thats\", \"thats\", \"there\", \"theyre\", \"thing\", \"thing\", \"think\", \"think\", \"think\", \"think\", \"thought\", \"thought\", \"thousand\", \"thug\", \"time\", \"time\", \"time\", \"time\", \"time\", \"time\", \"time\", \"time\", \"tnp\", \"tnp\", \"tnp\", \"tnp\", \"tnp\", \"tnp\", \"tnp\", \"together\", \"tonight\", \"top\", \"top\", \"top\", \"totally\", \"traitor\", \"true\", \"true\", \"trump\", \"trump\", \"trust\", \"truth\", \"truth\", \"truthnation\", \"understand\", \"united\", \"university\", \"using\", \"using\", \"via\", \"via\", \"via\", \"video\", \"video\", \"video\", \"video\", \"video\", \"video\", \"video\", \"violent\", \"virginia\", \"vote\", \"vote\", \"vote\", \"voter\", \"wait\", \"walk\", \"wall\", \"wanna\", \"want\", \"wanted\", \"war\", \"warning\", \"warns\", \"washington\", \"watch\", \"watch\", \"watch\", \"watch\", \"watch\", \"watch\", \"watch\", \"watch\", \"watch\", \"water\", \"water\", \"way\", \"way\", \"way\", \"welcome\", \"well\", \"well\", \"well\", \"west\", \"whats\", \"white\", \"whole\", \"win\", \"without\", \"woman\", \"woman\", \"woman\", \"woman\", \"work\", \"work\", \"work\", \"worst\", \"worst\", \"worst\", \"worth\", \"would\", \"would\", \"would\", \"would\", \"wow\", \"wow\", \"wow\", \"wrong\", \"yeah\", \"year\", \"year\", \"yes\", \"york\", \"york\", \"york\", \"youll\", \"youre\", \"youre\", \"youre\", \"youve\"]}, \"R\": 30, \"lambda.step\": 0.01, \"plot.opts\": {\"xlab\": \"PC1\", \"ylab\": \"PC2\"}, \"topic.order\": [2, 10, 3, 5, 6, 4, 1, 9, 7, 8]};\n",
       "\n",
       "function LDAvis_load_lib(url, callback){\n",
       "  var s = document.createElement('script');\n",
       "  s.src = url;\n",
       "  s.async = true;\n",
       "  s.onreadystatechange = s.onload = callback;\n",
       "  s.onerror = function(){console.warn(\"failed to load library \" + url);};\n",
       "  document.getElementsByTagName(\"head\")[0].appendChild(s);\n",
       "}\n",
       "\n",
       "if(typeof(LDAvis) !== \"undefined\"){\n",
       "   // already loaded: just create the visualization\n",
       "   !function(LDAvis){\n",
       "       new LDAvis(\"#\" + \"ldavis_el18368115227380856773392480\", ldavis_el18368115227380856773392480_data);\n",
       "   }(LDAvis);\n",
       "}else if(typeof define === \"function\" && define.amd){\n",
       "   // require.js is available: use it to load d3/LDAvis\n",
       "   require.config({paths: {d3: \"https://cdnjs.cloudflare.com/ajax/libs/d3/3.5.5/d3.min\"}});\n",
       "   require([\"d3\"], function(d3){\n",
       "      window.d3 = d3;\n",
       "      LDAvis_load_lib(\"https://cdn.rawgit.com/bmabey/pyLDAvis/files/ldavis.v1.0.0.js\", function(){\n",
       "        new LDAvis(\"#\" + \"ldavis_el18368115227380856773392480\", ldavis_el18368115227380856773392480_data);\n",
       "      });\n",
       "    });\n",
       "}else{\n",
       "    // require.js not available: dynamically load d3 & LDAvis\n",
       "    LDAvis_load_lib(\"https://cdnjs.cloudflare.com/ajax/libs/d3/3.5.5/d3.min.js\", function(){\n",
       "         LDAvis_load_lib(\"https://cdn.rawgit.com/bmabey/pyLDAvis/files/ldavis.v1.0.0.js\", function(){\n",
       "                 new LDAvis(\"#\" + \"ldavis_el18368115227380856773392480\", ldavis_el18368115227380856773392480_data);\n",
       "            })\n",
       "         });\n",
       "}\n",
       "</script>"
      ],
      "text/plain": [
       "<IPython.core.display.HTML object>"
      ]
     },
     "execution_count": 38,
     "metadata": {},
     "output_type": "execute_result"
    }
   ],
   "source": [
    "# http://tlfvincent.github.io/2015/10/23/presidential-speech-topics/#topic=1&lambda=1&term=\n",
    "vis_data = gensimvis.prepare(tweet_topics, corpus, dictionary)\n",
    "pyLDAvis.display(vis_data)"
   ]
  },
  {
   "cell_type": "markdown",
   "metadata": {},
   "source": [
    "### Output Visualization Tool to HTML"
   ]
  },
  {
   "cell_type": "code",
   "execution_count": 39,
   "metadata": {},
   "outputs": [],
   "source": [
    "# save viz output to an HTML file\n",
    "vis_data = gensimvis.prepare(tweet_topics, corpus, dictionary)\n",
    "\n",
    "pyLDAvis.save_html(vis_data, 'pyLDAviz_right-troll.html')"
   ]
  }
 ],
 "metadata": {
  "hide_input": false,
  "kernelspec": {
   "display_name": "Python 3",
   "language": "python",
   "name": "python3"
  },
  "language_info": {
   "codemirror_mode": {
    "name": "ipython",
    "version": 3
   },
   "file_extension": ".py",
   "mimetype": "text/x-python",
   "name": "python",
   "nbconvert_exporter": "python",
   "pygments_lexer": "ipython3",
   "version": "3.6.7"
  }
 },
 "nbformat": 4,
 "nbformat_minor": 2
}
