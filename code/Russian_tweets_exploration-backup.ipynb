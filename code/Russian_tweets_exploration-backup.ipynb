{
 "cells": [
  {
   "cell_type": "markdown",
   "metadata": {},
   "source": [
    "# Capstone 2 Project - Russian Troll Tweets"
   ]
  },
  {
   "cell_type": "markdown",
   "metadata": {},
   "source": [
    "### Initial tweet data exploration\n",
    "First, I'll join together all of the tweet data, reading and joining all of the 13 data files"
   ]
  },
  {
   "cell_type": "markdown",
   "metadata": {},
   "source": [
    "I will use the Tweets to explore questions about the nature of the disinformation campaign, such as:\n",
    "* Did the tweets increase in frequency or volume around the time of major events? \n",
    "* Did other trolls retweet and amplify troll tweets?\n",
    "* Can clusters be made of Twitter handles/’users’ grouped with similar features?\n",
    "* Can common topics or themes be identified?\n",
    "* What were the most-used hashtags?\n",
    "* Did the tweets predominantly support one candidate or political party, or seek to undermine the other?\n"
   ]
  },
  {
   "cell_type": "markdown",
   "metadata": {},
   "source": [
    "Header | Definition\n",
    "-------|---------\n",
    "`external_author_id` | An author account ID from Twitter \n",
    "`author` | The handle sending the tweet\n",
    "`content` | The text of the tweet\n",
    "`region` | A region classification, as [determined by Social Studio](https://help.salesforce.com/articleView?   id=000199367&type=1)\n",
    "`language` | The language of the tweet\n",
    "`publish_date` | The date and time the tweet was sent\n",
    "`harvested_date` | The date and time the tweet was collected by Social Studio\n",
    "`following` | The number of accounts the handle was following at the time of the tweet\n",
    "`followers` | The number of followers the handle had at the time of the tweet\n",
    "`updates` | The number of “update actions” on the account that authored the tweet, including tweets, retweets and likes\n",
    "`post_type` | Indicates if the tweet was a retweet or a quote-tweet\n",
    "`account_type` | Specific account theme, as coded by Linvill and Warren\n",
    "`retweet` | A binary indicator of whether or not the tweet is a retweet\n",
    "`account_category` | General account theme, as coded by Linvill and Warren\n",
    "`new_june_2018` | A binary indicator of whether the handle was newly listed in June 2018"
   ]
  },
  {
   "cell_type": "code",
   "execution_count": 2,
   "metadata": {},
   "outputs": [],
   "source": [
    "import pandas as pd\n",
    "import numpy as np"
   ]
  },
  {
   "cell_type": "markdown",
   "metadata": {},
   "source": [
    "Consider dropping the labels, so I can perform my own classification?\n",
    "i.e., 'account_type', 'account_category','new_june_2018'"
   ]
  },
  {
   "cell_type": "code",
   "execution_count": 3,
   "metadata": {},
   "outputs": [],
   "source": [
    "#troll.head()\n",
    "#troll.columns"
   ]
  },
  {
   "cell_type": "code",
   "execution_count": 4,
   "metadata": {},
   "outputs": [],
   "source": [
    "#Done one time\n",
    "\n",
    "# IRAhandle_tweets_1\n",
    "#import glob, os\n",
    " \n",
    "#os.chdir(\"../data\")\n",
    "#results = pd.DataFrame([])\n",
    " \n",
    "#for counter, file in enumerate(glob.glob(\"IRAhandle_tweets*\")):\n",
    "#    namedf = pd.read_csv(file, skiprows=0)\n",
    "#    results = results.append(namedf)\n",
    " \n",
    "#results.to_csv('../data/all_IRAhandle_tweets.csv')"
   ]
  },
  {
   "cell_type": "code",
   "execution_count": 5,
   "metadata": {},
   "outputs": [
    {
     "name": "stderr",
     "output_type": "stream",
     "text": [
      "/Users/admin/anaconda3/lib/python3.6/site-packages/IPython/core/interactiveshell.py:3020: DtypeWarning: Columns (1,11,16,21) have mixed types. Specify dtype option on import or set low_memory=False.\n",
      "  interactivity=interactivity, compiler=compiler, result=result)\n"
     ]
    },
    {
     "name": "stdout",
     "output_type": "stream",
     "text": [
      "(2946207, 22)\n"
     ]
    }
   ],
   "source": [
    "# Read in the dataset - large, ~3 million records. Consider Spark/AWS?\n",
    "ivan = pd.read_csv('../data/all_IRAhandle_tweets.csv', encoding = \"iso-8859-1\", parse_dates = ['publish_date', 'harvested_date'])\n",
    "print(ivan.shape)\n",
    "\n",
    "# Need to chunk the data?\n",
    "# https://towardsdatascience.com/why-and-how-to-use-pandas-with-large-data-9594dda2ea4c"
   ]
  },
  {
   "cell_type": "markdown",
   "metadata": {},
   "source": [
    "## Explore, clean up data"
   ]
  },
  {
   "cell_type": "code",
   "execution_count": 24,
   "metadata": {},
   "outputs": [
    {
     "data": {
      "text/plain": [
       "external_author_id            object\n",
       "author                        object\n",
       "content                       object\n",
       "region                        object\n",
       "language                      object\n",
       "publish_date          datetime64[ns]\n",
       "following                      int64\n",
       "followers                      int64\n",
       "updates                        int64\n",
       "post_type                     object\n",
       "account_type                  object\n",
       "retweet                        int64\n",
       "account_category              object\n",
       "new_june_2018                  int64\n",
       "alt_external_id               object\n",
       "tweet_id                       int64\n",
       "article_url                   object\n",
       "tco1_step1                    object\n",
       "tco2_step1                    object\n",
       "tco3_step1                    object\n",
       "dtype: object"
      ]
     },
     "execution_count": 24,
     "metadata": {},
     "output_type": "execute_result"
    }
   ],
   "source": [
    "ivan.dtypes"
   ]
  },
  {
   "cell_type": "code",
   "execution_count": 25,
   "metadata": {
    "code_folding": []
   },
   "outputs": [
    {
     "data": {
      "text/html": [
       "<div>\n",
       "<style scoped>\n",
       "    .dataframe tbody tr th:only-of-type {\n",
       "        vertical-align: middle;\n",
       "    }\n",
       "\n",
       "    .dataframe tbody tr th {\n",
       "        vertical-align: top;\n",
       "    }\n",
       "\n",
       "    .dataframe thead th {\n",
       "        text-align: right;\n",
       "    }\n",
       "</style>\n",
       "<table border=\"1\" class=\"dataframe\">\n",
       "  <thead>\n",
       "    <tr style=\"text-align: right;\">\n",
       "      <th></th>\n",
       "      <th>external_author_id</th>\n",
       "      <th>author</th>\n",
       "      <th>content</th>\n",
       "      <th>region</th>\n",
       "      <th>language</th>\n",
       "      <th>publish_date</th>\n",
       "      <th>following</th>\n",
       "      <th>followers</th>\n",
       "      <th>updates</th>\n",
       "      <th>post_type</th>\n",
       "      <th>account_type</th>\n",
       "      <th>retweet</th>\n",
       "      <th>account_category</th>\n",
       "      <th>new_june_2018</th>\n",
       "      <th>alt_external_id</th>\n",
       "      <th>tweet_id</th>\n",
       "      <th>article_url</th>\n",
       "      <th>tco1_step1</th>\n",
       "      <th>tco2_step1</th>\n",
       "      <th>tco3_step1</th>\n",
       "    </tr>\n",
       "  </thead>\n",
       "  <tbody>\n",
       "    <tr>\n",
       "      <th>0</th>\n",
       "      <td>906000000000000000</td>\n",
       "      <td>10_GOP</td>\n",
       "      <td>\"We have a sitting Democrat US Senator on tria...</td>\n",
       "      <td>Unknown</td>\n",
       "      <td>English</td>\n",
       "      <td>2017-10-01 19:58:00</td>\n",
       "      <td>1052</td>\n",
       "      <td>9636</td>\n",
       "      <td>253</td>\n",
       "      <td>NaN</td>\n",
       "      <td>Right</td>\n",
       "      <td>0</td>\n",
       "      <td>RightTroll</td>\n",
       "      <td>0</td>\n",
       "      <td>905874659358453760</td>\n",
       "      <td>914580356430536707</td>\n",
       "      <td>http://twitter.com/905874659358453760/statuses...</td>\n",
       "      <td>https://twitter.com/10_gop/status/914580356430...</td>\n",
       "      <td>NaN</td>\n",
       "      <td>NaN</td>\n",
       "    </tr>\n",
       "    <tr>\n",
       "      <th>1</th>\n",
       "      <td>906000000000000000</td>\n",
       "      <td>10_GOP</td>\n",
       "      <td>Marshawn Lynch arrives to game in anti-Trump s...</td>\n",
       "      <td>Unknown</td>\n",
       "      <td>English</td>\n",
       "      <td>2017-10-01 22:43:00</td>\n",
       "      <td>1054</td>\n",
       "      <td>9637</td>\n",
       "      <td>254</td>\n",
       "      <td>NaN</td>\n",
       "      <td>Right</td>\n",
       "      <td>0</td>\n",
       "      <td>RightTroll</td>\n",
       "      <td>0</td>\n",
       "      <td>905874659358453760</td>\n",
       "      <td>914621840496189440</td>\n",
       "      <td>http://twitter.com/905874659358453760/statuses...</td>\n",
       "      <td>https://twitter.com/damienwoody/status/9145685...</td>\n",
       "      <td>NaN</td>\n",
       "      <td>NaN</td>\n",
       "    </tr>\n",
       "    <tr>\n",
       "      <th>2</th>\n",
       "      <td>906000000000000000</td>\n",
       "      <td>10_GOP</td>\n",
       "      <td>Daughter of fallen Navy Sailor delivers powerf...</td>\n",
       "      <td>Unknown</td>\n",
       "      <td>English</td>\n",
       "      <td>2017-10-01 22:50:00</td>\n",
       "      <td>1054</td>\n",
       "      <td>9637</td>\n",
       "      <td>255</td>\n",
       "      <td>RETWEET</td>\n",
       "      <td>Right</td>\n",
       "      <td>1</td>\n",
       "      <td>RightTroll</td>\n",
       "      <td>0</td>\n",
       "      <td>905874659358453760</td>\n",
       "      <td>914623490375979008</td>\n",
       "      <td>http://twitter.com/905874659358453760/statuses...</td>\n",
       "      <td>https://twitter.com/10_gop/status/913231923715...</td>\n",
       "      <td>NaN</td>\n",
       "      <td>NaN</td>\n",
       "    </tr>\n",
       "    <tr>\n",
       "      <th>3</th>\n",
       "      <td>906000000000000000</td>\n",
       "      <td>10_GOP</td>\n",
       "      <td>JUST IN: President Trump dedicates Presidents ...</td>\n",
       "      <td>Unknown</td>\n",
       "      <td>English</td>\n",
       "      <td>2017-10-01 23:52:00</td>\n",
       "      <td>1062</td>\n",
       "      <td>9642</td>\n",
       "      <td>256</td>\n",
       "      <td>NaN</td>\n",
       "      <td>Right</td>\n",
       "      <td>0</td>\n",
       "      <td>RightTroll</td>\n",
       "      <td>0</td>\n",
       "      <td>905874659358453760</td>\n",
       "      <td>914639143690555392</td>\n",
       "      <td>http://twitter.com/905874659358453760/statuses...</td>\n",
       "      <td>https://twitter.com/10_gop/status/914639143690...</td>\n",
       "      <td>NaN</td>\n",
       "      <td>NaN</td>\n",
       "    </tr>\n",
       "    <tr>\n",
       "      <th>4</th>\n",
       "      <td>906000000000000000</td>\n",
       "      <td>10_GOP</td>\n",
       "      <td>19,000 RESPECTING our National Anthem! #StandF...</td>\n",
       "      <td>Unknown</td>\n",
       "      <td>English</td>\n",
       "      <td>2017-10-01 02:13:00</td>\n",
       "      <td>1050</td>\n",
       "      <td>9645</td>\n",
       "      <td>246</td>\n",
       "      <td>RETWEET</td>\n",
       "      <td>Right</td>\n",
       "      <td>1</td>\n",
       "      <td>RightTroll</td>\n",
       "      <td>0</td>\n",
       "      <td>905874659358453760</td>\n",
       "      <td>914312219952861184</td>\n",
       "      <td>http://twitter.com/905874659358453760/statuses...</td>\n",
       "      <td>https://twitter.com/realDonaldTrump/status/914...</td>\n",
       "      <td>NaN</td>\n",
       "      <td>NaN</td>\n",
       "    </tr>\n",
       "  </tbody>\n",
       "</table>\n",
       "</div>"
      ],
      "text/plain": [
       "   external_author_id  author  \\\n",
       "0  906000000000000000  10_GOP   \n",
       "1  906000000000000000  10_GOP   \n",
       "2  906000000000000000  10_GOP   \n",
       "3  906000000000000000  10_GOP   \n",
       "4  906000000000000000  10_GOP   \n",
       "\n",
       "                                             content   region language  \\\n",
       "0  \"We have a sitting Democrat US Senator on tria...  Unknown  English   \n",
       "1  Marshawn Lynch arrives to game in anti-Trump s...  Unknown  English   \n",
       "2  Daughter of fallen Navy Sailor delivers powerf...  Unknown  English   \n",
       "3  JUST IN: President Trump dedicates Presidents ...  Unknown  English   \n",
       "4  19,000 RESPECTING our National Anthem! #StandF...  Unknown  English   \n",
       "\n",
       "         publish_date  following  followers  updates post_type account_type  \\\n",
       "0 2017-10-01 19:58:00       1052       9636      253       NaN        Right   \n",
       "1 2017-10-01 22:43:00       1054       9637      254       NaN        Right   \n",
       "2 2017-10-01 22:50:00       1054       9637      255   RETWEET        Right   \n",
       "3 2017-10-01 23:52:00       1062       9642      256       NaN        Right   \n",
       "4 2017-10-01 02:13:00       1050       9645      246   RETWEET        Right   \n",
       "\n",
       "   retweet account_category  new_june_2018     alt_external_id  \\\n",
       "0        0       RightTroll              0  905874659358453760   \n",
       "1        0       RightTroll              0  905874659358453760   \n",
       "2        1       RightTroll              0  905874659358453760   \n",
       "3        0       RightTroll              0  905874659358453760   \n",
       "4        1       RightTroll              0  905874659358453760   \n",
       "\n",
       "             tweet_id                                        article_url  \\\n",
       "0  914580356430536707  http://twitter.com/905874659358453760/statuses...   \n",
       "1  914621840496189440  http://twitter.com/905874659358453760/statuses...   \n",
       "2  914623490375979008  http://twitter.com/905874659358453760/statuses...   \n",
       "3  914639143690555392  http://twitter.com/905874659358453760/statuses...   \n",
       "4  914312219952861184  http://twitter.com/905874659358453760/statuses...   \n",
       "\n",
       "                                          tco1_step1 tco2_step1 tco3_step1  \n",
       "0  https://twitter.com/10_gop/status/914580356430...        NaN        NaN  \n",
       "1  https://twitter.com/damienwoody/status/9145685...        NaN        NaN  \n",
       "2  https://twitter.com/10_gop/status/913231923715...        NaN        NaN  \n",
       "3  https://twitter.com/10_gop/status/914639143690...        NaN        NaN  \n",
       "4  https://twitter.com/realDonaldTrump/status/914...        NaN        NaN  "
      ]
     },
     "execution_count": 25,
     "metadata": {},
     "output_type": "execute_result"
    }
   ],
   "source": [
    "ivan.head()"
   ]
  },
  {
   "cell_type": "code",
   "execution_count": 26,
   "metadata": {},
   "outputs": [
    {
     "data": {
      "text/plain": [
       "Index(['external_author_id', 'author', 'content', 'region', 'language',\n",
       "       'publish_date', 'following', 'followers', 'updates', 'post_type',\n",
       "       'account_type', 'retweet', 'account_category', 'new_june_2018',\n",
       "       'alt_external_id', 'tweet_id', 'article_url', 'tco1_step1',\n",
       "       'tco2_step1', 'tco3_step1'],\n",
       "      dtype='object')"
      ]
     },
     "execution_count": 26,
     "metadata": {},
     "output_type": "execute_result"
    }
   ],
   "source": [
    "ivan.columns"
   ]
  },
  {
   "cell_type": "code",
   "execution_count": 27,
   "metadata": {},
   "outputs": [
    {
     "ename": "KeyError",
     "evalue": "\"['Unnamed: 0'] not found in axis\"",
     "output_type": "error",
     "traceback": [
      "\u001b[0;31m---------------------------------------------------------------------------\u001b[0m",
      "\u001b[0;31mKeyError\u001b[0m                                  Traceback (most recent call last)",
      "\u001b[0;32m<ipython-input-27-26b10ebe8b98>\u001b[0m in \u001b[0;36m<module>\u001b[0;34m\u001b[0m\n\u001b[1;32m      1\u001b[0m \u001b[0;31m# drop strange first column 'Unnamed: 0'\u001b[0m\u001b[0;34m\u001b[0m\u001b[0;34m\u001b[0m\u001b[0;34m\u001b[0m\u001b[0m\n\u001b[0;32m----> 2\u001b[0;31m \u001b[0mivan\u001b[0m\u001b[0;34m.\u001b[0m\u001b[0mdrop\u001b[0m\u001b[0;34m(\u001b[0m\u001b[0;34m[\u001b[0m\u001b[0;34m'Unnamed: 0'\u001b[0m\u001b[0;34m]\u001b[0m\u001b[0;34m,\u001b[0m \u001b[0maxis\u001b[0m\u001b[0;34m=\u001b[0m\u001b[0;36m1\u001b[0m\u001b[0;34m,\u001b[0m\u001b[0minplace\u001b[0m\u001b[0;34m=\u001b[0m\u001b[0;32mTrue\u001b[0m\u001b[0;34m)\u001b[0m\u001b[0;34m\u001b[0m\u001b[0;34m\u001b[0m\u001b[0m\n\u001b[0m",
      "\u001b[0;32m~/anaconda3/lib/python3.6/site-packages/pandas/core/frame.py\u001b[0m in \u001b[0;36mdrop\u001b[0;34m(self, labels, axis, index, columns, level, inplace, errors)\u001b[0m\n\u001b[1;32m   3695\u001b[0m                                            \u001b[0mindex\u001b[0m\u001b[0;34m=\u001b[0m\u001b[0mindex\u001b[0m\u001b[0;34m,\u001b[0m \u001b[0mcolumns\u001b[0m\u001b[0;34m=\u001b[0m\u001b[0mcolumns\u001b[0m\u001b[0;34m,\u001b[0m\u001b[0;34m\u001b[0m\u001b[0;34m\u001b[0m\u001b[0m\n\u001b[1;32m   3696\u001b[0m                                            \u001b[0mlevel\u001b[0m\u001b[0;34m=\u001b[0m\u001b[0mlevel\u001b[0m\u001b[0;34m,\u001b[0m \u001b[0minplace\u001b[0m\u001b[0;34m=\u001b[0m\u001b[0minplace\u001b[0m\u001b[0;34m,\u001b[0m\u001b[0;34m\u001b[0m\u001b[0;34m\u001b[0m\u001b[0m\n\u001b[0;32m-> 3697\u001b[0;31m                                            errors=errors)\n\u001b[0m\u001b[1;32m   3698\u001b[0m \u001b[0;34m\u001b[0m\u001b[0m\n\u001b[1;32m   3699\u001b[0m     @rewrite_axis_style_signature('mapper', [('copy', True),\n",
      "\u001b[0;32m~/anaconda3/lib/python3.6/site-packages/pandas/core/generic.py\u001b[0m in \u001b[0;36mdrop\u001b[0;34m(self, labels, axis, index, columns, level, inplace, errors)\u001b[0m\n\u001b[1;32m   3109\u001b[0m         \u001b[0;32mfor\u001b[0m \u001b[0maxis\u001b[0m\u001b[0;34m,\u001b[0m \u001b[0mlabels\u001b[0m \u001b[0;32min\u001b[0m \u001b[0maxes\u001b[0m\u001b[0;34m.\u001b[0m\u001b[0mitems\u001b[0m\u001b[0;34m(\u001b[0m\u001b[0;34m)\u001b[0m\u001b[0;34m:\u001b[0m\u001b[0;34m\u001b[0m\u001b[0;34m\u001b[0m\u001b[0m\n\u001b[1;32m   3110\u001b[0m             \u001b[0;32mif\u001b[0m \u001b[0mlabels\u001b[0m \u001b[0;32mis\u001b[0m \u001b[0;32mnot\u001b[0m \u001b[0;32mNone\u001b[0m\u001b[0;34m:\u001b[0m\u001b[0;34m\u001b[0m\u001b[0;34m\u001b[0m\u001b[0m\n\u001b[0;32m-> 3111\u001b[0;31m                 \u001b[0mobj\u001b[0m \u001b[0;34m=\u001b[0m \u001b[0mobj\u001b[0m\u001b[0;34m.\u001b[0m\u001b[0m_drop_axis\u001b[0m\u001b[0;34m(\u001b[0m\u001b[0mlabels\u001b[0m\u001b[0;34m,\u001b[0m \u001b[0maxis\u001b[0m\u001b[0;34m,\u001b[0m \u001b[0mlevel\u001b[0m\u001b[0;34m=\u001b[0m\u001b[0mlevel\u001b[0m\u001b[0;34m,\u001b[0m \u001b[0merrors\u001b[0m\u001b[0;34m=\u001b[0m\u001b[0merrors\u001b[0m\u001b[0;34m)\u001b[0m\u001b[0;34m\u001b[0m\u001b[0;34m\u001b[0m\u001b[0m\n\u001b[0m\u001b[1;32m   3112\u001b[0m \u001b[0;34m\u001b[0m\u001b[0m\n\u001b[1;32m   3113\u001b[0m         \u001b[0;32mif\u001b[0m \u001b[0minplace\u001b[0m\u001b[0;34m:\u001b[0m\u001b[0;34m\u001b[0m\u001b[0;34m\u001b[0m\u001b[0m\n",
      "\u001b[0;32m~/anaconda3/lib/python3.6/site-packages/pandas/core/generic.py\u001b[0m in \u001b[0;36m_drop_axis\u001b[0;34m(self, labels, axis, level, errors)\u001b[0m\n\u001b[1;32m   3141\u001b[0m                 \u001b[0mnew_axis\u001b[0m \u001b[0;34m=\u001b[0m \u001b[0maxis\u001b[0m\u001b[0;34m.\u001b[0m\u001b[0mdrop\u001b[0m\u001b[0;34m(\u001b[0m\u001b[0mlabels\u001b[0m\u001b[0;34m,\u001b[0m \u001b[0mlevel\u001b[0m\u001b[0;34m=\u001b[0m\u001b[0mlevel\u001b[0m\u001b[0;34m,\u001b[0m \u001b[0merrors\u001b[0m\u001b[0;34m=\u001b[0m\u001b[0merrors\u001b[0m\u001b[0;34m)\u001b[0m\u001b[0;34m\u001b[0m\u001b[0;34m\u001b[0m\u001b[0m\n\u001b[1;32m   3142\u001b[0m             \u001b[0;32melse\u001b[0m\u001b[0;34m:\u001b[0m\u001b[0;34m\u001b[0m\u001b[0;34m\u001b[0m\u001b[0m\n\u001b[0;32m-> 3143\u001b[0;31m                 \u001b[0mnew_axis\u001b[0m \u001b[0;34m=\u001b[0m \u001b[0maxis\u001b[0m\u001b[0;34m.\u001b[0m\u001b[0mdrop\u001b[0m\u001b[0;34m(\u001b[0m\u001b[0mlabels\u001b[0m\u001b[0;34m,\u001b[0m \u001b[0merrors\u001b[0m\u001b[0;34m=\u001b[0m\u001b[0merrors\u001b[0m\u001b[0;34m)\u001b[0m\u001b[0;34m\u001b[0m\u001b[0;34m\u001b[0m\u001b[0m\n\u001b[0m\u001b[1;32m   3144\u001b[0m             \u001b[0mresult\u001b[0m \u001b[0;34m=\u001b[0m \u001b[0mself\u001b[0m\u001b[0;34m.\u001b[0m\u001b[0mreindex\u001b[0m\u001b[0;34m(\u001b[0m\u001b[0;34m**\u001b[0m\u001b[0;34m{\u001b[0m\u001b[0maxis_name\u001b[0m\u001b[0;34m:\u001b[0m \u001b[0mnew_axis\u001b[0m\u001b[0;34m}\u001b[0m\u001b[0;34m)\u001b[0m\u001b[0;34m\u001b[0m\u001b[0;34m\u001b[0m\u001b[0m\n\u001b[1;32m   3145\u001b[0m \u001b[0;34m\u001b[0m\u001b[0m\n",
      "\u001b[0;32m~/anaconda3/lib/python3.6/site-packages/pandas/core/indexes/base.py\u001b[0m in \u001b[0;36mdrop\u001b[0;34m(self, labels, errors)\u001b[0m\n\u001b[1;32m   4402\u001b[0m             \u001b[0;32mif\u001b[0m \u001b[0merrors\u001b[0m \u001b[0;34m!=\u001b[0m \u001b[0;34m'ignore'\u001b[0m\u001b[0;34m:\u001b[0m\u001b[0;34m\u001b[0m\u001b[0;34m\u001b[0m\u001b[0m\n\u001b[1;32m   4403\u001b[0m                 raise KeyError(\n\u001b[0;32m-> 4404\u001b[0;31m                     '{} not found in axis'.format(labels[mask]))\n\u001b[0m\u001b[1;32m   4405\u001b[0m             \u001b[0mindexer\u001b[0m \u001b[0;34m=\u001b[0m \u001b[0mindexer\u001b[0m\u001b[0;34m[\u001b[0m\u001b[0;34m~\u001b[0m\u001b[0mmask\u001b[0m\u001b[0;34m]\u001b[0m\u001b[0;34m\u001b[0m\u001b[0;34m\u001b[0m\u001b[0m\n\u001b[1;32m   4406\u001b[0m         \u001b[0;32mreturn\u001b[0m \u001b[0mself\u001b[0m\u001b[0;34m.\u001b[0m\u001b[0mdelete\u001b[0m\u001b[0;34m(\u001b[0m\u001b[0mindexer\u001b[0m\u001b[0;34m)\u001b[0m\u001b[0;34m\u001b[0m\u001b[0;34m\u001b[0m\u001b[0m\n",
      "\u001b[0;31mKeyError\u001b[0m: \"['Unnamed: 0'] not found in axis\""
     ]
    }
   ],
   "source": [
    "# drop strange first column 'Unnamed: 0'\n",
    "ivan.drop(['Unnamed: 0'], axis=1,inplace=True)"
   ]
  },
  {
   "cell_type": "code",
   "execution_count": null,
   "metadata": {},
   "outputs": [],
   "source": [
    "# drop unneccessary \"harvested_date\"\n",
    "ivan.drop(\"harvested_date\",axis=1,inplace=True)"
   ]
  },
  {
   "cell_type": "code",
   "execution_count": 11,
   "metadata": {},
   "outputs": [],
   "source": [
    "# Do some date formatting, set the election date\n",
    "# edit code to work with DF, rather than list?\n",
    "#import datetime\n",
    "#election_day_datetime = datetime.datetime(2016, 11, 8)\n",
    "#tweets = []\n",
    "#for t in all_tweets:\n",
    "#    date_array = t[5].split(' ')[0].split('/')\n",
    "#    year = int(date_array[2])\n",
    "#    month = int(date_array[0])\n",
    "#    day = int(date_array[1])\n",
    "#    if t[4] == 'English' and datetime.datetime(year, month, day) <= election_day_datetime:\n",
    "#        tweets.append(t)"
   ]
  },
  {
   "cell_type": "code",
   "execution_count": null,
   "metadata": {},
   "outputs": [],
   "source": [
    "ivan.describe(include=\"all\")"
   ]
  },
  {
   "cell_type": "code",
   "execution_count": null,
   "metadata": {},
   "outputs": [],
   "source": [
    "# Check for/count NAs\n",
    "ivan.isna().sum()"
   ]
  },
  {
   "cell_type": "code",
   "execution_count": null,
   "metadata": {},
   "outputs": [],
   "source": [
    "# count duplicate tweets\n",
    "print(\"\",ivan.shape[0] - ivan.drop_duplicates(subset=\"content\").shape[0], \"duplicate tweets.\")"
   ]
  },
  {
   "cell_type": "code",
   "execution_count": 15,
   "metadata": {},
   "outputs": [
    {
     "name": "stdout",
     "output_type": "stream",
     "text": [
      "Rows after dropping dupes: 2365553\n"
     ]
    }
   ],
   "source": [
    "# Drop duplicate tweets\n",
    "ivan.drop_duplicates(subset=\"content\",inplace=True)\n",
    "print(\"Rows after dropping dupes:\",ivan.shape[0])"
   ]
  },
  {
   "cell_type": "markdown",
   "metadata": {},
   "source": [
    "## EDA"
   ]
  },
  {
   "cell_type": "code",
   "execution_count": 36,
   "metadata": {},
   "outputs": [
    {
     "data": {
      "text/plain": [
       "2808"
      ]
     },
     "execution_count": 36,
     "metadata": {},
     "output_type": "execute_result"
    }
   ],
   "source": [
    "# how many unique authors?\n",
    "# df.author.value_counts().shape[0]\n",
    "ivan.author.nunique()"
   ]
  },
  {
   "cell_type": "markdown",
   "metadata": {},
   "source": [
    "### Authors\n",
    "The 3 million tweets were created by only 2,843 authors."
   ]
  },
  {
   "cell_type": "code",
   "execution_count": 17,
   "metadata": {},
   "outputs": [
    {
     "data": {
      "text/plain": [
       "EXQUOTE            59172\n",
       "SCREAMYMONKEY      40644\n",
       "WORLDNEWSPOLI      35154\n",
       "AMELIEBALDWIN      34576\n",
       "TODAYPITTSBURGH    31460\n",
       "SPECIALAFFAIR      30802\n",
       "SEATTLE_POST       29467\n",
       "FINDDIET           29037\n",
       "KANSASDAILYNEWS    28762\n",
       "DAILYSANFRAN       27702\n",
       "ROOMOFRUMOR        26285\n",
       "JENN_ABRAMS        22261\n",
       "CHICAGODAILYNEW    22066\n",
       "COVFEFENATIONUS    21721\n",
       "POLITICS_T0DAY     21360\n",
       "RIAFANRU           20972\n",
       "FUNDDIET           19992\n",
       "BERLINBOTE         19546\n",
       "TODAYNYCITY        18482\n",
       "ONLINECLEVELAND    17658\n",
       "WORLDOFHASHTAGS    17262\n",
       "TODAYINSYRIA       15360\n",
       "HYDDROX            15096\n",
       "OLD_NEW_POLICY     14779\n",
       "ARM_2_ALAN         14402\n",
       "Name: author, dtype: int64"
      ]
     },
     "execution_count": 17,
     "metadata": {},
     "output_type": "execute_result"
    }
   ],
   "source": [
    "# get the number of tweets by the top 25 authors\n",
    "ivan.author.value_counts().head(25)"
   ]
  },
  {
   "cell_type": "code",
   "execution_count": 18,
   "metadata": {},
   "outputs": [
    {
     "data": {
      "text/plain": [
       "634018"
      ]
     },
     "execution_count": 18,
     "metadata": {},
     "output_type": "execute_result"
    }
   ],
   "source": [
    "ivan.author.value_counts().head(25).sum()"
   ]
  },
  {
   "cell_type": "markdown",
   "metadata": {},
   "source": [
    "### Top Authors\n",
    "The top 25 handles accounted for 663,136 tweets."
   ]
  },
  {
   "cell_type": "code",
   "execution_count": 19,
   "metadata": {},
   "outputs": [
    {
     "data": {
      "text/plain": [
       "count    2.365553e+06\n",
       "mean     3.858790e+03\n",
       "std      5.934234e+03\n",
       "min     -1.000000e+00\n",
       "25%      4.090000e+02\n",
       "50%      1.809000e+03\n",
       "75%      5.199000e+03\n",
       "max      7.621000e+04\n",
       "Name: following, dtype: float64"
      ]
     },
     "execution_count": 19,
     "metadata": {},
     "output_type": "execute_result"
    }
   ],
   "source": [
    "ivan['following'].describe()  "
   ]
  },
  {
   "cell_type": "code",
   "execution_count": 20,
   "metadata": {},
   "outputs": [
    {
     "data": {
      "text/plain": [
       "count    2.365553e+06\n",
       "mean     8.170018e+03\n",
       "std      1.558168e+04\n",
       "min     -1.000000e+00\n",
       "25%      4.950000e+02\n",
       "50%      1.794000e+03\n",
       "75%      1.271000e+04\n",
       "max      2.512760e+05\n",
       "Name: followers, dtype: float64"
      ]
     },
     "execution_count": 20,
     "metadata": {},
     "output_type": "execute_result"
    }
   ],
   "source": [
    "ivan['followers'].describe()"
   ]
  },
  {
   "cell_type": "code",
   "execution_count": 21,
   "metadata": {},
   "outputs": [],
   "source": [
    "# get followers/following avg count for Top 25"
   ]
  },
  {
   "cell_type": "code",
   "execution_count": 42,
   "metadata": {},
   "outputs": [],
   "source": [
    "# look at 'new_june_2018' - see % of accounts that were new in june, 2018\n",
    "new18 = ivan.loc[ivan['new_june_2018'] == 1]"
   ]
  },
  {
   "cell_type": "code",
   "execution_count": 35,
   "metadata": {},
   "outputs": [
    {
     "data": {
      "text/html": [
       "<div>\n",
       "<style scoped>\n",
       "    .dataframe tbody tr th:only-of-type {\n",
       "        vertical-align: middle;\n",
       "    }\n",
       "\n",
       "    .dataframe tbody tr th {\n",
       "        vertical-align: top;\n",
       "    }\n",
       "\n",
       "    .dataframe thead th {\n",
       "        text-align: right;\n",
       "    }\n",
       "</style>\n",
       "<table border=\"1\" class=\"dataframe\">\n",
       "  <thead>\n",
       "    <tr style=\"text-align: right;\">\n",
       "      <th></th>\n",
       "      <th>external_author_id</th>\n",
       "      <th>author</th>\n",
       "      <th>content</th>\n",
       "      <th>region</th>\n",
       "      <th>language</th>\n",
       "      <th>publish_date</th>\n",
       "      <th>following</th>\n",
       "      <th>followers</th>\n",
       "      <th>updates</th>\n",
       "      <th>post_type</th>\n",
       "      <th>account_type</th>\n",
       "      <th>retweet</th>\n",
       "      <th>account_category</th>\n",
       "      <th>new_june_2018</th>\n",
       "      <th>alt_external_id</th>\n",
       "      <th>tweet_id</th>\n",
       "      <th>article_url</th>\n",
       "      <th>tco1_step1</th>\n",
       "      <th>tco2_step1</th>\n",
       "      <th>tco3_step1</th>\n",
       "    </tr>\n",
       "  </thead>\n",
       "  <tbody>\n",
       "    <tr>\n",
       "      <th>5118</th>\n",
       "      <td>1670773585</td>\n",
       "      <td>4EVER_SUSAN</td>\n",
       "      <td>#Raiders defense playing hungry .. Bending and...</td>\n",
       "      <td>United States</td>\n",
       "      <td>English</td>\n",
       "      <td>2015-12-13 22:52:00</td>\n",
       "      <td>76</td>\n",
       "      <td>59</td>\n",
       "      <td>9</td>\n",
       "      <td>RETWEET</td>\n",
       "      <td>Right</td>\n",
       "      <td>1</td>\n",
       "      <td>RightTroll</td>\n",
       "      <td>1</td>\n",
       "      <td>1670773585</td>\n",
       "      <td>676172915725897728</td>\n",
       "      <td>http://twitter.com/4ever_susan/statuses/676172...</td>\n",
       "      <td>NaN</td>\n",
       "      <td>NaN</td>\n",
       "      <td>NaN</td>\n",
       "    </tr>\n",
       "    <tr>\n",
       "      <th>5119</th>\n",
       "      <td>1670773585</td>\n",
       "      <td>4EVER_SUSAN</td>\n",
       "      <td>Let's go offense !!!! Start Up the #Carr !!!! ...</td>\n",
       "      <td>United States</td>\n",
       "      <td>English</td>\n",
       "      <td>2015-12-13 22:52:00</td>\n",
       "      <td>76</td>\n",
       "      <td>59</td>\n",
       "      <td>11</td>\n",
       "      <td>RETWEET</td>\n",
       "      <td>Right</td>\n",
       "      <td>1</td>\n",
       "      <td>RightTroll</td>\n",
       "      <td>1</td>\n",
       "      <td>1670773585</td>\n",
       "      <td>676172972047003649</td>\n",
       "      <td>http://twitter.com/4ever_susan/statuses/676172...</td>\n",
       "      <td>NaN</td>\n",
       "      <td>NaN</td>\n",
       "      <td>NaN</td>\n",
       "    </tr>\n",
       "    <tr>\n",
       "      <th>5120</th>\n",
       "      <td>1670773585</td>\n",
       "      <td>4EVER_SUSAN</td>\n",
       "      <td>I was shocked and heartbroken when @CBS cancel...</td>\n",
       "      <td>United States</td>\n",
       "      <td>English</td>\n",
       "      <td>2015-12-14 20:34:00</td>\n",
       "      <td>76</td>\n",
       "      <td>58</td>\n",
       "      <td>15</td>\n",
       "      <td>RETWEET</td>\n",
       "      <td>Right</td>\n",
       "      <td>1</td>\n",
       "      <td>RightTroll</td>\n",
       "      <td>1</td>\n",
       "      <td>1670773585</td>\n",
       "      <td>676500598980657152</td>\n",
       "      <td>http://twitter.com/4ever_susan/statuses/676500...</td>\n",
       "      <td>NaN</td>\n",
       "      <td>NaN</td>\n",
       "      <td>NaN</td>\n",
       "    </tr>\n",
       "    <tr>\n",
       "      <th>5121</th>\n",
       "      <td>1670773585</td>\n",
       "      <td>4EVER_SUSAN</td>\n",
       "      <td>I used to call Eden Hazard 'overrated' as a jo...</td>\n",
       "      <td>United States</td>\n",
       "      <td>English</td>\n",
       "      <td>2015-12-14 20:34:00</td>\n",
       "      <td>76</td>\n",
       "      <td>58</td>\n",
       "      <td>17</td>\n",
       "      <td>RETWEET</td>\n",
       "      <td>Right</td>\n",
       "      <td>1</td>\n",
       "      <td>RightTroll</td>\n",
       "      <td>1</td>\n",
       "      <td>1670773585</td>\n",
       "      <td>676500644597858304</td>\n",
       "      <td>http://twitter.com/4ever_susan/statuses/676500...</td>\n",
       "      <td>NaN</td>\n",
       "      <td>NaN</td>\n",
       "      <td>NaN</td>\n",
       "    </tr>\n",
       "    <tr>\n",
       "      <th>5122</th>\n",
       "      <td>1670773585</td>\n",
       "      <td>4EVER_SUSAN</td>\n",
       "      <td>The Holidays are in full swing.  Need gift ide...</td>\n",
       "      <td>United States</td>\n",
       "      <td>English</td>\n",
       "      <td>2015-12-14 20:34:00</td>\n",
       "      <td>76</td>\n",
       "      <td>58</td>\n",
       "      <td>16</td>\n",
       "      <td>RETWEET</td>\n",
       "      <td>Right</td>\n",
       "      <td>1</td>\n",
       "      <td>RightTroll</td>\n",
       "      <td>1</td>\n",
       "      <td>1670773585</td>\n",
       "      <td>676500621457920000</td>\n",
       "      <td>http://twitter.com/4ever_susan/statuses/676500...</td>\n",
       "      <td>http://aol.it/1RIKcxc</td>\n",
       "      <td>NaN</td>\n",
       "      <td>NaN</td>\n",
       "    </tr>\n",
       "  </tbody>\n",
       "</table>\n",
       "</div>"
      ],
      "text/plain": [
       "     external_author_id       author  \\\n",
       "5118         1670773585  4EVER_SUSAN   \n",
       "5119         1670773585  4EVER_SUSAN   \n",
       "5120         1670773585  4EVER_SUSAN   \n",
       "5121         1670773585  4EVER_SUSAN   \n",
       "5122         1670773585  4EVER_SUSAN   \n",
       "\n",
       "                                                content         region  \\\n",
       "5118  #Raiders defense playing hungry .. Bending and...  United States   \n",
       "5119  Let's go offense !!!! Start Up the #Carr !!!! ...  United States   \n",
       "5120  I was shocked and heartbroken when @CBS cancel...  United States   \n",
       "5121  I used to call Eden Hazard 'overrated' as a jo...  United States   \n",
       "5122  The Holidays are in full swing.  Need gift ide...  United States   \n",
       "\n",
       "     language        publish_date  following  followers  updates post_type  \\\n",
       "5118  English 2015-12-13 22:52:00         76         59        9   RETWEET   \n",
       "5119  English 2015-12-13 22:52:00         76         59       11   RETWEET   \n",
       "5120  English 2015-12-14 20:34:00         76         58       15   RETWEET   \n",
       "5121  English 2015-12-14 20:34:00         76         58       17   RETWEET   \n",
       "5122  English 2015-12-14 20:34:00         76         58       16   RETWEET   \n",
       "\n",
       "     account_type  retweet account_category  new_june_2018 alt_external_id  \\\n",
       "5118        Right        1       RightTroll              1      1670773585   \n",
       "5119        Right        1       RightTroll              1      1670773585   \n",
       "5120        Right        1       RightTroll              1      1670773585   \n",
       "5121        Right        1       RightTroll              1      1670773585   \n",
       "5122        Right        1       RightTroll              1      1670773585   \n",
       "\n",
       "                tweet_id                                        article_url  \\\n",
       "5118  676172915725897728  http://twitter.com/4ever_susan/statuses/676172...   \n",
       "5119  676172972047003649  http://twitter.com/4ever_susan/statuses/676172...   \n",
       "5120  676500598980657152  http://twitter.com/4ever_susan/statuses/676500...   \n",
       "5121  676500644597858304  http://twitter.com/4ever_susan/statuses/676500...   \n",
       "5122  676500621457920000  http://twitter.com/4ever_susan/statuses/676500...   \n",
       "\n",
       "                 tco1_step1 tco2_step1 tco3_step1  \n",
       "5118                    NaN        NaN        NaN  \n",
       "5119                    NaN        NaN        NaN  \n",
       "5120                    NaN        NaN        NaN  \n",
       "5121                    NaN        NaN        NaN  \n",
       "5122  http://aol.it/1RIKcxc        NaN        NaN  "
      ]
     },
     "execution_count": 35,
     "metadata": {},
     "output_type": "execute_result"
    }
   ],
   "source": [
    "new18.head()"
   ]
  },
  {
   "cell_type": "code",
   "execution_count": 23,
   "metadata": {},
   "outputs": [
    {
     "data": {
      "text/plain": [
       "1    442088\n",
       "Name: new_june_2018, dtype: int64"
      ]
     },
     "execution_count": 23,
     "metadata": {},
     "output_type": "execute_result"
    }
   ],
   "source": [
    "# get number of rows with 'new_june_2018' == 1\n",
    "new18['new_june_2018'].value_counts()"
   ]
  },
  {
   "cell_type": "code",
   "execution_count": 32,
   "metadata": {},
   "outputs": [
    {
     "data": {
      "text/plain": [
       "2808"
      ]
     },
     "execution_count": 32,
     "metadata": {},
     "output_type": "execute_result"
    }
   ],
   "source": [
    "# Get number of unique authors\n",
    "len(ivan['author'].unique())"
   ]
  },
  {
   "cell_type": "code",
   "execution_count": 46,
   "metadata": {},
   "outputs": [],
   "source": [
    "# get unique authors with ['new_june_2018'] == 1\n",
    "#len(new18['author'].unique()) # 916\n",
    "new18_handles = new18['author'].unique()"
   ]
  },
  {
   "cell_type": "code",
   "execution_count": 57,
   "metadata": {},
   "outputs": [
    {
     "name": "stdout",
     "output_type": "stream",
     "text": [
      "33.0 % of users were 'new' as of June, 2018\n"
     ]
    }
   ],
   "source": [
    "# % of users who were new in June of 18\n",
    "new_pct = ( len(new18['author'].unique()) / len(ivan['author'].unique()))\n",
    "new_pct = (round(new_pct,2)) * 100 \n",
    "print(new_pct,\"% of users were 'new' as of June, 2018\")"
   ]
  },
  {
   "cell_type": "code",
   "execution_count": 37,
   "metadata": {},
   "outputs": [
    {
     "data": {
      "text/plain": [
       "Right         610470\n",
       "Russian       495166\n",
       "local         447342\n",
       "Left          327502\n",
       "news          131348\n",
       "Commercial    121677\n",
       "Hashtager     109743\n",
       "German         80686\n",
       "Italian        14858\n",
       "?              11350\n",
       "Koch            7675\n",
       "Arabic          6201\n",
       "French           976\n",
       "Spanish          282\n",
       "ZAPOROSHIA       108\n",
       "Portuguese        98\n",
       "Ebola             65\n",
       "Ukranian           4\n",
       "Uzbek              2\n",
       "Name: account_type, dtype: int64"
      ]
     },
     "execution_count": 37,
     "metadata": {},
     "output_type": "execute_result"
    }
   ],
   "source": [
    "# get counts of account_type\n",
    "# `account_type` - Specific account theme, as coded by Linvill and Warren\n",
    "ivan['account_type'].value_counts()"
   ]
  },
  {
   "cell_type": "code",
   "execution_count": null,
   "metadata": {},
   "outputs": [],
   "source": []
  }
 ],
 "metadata": {
  "hide_input": false,
  "kernelspec": {
   "display_name": "Python 3",
   "language": "python",
   "name": "python3"
  },
  "language_info": {
   "codemirror_mode": {
    "name": "ipython",
    "version": 3
   },
   "file_extension": ".py",
   "mimetype": "text/x-python",
   "name": "python",
   "nbconvert_exporter": "python",
   "pygments_lexer": "ipython3",
   "version": "3.6.7"
  }
 },
 "nbformat": 4,
 "nbformat_minor": 2
}
