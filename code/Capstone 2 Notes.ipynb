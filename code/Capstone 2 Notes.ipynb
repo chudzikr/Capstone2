{
 "cells": [
  {
   "cell_type": "markdown",
   "metadata": {},
   "source": [
    "# Capstone 2 Project Notes\n",
    "### *Mining the Russian Troll Farm* "
   ]
  },
  {
   "cell_type": "markdown",
   "metadata": {},
   "source": [
    "* Did the tweets increase in frequency or volume around the time of major events? \n",
    "* Did other trolls retweet and amplify troll tweets?\n",
    "* Can clusters be made of Twitter handles/’users’ grouped with similar features?\n",
    "* Can common topics or themes be identified?\n",
    "* What were the most-used hashtags?\n",
    "* Did the tweets predominantly support one candidate or political party, or seek to undermine the other?\n"
   ]
  },
  {
   "cell_type": "markdown",
   "metadata": {},
   "source": [
    "**From Kevin:**\n",
    "* Test and set up everything using one data file, then build the pipeline for running it on all the data\n",
    "* If the data ends up being too large, look at Spark and AWS\n",
    "\n"
   ]
  },
  {
   "cell_type": "markdown",
   "metadata": {},
   "source": [
    "* Parse dates  \n",
    "* Parse @  \n",
    "* Parse #\n"
   ]
  },
  {
   "cell_type": "markdown",
   "metadata": {},
   "source": [
    "### Plan\n",
    "* Load\n",
    "* Clean\n",
    "* EDA\n",
    "* Choose NLP Library that is best for type of analysis/easiest to use\n",
    "* NLP analysis"
   ]
  },
  {
   "cell_type": "markdown",
   "metadata": {},
   "source": [
    "## Ideas\n",
    "* Use **Gensim word vectors** to visualize relationships\n",
    "* ** Tf-idf -** Allows you to determine the most important words in each document\n",
    "\n",
    "**Named Entity Recognition**  \n",
    "Used with Topic Identification or on it’s own\n",
    "* recognize important named entities in text\n",
    "* people, places, orgs\n",
    "* dates, states, works of art, etc...\n",
    "* Can be used with topic recognition\n",
    "* who, when, where\n",
    "* Stanford NLP library\n",
    "\n",
    "**SpaCy**\n",
    "* Focus on creating NLP pipelines to generate models and corpora\n",
    "* Also has **Displacy entity recognition visualizer**\n",
    "* Easy pipeline creation\n",
    "* Different entity types compared to nltk\n",
    "* Informal language corpora\n",
    "* Easily find entities **in Tweets** and chat messages\n",
    "\n",
    "**Network Analysis**\n",
    "* Use any of the network analysis tools from DataCamp course?\n",
    "* Too much to get done without adding more?"
   ]
  },
  {
   "cell_type": "raw",
   "metadata": {},
   "source": [
    "#Unused code\n",
    "# read all csv files from directory, append to a list\n",
    "\n",
    "import csv\n",
    "import glob\n",
    "\n",
    "file_names = []\n",
    "for file_name in glob.glob('../data/*.csv'):\n",
    "    file_names.append(file_name)\n",
    "sorted_file_names = sorted(file_names)\n",
    "\n",
    "all_tweets = []\n",
    "header_row = []\n",
    "for file_name in sorted_file_names:\n",
    "    with open(file_name, 'r') as csv_file:\n",
    "        csv_reader = csv.reader(csv_file)\n",
    "        first = True\n",
    "        for row in csv_reader:\n",
    "            if first == True:\n",
    "                header_row = row\n",
    "                first = False\n",
    "            else:\n",
    "                all_tweets.append(row)"
   ]
  }
 ],
 "metadata": {
  "hide_input": false,
  "kernelspec": {
   "display_name": "Python 3",
   "language": "python",
   "name": "python3"
  },
  "language_info": {
   "codemirror_mode": {
    "name": "ipython",
    "version": 3
   },
   "file_extension": ".py",
   "mimetype": "text/x-python",
   "name": "python",
   "nbconvert_exporter": "python",
   "pygments_lexer": "ipython3",
   "version": "3.6.7"
  }
 },
 "nbformat": 4,
 "nbformat_minor": 2
}
