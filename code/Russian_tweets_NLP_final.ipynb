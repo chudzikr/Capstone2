{
 "cells": [
  {
   "cell_type": "markdown",
   "metadata": {},
   "source": [
    "# Capstone 2 Project - Russian Troll Tweets NLP"
   ]
  },
  {
   "cell_type": "markdown",
   "metadata": {},
   "source": [
    "### Initial tweet data exploration\n",
    "First, I'll join together all of the tweet data, reading and joining all of the 13 data files"
   ]
  },
  {
   "cell_type": "markdown",
   "metadata": {},
   "source": [
    "I will use the Tweets to explore questions about the nature of the disinformation campaign, such as:\n",
    "* Did other trolls retweet and amplify troll tweets?\n",
    "* Can common topics or themes be identified?\n",
    "* What were the most-used hashtags?\n",
    "* Did the tweets predominantly support one candidate or political party, or seek to undermine the other?\n",
    "\n",
    "After the analysis of the entire set of troll tweets, I will segment the troll classes and analyze each individually.  The \"troll classes\", as defined by Clemson University's Darren Linvill and Patrick Warren in their analysis of the Russian Troll Farm Twitter data."
   ]
  },
  {
   "cell_type": "markdown",
   "metadata": {},
   "source": [
    "## Data Dictionary\n",
    "\n",
    "Header | Definition\n",
    "-------|---------\n",
    "`external_author_id` | An author account ID from Twitter \n",
    "`author` | The handle sending the tweet\n",
    "`content` | The text of the tweet\n",
    "`region` | A region classification, as [determined by Social Studio](https://help.salesforce.com/articleView?   id=000199367&type=1)\n",
    "`language` | The language of the tweet\n",
    "`publish_date` | The date and time the tweet was sent\n",
    "`harvested_date` | The date and time the tweet was collected by Social Studio\n",
    "`following` | The number of accounts the handle was following at the time of the tweet\n",
    "`followers` | The number of followers the handle had at the time of the tweet\n",
    "`updates` | The number of “update actions” on the account that authored the tweet, including tweets, retweets and likes\n",
    "`post_type` | Indicates if the tweet was a retweet or a quote-tweet\n",
    "`account_type` | Specific account theme, as coded by Linvill and Warren\n",
    "`retweet` | A binary indicator of whether or not the tweet is a retweet\n",
    "`account_category` | General account theme, as coded by Linvill and Warren\n",
    "`new_june_2018` | A binary indicator of whether the handle was newly listed in June 2018"
   ]
  },
  {
   "cell_type": "code",
   "execution_count": 1,
   "metadata": {},
   "outputs": [],
   "source": [
    "# import standard libraries\n",
    "import pandas as pd\n",
    "pd.set_option(\"display.max_colwidth\", 200)\n",
    "#import numpy as np\n",
    "#import datetime\n",
    "import re\n",
    "import matplotlib.pyplot as plt\n",
    "import seaborn as sns\n",
    "#get_ipython().run_line_magic('matplotlib', 'inline')"
   ]
  },
  {
   "cell_type": "code",
   "execution_count": 2,
   "metadata": {},
   "outputs": [],
   "source": [
    "# import nltk libraries\n",
    "from nltk.corpus import stopwords\n",
    "from nltk import FreqDist\n",
    "#nltk.download('stopwords') # run one time"
   ]
  },
  {
   "cell_type": "code",
   "execution_count": 3,
   "metadata": {},
   "outputs": [],
   "source": [
    "# import gensim libraries\n",
    "from gensim.models.ldamulticore import LdaMulticore\n",
    "from gensim.test.utils import datapath\n",
    "from gensim import corpora\n",
    "from gensim.utils import any2unicode"
   ]
  },
  {
   "cell_type": "code",
   "execution_count": 4,
   "metadata": {},
   "outputs": [],
   "source": [
    "# Read in the cleaned\n",
    "df = pd.read_csv('../data/all_IRAhandle_tweets.csv', parse_dates = ['publish_date', 'harvested_date'], encoding='utf-8',low_memory=False)\n",
    "# print(df.shape)"
   ]
  },
  {
   "cell_type": "code",
   "execution_count": 5,
   "metadata": {},
   "outputs": [],
   "source": [
    "#df.drop('Unnamed: 0', axis=1, inplace=True)\n",
    "# drop rows with problematic character encoding\n",
    "df.drop([58, 59], axis=0, inplace=True)"
   ]
  },
  {
   "cell_type": "code",
   "execution_count": 6,
   "metadata": {},
   "outputs": [],
   "source": [
    "df['cleaned'] = df['content'].fillna('').astype(str).map(any2unicode)"
   ]
  },
  {
   "cell_type": "markdown",
   "metadata": {},
   "source": [
    "## Text Preprocessing\n",
    "* Noise Removal\n",
    "* Tokenization\n",
    "* Normalization  \n",
    "(1) stemming\n",
    "(2) lemmatization, and \n",
    "(3) everything else"
   ]
  },
  {
   "cell_type": "markdown",
   "metadata": {},
   "source": [
    "### Remove URLs and non-English Characters"
   ]
  },
  {
   "cell_type": "code",
   "execution_count": 7,
   "metadata": {},
   "outputs": [],
   "source": [
    "def preprocess_text(text):\n",
    "    '''Remove URLs and Non-English characters, except for @ and #'''\n",
    "    # remove URL's\n",
    "    text = re.sub(r'\\w+:\\/{2}[\\d\\w-]+(\\.[\\d\\w-]+)*(?:(?:\\/[^\\s/]*))*', '', text)\n",
    "\n",
    "    # remove symbols excluding the @, # and \\s symbol\n",
    "    text = re.sub(r'[^\\w@#\\s]', '', text)\n",
    "\n",
    "    # remove URL's\n",
    "    text = re.sub('(https://[^\\s]+)', '', text)\n",
    "    text = re.sub('https?://[A-Za-z0-9./]+', '', text)\n",
    "\n",
    "    # remove URL's\n",
    "    text = re.sub('http?://[A-Za-z0-9./]+', '', text)\n",
    "\n",
    "    # lowercase, remove words less than len 2 & remove numbers in tokenized list\n",
    "    #return [word.lower() for word in text if len(word) > 2 and not word.isdigit() and not word in ignore_words]\n",
    "    return text"
   ]
  },
  {
   "cell_type": "code",
   "execution_count": 8,
   "metadata": {},
   "outputs": [],
   "source": [
    "df['cleaned'] = df['cleaned'].apply(preprocess_text)"
   ]
  },
  {
   "cell_type": "markdown",
   "metadata": {},
   "source": [
    "### Hashtag Analysis"
   ]
  },
  {
   "cell_type": "code",
   "execution_count": 9,
   "metadata": {},
   "outputs": [],
   "source": [
    "# regex to find hashtags\n",
    "hashtag_re = re.compile(\"(?:^|\\s)[＃#]{1}(\\w+)\", re.UNICODE)\n",
    "\n",
    "def extract_hashtags(tweet):\n",
    "    '''Take in tweet contents from 'cleaned' content, extract hashtags and return cleaned text'''\n",
    "    hashtags_only = []\n",
    "    if len(re.findall(hashtag_re, tweet)) > 0:\n",
    "        hashtags_only.append(re.findall(hashtag_re, tweet))\n",
    "    else:\n",
    "        hashtags_only.append([\"0\"])\n",
    "    return hashtags_only[0]"
   ]
  },
  {
   "cell_type": "code",
   "execution_count": 10,
   "metadata": {
    "scrolled": true
   },
   "outputs": [
    {
     "data": {
      "text/plain": [
       "0                     [0]\n",
       "1                     [0]\n",
       "2            [BoycottNFL]\n",
       "3                     [0]\n",
       "4     [StandForOurAnthem]\n",
       "5                     [0]\n",
       "6                     [0]\n",
       "7                     [0]\n",
       "8                     [0]\n",
       "9                     [0]\n",
       "10                    [0]\n",
       "11                    [0]\n",
       "12                    [0]\n",
       "13                    [0]\n",
       "14                    [0]\n",
       "15                    [0]\n",
       "16                    [0]\n",
       "17                    [0]\n",
       "18                    [0]\n",
       "19                    [0]\n",
       "20                    [0]\n",
       "21                    [0]\n",
       "22                    [0]\n",
       "23                    [0]\n",
       "24         [HipHopAwards]\n",
       "Name: hashtags, dtype: object"
      ]
     },
     "execution_count": 10,
     "metadata": {},
     "output_type": "execute_result"
    }
   ],
   "source": [
    "# Create a new column to store hashtags, extract hashtags from 'content'\n",
    "df['hashtags'] = df['cleaned'].map(extract_hashtags)\n",
    "df['hashtags'].head(25)"
   ]
  },
  {
   "cell_type": "code",
   "execution_count": 11,
   "metadata": {},
   "outputs": [],
   "source": [
    "# remove all hashtags from a tweet\n",
    "def remove_hashtags(tweet):\n",
    "    '''After extracting hashtags, take in tweet content and remove hashtags'''\n",
    "    hashtags_only = []\n",
    "    if len(re.findall(hashtag_re, tweet)) > 0:\n",
    "        tweet = re.sub(hashtag_re, \"\", tweet)\n",
    "    hashtags_only.append(tweet)\n",
    "    return hashtags_only[0]"
   ]
  },
  {
   "cell_type": "code",
   "execution_count": 12,
   "metadata": {},
   "outputs": [],
   "source": [
    "# Clean hashtags fron 'cleaned' content\n",
    "df['cleaned'] = df['cleaned'].apply(remove_hashtags)"
   ]
  },
  {
   "cell_type": "code",
   "execution_count": 13,
   "metadata": {},
   "outputs": [
    {
     "name": "stdout",
     "output_type": "stream",
     "text": [
      "0                    1816120\n",
      "news                  128754\n",
      "sports                 48641\n",
      "politics               39744\n",
      "world                  27558\n",
      "local                  25890\n",
      "TopNews                15149\n",
      "MAGA                   14701\n",
      "BlackLivesMatter       11950\n",
      "health                 11486\n",
      "tcot                   11447\n",
      "business               10850\n",
      "PJNET                  10401\n",
      "новости                10315\n",
      "tech                    8232\n",
      "entertainment           7586\n",
      "top                     7417\n",
      "Cleveland               6695\n",
      "TopVideo                6547\n",
      "crime                   6505\n",
      "ISIS                    6036\n",
      "Merkelmussbleiben       5818\n",
      "environment             5785\n",
      "Trump                   5741\n",
      "NowPlaying              5395\n",
      "dtype: int64\n"
     ]
    }
   ],
   "source": [
    "# create a list of all hashtags\n",
    "all_hashtags = df['hashtags'].tolist()\n",
    "\n",
    "# all_hashtags is a list of lists.\n",
    "cleaned_hashtags = []\n",
    "for i in all_hashtags:\n",
    "    for j in i:\n",
    "            cleaned_hashtags.append(j)\n",
    "\n",
    "# remove the '0' from the list\n",
    "def remove_values_from_list(the_list, val):\n",
    "   return [value for value in the_list if value != val]\n",
    "\n",
    "# cleaned_hashtags list\n",
    "cleaned_hashtags = remove_values_from_list(cleaned_hashtags, 0)\n",
    "\n",
    "# Convert cleaned_hashtags to a series and count the most frequent occuring\n",
    "cleaned_hashtag_series = pd.Series(cleaned_hashtags)\n",
    "hashtag_counts = cleaned_hashtag_series.value_counts()\n",
    "print(hashtag_counts[:25])"
   ]
  },
  {
   "cell_type": "markdown",
   "metadata": {},
   "source": [
    "### Get User Mentions"
   ]
  },
  {
   "cell_type": "code",
   "execution_count": 14,
   "metadata": {},
   "outputs": [],
   "source": [
    "#Regex to get user mentions \"@\":\n",
    "twitter_username_re = re.compile(\"(?:^|\\s)[＠ @]{1}([^\\s#<>[\\]|{}]+)\", re.UNICODE)\n",
    "\n",
    "def extract_usermentions(tweet):\n",
    "    '''Take in tweet contents from 'cleaned' col and extract user mentions'''\n",
    "    mentions_only = []\n",
    "    if len(re.findall(twitter_username_re, tweet)) > 0:\n",
    "        mentions_only.append(re.findall(twitter_username_re, tweet))\n",
    "    else:\n",
    "        mentions_only.append([\"0\"])\n",
    "    return mentions_only[0]"
   ]
  },
  {
   "cell_type": "code",
   "execution_count": 15,
   "metadata": {},
   "outputs": [
    {
     "data": {
      "text/plain": [
       "0                            [@nedryun]\n",
       "1                                   [0]\n",
       "2                                   [0]\n",
       "3                                   [0]\n",
       "4                                   [0]\n",
       "5                                   [0]\n",
       "6                                   [0]\n",
       "7    [SenatorMenendez, CarmenYulinCruz]\n",
       "8                                   [0]\n",
       "9                                 [CNN]\n",
       "Name: mentions, dtype: object"
      ]
     },
     "execution_count": 15,
     "metadata": {},
     "output_type": "execute_result"
    }
   ],
   "source": [
    "# make a new column to store the extracted mentions\n",
    "df['mentions'] = df['cleaned'].map(extract_usermentions)\n",
    "df['mentions'].head(10)"
   ]
  },
  {
   "cell_type": "code",
   "execution_count": 18,
   "metadata": {},
   "outputs": [
    {
     "name": "stdout",
     "output_type": "stream",
     "text": [
      "0                  1883327\n",
      "I                    27092\n",
      "via                  23618\n",
      "RT                   18887\n",
      "The                  12654\n",
      "realDonaldTrump      12457\n",
      "YouTube               8940\n",
      "midnight              7263\n",
      "Trump                 6651\n",
      "BREAKING              6479\n",
      "Im                    5517\n",
      "the                   5250\n",
      "POTUS                 4931\n",
      "is                    4578\n",
      "You                   4516\n",
      "с                     4478\n",
      "CNN                   4460\n",
      "A                     4428\n",
      "HillaryClinton        4085\n",
      "This                  3937\n",
      "and                   3814\n",
      "We                    3599\n",
      "AP                    3296\n",
      "you                   3271\n",
      "a                     3231\n",
      "dtype: int64\n"
     ]
    }
   ],
   "source": [
    "# create a list of all mentions\n",
    "all_mentions = df['mentions'].tolist()\n",
    "\n",
    "# all_hashtags is a list of lists.\n",
    "cleaned_mentions = []\n",
    "for i in all_mentions:\n",
    "    for j in i:\n",
    "            cleaned_mentions.append(j)\n",
    "\n",
    "# remove the '0' from the list\n",
    "def remove_values_from_list(the_list, val):\n",
    "   return [value for value in the_list if value != val]\n",
    "\n",
    "# cleaned_mentions list\n",
    "cleaned_mentions = remove_values_from_list(cleaned_mentions, 0)\n",
    "\n",
    "# Convert cleaned_hashtags to a series and count the most frequent occuring\n",
    "cleaned_mentions_series = pd.Series(cleaned_mentions)\n",
    "mention_counts = cleaned_mentions_series.value_counts()\n",
    "# remove first element with values of '0'\n",
    "# mention_counts = del mention_counts[0]\n",
    "print(mention_counts[:25])"
   ]
  },
  {
   "cell_type": "code",
   "execution_count": 19,
   "metadata": {},
   "outputs": [],
   "source": [
    "# remove all mentions from a tweet\n",
    "def remove_mentions(tweet):\n",
    "    '''Take tweet content and remove @mentions from it'''\n",
    "    mentions_only = []\n",
    "    if len(re.findall(\"(@[^@\\s]+)\", tweet)) > 0:\n",
    "        tweet = re.sub(\"(@[^@\\s]+)\", \"\", tweet)\n",
    "    mentions_only.append(tweet)\n",
    "    return mentions_only[0]"
   ]
  },
  {
   "cell_type": "code",
   "execution_count": 20,
   "metadata": {},
   "outputs": [],
   "source": [
    "#create list of content with no hashtags\n",
    "df['cleaned'] = df['cleaned'].apply(remove_mentions)"
   ]
  },
  {
   "cell_type": "code",
   "execution_count": 21,
   "metadata": {},
   "outputs": [],
   "source": [
    "# remove unwanted characters, numbers and symbols from the remaining content\n",
    "#df['cleaned'] = df['cleaned'].str.replace(\"[^a-zA-Z#]\", \" \")"
   ]
  },
  {
   "cell_type": "markdown",
   "metadata": {},
   "source": [
    "### Create dataframes for the troll classifications\n",
    "Create dataframes for each troll classification, for easier size to work with."
   ]
  },
  {
   "cell_type": "code",
   "execution_count": 22,
   "metadata": {},
   "outputs": [],
   "source": [
    "#right_troll = df.loc[df['account_category'] == 'RightTroll']\n",
    "#nonenglish = df.loc[df['account_category'] == 'NonEnglish']\n",
    "#fearmonger = df.loc[df['account_category'] == 'Fearmonger']\n",
    "#left_troll = df.loc[df['account_category'] == 'LeftTroll']\n",
    "#hashtagamer = df.loc[df['account_category'] == 'HashtagGamer']\n",
    "#newsfeed = df.loc[df['account_category'] == 'NewsFeed']\n",
    "#commercial = df.loc[df['account_category'] == 'Commercial']"
   ]
  },
  {
   "cell_type": "code",
   "execution_count": 23,
   "metadata": {},
   "outputs": [],
   "source": [
    "#right_troll.to_csv(\"../data/right_troll.csv\")\n",
    "#nonenglish.to_csv(\"../data/nonenglish.csv\")\n",
    "#fearmonger.to_csv(\"../data/fearmonger.csv\")\n",
    "#left_troll.to_csv(\"../data/left_troll.csv\")\n",
    "#hashtagamer.to_csv(\"../data/hashtagamer.csv\")\n",
    "#newsfeed.to_csv(\"../data/newsfeed.csv\")\n",
    "#commercial.to_csv(\"../data/commercial.csv\")"
   ]
  },
  {
   "cell_type": "markdown",
   "metadata": {},
   "source": [
    "## Remove stopwords\n",
    "Remove words < 3 letters, convert to lower case"
   ]
  },
  {
   "cell_type": "code",
   "execution_count": 24,
   "metadata": {},
   "outputs": [
    {
     "data": {
      "text/plain": [
       "0                  sitting democrat senator trial corruption youve barely heard peep mainstream media\n",
       "1              marshawn lynch arrives game antitrump shirt judging sagging pants shirt say lynch belt\n",
       "2      daughter fallen navy sailor delivers powerful monologue anthem protests burns nfl packers gear\n",
       "3    president trump dedicates presidents cup golf tournament trophy people florida texas puerto rico\n",
       "4                                                                    19000 respecting national anthem\n",
       "Name: cleaned, dtype: object"
      ]
     },
     "execution_count": 24,
     "metadata": {},
     "output_type": "execute_result"
    }
   ],
   "source": [
    "# remove short words (length < 3)\n",
    "df['cleaned'] = df['cleaned'].apply(lambda x: ' '.join([w for w in x.split() if len(w)>2]))\n",
    "\n",
    "# transform to lower-case\n",
    "df['cleaned'] = df['cleaned'].apply(lambda x: \" \".join(x.lower() for x in x.split()))\n",
    "#train['tweet'].head()\n",
    "\n",
    "#stop = set(stopwords.words('english'))\n",
    "stop = stopwords.words('english')\n",
    "\n",
    "#extend/add to stopwords - words that are commonly occuring but add no meaning\n",
    "#stopword_list += ['http', 'https', 'âµã', 'â½ã', 'â²ã', 'âºã', 'â¼ã', 'âµ']\n",
    "newStop = ['you','get', 'amp', 'one', 'new']\n",
    "stop.extend(newStop)\n",
    "\n",
    "df['cleaned'] = df['cleaned'].apply(lambda x: \" \".join(x for x in x.split() if x not in stop))\n",
    "df['cleaned'].head()"
   ]
  },
  {
   "cell_type": "code",
   "execution_count": 25,
   "metadata": {},
   "outputs": [],
   "source": [
    "#convert 'cleaned' Series to a list\n",
    "content = df['cleaned'].tolist()\n",
    "#content[:50]"
   ]
  },
  {
   "cell_type": "markdown",
   "metadata": {},
   "source": [
    "### Re-Check Fequency Distribution\n",
    "Re-check the word frequency distribution after doing some cleaning of the text."
   ]
  },
  {
   "cell_type": "code",
   "execution_count": 26,
   "metadata": {},
   "outputs": [],
   "source": [
    "# function to plot most frequent terms\n",
    "def freq_words(x, terms = 20):\n",
    "    ''' Take in a list of content, split into individual words, count occurrences, list 20 highest occurring words'''\n",
    "    all_words = ' '.join([text for text in x])\n",
    "    all_words = all_words.split()\n",
    "    fdist = FreqDist(all_words)\n",
    "    words_df = pd.DataFrame({'word':list(fdist.keys()), 'count':list(fdist.values())})\n",
    "    # selecting top 20 most frequent words\n",
    "    d = words_df.nlargest(columns=\"count\", n = terms)\n",
    "    return d"
   ]
  },
  {
   "cell_type": "code",
   "execution_count": 27,
   "metadata": {},
   "outputs": [
    {
     "name": "stdout",
     "output_type": "stream",
     "text": [
      "            word   count\n",
      "36         trump  128083\n",
      "500       police   57291\n",
      "481          man   54601\n",
      "43        people   53098\n",
      "259         like   45837\n",
      "191         dont   44280\n",
      "31154    workout   41780\n",
      "120        obama   39657\n",
      "603        black   38324\n",
      "479        video   37661\n",
      "698         says   36056\n",
      "1700      россии   31077\n",
      "1971         via   31037\n",
      "447        white   30707\n",
      "590         time   30254\n",
      "35     president   30063\n",
      "135     breaking   29862\n",
      "542          day   29860\n",
      "149      hillary   29809\n",
      "1644         что   29690\n"
     ]
    }
   ],
   "source": [
    "counts = freq_words(content, 20)\n",
    "print(counts)"
   ]
  },
  {
   "cell_type": "markdown",
   "metadata": {},
   "source": [
    "### Plot most frequently occurring words "
   ]
  },
  {
   "cell_type": "code",
   "execution_count": 28,
   "metadata": {},
   "outputs": [
    {
     "data": {
      "image/png": "[encoded data removed]",
      "text/plain": [
       "<Figure size 1440x360 with 1 Axes>"
      ]
     },
     "metadata": {
      "needs_background": "light"
     },
     "output_type": "display_data"
    }
   ],
   "source": [
    "# Plot most frequent words\n",
    "plt.figure(figsize=(20,5))\n",
    "# rotate and right align group names\n",
    "plt.xticks(rotation=45, ha='right')\n",
    "ax = sns.barplot(data=counts, x= \"word\", y = \"count\")\n",
    "ax.set(ylabel = 'Count')\n",
    "ax.set(title = 'Top 20 Most Frequent Words')    \n",
    "plt.show()"
   ]
  },
  {
   "cell_type": "markdown",
   "metadata": {},
   "source": [
    "## Troll Amplification\n",
    "Examining the troll \"echo chamber\". Are trolls retweeting or mentioning other trolls?"
   ]
  },
  {
   "cell_type": "code",
   "execution_count": 29,
   "metadata": {},
   "outputs": [
    {
     "name": "stdout",
     "output_type": "stream",
     "text": [
      "1752\n",
      "There are 1752 trolls in the echo chamber.\n"
     ]
    }
   ],
   "source": [
    "# read list of users created during EDA\n",
    "users = pd.read_csv('../data/users_totals.csv', encoding='utf-8',low_memory=False)\n",
    "\n",
    "userlist = users['author'].tolist()\n",
    "lc_userlist = [x.lower() for x in userlist]\n",
    "lc_userlist.sort()\n",
    "\n",
    "amplify = cleaned_mentions_series[cleaned_mentions_series.isin(lc_userlist)]\n",
    "\n",
    "print(amplify.shape[0])\n",
    "\n",
    "# Get counts of amplified troll tweets\n",
    "amp_counts = amplify.value_counts()\n",
    "print(\"There are\",(amplify.shape[0]), \"trolls in the echo chamber.\")"
   ]
  },
  {
   "cell_type": "markdown",
   "metadata": {},
   "source": [
    "### Normalization\n",
    "3 distinct steps:  \n",
    "* stemming  \n",
    "* lemmatization  \n",
    "* everything else"
   ]
  },
  {
   "cell_type": "markdown",
   "metadata": {},
   "source": [
    "### Lemmatization"
   ]
  },
  {
   "cell_type": "code",
   "execution_count": 30,
   "metadata": {},
   "outputs": [
    {
     "data": {
      "text/plain": [
       "0                sitting democrat senator trial corruption youve barely heard peep mainstream medium\n",
       "1              marshawn lynch arrives game antitrump shirt judging sagging pant shirt say lynch belt\n",
       "2        daughter fallen navy sailor delivers powerful monologue anthem protest burn nfl packer gear\n",
       "3    president trump dedicates president cup golf tournament trophy people florida texas puerto rico\n",
       "4                                                                   19000 respecting national anthem\n",
       "Name: cleaned, dtype: object"
      ]
     },
     "execution_count": 30,
     "metadata": {},
     "output_type": "execute_result"
    }
   ],
   "source": [
    "from textblob import Word\n",
    "df['cleaned'] = df['cleaned'].apply(lambda x: \" \".join([Word(word).lemmatize() for word in x.split()]))\n",
    "df['cleaned'].head()"
   ]
  },
  {
   "cell_type": "markdown",
   "metadata": {},
   "source": [
    "### Tokenize"
   ]
  },
  {
   "cell_type": "code",
   "execution_count": 31,
   "metadata": {},
   "outputs": [],
   "source": [
    "#create a list from df['cleaned']\n",
    "content_notags = df['cleaned'].tolist()\n",
    "\n",
    "# First, create a new column with the tokenized text\n",
    "from nltk.tokenize import TweetTokenizer\n",
    "tt = TweetTokenizer()\n",
    "#df['tokenized_text'] = df['content'].apply(tt.tokenize)\n",
    "# map tt.tokenize to 'content' list\n",
    "documents = list(map(tt.tokenize, content_notags))"
   ]
  },
  {
   "cell_type": "code",
   "execution_count": 32,
   "metadata": {},
   "outputs": [],
   "source": [
    "from collections import defaultdict\n",
    "\n",
    "frequency = defaultdict(int)\n",
    "for document in documents:\n",
    "    for token in document:\n",
    "        frequency[token] += 1"
   ]
  },
  {
   "cell_type": "code",
   "execution_count": 33,
   "metadata": {},
   "outputs": [],
   "source": [
    "documents = [[token for token in document if frequency[token] > 10] for document in documents]\n",
    "# create a dictionary using from gensim.corpora.Dictionary\n",
    "dictionary = corpora.Dictionary(documents)\n",
    "#Convert document (a list of words) into the bag-of-words format = list of (token_id, token_count) 2-tuples. \n",
    "corpus = [dictionary.doc2bow(document) for document in documents]"
   ]
  },
  {
   "cell_type": "code",
   "execution_count": 34,
   "metadata": {},
   "outputs": [
    {
     "data": {
      "text/plain": [
       "2946205"
      ]
     },
     "execution_count": 34,
     "metadata": {},
     "output_type": "execute_result"
    }
   ],
   "source": [
    "len(corpus)"
   ]
  },
  {
   "cell_type": "markdown",
   "metadata": {},
   "source": [
    "## LDA Model\n",
    "Fit an LDA Model for the tweet topics"
   ]
  },
  {
   "cell_type": "code",
   "execution_count": 38,
   "metadata": {},
   "outputs": [],
   "source": [
    "# comment out once model is trained.\n",
    "# fit LDA model\n",
    "tweet_topics = LdaMulticore(corpus=corpus,\n",
    "                          id2word=dictionary,\n",
    "                          num_topics=10,\n",
    "                          passes=10,\n",
    "                          workers=2)"
   ]
  },
  {
   "cell_type": "code",
   "execution_count": 39,
   "metadata": {},
   "outputs": [
    {
     "name": "stdout",
     "output_type": "stream",
     "text": [
      "<function datapath at 0x1a19266c80>\n"
     ]
    }
   ],
   "source": [
    "# save/load model to/from disk\n",
    "\n",
    "temp_file = datapath(\"model_all_rus_tweets\")\n",
    "tweet_topics.save(temp_file)\n",
    "\n",
    "# Load a pretrained model from disk.\n",
    "#tweet_topics = LdaMulticore.load(\"model\")\n",
    "# - or -\n",
    "#m1 = LdaMulticore.load(datapath(\"lda_3_0_1_model\"))"
   ]
  },
  {
   "cell_type": "code",
   "execution_count": 40,
   "metadata": {},
   "outputs": [
    {
     "name": "stdout",
     "output_type": "stream",
     "text": [
      "0 --- (0, '0.043*\"police\" + 0.039*\"man\" + 0.016*\"woman\" + 0.012*\"shot\" + 0.011*\"ohio\" + 0.011*\"officer\" + 0.010*\"suspect\" + 0.009*\"school\" + 0.009*\"bill\" + 0.009*\"found\"')\n",
      "1 --- (1, '0.041*\"trump\" + 0.013*\"obama\" + 0.013*\"hillary\" + 0.013*\"clinton\" + 0.011*\"president\" + 0.009*\"say\" + 0.009*\"american\" + 0.008*\"donald\" + 0.007*\"vote\" + 0.007*\"state\"')\n",
      "2 --- (2, '0.022*\"фото\" + 0.008*\"court\" + 0.008*\"jersey\" + 0.007*\"lada\" + 0.006*\"long\" + 0.006*\"города\" + 0.006*\"und\" + 0.006*\"россию\" + 0.006*\"season\" + 0.005*\"armed\"')\n",
      "3 --- (3, '0.015*\"сша\" + 0.015*\"россии\" + 0.015*\"сирии\" + 0.007*\"помощью\" + 0.007*\"против\" + 0.007*\"санкции\" + 0.006*\"путин\" + 0.006*\"россия\" + 0.006*\"для\" + 0.005*\"районе\"')\n",
      "4 --- (4, '0.013*\"arizona\" + 0.012*\"black\" + 0.011*\"people\" + 0.007*\"love\" + 0.006*\"life\" + 0.006*\"best\" + 0.006*\"week\" + 0.006*\"woman\" + 0.006*\"hit\" + 0.006*\"white\"')\n",
      "5 --- (5, '0.014*\"like\" + 0.014*\"dont\" + 0.010*\"know\" + 0.010*\"make\" + 0.009*\"philly\" + 0.009*\"people\" + 0.008*\"good\" + 0.008*\"need\" + 0.007*\"day\" + 0.007*\"think\"')\n",
      "6 --- (6, '0.028*\"phoenix\" + 0.024*\"shooting\" + 0.021*\"cleveland\" + 0.018*\"killed\" + 0.018*\"city\" + 0.009*\"crash\" + 0.007*\"injured\" + 0.007*\"god\" + 0.007*\"dog\" + 0.006*\"area\"')\n",
      "7 --- (7, '0.011*\"сочи\" + 0.007*\"die\" + 0.006*\"дтп\" + 0.006*\"человек\" + 0.005*\"2017\" + 0.004*\"voter\" + 0.004*\"2016\" + 0.004*\"россии\" + 0.004*\"при\" + 0.004*\"рублей\"')\n",
      "8 --- (8, '0.010*\"trump\" + 0.009*\"state\" + 0.008*\"call\" + 0.007*\"video\" + 0.006*\"set\" + 0.006*\"john\" + 0.006*\"group\" + 0.006*\"rally\" + 0.006*\"night\" + 0.006*\"attack\"')\n",
      "9 --- (9, '0.012*\"что\" + 0.009*\"как\" + 0.008*\"для\" + 0.007*\"году\" + 0.006*\"года\" + 0.006*\"это\" + 0.006*\"россии\" + 0.006*\"видео\" + 0.005*\"под\" + 0.005*\"метро\"')\n"
     ]
    }
   ],
   "source": [
    "# print out first 10 topics\n",
    "for i, topic in enumerate(tweet_topics.print_topics(10)):\n",
    "    print('{} --- {}'.format(i, topic))"
   ]
  },
  {
   "cell_type": "markdown",
   "metadata": {},
   "source": [
    "### Wordcloud\n",
    "Crate a basic word cloud of the topic groupings"
   ]
  },
  {
   "cell_type": "code",
   "execution_count": 41,
   "metadata": {},
   "outputs": [
    {
     "data": {
      "image/png": "[encoded data removed]",
      "text/plain": [
       "<Figure size 720x720 with 4 Axes>"
      ]
     },
     "metadata": {
      "needs_background": "light"
     },
     "output_type": "display_data"
    }
   ],
   "source": [
    "#Wordcloud of Top N words in each topic\n",
    "from matplotlib import pyplot as plt\n",
    "from wordcloud import WordCloud, STOPWORDS\n",
    "import matplotlib.colors as mcolors\n",
    "\n",
    "cols = [color for name, color in mcolors.TABLEAU_COLORS.items()]  # more colors: 'mcolors.XKCD_COLORS'\n",
    "\n",
    "cloud = WordCloud(stopwords=stop,\n",
    "                  background_color='white',\n",
    "                  width=2500,\n",
    "                  height=1800,\n",
    "                  max_words=10,\n",
    "                  colormap='tab10',\n",
    "                  color_func=lambda *args, **kwargs: cols[i],\n",
    "                  prefer_horizontal=1.0)\n",
    "\n",
    "topics = tweet_topics.show_topics(formatted=False)\n",
    "\n",
    "fig, axes = plt.subplots(2, 2, figsize=(10,10), sharex=True, sharey=True)\n",
    "\n",
    "for i, ax in enumerate(axes.flatten()):\n",
    "    fig.add_subplot(ax)\n",
    "    topic_words = dict(topics[i][1])\n",
    "    cloud.generate_from_frequencies(topic_words, max_font_size=300)\n",
    "    plt.gca().imshow(cloud)\n",
    "    plt.gca().set_title('Topic ' + str(i), fontdict=dict(size=16))\n",
    "    plt.gca().axis('off')\n",
    "\n",
    "\n",
    "plt.subplots_adjust(wspace=0, hspace=0)\n",
    "plt.axis('off')\n",
    "plt.margins(x=0, y=0)\n",
    "plt.tight_layout()\n",
    "plt.show()"
   ]
  },
  {
   "cell_type": "markdown",
   "metadata": {},
   "source": [
    "### Use pyLDAvis library to Visualize Topics"
   ]
  },
  {
   "cell_type": "code",
   "execution_count": 42,
   "metadata": {},
   "outputs": [],
   "source": [
    "## Try the pyLDAvis visualization\n",
    "import pyLDAvis.gensim as gensimvis\n",
    "import pyLDAvis"
   ]
  },
  {
   "cell_type": "code",
   "execution_count": 43,
   "metadata": {},
   "outputs": [
    {
     "name": "stderr",
     "output_type": "stream",
     "text": [
      "/Users/admin/anaconda3/lib/python3.6/site-packages/pyLDAvis/_prepare.py:257: FutureWarning: Sorting because non-concatenation axis is not aligned. A future version\n",
      "of pandas will change to not sort by default.\n",
      "\n",
      "To accept the future behavior, pass 'sort=False'.\n",
      "\n",
      "To retain the current behavior and silence the warning, pass 'sort=True'.\n",
      "\n",
      "  return pd.concat([default_term_info] + list(topic_dfs))\n"
     ]
    },
    {
     "data": {
      "text/html": [
       "\n",
       "<link rel=\"stylesheet\" type=\"text/css\" href=\"https://cdn.rawgit.com/bmabey/pyLDAvis/files/ldavis.v1.0.0.css\">\n",
       "\n",
       "\n",
       "<div id=\"ldavis_el741261192938599049008366504\"></div>\n",
       "<script type=\"text/javascript\">\n",
       "\n",
       "var ldavis_el741261192938599049008366504_data = {\"mdsDat\": {\"x\": [0.2183075138960173, 0.22520462358400106, 0.23801765786456036, -0.2636991431296519, 0.08927007368651552, 0.10135359352988786, -0.2321141704022213, -0.008532420783271507, -0.2577782695141763, -0.11002945873166176], \"y\": [-0.08475587722718425, -0.15211005831101324, -0.10740728817883824, -0.1430088052106066, 0.15766125544878906, 0.02769613515766101, -0.099161110103155, 0.25480979695402844, -0.12848049060366748, 0.27475644207398686], \"topics\": [1, 2, 3, 4, 5, 6, 7, 8, 9, 10], \"cluster\": [1, 1, 1, 1, 1, 1, 1, 1, 1, 1], \"Freq\": [14.999629974365234, 14.472508430480957, 12.73193073272705, 10.504332542419434, 9.5949125289917, 8.978272438049316, 8.833419799804688, 7.410571575164795, 6.9464216232299805, 5.527990818023682]}, \"tinfo\": {\"Category\": [\"Default\", \"Default\", \"Default\", \"Default\", \"Default\", \"Default\", \"Default\", \"Default\", \"Default\", \"Default\", \"Default\", \"Default\", \"Default\", \"Default\", \"Default\", \"Default\", \"Default\", \"Default\", \"Default\", \"Default\", \"Default\", \"Default\", \"Default\", \"Default\", \"Default\", \"Default\", \"Default\", \"Default\", \"Default\", \"Default\", \"Topic1\", \"Topic1\", \"Topic1\", \"Topic1\", \"Topic1\", \"Topic1\", \"Topic1\", \"Topic1\", \"Topic1\", \"Topic1\", \"Topic1\", \"Topic1\", \"Topic1\", \"Topic1\", \"Topic1\", \"Topic1\", \"Topic1\", \"Topic1\", \"Topic1\", \"Topic1\", \"Topic1\", \"Topic1\", \"Topic1\", \"Topic1\", \"Topic1\", \"Topic1\", \"Topic1\", \"Topic1\", \"Topic1\", \"Topic1\", \"Topic1\", \"Topic1\", \"Topic1\", \"Topic1\", \"Topic1\", \"Topic1\", \"Topic1\", \"Topic1\", \"Topic1\", \"Topic1\", \"Topic1\", \"Topic1\", \"Topic1\", \"Topic1\", \"Topic1\", \"Topic2\", \"Topic2\", \"Topic2\", \"Topic2\", \"Topic2\", \"Topic2\", \"Topic2\", \"Topic2\", \"Topic2\", \"Topic2\", \"Topic2\", \"Topic2\", \"Topic2\", \"Topic2\", \"Topic2\", \"Topic2\", \"Topic2\", \"Topic2\", \"Topic2\", \"Topic2\", \"Topic2\", \"Topic2\", \"Topic2\", \"Topic2\", \"Topic2\", \"Topic2\", \"Topic2\", \"Topic2\", \"Topic2\", \"Topic2\", \"Topic2\", \"Topic2\", \"Topic2\", \"Topic2\", \"Topic2\", \"Topic2\", \"Topic2\", \"Topic2\", \"Topic2\", \"Topic2\", \"Topic2\", \"Topic2\", \"Topic2\", \"Topic2\", \"Topic2\", \"Topic2\", \"Topic2\", \"Topic2\", \"Topic3\", \"Topic3\", \"Topic3\", \"Topic3\", \"Topic3\", \"Topic3\", \"Topic3\", \"Topic3\", \"Topic3\", \"Topic3\", \"Topic3\", \"Topic3\", \"Topic3\", \"Topic3\", \"Topic3\", \"Topic3\", \"Topic3\", \"Topic3\", \"Topic3\", \"Topic3\", \"Topic3\", \"Topic3\", \"Topic3\", \"Topic3\", \"Topic3\", \"Topic3\", \"Topic3\", \"Topic3\", \"Topic3\", \"Topic3\", \"Topic3\", \"Topic3\", \"Topic3\", \"Topic3\", \"Topic3\", \"Topic3\", \"Topic3\", \"Topic3\", \"Topic3\", \"Topic3\", \"Topic3\", \"Topic3\", \"Topic3\", \"Topic3\", \"Topic3\", \"Topic4\", \"Topic4\", \"Topic4\", \"Topic4\", \"Topic4\", \"Topic4\", \"Topic4\", \"Topic4\", \"Topic4\", \"Topic4\", \"Topic4\", \"Topic4\", \"Topic4\", \"Topic4\", \"Topic4\", \"Topic4\", \"Topic4\", \"Topic4\", \"Topic4\", \"Topic4\", \"Topic4\", \"Topic4\", \"Topic4\", \"Topic4\", \"Topic4\", \"Topic4\", \"Topic4\", \"Topic4\", \"Topic4\", \"Topic4\", \"Topic4\", \"Topic4\", \"Topic4\", \"Topic4\", \"Topic4\", \"Topic4\", \"Topic4\", \"Topic4\", \"Topic4\", \"Topic4\", \"Topic4\", \"Topic4\", \"Topic5\", \"Topic5\", \"Topic5\", \"Topic5\", \"Topic5\", \"Topic5\", \"Topic5\", \"Topic5\", \"Topic5\", \"Topic5\", \"Topic5\", \"Topic5\", \"Topic5\", \"Topic5\", \"Topic5\", \"Topic5\", \"Topic5\", \"Topic5\", \"Topic5\", \"Topic5\", \"Topic5\", \"Topic5\", \"Topic5\", \"Topic5\", \"Topic5\", \"Topic5\", \"Topic5\", \"Topic5\", \"Topic5\", \"Topic5\", \"Topic5\", \"Topic5\", \"Topic5\", \"Topic5\", \"Topic5\", \"Topic5\", \"Topic5\", \"Topic5\", \"Topic5\", \"Topic5\", \"Topic5\", \"Topic5\", \"Topic5\", \"Topic5\", \"Topic6\", \"Topic6\", \"Topic6\", \"Topic6\", \"Topic6\", \"Topic6\", \"Topic6\", \"Topic6\", \"Topic6\", \"Topic6\", \"Topic6\", \"Topic6\", \"Topic6\", \"Topic6\", \"Topic6\", \"Topic6\", \"Topic6\", \"Topic6\", \"Topic6\", \"Topic6\", \"Topic6\", \"Topic6\", \"Topic6\", \"Topic6\", \"Topic6\", \"Topic6\", \"Topic6\", \"Topic6\", \"Topic6\", \"Topic6\", \"Topic6\", \"Topic6\", \"Topic6\", \"Topic6\", \"Topic6\", \"Topic6\", \"Topic6\", \"Topic6\", \"Topic6\", \"Topic6\", \"Topic6\", \"Topic6\", \"Topic6\", \"Topic6\", \"Topic6\", \"Topic7\", \"Topic7\", \"Topic7\", \"Topic7\", \"Topic7\", \"Topic7\", \"Topic7\", \"Topic7\", \"Topic7\", \"Topic7\", \"Topic7\", \"Topic7\", \"Topic7\", \"Topic7\", \"Topic7\", \"Topic7\", \"Topic7\", \"Topic7\", \"Topic7\", \"Topic7\", \"Topic7\", \"Topic7\", \"Topic7\", \"Topic7\", \"Topic7\", \"Topic7\", \"Topic7\", \"Topic7\", \"Topic7\", \"Topic7\", \"Topic7\", \"Topic7\", \"Topic7\", \"Topic7\", \"Topic7\", \"Topic7\", \"Topic7\", \"Topic7\", \"Topic7\", \"Topic7\", \"Topic7\", \"Topic7\", \"Topic7\", \"Topic8\", \"Topic8\", \"Topic8\", \"Topic8\", \"Topic8\", \"Topic8\", \"Topic8\", \"Topic8\", \"Topic8\", \"Topic8\", \"Topic8\", \"Topic8\", \"Topic8\", \"Topic8\", \"Topic8\", \"Topic8\", \"Topic8\", \"Topic8\", \"Topic8\", \"Topic8\", \"Topic8\", \"Topic8\", \"Topic8\", \"Topic8\", \"Topic8\", \"Topic8\", \"Topic8\", \"Topic8\", \"Topic8\", \"Topic8\", \"Topic8\", \"Topic8\", \"Topic8\", \"Topic8\", \"Topic8\", \"Topic8\", \"Topic8\", \"Topic9\", \"Topic9\", \"Topic9\", \"Topic9\", \"Topic9\", \"Topic9\", \"Topic9\", \"Topic9\", \"Topic9\", \"Topic9\", \"Topic9\", \"Topic9\", \"Topic9\", \"Topic9\", \"Topic9\", \"Topic9\", \"Topic9\", \"Topic9\", \"Topic9\", \"Topic9\", \"Topic9\", \"Topic9\", \"Topic9\", \"Topic9\", \"Topic9\", \"Topic9\", \"Topic9\", \"Topic9\", \"Topic9\", \"Topic9\", \"Topic9\", \"Topic9\", \"Topic9\", \"Topic9\", \"Topic9\", \"Topic9\", \"Topic9\", \"Topic9\", \"Topic9\", \"Topic9\", \"Topic9\", \"Topic9\", \"Topic9\", \"Topic9\", \"Topic9\", \"Topic10\", \"Topic10\", \"Topic10\", \"Topic10\", \"Topic10\", \"Topic10\", \"Topic10\", \"Topic10\", \"Topic10\", \"Topic10\", \"Topic10\", \"Topic10\", \"Topic10\", \"Topic10\", \"Topic10\", \"Topic10\", \"Topic10\", \"Topic10\", \"Topic10\", \"Topic10\", \"Topic10\", \"Topic10\", \"Topic10\", \"Topic10\", \"Topic10\", \"Topic10\", \"Topic10\", \"Topic10\", \"Topic10\", \"Topic10\", \"Topic10\"], \"Freq\": [135924.0, 79685.0, 72649.0, 40165.0, 33970.0, 29748.0, 39278.0, 38848.0, 38163.0, 37987.0, 49289.0, 37396.0, 23973.0, 52322.0, 25217.0, 25136.0, 30962.0, 30610.0, 38467.0, 31225.0, 25336.0, 25669.0, 28553.0, 35330.0, 19554.0, 21761.0, 33953.0, 25807.0, 59160.0, 25643.0, 38162.625, 37986.953125, 37395.33984375, 31224.427734375, 25642.328125, 23866.548828125, 19842.123046875, 16400.759765625, 13693.4658203125, 13469.77734375, 13443.0615234375, 11384.779296875, 10567.755859375, 10551.0419921875, 10534.4443359375, 10460.3125, 9525.0673828125, 9450.275390625, 9367.9365234375, 8990.814453125, 8364.9814453125, 8087.23876953125, 8021.5634765625, 7438.30810546875, 7181.99609375, 7043.68017578125, 6626.7900390625, 6530.5888671875, 6333.689453125, 6266.9296875, 118126.7734375, 12848.0380859375, 17042.32421875, 17538.75390625, 12227.283203125, 25984.73828125, 18952.6484375, 14335.74609375, 11206.4365234375, 9610.515625, 10009.6865234375, 10413.3447265625, 10047.7177734375, 9822.3564453125, 9638.4912109375, 39277.18359375, 38847.98046875, 28552.701171875, 25806.275390625, 22006.419921875, 19800.625, 18149.16015625, 15704.9296875, 14346.2578125, 14350.58984375, 13518.0, 12792.400390625, 12544.5751953125, 10011.7685546875, 9889.662109375, 9853.287109375, 9542.029296875, 9074.732421875, 8823.6015625, 8467.6962890625, 7930.6591796875, 7911.9462890625, 7505.79345703125, 7337.30029296875, 7324.4580078125, 7265.89892578125, 7188.54736328125, 7157.001953125, 7025.36083984375, 6971.0947265625, 10056.2353515625, 28496.931640625, 21741.123046875, 13767.9326171875, 12936.1904296875, 15110.7890625, 14460.05078125, 19083.56640625, 25334.0625, 16888.80078125, 20113.041015625, 18975.083984375, 10928.8857421875, 11605.359375, 11162.2861328125, 10577.40234375, 10415.857421875, 10569.2841796875, 30961.853515625, 30609.3359375, 17919.884765625, 14951.3427734375, 14825.146484375, 14602.3056640625, 12232.9931640625, 9152.37109375, 9107.5625, 9077.3603515625, 9033.302734375, 8310.306640625, 7887.72021484375, 7805.69482421875, 7741.4453125, 7640.52197265625, 7499.9453125, 7035.6787109375, 7021.34375, 6935.22802734375, 6815.68603515625, 6457.6787109375, 6029.52783203125, 5797.89013671875, 5758.42138671875, 5747.9140625, 5609.8125, 5587.5205078125, 5589.61474609375, 5340.458984375, 9214.466796875, 15640.88671875, 26987.611328125, 8828.9150390625, 12408.640625, 8834.09375, 14531.873046875, 11261.1904296875, 8682.876953125, 13389.7373046875, 13287.1943359375, 14661.458984375, 8455.6640625, 8795.2001953125, 8251.193359375, 25335.52734375, 17697.1328125, 13337.33203125, 11754.0390625, 11323.51953125, 9565.39453125, 9123.9560546875, 9125.46484375, 8476.833984375, 8146.47216796875, 7832.51708984375, 7405.26318359375, 6785.5009765625, 5979.09619140625, 5812.37451171875, 5390.6396484375, 5387.69677734375, 5061.8037109375, 5027.78173828125, 4953.7890625, 4816.37451171875, 4763.435546875, 4595.2099609375, 4577.4345703125, 4577.4404296875, 4381.28125, 4344.1748046875, 4243.25537109375, 4225.45849609375, 4195.3095703125, 10471.837890625, 16285.3525390625, 8668.0927734375, 11853.1435546875, 7919.06689453125, 11489.9873046875, 7068.52587890625, 5392.67626953125, 6962.25732421875, 5125.96630859375, 5847.61669921875, 5347.5615234375, 79684.3671875, 72648.4765625, 21760.837890625, 20338.283203125, 20046.966796875, 18025.140625, 16860.486328125, 16775.341796875, 16573.18359375, 15984.9375, 13276.6142578125, 11766.3603515625, 11267.5400390625, 9708.927734375, 9460.6826171875, 9112.2275390625, 9091.876953125, 7682.28076171875, 7594.1826171875, 7074.3046875, 6868.728515625, 6284.4443359375, 5476.99072265625, 5447.6357421875, 5307.03369140625, 5150.51220703125, 4864.44091796875, 4814.115234375, 4659.40283203125, 4558.0107421875, 15484.2099609375, 15719.69921875, 13319.9677734375, 30062.576171875, 16987.9609375, 8987.51171875, 13412.42578125, 7999.71142578125, 13027.7109375, 9229.8212890625, 16508.083984375, 9885.7255859375, 8298.57421875, 9353.634765625, 11254.63671875, 10435.8798828125, 10246.6201171875, 10147.322265625, 9760.6943359375, 9115.9443359375, 9069.935546875, 8858.517578125, 8180.57763671875, 7895.02099609375, 7772.45703125, 7725.1865234375, 7252.53759765625, 7082.2958984375, 7010.98583984375, 6832.615234375, 6312.017578125, 6230.9169921875, 6185.69287109375, 6143.83935546875, 6132.08740234375, 5912.76953125, 5762.61669921875, 5609.62890625, 5492.767578125, 5342.912109375, 5297.41943359375, 5266.13037109375, 5071.77099609375, 4957.23095703125, 14426.162109375, 10652.9658203125, 9671.8154296875, 16377.2509765625, 8329.46484375, 12121.986328125, 9923.1962890625, 8883.095703125, 7888.57421875, 17796.626953125, 9472.2880859375, 9661.19140625, 6475.71484375, 6709.20458984375, 6583.17333984375, 19567.8359375, 11332.7685546875, 10868.1484375, 9857.1611328125, 7274.20947265625, 5120.56005859375, 5079.0810546875, 4780.455078125, 4643.3447265625, 4562.17626953125, 4390.8525390625, 4308.70263671875, 4117.5625, 3960.617919921875, 3913.66845703125, 3883.79443359375, 3805.813720703125, 3473.344970703125, 3448.530029296875, 3437.523681640625, 3425.785888671875, 3333.9990234375, 3160.159423828125, 3098.337646484375, 3089.349609375, 3023.578857421875, 3023.494140625, 2997.75634765625, 2992.68212890625, 2941.517578125, 6496.04931640625, 6472.90673828125, 8821.748046875, 4773.39306640625, 5052.86328125, 5722.98583984375, 6852.39697265625, 3926.135498046875, 6823.3984375, 3724.0341796875, 3821.3701171875, 3749.50830078125, 3799.1083984375, 40164.53515625, 33969.44140625, 29747.84765625, 25216.541015625, 25135.4140625, 10330.4677734375, 10245.2265625, 9666.3974609375, 8224.001953125, 7775.06884765625, 7585.3076171875, 7130.67529296875, 6894.1748046875, 6754.73095703125, 6545.697265625, 6336.67724609375, 5889.4345703125, 5924.837890625, 5547.8857421875, 5324.31494140625, 5203.89697265625, 5131.63671875, 4943.47705078125, 4919.28369140625, 4816.47265625, 4761.1748046875, 4494.6474609375, 4476.060546875, 4398.3369140625, 4324.1796875, 12696.3173828125, 7796.4658203125, 7138.35791015625, 7367.2099609375, 5300.896484375, 4960.36962890625, 4943.853515625, 19553.798828125, 8920.626953125, 7326.2529296875, 5391.12890625, 5152.4111328125, 4990.42919921875, 4954.18798828125, 4828.13037109375, 4747.30029296875, 4238.732421875, 4173.62353515625, 3666.396484375, 3655.62548828125, 3630.7548828125, 3303.28857421875, 3151.311279296875, 3068.31103515625, 2994.060546875, 2916.103759765625, 2815.346923828125, 2739.391845703125, 2529.46484375, 2511.71484375, 2505.569091796875, 2470.268798828125, 2348.0830078125, 2317.72607421875, 2223.341796875, 2205.47265625, 2165.36962890625, 20692.138671875, 9500.3056640625, 8676.91796875, 7967.32470703125, 20153.767578125, 9933.412109375, 4238.9580078125, 4911.759765625, 3519.682861328125, 7591.3125, 3566.570556640625, 3341.866943359375, 3924.67529296875, 3615.50390625, 3272.95166015625, 23972.701171875, 8090.66748046875, 8006.29541015625, 6755.013671875, 6622.46240234375, 6473.9189453125, 6401.1220703125, 6039.4033203125, 5741.9931640625, 5308.693359375, 5260.44140625, 5203.22314453125, 5176.6416015625, 4982.9150390625, 4915.70654296875, 4905.9873046875, 4909.78466796875, 4776.67578125, 4526.390625, 4463.24853515625, 3931.225341796875, 3922.488525390625, 3741.113525390625, 3734.157958984375, 3654.721435546875, 3650.09814453125, 3641.828857421875, 3601.888916015625, 3581.587646484375, 3570.098876953125, 8296.216796875], \"Term\": [\"trump\", \"police\", \"man\", \"phoenix\", \"shooting\", \"cleveland\", \"like\", \"dont\", \"obama\", \"hillary\", \"woman\", \"clinton\", \"\\u0444\\u043e\\u0442\\u043e\", \"people\", \"killed\", \"city\", \"arizona\", \"black\", \"\\u0440\\u043e\\u0441\\u0441\\u0438\\u0438\", \"president\", \"\\u0447\\u0442\\u043e\", \"\\u0441\\u0448\\u0430\", \"know\", \"state\", \"\\u0441\\u0438\\u0440\\u0438\\u0438\", \"shot\", \"make\", \"philly\", \"say\", \"american\", \"obama\", \"hillary\", \"clinton\", \"president\", \"american\", \"donald\", \"vote\", \"medium\", \"gop\", \"democrat\", \"republican\", \"tax\", \"deal\", \"philadelphia\", \"health\", \"sander\", \"water\", \"russia\", \"candidate\", \"supporter\", \"bernie\", \"fbi\", \"head\", \"veteran\", \"border\", \"email\", \"fake\", \"obamas\", \"warrior\", \"immigration\", \"trump\", \"plan\", \"news\", \"house\", \"campaign\", \"say\", \"state\", \"via\", \"million\", \"party\", \"support\", \"report\", \"win\", \"muslim\", \"white\", \"like\", \"dont\", \"know\", \"philly\", \"good\", \"think\", \"thing\", \"great\", \"thats\", \"really\", \"going\", \"youre\", \"come\", \"start\", \"debate\", \"music\", \"weather\", \"valley\", \"weekend\", \"check\", \"looking\", \"old\", \"truth\", \"save\", \"feel\", \"someone\", \"whats\", \"wrong\", \"read\", \"little\", \"better\", \"make\", \"need\", \"cant\", \"let\", \"see\", \"look\", \"want\", \"people\", \"right\", \"day\", \"time\", \"never\", \"back\", \"america\", \"way\", \"today\", \"take\", \"arizona\", \"black\", \"love\", \"best\", \"week\", \"hit\", \"street\", \"center\", \"refugee\", \"der\", \"race\", \"baby\", \"community\", \"play\", \"senate\", \"close\", \"politics\", \"service\", \"security\", \"place\", \"playing\", \"political\", \"hospital\", \"rule\", \"shoot\", \"lot\", \"safe\", \"stolen\", \"nbc\", \"snow\", \"phx\", \"life\", \"people\", \"change\", \"free\", \"kill\", \"white\", \"family\", \"kid\", \"year\", \"day\", \"woman\", \"child\", \"school\", \"time\", \"\\u0447\\u0442\\u043e\", \"\\u043a\\u0430\\u043a\", \"\\u0433\\u043e\\u0434\\u0443\", \"\\u044d\\u0442\\u043e\", \"\\u0432\\u0438\\u0434\\u0435\\u043e\", \"\\u043c\\u0435\\u0442\\u0440\\u043e\", \"\\u0441\\u043c\\u0438\", \"\\u0441\\u0435\\u0433\\u043e\\u0434\\u043d\\u044f\", \"\\u0434\\u0435\\u043d\\u044c\", \"\\u0432\\u0441\\u0435\", \"\\u043c\\u043e\\u0441\\u043a\\u0432\\u0435\", \"missing\", \"\\u043b\\u0435\\u0442\", \"\\u0443\\u0436\\u0435\", \"\\u0432\\u043e\\u0434\\u0438\\u0442\\u0435\\u043b\\u044c\", \"\\u0432\\u0440\\u0435\\u043c\\u044f\", \"\\u0442\\u0430\\u043a\", \"\\u0435\\u0433\\u043e\", \"\\u0431\\u0443\\u0434\\u0443\\u0442\", \"poll\", \"\\u043a\\u043e\\u0433\\u0434\\u0430\", \"\\u0435\\u0441\\u0442\\u044c\", \"\\u043a\\u0442\\u043e\", \"\\u0435\\u0441\\u043b\\u0438\", \"\\u0435\\u0449\\u0435\", \"\\u0432\\u043e\\u0442\", \"\\u0442\\u043e\\u043b\\u044c\\u043a\\u043e\", \"\\u0434\\u043d\\u044f\", \"\\u0441\\u0443\\u0434\", \"\\u0432\\u0430\\u0437\", \"\\u043f\\u043e\\u0434\", \"\\u0434\\u043b\\u044f\", \"\\u0431\\u0443\\u0434\\u0435\\u0442\", \"\\u0433\\u043e\\u0434\\u0430\", \"\\u043f\\u043e\\u0441\\u043b\\u0435\", \"\\u0440\\u043e\\u0441\\u0441\\u0438\\u0438\", \"\\u043f\\u043e\\u043c\\u043e\\u0449\\u044c\\u044e\", \"\\u0433\\u043e\\u0434\", \"2016\", \"\\u043c\\u043e\\u0436\\u0435\\u0442\", \"2017\", \"\\u043e\\u0431\\u043b\\u0430\\u0441\\u0442\\u0438\", \"police\", \"man\", \"shot\", \"ohio\", \"officer\", \"suspect\", \"bill\", \"found\", \"county\", \"arrested\", \"teen\", \"charged\", \"accused\", \"dy\", \"murder\", \"blotter\", \"charge\", \"road\", \"arrest\", \"robbery\", \"prison\", \"seek\", \"university\", \"search\", \"getting\", \"height\", \"washington\", \"oakland\", \"traffic\", \"inside\", \"death\", \"car\", \"dead\", \"woman\", \"school\", \"cop\", \"home\", \"drug\", \"fire\", \"student\", \"say\", \"child\", \"high\", \"crash\", \"set\", \"group\", \"rally\", \"night\", \"trial\", \"office\", \"breaking\", \"claim\", \"fan\", \"russian\", \"\\u043f\\u0440\\u043e\\u0439\\u0434\\u0435\\u0442\", \"presidential\", \"cruz\", \"mesa\", \"worker\", \"storm\", \"budget\", \"kasich\", \"company\", \"father\", \"mccain\", \"nashville\", \"pick\", \"strike\", \"meeting\", \"miss\", \"ted\", \"taking\", \"celebrity\", \"sen\", \"call\", \"john\", \"election\", \"state\", \"judge\", \"video\", \"attack\", \"game\", \"near\", \"trump\", \"watch\", \"2016\", \"event\", \"live\", \"lead\", \"\\u0441\\u043e\\u0447\\u0438\", \"die\", \"\\u0434\\u0442\\u043f\", \"\\u0447\\u0435\\u043b\\u043e\\u0432\\u0435\\u043a\", \"voter\", \"\\u0434\\u0435\\u0442\\u0435\\u0439\", \"\\u0447\\u0435\\u0440\\u0435\\u0437\", \"\\u0440\\u043e\\u0441\\u0441\\u0438\\u0439\\u0441\\u043a\\u0438\\u0435\", \"ist\", \"\\u0433\\u043e\\u0440\\u043e\\u0434\", \"final\", \"\\u043d\\u0430\\u0437\\u0432\\u0430\\u043b\", \"\\u0441\\u0431\\u0438\\u043b\", \"toyota\", \"\\u0434\\u043e\\u043c\", \"\\u043f\\u043e\\u0433\\u0438\\u0431\\u043b\\u0438\", \"f\\u00fcr\", \"travel\", \"merkel\", \"\\u0440\\u043e\\u0441\\u0441\\u0438\\u0439\\u0441\\u043a\\u043e\\u0433\\u043e\", \"\\u043a\\u0440\\u044b\\u043c\", \"\\u043f\\u043e\\u0447\\u0442\\u0438\", \"\\u0433\\u043e\\u0440\\u043e\\u0434\\u0435\", \"da\", \"\\u043c\\u043b\\u0440\\u0434\", \"\\u0440\\u043e\\u0441\\u0442\\u043e\\u0432\", \"\\u0436\\u0438\\u0437\\u043d\\u0438\", \"\\u043a\\u0440\\u044b\\u043c\\u0430\", \"\\u0442\\u0440\\u0430\\u0441\\u0441\\u0435\", \"\\u0436\\u0438\\u0442\\u0435\\u043b\\u0435\\u0439\", \"\\u043f\\u0440\\u0438\", \"\\u0440\\u0443\\u0431\\u043b\\u0435\\u0439\", \"2017\", \"\\u043f\\u0435\\u0442\\u0435\\u0440\\u0431\\u0443\\u0440\\u0433\\u0435\", \"\\u0438\\u0437\\u0437\\u0430\", \"\\u0433\\u043e\\u0434\\u0430\", \"2016\", \"\\u0442\\u044b\\u0441\\u044f\\u0447\", \"\\u0440\\u043e\\u0441\\u0441\\u0438\\u0438\", \"\\u043c\\u043b\\u043d\", \"\\u0431\\u043e\\u043b\\u0435\\u0435\", \"\\u043d\\u043e\\u0432\\u044b\\u0439\", \"\\u043e\\u0431\\u043b\\u0430\\u0441\\u0442\\u0438\", \"phoenix\", \"shooting\", \"cleveland\", \"killed\", \"city\", \"injured\", \"god\", \"dog\", \"area\", \"east\", \"brown\", \"thanks\", \"mayor\", \"guilty\", \"fatal\", \"local\", \"gov\", \"akron\", \"land\", \"san\", \"cancer\", \"outside\", \"bus\", \"daily\", \"least\", \"following\", \"york\", \"sport\", \"gas\", \"apartment\", \"crash\", \"victim\", \"west\", \"fire\", \"pay\", \"orleans\", \"photo\", \"\\u0441\\u0438\\u0440\\u0438\\u0438\", \"\\u0441\\u0430\\u043d\\u043a\\u0446\\u0438\\u0438\", \"\\u0440\\u0430\\u0439\\u043e\\u043d\\u0435\", \"\\u0443\\u043a\\u0440\\u0430\\u0438\\u043d\\u0435\", \"\\u0432\\u043b\\u0430\\u0434\\u0438\\u043c\\u0438\\u0440\", \"\\u043d\\u043e\\u0432\\u044b\\u0435\", \"\\u043c\\u043e\\u0433\\u0443\\u0442\", \"\\u0432\\u043b\\u0430\\u0441\\u0442\\u0438\", \"\\u043f\\u0435\\u0440\\u0432\\u044b\\u0439\", \"\\u043c\\u0438\\u0434\", \"\\u043c\\u0438\\u0440\\u0430\", \"\\u0432\\u0441\\u0435\\u0445\", \"\\u043e\\u043e\\u043d\", \"\\u043c\\u043e\\u0441\\u043a\\u0432\\u0430\", \"\\u043e\\u0447\\u0435\\u043d\\u044c\", \"lake\", \"\\u0442\\u0440\\u0430\\u043c\\u043f\\u0430\", \"\\u0441\\u0430\\u0430\", \"2\", \"planned\", \"bush\", \"investigate\", \"\\u0440\\u0430\\u0431\\u043e\\u0442\\u0443\", \"\\u0431\\u0435\\u043b\\u044b\\u0439\", \"expected\", \"ryan\", \"foreign\", \"spring\", \"\\u043d\\u043e\\u0447\\u044c\", \"\\u0441\\u0438\\u0440\\u0438\\u0439\\u0441\\u043a\\u043e\\u0439\", \"\\u0441\\u0448\\u0430\", \"\\u043f\\u0440\\u043e\\u0442\\u0438\\u0432\", \"\\u043f\\u0443\\u0442\\u0438\\u043d\", \"\\u0440\\u043e\\u0441\\u0441\\u0438\\u044f\", \"\\u0440\\u043e\\u0441\\u0441\\u0438\\u0438\", \"\\u043f\\u043e\\u043c\\u043e\\u0449\\u044c\\u044e\", \"\\u0442\\u0443\\u0440\\u0446\\u0438\\u0438\", \"\\u043d\\u043e\\u0432\\u044b\\u0439\", \"\\u0430\\u043b\\u0435\\u043f\\u043f\\u043e\", \"\\u0434\\u043b\\u044f\", \"\\u0433\\u043b\\u0430\\u0432\\u0430\", \"\\u0431\\u043e\\u0435\\u0432\\u0438\\u043a\\u043e\\u0432\", \"\\u0443\\u043a\\u0440\\u0430\\u0438\\u043d\\u044b\", \"\\u043f\\u0435\\u0442\\u0435\\u0440\\u0431\\u0443\\u0440\\u0433\\u0435\", \"\\u0447\\u0435\\u043c\", \"\\u0444\\u043e\\u0442\\u043e\", \"jersey\", \"lada\", \"long\", \"\\u0433\\u043e\\u0440\\u043e\\u0434\\u0430\", \"und\", \"\\u0440\\u043e\\u0441\\u0441\\u0438\\u044e\", \"season\", \"armed\", \"supreme\", \"super\", \"\\u043a\\u0430\\u0444\\u0435\", \"\\u043c\\u0430\\u044f\", \"flag\", \"investigating\", \"building\", \"congress\", \"\\u0440\\u043e\\u0441\\u0441\\u0438\\u0439\\u0441\\u043a\\u0438\\u0439\", \"bowl\", \"working\", \"\\u0441\\u0442\\u043e\\u043b\\u043a\\u043d\\u0443\\u043b\\u0438\\u0441\\u044c\", \"rep\", \"\\u043c\\u0435\\u0436\\u0434\\u0443\", \"conservative\", \"block\", \"flight\", \"answer\", \"\\u0438\\u044e\\u043b\\u044f\", \"district\", \"saint\", \"court\"], \"Total\": [135924.0, 79685.0, 72649.0, 40165.0, 33970.0, 29748.0, 39278.0, 38848.0, 38163.0, 37987.0, 49289.0, 37396.0, 23973.0, 52322.0, 25217.0, 25136.0, 30962.0, 30610.0, 38467.0, 31225.0, 25336.0, 25669.0, 28553.0, 35330.0, 19554.0, 21761.0, 33953.0, 25807.0, 59160.0, 25643.0, 38163.52734375, 37987.85546875, 37396.2421875, 31225.33203125, 25643.232421875, 23867.453125, 19843.02734375, 16401.6640625, 13694.3740234375, 13470.685546875, 13443.9697265625, 11385.6875, 10568.6640625, 10551.9501953125, 10535.3525390625, 10461.220703125, 9525.9755859375, 9451.18359375, 9368.8447265625, 8991.72265625, 8365.8896484375, 8088.146484375, 8022.47119140625, 7439.2158203125, 7182.90380859375, 7044.587890625, 6627.69775390625, 6531.49658203125, 6334.59716796875, 6267.83740234375, 135924.171875, 15207.4169921875, 21851.859375, 23191.654296875, 14588.5966796875, 59160.70703125, 35330.67578125, 23899.0234375, 16760.521484375, 12004.3017578125, 13820.583984375, 18445.50390625, 19345.337890625, 17803.38671875, 24171.15234375, 39278.0859375, 38848.8828125, 28553.603515625, 25807.18359375, 22007.322265625, 19801.52734375, 18150.0625, 15705.8359375, 14347.1640625, 14351.49609375, 13518.90625, 12793.306640625, 12545.4814453125, 10012.6748046875, 9890.568359375, 9854.193359375, 9542.935546875, 9075.638671875, 8824.5078125, 8468.6025390625, 7931.56494140625, 7912.85205078125, 7506.69921875, 7338.2060546875, 7325.36376953125, 7266.8046875, 7189.453125, 7157.90771484375, 7026.2666015625, 6972.00048828125, 10341.203125, 33953.05078125, 27567.7109375, 17112.9140625, 16332.236328125, 20501.71484375, 20589.724609375, 31599.03125, 52322.4609375, 27151.78125, 36758.21484375, 34052.11328125, 16663.9140625, 22634.66015625, 23854.45703125, 16950.771484375, 16431.7890625, 24107.720703125, 30962.767578125, 30610.244140625, 17920.79296875, 14952.2548828125, 14826.05859375, 14603.2177734375, 12233.9052734375, 9153.283203125, 9108.474609375, 9078.2724609375, 9034.21484375, 8311.21875, 7888.63232421875, 7806.60693359375, 7742.357421875, 7641.43408203125, 7500.857421875, 7036.5908203125, 7022.255859375, 6936.14013671875, 6816.59814453125, 6458.5908203125, 6030.43994140625, 5798.80224609375, 5759.33349609375, 5748.826171875, 5610.724609375, 5588.4326171875, 5590.52685546875, 5341.37109375, 9221.23046875, 23952.01171875, 52322.4609375, 10770.54296875, 17863.84375, 11094.4267578125, 24171.15234375, 17691.529296875, 12092.6435546875, 32792.99609375, 36758.21484375, 49289.64453125, 18342.203125, 25783.97265625, 34052.11328125, 25336.484375, 17698.08984375, 13338.2900390625, 11754.9970703125, 11324.4775390625, 9566.3525390625, 9124.9140625, 9126.4228515625, 8477.7919921875, 8147.4306640625, 7833.4755859375, 7406.22265625, 6786.45947265625, 5980.0546875, 5813.3330078125, 5391.59814453125, 5388.6552734375, 5062.76220703125, 5028.740234375, 4954.748046875, 4817.3330078125, 4764.39404296875, 4596.16845703125, 4578.39306640625, 4578.39892578125, 4382.23974609375, 4345.13330078125, 4244.2138671875, 4226.4169921875, 4196.26806640625, 13532.0810546875, 25393.966796875, 11104.337890625, 17577.001953125, 10125.67578125, 38467.9453125, 17002.818359375, 8272.29296875, 30246.615234375, 7385.92236328125, 24183.2578125, 10921.1845703125, 79685.3046875, 72649.4140625, 21761.765625, 20339.216796875, 20047.89453125, 18026.068359375, 16861.4140625, 16776.26953125, 16574.111328125, 15985.869140625, 13277.5458984375, 11767.2919921875, 11268.4716796875, 9709.859375, 9461.6142578125, 9113.16015625, 9092.80859375, 7683.2119140625, 7595.11376953125, 7075.23583984375, 6869.65966796875, 6285.37548828125, 5477.921875, 5448.56689453125, 5307.96484375, 5151.443359375, 4865.3720703125, 4815.046875, 4660.333984375, 4558.94189453125, 18443.21875, 18787.025390625, 16505.552734375, 49289.64453125, 25783.97265625, 11837.939453125, 24384.69921875, 10317.1708984375, 24279.201171875, 13919.1953125, 59160.70703125, 18342.203125, 11616.6123046875, 22050.775390625, 11255.5341796875, 10436.77734375, 10247.517578125, 10148.2197265625, 9761.591796875, 9116.841796875, 9070.83203125, 8859.4150390625, 8181.474609375, 7895.91796875, 7773.35400390625, 7726.08349609375, 7253.4345703125, 7083.193359375, 7011.8828125, 6833.51220703125, 6312.91455078125, 6231.81396484375, 6186.58984375, 6144.736328125, 6132.984375, 5913.669921875, 5763.513671875, 5610.52587890625, 5493.66455078125, 5343.80908203125, 5298.31640625, 5267.02734375, 5072.66796875, 4958.1279296875, 21370.23828125, 14326.3935546875, 13596.12890625, 35330.67578125, 11855.8525390625, 23992.611328125, 17979.671875, 14602.3466796875, 11639.7138671875, 135924.171875, 21292.396484375, 30246.615234375, 8426.775390625, 15326.4951171875, 11773.9033203125, 19568.77734375, 11333.7119140625, 10869.091796875, 9858.1044921875, 7275.1533203125, 5121.50390625, 5080.02490234375, 4781.39892578125, 4644.2880859375, 4563.1201171875, 4391.796875, 4309.646484375, 4118.50634765625, 3961.5615234375, 3914.612060546875, 3884.738037109375, 3806.75732421875, 3474.2890625, 3449.4736328125, 3438.46728515625, 3426.7294921875, 3334.942626953125, 3161.10302734375, 3099.28125, 3090.293212890625, 3024.5224609375, 3024.437744140625, 2998.699951171875, 2993.625732421875, 2942.461181640625, 9410.921875, 9543.685546875, 24183.2578125, 8389.76171875, 11342.521484375, 17577.001953125, 30246.615234375, 6218.4775390625, 38467.9453125, 5619.38037109375, 7408.8203125, 8662.1328125, 10921.1845703125, 40165.453125, 33970.35546875, 29748.765625, 25217.458984375, 25136.33203125, 10331.3857421875, 10246.14453125, 9667.3154296875, 8224.919921875, 7775.9873046875, 7586.22607421875, 7131.59375, 6895.09326171875, 6755.6494140625, 6546.61572265625, 6337.595703125, 5890.35302734375, 5925.78662109375, 5548.80419921875, 5325.2333984375, 5204.8154296875, 5132.55517578125, 4944.3955078125, 4920.2021484375, 4817.39111328125, 4762.09326171875, 4495.56591796875, 4476.97900390625, 4399.25537109375, 4325.09814453125, 22050.775390625, 12007.4736328125, 10852.9189453125, 24279.201171875, 8933.5283203125, 10651.3349609375, 13851.0087890625, 19554.74609375, 8921.57421875, 7327.2001953125, 5392.076171875, 5153.3583984375, 4991.37646484375, 4955.13525390625, 4829.07763671875, 4748.24755859375, 4239.6796875, 4174.57080078125, 3667.343994140625, 3656.572998046875, 3631.702392578125, 3304.236083984375, 3152.25927734375, 3069.258544921875, 2995.00830078125, 2917.05126953125, 2816.294677734375, 2740.339599609375, 2530.412841796875, 2512.662353515625, 2506.5166015625, 2471.216552734375, 2349.03076171875, 2318.673828125, 2224.28955078125, 2206.420166015625, 2166.317138671875, 25669.505859375, 12174.771484375, 11411.4375, 11327.9296875, 38467.9453125, 17002.818359375, 6047.83447265625, 8662.1328125, 4810.166015625, 25393.966796875, 5234.82421875, 4523.5478515625, 7730.056640625, 8389.76171875, 4617.0068359375, 23973.62109375, 8091.5869140625, 8007.21435546875, 6755.9326171875, 6623.38134765625, 6474.837890625, 6402.041015625, 6040.322265625, 5742.91259765625, 5309.6123046875, 5261.3603515625, 5204.14208984375, 5177.560546875, 4983.833984375, 4916.6259765625, 4906.90625, 4910.70361328125, 4777.5947265625, 4527.3095703125, 4464.16748046875, 3932.144287109375, 3923.40771484375, 3742.032470703125, 3735.0771484375, 3655.640625, 3651.017333984375, 3642.748046875, 3602.807861328125, 3582.5068359375, 3571.018310546875, 16473.216796875], \"loglift\": [30.0, 29.0, 28.0, 27.0, 26.0, 25.0, 24.0, 23.0, 22.0, 21.0, 20.0, 19.0, 18.0, 17.0, 16.0, 15.0, 14.0, 13.0, 12.0, 11.0, 10.0, 9.0, 8.0, 7.0, 6.0, 5.0, 4.0, 3.0, 2.0, 1.0, 1.8970999717712402, 1.8970999717712402, 1.8970999717712402, 1.8970999717712402, 1.8970999717712402, 1.8970999717712402, 1.8970999717712402, 1.8970999717712402, 1.8970999717712402, 1.8970999717712402, 1.8970999717712402, 1.8970999717712402, 1.8970999717712402, 1.8970999717712402, 1.8970999717712402, 1.8970999717712402, 1.8969999551773071, 1.8969999551773071, 1.8969999551773071, 1.8969999551773071, 1.8969999551773071, 1.8969999551773071, 1.8969999551773071, 1.8969999551773071, 1.8969999551773071, 1.8969999551773071, 1.8969999551773071, 1.8969999551773071, 1.8969999551773071, 1.8969999551773071, 1.7568000555038452, 1.728600025177002, 1.6485999822616577, 1.617799997329712, 1.7206000089645386, 1.0743999481201172, 1.2742999792099, 1.3861000537872314, 1.4946000576019287, 1.6747000217437744, 1.5744999647140503, 1.3253999948501587, 1.2419999837875366, 1.30239999294281, 0.9776999950408936, 1.9328999519348145, 1.9328999519348145, 1.9328999519348145, 1.9328999519348145, 1.9328999519348145, 1.9328999519348145, 1.9328999519348145, 1.9328999519348145, 1.9328999519348145, 1.9328999519348145, 1.9328999519348145, 1.932800054550171, 1.932800054550171, 1.932800054550171, 1.932800054550171, 1.932800054550171, 1.932800054550171, 1.932800054550171, 1.932800054550171, 1.932800054550171, 1.932800054550171, 1.932800054550171, 1.932800054550171, 1.932800054550171, 1.932800054550171, 1.932800054550171, 1.932800054550171, 1.932800054550171, 1.932800054550171, 1.932800054550171, 1.9049999713897705, 1.757699966430664, 1.6955000162124634, 1.715399980545044, 1.6998000144958496, 1.6277999877929688, 1.5794999599456787, 1.4285999536514282, 1.2075999975204468, 1.4580999612808228, 1.3299000263214111, 1.3481999635696411, 1.5111000537872314, 1.2648999691009521, 1.1734999418258667, 1.461300015449524, 1.4769999980926514, 1.108299970626831, 2.061000108718872, 2.061000108718872, 2.061000108718872, 2.061000108718872, 2.061000108718872, 2.061000108718872, 2.061000108718872, 2.061000108718872, 2.061000108718872, 2.061000108718872, 2.061000108718872, 2.0608999729156494, 2.0608999729156494, 2.0608999729156494, 2.0608999729156494, 2.0608999729156494, 2.0608999729156494, 2.0608999729156494, 2.0608999729156494, 2.0608999729156494, 2.0608999729156494, 2.0608999729156494, 2.0608999729156494, 2.0608999729156494, 2.0608999729156494, 2.0608999729156494, 2.0608999729156494, 2.0608999729156494, 2.0608999729156494, 2.0608999729156494, 2.06030011177063, 1.6348999738693237, 1.3990000486373901, 1.8623000383377075, 1.6966999769210815, 1.8331999778747559, 1.5521999597549438, 1.6093000173568726, 1.7297999858856201, 1.1653000116348267, 1.0434999465942383, 0.8485999703407288, 1.2867000102996826, 0.9854999780654907, 0.6434999704360962, 2.2532999515533447, 2.2532999515533447, 2.2532999515533447, 2.2532999515533447, 2.2532999515533447, 2.2532999515533447, 2.2532999515533447, 2.2532999515533447, 2.2532999515533447, 2.2532999515533447, 2.2532999515533447, 2.2532999515533447, 2.253200054168701, 2.253200054168701, 2.253200054168701, 2.253200054168701, 2.253200054168701, 2.253200054168701, 2.253200054168701, 2.253200054168701, 2.253200054168701, 2.253200054168701, 2.253200054168701, 2.253200054168701, 2.253200054168701, 2.253200054168701, 2.253200054168701, 2.253200054168701, 2.253200054168701, 2.253200054168701, 1.996999979019165, 1.8091000318527222, 2.00570011138916, 1.8594000339508057, 2.0076000690460205, 1.0449999570846558, 1.3756999969482422, 1.8255000114440918, 0.784500002861023, 1.888100028038025, 0.8338000178337097, 1.5392999649047852, 2.343899965286255, 2.343899965286255, 2.343899965286255, 2.343899965286255, 2.343899965286255, 2.343899965286255, 2.343899965286255, 2.343899965286255, 2.343899965286255, 2.343899965286255, 2.343899965286255, 2.343899965286255, 2.343899965286255, 2.3438000679016113, 2.3438000679016113, 2.3438000679016113, 2.3438000679016113, 2.3438000679016113, 2.3438000679016113, 2.3438000679016113, 2.3438000679016113, 2.3438000679016113, 2.3438000679016113, 2.3438000679016113, 2.3438000679016113, 2.3438000679016113, 2.3436999320983887, 2.3436999320983887, 2.3436999320983887, 2.3436999320983887, 2.169100046157837, 2.1656999588012695, 2.129499912261963, 1.8494999408721924, 1.9266999959945679, 2.06850004196167, 1.7461999654769897, 2.0894999504089355, 1.7214000225067139, 1.9330999851226807, 1.0674999952316284, 1.7258000373840332, 2.0076000690460205, 1.4864000082015991, 2.4103000164031982, 2.4103000164031982, 2.4103000164031982, 2.4103000164031982, 2.4103000164031982, 2.4103000164031982, 2.4103000164031982, 2.4103000164031982, 2.4103000164031982, 2.4102001190185547, 2.4102001190185547, 2.4102001190185547, 2.4102001190185547, 2.4102001190185547, 2.4102001190185547, 2.4102001190185547, 2.4102001190185547, 2.4102001190185547, 2.4102001190185547, 2.4102001190185547, 2.4102001190185547, 2.4102001190185547, 2.4102001190185547, 2.4102001190185547, 2.4102001190185547, 2.4102001190185547, 2.4102001190185547, 2.4102001190185547, 2.4102001190185547, 2.4102001190185547, 2.017400026321411, 2.1140999794006348, 2.0697999000549316, 1.6414999961853027, 2.057300090789795, 1.7275999784469604, 1.815999984741211, 1.9133000373840332, 2.021399974822998, 0.3772999942302704, 1.6003999710083008, 1.2690999507904053, 2.1470000743865967, 1.5843000411987305, 1.8289999961853027, 2.4265999794006348, 2.426500082015991, 2.426500082015991, 2.426500082015991, 2.426500082015991, 2.4263999462127686, 2.4263999462127686, 2.4263999462127686, 2.4263999462127686, 2.4263999462127686, 2.4263999462127686, 2.4263999462127686, 2.4263999462127686, 2.4263999462127686, 2.4263999462127686, 2.4263999462127686, 2.4263999462127686, 2.4263999462127686, 2.4263999462127686, 2.4263999462127686, 2.4263999462127686, 2.426300048828125, 2.426300048828125, 2.426300048828125, 2.426300048828125, 2.426300048828125, 2.426300048828125, 2.426300048828125, 2.426300048828125, 2.426300048828125, 2.055999994277954, 2.0383999347686768, 1.4182000160217285, 1.8626999855041504, 1.6180000305175781, 1.3044999837875366, 0.9417999982833862, 1.9667999744415283, 0.6972000002861023, 2.015199899673462, 1.7646000385284424, 1.5893000364303589, 1.3707000017166138, 2.6022000312805176, 2.6022000312805176, 2.6022000312805176, 2.6022000312805176, 2.6022000312805176, 2.6022000312805176, 2.6022000312805176, 2.6022000312805176, 2.6022000312805176, 2.602099895477295, 2.602099895477295, 2.602099895477295, 2.602099895477295, 2.602099895477295, 2.602099895477295, 2.602099895477295, 2.602099895477295, 2.602099895477295, 2.602099895477295, 2.602099895477295, 2.602099895477295, 2.602099895477295, 2.602099895477295, 2.602099895477295, 2.602099895477295, 2.602099895477295, 2.602099895477295, 2.602099895477295, 2.602099895477295, 2.6019999980926514, 2.0501999855041504, 2.1703999042510986, 2.183300018310547, 1.4097000360488892, 2.0803000926971436, 1.8380999565124512, 1.5720000267028809, 2.6668999195098877, 2.666800022125244, 2.666800022125244, 2.666800022125244, 2.666800022125244, 2.666800022125244, 2.666800022125244, 2.6666998863220215, 2.6666998863220215, 2.6666998863220215, 2.6666998863220215, 2.6666998863220215, 2.6666998863220215, 2.6666998863220215, 2.6666998863220215, 2.666599988937378, 2.666599988937378, 2.666599988937378, 2.666599988937378, 2.666599988937378, 2.666599988937378, 2.666599988937378, 2.666599988937378, 2.666599988937378, 2.666599988937378, 2.6665000915527344, 2.6665000915527344, 2.6665000915527344, 2.6665000915527344, 2.6665000915527344, 2.4514000415802, 2.4189000129699707, 2.3929998874664307, 2.315000057220459, 2.0204999446868896, 2.129499912261963, 2.3115999698638916, 2.099600076675415, 2.354599952697754, 1.4594000577926636, 2.2832000255584717, 2.3642001152038574, 1.9890999794006348, 1.8251999616622925, 2.3229000568389893, 2.8952999114990234, 2.89520001411438, 2.89520001411438, 2.89520001411438, 2.89520001411438, 2.89520001411438, 2.89520001411438, 2.89520001411438, 2.89520001411438, 2.89520001411438, 2.89520001411438, 2.89520001411438, 2.89520001411438, 2.89520001411438, 2.89520001411438, 2.89520001411438, 2.89520001411438, 2.89520001411438, 2.8951001167297363, 2.8951001167297363, 2.8951001167297363, 2.8951001167297363, 2.8951001167297363, 2.8951001167297363, 2.8951001167297363, 2.8951001167297363, 2.8951001167297363, 2.8951001167297363, 2.8951001167297363, 2.8951001167297363, 2.209399938583374], \"logprob\": [30.0, 29.0, 28.0, 27.0, 26.0, 25.0, 24.0, 23.0, 22.0, 21.0, 20.0, 19.0, 18.0, 17.0, 16.0, 15.0, 14.0, 13.0, 12.0, 11.0, 10.0, 9.0, 8.0, 7.0, 6.0, 5.0, 4.0, 3.0, 2.0, 1.0, -4.333000183105469, -4.337699890136719, -4.353400230407715, -4.533699989318848, -4.7307000160217285, -4.8024001121521, -4.987100124359131, -5.177599906921387, -5.357999801635742, -5.374499797821045, -5.376399993896484, -5.542600154876709, -5.617099761962891, -5.61870002746582, -5.620299816131592, -5.627299785614014, -5.7210001945495605, -5.728899955749512, -5.737599849700928, -5.77869987487793, -5.850800037384033, -5.8846001625061035, -5.8927998542785645, -5.968299865722656, -6.003300189971924, -6.022799968719482, -6.083799839019775, -6.098400115966797, -6.129000186920166, -6.139599800109863, -3.2030999660491943, -5.4217000007629395, -5.139200210571289, -5.110499858856201, -5.471199989318848, -4.717400074005127, -5.0329999923706055, -5.312099933624268, -5.5584001541137695, -5.711999893188477, -5.671299934387207, -5.631800174713135, -5.667600154876709, -5.690199851989746, -5.709099769592285, -4.268499851226807, -4.2795000076293945, -4.587399959564209, -4.688499927520752, -4.847799777984619, -4.953400135040283, -5.040500164031982, -5.185200214385986, -5.275599956512451, -5.275300025939941, -5.335100173950195, -5.3902997970581055, -5.409800052642822, -5.63539981842041, -5.647600173950195, -5.651299953460693, -5.6834001541137695, -5.73360013961792, -5.76170015335083, -5.8028998374938965, -5.8684000968933105, -5.870800018310547, -5.923500061035156, -5.946199893951416, -5.94789981842041, -5.955900192260742, -5.966599941253662, -5.9710001945495605, -5.98960018157959, -5.997399806976318, -5.630899906158447, -4.589300155639648, -4.859899997711182, -5.316800117492676, -5.3790998458862305, -5.223700046539307, -5.2677001953125, -4.990300178527832, -4.706999778747559, -5.112500190734863, -4.93779993057251, -4.995999813079834, -5.547699928283691, -5.48769998550415, -5.526599884033203, -5.580399990081787, -5.595799922943115, -5.581200122833252, -4.378200054168701, -4.389699935913086, -4.925099849700928, -5.106200218200684, -5.114699840545654, -5.129799842834473, -5.3069000244140625, -5.5970001220703125, -5.601900100708008, -5.605199813842773, -5.610099792480469, -5.69350004196167, -5.745699882507324, -5.756100177764893, -5.764400005340576, -5.777500152587891, -5.79610013961792, -5.860000133514404, -5.861999988555908, -5.8744001388549805, -5.8917999267578125, -5.945700168609619, -6.0142998695373535, -6.053500175476074, -6.060299873352051, -6.06220006942749, -6.08650016784668, -6.0904998779296875, -6.090099811553955, -6.135700225830078, -5.590199947357178, -5.061100006103516, -4.515600204467773, -5.632999897003174, -5.292600154876709, -5.632400035858154, -5.1346001625061035, -5.389599800109863, -5.649600028991699, -5.2164998054504395, -5.2241997718811035, -5.125800132751465, -5.676199913024902, -5.6367998123168945, -5.7006001472473145, -4.386499881744385, -4.745299816131592, -5.02810001373291, -5.1545000076293945, -5.191800117492676, -5.360499858856201, -5.407800197601318, -5.407599925994873, -5.481299877166748, -5.521100044250488, -5.560400009155273, -5.616499900817871, -5.70389986038208, -5.830399990081787, -5.858699798583984, -5.934000015258789, -5.934500217437744, -5.9969000816345215, -6.003699779510498, -6.018499851226807, -6.046599864959717, -6.057700157165527, -6.093599796295166, -6.097499847412109, -6.097499847412109, -6.141300201416016, -6.149799823760986, -6.173299789428711, -6.177499771118164, -6.184700012207031, -5.269999980926514, -4.828400135040283, -5.459000110626221, -5.146100044250488, -5.5493998527526855, -5.177199840545654, -5.663000106811523, -5.933599948883057, -5.678199768066406, -5.984300136566162, -5.85260009765625, -5.941999912261963, -3.1500000953674316, -3.242500066757202, -4.447999954223633, -4.515600204467773, -4.53000020980835, -4.636300086975098, -4.703100204467773, -4.708199977874756, -4.720300197601318, -4.756499767303467, -4.9421000480651855, -5.062900066375732, -5.106200218200684, -5.255099773406982, -5.281000137329102, -5.31850004196167, -5.320700168609619, -5.489200115203857, -5.500699996948242, -5.571599960327148, -5.601099967956543, -5.690000057220459, -5.827600002288818, -5.832900047302246, -5.859099864959717, -5.888999938964844, -5.946199893951416, -5.956600189208984, -5.989200115203857, -6.011199951171875, -4.788300037384033, -4.773200035095215, -4.938799858093262, -4.124800205230713, -4.6956000328063965, -5.332300186157227, -4.9319000244140625, -5.448699951171875, -4.960999965667725, -5.305699825286865, -4.724299907684326, -5.236999988555908, -5.4120001792907715, -5.292300224304199, -5.040900230407715, -5.116399765014648, -5.134699821472168, -5.144499778747559, -5.183300018310547, -5.251699924468994, -5.256700038909912, -5.280300140380859, -5.359899997711182, -5.395500183105469, -5.411099910736084, -5.417200088500977, -5.480299949645996, -5.5040998458862305, -5.514200210571289, -5.539999961853027, -5.619200229644775, -5.632199764251709, -5.639400005340576, -5.646200180053711, -5.648099899291992, -5.684599876403809, -5.710299968719482, -5.737199783325195, -5.758299827575684, -5.785900115966797, -5.79449987411499, -5.8003997802734375, -5.8379998207092285, -5.860799789428711, -4.792600154876709, -5.095799922943115, -5.192500114440918, -4.665800094604492, -5.341899871826172, -4.966700077056885, -5.166800022125244, -5.277500152587891, -5.396299839019775, -4.582699775695801, -5.2133002281188965, -5.193600177764893, -5.593599796295166, -5.558199882507324, -5.577199935913086, -4.471499919891357, -5.0177001953125, -5.059599876403809, -5.157199859619141, -5.461100101470947, -5.81220006942749, -5.820300102233887, -5.880899906158447, -5.909999847412109, -5.927599906921387, -5.96589994430542, -5.984799861907959, -6.030200004577637, -6.068999767303467, -6.080900192260742, -6.088600158691406, -6.10890007019043, -6.200300216674805, -6.207499980926514, -6.210700035095215, -6.214099884033203, -6.241199970245361, -6.2947998046875, -6.314599990844727, -6.317500114440918, -6.339000225067139, -6.339000225067139, -6.347599983215332, -6.3491997718811035, -6.366499900817871, -5.57420015335083, -5.5777997970581055, -5.268199920654297, -5.882400035858154, -5.825500011444092, -5.700900077819824, -5.5208001136779785, -6.0777997970581055, -5.525100231170654, -6.1305999755859375, -6.104800224304199, -6.123799800872803, -6.1107001304626465, -3.5768001079559326, -3.74429988861084, -3.877000093460083, -4.042300224304199, -4.045499801635742, -4.934700012207031, -4.942999839782715, -5.001100063323975, -5.162700176239014, -5.218900203704834, -5.243599891662598, -5.3053998947143555, -5.339099884033203, -5.359499931335449, -5.390999794006348, -5.423399925231934, -5.496600151062012, -5.490600109100342, -5.556399822235107, -5.597499847412109, -5.6203999519348145, -5.634399890899658, -5.6717000007629395, -5.676599979400635, -5.697700023651123, -5.7093000411987305, -5.766900062561035, -5.770999908447266, -5.788599967956543, -5.805600166320801, -4.728499889373779, -5.216100215911865, -5.304299831390381, -5.27269983291626, -5.601900100708008, -5.668300151824951, -5.671599864959717, -4.231900215148926, -5.01669979095459, -5.213600158691406, -5.520299911499023, -5.5655999183654785, -5.597599983215332, -5.604899883270264, -5.6305999755859375, -5.647500038146973, -5.760799884796143, -5.776299953460693, -5.905900001525879, -5.90880012512207, -5.9156999588012695, -6.010200023651123, -6.057300090789795, -6.084000110626221, -6.108500003814697, -6.134900093078613, -6.170000076293945, -6.197400093078613, -6.277100086212158, -6.28410005569458, -6.286600112915039, -6.30079984664917, -6.351500034332275, -6.364500045776367, -6.406099796295166, -6.4141998291015625, -6.432499885559082, -4.175300121307373, -4.953800201416016, -5.044400215148926, -5.129799842834473, -4.201700210571289, -4.909200191497803, -5.760799884796143, -5.613500118255615, -5.946700096130371, -5.178100109100342, -5.933499813079834, -5.998600006103516, -5.837800025939941, -5.919899940490723, -6.019400119781494, -3.799799919128418, -4.886000156402588, -4.896500110626221, -5.066400051116943, -5.08620023727417, -5.10890007019043, -5.120200157165527, -5.178400039672852, -5.228899955749512, -5.307400226593018, -5.316500186920166, -5.327400207519531, -5.332499980926514, -5.370699882507324, -5.384300231933594, -5.386199951171875, -5.385499954223633, -5.413000106811523, -5.466800212860107, -5.480800151824951, -5.607699871063232, -5.610000133514404, -5.657299995422363, -5.659200191497803, -5.680699825286865, -5.6819000244140625, -5.684199810028076, -5.695199966430664, -5.700900077819824, -5.704100131988525, -4.860899925231934]}, \"token.table\": {\"Topic\": [9, 3, 4, 6, 7, 8, 2, 3, 4, 6, 7, 8, 5, 8, 1, 2, 3, 1, 10, 8, 8, 3, 10, 5, 5, 1, 6, 8, 3, 1, 2, 3, 1, 3, 2, 3, 5, 3, 10, 5, 1, 10, 6, 8, 6, 10, 8, 9, 3, 6, 1, 6, 8, 1, 2, 3, 5, 8, 6, 3, 3, 5, 5, 5, 2, 3, 5, 8, 6, 8, 1, 3, 2, 3, 6, 10, 10, 3, 5, 5, 5, 10, 5, 8, 6, 7, 8, 2, 3, 5, 5, 8, 1, 5, 6, 2, 1, 3, 7, 10, 8, 1, 2, 5, 8, 5, 8, 3, 6, 1, 1, 6, 9, 1, 3, 5, 8, 6, 8, 6, 1, 2, 7, 5, 6, 8, 10, 10, 8, 9, 5, 2, 3, 7, 3, 6, 8, 5, 8, 2, 2, 1, 8, 2, 6, 8, 1, 1, 5, 1, 3, 5, 1, 3, 2, 3, 5, 8, 3, 1, 5, 1, 8, 5, 9, 10, 7, 10, 1, 6, 5, 6, 6, 2, 3, 3, 6, 8, 2, 10, 9, 8, 2, 6, 8, 8, 2, 3, 2, 3, 2, 2, 2, 3, 6, 8, 8, 10, 1, 2, 6, 2, 3, 3, 2, 3, 5, 8, 6, 1, 6, 7, 6, 1, 3, 6, 6, 4, 5, 2, 1, 3, 5, 6, 6, 3, 3, 6, 2, 3, 1, 2, 3, 1, 6, 6, 5, 1, 1, 6, 5, 5, 2, 3, 5, 8, 8, 1, 3, 2, 8, 2, 3, 1, 2, 8, 3, 4, 5, 6, 8, 10, 3, 6, 8, 6, 3, 1, 3, 9, 3, 3, 5, 3, 3, 4, 1, 6, 5, 3, 6, 2, 2, 3, 10, 1, 5, 8, 1, 1, 2, 3, 5, 5, 3, 1, 6, 9, 3, 10, 8, 1, 2, 1, 2, 3, 5, 3, 5, 5, 10, 3, 1, 2, 3, 5, 6, 3, 3, 6, 3, 8, 5, 3, 2, 8, 9, 2, 1, 6, 3, 6, 3, 6, 3, 5, 10, 1, 3, 1, 10, 5, 1, 2, 3, 6, 6, 1, 6, 5, 8, 2, 2, 2, 1, 2, 3, 1, 2, 3, 7, 5, 7, 6, 1, 6, 2, 10, 5, 2, 1, 1, 3, 6, 8, 3, 8, 1, 5, 6, 8, 1, 7, 1, 2, 3, 1, 5, 1, 2, 3, 6, 1, 1, 2, 3, 2, 3, 2, 2, 8, 2, 1, 3, 1, 2, 3, 5, 2, 3, 5, 6, 10, 2, 1, 2, 3, 5, 8, 2, 4, 9, 9, 4, 9, 4, 7, 9, 4, 9, 4, 4, 4, 9, 9, 4, 4, 4, 4, 9, 4, 7, 9, 4, 7, 4, 7, 4, 7, 10, 7, 4, 7, 4, 7, 9, 4, 7, 7, 4, 4, 4, 4, 7, 7, 4, 7, 9, 10, 4, 10, 4, 7, 7, 4, 4, 10, 10, 4, 9, 9, 4, 7, 7, 9, 4, 9, 9, 4, 7, 9, 7, 9, 9, 4, 7, 9, 9, 9, 9, 7, 9, 7, 4, 9, 4, 9, 4, 7, 9, 7, 7, 9, 6, 4, 9, 4, 9, 9, 9, 4, 7, 9, 7, 10, 7, 10, 4, 9, 7, 4, 7, 9, 9, 7, 4, 9, 9, 4, 7, 10, 4, 4, 9, 4, 4, 9, 7, 4, 9, 4, 7, 4, 9, 4, 7, 9, 10, 7, 7, 9, 7, 4, 4], \"Freq\": [0.999639630317688, 0.14963658154010773, 0.23017451167106628, 0.3194076418876648, 0.22653774917125702, 0.07419011741876602, 0.06851847469806671, 0.07745027542114258, 0.24182018637657166, 0.1277329921722412, 0.36479783058166504, 0.11966956406831741, 0.9999581575393677, 0.9998672604560852, 0.3776233494281769, 0.4679209291934967, 0.15439462661743164, 0.999951958656311, 0.9997946619987488, 0.9997460842132568, 0.9998881816864014, 0.9999752044677734, 0.9998410940170288, 0.9998533725738525, 0.9999456405639648, 0.3341551423072815, 0.5519010424613953, 0.11390641331672668, 0.9998533725738525, 0.2656545341014862, 0.5127092599868774, 0.22160704433918, 0.9998936653137207, 0.9999160766601562, 0.9724206924438477, 0.027462955564260483, 0.999916136264801, 0.9999593496322632, 0.9998247623443604, 0.9998726844787598, 0.9998741745948792, 0.999710738658905, 0.9999082684516907, 0.9998383522033691, 0.999855101108551, 0.9998152852058411, 0.9997177720069885, 0.999511182308197, 0.3248910903930664, 0.6750509738922119, 0.8381203413009644, 0.16183874011039734, 0.9998433589935303, 0.9999098181724548, 0.8045386075973511, 0.19540798664093018, 0.8367477059364319, 0.16325096786022186, 0.9998683333396912, 0.9998598098754883, 0.8197358250617981, 0.18021374940872192, 0.9999110698699951, 0.9998902082443237, 0.9999288320541382, 0.4610133171081543, 0.5389755964279175, 0.9999470114707947, 0.9999531507492065, 0.999974250793457, 0.9999668002128601, 0.999943196773529, 0.9999616146087646, 0.9999198317527771, 0.9999046325683594, 0.99985671043396, 0.9997116327285767, 0.24075135588645935, 0.759253740310669, 0.9999329447746277, 0.49632078409194946, 0.5036053657531738, 0.4242027699947357, 0.5757620930671692, 0.9999400973320007, 0.9995865821838379, 0.9997556805610657, 0.5471702218055725, 0.36147022247314453, 0.0913265272974968, 0.8070011734962463, 0.19296535849571228, 0.9999371767044067, 0.8395497798919678, 0.1603841483592987, 0.9999425411224365, 0.9999490976333618, 0.9998598098754883, 0.9999371767044067, 0.9998584985733032, 0.9998639225959778, 0.9999809861183167, 0.9999772906303406, 0.7754063606262207, 0.22457706928253174, 0.9999114871025085, 0.9998730421066284, 0.2886115610599518, 0.7113789319992065, 0.9999165534973145, 0.23140524327754974, 0.7685027718544006, 0.9995077252388, 0.9998947381973267, 0.6365193128585815, 0.18816915154457092, 0.17522509396076202, 0.9999420046806335, 0.9999059438705444, 0.9998801946640015, 0.9998582601547241, 0.9998138546943665, 0.9998185634613037, 0.5365909934043884, 0.15997231006622314, 0.30342844128608704, 0.9998326897621155, 0.999721348285675, 0.9997704029083252, 0.9997093677520752, 0.9999243021011353, 0.3053094446659088, 0.6946433186531067, 0.9998010396957397, 0.3915809094905853, 0.6083268523216248, 0.9997146129608154, 0.9998182058334351, 0.9998883008956909, 0.9999329447746277, 0.9999399185180664, 0.999899685382843, 0.9997702836990356, 0.9999467730522156, 0.9999254941940308, 0.9999038577079773, 0.9999412894248962, 0.9998716115951538, 0.9999139308929443, 0.14470656216144562, 0.1408327966928482, 0.7144079208374023, 0.9999774694442749, 0.9999166131019592, 0.10018577426671982, 0.23129257559776306, 0.5500170588493347, 0.11847593635320663, 0.9999270439147949, 0.7562634348869324, 0.24370835721492767, 0.9998664259910583, 0.9998658895492554, 0.9997934103012085, 0.9994416832923889, 0.9998726844787598, 0.9997226595878601, 0.9999274611473083, 0.2563799321651459, 0.7435925602912903, 0.297405868768692, 0.7025222182273865, 0.9998694062232971, 0.28190693259239197, 0.718039870262146, 0.7962556481361389, 0.20370587706565857, 0.9999818205833435, 0.9999788403511047, 0.9998483657836914, 0.9996005296707153, 0.9998550415039062, 0.2795164883136749, 0.5591179132461548, 0.16128890216350555, 0.9997112154960632, 0.79205322265625, 0.20787110924720764, 0.3469437062740326, 0.653014063835144, 0.9999723434448242, 0.9998564720153809, 0.2666623890399933, 0.23560507595539093, 0.43773868680000305, 0.05996152386069298, 0.9999060034751892, 0.9998619556427002, 0.11568877100944519, 0.7022920250892639, 0.18198397755622864, 0.9999287724494934, 0.9998562932014465, 0.9999557733535767, 0.8393059968948364, 0.16066302359104156, 0.9999805092811584, 0.9998414516448975, 0.9998394846916199, 0.9999595284461975, 0.9998790621757507, 0.9998626708984375, 0.99983149766922, 0.6685949563980103, 0.20166437327861786, 0.12970957159996033, 0.9998486042022705, 0.9998348951339722, 0.9999350905418396, 0.9998788833618164, 0.55169278383255, 0.29275327920913696, 0.01960301212966442, 0.13587301969528198, 0.999886691570282, 0.9999057650566101, 0.3221728801727295, 0.6777657866477966, 0.788640022277832, 0.2113341987133026, 0.09793617576360703, 0.6558483242988586, 0.24616065621376038, 0.779887855052948, 0.22007280588150024, 0.9998798370361328, 0.9997825622558594, 0.9999861717224121, 0.9999239444732666, 0.9999076724052429, 0.9999553561210632, 0.9999401569366455, 0.9998922944068909, 0.2351817935705185, 0.2990235388278961, 0.46566933393478394, 0.9998918175697327, 0.8006296753883362, 0.199345201253891, 0.4065583050251007, 0.5933825969696045, 0.4841897785663605, 0.5158014297485352, 0.9999099373817444, 0.9999541640281677, 0.9999887347221375, 0.20359528064727783, 0.050826624035835266, 0.13175936043262482, 0.20965981483459473, 0.3569415211677551, 0.047144580632448196, 0.9992159008979797, 0.0003253361792303622, 0.0003253361792303622, 0.9999108910560608, 0.9998356103897095, 0.8448508977890015, 0.15512166917324066, 0.9995402693748474, 0.9999222755432129, 0.9999122619628906, 0.9999836087226868, 0.9999085068702698, 0.9998856782913208, 0.9998490214347839, 0.9999573230743408, 0.9998597502708435, 0.9999039769172668, 0.9998655319213867, 0.9999495148658752, 0.9998197555541992, 0.9999654293060303, 0.9999479055404663, 0.9996411800384521, 0.5645278096199036, 0.3210538327693939, 0.1143910214304924, 0.9999278783798218, 0.1661401093006134, 0.6220217943191528, 0.21180930733680725, 0.9998422861099243, 0.9998253583908081, 0.9998616576194763, 0.9998747706413269, 0.999883770942688, 0.9995611906051636, 0.9998708367347717, 0.9997148513793945, 0.9997683763504028, 0.9998832941055298, 0.9998356699943542, 0.4392273426055908, 0.1749809980392456, 0.10674314945936203, 0.2790365517139435, 0.34110337495803833, 0.6588588953018188, 0.9998959302902222, 0.99978107213974, 0.9998211860656738, 0.11428312212228775, 0.7370603084564209, 0.14862170815467834, 0.9997811317443848, 0.9997724890708923, 0.9998247027397156, 0.9999160170555115, 0.9999525547027588, 0.9997684359550476, 0.9999601244926453, 0.9999648332595825, 0.9997432827949524, 0.9998892545700073, 0.9997813105583191, 0.9994202256202698, 0.999932587146759, 0.5364460349082947, 0.4635348618030548, 0.9999225735664368, 0.9999250173568726, 0.9999260306358337, 0.9999062418937683, 0.336872935295105, 0.6631130576133728, 0.9997414350509644, 0.7242819666862488, 0.27567577362060547, 0.9999196529388428, 0.9998846650123596, 0.9999407529830933, 0.22594422101974487, 0.4384072721004486, 0.23262257874011993, 0.10299605131149292, 0.9998049736022949, 0.9999396204948425, 0.9997515678405762, 0.999958872795105, 0.9999167323112488, 0.9999188780784607, 0.9999414682388306, 0.9999733567237854, 0.2004280835390091, 0.5572341680526733, 0.24230508506298065, 0.04302635416388512, 0.6338932514190674, 0.3230323791503906, 0.9998582601547241, 0.9997137784957886, 0.9996289610862732, 0.9999393820762634, 0.8690654635429382, 0.13093329966068268, 0.9999068379402161, 0.9998705983161926, 0.9998317360877991, 0.9999296069145203, 0.9998365640640259, 0.5998571515083313, 0.1349845975637436, 0.15230748057365417, 0.11284980177879333, 0.3506149649620056, 0.6492623090744019, 0.2359059602022171, 0.16596776247024536, 0.5052388906478882, 0.09286192059516907, 0.9999482035636902, 0.9998414516448975, 0.20639872550964355, 0.6039425730705261, 0.18965771794319153, 0.9999057054519653, 0.9997180104255676, 0.17367702722549438, 0.22881408035755157, 0.15258967876434326, 0.44485363364219666, 0.9998975992202759, 0.08253311365842819, 0.6239833831787109, 0.2933789789676666, 0.9999019503593445, 0.9999285936355591, 0.9999424815177917, 0.34221208095550537, 0.6577032208442688, 0.9999369978904724, 0.3987397849559784, 0.6012125611305237, 0.5194016098976135, 0.19234608113765717, 0.1731683313846588, 0.11506648361682892, 0.09261580556631088, 0.2974458336830139, 0.6099252700805664, 0.9998741149902344, 0.9997384548187256, 0.999873161315918, 0.19159579277038574, 0.21217945218086243, 0.4083189070224762, 0.18790598213672638, 0.9998741149902344, 0.999897837638855, 0.26818200945854187, 0.7317834496498108, 0.9997938871383667, 0.26107826828956604, 0.7388006448745728, 0.4335373044013977, 0.5157366394996643, 0.05048036947846413, 0.7805958390235901, 0.21928367018699646, 0.9998527765274048, 0.9996978044509888, 0.9999578595161438, 0.9997364282608032, 0.9997768402099609, 0.9997707009315491, 0.999717116355896, 0.999889075756073, 0.9998244047164917, 0.9996335506439209, 0.15740738809108734, 0.1610369235277176, 0.6813982129096985, 0.651935338973999, 0.3480292558670044, 0.6743471026420593, 0.3255959153175354, 0.9999032616615295, 0.9997545480728149, 0.9997914433479309, 0.9996510744094849, 0.999906599521637, 0.9999015927314758, 0.6412940621376038, 0.05973859876394272, 0.29892927408218384, 0.9997140169143677, 0.9998436570167542, 0.9998995661735535, 0.9998494386672974, 0.9996957182884216, 0.9997074007987976, 0.9996944665908813, 0.9995246529579163, 0.9998432397842407, 0.33960703015327454, 0.445491760969162, 0.21485522389411926, 0.999775767326355, 0.999938428401947, 0.999780535697937, 0.9997233152389526, 0.9997870922088623, 0.9997665882110596, 0.999745786190033, 0.9999322891235352, 0.9998917579650879, 0.9997240900993347, 0.9998586177825928, 0.9998396635055542, 0.9998632669448853, 0.33704784512519836, 0.6627064943313599, 0.999581515789032, 0.9997708797454834, 0.6940230131149292, 0.30585211515426636, 0.9998065829277039, 0.9999392628669739, 0.9998499751091003, 0.9997242093086243, 0.4329187870025635, 0.5670658946037292, 0.9993563294410706, 0.48969048261642456, 0.3478560447692871, 0.1624365895986557, 0.9998432993888855, 0.9996259212493896, 0.9997372627258301, 0.5689076781272888, 0.4310015141963959, 0.9998100399971008, 0.7738646864891052, 0.22605539858341217, 0.41575461626052856, 0.5841972827911377, 0.7820712327957153, 0.07239022850990295, 0.14547176659107208, 0.9997173547744751, 0.6902618408203125, 0.30964022874832153, 0.9998258352279663, 0.2196345180273056, 0.780302107334137, 0.23958419263362885, 0.7603774666786194, 0.9997363686561584, 0.9998362064361572, 0.2986902594566345, 0.17736844718456268, 0.5239167213439941, 0.9997074007987976, 0.999875545501709, 0.9998641014099121, 0.9998373985290527, 0.296612024307251, 0.7033059000968933, 0.9998272657394409, 0.32167866826057434, 0.6782494783401489, 0.9996633529663086, 0.9999356269836426, 0.9998770356178284, 0.9998440742492676, 0.9999618530273438, 0.9993919730186462, 0.9998998045921326, 0.9999603033065796, 0.9997090101242065, 0.9996647238731384, 0.19384868443012238, 0.8060926795005798, 0.9998784065246582, 0.9997391700744629, 0.9995899796485901, 0.9997909665107727, 0.2989499866962433, 0.7009120583534241, 0.3684181571006775, 0.6313442587852478, 0.9998236298561096, 0.999800443649292, 0.26946762204170227, 0.22276680171489716, 0.5077582597732544, 0.9999740719795227, 0.9998879432678223, 0.29088109731674194, 0.7089008092880249, 0.9997982382774353, 0.9999808669090271, 0.9999151825904846], \"Term\": [\"2\", \"2016\", \"2016\", \"2016\", \"2016\", \"2016\", \"2017\", \"2017\", \"2017\", \"2017\", \"2017\", \"2017\", \"accused\", \"akron\", \"america\", \"america\", \"america\", \"american\", \"answer\", \"apartment\", \"area\", \"arizona\", \"armed\", \"arrest\", \"arrested\", \"attack\", \"attack\", \"attack\", \"baby\", \"back\", \"back\", \"back\", \"bernie\", \"best\", \"better\", \"better\", \"bill\", \"black\", \"block\", \"blotter\", \"border\", \"bowl\", \"breaking\", \"brown\", \"budget\", \"building\", \"bus\", \"bush\", \"call\", \"call\", \"campaign\", \"campaign\", \"cancer\", \"candidate\", \"cant\", \"cant\", \"car\", \"car\", \"celebrity\", \"center\", \"change\", \"change\", \"charge\", \"charged\", \"check\", \"child\", \"child\", \"city\", \"claim\", \"cleveland\", \"clinton\", \"close\", \"come\", \"community\", \"company\", \"congress\", \"conservative\", \"cop\", \"cop\", \"county\", \"court\", \"court\", \"crash\", \"crash\", \"cruz\", \"da\", \"daily\", \"day\", \"day\", \"day\", \"dead\", \"dead\", \"deal\", \"death\", \"death\", \"debate\", \"democrat\", \"der\", \"die\", \"district\", \"dog\", \"donald\", \"dont\", \"drug\", \"drug\", \"dy\", \"east\", \"election\", \"election\", \"email\", \"event\", \"event\", \"expected\", \"fake\", \"family\", \"family\", \"family\", \"fan\", \"fatal\", \"father\", \"fbi\", \"feel\", \"final\", \"fire\", \"fire\", \"fire\", \"flag\", \"flight\", \"following\", \"foreign\", \"found\", \"free\", \"free\", \"f\\u00fcr\", \"game\", \"game\", \"gas\", \"getting\", \"god\", \"going\", \"good\", \"gop\", \"gov\", \"great\", \"group\", \"guilty\", \"head\", \"health\", \"height\", \"high\", \"high\", \"high\", \"hillary\", \"hit\", \"home\", \"home\", \"home\", \"home\", \"hospital\", \"house\", \"house\", \"immigration\", \"injured\", \"inside\", \"investigate\", \"investigating\", \"ist\", \"jersey\", \"john\", \"john\", \"judge\", \"judge\", \"kasich\", \"kid\", \"kid\", \"kill\", \"kill\", \"killed\", \"know\", \"lada\", \"lake\", \"land\", \"lead\", \"lead\", \"lead\", \"least\", \"let\", \"let\", \"life\", \"life\", \"like\", \"little\", \"live\", \"live\", \"live\", \"live\", \"local\", \"long\", \"look\", \"look\", \"look\", \"looking\", \"lot\", \"love\", \"make\", \"make\", \"man\", \"mayor\", \"mccain\", \"medium\", \"meeting\", \"merkel\", \"mesa\", \"million\", \"million\", \"million\", \"miss\", \"missing\", \"murder\", \"music\", \"muslim\", \"muslim\", \"muslim\", \"muslim\", \"nashville\", \"nbc\", \"near\", \"near\", \"need\", \"need\", \"never\", \"never\", \"never\", \"news\", \"news\", \"night\", \"oakland\", \"obama\", \"obamas\", \"office\", \"officer\", \"ohio\", \"old\", \"orleans\", \"orleans\", \"orleans\", \"outside\", \"party\", \"party\", \"pay\", \"pay\", \"people\", \"people\", \"philadelphia\", \"philly\", \"phoenix\", \"photo\", \"photo\", \"photo\", \"photo\", \"photo\", \"photo\", \"phx\", \"phx\", \"phx\", \"pick\", \"place\", \"plan\", \"plan\", \"planned\", \"play\", \"playing\", \"police\", \"political\", \"politics\", \"poll\", \"president\", \"presidential\", \"prison\", \"race\", \"rally\", \"read\", \"really\", \"refugee\", \"rep\", \"report\", \"report\", \"report\", \"republican\", \"right\", \"right\", \"right\", \"road\", \"robbery\", \"rule\", \"russia\", \"russian\", \"ryan\", \"safe\", \"saint\", \"san\", \"sander\", \"save\", \"say\", \"say\", \"say\", \"say\", \"school\", \"school\", \"search\", \"season\", \"security\", \"see\", \"see\", \"see\", \"seek\", \"sen\", \"senate\", \"service\", \"set\", \"shoot\", \"shooting\", \"shot\", \"snow\", \"someone\", \"sport\", \"spring\", \"start\", \"state\", \"state\", \"stolen\", \"storm\", \"street\", \"strike\", \"student\", \"student\", \"super\", \"support\", \"support\", \"supporter\", \"supreme\", \"suspect\", \"take\", \"take\", \"take\", \"take\", \"taking\", \"tax\", \"ted\", \"teen\", \"thanks\", \"thats\", \"thing\", \"think\", \"time\", \"time\", \"time\", \"today\", \"today\", \"today\", \"toyota\", \"traffic\", \"travel\", \"trial\", \"trump\", \"trump\", \"truth\", \"und\", \"university\", \"valley\", \"veteran\", \"via\", \"via\", \"via\", \"via\", \"victim\", \"victim\", \"video\", \"video\", \"video\", \"video\", \"vote\", \"voter\", \"want\", \"want\", \"want\", \"warrior\", \"washington\", \"watch\", \"watch\", \"watch\", \"watch\", \"water\", \"way\", \"way\", \"way\", \"weather\", \"week\", \"weekend\", \"west\", \"west\", \"whats\", \"white\", \"white\", \"win\", \"win\", \"win\", \"win\", \"woman\", \"woman\", \"woman\", \"worker\", \"working\", \"wrong\", \"year\", \"year\", \"year\", \"year\", \"york\", \"youre\", \"\\u0430\\u043b\\u0435\\u043f\\u043f\\u043e\", \"\\u0430\\u043b\\u0435\\u043f\\u043f\\u043e\", \"\\u0431\\u0435\\u043b\\u044b\\u0439\", \"\\u0431\\u043e\\u0435\\u0432\\u0438\\u043a\\u043e\\u0432\", \"\\u0431\\u043e\\u0435\\u0432\\u0438\\u043a\\u043e\\u0432\", \"\\u0431\\u043e\\u043b\\u0435\\u0435\", \"\\u0431\\u043e\\u043b\\u0435\\u0435\", \"\\u0431\\u043e\\u043b\\u0435\\u0435\", \"\\u0431\\u0443\\u0434\\u0435\\u0442\", \"\\u0431\\u0443\\u0434\\u0435\\u0442\", \"\\u0431\\u0443\\u0434\\u0443\\u0442\", \"\\u0432\\u0430\\u0437\", \"\\u0432\\u0438\\u0434\\u0435\\u043e\", \"\\u0432\\u043b\\u0430\\u0434\\u0438\\u043c\\u0438\\u0440\", \"\\u0432\\u043b\\u0430\\u0441\\u0442\\u0438\", \"\\u0432\\u043e\\u0434\\u0438\\u0442\\u0435\\u043b\\u044c\", \"\\u0432\\u043e\\u0442\", \"\\u0432\\u0440\\u0435\\u043c\\u044f\", \"\\u0432\\u0441\\u0435\", \"\\u0432\\u0441\\u0435\\u0445\", \"\\u0433\\u043b\\u0430\\u0432\\u0430\", \"\\u0433\\u043b\\u0430\\u0432\\u0430\", \"\\u0433\\u043b\\u0430\\u0432\\u0430\", \"\\u0433\\u043e\\u0434\", \"\\u0433\\u043e\\u0434\", \"\\u0433\\u043e\\u0434\\u0430\", \"\\u0433\\u043e\\u0434\\u0430\", \"\\u0433\\u043e\\u0434\\u0443\", \"\\u0433\\u043e\\u0440\\u043e\\u0434\", \"\\u0433\\u043e\\u0440\\u043e\\u0434\\u0430\", \"\\u0433\\u043e\\u0440\\u043e\\u0434\\u0435\", \"\\u0434\\u0435\\u043d\\u044c\", \"\\u0434\\u0435\\u0442\\u0435\\u0439\", \"\\u0434\\u043b\\u044f\", \"\\u0434\\u043b\\u044f\", \"\\u0434\\u043b\\u044f\", \"\\u0434\\u043d\\u044f\", \"\\u0434\\u043e\\u043c\", \"\\u0434\\u0442\\u043f\", \"\\u0435\\u0433\\u043e\", \"\\u0435\\u0441\\u043b\\u0438\", \"\\u0435\\u0441\\u0442\\u044c\", \"\\u0435\\u0449\\u0435\", \"\\u0436\\u0438\\u0437\\u043d\\u0438\", \"\\u0436\\u0438\\u0442\\u0435\\u043b\\u0435\\u0439\", \"\\u0438\\u0437\\u0437\\u0430\", \"\\u0438\\u0437\\u0437\\u0430\", \"\\u0438\\u0437\\u0437\\u0430\", \"\\u0438\\u044e\\u043b\\u044f\", \"\\u043a\\u0430\\u043a\", \"\\u043a\\u0430\\u0444\\u0435\", \"\\u043a\\u043e\\u0433\\u0434\\u0430\", \"\\u043a\\u0440\\u044b\\u043c\", \"\\u043a\\u0440\\u044b\\u043c\\u0430\", \"\\u043a\\u0442\\u043e\", \"\\u043b\\u0435\\u0442\", \"\\u043c\\u0430\\u044f\", \"\\u043c\\u0435\\u0436\\u0434\\u0443\", \"\\u043c\\u0435\\u0442\\u0440\\u043e\", \"\\u043c\\u0438\\u0434\", \"\\u043c\\u0438\\u0440\\u0430\", \"\\u043c\\u043b\\u043d\", \"\\u043c\\u043b\\u043d\", \"\\u043c\\u043b\\u0440\\u0434\", \"\\u043c\\u043e\\u0433\\u0443\\u0442\", \"\\u043c\\u043e\\u0436\\u0435\\u0442\", \"\\u043c\\u043e\\u0436\\u0435\\u0442\", \"\\u043c\\u043e\\u0441\\u043a\\u0432\\u0430\", \"\\u043c\\u043e\\u0441\\u043a\\u0432\\u0435\", \"\\u043d\\u0430\\u0437\\u0432\\u0430\\u043b\", \"\\u043d\\u043e\\u0432\\u044b\\u0435\", \"\\u043d\\u043e\\u0432\\u044b\\u0439\", \"\\u043d\\u043e\\u0432\\u044b\\u0439\", \"\\u043d\\u043e\\u0447\\u044c\", \"\\u043e\\u0431\\u043b\\u0430\\u0441\\u0442\\u0438\", \"\\u043e\\u0431\\u043b\\u0430\\u0441\\u0442\\u0438\", \"\\u043e\\u0431\\u043b\\u0430\\u0441\\u0442\\u0438\", \"\\u043e\\u043e\\u043d\", \"\\u043e\\u0447\\u0435\\u043d\\u044c\", \"\\u043f\\u0435\\u0440\\u0432\\u044b\\u0439\", \"\\u043f\\u0435\\u0442\\u0435\\u0440\\u0431\\u0443\\u0440\\u0433\\u0435\", \"\\u043f\\u0435\\u0442\\u0435\\u0440\\u0431\\u0443\\u0440\\u0433\\u0435\", \"\\u043f\\u043e\\u0433\\u0438\\u0431\\u043b\\u0438\", \"\\u043f\\u043e\\u0434\", \"\\u043f\\u043e\\u0434\", \"\\u043f\\u043e\\u043c\\u043e\\u0449\\u044c\\u044e\", \"\\u043f\\u043e\\u043c\\u043e\\u0449\\u044c\\u044e\", \"\\u043f\\u043e\\u0441\\u043b\\u0435\", \"\\u043f\\u043e\\u0441\\u043b\\u0435\", \"\\u043f\\u043e\\u0441\\u043b\\u0435\", \"\\u043f\\u043e\\u0447\\u0442\\u0438\", \"\\u043f\\u0440\\u0438\", \"\\u043f\\u0440\\u0438\", \"\\u043f\\u0440\\u043e\\u0439\\u0434\\u0435\\u0442\", \"\\u043f\\u0440\\u043e\\u0442\\u0438\\u0432\", \"\\u043f\\u0440\\u043e\\u0442\\u0438\\u0432\", \"\\u043f\\u0443\\u0442\\u0438\\u043d\", \"\\u043f\\u0443\\u0442\\u0438\\u043d\", \"\\u0440\\u0430\\u0431\\u043e\\u0442\\u0443\", \"\\u0440\\u0430\\u0439\\u043e\\u043d\\u0435\", \"\\u0440\\u043e\\u0441\\u0441\\u0438\\u0438\", \"\\u0440\\u043e\\u0441\\u0441\\u0438\\u0438\", \"\\u0440\\u043e\\u0441\\u0441\\u0438\\u0438\", \"\\u0440\\u043e\\u0441\\u0441\\u0438\\u0439\\u0441\\u043a\\u0438\\u0435\", \"\\u0440\\u043e\\u0441\\u0441\\u0438\\u0439\\u0441\\u043a\\u0438\\u0439\", \"\\u0440\\u043e\\u0441\\u0441\\u0438\\u0439\\u0441\\u043a\\u043e\\u0433\\u043e\", \"\\u0440\\u043e\\u0441\\u0441\\u0438\\u044e\", \"\\u0440\\u043e\\u0441\\u0441\\u0438\\u044f\", \"\\u0440\\u043e\\u0441\\u0441\\u0438\\u044f\", \"\\u0440\\u043e\\u0441\\u0442\\u043e\\u0432\", \"\\u0440\\u0443\\u0431\\u043b\\u0435\\u0439\", \"\\u0440\\u0443\\u0431\\u043b\\u0435\\u0439\", \"\\u0441\\u0430\\u0430\", \"\\u0441\\u0430\\u043d\\u043a\\u0446\\u0438\\u0438\", \"\\u0441\\u0431\\u0438\\u043b\", \"\\u0441\\u0435\\u0433\\u043e\\u0434\\u043d\\u044f\", \"\\u0441\\u0438\\u0440\\u0438\\u0438\", \"\\u0441\\u0438\\u0440\\u0438\\u0439\\u0441\\u043a\\u043e\\u0439\", \"\\u0441\\u043c\\u0438\", \"\\u0441\\u043e\\u0447\\u0438\", \"\\u0441\\u0442\\u043e\\u043b\\u043a\\u043d\\u0443\\u043b\\u0438\\u0441\\u044c\", \"\\u0441\\u0443\\u0434\", \"\\u0441\\u0448\\u0430\", \"\\u0441\\u0448\\u0430\", \"\\u0442\\u0430\\u043a\", \"\\u0442\\u043e\\u043b\\u044c\\u043a\\u043e\", \"\\u0442\\u0440\\u0430\\u043c\\u043f\\u0430\", \"\\u0442\\u0440\\u0430\\u0441\\u0441\\u0435\", \"\\u0442\\u0443\\u0440\\u0446\\u0438\\u0438\", \"\\u0442\\u0443\\u0440\\u0446\\u0438\\u0438\", \"\\u0442\\u044b\\u0441\\u044f\\u0447\", \"\\u0442\\u044b\\u0441\\u044f\\u0447\", \"\\u0443\\u0436\\u0435\", \"\\u0443\\u043a\\u0440\\u0430\\u0438\\u043d\\u0435\", \"\\u0443\\u043a\\u0440\\u0430\\u0438\\u043d\\u044b\", \"\\u0443\\u043a\\u0440\\u0430\\u0438\\u043d\\u044b\", \"\\u0443\\u043a\\u0440\\u0430\\u0438\\u043d\\u044b\", \"\\u0444\\u043e\\u0442\\u043e\", \"\\u0447\\u0435\\u043b\\u043e\\u0432\\u0435\\u043a\", \"\\u0447\\u0435\\u043c\", \"\\u0447\\u0435\\u043c\", \"\\u0447\\u0435\\u0440\\u0435\\u0437\", \"\\u0447\\u0442\\u043e\", \"\\u044d\\u0442\\u043e\"]}, \"R\": 30, \"lambda.step\": 0.01, \"plot.opts\": {\"xlab\": \"PC1\", \"ylab\": \"PC2\"}, \"topic.order\": [2, 6, 5, 10, 1, 9, 8, 7, 4, 3]};\n",
       "\n",
       "function LDAvis_load_lib(url, callback){\n",
       "  var s = document.createElement('script');\n",
       "  s.src = url;\n",
       "  s.async = true;\n",
       "  s.onreadystatechange = s.onload = callback;\n",
       "  s.onerror = function(){console.warn(\"failed to load library \" + url);};\n",
       "  document.getElementsByTagName(\"head\")[0].appendChild(s);\n",
       "}\n",
       "\n",
       "if(typeof(LDAvis) !== \"undefined\"){\n",
       "   // already loaded: just create the visualization\n",
       "   !function(LDAvis){\n",
       "       new LDAvis(\"#\" + \"ldavis_el741261192938599049008366504\", ldavis_el741261192938599049008366504_data);\n",
       "   }(LDAvis);\n",
       "}else if(typeof define === \"function\" && define.amd){\n",
       "   // require.js is available: use it to load d3/LDAvis\n",
       "   require.config({paths: {d3: \"https://cdnjs.cloudflare.com/ajax/libs/d3/3.5.5/d3.min\"}});\n",
       "   require([\"d3\"], function(d3){\n",
       "      window.d3 = d3;\n",
       "      LDAvis_load_lib(\"https://cdn.rawgit.com/bmabey/pyLDAvis/files/ldavis.v1.0.0.js\", function(){\n",
       "        new LDAvis(\"#\" + \"ldavis_el741261192938599049008366504\", ldavis_el741261192938599049008366504_data);\n",
       "      });\n",
       "    });\n",
       "}else{\n",
       "    // require.js not available: dynamically load d3 & LDAvis\n",
       "    LDAvis_load_lib(\"https://cdnjs.cloudflare.com/ajax/libs/d3/3.5.5/d3.min.js\", function(){\n",
       "         LDAvis_load_lib(\"https://cdn.rawgit.com/bmabey/pyLDAvis/files/ldavis.v1.0.0.js\", function(){\n",
       "                 new LDAvis(\"#\" + \"ldavis_el741261192938599049008366504\", ldavis_el741261192938599049008366504_data);\n",
       "            })\n",
       "         });\n",
       "}\n",
       "</script>"
      ],
      "text/plain": [
       "<IPython.core.display.HTML object>"
      ]
     },
     "execution_count": 43,
     "metadata": {},
     "output_type": "execute_result"
    }
   ],
   "source": [
    "got# http://tlfvincent.github.io/2015/10/23/presidential-speech-topics/#topic=1&lambda=1&term=\n",
    "vis_data = gensimvis.prepare(tweet_topics, corpus, dictionary)\n",
    "pyLDAvis.display(vis_data)"
   ]
  },
  {
   "cell_type": "markdown",
   "metadata": {},
   "source": [
    "### Output Visualization Tool to HTML"
   ]
  },
  {
   "cell_type": "code",
   "execution_count": 45,
   "metadata": {},
   "outputs": [],
   "source": [
    "# save viz output to an HTML file\n",
    "vis_data = gensimvis.prepare(tweet_topics, corpus, dictionary)\n",
    "\n",
    "pyLDAvis.save_html(vis_data, 'pyLDAviz_all-topics_040519.html')"
   ]
  },
  {
   "cell_type": "markdown",
   "metadata": {},
   "source": [
    "### Next, examine the hashtags and topics of each troll group\n",
    "Analyze the hashtags, mentions, and topics of each of the seven \"troll classes\", as defined by Clemson University's Darren Linvill and Patrick Warren in their analysis of the Russian Troll Farm Twitter data."
   ]
  }
 ],
 "metadata": {
  "hide_input": false,
  "kernelspec": {
   "display_name": "Python 3",
   "language": "python",
   "name": "python3"
  },
  "language_info": {
   "codemirror_mode": {
    "name": "ipython",
    "version": 3
   },
   "file_extension": ".py",
   "mimetype": "text/x-python",
   "name": "python",
   "nbconvert_exporter": "python",
   "pygments_lexer": "ipython3",
   "version": "3.6.7"
  }
 },
 "nbformat": 4,
 "nbformat_minor": 2
}
