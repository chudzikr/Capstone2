{
 "cells": [
  {
   "cell_type": "markdown",
   "metadata": {},
   "source": [
    "# Capstone 2 Project - Russian Troll Groups - Fearmonger"
   ]
  },
  {
   "cell_type": "markdown",
   "metadata": {},
   "source": [
    "In the analysis of each troll group, each of the troll groups* will be segmented out and analyzed each individually.  The \"troll classes\", as defined by Clemson University's Darren Linvill and Patrick Warren in their analysis of the Russian Troll Farm Twitter data.\n",
    "\n",
    "I will analyze the Troll Groups to explore questions about the nature of the disinformation campaign, such as:\n",
    "* Did other trolls retweet and amplify troll tweets?\n",
    "* Can common topics or themes be identified?\n",
    "* What were the most-used hashtags?\n",
    "* Did the tweets predominantly support one candidate or political party, or seek to undermine the other?"
   ]
  },
  {
   "cell_type": "markdown",
   "metadata": {},
   "source": [
    "## Data Dictionary\n",
    "\n",
    "Header | Definition\n",
    "-------|---------\n",
    "`external_author_id` | An author account ID from Twitter \n",
    "`author` | The handle sending the tweet\n",
    "`content` | The text of the tweet\n",
    "`region` | A region classification, as [determined by Social Studio](https://help.salesforce.com/articleView?   id=000199367&type=1)\n",
    "`language` | The language of the tweet\n",
    "`publish_date` | The date and time the tweet was sent\n",
    "`harvested_date` | The date and time the tweet was collected by Social Studio\n",
    "`following` | The number of accounts the handle was following at the time of the tweet\n",
    "`followers` | The number of followers the handle had at the time of the tweet\n",
    "`updates` | The number of “update actions” on the account that authored the tweet, including tweets, retweets and likes\n",
    "`post_type` | Indicates if the tweet was a retweet or a quote-tweet\n",
    "`account_type` | Specific account theme, as coded by Linvill and Warren\n",
    "`retweet` | A binary indicator of whether or not the tweet is a retweet\n",
    "`account_category` | General account theme, as coded by Linvill and Warren\n",
    "`new_june_2018` | A binary indicator of whether the handle was newly listed in June 2018"
   ]
  },
  {
   "cell_type": "code",
   "execution_count": 2,
   "metadata": {},
   "outputs": [],
   "source": [
    "# import standard libraries\n",
    "import pandas as pd\n",
    "pd.set_option(\"display.max_colwidth\", 200)\n",
    "#import numpy as np\n",
    "#import datetime\n",
    "import re\n",
    "import matplotlib.pyplot as plt\n",
    "import seaborn as sns\n",
    "#get_ipython().run_line_magic('matplotlib', 'inline')"
   ]
  },
  {
   "cell_type": "code",
   "execution_count": 3,
   "metadata": {},
   "outputs": [],
   "source": [
    "# import nltk libraries\n",
    "from nltk.corpus import stopwords\n",
    "from nltk import FreqDist\n",
    "#nltk.download('stopwords') # run one time"
   ]
  },
  {
   "cell_type": "code",
   "execution_count": 4,
   "metadata": {},
   "outputs": [],
   "source": [
    "# import gensim libraries\n",
    "from gensim.models.ldamulticore import LdaMulticore\n",
    "from gensim.test.utils import datapath\n",
    "from gensim import corpora\n",
    "from gensim.utils import any2unicode"
   ]
  },
  {
   "cell_type": "code",
   "execution_count": 5,
   "metadata": {},
   "outputs": [],
   "source": [
    "#suppress pandas future warnings\n",
    "import warnings\n",
    "warnings.simplefilter(action='ignore', category=FutureWarning)"
   ]
  },
  {
   "cell_type": "code",
   "execution_count": 6,
   "metadata": {},
   "outputs": [],
   "source": [
    "# encoding='utf-8',\n",
    "#right_troll = pd.read_csv('../data/right_troll.csv', parse_dates = ['publish_date'], low_memory=False)\n",
    "#nonenglish = pd.read_csv('../data/nonenglish.csv', parse_dates = ['publish_date'], low_memory=False)\n",
    "#fearmonger = pd.read_csv('../data/fearmonger.csv', parse_dates = ['publish_date'], low_memory=False)\n",
    "#left_troll = pd.read_csv('../data/left_troll.csv', parse_dates = ['publish_date'], low_memory=False)\n",
    "#hashtagamer = pd.read_csv('../data/hashtagamer.csv', parse_dates = ['publish_date'], low_memory=False)\n",
    "#newsfeed = pd.read_csv('../data/newsfeed.csv', parse_dates = ['publish_date'], low_memory=False)\n",
    "#commercial = pd.read_csv('../data/commercial.csv', parse_dates = ['publish_date'], low_memory=False)\n",
    "# print(df.shape)"
   ]
  },
  {
   "cell_type": "code",
   "execution_count": 7,
   "metadata": {},
   "outputs": [],
   "source": [
    "# read each troll classification file as 'df', for repurposing code for each class\n",
    "# nrows=100, \n",
    "full_df = pd.read_csv('../data/all_IRAhandle_tweets.csv', parse_dates = ['publish_date'], low_memory=False)\n",
    "name = 'Right Troll'"
   ]
  },
  {
   "cell_type": "code",
   "execution_count": 8,
   "metadata": {},
   "outputs": [
    {
     "data": {
      "text/plain": [
       "array(['RightTroll', 'NonEnglish', 'Fearmonger', 'LeftTroll', 'Unknown',\n",
       "       'HashtagGamer', 'NewsFeed', 'Commercial'], dtype=object)"
      ]
     },
     "execution_count": 8,
     "metadata": {},
     "output_type": "execute_result"
    }
   ],
   "source": [
    "full_df['account_category'].unique()"
   ]
  },
  {
   "cell_type": "code",
   "execution_count": 9,
   "metadata": {},
   "outputs": [],
   "source": [
    "df = full_df[full_df['account_category'] == \"Fearmonger\"]"
   ]
  },
  {
   "cell_type": "code",
   "execution_count": 10,
   "metadata": {},
   "outputs": [],
   "source": [
    "#Explicitly state that DF is a copy of full_df\n",
    "df.is_copy = True\n",
    "#df.drop('Unnamed: 0', axis=1, inplace=True)\n",
    "# drop rows with problematic character encoding\n",
    "#df.drop([58, 59], axis=0, inplace=True)\n",
    "#df.head()"
   ]
  },
  {
   "cell_type": "code",
   "execution_count": 11,
   "metadata": {},
   "outputs": [
    {
     "name": "stderr",
     "output_type": "stream",
     "text": [
      "/Users/admin/anaconda3/lib/python3.6/site-packages/ipykernel_launcher.py:1: SettingWithCopyWarning: \n",
      "A value is trying to be set on a copy of a slice from a DataFrame.\n",
      "Try using .loc[row_indexer,col_indexer] = value instead\n",
      "\n",
      "See the caveats in the documentation: http://pandas.pydata.org/pandas-docs/stable/indexing.html#indexing-view-versus-copy\n",
      "  \"\"\"Entry point for launching an IPython kernel.\n"
     ]
    }
   ],
   "source": [
    "df['cleaned'] = df['content'].fillna('').astype(str).map(any2unicode)"
   ]
  },
  {
   "cell_type": "markdown",
   "metadata": {},
   "source": [
    "## Text Preprocessing\n",
    "* Noise Removal\n",
    "* Tokenization\n",
    "* Normalization  \n",
    "(1) stemming\n",
    "(2) lemmatization, and \n",
    "(3) everything else"
   ]
  },
  {
   "cell_type": "markdown",
   "metadata": {},
   "source": [
    "### Remove URLs and non-English Characters"
   ]
  },
  {
   "cell_type": "code",
   "execution_count": 12,
   "metadata": {},
   "outputs": [],
   "source": [
    "def preprocess_text(text):\n",
    "    '''Remove URLs and Non-English characters, except for @ and #'''\n",
    "    # remove URL's\n",
    "    text = re.sub(r'\\w+:\\/{2}[\\d\\w-]+(\\.[\\d\\w-]+)*(?:(?:\\/[^\\s/]*))*', '', text)\n",
    "\n",
    "    # remove symbols excluding the @, # and \\s symbol\n",
    "    text = re.sub(r'[^\\w@#\\s]', '', text)\n",
    "\n",
    "    # remove URL's\n",
    "    text = re.sub('(https://[^\\s]+)', '', text)\n",
    "    text = re.sub('https?://[A-Za-z0-9./]+', '', text)\n",
    "\n",
    "    # remove URL's\n",
    "    text = re.sub('http?://[A-Za-z0-9./]+', '', text)\n",
    "\n",
    "    # lowercase, remove words less than len 2 & remove numbers in tokenized list\n",
    "    #return [word.lower() for word in text if len(word) > 2 and not word.isdigit() and not word in ignore_words]\n",
    "    return text"
   ]
  },
  {
   "cell_type": "code",
   "execution_count": 13,
   "metadata": {},
   "outputs": [
    {
     "name": "stderr",
     "output_type": "stream",
     "text": [
      "/Users/admin/anaconda3/lib/python3.6/site-packages/ipykernel_launcher.py:1: SettingWithCopyWarning: \n",
      "A value is trying to be set on a copy of a slice from a DataFrame.\n",
      "Try using .loc[row_indexer,col_indexer] = value instead\n",
      "\n",
      "See the caveats in the documentation: http://pandas.pydata.org/pandas-docs/stable/indexing.html#indexing-view-versus-copy\n",
      "  \"\"\"Entry point for launching an IPython kernel.\n"
     ]
    }
   ],
   "source": [
    "df['cleaned'] = df['cleaned'].apply(preprocess_text)"
   ]
  },
  {
   "cell_type": "markdown",
   "metadata": {},
   "source": [
    "### Hashtag Analysis"
   ]
  },
  {
   "cell_type": "code",
   "execution_count": 14,
   "metadata": {},
   "outputs": [],
   "source": [
    "# regex to find hashtags\n",
    "hashtag_re = re.compile(\"(?:^|\\s)[＃#]{1}(\\w+)\", re.UNICODE)\n",
    "\n",
    "def extract_hashtags(tweet):\n",
    "    '''Take in tweet contents from 'cleaned' content, extract hashtags and return cleaned text'''\n",
    "    hashtags_only = []\n",
    "    if len(re.findall(hashtag_re, tweet)) > 0:\n",
    "        hashtags_only.append(re.findall(hashtag_re, tweet))\n",
    "    else:\n",
    "        hashtags_only.append([\"0\"])\n",
    "    return hashtags_only[0]"
   ]
  },
  {
   "cell_type": "code",
   "execution_count": 15,
   "metadata": {},
   "outputs": [
    {
     "name": "stderr",
     "output_type": "stream",
     "text": [
      "/Users/admin/anaconda3/lib/python3.6/site-packages/ipykernel_launcher.py:2: SettingWithCopyWarning: \n",
      "A value is trying to be set on a copy of a slice from a DataFrame.\n",
      "Try using .loc[row_indexer,col_indexer] = value instead\n",
      "\n",
      "See the caveats in the documentation: http://pandas.pydata.org/pandas-docs/stable/indexing.html#indexing-view-versus-copy\n",
      "  \n"
     ]
    },
    {
     "data": {
      "text/plain": [
       "424    [FoodPoisoning, Walmart, KochFarms]\n",
       "425                    [turkey, KochFarms]\n",
       "426                                    [0]\n",
       "427                                    [0]\n",
       "428                                    [0]\n",
       "429                                    [0]\n",
       "430                                    [0]\n",
       "431                                    [0]\n",
       "432                                    [0]\n",
       "433                                    [0]\n",
       "434                                    [0]\n",
       "435                                    [0]\n",
       "436                                    [0]\n",
       "437                          [JasonAldean]\n",
       "438                                    [0]\n",
       "439                                    [0]\n",
       "440                                    [0]\n",
       "441                                    [0]\n",
       "442                                    [0]\n",
       "443                                    [0]\n",
       "444                                    [0]\n",
       "445                                    [0]\n",
       "446                                    [0]\n",
       "447                                    [0]\n",
       "448                                    [0]\n",
       "Name: hashtags, dtype: object"
      ]
     },
     "execution_count": 15,
     "metadata": {},
     "output_type": "execute_result"
    }
   ],
   "source": [
    "# Create a new column to store hashtags, extract hashtags from 'content'\n",
    "df['hashtags'] = df['cleaned'].map(extract_hashtags)\n",
    "df['hashtags'].head(25)"
   ]
  },
  {
   "cell_type": "code",
   "execution_count": 16,
   "metadata": {},
   "outputs": [],
   "source": [
    "# remove all hashtags from a tweet\n",
    "def remove_hashtags(tweet):\n",
    "    '''After extracting hashtags, take in tweet content and remove hashtags'''\n",
    "    hashtags_only = []\n",
    "    if len(re.findall(hashtag_re, tweet)) > 0:\n",
    "        tweet = re.sub(hashtag_re, \"\", tweet)\n",
    "    hashtags_only.append(tweet)\n",
    "    return hashtags_only[0]"
   ]
  },
  {
   "cell_type": "code",
   "execution_count": 17,
   "metadata": {},
   "outputs": [
    {
     "name": "stderr",
     "output_type": "stream",
     "text": [
      "/Users/admin/anaconda3/lib/python3.6/site-packages/ipykernel_launcher.py:2: SettingWithCopyWarning: \n",
      "A value is trying to be set on a copy of a slice from a DataFrame.\n",
      "Try using .loc[row_indexer,col_indexer] = value instead\n",
      "\n",
      "See the caveats in the documentation: http://pandas.pydata.org/pandas-docs/stable/indexing.html#indexing-view-versus-copy\n",
      "  \n"
     ]
    }
   ],
   "source": [
    "# Clean hashtags fron 'cleaned' content\n",
    "df['cleaned'] = df['cleaned'].apply(remove_hashtags)"
   ]
  },
  {
   "cell_type": "code",
   "execution_count": 18,
   "metadata": {},
   "outputs": [
    {
     "name": "stdout",
     "output_type": "stream",
     "text": [
      "0                    4826\n",
      "KochFarms            3210\n",
      "USDA                 1393\n",
      "Turkey               1076\n",
      "DemnDebate           1016\n",
      "Walmart               813\n",
      "turkey                764\n",
      "NY                    729\n",
      "FoodPoisoning         682\n",
      "FSIS                  595\n",
      "DogThanking           577\n",
      "foodpoisoning         500\n",
      "ImThankfulFor         460\n",
      "DemDebate             367\n",
      "NewYork               319\n",
      "Fail                  280\n",
      "kochfarms             253\n",
      "thanksgiving          239\n",
      "Thanksgiving          152\n",
      "FergusonRemembers     149\n",
      "walmart               140\n",
      "fail                  133\n",
      "DEMDebate             130\n",
      "NYC                    86\n",
      "MikeBrown              82\n",
      "dtype: int64\n"
     ]
    }
   ],
   "source": [
    "# create a list of all hashtags\n",
    "all_hashtags = df['hashtags'].tolist()\n",
    "\n",
    "# all_hashtags is a list of lists.\n",
    "cleaned_hashtags = []\n",
    "for i in all_hashtags:\n",
    "    for j in i:\n",
    "            cleaned_hashtags.append(j)\n",
    "\n",
    "# remove the '0' from the list\n",
    "def remove_values_from_list(the_list, val):\n",
    "   return [value for value in the_list if value != val]\n",
    "\n",
    "# cleaned_hashtags list\n",
    "cleaned_hashtags = remove_values_from_list(cleaned_hashtags, 0)\n",
    "\n",
    "# Convert cleaned_hashtags to a series and count the most frequent occuring\n",
    "cleaned_hashtag_series = pd.Series(cleaned_hashtags)\n",
    "hashtag_counts = cleaned_hashtag_series.value_counts()\n",
    "print(hashtag_counts[:25])"
   ]
  },
  {
   "cell_type": "markdown",
   "metadata": {},
   "source": [
    "### Get User Mentions"
   ]
  },
  {
   "cell_type": "code",
   "execution_count": 19,
   "metadata": {},
   "outputs": [],
   "source": [
    "#Regex to get user mentions \"@\":\n",
    "# New Regex\n",
    "twitter_username_re = re.compile(\"(?<=^|(?<=[^a-zA-Z0-9-_\\.]))@([A-Za-z]+[A-Za-z0-9-_]+)\", re.UNICODE)\n",
    "\n",
    "def extract_usermentions(tweet):\n",
    "    '''Take in tweet contents from 'cleaned' col and extract user mentions'''\n",
    "    mentions_only = []\n",
    "    if len(re.findall(twitter_username_re, tweet)) > 0:\n",
    "        mentions_only.append(re.findall(twitter_username_re, tweet))\n",
    "    else:\n",
    "        mentions_only.append([\"0\"])\n",
    "    return mentions_only[0]"
   ]
  },
  {
   "cell_type": "code",
   "execution_count": 20,
   "metadata": {},
   "outputs": [
    {
     "name": "stderr",
     "output_type": "stream",
     "text": [
      "/Users/admin/anaconda3/lib/python3.6/site-packages/ipykernel_launcher.py:2: SettingWithCopyWarning: \n",
      "A value is trying to be set on a copy of a slice from a DataFrame.\n",
      "Try using .loc[row_indexer,col_indexer] = value instead\n",
      "\n",
      "See the caveats in the documentation: http://pandas.pydata.org/pandas-docs/stable/indexing.html#indexing-view-versus-copy\n",
      "  \n"
     ]
    },
    {
     "data": {
      "text/plain": [
       "424                [is]\n",
       "425                 [0]\n",
       "426                 [0]\n",
       "427                 [0]\n",
       "428                 [0]\n",
       "429                 [0]\n",
       "430                 [0]\n",
       "431    [The, Aristotle]\n",
       "432                 [0]\n",
       "433                 [0]\n",
       "Name: mentions, dtype: object"
      ]
     },
     "execution_count": 20,
     "metadata": {},
     "output_type": "execute_result"
    }
   ],
   "source": [
    "# make a new column to store the extracted mentions\n",
    "df['mentions'] = df['cleaned'].map(extract_usermentions)\n",
    "df['mentions'].head(10)"
   ]
  },
  {
   "cell_type": "code",
   "execution_count": 21,
   "metadata": {},
   "outputs": [
    {
     "name": "stdout",
     "output_type": "stream",
     "text": [
      "0               5979\n",
      "This             103\n",
      "I                103\n",
      "Thanks            95\n",
      "Thats             93\n",
      "is                88\n",
      "What              83\n",
      "Thanksgiving      75\n",
      "the               63\n",
      "The               55\n",
      "Poisoned          52\n",
      "Well              50\n",
      "my                49\n",
      "How               48\n",
      "whats             42\n",
      "These             42\n",
      "Very              39\n",
      "Dont              37\n",
      "this              37\n",
      "We                36\n",
      "Page              35\n",
      "My                33\n",
      "Oh                32\n",
      "You               32\n",
      "People            31\n",
      "dtype: int64\n"
     ]
    }
   ],
   "source": [
    "# create a list of all mentions\n",
    "all_mentions = df['mentions'].tolist()\n",
    "\n",
    "# all_hashtags is a list of lists.\n",
    "cleaned_mentions = []\n",
    "for i in all_mentions:\n",
    "    for j in i:\n",
    "            cleaned_mentions.append(j)\n",
    "\n",
    "# remove the '0' from the list\n",
    "def remove_values_from_list(the_list, val):\n",
    "   return [value for value in the_list if value != val]\n",
    "\n",
    "# cleaned_mentions list\n",
    "cleaned_mentions = remove_values_from_list(cleaned_mentions, 0)\n",
    "\n",
    "# Convert cleaned_hashtags to a series and count the most frequent occuring\n",
    "cleaned_mentions_series = pd.Series(cleaned_mentions)\n",
    "mention_counts = cleaned_mentions_series.value_counts()\n",
    "# remove first element with values of '0'\n",
    "# mention_counts = del mention_counts[0]\n",
    "print(mention_counts[:25])"
   ]
  },
  {
   "cell_type": "code",
   "execution_count": 22,
   "metadata": {},
   "outputs": [],
   "source": [
    "# remove all mentions from a tweet\n",
    "def remove_mentions(tweet):\n",
    "    '''Take tweet content and remove @mentions from it'''\n",
    "    mentions_only = []\n",
    "    if len(re.findall(\"(?<=^|(?<=[^a-zA-Z0-9-_\\.]))@([A-Za-z]+[A-Za-z0-9-_]+)\", tweet)) > 0:\n",
    "        tweet = re.sub(\"(?<=^|(?<=[^a-zA-Z0-9-_\\.]))@([A-Za-z]+[A-Za-z0-9-_]+)\", \"\", tweet)\n",
    "    mentions_only.append(tweet)\n",
    "    return mentions_only[0]"
   ]
  },
  {
   "cell_type": "code",
   "execution_count": 23,
   "metadata": {},
   "outputs": [
    {
     "name": "stderr",
     "output_type": "stream",
     "text": [
      "/Users/admin/anaconda3/lib/python3.6/site-packages/ipykernel_launcher.py:2: SettingWithCopyWarning: \n",
      "A value is trying to be set on a copy of a slice from a DataFrame.\n",
      "Try using .loc[row_indexer,col_indexer] = value instead\n",
      "\n",
      "See the caveats in the documentation: http://pandas.pydata.org/pandas-docs/stable/indexing.html#indexing-view-versus-copy\n",
      "  \n"
     ]
    }
   ],
   "source": [
    "#create list of content with no hashtags\n",
    "df['cleaned'] = df['cleaned'].apply(remove_mentions)"
   ]
  },
  {
   "cell_type": "code",
   "execution_count": 24,
   "metadata": {},
   "outputs": [],
   "source": [
    "# remove unwanted characters, numbers and symbols from the remaining content\n",
    "#df['cleaned'] = df['cleaned'].str.replace(\"[^a-zA-Z#]\", \" \")"
   ]
  },
  {
   "cell_type": "markdown",
   "metadata": {},
   "source": [
    "### Create dataframes for the troll classifications\n",
    "Create dataframes for each troll classification, for easier size to work with."
   ]
  },
  {
   "cell_type": "code",
   "execution_count": 25,
   "metadata": {},
   "outputs": [],
   "source": [
    "#right_troll = df.loc[df['account_category'] == 'RightTroll']\n",
    "#nonenglish = df.loc[df['account_category'] == 'NonEnglish']\n",
    "#fearmonger = df.loc[df['account_category'] == 'Fearmonger']\n",
    "#left_troll = df.loc[df['account_category'] == 'LeftTroll']\n",
    "#hashtagamer = df.loc[df['account_category'] == 'HashtagGamer']\n",
    "#newsfeed = df.loc[df['account_category'] == 'NewsFeed']\n",
    "#commercial = df.loc[df['account_category'] == 'Commercial']"
   ]
  },
  {
   "cell_type": "code",
   "execution_count": 26,
   "metadata": {},
   "outputs": [],
   "source": [
    "#right_troll.to_csv(\"../data/right_troll.csv\")\n",
    "#nonenglish.to_csv(\"../data/nonenglish.csv\")\n",
    "#fearmonger.to_csv(\"../data/fearmonger.csv\")\n",
    "#left_troll.to_csv(\"../data/left_troll.csv\")\n",
    "#hashtagamer.to_csv(\"../data/hashtagamer.csv\")\n",
    "#newsfeed.to_csv(\"../data/newsfeed.csv\")\n",
    "#commercial.to_csv(\"../data/commercial.csv\")"
   ]
  },
  {
   "cell_type": "markdown",
   "metadata": {},
   "source": [
    "## Remove stopwords\n",
    "Remove words < 3 letters, convert to lower case"
   ]
  },
  {
   "cell_type": "code",
   "execution_count": 27,
   "metadata": {},
   "outputs": [
    {
     "data": {
      "text/plain": [
       "424                                                              is not a joke  \n",
       "425                                Thanks God that i ate few days ago was good  \n",
       "426    I hurt easy I just dont show it You can hurt someone and not even know it\n",
       "427                                                       Kim and kanye wedding \n",
       "428                          whos got the worst make up ever dont tell me mirror\n",
       "Name: cleaned, dtype: object"
      ]
     },
     "execution_count": 27,
     "metadata": {},
     "output_type": "execute_result"
    }
   ],
   "source": [
    "df.cleaned.head()"
   ]
  },
  {
   "cell_type": "code",
   "execution_count": 28,
   "metadata": {},
   "outputs": [
    {
     "name": "stderr",
     "output_type": "stream",
     "text": [
      "/Users/admin/anaconda3/lib/python3.6/site-packages/ipykernel_launcher.py:2: SettingWithCopyWarning: \n",
      "A value is trying to be set on a copy of a slice from a DataFrame.\n",
      "Try using .loc[row_indexer,col_indexer] = value instead\n",
      "\n",
      "See the caveats in the documentation: http://pandas.pydata.org/pandas-docs/stable/indexing.html#indexing-view-versus-copy\n",
      "  \n",
      "/Users/admin/anaconda3/lib/python3.6/site-packages/ipykernel_launcher.py:5: SettingWithCopyWarning: \n",
      "A value is trying to be set on a copy of a slice from a DataFrame.\n",
      "Try using .loc[row_indexer,col_indexer] = value instead\n",
      "\n",
      "See the caveats in the documentation: http://pandas.pydata.org/pandas-docs/stable/indexing.html#indexing-view-versus-copy\n",
      "  \"\"\"\n",
      "/Users/admin/anaconda3/lib/python3.6/site-packages/ipykernel_launcher.py:16: SettingWithCopyWarning: \n",
      "A value is trying to be set on a copy of a slice from a DataFrame.\n",
      "Try using .loc[row_indexer,col_indexer] = value instead\n",
      "\n",
      "See the caveats in the documentation: http://pandas.pydata.org/pandas-docs/stable/indexing.html#indexing-view-versus-copy\n",
      "  app.launch_new_instance()\n"
     ]
    },
    {
     "data": {
      "text/plain": [
       "424                                          joke\n",
       "425                  thanks god ate days ago good\n",
       "426    hurt easy dont show hurt someone even know\n",
       "427                             kim kanye wedding\n",
       "428     whos got worst make ever dont tell mirror\n",
       "Name: cleaned, dtype: object"
      ]
     },
     "execution_count": 28,
     "metadata": {},
     "output_type": "execute_result"
    }
   ],
   "source": [
    "# remove short words (length < 3)\n",
    "df['cleaned'] = df['cleaned'].apply(lambda x: ' '.join([w for w in x.split() if len(w)>2]))\n",
    "\n",
    "# transform to lower-case\n",
    "df['cleaned'] = df['cleaned'].apply(lambda x: \" \".join(x.lower() for x in x.split()))\n",
    "#train['tweet'].head()\n",
    "\n",
    "#stop = set(stopwords.words('english'))\n",
    "stop = stopwords.words('english')\n",
    "\n",
    "#extend/add to stopwords - words that are commonly occuring but add no meaning\n",
    "#stopword_list += ['http', 'https', 'âµã', 'â½ã', 'â²ã', 'âºã', 'â¼ã', 'âµ']\n",
    "newStop = ['you','get', 'amp', 'one', 'new']\n",
    "stop.extend(newStop)\n",
    "\n",
    "df['cleaned'] = df['cleaned'].apply(lambda x: \" \".join(x for x in x.split() if x not in stop))\n",
    "df['cleaned'].head()"
   ]
  },
  {
   "cell_type": "code",
   "execution_count": 29,
   "metadata": {},
   "outputs": [],
   "source": [
    "#convert 'cleaned' Series to a list\n",
    "content = df['cleaned'].tolist()\n",
    "#content[:50]"
   ]
  },
  {
   "cell_type": "markdown",
   "metadata": {},
   "source": [
    "### Re-Check Fequency Distribution\n",
    "Re-check the word frequency distribution after doing some cleaning of the text."
   ]
  },
  {
   "cell_type": "code",
   "execution_count": 30,
   "metadata": {},
   "outputs": [],
   "source": [
    "# function to plot most frequent terms\n",
    "def freq_words(x, terms = 20):\n",
    "    ''' Take in a list of content, split into individual words, count occurrences, list 20 highest occurring words'''\n",
    "    all_words = ' '.join([text for text in x])\n",
    "    all_words = all_words.split()\n",
    "    fdist = FreqDist(all_words)\n",
    "    words_df = pd.DataFrame({'word':list(fdist.keys()), 'count':list(fdist.values())})\n",
    "    # selecting top 20 most frequent words\n",
    "    d = words_df.nlargest(columns=\"count\", n = terms)\n",
    "    return d"
   ]
  },
  {
   "cell_type": "code",
   "execution_count": 31,
   "metadata": {},
   "outputs": [
    {
     "name": "stdout",
     "output_type": "stream",
     "text": [
      "              word  count\n",
      "185   thanksgiving    961\n",
      "209            omg    743\n",
      "222          wooow    697\n",
      "144          happy    629\n",
      "151         people    486\n",
      "9             dont    419\n",
      "61            like    316\n",
      "233       poisoned    315\n",
      "461          thats    260\n",
      "4316        ashley    229\n",
      "4317       madison    221\n",
      "247         turkey    203\n",
      "1236         trump    203\n",
      "2              god    202\n",
      "1203          york    198\n",
      "148           want    189\n",
      "1           thanks    185\n",
      "390            day    180\n",
      "403           time    179\n",
      "6             good    177\n"
     ]
    }
   ],
   "source": [
    "counts = freq_words(content, 20)\n",
    "print(counts)"
   ]
  },
  {
   "cell_type": "markdown",
   "metadata": {},
   "source": [
    "### Plot most frequently occurring words "
   ]
  },
  {
   "cell_type": "code",
   "execution_count": 32,
   "metadata": {},
   "outputs": [
    {
     "data": {
      "image/png": "[encoded data removed]",
      "text/plain": [
       "<Figure size 1440x360 with 1 Axes>"
      ]
     },
     "metadata": {
      "needs_background": "light"
     },
     "output_type": "display_data"
    }
   ],
   "source": [
    "# Plot most frequent words\n",
    "plt.figure(figsize=(20,5))\n",
    "# rotate and right align group names\n",
    "plt.xticks(rotation=45, ha='right')\n",
    "ax = sns.barplot(data=counts, x= \"word\", y = \"count\")\n",
    "ax.set(ylabel = 'Count')\n",
    "ax.set(title = 'Top 20 Most Frequent Words')    \n",
    "plt.show()"
   ]
  },
  {
   "cell_type": "markdown",
   "metadata": {},
   "source": [
    "## Troll Amplification\n",
    "Examining the troll \"echo chamber\". Are trolls retweeting or mentioning other trolls?"
   ]
  },
  {
   "cell_type": "code",
   "execution_count": 33,
   "metadata": {},
   "outputs": [
    {
     "name": "stdout",
     "output_type": "stream",
     "text": [
      "3\n",
      "There are 3 trolls in the echo chamber.\n"
     ]
    }
   ],
   "source": [
    "# read list of users created during EDA\n",
    "users = pd.read_csv('../data/users_totals.csv', encoding='utf-8',low_memory=False)\n",
    "\n",
    "userlist = users['author'].tolist()\n",
    "lc_userlist = [x.lower() for x in userlist]\n",
    "lc_userlist.sort()\n",
    "\n",
    "amplify = cleaned_mentions_series[cleaned_mentions_series.isin(lc_userlist)]\n",
    "\n",
    "print(amplify.shape[0])\n",
    "\n",
    "# Get counts of amplified troll tweets\n",
    "amp_counts = amplify.value_counts()\n",
    "print(\"There are\",(amplify.shape[0]), \"trolls in the echo chamber.\")"
   ]
  },
  {
   "cell_type": "markdown",
   "metadata": {},
   "source": [
    "### Normalization\n",
    "3 distinct steps:  \n",
    "* stemming  \n",
    "* lemmatization  \n",
    "* everything else"
   ]
  },
  {
   "cell_type": "markdown",
   "metadata": {},
   "source": [
    "### Lemmatization"
   ]
  },
  {
   "cell_type": "code",
   "execution_count": 34,
   "metadata": {},
   "outputs": [
    {
     "name": "stderr",
     "output_type": "stream",
     "text": [
      "/Users/admin/anaconda3/lib/python3.6/site-packages/ipykernel_launcher.py:2: SettingWithCopyWarning: \n",
      "A value is trying to be set on a copy of a slice from a DataFrame.\n",
      "Try using .loc[row_indexer,col_indexer] = value instead\n",
      "\n",
      "See the caveats in the documentation: http://pandas.pydata.org/pandas-docs/stable/indexing.html#indexing-view-versus-copy\n",
      "  \n"
     ]
    },
    {
     "data": {
      "text/plain": [
       "424                                          joke\n",
       "425                   thanks god ate day ago good\n",
       "426    hurt easy dont show hurt someone even know\n",
       "427                             kim kanye wedding\n",
       "428      who got worst make ever dont tell mirror\n",
       "Name: cleaned, dtype: object"
      ]
     },
     "execution_count": 34,
     "metadata": {},
     "output_type": "execute_result"
    }
   ],
   "source": [
    "from textblob import Word\n",
    "df['cleaned'] = df['cleaned'].apply(lambda x: \" \".join([Word(word).lemmatize() for word in x.split()]))\n",
    "df['cleaned'].head()"
   ]
  },
  {
   "cell_type": "markdown",
   "metadata": {},
   "source": [
    "### Tokenize"
   ]
  },
  {
   "cell_type": "code",
   "execution_count": 35,
   "metadata": {},
   "outputs": [],
   "source": [
    "#create a list from df['cleaned']\n",
    "content_notags = df['cleaned'].tolist()\n",
    "\n",
    "# First, create a new column with the tokenized text\n",
    "from nltk.tokenize import TweetTokenizer\n",
    "tt = TweetTokenizer()\n",
    "#df['tokenized_text'] = df['content'].apply(tt.tokenize)\n",
    "# map tt.tokenize to 'content' list\n",
    "documents = list(map(tt.tokenize, content_notags))"
   ]
  },
  {
   "cell_type": "code",
   "execution_count": 36,
   "metadata": {},
   "outputs": [],
   "source": [
    "from collections import defaultdict\n",
    "\n",
    "frequency = defaultdict(int)\n",
    "for document in documents:\n",
    "    for token in document:\n",
    "        frequency[token] += 1"
   ]
  },
  {
   "cell_type": "code",
   "execution_count": 37,
   "metadata": {},
   "outputs": [],
   "source": [
    "documents = [[token for token in document if frequency[token] > 10] for document in documents]\n",
    "# create a dictionary using from gensim.corpora.Dictionary\n",
    "dictionary = corpora.Dictionary(documents)\n",
    "#Convert document (a list of words) into the bag-of-words format = list of (token_id, token_count) 2-tuples. \n",
    "corpus = [dictionary.doc2bow(document) for document in documents]"
   ]
  },
  {
   "cell_type": "code",
   "execution_count": 38,
   "metadata": {},
   "outputs": [
    {
     "data": {
      "text/plain": [
       "11140"
      ]
     },
     "execution_count": 38,
     "metadata": {},
     "output_type": "execute_result"
    }
   ],
   "source": [
    "len(corpus)"
   ]
  },
  {
   "cell_type": "markdown",
   "metadata": {},
   "source": [
    "## LDA Model\n",
    "Fit an LDA Model for the tweet topics"
   ]
  },
  {
   "cell_type": "code",
   "execution_count": 39,
   "metadata": {},
   "outputs": [],
   "source": [
    "# comment out once model is trained.\n",
    "# fit LDA model\n",
    "tweet_topics = LdaMulticore(corpus=corpus,\n",
    "                          id2word=dictionary,\n",
    "                          num_topics=10,\n",
    "                          passes=10,\n",
    "                          workers=2)"
   ]
  },
  {
   "cell_type": "code",
   "execution_count": 40,
   "metadata": {},
   "outputs": [],
   "source": [
    "# save/load model to/from disk\n",
    "\n",
    "temp_file = datapath(\"model_right_troll_tweets\")\n",
    "tweet_topics.save(temp_file)\n",
    "\n",
    "# Load a pretrained model from disk.\n",
    "#tweet_topics = LdaMulticore.load(\"model\")\n",
    "# - or -\n",
    "#m1 = LdaMulticore.load(datapath(\"lda_3_0_1_model\"))"
   ]
  },
  {
   "cell_type": "code",
   "execution_count": 41,
   "metadata": {},
   "outputs": [
    {
     "name": "stdout",
     "output_type": "stream",
     "text": [
      "0 --- (0, '0.044*\"dont\" + 0.039*\"want\" + 0.027*\"year\" + 0.026*\"eat\" + 0.023*\"problem\" + 0.020*\"america\" + 0.019*\"tell\" + 0.017*\"car\" + 0.017*\"candidate\" + 0.017*\"attack\"')\n",
      "1 --- (1, '0.051*\"love\" + 0.029*\"koch\" + 0.024*\"would\" + 0.023*\"make\" + 0.021*\"omg\" + 0.020*\"best\" + 0.019*\"thing\" + 0.018*\"debate\" + 0.016*\"nice\" + 0.014*\"wish\"')\n",
      "2 --- (2, '0.164*\"thanksgiving\" + 0.106*\"happy\" + 0.087*\"wooow\" + 0.053*\"poisoned\" + 0.049*\"omg\" + 0.026*\"thanks\" + 0.017*\"people\" + 0.017*\"kill\" + 0.014*\"fuck\" + 0.013*\"well\"')\n",
      "3 --- (3, '0.040*\"thats\" + 0.030*\"omg\" + 0.027*\"way\" + 0.025*\"see\" + 0.023*\"deal\" + 0.023*\"gonna\" + 0.022*\"going\" + 0.021*\"wooow\" + 0.018*\"good\" + 0.017*\"take\"')\n",
      "4 --- (4, '0.052*\"like\" + 0.039*\"time\" + 0.026*\"trump\" + 0.022*\"look\" + 0.022*\"right\" + 0.020*\"square\" + 0.017*\"donald\" + 0.017*\"woman\" + 0.016*\"topless\" + 0.015*\"cant\"')\n",
      "5 --- (5, '0.040*\"god\" + 0.039*\"day\" + 0.034*\"friend\" + 0.029*\"good\" + 0.019*\"york\" + 0.018*\"real\" + 0.018*\"prison\" + 0.018*\"sweat\" + 0.017*\"david\" + 0.015*\"first\"')\n",
      "6 --- (6, '0.065*\"people\" + 0.030*\"dont\" + 0.024*\"life\" + 0.021*\"food\" + 0.021*\"trump\" + 0.017*\"ever\" + 0.016*\"make\" + 0.016*\"know\" + 0.015*\"got\" + 0.015*\"donald\"')\n",
      "7 --- (7, '0.041*\"stop\" + 0.024*\"jimmy\" + 0.023*\"carter\" + 0.022*\"york\" + 0.020*\"cancer\" + 0.019*\"turkey\" + 0.018*\"president\" + 0.017*\"people\" + 0.017*\"nothing\" + 0.017*\"country\"')\n",
      "8 --- (8, '0.053*\"ashley\" + 0.052*\"madison\" + 0.035*\"clinton\" + 0.026*\"email\" + 0.024*\"hillary\" + 0.021*\"never\" + 0.020*\"day\" + 0.019*\"man\" + 0.017*\"mean\" + 0.016*\"wrong\"')\n",
      "9 --- (9, '0.040*\"wood\" + 0.033*\"police\" + 0.030*\"tiger\" + 0.029*\"buy\" + 0.021*\"wyndham\" + 0.017*\"lol\" + 0.016*\"shooting\" + 0.016*\"something\" + 0.015*\"championship\" + 0.015*\"round\"')\n"
     ]
    }
   ],
   "source": [
    "# print out first 10 topics\n",
    "for i, topic in enumerate(tweet_topics.print_topics(10)):\n",
    "    print('{} --- {}'.format(i, topic))"
   ]
  },
  {
   "cell_type": "markdown",
   "metadata": {},
   "source": [
    "### Wordcloud\n",
    "Crate a basic word cloud of the topic groupings"
   ]
  },
  {
   "cell_type": "code",
   "execution_count": 42,
   "metadata": {},
   "outputs": [
    {
     "data": {
      "image/png": "[encoded data removed]",
      "text/plain": [
       "<Figure size 720x720 with 4 Axes>"
      ]
     },
     "metadata": {
      "needs_background": "light"
     },
     "output_type": "display_data"
    }
   ],
   "source": [
    "#Wordcloud of Top N words in each topic\n",
    "from matplotlib import pyplot as plt\n",
    "from wordcloud import WordCloud, STOPWORDS\n",
    "import matplotlib.colors as mcolors\n",
    "\n",
    "cols = [color for name, color in mcolors.TABLEAU_COLORS.items()]  # more colors: 'mcolors.XKCD_COLORS'\n",
    "\n",
    "cloud = WordCloud(stopwords=stop,\n",
    "                  background_color='white',\n",
    "                  width=2500,\n",
    "                  height=1800,\n",
    "                  max_words=10,\n",
    "                  colormap='tab10',\n",
    "                  color_func=lambda *args, **kwargs: cols[i],\n",
    "                  prefer_horizontal=1.0)\n",
    "\n",
    "topics = tweet_topics.show_topics(formatted=False)\n",
    "\n",
    "fig, axes = plt.subplots(2, 2, figsize=(10,10), sharex=True, sharey=True)\n",
    "\n",
    "for i, ax in enumerate(axes.flatten()):\n",
    "    fig.add_subplot(ax)\n",
    "    topic_words = dict(topics[i][1])\n",
    "    cloud.generate_from_frequencies(topic_words, max_font_size=300)\n",
    "    plt.gca().imshow(cloud)\n",
    "    plt.gca().set_title('Topic ' + str(i), fontdict=dict(size=16))\n",
    "    plt.gca().axis('off')\n",
    "\n",
    "\n",
    "plt.subplots_adjust(wspace=0, hspace=0)\n",
    "plt.axis('off')\n",
    "plt.margins(x=0, y=0)\n",
    "plt.tight_layout()\n",
    "plt.show()"
   ]
  },
  {
   "cell_type": "markdown",
   "metadata": {},
   "source": [
    "### Use pyLDAvis library to Visualize Topics"
   ]
  },
  {
   "cell_type": "code",
   "execution_count": 43,
   "metadata": {},
   "outputs": [],
   "source": [
    "## Try the pyLDAvis visualization\n",
    "import pyLDAvis.gensim as gensimvis\n",
    "import pyLDAvis"
   ]
  },
  {
   "cell_type": "code",
   "execution_count": 44,
   "metadata": {},
   "outputs": [
    {
     "data": {
      "text/html": [
       "\n",
       "<link rel=\"stylesheet\" type=\"text/css\" href=\"https://cdn.rawgit.com/bmabey/pyLDAvis/files/ldavis.v1.0.0.css\">\n",
       "\n",
       "\n",
       "<div id=\"ldavis_el466101122846347125525795058\"></div>\n",
       "<script type=\"text/javascript\">\n",
       "\n",
       "var ldavis_el466101122846347125525795058_data = {\"mdsDat\": {\"x\": [-0.33340653113024754, 0.16945838495753965, 0.05267283576025185, 0.12741516488354723, 0.13264454085973504, 0.07232527763919396, -0.10003324008449381, -0.09628471268464749, -0.05667483242185185, 0.031883112220972676], \"y\": [-0.09864612241581303, 0.137244788799932, 0.03614077164710114, 0.07251490229378317, -0.21790927074785496, -0.009928379090037959, 0.20011317112570376, 0.11127197294633943, -0.004780041725119352, -0.226021792834034], \"topics\": [1, 2, 3, 4, 5, 6, 7, 8, 9, 10], \"cluster\": [1, 1, 1, 1, 1, 1, 1, 1, 1, 1], \"Freq\": [12.991619110107422, 11.457834243774414, 10.700197219848633, 10.036345481872559, 10.021504402160645, 9.616772651672363, 8.85820484161377, 8.844078063964844, 8.758001327514648, 8.715444564819336]}, \"tinfo\": {\"Category\": [\"Default\", \"Default\", \"Default\", \"Default\", \"Default\", \"Default\", \"Default\", \"Default\", \"Default\", \"Default\", \"Default\", \"Default\", \"Default\", \"Default\", \"Default\", \"Default\", \"Default\", \"Default\", \"Default\", \"Default\", \"Default\", \"Default\", \"Default\", \"Default\", \"Default\", \"Default\", \"Default\", \"Default\", \"Default\", \"Default\", \"Topic1\", \"Topic1\", \"Topic1\", \"Topic1\", \"Topic1\", \"Topic1\", \"Topic1\", \"Topic1\", \"Topic1\", \"Topic1\", \"Topic1\", \"Topic1\", \"Topic1\", \"Topic1\", \"Topic1\", \"Topic1\", \"Topic1\", \"Topic1\", \"Topic1\", \"Topic1\", \"Topic1\", \"Topic1\", \"Topic1\", \"Topic1\", \"Topic1\", \"Topic1\", \"Topic1\", \"Topic1\", \"Topic1\", \"Topic1\", \"Topic1\", \"Topic1\", \"Topic1\", \"Topic1\", \"Topic1\", \"Topic1\", \"Topic1\", \"Topic1\", \"Topic1\", \"Topic1\", \"Topic1\", \"Topic1\", \"Topic1\", \"Topic1\", \"Topic1\", \"Topic1\", \"Topic1\", \"Topic1\", \"Topic1\", \"Topic1\", \"Topic1\", \"Topic1\", \"Topic1\", \"Topic1\", \"Topic1\", \"Topic2\", \"Topic2\", \"Topic2\", \"Topic2\", \"Topic2\", \"Topic2\", \"Topic2\", \"Topic2\", \"Topic2\", \"Topic2\", \"Topic2\", \"Topic2\", \"Topic2\", \"Topic2\", \"Topic2\", \"Topic2\", \"Topic2\", \"Topic2\", \"Topic2\", \"Topic2\", \"Topic2\", \"Topic2\", \"Topic2\", \"Topic2\", \"Topic2\", \"Topic2\", \"Topic2\", \"Topic2\", \"Topic2\", \"Topic2\", \"Topic2\", \"Topic2\", \"Topic2\", \"Topic2\", \"Topic2\", \"Topic2\", \"Topic2\", \"Topic2\", \"Topic2\", \"Topic2\", \"Topic2\", \"Topic2\", \"Topic2\", \"Topic2\", \"Topic2\", \"Topic2\", \"Topic2\", \"Topic2\", \"Topic2\", \"Topic2\", \"Topic2\", \"Topic2\", \"Topic2\", \"Topic2\", \"Topic2\", \"Topic2\", \"Topic3\", \"Topic3\", \"Topic3\", \"Topic3\", \"Topic3\", \"Topic3\", \"Topic3\", \"Topic3\", \"Topic3\", \"Topic3\", \"Topic3\", \"Topic3\", \"Topic3\", \"Topic3\", \"Topic3\", \"Topic3\", \"Topic3\", \"Topic3\", \"Topic3\", \"Topic3\", \"Topic3\", \"Topic3\", \"Topic3\", \"Topic3\", \"Topic3\", \"Topic3\", \"Topic3\", \"Topic3\", \"Topic3\", \"Topic3\", \"Topic3\", \"Topic3\", \"Topic3\", \"Topic3\", \"Topic3\", \"Topic3\", \"Topic3\", \"Topic3\", \"Topic3\", \"Topic3\", \"Topic3\", \"Topic3\", \"Topic3\", \"Topic3\", \"Topic3\", \"Topic3\", \"Topic3\", \"Topic3\", \"Topic3\", \"Topic3\", \"Topic3\", \"Topic3\", \"Topic3\", \"Topic3\", \"Topic3\", \"Topic3\", \"Topic3\", \"Topic3\", \"Topic4\", \"Topic4\", \"Topic4\", \"Topic4\", \"Topic4\", \"Topic4\", \"Topic4\", \"Topic4\", \"Topic4\", \"Topic4\", \"Topic4\", \"Topic4\", \"Topic4\", \"Topic4\", \"Topic4\", \"Topic4\", \"Topic4\", \"Topic4\", \"Topic4\", \"Topic4\", \"Topic4\", \"Topic4\", \"Topic4\", \"Topic4\", \"Topic4\", \"Topic4\", \"Topic4\", \"Topic4\", \"Topic4\", \"Topic4\", \"Topic4\", \"Topic4\", \"Topic4\", \"Topic4\", \"Topic4\", \"Topic4\", \"Topic4\", \"Topic4\", \"Topic4\", \"Topic4\", \"Topic4\", \"Topic4\", \"Topic4\", \"Topic4\", \"Topic4\", \"Topic4\", \"Topic4\", \"Topic4\", \"Topic4\", \"Topic4\", \"Topic4\", \"Topic5\", \"Topic5\", \"Topic5\", \"Topic5\", \"Topic5\", \"Topic5\", \"Topic5\", \"Topic5\", \"Topic5\", \"Topic5\", \"Topic5\", \"Topic5\", \"Topic5\", \"Topic5\", \"Topic5\", \"Topic5\", \"Topic5\", \"Topic5\", \"Topic5\", \"Topic5\", \"Topic5\", \"Topic5\", \"Topic5\", \"Topic5\", \"Topic5\", \"Topic5\", \"Topic5\", \"Topic5\", \"Topic5\", \"Topic5\", \"Topic5\", \"Topic5\", \"Topic5\", \"Topic5\", \"Topic5\", \"Topic5\", \"Topic5\", \"Topic5\", \"Topic5\", \"Topic5\", \"Topic5\", \"Topic5\", \"Topic5\", \"Topic5\", \"Topic5\", \"Topic5\", \"Topic5\", \"Topic5\", \"Topic5\", \"Topic5\", \"Topic5\", \"Topic5\", \"Topic5\", \"Topic5\", \"Topic5\", \"Topic5\", \"Topic6\", \"Topic6\", \"Topic6\", \"Topic6\", \"Topic6\", \"Topic6\", \"Topic6\", \"Topic6\", \"Topic6\", \"Topic6\", \"Topic6\", \"Topic6\", \"Topic6\", \"Topic6\", \"Topic6\", \"Topic6\", \"Topic6\", \"Topic6\", \"Topic6\", \"Topic6\", \"Topic6\", \"Topic6\", \"Topic6\", \"Topic6\", \"Topic6\", \"Topic6\", \"Topic6\", \"Topic6\", \"Topic6\", \"Topic6\", \"Topic6\", \"Topic6\", \"Topic6\", \"Topic6\", \"Topic6\", \"Topic6\", \"Topic6\", \"Topic6\", \"Topic6\", \"Topic6\", \"Topic6\", \"Topic6\", \"Topic6\", \"Topic6\", \"Topic6\", \"Topic6\", \"Topic6\", \"Topic6\", \"Topic6\", \"Topic6\", \"Topic6\", \"Topic6\", \"Topic6\", \"Topic6\", \"Topic6\", \"Topic6\", \"Topic6\", \"Topic7\", \"Topic7\", \"Topic7\", \"Topic7\", \"Topic7\", \"Topic7\", \"Topic7\", \"Topic7\", \"Topic7\", \"Topic7\", \"Topic7\", \"Topic7\", \"Topic7\", \"Topic7\", \"Topic7\", \"Topic7\", \"Topic7\", \"Topic7\", \"Topic7\", \"Topic7\", \"Topic7\", \"Topic7\", \"Topic7\", \"Topic7\", \"Topic7\", \"Topic7\", \"Topic7\", \"Topic7\", \"Topic7\", \"Topic7\", \"Topic7\", \"Topic7\", \"Topic7\", \"Topic7\", \"Topic7\", \"Topic7\", \"Topic7\", \"Topic7\", \"Topic7\", \"Topic7\", \"Topic7\", \"Topic7\", \"Topic7\", \"Topic7\", \"Topic7\", \"Topic7\", \"Topic7\", \"Topic7\", \"Topic7\", \"Topic7\", \"Topic7\", \"Topic7\", \"Topic7\", \"Topic7\", \"Topic8\", \"Topic8\", \"Topic8\", \"Topic8\", \"Topic8\", \"Topic8\", \"Topic8\", \"Topic8\", \"Topic8\", \"Topic8\", \"Topic8\", \"Topic8\", \"Topic8\", \"Topic8\", \"Topic8\", \"Topic8\", \"Topic8\", \"Topic8\", \"Topic8\", \"Topic8\", \"Topic8\", \"Topic8\", \"Topic8\", \"Topic8\", \"Topic8\", \"Topic8\", \"Topic8\", \"Topic8\", \"Topic8\", \"Topic8\", \"Topic8\", \"Topic8\", \"Topic8\", \"Topic8\", \"Topic8\", \"Topic8\", \"Topic8\", \"Topic8\", \"Topic8\", \"Topic8\", \"Topic8\", \"Topic8\", \"Topic8\", \"Topic8\", \"Topic8\", \"Topic8\", \"Topic8\", \"Topic8\", \"Topic8\", \"Topic8\", \"Topic8\", \"Topic8\", \"Topic8\", \"Topic8\", \"Topic8\", \"Topic8\", \"Topic8\", \"Topic8\", \"Topic8\", \"Topic9\", \"Topic9\", \"Topic9\", \"Topic9\", \"Topic9\", \"Topic9\", \"Topic9\", \"Topic9\", \"Topic9\", \"Topic9\", \"Topic9\", \"Topic9\", \"Topic9\", \"Topic9\", \"Topic9\", \"Topic9\", \"Topic9\", \"Topic9\", \"Topic9\", \"Topic9\", \"Topic9\", \"Topic9\", \"Topic9\", \"Topic9\", \"Topic9\", \"Topic9\", \"Topic9\", \"Topic9\", \"Topic9\", \"Topic9\", \"Topic9\", \"Topic9\", \"Topic9\", \"Topic9\", \"Topic9\", \"Topic9\", \"Topic9\", \"Topic9\", \"Topic9\", \"Topic9\", \"Topic9\", \"Topic9\", \"Topic9\", \"Topic9\", \"Topic9\", \"Topic9\", \"Topic9\", \"Topic9\", \"Topic9\", \"Topic9\", \"Topic9\", \"Topic9\", \"Topic10\", \"Topic10\", \"Topic10\", \"Topic10\", \"Topic10\", \"Topic10\", \"Topic10\", \"Topic10\", \"Topic10\", \"Topic10\", \"Topic10\", \"Topic10\", \"Topic10\", \"Topic10\", \"Topic10\", \"Topic10\", \"Topic10\", \"Topic10\", \"Topic10\", \"Topic10\", \"Topic10\", \"Topic10\", \"Topic10\", \"Topic10\", \"Topic10\", \"Topic10\", \"Topic10\", \"Topic10\", \"Topic10\", \"Topic10\", \"Topic10\", \"Topic10\", \"Topic10\", \"Topic10\", \"Topic10\", \"Topic10\", \"Topic10\", \"Topic10\", \"Topic10\", \"Topic10\", \"Topic10\", \"Topic10\", \"Topic10\", \"Topic10\", \"Topic10\", \"Topic10\", \"Topic10\", \"Topic10\", \"Topic10\", \"Topic10\", \"Topic10\"], \"Freq\": [904.0, 581.0, 677.0, 288.0, 486.0, 225.0, 222.0, 194.0, 301.0, 420.0, 170.0, 244.0, 212.0, 151.0, 276.0, 243.0, 149.0, 218.0, 227.0, 127.0, 144.0, 129.0, 185.0, 171.0, 185.0, 149.0, 152.0, 224.0, 140.0, 112.0, 578.9469604492188, 287.6879577636719, 897.6724243164062, 37.82691192626953, 42.68745803833008, 30.718059539794922, 30.733074188232422, 30.668970108032227, 28.868324279785156, 25.015640258789062, 24.069740295410156, 22.71999740600586, 22.2758731842041, 20.869796752929688, 19.67779541015625, 18.020235061645508, 17.6610050201416, 17.628662109375, 16.42198944091797, 16.40548324584961, 21.602148056030273, 15.594794273376465, 14.769816398620605, 13.74358081817627, 12.950979232788086, 74.010498046875, 12.4822359085083, 11.425727844238281, 10.719056129455566, 10.289867401123047, 42.55305480957031, 27.472599029541016, 61.81060028076172, 472.6475830078125, 141.41014099121094, 47.01232147216797, 90.5184097290039, 48.9521484375, 35.57661056518555, 63.899105072021484, 71.91928100585938, 37.0819091796875, 265.5972595214844, 39.304054260253906, 61.00148391723633, 30.25543212890625, 49.45625305175781, 64.74993133544922, 95.37071990966797, 50.6032829284668, 61.98185729980469, 57.331520080566406, 51.04043197631836, 37.97515869140625, 33.822078704833984, 96.76448059082031, 78.5809326171875, 49.65334701538086, 60.96874237060547, 42.27421188354492, 33.27595520019531, 107.15540313720703, 30.062389373779297, 29.116331100463867, 26.866588592529297, 24.468421936035156, 24.85167694091797, 21.4489803314209, 21.4489803314209, 21.4489803314209, 21.4489803314209, 21.4489803314209, 21.249361038208008, 20.420562744140625, 20.120840072631836, 19.896276473999023, 18.760393142700195, 17.891712188720703, 17.1038761138916, 16.374736785888672, 16.4377384185791, 15.492162704467773, 15.262666702270508, 14.97689151763916, 14.244897842407227, 27.337635040283203, 248.03765869140625, 27.3367919921875, 80.1666259765625, 107.48352813720703, 188.56275939941406, 125.06546020507812, 38.01359176635742, 80.51229095458984, 74.38299560546875, 38.21768569946289, 26.737239837646484, 70.95177459716797, 33.22813415527344, 68.4013442993164, 52.38680648803711, 25.123245239257812, 42.10948181152344, 28.632659912109375, 31.802860260009766, 48.61421585083008, 37.62544250488281, 38.41427230834961, 34.137451171875, 35.83183288574219, 28.737876892089844, 57.9442138671875, 50.175018310546875, 50.621978759765625, 46.19253158569336, 44.75697708129883, 44.54129409790039, 40.75294876098633, 43.498817443847656, 34.299617767333984, 31.73661231994629, 27.318151473999023, 23.761009216308594, 23.963420867919922, 23.374460220336914, 23.212392807006836, 22.418766021728516, 20.08967399597168, 18.511472702026367, 17.8720703125, 16.50765609741211, 15.175682067871094, 13.727840423583984, 18.313217163085938, 12.762853622436523, 11.72889518737793, 11.739691734313965, 11.140027046203613, 10.448532104492188, 30.140344619750977, 17.754913330078125, 95.38496398925781, 32.659461975097656, 19.786754608154297, 76.9979019165039, 292.9181213378906, 109.71431732177734, 34.671119689941406, 40.20148468017578, 27.484994888305664, 69.55416870117188, 31.01171875, 93.0528564453125, 49.828800201416016, 135.78875732421875, 68.11190795898438, 36.26558303833008, 70.43260192871094, 73.93217468261719, 52.81657409667969, 61.70479965209961, 39.39891815185547, 57.156002044677734, 40.35313034057617, 45.8003044128418, 48.315738677978516, 45.90421676635742, 51.83909225463867, 37.52849578857422, 148.55490112304688, 220.0991973876953, 223.2726593017578, 70.56951141357422, 65.413818359375, 57.4783935546875, 60.32867431640625, 37.25928497314453, 33.27200698852539, 32.684410095214844, 35.230464935302734, 27.400157928466797, 26.766963958740234, 27.80687141418457, 26.37568473815918, 25.500099182128906, 27.677000045776367, 22.824695587158203, 21.808391571044922, 21.337553024291992, 21.09747314453125, 19.5575008392334, 17.843385696411133, 16.666343688964844, 14.915453910827637, 14.879193305969238, 13.993069648742676, 31.640459060668945, 13.799636840820312, 14.15345287322998, 28.3618221282959, 21.182920455932617, 111.65713500976562, 54.82062530517578, 82.04686737060547, 25.823246002197266, 64.09014892578125, 101.85718536376953, 55.62645721435547, 51.0059928894043, 52.47291564941406, 49.51581954956055, 86.97228240966797, 85.99662017822266, 32.42827224731445, 59.559898376464844, 33.861175537109375, 36.50723648071289, 55.12289810180664, 32.413997650146484, 31.26560401916504, 169.2598876953125, 128.15577697753906, 89.0956039428711, 62.72850799560547, 62.11573791503906, 51.146080017089844, 38.8010368347168, 34.63463592529297, 36.086910247802734, 26.173357009887695, 25.59404945373535, 18.978254318237305, 138.42686462402344, 18.209110260009766, 18.612802505493164, 18.197189331054688, 17.090957641601562, 17.00527572631836, 15.921624183654785, 14.653280258178711, 14.578933715820312, 14.563024520874023, 14.124070167541504, 23.482744216918945, 13.91443157196045, 14.431774139404297, 13.653508186340332, 13.351144790649414, 12.846816062927246, 12.846808433532715, 60.30146026611328, 32.26930236816406, 122.17073822021484, 72.23323059082031, 55.11251449584961, 20.4810848236084, 30.597070693969727, 54.01405715942383, 47.460453033447266, 66.87691497802734, 68.13639068603516, 61.804603576660156, 24.380020141601562, 60.26930236816406, 26.855670928955078, 39.00411605834961, 25.872188568115234, 60.875457763671875, 29.206356048583984, 46.328304290771484, 33.179908752441406, 57.03472900390625, 42.21385955810547, 36.98709487915039, 34.39232635498047, 32.60980224609375, 93.17915344238281, 75.64149475097656, 67.93919372558594, 56.785926818847656, 49.91213607788086, 47.02048873901367, 36.538246154785156, 51.50316619873047, 28.165449142456055, 27.115198135375977, 26.579675674438477, 22.861330032348633, 22.180492401123047, 18.683317184448242, 18.278030395507812, 18.120872497558594, 17.010982513427734, 18.60617446899414, 16.2609920501709, 16.23185920715332, 14.068792343139648, 14.049895286560059, 14.141193389892578, 13.40473461151123, 22.97011947631836, 53.85447692871094, 12.506885528564453, 11.912016868591309, 12.392311096191406, 11.623735427856445, 18.264453887939453, 79.50045776367188, 66.74301147460938, 41.60953903198242, 158.4484100341797, 103.12694549560547, 36.39718246459961, 39.49940872192383, 67.61406707763672, 38.205039978027344, 109.22272491455078, 25.015567779541016, 40.41881561279297, 176.5579071044922, 30.03837776184082, 32.35345458984375, 28.81004524230957, 48.31086730957031, 63.64543533325195, 37.57036590576172, 38.053836822509766, 36.21513748168945, 31.130983352661133, 34.179443359375, 41.671199798583984, 40.20751953125, 33.06559753417969, 52.24969482421875, 191.14358520507812, 46.90242004394531, 41.981300354003906, 40.21677780151367, 36.61637496948242, 33.47854995727539, 28.376983642578125, 26.92827033996582, 24.812456130981445, 58.57453536987305, 23.861202239990234, 23.72664451599121, 34.84366989135742, 20.431137084960938, 20.12363624572754, 19.24091339111328, 17.68374252319336, 16.84867286682129, 16.437332153320312, 20.676843643188477, 17.23195457458496, 15.70871353149414, 16.557565689086914, 15.263021469116211, 14.22404670715332, 14.191571235656738, 14.20677375793457, 13.55405044555664, 12.741575241088867, 36.53091049194336, 40.75813674926758, 35.0843620300293, 88.7825698852539, 108.35989379882812, 32.507476806640625, 40.34550476074219, 66.90345764160156, 35.52147674560547, 29.454469680786133, 20.950641632080078, 43.9815559387207, 75.90724182128906, 71.1602554321289, 83.7596206665039, 28.972209930419922, 30.32292366027832, 46.126312255859375, 38.03601837158203, 76.34680938720703, 36.9262580871582, 33.50598907470703, 42.34735870361328, 29.824533462524414, 86.67525482177734, 63.11758804321289, 59.19892501831055, 43.729637145996094, 39.3765754699707, 34.27684783935547, 37.46065902709961, 23.80573081970215, 20.52583885192871, 19.986141204833984, 18.884763717651367, 15.722207069396973, 14.454850196838379, 13.91476821899414, 14.351563453674316, 13.403777122497559, 13.299731254577637, 13.264894485473633, 12.88068962097168, 12.88068962097168, 30.031848907470703, 12.378567695617676, 12.125595092773438, 11.998119354248047, 11.76196575164795, 11.59695816040039, 11.525554656982422, 11.491382598876953, 16.130741119384766, 11.292576789855957, 101.88981628417969, 53.936424255371094, 91.46846008300781, 22.58346939086914, 36.987632751464844, 30.246337890625, 36.296234130859375, 38.80868148803711, 85.81751251220703, 45.27300262451172, 149.0047607421875, 81.0164794921875, 59.999359130859375, 36.636680603027344, 21.0030574798584, 18.663652420043945, 36.443115234375, 28.125110626220703, 43.599266052246094, 28.917064666748047, 64.76161193847656, 67.20803833007812, 110.93782806396484, 27.345333099365234, 78.85572814941406, 34.40977096557617, 40.334693908691406, 34.16421890258789, 31.496883392333984, 125.50398254394531, 49.18992233276367, 65.29055786132812, 43.39887619018555, 38.90548324584961, 38.65513229370117, 40.288761138916016, 29.14154815673828, 28.489879608154297, 27.401063919067383, 25.84882926940918, 25.734031677246094, 26.026058197021484, 24.503665924072266, 28.816543579101562, 34.951087951660156, 22.339506149291992, 22.06696319580078, 21.466472625732422, 20.118268966674805, 21.343141555786133, 21.095867156982422, 22.286916732788086, 19.10536766052246, 17.964921951293945, 17.71782112121582, 17.355634689331055, 29.540382385253906, 16.3630313873291, 15.053025245666504, 29.560894012451172, 39.67829513549805, 55.50385665893555, 67.87838745117188, 146.5745086669922, 62.26713562011719, 144.3137664794922, 66.01737213134766, 105.56874084472656, 36.591556549072266, 30.22641944885254, 68.49163055419922, 41.32564926147461, 32.926639556884766, 34.40378189086914, 41.07500076293945, 43.50196838378906, 36.807430267333984, 43.54862976074219, 30.795408248901367, 36.6152458190918, 34.66674041748047, 87.59556579589844, 83.58861541748047, 71.82698059082031, 149.2460479736328, 62.28282928466797, 55.80503845214844, 40.671661376953125, 42.84397506713867, 36.847190856933594, 47.51673889160156, 33.89309310913086, 27.830352783203125, 25.731279373168945, 21.058286666870117, 19.55181121826172, 22.10250473022461, 19.2049617767334, 19.000577926635742, 18.464147567749023, 18.192476272583008, 17.864770889282227, 17.464351654052734, 42.751190185546875, 15.180717468261719, 16.242883682250977, 14.841728210449219, 19.32923698425293, 14.641084671020508, 15.352755546569824, 13.813836097717285, 55.176395416259766, 47.193275451660156, 63.62456130981445, 65.48063659667969, 27.448644638061523, 54.6728630065918, 61.38337707519531, 32.4953498840332, 40.432010650634766, 36.158119201660156, 35.352806091308594, 82.26119232177734, 28.335474014282227, 32.417449951171875, 33.96357345581055, 67.93372344970703, 48.7303466796875, 36.96068572998047, 63.978179931640625, 47.58735275268555, 34.9348258972168], \"Term\": [\"thanksgiving\", \"happy\", \"wooow\", \"poisoned\", \"people\", \"ashley\", \"madison\", \"love\", \"like\", \"dont\", \"wood\", \"day\", \"god\", \"stop\", \"time\", \"thats\", \"clinton\", \"trump\", \"want\", \"friend\", \"police\", \"tiger\", \"good\", \"year\", \"thanks\", \"koch\", \"buy\", \"york\", \"eat\", \"way\", \"happy\", \"poisoned\", \"thanksgiving\", \"selling\", \"damn\", \"month\", \"toxication\", \"innocent\", \"inspire\", \"vegetarian\", \"close\", \"telling\", \"ruining\", \"tradition\", \"sound\", \"limb\", \"treachery\", \"glad\", \"recall\", \"nightmare\", \"yesterday\", \"allergy\", \"toxicated\", \"brutality\", \"avoid\", \"fuck\", \"marketing\", \"ceo\", \"unexpected\", \"obvious\", \"poison\", \"likely\", \"awful\", \"wooow\", \"thanks\", \"dinner\", \"kill\", \"disaster\", \"bought\", \"sad\", \"well\", \"truth\", \"omg\", \"many\", \"meat\", \"stupid\", \"#kochfarms\", \"god\", \"people\", \"news\", \"thats\", \"turkey\", \"think\", \"family\", \"eat\", \"square\", \"topless\", \"paul\", \"bush\", \"jeb\", \"rand\", \"right\", \"shocked\", \"blasio\", \"immigration\", \"cry\", \"learn\", \"slice\", \"tablespoon\", \"acv\", \"capsule\", \"toast\", \"rubio\", \"inside\", \"smile\", \"watching\", \"million\", \"mckinley\", \"kiss\", \"kelly\", \"movie\", \"megyn\", \"fox\", \"breaking\", \"rather\", \"happens\", \"like\", \"policy\", \"woman\", \"look\", \"time\", \"trump\", \"cute\", \"donald\", \"cant\", \"child\", \"star\", \"really\", \"believe\", \"say\", \"take\", \"put\", \"hate\", \"washington\", \"always\", \"dont\", \"need\", \"york\", \"shit\", \"want\", \"hillary\", \"beautiful\", \"deserved\", \"red\", \"poisoning\", \"sox\", \"kanye\", \"west\", \"little\", \"walmart\", \"try\", \"entire\", \"boston\", \"thinking\", \"happened\", \"royal\", \"remember\", \"instagram\", \"situation\", \"comment\", \"hey\", \"downing\", \"miley\", \"advice\", \"quit\", \"bigger\", \"taken\", \"player\", \"thx\", \"1st\", \"anymore\", \"food\", \"run\", \"tired\", \"ever\", \"people\", \"life\", \"surprised\", \"whole\", \"party\", \"got\", \"maybe\", \"trump\", \"much\", \"dont\", \"donald\", \"care\", \"know\", \"make\", \"shit\", \"never\", \"give\", \"think\", \"doesnt\", \"need\", \"say\", \"time\", \"omg\", \"thing\", \"clinton\", \"madison\", \"ashley\", \"mean\", \"wrong\", \"data\", \"hack\", \"control\", \"bird\", \"quality\", \"post\", \"bitched\", \"flu\", \"hacker\", \"symbol\", \"song\", \"saw\", \"temple\", \"toxicates\", \"amazing\", \"experience\", \"palmyra\", \"checking\", \"leaked\", \"server\", \"dump\", \"politics\", \"site\", \"founder\", \"tomorrow\", \"realize\", \"full\", \"email\", \"sander\", \"man\", \"turn\", \"great\", \"hillary\", \"help\", \"state\", \"world\", \"guy\", \"never\", \"day\", \"fail\", \"could\", \"hit\", \"everyone\", \"omg\", \"say\", \"need\", \"wood\", \"tiger\", \"wyndham\", \"championship\", \"round\", \"louis\", \"miss\", \"church\", \"talking\", \"charleston\", \"simply\", \"gunman\", \"police\", \"greensboro\", \"interesting\", \"charged\", \"lowest\", \"detail\", \"commits\", \"train\", \"changed\", \"air\", \"disease\", \"gea\", \"evil\", \"justin\", \"okay\", \"pga\", \"wth\", \"umm\", \"shoot\", \"play\", \"buy\", \"lol\", \"wanna\", \"united\", \"open\", \"without\", \"two\", \"something\", \"shooting\", \"better\", \"stay\", \"hate\", \"anyone\", \"someone\", \"officer\", \"year\", \"protest\", \"best\", \"death\", \"dont\", \"cant\", \"hope\", \"could\", \"people\", \"problem\", \"tell\", \"car\", \"paris\", \"google\", \"funny\", \"selfdriving\", \"call\", \"everybody\", \"focus\", \"terrorism\", \"top\", \"ajustin\", \"jet\", \"fix\", \"none\", \"nypd\", \"source\", \"therre\", \"putin\", \"summer\", \"seems\", \"jewish\", \"decision\", \"wake\", \"economy\", \"health\", \"prototype\", \"blast\", \"running\", \"point\", \"america\", \"attack\", \"week\", \"want\", \"eat\", \"careful\", \"fucking\", \"candidate\", \"please\", \"year\", \"favorite\", \"democrat\", \"dont\", \"hurt\", \"die\", \"lie\", \"still\", \"turkey\", \"tonight\", \"today\", \"feel\", \"nyc\", \"gonna\", \"omg\", \"wooow\", \"hope\", \"wish\", \"love\", \"brother\", \"isi\", \"page\", \"jew\", \"clerk\", \"arriage\", \"suffer\", \"licsenses\", \"nice\", \"differnce\", \"walking\", \"didnt\", \"healthy\", \"kentucky\", \"kidnap\", \"steal\", \"diarrhea\", \"sold\", \"record\", \"held\", \"#walmart\", \"create\", \"treason\", \"supermarket\", \"boycott\", \"farm\", \"seen\", \"couple\", \"pay\", \"fear\", \"direction\", \"would\", \"koch\", \"democratic\", \"bros\", \"debate\", \"hear\", \"spoiled\", \"already\", \"live\", \"best\", \"thing\", \"make\", \"huge\", \"who\", \"obama\", \"whats\", \"omg\", \"#kochfarms\", \"trying\", \"wooow\", \"dead\", \"deal\", \"aint\", \"iran\", \"business\", \"horrible\", \"uhmm\", \"spend\", \"sending\", \"vote\", \"product\", \"blood\", \"plot\", \"scandal\", \"4real\", \"pregnant\", \"nadler\", \"mygod\", \"holy\", \"kidng\", \"mornin\", \"online\", \"panic\", \"glass\", \"protester\", \"bear\", \"summit\", \"congress\", \"education\", \"subway\", \"tablet\", \"way\", \"puke\", \"see\", \"case\", \"cat\", \"home\", \"jared\", \"nuclear\", \"gonna\", \"wtf\", \"thats\", \"going\", \"money\", \"getting\", \"burn\", \"water\", \"government\", \"fogle\", \"hell\", \"part\", \"take\", \"good\", \"omg\", \"free\", \"wooow\", \"there\", \"koch\", \"really\", \"york\", \"friend\", \"thank\", \"sweat\", \"ago\", \"toilet\", \"joke\", \"escape\", \"pain\", \"ben\", \"pleads\", \"wonderful\", \"meet\", \"omalley\", \"died\", \"bless\", \"ranger\", \"hot\", \"army\", \"blah\", \"epic\", \"roger\", \"federer\", \"check\", \"order\", \"sleeping\", \"kitten\", \"graduate\", \"story\", \"college\", \"bullshit\", \"perfect\", \"guilty\", \"first\", \"real\", \"god\", \"david\", \"day\", \"prison\", \"good\", \"carson\", \"yet\", \"york\", \"hospital\", \"ate\", \"ive\", \"family\", \"got\", \"another\", \"thanks\", \"escapee\", \"time\", \"omg\", \"jimmy\", \"carter\", \"cancer\", \"stop\", \"country\", \"brain\", \"spread\", \"explosion\", \"bacteria\", \"injured\", \"probably\", \"arraigned\", \"boy\", \"driveby\", \"license\", \"ukraine\", \"treatment\", \"line\", \"moderator\", \"dems\", \"radiation\", \"breakout\", \"sick\", \"tradegy\", \"leaf\", \"poisonned\", \"destroy\", \"choose\", \"bronx\", \"kennedy\", \"high\", \"former\", \"nothing\", \"president\", \"go\", \"let\", \"school\", \"made\", \"girl\", \"eating\", \"charge\", \"york\", \"john\", \"cop\", \"vegan\", \"turkey\", \"shooting\", \"killed\", \"people\", \"omg\", \"say\"], \"Total\": [904.0, 581.0, 677.0, 288.0, 486.0, 225.0, 222.0, 194.0, 301.0, 420.0, 170.0, 244.0, 212.0, 151.0, 276.0, 243.0, 149.0, 218.0, 227.0, 127.0, 144.0, 129.0, 185.0, 171.0, 185.0, 149.0, 152.0, 224.0, 140.0, 112.0, 581.07275390625, 288.8479309082031, 904.7203979492188, 38.71723556518555, 43.91302490234375, 31.60889434814453, 31.62486457824707, 31.578502655029297, 29.7755069732666, 25.905879974365234, 24.960887908935547, 23.610105514526367, 23.165363311767578, 21.759498596191406, 20.585344314575195, 18.91644287109375, 18.550695419311523, 18.518953323364258, 17.31167221069336, 17.295835494995117, 22.791912078857422, 16.485658645629883, 15.6594877243042, 14.634875297546387, 13.840681076049805, 79.25740814208984, 13.372626304626465, 12.316118240356445, 11.608702659606934, 11.179656982421875, 47.17255783081055, 31.119543075561523, 74.95140838623047, 677.28515625, 185.75657653808594, 56.1279411315918, 121.931396484375, 61.76691818237305, 43.666439056396484, 95.9976806640625, 112.19725799560547, 50.2401008605957, 722.103515625, 60.82899475097656, 124.84530639648438, 41.58656692504883, 107.022705078125, 212.14100646972656, 486.10369873046875, 127.546142578125, 243.9086151123047, 222.3367919921875, 162.8942108154297, 105.3012924194336, 140.46865844726562, 97.66283416748047, 79.47572326660156, 50.55052947998047, 62.245689392089844, 43.160400390625, 34.163021087646484, 110.05671691894531, 30.94731903076172, 30.023590087890625, 27.765588760375977, 25.35393714904785, 25.81318473815918, 22.3332462310791, 22.3332462310791, 22.3332462310791, 22.3332462310791, 22.3332462310791, 22.13770294189453, 21.306140899658203, 21.0089054107666, 20.779949188232422, 19.66032600402832, 18.77790641784668, 17.987960815429688, 17.25886344909668, 17.33468246459961, 16.37622833251953, 16.14702606201172, 15.866765022277832, 15.145411491394043, 29.769575119018555, 301.45660400390625, 29.966218948364258, 102.67821502685547, 142.90560913085938, 276.75640869140625, 218.9957275390625, 49.20100021362305, 149.4127655029297, 163.80419921875, 58.63827133178711, 33.22127151489258, 172.425537109375, 49.536705017089844, 224.5476837158203, 161.03135681152344, 33.34566116333008, 128.25161743164062, 47.40092468261719, 63.43360900878906, 420.056396484375, 166.6886749267578, 224.67105102539062, 122.08948516845703, 227.12803649902344, 147.1564178466797, 58.835243225097656, 51.061424255371094, 51.52445983886719, 47.076698303222656, 45.6451301574707, 45.431480407714844, 41.668296813964844, 44.612030029296875, 35.197654724121094, 32.62208938598633, 28.20149803161621, 24.644258499145508, 24.865371704101562, 24.2593936920166, 24.097972869873047, 23.303651809692383, 20.974332809448242, 19.395442962646484, 18.755752563476562, 17.407135009765625, 16.058914184570312, 14.61727523803711, 19.596525192260742, 13.661383628845215, 12.611896514892578, 12.629026412963867, 12.023406982421875, 11.331991195678711, 32.85033416748047, 19.376792907714844, 108.14000701904297, 37.318416595458984, 22.525951385498047, 105.21717071533203, 486.10369873046875, 171.03329467773438, 44.158992767333984, 55.66056823730469, 34.8615608215332, 133.7838134765625, 42.30952072143555, 218.9957275390625, 86.36453247070312, 420.056396484375, 149.4127655029297, 54.60977554321289, 169.465576171875, 191.9980926513672, 122.08948516845703, 167.21766662597656, 69.30282592773438, 162.8942108154297, 85.61532592773438, 166.6886749267578, 224.5476837158203, 276.75640869140625, 722.103515625, 146.91966247558594, 149.68984985351562, 222.1557159423828, 225.41758728027344, 71.63265228271484, 66.46308898925781, 58.43266677856445, 61.723148345947266, 38.188743591308594, 34.16920852661133, 33.570037841796875, 36.22412872314453, 28.284645080566406, 27.6514835357666, 28.733802795410156, 27.263076782226562, 26.385156631469727, 28.744396209716797, 23.709667205810547, 22.695558547973633, 22.222787857055664, 21.995391845703125, 20.442256927490234, 18.727615356445312, 17.5634708404541, 15.807060241699219, 15.808267593383789, 14.87770938873291, 33.66659164428711, 14.70134449005127, 15.10562801361084, 31.006839752197266, 22.920677185058594, 130.98696899414062, 62.02293395996094, 98.18170928955078, 28.587724685668945, 84.34712219238281, 147.1564178466797, 72.53231811523438, 75.95995330810547, 79.63265991210938, 73.5882339477539, 167.21766662597656, 244.22940063476562, 43.22541809082031, 159.7145538330078, 51.73733901977539, 70.83985137939453, 722.103515625, 224.5476837158203, 166.6886749267578, 170.1575469970703, 129.0483856201172, 89.98208618164062, 63.615413665771484, 63.00189208984375, 52.04176712036133, 39.70224380493164, 35.525054931640625, 37.28352355957031, 27.061370849609375, 26.48116683959961, 19.86726188659668, 144.9125518798828, 19.09416961669922, 19.52288246154785, 19.094566345214844, 17.97620964050293, 17.89198875427246, 16.84138298034668, 15.547086715698242, 15.479608535766602, 15.46292781829834, 15.008639335632324, 24.972745895385742, 14.798694610595703, 15.354808807373047, 14.537814140319824, 14.23587417602539, 13.731182098388672, 13.731181144714355, 67.2656021118164, 36.02851867675781, 152.1351318359375, 88.26162719726562, 70.73146057128906, 23.018268585205078, 37.038116455078125, 73.38229370117188, 63.12132263183594, 111.23361206054688, 117.67817687988281, 119.27690124511719, 30.620866775512695, 128.25161743164062, 36.326759338378906, 67.7037353515625, 34.43769454956055, 171.10614013671875, 44.38561248779297, 138.90496826171875, 62.6874885559082, 420.056396484375, 163.80419921875, 122.78607177734375, 159.7145538330078, 486.10369873046875, 94.06600189208984, 76.60943603515625, 68.83828735351562, 57.687252044677734, 50.795753479003906, 47.93666458129883, 37.42109298706055, 52.92043685913086, 29.058855056762695, 28.005661010742188, 27.59093475341797, 23.744054794311523, 23.062448501586914, 19.566707611083984, 19.170230865478516, 19.0063419342041, 17.89347267150879, 19.60102081298828, 17.14256477355957, 17.124923706054688, 14.950674057006836, 14.9334077835083, 15.037400245666504, 14.286561965942383, 24.496017456054688, 57.4756965637207, 13.388890266418457, 12.794074058532715, 13.311731338500977, 12.508980751037598, 19.844255447387695, 92.49756622314453, 80.0616683959961, 49.52764129638672, 227.12803649902344, 140.46865844726562, 43.66741180419922, 48.54841232299805, 92.83918762207031, 47.39882278442383, 171.10614013671875, 29.18498992919922, 55.95942306518555, 420.056396484375, 37.65250778198242, 42.39115905761719, 37.665401458740234, 109.4234390258789, 222.3367919921875, 80.23217010498047, 101.03026580810547, 85.46456909179688, 53.86494064331055, 121.54590606689453, 722.103515625, 677.28515625, 122.78607177734375, 53.14406967163086, 194.76918029785156, 47.7950553894043, 42.88315963745117, 41.10197448730469, 37.49966812133789, 34.36358642578125, 29.2628116607666, 27.81264305114746, 25.696537017822266, 60.68885803222656, 24.743980407714844, 24.63311004638672, 36.23395919799805, 21.31511878967285, 21.007156372070312, 20.123437881469727, 18.57164192199707, 17.73168182373047, 17.3203182220459, 21.79219627380371, 18.17466163635254, 16.591434478759766, 17.51166343688965, 16.145776748657227, 15.108285903930664, 15.074121475219727, 15.091498374938965, 14.448352813720703, 13.625877380371094, 39.84647750854492, 45.09210968017578, 40.712162017822266, 115.99422454833984, 149.48471069335938, 38.482181549072266, 50.813106536865234, 93.49553680419922, 45.09728240966797, 36.43445587158203, 23.45037269592285, 64.03388977050781, 138.90496826171875, 146.91966247558594, 191.9980926513672, 38.67033386230469, 42.00615310668945, 109.28875732421875, 91.6271743774414, 722.103515625, 107.022705078125, 84.69539642333984, 677.28515625, 61.0223388671875, 87.72071838378906, 64.00006866455078, 60.0994758605957, 44.612770080566406, 40.258792877197266, 35.15851593017578, 38.51564025878906, 24.687150955200195, 21.411109924316406, 20.87175178527832, 19.78553581237793, 16.605464935302734, 15.337119102478027, 14.797905921936035, 15.266630172729492, 14.285819053649902, 14.18101692199707, 14.146252632141113, 13.76383113861084, 13.76383113861084, 32.156185150146484, 13.259857177734375, 13.0077486038208, 12.894779205322266, 12.643177032470703, 12.478265762329102, 12.408427238464355, 12.373435020446777, 17.387786865234375, 12.17378044128418, 112.0849609375, 60.88974380493164, 115.1694107055664, 25.61221694946289, 44.47262954711914, 35.91719055175781, 45.113059997558594, 48.75492477416992, 121.54590606689453, 58.915470123291016, 243.9086151123047, 120.46106719970703, 88.17035675048828, 50.36231994628906, 25.07996368408203, 21.475309371948242, 53.85915756225586, 38.38272476196289, 74.93231201171875, 41.077632904052734, 161.03135681152344, 185.31333923339844, 722.103515625, 39.351871490478516, 677.28515625, 74.04676818847656, 149.48471069335938, 172.425537109375, 224.67105102539062, 127.04431915283203, 50.073753356933594, 66.48089599609375, 44.359130859375, 39.78852844238281, 39.539676666259766, 41.33367156982422, 30.02642059326172, 29.400177001953125, 28.286266326904297, 26.740802764892578, 26.63023567199707, 26.954113006591797, 25.385927200317383, 29.89914321899414, 36.31343460083008, 23.224281311035156, 22.950416564941406, 22.349010467529297, 21.010141372680664, 22.290931701660156, 22.042072296142578, 23.292516708374023, 19.990482330322266, 18.84947395324707, 18.60039520263672, 18.24074935913086, 31.14415740966797, 17.262378692626953, 15.941264152526855, 32.28744888305664, 44.933963775634766, 66.3394775390625, 84.44157409667969, 212.14100646972656, 82.80647277832031, 244.22940063476562, 92.61834716796875, 185.31333923339844, 45.548133850097656, 35.652366638183594, 224.67105102539062, 82.41024017333984, 54.01351547241211, 61.88985061645508, 105.3012924194336, 133.7838134765625, 91.3213882446289, 185.75657653808594, 51.28688049316406, 276.75640869140625, 722.103515625, 88.51490020751953, 84.47360229492188, 72.71147155761719, 151.23544311523438, 63.16938400268555, 56.68886947631836, 41.55472946166992, 43.77707290649414, 37.729522705078125, 48.6878776550293, 34.82816696166992, 28.713390350341797, 26.808183670043945, 21.968915939331055, 20.435585021972656, 23.115928649902344, 20.087644577026367, 19.904869079589844, 19.34653663635254, 19.07646369934082, 18.74604606628418, 18.345422744750977, 45.122169494628906, 16.062301635742188, 17.202627182006836, 15.722434043884277, 20.4794921875, 15.521968841552734, 16.279998779296875, 14.720858573913574, 61.86912536621094, 53.62538528442383, 78.39966583251953, 81.6417465209961, 31.164358139038086, 69.48632049560547, 84.3869857788086, 43.57238006591797, 60.59124755859375, 51.765132904052734, 52.232513427734375, 224.67105102539062, 38.89431381225586, 49.45451736450195, 53.78961944580078, 222.3367919921875, 117.67817687988281, 73.81204223632812, 486.10369873046875, 722.103515625, 224.5476837158203], \"loglift\": [30.0, 29.0, 28.0, 27.0, 26.0, 25.0, 24.0, 23.0, 22.0, 21.0, 20.0, 19.0, 18.0, 17.0, 16.0, 15.0, 14.0, 13.0, 12.0, 11.0, 10.0, 9.0, 8.0, 7.0, 6.0, 5.0, 4.0, 3.0, 2.0, 1.0, 2.0371999740600586, 2.036799907684326, 2.0329999923706055, 2.0176000595092773, 2.0125999450683594, 2.0123000144958496, 2.0123000144958496, 2.0116000175476074, 2.0099000930786133, 2.0058999061584473, 2.004499912261963, 2.0023999214172363, 2.001699924468994, 1.9990999698638916, 1.9958000183105469, 1.992300033569336, 1.9917000532150269, 1.9916000366210938, 1.9881000518798828, 1.9880000352859497, 1.9873000383377075, 1.9852999448776245, 1.9823999404907227, 1.9780000448226929, 1.9744000434875488, 1.9723999500274658, 1.972000002861023, 1.9658000469207764, 1.9610999822616577, 1.957900047302246, 1.9378000497817993, 1.916200041770935, 1.848099946975708, 1.6811000108718872, 1.7681000232696533, 1.8636000156402588, 1.7430000305175781, 1.8083000183105469, 1.8359999656677246, 1.6338000297546387, 1.5961999893188477, 1.7372000217437744, 1.0406999588012695, 1.604099988937378, 1.3246999979019165, 1.7228000164031982, 1.2689000368118286, 0.8540999889373779, 0.412200003862381, 1.1164000034332275, 0.6708999872207642, 0.6855000257492065, 0.8804000020027161, 1.0210000276565552, 0.6169999837875366, 2.1572999954223633, 2.1552000045776367, 2.1486001014709473, 2.1458001136779785, 2.1458001136779785, 2.140199899673462, 2.1398000717163086, 2.137500047683716, 2.1357998847961426, 2.1335999965667725, 2.1308999061584473, 2.128499984741211, 2.1261000633239746, 2.1261000633239746, 2.1261000633239746, 2.1261000633239746, 2.1261000633239746, 2.125499963760376, 2.124000072479248, 2.123300075531006, 2.122999906539917, 2.1196000576019287, 2.1182000637054443, 2.1161000728607178, 2.1138999462127686, 2.1133999824523926, 2.1110000610351562, 2.1101999282836914, 2.108799934387207, 2.1052000522613525, 2.0813000202178955, 1.971500039100647, 2.074700117111206, 1.9190000295639038, 1.881600022315979, 1.7827999591827393, 1.6062999963760376, 1.9084999561309814, 1.548200011253357, 1.3770999908447266, 1.7383999824523926, 1.9493999481201172, 1.278499960899353, 1.767199993133545, 0.9778000116348267, 1.0435999631881714, 1.8833999633789062, 1.0528000593185425, 1.6624000072479248, 1.476099967956543, 0.009999999776482582, 0.6779999732971191, 0.400299996137619, 0.8920999765396118, 0.3197999894618988, 0.5332000255584717, 2.219599962234497, 2.217400074005127, 2.2172000408172607, 2.21589994430542, 2.2153000831604004, 2.215100049972534, 2.2126998901367188, 2.2095999717712402, 2.2091000080108643, 2.20740008354187, 2.2030999660491943, 2.1984000205993652, 2.197999954223633, 2.197700023651123, 2.197499990463257, 2.196199893951416, 2.191800117492676, 2.1882998943328857, 2.1865999698638916, 2.1819000244140625, 2.178299903869629, 2.172100067138672, 2.1672000885009766, 2.1668999195098877, 2.1623001098632812, 2.161900043487549, 2.158600091934204, 2.153700113296509, 2.1487998962402344, 2.1475000381469727, 2.1094000339508057, 2.101599931716919, 2.105299949645996, 1.922700047492981, 1.7283999919891357, 1.7908999919891357, 1.9930000305175781, 1.909500002861023, 1.9972000122070312, 1.5808000564575195, 1.924299955368042, 1.378999948501587, 1.6849000453948975, 1.1055999994277954, 1.4493000507354736, 1.825600028038025, 1.3568999767303467, 1.2805999517440796, 1.3969999551773071, 1.2380000352859497, 1.670199990272522, 1.187600016593933, 1.482699990272522, 0.9430999755859375, 0.6985999941825867, 0.4383000135421753, -0.39910000562667847, 0.8701000213623047, 2.291300058364868, 2.2897000312805176, 2.289400100708008, 2.2839999198913574, 2.2829999923706055, 2.2825000286102295, 2.276099920272827, 2.2743000984191895, 2.2723000049591064, 2.272200107574463, 2.2711000442504883, 2.267199993133545, 2.266400098800659, 2.266200065612793, 2.265899896621704, 2.2648000717163086, 2.2611000537872314, 2.2609000205993652, 2.2590999603271484, 2.2583000659942627, 2.2572999000549316, 2.254699945449829, 2.2506000995635986, 2.246500015258789, 2.2409000396728516, 2.2383999824523926, 2.2376999855041504, 2.2369000911712646, 2.2356998920440674, 2.233799934387207, 2.2098000049591064, 2.220099925994873, 2.1393001079559326, 2.17549991607666, 2.1194000244140625, 2.1972999572753906, 2.0243000984191895, 1.930999994277954, 2.033600091934204, 1.9006999731063843, 1.8818000555038452, 1.9027999639511108, 1.645300030708313, 1.2552000284194946, 2.0116000175476074, 1.312600016593933, 1.875, 1.6360000371932983, -0.2736000120639801, 0.3634999990463257, 0.6252999901771545, 2.295099973678589, 2.2934999465942383, 2.2904999256134033, 2.286400079727173, 2.28629994392395, 2.283099889755249, 2.2774999141693115, 2.275099992752075, 2.2678000926971436, 2.2671000957489014, 2.266400098800659, 2.254699945449829, 2.2546000480651855, 2.253000020980835, 2.252700090408325, 2.2523000240325928, 2.2499001026153564, 2.2495999336242676, 2.24429988861084, 2.2411999702453613, 2.240499973297119, 2.240499973297119, 2.2397000789642334, 2.2388999462127686, 2.238800048828125, 2.2383999824523926, 2.2376999855041504, 2.236299991607666, 2.2339000701904297, 2.2339000701904297, 2.1910998821258545, 2.190200090408325, 2.0810999870300293, 2.0999999046325684, 2.0508999824523926, 2.1837000846862793, 2.1094000339508057, 1.99399995803833, 2.0153000354766846, 1.791700005531311, 1.753999948501587, 1.6430000066757202, 2.072499990463257, 1.545300006866455, 1.9983999729156494, 1.7489999532699585, 2.0144999027252197, 1.2669999599456787, 1.8818999528884888, 1.2023999691009521, 1.664199948310852, 0.3037000000476837, 0.9445000290870667, 1.100600004196167, 0.7649000287055969, -0.40139999985694885, 2.332200050354004, 2.328900098800659, 2.3285000324249268, 2.325900077819824, 2.3241000175476074, 2.3224000930786133, 2.3178000450134277, 2.314500093460083, 2.3104000091552734, 2.309299945831299, 2.30430006980896, 2.303800106048584, 2.3027000427246094, 2.2955000400543213, 2.2939999103546143, 2.2939999103546143, 2.291100025177002, 2.289599895477295, 2.2888998985290527, 2.288100004196167, 2.280900001525879, 2.2806999683380127, 2.2802000045776367, 2.2780001163482666, 2.2772998809814453, 2.276599884033203, 2.2734999656677246, 2.27020001411438, 2.2701001167297363, 2.2683000564575195, 2.258699893951416, 2.190200090408325, 2.1596999168395996, 2.1675000190734863, 1.981600046157837, 2.032599925994873, 2.159600019454956, 2.1354000568389893, 2.024600028991699, 2.125999927520752, 1.892799973487854, 2.1875, 2.0162999629974365, 1.4749000072479248, 2.1157000064849854, 2.0713999271392822, 2.0736000537872314, 1.5240999460220337, 1.0908000469207764, 1.5829999446868896, 1.3652000427246094, 1.4830000400543213, 1.7934000492095947, 1.0729999542236328, -0.510699987411499, -0.48240000009536743, 1.0297000408172607, 2.406899929046631, 2.4049999713897705, 2.4049999713897705, 2.402600049972534, 2.402100086212158, 2.4000000953674316, 2.397700071334839, 2.3931000232696533, 2.3914999961853027, 2.3887999057769775, 2.388400077819824, 2.387500047683716, 2.3863000869750977, 2.384700059890747, 2.381500005722046, 2.3808999061584473, 2.378999948501587, 2.374799966812134, 2.3726999759674072, 2.371500015258789, 2.371299982070923, 2.3705999851226807, 2.3691999912261963, 2.367799997329712, 2.3675999641418457, 2.3635001182556152, 2.3635001182556152, 2.3633999824523926, 2.3598999977111816, 2.3566999435424805, 2.3369998931884766, 2.3227999210357666, 2.275099992752075, 2.1565001010894775, 2.102099895477295, 2.2551000118255615, 2.19320011138916, 2.089200019836426, 2.1851000785827637, 2.211199998855591, 2.3111000061035156, 2.0481998920440674, 1.8194999694824219, 1.6988999843597412, 1.5943000316619873, 2.1350998878479004, 2.097899913787842, 1.5612000226974487, 1.544600009918213, 0.1768999993801117, 1.3596999645233154, 1.496500015258789, -0.3483999967575073, 1.707900047302246, 2.4133999347686768, 2.4114999771118164, 2.4103000164031982, 2.405400037765503, 2.4033000469207764, 2.4000000953674316, 2.397599935531616, 2.3891000747680664, 2.38319993019104, 2.3821001052856445, 2.3787999153137207, 2.370800018310547, 2.3661999702453613, 2.3638999462127686, 2.363600015640259, 2.3617000579833984, 2.361299991607666, 2.3610999584198, 2.359100103378296, 2.359100103378296, 2.357100009918213, 2.356600046157837, 2.3552000522613525, 2.353300094604492, 2.3531999588012695, 2.3522000312805176, 2.351599931716919, 2.3515000343322754, 2.350399971008301, 2.3503000736236572, 2.3301000595092773, 2.3041999340057373, 2.194999933242798, 2.2995998859405518, 2.2411000728607178, 2.2535998821258545, 2.2079999446868896, 2.1972999572753906, 2.077399969100952, 2.1619999408721924, 1.9326000213623047, 2.028700113296509, 2.0404999256134033, 2.1071999073028564, 2.247999906539917, 2.285099983215332, 2.0348000526428223, 2.114500045776367, 1.8839000463485718, 2.074399948120117, 1.5145000219345093, 1.4112000465393066, 0.5522000193595886, 2.0613999366760254, 0.27489998936653137, 1.65910005569458, 1.115399956703186, 0.8065999746322632, 0.46070000529289246, 2.4230000972747803, 2.4173998832702637, 2.417099952697754, 2.413300037384033, 2.4128000736236572, 2.412600040435791, 2.409600019454956, 2.4052999019622803, 2.4038000106811523, 2.40339994430542, 2.4012999534606934, 2.4010000228881836, 2.4001998901367188, 2.3998000621795654, 2.3982999324798584, 2.3970000743865967, 2.396399974822998, 2.395900011062622, 2.39490008354187, 2.3917999267578125, 2.3917999267578125, 2.3912999629974365, 2.3910999298095703, 2.389899969100952, 2.3870999813079834, 2.3866000175476074, 2.385499954223633, 2.3822999000549316, 2.381700038909912, 2.3778998851776123, 2.3469998836517334, 2.310800075531006, 2.2569000720977783, 2.216900110244751, 2.065500020980835, 2.150099992752075, 1.90910005569458, 2.09660005569458, 1.872499942779541, 2.2163000106811523, 2.2701001167297363, 1.2473000288009644, 1.7450000047683716, 1.9402999877929688, 1.8480000495910645, 1.4938000440597534, 1.3118000030517578, 1.5264999866485596, 0.9846000075340271, 1.9250999689102173, 0.4124999940395355, -0.6011999845504761, 2.4296000003814697, 2.429500102996826, 2.427799940109253, 2.426800012588501, 2.4258999824523926, 2.4244000911712646, 2.418600082397461, 2.4184999465942383, 2.4163999557495117, 2.4156999588012695, 2.412899971008301, 2.408799886703491, 2.3991000652313232, 2.397700071334839, 2.395900011062622, 2.39520001411438, 2.3951001167297363, 2.3935999870300293, 2.393399953842163, 2.3926000595092773, 2.391900062561035, 2.390899896621704, 2.3861000537872314, 2.3835999965667725, 2.382699966430664, 2.3824000358581543, 2.3822999000549316, 2.3815999031066895, 2.3814001083374023, 2.376499891281128, 2.3255999088287354, 2.312299966812134, 2.231300115585327, 2.2195000648498535, 2.3131000995635986, 2.2002999782562256, 2.121799945831299, 2.146699905395508, 2.0355000495910645, 2.0813000202178955, 2.0497000217437744, 1.4352999925613403, 2.123300075531006, 2.017699956893921, 1.980299949645996, 1.2544000148773193, 1.55840003490448, 1.7483999729156494, 0.412200003862381, -0.27950000762939453, 0.5795000195503235], \"logprob\": [30.0, 29.0, 28.0, 27.0, 26.0, 25.0, 24.0, 23.0, 22.0, 21.0, 20.0, 19.0, 18.0, 17.0, 16.0, 15.0, 14.0, 13.0, 12.0, 11.0, 10.0, 9.0, 8.0, 7.0, 6.0, 5.0, 4.0, 3.0, 2.0, 1.0, -2.243499994277954, -2.9428000450134277, -1.804900050163269, -4.971700191497803, -4.850800037384033, -5.179800033569336, -5.1793999671936035, -5.181399822235107, -5.2418999671936035, -5.385200023651123, -5.423699855804443, -5.481400012969971, -5.501200199127197, -5.566400051116943, -5.625199794769287, -5.713200092315674, -5.73330020904541, -5.735199928283691, -5.806099891662598, -5.80709981918335, -5.531899929046631, -5.857800006866455, -5.912099838256836, -5.984099864959717, -6.043499946594238, -4.30049991607666, -6.080399990081787, -6.168799877166748, -6.232699871063232, -6.273499965667725, -4.853899955749512, -5.291500091552734, -4.480599880218506, -2.4463000297546387, -3.6530001163482666, -4.754300117492676, -4.099100112915039, -4.713799953460693, -5.0329999923706055, -4.447400093078613, -4.329100131988525, -4.991600036621094, -3.022700071334839, -4.9334001541137695, -4.493800163269043, -5.195000171661377, -4.70359992980957, -4.434199810028076, -4.046899795532227, -4.680699825286865, -4.47790002822876, -4.555799961090088, -4.672100067138672, -4.967800140380859, -5.083600044250488, -3.9068000316619873, -4.1149001121521, -4.573999881744385, -4.36870002746582, -4.734899997711182, -4.9741997718811035, -3.804800033569336, -5.075799942016602, -5.107800006866455, -5.188199996948242, -5.281700134277344, -5.26609992980957, -5.413400173187256, -5.413400173187256, -5.413400173187256, -5.413400173187256, -5.413400173187256, -5.422699928283691, -5.462500095367432, -5.47730016708374, -5.488500118255615, -5.547299861907959, -5.594699859619141, -5.639800071716309, -5.683300018310547, -5.679500102996826, -5.738699913024902, -5.753699779510498, -5.772600173950195, -5.822700023651123, -5.17080020904541, -2.9655001163482666, -5.17080020904541, -4.09499979019165, -3.8017001152038574, -3.2395999431610107, -3.6501998901367188, -4.841100215911865, -4.090700149536133, -4.1697998046875, -4.8358001708984375, -5.192999839782715, -4.217100143432617, -4.9756999015808105, -4.253699779510498, -4.520400047302246, -5.255300045013428, -4.738800048828125, -5.124499797821045, -5.019499778747559, -4.595099925994873, -4.851399898529053, -4.830599784851074, -4.948699951171875, -4.900199890136719, -5.120800018310547, -4.351200103759766, -4.495100021362305, -4.486299991607666, -4.5777997970581055, -4.609399795532227, -4.614200115203857, -4.703100204467773, -4.637899875640869, -4.875500202178955, -4.953199863433838, -5.103099822998047, -5.242599964141846, -5.234099864959717, -5.258999824523926, -5.265999794006348, -5.30079984664917, -5.410399913787842, -5.492300033569336, -5.527400016784668, -5.606800079345703, -5.690999984741211, -5.791200160980225, -5.502999782562256, -5.864099979400635, -5.948599815368652, -5.947700023651123, -6.000100135803223, -6.064199924468994, -5.004799842834473, -5.533999919891357, -3.8526999950408936, -4.924499988555908, -5.425600051879883, -4.06689977645874, -2.730799913406372, -3.7128000259399414, -4.864699840545654, -4.716700077056885, -5.0970001220703125, -4.168499946594238, -4.97629976272583, -3.877500057220459, -4.502099990844727, -3.4995999336242676, -4.189499855041504, -4.819799900054932, -4.156000137329102, -4.107500076293945, -4.44379997253418, -4.288300037384033, -4.7368998527526855, -4.3649001121521, -4.7129998207092285, -4.586400032043457, -4.532899856567383, -4.584099769592285, -4.462500095367432, -4.7855000495910645, -3.345599889755249, -2.952500104904175, -2.938199996948242, -4.090000152587891, -4.165900230407715, -4.295199871063232, -4.246799945831299, -4.728700160980225, -4.841899871826172, -4.8597002029418945, -4.7846999168396, -5.036099910736084, -5.0594000816345215, -5.021299839019775, -5.07420015335083, -5.107900142669678, -5.026000022888184, -5.218800067901611, -5.2642998695373535, -5.286099910736084, -5.297399997711182, -5.373199939727783, -5.465000152587891, -5.533199787139893, -5.644199848175049, -5.646599769592285, -5.708000183105469, -4.892199993133545, -5.7220001220703125, -5.696599960327148, -5.0015997886657715, -5.293399810791016, -3.631200075149536, -4.34250020980835, -3.939300060272217, -5.095300197601318, -4.186299800872803, -3.7230000495910645, -4.327899932861328, -4.414700031280518, -4.386300086975098, -4.444300174713135, -3.88100004196167, -3.8922998905181885, -4.867599964141846, -4.2596001625061035, -4.8242998123168945, -4.749100208282471, -4.336999893188477, -4.868000030517578, -4.904099941253662, -3.21370005607605, -3.4918999671936035, -3.8554000854492188, -4.206299781799316, -4.216100215911865, -4.410399913787842, -4.686699867248535, -4.800300121307373, -4.759200096130371, -5.080399990081787, -5.102799892425537, -5.401800155639648, -3.414799928665161, -5.44320011138916, -5.421299934387207, -5.443900108337402, -5.5065999031066895, -5.511600017547607, -5.577400207519531, -5.6605000495910645, -5.665500164031982, -5.666600227355957, -5.697199821472168, -5.188899993896484, -5.712200164794922, -5.6757001876831055, -5.731100082397461, -5.753499984741211, -5.791999816894531, -5.791999816894531, -4.245800018310547, -4.870999813079834, -3.5397000312805176, -4.065199851989746, -4.335700035095215, -5.3256001472473145, -4.924200057983398, -4.355899810791016, -4.485199928283691, -4.142300128936768, -4.123600006103516, -4.221099853515625, -5.151400089263916, -4.246300220489502, -5.054599761962891, -4.68149995803833, -5.0920000076293945, -4.236299991607666, -4.970699787139893, -4.509399890899658, -4.843200206756592, -4.301499843597412, -4.602399826049805, -4.734600067138672, -4.807300090789795, -4.860499858856201, -3.769399881362915, -3.9779000282287598, -4.085299968719482, -4.264599800109863, -4.393599987030029, -4.4532999992370605, -4.70550012588501, -4.362299919128418, -4.965799808502197, -5.003799915313721, -5.023799896240234, -5.1743998527526855, -5.204699993133545, -5.376299858093262, -5.398200035095215, -5.406799793243408, -5.46999979019165, -5.38040018081665, -5.515100002288818, -5.516900062561035, -5.659900188446045, -5.661300182342529, -5.654799938201904, -5.7083001136779785, -5.1697001457214355, -4.317599773406982, -5.777599811553955, -5.826300144195557, -5.786799907684326, -5.850800037384033, -5.398900032043457, -3.928100109100342, -4.103000164031982, -4.5756001472473145, -3.2385001182556152, -3.6679000854492188, -4.709400177001953, -4.627600193023682, -4.090099811553955, -4.660900115966797, -3.6105000972747803, -5.084400177001953, -4.604599952697754, -3.130199909210205, -4.901400089263916, -4.827199935913086, -4.94320011138916, -4.426199913024902, -4.150599956512451, -4.677700042724609, -4.664899826049805, -4.714399814605713, -4.865699768066406, -4.772299766540527, -4.574100017547607, -4.609799861907959, -4.8053998947143555, -4.265699863433838, -2.9686999320983887, -4.373700141906738, -4.484499931335449, -4.527400016784668, -4.621200084686279, -4.7108001708984375, -4.876200199127197, -4.928599834442139, -5.01039981842041, -4.151400089263916, -5.049499988555908, -5.055099964141846, -4.670899868011475, -5.204699993133545, -5.219799995422363, -5.264699935913086, -5.349100112915039, -5.397500038146973, -5.4222002029418945, -5.192699909210205, -5.375, -5.46750020980835, -5.414899826049805, -5.496300220489502, -5.566800117492676, -5.5690999031066895, -5.567999839782715, -5.614999771118164, -5.6768999099731445, -4.623600006103516, -4.514100074768066, -4.664000034332275, -3.7355000972747803, -3.53629994392395, -4.740300178527832, -4.5243000984191895, -4.018499851226807, -4.651599884033203, -4.838900089263916, -5.179599761962891, -4.438000202178955, -3.892199993133545, -3.9567999839782715, -3.793800115585327, -4.855400085449219, -4.809800148010254, -4.3902997970581055, -4.583199977874756, -3.886399984359741, -4.612800121307373, -4.710000038146973, -4.475800037384033, -4.826399803161621, -3.757999897003174, -4.075099945068359, -4.139200210571289, -4.4421000480651855, -4.546999931335449, -4.685699939727783, -4.596799850463867, -5.05019998550415, -5.198500156402588, -5.225100040435791, -5.281799793243408, -5.465099811553955, -5.549099922180176, -5.587200164794922, -5.556300163269043, -5.624599933624268, -5.632400035858154, -5.635000228881836, -5.664400100708008, -5.664400100708008, -4.81790018081665, -5.70419979095459, -5.724800109863281, -5.735400199890137, -5.755300045013428, -5.769400119781494, -5.775599956512451, -5.778500080108643, -5.4394001960754395, -5.796000003814697, -3.5961999893188477, -4.2322998046875, -3.7040998935699463, -5.10290002822876, -4.609600067138672, -4.810800075531006, -4.628399848937988, -4.561500072479248, -3.767899990081787, -4.407400131225586, -3.216200113296509, -3.825500011444092, -4.125800132751465, -4.619100093841553, -5.17549991607666, -5.293600082397461, -4.6244001388549805, -4.883500099182129, -4.445099830627441, -4.8557000160217285, -4.0493998527526855, -4.01230001449585, -3.511199951171875, -4.911600112915039, -3.8524999618530273, -4.68179988861084, -4.522900104522705, -4.689000129699707, -4.770199775695801, -3.378000020980835, -4.314700126647949, -4.031499862670898, -4.439899921417236, -4.549200057983398, -4.555699825286865, -4.5142998695373535, -4.838200092315674, -4.860799789428711, -4.899799823760986, -4.958099842071533, -4.962500095367432, -4.951300144195557, -5.011499881744385, -4.849400043487549, -4.656400203704834, -5.104000091552734, -5.116300106048584, -5.143899917602539, -5.208700180053711, -5.149600028991699, -5.161300182342529, -5.106400012969971, -5.26039981842041, -5.321899890899658, -5.3358001708984375, -5.356400012969971, -4.8246002197265625, -5.415299892425537, -5.498799800872803, -4.82390022277832, -4.529600143432617, -4.193900108337402, -3.9925999641418457, -3.2228000164031982, -4.07889986038208, -3.2383999824523926, -4.020400047302246, -3.5510001182556152, -4.610499858856201, -4.801599979400635, -3.983599901199341, -4.488900184631348, -4.716100215911865, -4.6722002029418945, -4.494999885559082, -4.4375, -4.604700088500977, -4.436500072479248, -4.7829999923706055, -4.609899997711182, -4.664599895477295, -3.732800006866455, -3.779599905014038, -3.9312000274658203, -3.199899911880493, -4.073800086975098, -4.183599948883057, -4.5, -4.44789981842041, -4.598700046539307, -4.344399929046631, -4.682300090789795, -4.87939977645874, -4.957799911499023, -5.158199787139893, -5.232399940490723, -5.109799861907959, -5.25029993057251, -5.261000156402588, -5.289700031280518, -5.304500102996826, -5.322700023651123, -5.345300197601318, -4.450099945068359, -5.485499858856201, -5.417799949645996, -5.507999897003174, -5.243899822235107, -5.521699905395508, -5.4741997718811035, -5.579800128936768, -4.194900035858154, -4.351200103759766, -4.052499771118164, -4.02370023727417, -4.893199920654297, -4.204100131988525, -4.0883002281188965, -4.724400043487549, -4.505899906158447, -4.617599964141846, -4.640100002288818, -3.795599937438965, -4.861400127410889, -4.726799964904785, -4.680200099945068, -3.986999988555908, -4.319200038909912, -4.595600128173828, -4.046899795532227, -4.342899799346924, -4.6519999504089355]}, \"token.table\": {\"Topic\": [1, 2, 7, 7, 3, 4, 8, 2, 3, 9, 8, 5, 6, 1, 4, 7, 2, 3, 7, 9, 4, 4, 6, 8, 2, 4, 6, 7, 9, 3, 4, 2, 5, 6, 9, 9, 10, 7, 1, 4, 4, 6, 9, 2, 6, 1, 1, 5, 6, 10, 8, 3, 2, 4, 9, 5, 7, 8, 4, 5, 6, 10, 3, 4, 4, 9, 2, 6, 9, 8, 3, 1, 9, 10, 7, 10, 2, 10, 10, 7, 8, 7, 1, 9, 2, 8, 2, 8, 5, 8, 3, 6, 10, 2, 5, 6, 7, 8, 1, 2, 4, 5, 2, 6, 3, 4, 5, 6, 6, 10, 6, 9, 10, 7, 8, 8, 10, 1, 5, 5, 8, 9, 10, 5, 5, 9, 4, 2, 4, 8, 9, 10, 5, 7, 4, 1, 9, 3, 5, 8, 4, 4, 10, 2, 3, 4, 5, 9, 10, 7, 7, 2, 2, 9, 1, 4, 5, 9, 4, 6, 9, 5, 7, 10, 8, 2, 5, 8, 10, 2, 3, 7, 6, 6, 7, 8, 9, 3, 7, 8, 10, 10, 3, 10, 5, 7, 6, 7, 3, 6, 9, 7, 1, 5, 6, 7, 1, 9, 10, 5, 1, 3, 7, 8, 2, 3, 2, 3, 5, 6, 7, 3, 10, 4, 1, 2, 6, 10, 4, 10, 3, 6, 8, 4, 8, 10, 3, 9, 9, 9, 10, 3, 7, 6, 3, 4, 5, 5, 4, 10, 4, 5, 1, 5, 7, 9, 7, 2, 6, 1, 2, 5, 7, 9, 2, 3, 5, 6, 7, 2, 5, 9, 6, 4, 6, 2, 8, 10, 3, 8, 8, 10, 4, 2, 6, 7, 8, 7, 9, 1, 4, 7, 6, 7, 4, 5, 6, 4, 5, 1, 3, 4, 8, 2, 10, 3, 4, 5, 6, 9, 1, 8, 2, 10, 1, 9, 6, 7, 8, 5, 6, 8, 1, 2, 4, 6, 8, 9, 6, 1, 3, 6, 9, 4, 6, 8, 9, 1, 4, 9, 5, 1, 9, 5, 2, 4, 6, 1, 4, 4, 3, 2, 5, 1, 4, 2, 5, 8, 6, 7, 6, 7, 7, 1, 8, 9, 1, 3, 4, 3, 6, 10, 2, 4, 6, 2, 4, 6, 8, 5, 8, 1, 3, 4, 5, 6, 10, 8, 1, 3, 6, 9, 9, 1, 7, 2, 6, 2, 10, 1, 2, 1, 3, 5, 8, 7, 1, 3, 9, 2, 8, 10, 2, 6, 7, 6, 10, 4, 10, 9, 5, 3, 2, 10, 7, 7, 8, 1, 5, 2, 5, 6, 10, 2, 9, 2, 3, 4, 5, 6, 7, 7, 8, 10, 4, 2, 2, 4, 7, 10, 10, 7, 2, 6, 2, 3, 5, 9, 10, 1, 2, 5, 6, 7, 9, 1, 2, 10, 1, 10, 3, 1, 5, 7, 1, 5, 2, 3, 4, 5, 9, 5, 3, 4, 7, 5, 9, 10, 1, 4, 2, 3, 5, 6, 7, 8, 9, 10, 4, 5, 1, 2, 3, 4, 1, 1, 3, 2, 4, 1, 3, 6, 10, 9, 2, 3, 2, 5, 10, 3, 5, 7, 8, 9, 1, 8, 2, 3, 8, 9, 8, 8, 2, 3, 4, 6, 8, 10, 3, 4, 6, 1, 2, 5, 6, 7, 8, 10, 7, 9, 1, 6, 5, 6, 10, 8, 10, 2, 6, 10, 6, 2, 4, 7, 8, 9, 10, 1, 5, 6, 5, 9, 1, 2, 3, 4, 5, 6, 7, 8, 9, 10, 1, 8, 3, 5, 9, 7, 9, 4, 8, 6, 3, 8, 3, 6, 2, 7, 8, 1, 3, 5, 10, 8, 9, 5, 5, 6, 3, 9, 1, 6, 8, 3, 6, 1, 3, 1, 3, 10, 1, 3, 5, 10, 2, 6, 4, 4, 8, 3, 9, 10, 7, 9, 10, 10, 6, 8, 5, 7, 10, 8, 6, 1, 8, 2, 5, 6, 4, 3, 10, 2, 3, 9, 2, 5, 6, 8, 9, 4, 10, 1, 2, 3, 6, 7, 8, 9, 1, 7, 3, 3, 2, 3, 9, 5, 3, 2, 1, 3, 4, 6, 1, 4, 5, 6, 7, 2, 4, 10, 4, 1, 2, 3, 4, 5, 6, 7, 9, 10, 8, 3, 6, 9, 10, 2, 4, 8, 6, 7, 6, 1, 8, 4, 2, 3, 7, 8, 9, 2, 5, 10, 5, 10, 8, 10, 5, 4, 5, 3, 9, 2, 2, 7, 3, 5, 3, 4, 5, 4, 1, 6, 3, 8, 3, 7, 10, 2, 2, 4, 9, 2, 3, 4, 3, 5, 7, 1, 2, 3, 5, 6, 7, 10, 8, 10, 3, 9, 1, 5, 8, 7, 6, 8, 7, 3, 4, 7, 9, 4, 2, 8, 2, 3, 6, 8, 9, 3, 5, 6, 1, 4, 6, 9, 1, 9, 1, 4, 1, 2, 8, 10, 1, 2, 3, 8, 6, 2, 3, 4, 7, 1, 3, 5, 6, 8, 3, 3, 5, 2, 3, 5, 9, 10, 2, 3, 2, 1, 3, 4, 6, 8, 9, 10, 9, 4, 2, 4, 6, 7, 9, 6, 2, 1, 4, 1, 10, 1, 5, 1, 7, 10, 2, 3, 1, 3, 6, 9, 3, 1, 3, 7, 9, 10, 1, 3, 6, 7, 9, 10, 3, 4, 7, 2, 3, 5, 8, 10, 5, 1, 4, 5, 1, 10, 1, 8, 3, 6, 7, 3, 2, 5, 2, 3, 4, 6, 8, 2, 4, 6, 8, 2, 6, 8, 3, 4, 8, 2, 6, 9, 1, 7, 9, 3, 2, 4, 7, 8, 1, 3, 7, 3, 9, 7, 1, 5, 9, 2, 4, 9, 9, 5, 1, 3, 4, 6, 7, 8, 10, 2, 3, 4, 10, 3, 7, 4, 1, 8, 5, 5, 5, 6, 1, 8, 9, 2, 7, 8, 9, 10], \"Freq\": [0.4578467607498169, 0.18687623739242554, 0.345721036195755, 0.9643530249595642, 0.9132327437400818, 0.06088218092918396, 0.9460797905921936, 0.9403021931648254, 0.9185301661491394, 0.9693607687950134, 0.984373927116394, 0.9700620770454407, 0.9539316892623901, 0.9705405235290527, 0.08528649061918259, 0.8955081701278687, 0.5044644474983215, 0.047293540090322495, 0.20493867993354797, 0.23646770417690277, 0.9449759721755981, 0.010811095125973225, 0.8648875951766968, 0.11892204731702805, 0.03285101056098938, 0.20805640518665314, 0.2518577575683594, 0.09855303168296814, 0.4051624834537506, 0.928946316242218, 0.0516081266105175, 0.05505583435297012, 0.743253767490387, 0.08258374780416489, 0.11011166870594025, 0.9585882425308228, 0.9751547574996948, 0.9568458795547485, 0.004436211194843054, 0.9892750978469849, 0.14811107516288757, 0.22216661274433136, 0.6109582185745239, 0.14988446235656738, 0.8368549346923828, 0.9392601251602173, 0.8272026181221008, 0.026683954522013664, 0.13341976702213287, 0.9806644320487976, 0.9491285085678101, 0.9858036637306213, 0.6661726832389832, 0.3028057813644409, 0.9523752331733704, 0.33116164803504944, 0.547136664390564, 0.1151866614818573, 0.016767706722021103, 0.5197988748550415, 0.19282861053943634, 0.26828330755233765, 0.9514825940132141, 0.9657818078994751, 0.9545815587043762, 0.9396389126777649, 0.9659071564674377, 0.9014605283737183, 0.9699274301528931, 0.9602974653244019, 0.9738576412200928, 0.8244317770004272, 0.1603061854839325, 0.9698531031608582, 0.9287440180778503, 0.9878482222557068, 0.9453722834587097, 0.9266616702079773, 0.9213759899139404, 0.7871984839439392, 0.1967996209859848, 0.9833652973175049, 0.9566190242767334, 0.9409542083740234, 0.11961739510297775, 0.8373217582702637, 0.9799875617027283, 0.986264705657959, 0.801918625831604, 0.19062000513076782, 0.01889629103243351, 0.9826071858406067, 0.9902151226997375, 0.010771313682198524, 0.02154262736439705, 0.7324492931365967, 0.22619758546352386, 0.010771313682198524, 0.17093579471111298, 0.45175886154174805, 0.10988729447126389, 0.25640368461608887, 0.9403021931648254, 0.9878223538398743, 0.6592226028442383, 0.05493522062897682, 0.07324695587158203, 0.20142914354801178, 0.8244134187698364, 0.1374022364616394, 0.1756383776664734, 0.8123274445533752, 0.9943934679031372, 0.07808773219585419, 0.8980089426040649, 0.8319724202156067, 0.15740017592906952, 0.8931385278701782, 0.9903260469436646, 0.9690167307853699, 0.07658065110445023, 0.24888712167739868, 0.6700807213783264, 0.9426765441894531, 0.9607791304588318, 0.9445093870162964, 0.9611474871635437, 0.6480409502983093, 0.13642966747283936, 0.13642966747283936, 0.06821483373641968, 0.9663722515106201, 0.9852201342582703, 0.9603188633918762, 0.9953914880752563, 0.9615042805671692, 0.926871120929718, 0.9597055315971375, 0.9500407576560974, 0.9670847058296204, 0.9688718914985657, 0.32352960109710693, 0.6470592021942139, 0.09391755610704422, 0.2254021316766739, 0.3756702244281769, 0.21287979185581207, 0.08765637874603271, 0.9814881086349487, 0.9540669918060303, 0.9707815647125244, 0.9465985298156738, 0.7723420262336731, 0.20324790477752686, 0.9792083501815796, 0.9754817485809326, 0.22945065796375275, 0.7487337589263916, 0.35212796926498413, 0.05322864651679993, 0.5896096229553223, 0.24581162631511688, 0.49162325263023376, 0.24581162631511688, 0.9917839169502258, 0.1116650253534317, 0.5264208316802979, 0.12761716544628143, 0.20737791061401367, 0.2566967308521271, 0.02139139547944069, 0.7166117429733276, 0.9099460244178772, 0.7148036360740662, 0.017870090901851654, 0.2323111891746521, 0.017870090901851654, 0.02598605304956436, 0.857539713382721, 0.07795815914869308, 0.05197210609912872, 0.9435710906982422, 0.9792128205299377, 0.9277573823928833, 0.9501459002494812, 0.9587358832359314, 0.027598420158028603, 0.9659446477890015, 0.21230842173099518, 0.7548744082450867, 0.9847975969314575, 0.9699328541755676, 0.8373726010322571, 0.14253149926662445, 0.12281342595815659, 0.8596939444541931, 0.7933049201965332, 0.12951916456222534, 0.06475958228111267, 0.932796061038971, 0.33872440457344055, 0.46720606088638306, 0.14016182720661163, 0.03504045680165291, 0.5421223640441895, 0.45511505007743835, 0.1166510060429573, 0.3237660527229309, 0.13569606840610504, 0.4213719964027405, 0.002380632795393467, 0.9340606331825256, 0.9558960795402527, 0.9488705992698669, 0.24204687774181366, 0.007119025569409132, 0.7332596778869629, 0.014238051138818264, 0.28977033495903015, 0.6954488158226013, 0.05219597369432449, 0.9395275712013245, 0.8890013098716736, 0.8550468683242798, 0.08397781848907471, 0.05344042927026749, 0.9573959708213806, 0.9519212245941162, 0.9677340388298035, 0.6044430732727051, 0.3899632692337036, 0.7318196892738342, 0.2566121220588684, 0.9635617136955261, 0.2117452174425125, 0.522304892539978, 0.26821061968803406, 0.9460293650627136, 0.9547454118728638, 0.9822493195533752, 0.7403051853179932, 0.23134535551071167, 0.36086925864219666, 0.047482799738645554, 0.1994277536869049, 0.3893589377403259, 0.9276745915412903, 0.10279256850481033, 0.8566046953201294, 0.022176828235387802, 0.022176828235387802, 0.044353656470775604, 0.9092499613761902, 0.952723503112793, 0.2340151071548462, 0.25741660594940186, 0.03510226681828499, 0.42122718691825867, 0.04680301994085312, 0.04522194340825081, 0.10551786422729492, 0.8441429138183594, 0.9389558434486389, 0.9764394760131836, 0.9640908241271973, 0.07816015928983688, 0.7294948697090149, 0.18237371742725372, 0.8784908056259155, 0.110967256128788, 0.11188730597496033, 0.8764505982398987, 0.952293872833252, 0.9289636611938477, 0.050823502242565155, 0.25411751866340637, 0.6861172914505005, 0.00787126924842596, 0.9917798638343811, 0.9336666464805603, 0.02523423358798027, 0.037851352244615555, 0.8033218383789062, 0.16478396952152252, 0.9162033200263977, 0.04362872987985611, 0.9804603457450867, 0.040043655782938004, 0.921004056930542, 0.01985611394047737, 0.15884891152381897, 0.09928057342767715, 0.7346762418746948, 0.3135766386985779, 0.6601613759994507, 0.562747597694397, 0.08657655864953995, 0.0577177032828331, 0.10100597888231277, 0.20201195776462555, 0.971977174282074, 0.9225270748138428, 0.0962638184428215, 0.8663743138313293, 0.30639997124671936, 0.6929353475570679, 0.11622012406587601, 0.20753593742847443, 0.6724164485931396, 0.00822734460234642, 0.2797296941280365, 0.7075515985488892, 0.005396265536546707, 0.005396265536546707, 0.05396265536546707, 0.005396265536546707, 0.3615497946739197, 0.5720041394233704, 0.9843342304229736, 0.14202016592025757, 0.5232322216033936, 0.007474745623767376, 0.32888880372047424, 0.20423638820648193, 0.0928347259759903, 0.6684100031852722, 0.931979238986969, 0.14226922392845154, 0.7587692141532898, 0.0829903855919838, 0.9426961541175842, 0.0890195220708847, 0.8901952505111694, 0.9563471674919128, 0.12230215966701508, 0.6794564723968506, 0.1902478039264679, 0.016201376914978027, 0.9720826148986816, 0.9744620323181152, 0.9480863213539124, 0.9069662690162659, 0.06718268245458603, 0.996432900428772, 0.0017209548968821764, 0.3274812400341034, 0.4678303599357605, 0.1949293166399002, 0.9709542393684387, 0.938301146030426, 0.19956856966018677, 0.7982742786407471, 0.9353681802749634, 0.3736705780029297, 0.5871965885162354, 0.04003613442182541, 0.16544349491596222, 0.05514783039689064, 0.7720696330070496, 0.9766110181808472, 0.09697890281677246, 0.8889732956886292, 0.1970692127943039, 0.6931400299072266, 0.1087278425693512, 0.17395560443401337, 0.6571655869483948, 0.15462720394134521, 0.9189713001251221, 0.1392091065645218, 0.8352546095848083, 0.14659643173217773, 0.05700972303748131, 0.17102916538715363, 0.3013371229171753, 0.2687601149082184, 0.04886547848582268, 0.968732476234436, 0.23055386543273926, 0.036403242498636246, 0.21841946244239807, 0.49751099944114685, 0.9472844004631042, 0.23273654282093048, 0.749928891658783, 0.18591059744358063, 0.7967596650123596, 0.97242671251297, 0.9858716726303101, 0.9816805124282837, 0.9386965036392212, 0.9739548563957214, 0.953546404838562, 0.9732169508934021, 0.9817057251930237, 0.9794054627418518, 0.290839284658432, 0.145419642329216, 0.5493630766868591, 0.06649959087371826, 0.7979950904846191, 0.11083265393972397, 0.9731142520904541, 0.9710371494293213, 0.9866753816604614, 0.931011974811554, 0.9941828846931458, 0.23139628767967224, 0.719899594783783, 0.9863510131835938, 0.9117664694786072, 0.9905025959014893, 0.9270598888397217, 0.951031506061554, 0.9520565271377563, 0.9441726803779602, 0.94450443983078, 0.7463213205337524, 0.2460399866104126, 0.1761230230331421, 0.18967095017433167, 0.12193132191896439, 0.5012732148170471, 0.9450765252113342, 0.9677214026451111, 0.02950451709330082, 0.4130632281303406, 0.05900903418660164, 0.1534234881401062, 0.17112620174884796, 0.17112620174884796, 0.722481906414032, 0.2675859034061432, 0.9300904870033264, 0.9679180383682251, 0.9684973359107971, 0.18708717823028564, 0.014391321688890457, 0.014391321688890457, 0.7915226817131042, 0.9786849617958069, 0.9728937149047852, 0.2123965173959732, 0.7699373960494995, 0.005846814718097448, 0.6431496143341064, 0.1695576310157776, 0.15786400437355042, 0.023387258872389793, 0.03980672359466553, 0.8226723074913025, 0.0033172271214425564, 0.0033172271214425564, 0.09288235753774643, 0.03648949787020683, 0.8676220178604126, 0.06426829844713211, 0.032134149223566055, 0.9515531063079834, 0.9545403122901917, 0.9638655781745911, 0.01561673078685999, 0.28110113739967346, 0.6871361136436462, 0.16994927823543549, 0.8157565593719482, 0.7487459778785706, 0.05598100647330284, 0.12595726549625397, 0.03498813137412071, 0.020992876961827278, 0.9799820780754089, 0.010268565267324448, 0.005134282633662224, 0.9806479811668396, 0.9456943273544312, 0.22950318455696106, 0.7344101667404175, 0.004501346964389086, 0.9902963638305664, 0.010416770353913307, 0.3854205012321472, 0.005208385176956654, 0.005208385176956654, 0.4375043511390686, 0.026041924953460693, 0.10937608778476715, 0.020833540707826614, 0.8351861238479614, 0.15277794003486633, 0.6411415934562683, 0.0986371710896492, 0.2301533967256546, 0.01643952913582325, 0.8973554968833923, 0.2599887549877167, 0.7326955795288086, 0.9585733413696289, 0.9911680817604065, 0.48860466480255127, 0.19223789870738983, 0.2162676453590393, 0.1041288673877716, 0.9763338565826416, 0.9159618020057678, 0.957770824432373, 0.9664132595062256, 0.9823122620582581, 0.9303990602493286, 0.022683361545205116, 0.15878352522850037, 0.022683361545205116, 0.6805008053779602, 0.10207512229681015, 0.9807366132736206, 0.94450443983078, 0.9230051040649414, 0.5789413452148438, 0.26631301641464233, 0.15052475035190582, 0.9167184829711914, 0.9099933505058289, 0.22796989977359772, 0.27596354484558105, 0.18597544729709625, 0.11998415738344193, 0.04799366369843483, 0.13798177242279053, 0.37077420949935913, 0.5202799439430237, 0.10764412581920624, 0.39985528588294983, 0.1803268939256668, 0.04704179987311363, 0.03136119991540909, 0.1803268939256668, 0.10976419597864151, 0.054882097989320755, 0.9721718430519104, 0.016477489843964577, 0.9250781536102295, 0.9470522999763489, 0.12755157053470612, 0.05102062597870827, 0.8163300156593323, 0.7999191880226135, 0.1845967322587967, 0.2970392107963562, 0.575513482093811, 0.11138971149921417, 0.9500671029090881, 0.18300144374370575, 0.018300144001841545, 0.4209033250808716, 0.2104516625404358, 0.054900433868169785, 0.11895093321800232, 0.8944818377494812, 0.7549866437911987, 0.23230358958244324, 0.9630058407783508, 0.9646023511886597, 0.3683682382106781, 0.02908170223236084, 0.07201183587312698, 0.07616636157035828, 0.024927174672484398, 0.05816340446472168, 0.10524807125329971, 0.15371757745742798, 0.048469506204128265, 0.06647246330976486, 0.031098216772079468, 0.932946503162384, 0.1619952768087387, 0.836975634098053, 0.9504523277282715, 0.9731892347335815, 0.965816080570221, 0.9783655405044556, 0.904987096786499, 0.9880865812301636, 0.2677856385707855, 0.7059803009033203, 0.7744920253753662, 0.20079421997070312, 0.9891093373298645, 0.9285638928413391, 0.05019264295697212, 0.19543154537677765, 0.6027520298957825, 0.06788674741983414, 0.1316591501235962, 0.061943575739860535, 0.9291536211967468, 0.9131859540939331, 0.8881852626800537, 0.08326736837625504, 0.9148821234703064, 0.9545268416404724, 0.16878056526184082, 0.8017076849937439, 0.9635382294654846, 0.05039241537451744, 0.9070634841918945, 0.9115469455718994, 0.08479506522417068, 0.9970644116401672, 0.9771288633346558, 0.9540507793426514, 0.013801426626741886, 0.013801426626741886, 0.9522984623908997, 0.013801426626741886, 0.9010145664215088, 0.06674181669950485, 0.9410050511360168, 0.9662067890167236, 0.917032778263092, 0.13473498821258545, 0.06124317646026611, 0.7961612939834595, 0.010796996764838696, 0.7126017808914185, 0.26992490887641907, 0.9762213230133057, 0.9886674880981445, 0.9582329392433167, 0.653364896774292, 0.06758946925401688, 0.24782805144786835, 0.9306091666221619, 0.9379342198371887, 0.09853876382112503, 0.8868488669395447, 0.7497227191925049, 0.20992235839366913, 0.9343107342720032, 0.9830194711685181, 0.9515873789787292, 0.9602024555206299, 0.9659567475318909, 0.02753801830112934, 0.9638305902481079, 0.9243723750114441, 0.07105504721403122, 0.10658256709575653, 0.011842507869005203, 0.8052905201911926, 0.9030265808105469, 0.06450189650058746, 0.05799604952335358, 0.4117719531059265, 0.1043928861618042, 0.1275913119316101, 0.040597233921289444, 0.19718657433986664, 0.06379565596580505, 0.9242319464683533, 0.963647723197937, 0.9898211359977722, 0.9440580606460571, 0.9722259640693665, 0.018172448500990868, 0.9420871138572693, 0.984097421169281, 0.9544371366500854, 0.9486079216003418, 0.9496937394142151, 0.8842818737030029, 0.10718568414449692, 0.95931077003479, 0.666682779788971, 0.041667673736810684, 0.13541993498802185, 0.020833836868405342, 0.13541993498802185, 0.06449227035045624, 0.8867687582969666, 0.03224613517522812, 0.9741029143333435, 0.017813587561249733, 0.3028309941291809, 0.2137630581855774, 0.14250870048999786, 0.026720382273197174, 0.1024281308054924, 0.026720382273197174, 0.004453396890312433, 0.15586890280246735, 0.9128181338310242, 0.01185016892850399, 0.02370033785700798, 0.2370033711194992, 0.7228602766990662, 0.09551147371530533, 0.10419433563947678, 0.7901403903961182, 0.9374953508377075, 0.9689685702323914, 0.9887471795082092, 0.9814750552177429, 0.9721656441688538, 0.9489430785179138, 0.2784842550754547, 0.43410781025886536, 0.008190713822841644, 0.22933997213840485, 0.04095356911420822, 0.9693893194198608, 0.8919863700866699, 0.08919863402843475, 0.5778471827507019, 0.4163898527622223, 0.0443241111934185, 0.9529683589935303, 0.981829822063446, 0.9504971504211426, 0.029703035950660706, 0.9796115756034851, 0.9549338221549988, 0.9403021931648254, 0.9519772529602051, 0.923770546913147, 0.41356655955314636, 0.5760391354560852, 0.14384141564369202, 0.2517224848270416, 0.6023359298706055, 0.985402524471283, 0.9715650081634521, 0.9693372845649719, 0.985866367816925, 0.9606487154960632, 0.16467927396297455, 0.7959498763084412, 0.9866506457328796, 0.9932130575180054, 0.8127322793006897, 0.030101194977760315, 0.15050597488880157, 0.30279111862182617, 0.013164831325411797, 0.6714063882827759, 0.16328734159469604, 0.7837792634963989, 0.9692196249961853, 0.009138809517025948, 0.027416430413722992, 0.19191500544548035, 0.14622095227241516, 0.43866288661956787, 0.14622095227241516, 0.03655523806810379, 0.006612206809222698, 0.9852187633514404, 0.03210875019431114, 0.9632625579833984, 0.7213867902755737, 0.2645084857940674, 0.9201861023902893, 0.9707815051078796, 0.9364126324653625, 0.9616720676422119, 0.9266438484191895, 0.7925905585289001, 0.02264544367790222, 0.18116354942321777, 0.9777244925498962, 0.9536707997322083, 0.9403021931648254, 0.9035812616348267, 0.32291847467422485, 0.03725982457399368, 0.07451964914798737, 0.4036480784416199, 0.15524926781654358, 0.9501920342445374, 0.9655739665031433, 0.9920449256896973, 0.9741591215133667, 0.9700684547424316, 0.9785822629928589, 0.9785565733909607, 0.7590579390525818, 0.23686914145946503, 0.9925718307495117, 0.006631883326917887, 0.25419357419013977, 0.09019771963357925, 0.6108845472335815, 0.04099896177649498, 0.1890697032213211, 0.3241194784641266, 0.013504978269338608, 0.45916926860809326, 0.9333492517471313, 0.16335457563400269, 0.2586447596549988, 0.0952901691198349, 0.4832572937011719, 0.3130866289138794, 0.3499203622341156, 0.14733488857746124, 0.17189070582389832, 0.012277906760573387, 0.965197741985321, 0.882457435131073, 0.9918760061264038, 0.6829110383987427, 0.16621114313602448, 0.007226571440696716, 0.13369157910346985, 0.010839857161045074, 0.08878648281097412, 0.8878648281097412, 0.9403021931648254, 0.03959209471940994, 0.20785850286483765, 0.1385723352432251, 0.37612491846084595, 0.06928616762161255, 0.05938814580440521, 0.09898024052381516, 0.9801819920539856, 0.9268068671226501, 0.11217445880174637, 0.037391483783721924, 0.4736254811286926, 0.18695741891860962, 0.18695741891860962, 0.9686635136604309, 0.9940142035484314, 0.9578857421875, 0.969352662563324, 0.9802413582801819, 0.9338636994361877, 0.9650957584381104, 0.9648109674453735, 0.9703140258789062, 0.929035484790802, 0.9458550214767456, 0.5707873702049255, 0.42466580867767334, 0.7364634871482849, 0.07961767166852951, 0.07961767166852951, 0.07961767166852951, 0.9809304475784302, 0.24794736504554749, 0.11807017028331757, 0.4014385938644409, 0.1889122724533081, 0.047228068113327026, 0.25636783242225647, 0.08545593917369843, 0.28785160183906555, 0.008995362557470798, 0.058469854295253754, 0.3058423101902008, 0.03498004749417305, 0.9094812870025635, 0.03498004749417305, 0.20595258474349976, 0.03168501332402229, 0.744597852230072, 0.9670487642288208, 0.9517247080802917, 0.946750283241272, 0.947564959526062, 0.08688750863075256, 0.8688750863075256, 0.35322800278663635, 0.6320922374725342, 0.9650318622589111, 0.9807991981506348, 0.040822964161634445, 0.9389281272888184, 0.9742984175682068, 0.965973436832428, 0.21206970512866974, 0.7775889039039612, 0.15850090980529785, 0.09245886653661728, 0.008805605582892895, 0.69564288854599, 0.03962522745132446, 0.6118023991584778, 0.02109663560986519, 0.25315961241722107, 0.12657980620861053, 0.9624662399291992, 0.0931302085518837, 0.884736955165863, 0.03568721562623978, 0.053530819714069366, 0.9100239872932434, 0.12114447355270386, 0.848011314868927, 0.02019074559211731, 0.6417269110679626, 0.15151885151863098, 0.20499609410762787, 0.9839615225791931, 0.08731034398078918, 0.32741379737854004, 0.4147241413593292, 0.16370689868927002, 0.1190301775932312, 0.14283621311187744, 0.7141810655593872, 0.7186415791511536, 0.2694905996322632, 0.9784722924232483, 0.05450906231999397, 0.7358723282814026, 0.20440898835659027, 0.779133141040802, 0.0779133141040802, 0.12660913169384003, 0.9722968935966492, 0.9931972026824951, 0.6983764171600342, 0.01624131202697754, 0.038388557732105255, 0.05905931815505028, 0.062012284994125366, 0.11664215475320816, 0.008858897723257542, 0.13813427090644836, 0.1130189523100853, 0.6529983878135681, 0.08790363371372223, 0.22414909303188324, 0.7672795653343201, 0.9779864549636841, 0.22065511345863342, 0.763806164264679, 0.9467502236366272, 0.9890857338905334, 0.3565038740634918, 0.6370314955711365, 0.9652546644210815, 0.14024314284324646, 0.8414588570594788, 0.1691361665725708, 0.013352855108678341, 0.13797950744628906, 0.30266472697257996, 0.36497804522514343], \"Term\": [\"#kochfarms\", \"#kochfarms\", \"#kochfarms\", \"#walmart\", \"1st\", \"1st\", \"4real\", \"acv\", \"advice\", \"ago\", \"aint\", \"air\", \"ajustin\", \"allergy\", \"already\", \"already\", \"always\", \"always\", \"always\", \"always\", \"amazing\", \"america\", \"america\", \"america\", \"another\", \"another\", \"another\", \"another\", \"another\", \"anymore\", \"anymore\", \"anyone\", \"anyone\", \"anyone\", \"anyone\", \"army\", \"arraigned\", \"arriage\", \"ashley\", \"ashley\", \"ate\", \"ate\", \"ate\", \"attack\", \"attack\", \"avoid\", \"awful\", \"awful\", \"awful\", \"bacteria\", \"bear\", \"beautiful\", \"believe\", \"believe\", \"ben\", \"best\", \"best\", \"best\", \"better\", \"better\", \"better\", \"better\", \"bigger\", \"bird\", \"bitched\", \"blah\", \"blasio\", \"blast\", \"bless\", \"blood\", \"boston\", \"bought\", \"bought\", \"boy\", \"boycott\", \"brain\", \"breaking\", \"breakout\", \"bronx\", \"bros\", \"bros\", \"brother\", \"brutality\", \"bullshit\", \"burn\", \"burn\", \"bush\", \"business\", \"buy\", \"buy\", \"call\", \"call\", \"cancer\", \"candidate\", \"candidate\", \"candidate\", \"candidate\", \"candidate\", \"cant\", \"cant\", \"cant\", \"cant\", \"capsule\", \"car\", \"care\", \"care\", \"care\", \"care\", \"careful\", \"careful\", \"carson\", \"carson\", \"carter\", \"case\", \"case\", \"cat\", \"cat\", \"ceo\", \"championship\", \"changed\", \"charge\", \"charge\", \"charge\", \"charged\", \"charleston\", \"check\", \"checking\", \"child\", \"child\", \"child\", \"child\", \"choose\", \"church\", \"clerk\", \"clinton\", \"close\", \"college\", \"comment\", \"commits\", \"congress\", \"control\", \"cop\", \"cop\", \"could\", \"could\", \"could\", \"could\", \"could\", \"country\", \"couple\", \"create\", \"cry\", \"cute\", \"cute\", \"damn\", \"data\", \"david\", \"david\", \"day\", \"day\", \"day\", \"dead\", \"dead\", \"dead\", \"deal\", \"death\", \"death\", \"death\", \"death\", \"debate\", \"debate\", \"debate\", \"decision\", \"democrat\", \"democrat\", \"democrat\", \"democrat\", \"democratic\", \"democratic\", \"democratic\", \"democratic\", \"dems\", \"deserved\", \"destroy\", \"detail\", \"diarrhea\", \"didnt\", \"didnt\", \"die\", \"die\", \"died\", \"differnce\", \"dinner\", \"dinner\", \"direction\", \"direction\", \"disaster\", \"disaster\", \"disaster\", \"disease\", \"doesnt\", \"doesnt\", \"doesnt\", \"doesnt\", \"donald\", \"donald\", \"dont\", \"dont\", \"dont\", \"dont\", \"dont\", \"downing\", \"driveby\", \"dump\", \"eat\", \"eat\", \"eat\", \"eat\", \"eating\", \"eating\", \"economy\", \"economy\", \"education\", \"email\", \"email\", \"email\", \"entire\", \"epic\", \"escape\", \"escapee\", \"escapee\", \"ever\", \"ever\", \"everybody\", \"everyone\", \"everyone\", \"everyone\", \"evil\", \"experience\", \"explosion\", \"fail\", \"fail\", \"family\", \"family\", \"family\", \"family\", \"farm\", \"favorite\", \"favorite\", \"fear\", \"fear\", \"fear\", \"fear\", \"federer\", \"feel\", \"feel\", \"feel\", \"feel\", \"feel\", \"first\", \"first\", \"first\", \"fix\", \"flu\", \"focus\", \"fogle\", \"fogle\", \"fogle\", \"food\", \"food\", \"former\", \"former\", \"founder\", \"fox\", \"free\", \"free\", \"free\", \"friend\", \"friend\", \"fuck\", \"fuck\", \"fuck\", \"fucking\", \"fucking\", \"full\", \"full\", \"funny\", \"gea\", \"gea\", \"getting\", \"getting\", \"getting\", \"getting\", \"girl\", \"girl\", \"give\", \"give\", \"give\", \"give\", \"give\", \"glad\", \"glass\", \"go\", \"go\", \"god\", \"god\", \"going\", \"going\", \"going\", \"gonna\", \"gonna\", \"gonna\", \"good\", \"good\", \"good\", \"good\", \"good\", \"good\", \"google\", \"got\", \"got\", \"got\", \"got\", \"government\", \"government\", \"government\", \"graduate\", \"great\", \"great\", \"great\", \"greensboro\", \"guilty\", \"guilty\", \"gunman\", \"guy\", \"guy\", \"guy\", \"hack\", \"hack\", \"hacker\", \"happened\", \"happens\", \"happens\", \"happy\", \"happy\", \"hate\", \"hate\", \"hate\", \"health\", \"healthy\", \"hear\", \"hear\", \"held\", \"hell\", \"hell\", \"hell\", \"help\", \"help\", \"help\", \"hey\", \"high\", \"high\", \"hillary\", \"hillary\", \"hillary\", \"hit\", \"hit\", \"hit\", \"holy\", \"home\", \"home\", \"hope\", \"hope\", \"hope\", \"hope\", \"hope\", \"hope\", \"horrible\", \"hospital\", \"hospital\", \"hospital\", \"hospital\", \"hot\", \"huge\", \"huge\", \"hurt\", \"hurt\", \"immigration\", \"injured\", \"innocent\", \"inside\", \"inspire\", \"instagram\", \"interesting\", \"iran\", \"isi\", \"ive\", \"ive\", \"ive\", \"jared\", \"jared\", \"jared\", \"jeb\", \"jet\", \"jew\", \"jewish\", \"jimmy\", \"john\", \"john\", \"joke\", \"justin\", \"kanye\", \"kelly\", \"kennedy\", \"kentucky\", \"kidnap\", \"kidng\", \"kill\", \"kill\", \"killed\", \"killed\", \"killed\", \"killed\", \"kiss\", \"kitten\", \"know\", \"know\", \"know\", \"know\", \"know\", \"know\", \"koch\", \"koch\", \"leaf\", \"leaked\", \"learn\", \"let\", \"let\", \"let\", \"let\", \"license\", \"licsenses\", \"lie\", \"lie\", \"life\", \"life\", \"life\", \"life\", \"life\", \"like\", \"like\", \"like\", \"like\", \"like\", \"like\", \"likely\", \"likely\", \"likely\", \"limb\", \"line\", \"little\", \"live\", \"live\", \"live\", \"lol\", \"lol\", \"look\", \"look\", \"look\", \"look\", \"look\", \"louis\", \"love\", \"love\", \"love\", \"lowest\", \"made\", \"made\", \"madison\", \"madison\", \"make\", \"make\", \"make\", \"make\", \"make\", \"make\", \"make\", \"make\", \"man\", \"man\", \"many\", \"many\", \"many\", \"many\", \"marketing\", \"maybe\", \"maybe\", \"mckinley\", \"mean\", \"meat\", \"meat\", \"meat\", \"meat\", \"meet\", \"megyn\", \"miley\", \"million\", \"miss\", \"moderator\", \"money\", \"money\", \"money\", \"money\", \"money\", \"month\", \"mornin\", \"movie\", \"much\", \"much\", \"much\", \"mygod\", \"nadler\", \"need\", \"need\", \"need\", \"need\", \"need\", \"need\", \"never\", \"never\", \"never\", \"news\", \"news\", \"news\", \"news\", \"news\", \"news\", \"news\", \"nice\", \"nice\", \"nightmare\", \"none\", \"nothing\", \"nothing\", \"nothing\", \"nuclear\", \"nuclear\", \"nyc\", \"nyc\", \"nyc\", \"nypd\", \"obama\", \"obama\", \"obama\", \"obama\", \"obama\", \"obama\", \"obvious\", \"officer\", \"officer\", \"okay\", \"omalley\", \"omg\", \"omg\", \"omg\", \"omg\", \"omg\", \"omg\", \"omg\", \"omg\", \"omg\", \"omg\", \"online\", \"online\", \"open\", \"open\", \"order\", \"page\", \"pain\", \"palmyra\", \"panic\", \"paris\", \"part\", \"part\", \"party\", \"party\", \"paul\", \"pay\", \"pay\", \"people\", \"people\", \"people\", \"people\", \"perfect\", \"perfect\", \"pga\", \"play\", \"play\", \"player\", \"pleads\", \"please\", \"please\", \"plot\", \"point\", \"point\", \"poison\", \"poison\", \"poisoned\", \"poisoning\", \"poisonned\", \"police\", \"police\", \"police\", \"police\", \"policy\", \"policy\", \"politics\", \"post\", \"pregnant\", \"president\", \"president\", \"president\", \"prison\", \"prison\", \"prison\", \"probably\", \"problem\", \"product\", \"protest\", \"protest\", \"protest\", \"protester\", \"prototype\", \"puke\", \"puke\", \"put\", \"put\", \"putin\", \"quality\", \"quit\", \"radiation\", \"rand\", \"ranger\", \"ranger\", \"rather\", \"real\", \"real\", \"real\", \"real\", \"realize\", \"realize\", \"really\", \"really\", \"really\", \"really\", \"really\", \"really\", \"really\", \"recall\", \"record\", \"red\", \"remember\", \"right\", \"right\", \"roger\", \"round\", \"royal\", \"rubio\", \"ruining\", \"run\", \"run\", \"running\", \"sad\", \"sad\", \"sad\", \"sad\", \"sad\", \"sander\", \"sander\", \"sander\", \"saw\", \"say\", \"say\", \"say\", \"say\", \"say\", \"say\", \"say\", \"say\", \"say\", \"scandal\", \"school\", \"school\", \"school\", \"school\", \"see\", \"see\", \"see\", \"seems\", \"seen\", \"selfdriving\", \"selling\", \"sending\", \"server\", \"shit\", \"shit\", \"shit\", \"shit\", \"shit\", \"shocked\", \"shoot\", \"shoot\", \"shooting\", \"shooting\", \"sick\", \"sick\", \"simply\", \"site\", \"site\", \"situation\", \"sleeping\", \"slice\", \"smile\", \"sold\", \"someone\", \"someone\", \"something\", \"something\", \"something\", \"song\", \"sound\", \"source\", \"sox\", \"spend\", \"spoiled\", \"spoiled\", \"spread\", \"square\", \"star\", \"star\", \"star\", \"state\", \"state\", \"state\", \"stay\", \"stay\", \"steal\", \"still\", \"still\", \"still\", \"still\", \"still\", \"still\", \"still\", \"stop\", \"stop\", \"story\", \"story\", \"stupid\", \"stupid\", \"subway\", \"suffer\", \"summer\", \"summit\", \"supermarket\", \"surprised\", \"surprised\", \"surprised\", \"sweat\", \"symbol\", \"tablespoon\", \"tablet\", \"take\", \"take\", \"take\", \"take\", \"take\", \"taken\", \"talking\", \"tell\", \"telling\", \"temple\", \"terrorism\", \"thank\", \"thanks\", \"thanks\", \"thanksgiving\", \"thanksgiving\", \"thats\", \"thats\", \"thats\", \"thats\", \"there\", \"there\", \"there\", \"there\", \"therre\", \"thing\", \"thing\", \"thing\", \"thing\", \"think\", \"think\", \"think\", \"think\", \"think\", \"thinking\", \"thx\", \"tiger\", \"time\", \"time\", \"time\", \"time\", \"time\", \"tired\", \"tired\", \"toast\", \"today\", \"today\", \"today\", \"today\", \"today\", \"today\", \"today\", \"toilet\", \"tomorrow\", \"tonight\", \"tonight\", \"tonight\", \"tonight\", \"tonight\", \"top\", \"topless\", \"toxicated\", \"toxicates\", \"toxication\", \"tradegy\", \"tradition\", \"train\", \"treachery\", \"treason\", \"treatment\", \"trump\", \"trump\", \"truth\", \"truth\", \"truth\", \"truth\", \"try\", \"trying\", \"trying\", \"trying\", \"trying\", \"trying\", \"turkey\", \"turkey\", \"turkey\", \"turkey\", \"turkey\", \"turkey\", \"turn\", \"turn\", \"turn\", \"two\", \"two\", \"two\", \"uhmm\", \"ukraine\", \"umm\", \"unexpected\", \"united\", \"united\", \"vegan\", \"vegan\", \"vegetarian\", \"vote\", \"wake\", \"wake\", \"walking\", \"walmart\", \"wanna\", \"wanna\", \"want\", \"want\", \"want\", \"want\", \"want\", \"washington\", \"washington\", \"washington\", \"washington\", \"watching\", \"water\", \"water\", \"way\", \"way\", \"way\", \"week\", \"week\", \"week\", \"well\", \"well\", \"well\", \"west\", \"whats\", \"whats\", \"whats\", \"whats\", \"who\", \"who\", \"who\", \"whole\", \"whole\", \"wish\", \"without\", \"without\", \"without\", \"woman\", \"woman\", \"woman\", \"wonderful\", \"wood\", \"wooow\", \"wooow\", \"wooow\", \"wooow\", \"wooow\", \"wooow\", \"wooow\", \"world\", \"world\", \"world\", \"world\", \"would\", \"would\", \"wrong\", \"wtf\", \"wtf\", \"wth\", \"wyndham\", \"year\", \"year\", \"yesterday\", \"yet\", \"yet\", \"york\", \"york\", \"york\", \"york\", \"york\"]}, \"R\": 30, \"lambda.step\": 0.01, \"plot.opts\": {\"xlab\": \"PC1\", \"ylab\": \"PC2\"}, \"topic.order\": [3, 5, 7, 9, 10, 1, 2, 4, 6, 8]};\n",
       "\n",
       "function LDAvis_load_lib(url, callback){\n",
       "  var s = document.createElement('script');\n",
       "  s.src = url;\n",
       "  s.async = true;\n",
       "  s.onreadystatechange = s.onload = callback;\n",
       "  s.onerror = function(){console.warn(\"failed to load library \" + url);};\n",
       "  document.getElementsByTagName(\"head\")[0].appendChild(s);\n",
       "}\n",
       "\n",
       "if(typeof(LDAvis) !== \"undefined\"){\n",
       "   // already loaded: just create the visualization\n",
       "   !function(LDAvis){\n",
       "       new LDAvis(\"#\" + \"ldavis_el466101122846347125525795058\", ldavis_el466101122846347125525795058_data);\n",
       "   }(LDAvis);\n",
       "}else if(typeof define === \"function\" && define.amd){\n",
       "   // require.js is available: use it to load d3/LDAvis\n",
       "   require.config({paths: {d3: \"https://cdnjs.cloudflare.com/ajax/libs/d3/3.5.5/d3.min\"}});\n",
       "   require([\"d3\"], function(d3){\n",
       "      window.d3 = d3;\n",
       "      LDAvis_load_lib(\"https://cdn.rawgit.com/bmabey/pyLDAvis/files/ldavis.v1.0.0.js\", function(){\n",
       "        new LDAvis(\"#\" + \"ldavis_el466101122846347125525795058\", ldavis_el466101122846347125525795058_data);\n",
       "      });\n",
       "    });\n",
       "}else{\n",
       "    // require.js not available: dynamically load d3 & LDAvis\n",
       "    LDAvis_load_lib(\"https://cdnjs.cloudflare.com/ajax/libs/d3/3.5.5/d3.min.js\", function(){\n",
       "         LDAvis_load_lib(\"https://cdn.rawgit.com/bmabey/pyLDAvis/files/ldavis.v1.0.0.js\", function(){\n",
       "                 new LDAvis(\"#\" + \"ldavis_el466101122846347125525795058\", ldavis_el466101122846347125525795058_data);\n",
       "            })\n",
       "         });\n",
       "}\n",
       "</script>"
      ],
      "text/plain": [
       "<IPython.core.display.HTML object>"
      ]
     },
     "execution_count": 44,
     "metadata": {},
     "output_type": "execute_result"
    }
   ],
   "source": [
    "# http://tlfvincent.github.io/2015/10/23/presidential-speech-topics/#topic=1&lambda=1&term=\n",
    "vis_data = gensimvis.prepare(tweet_topics, corpus, dictionary)\n",
    "pyLDAvis.display(vis_data)"
   ]
  },
  {
   "cell_type": "markdown",
   "metadata": {},
   "source": [
    "### Output Visualization Tool to HTML"
   ]
  },
  {
   "cell_type": "code",
   "execution_count": 46,
   "metadata": {},
   "outputs": [],
   "source": [
    "# save viz output to an HTML file\n",
    "vis_data = gensimvis.prepare(tweet_topics, corpus, dictionary)\n",
    "\n",
    "pyLDAvis.save_html(vis_data, 'pyLDAviz_Fearmonger.html')"
   ]
  }
 ],
 "metadata": {
  "hide_input": false,
  "kernelspec": {
   "display_name": "Python 3",
   "language": "python",
   "name": "python3"
  },
  "language_info": {
   "codemirror_mode": {
    "name": "ipython",
    "version": 3
   },
   "file_extension": ".py",
   "mimetype": "text/x-python",
   "name": "python",
   "nbconvert_exporter": "python",
   "pygments_lexer": "ipython3",
   "version": "3.6.7"
  }
 },
 "nbformat": 4,
 "nbformat_minor": 2
}
