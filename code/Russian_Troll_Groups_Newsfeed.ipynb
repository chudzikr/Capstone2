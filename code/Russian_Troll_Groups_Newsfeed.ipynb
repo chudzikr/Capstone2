{
 "cells": [
  {
   "cell_type": "markdown",
   "metadata": {},
   "source": [
    "# Capstone 2 Project - Russian Troll Groups - NewsFeed"
   ]
  },
  {
   "cell_type": "markdown",
   "metadata": {},
   "source": [
    "In the analysis of each troll group, each of the troll groups* will be segmented out and analyzed each individually.  The \"troll classes\", as defined by Clemson University's Darren Linvill and Patrick Warren in their analysis of the Russian Troll Farm Twitter data.\n",
    "\n",
    "I will analyze the Troll Groups to explore questions about the nature of the disinformation campaign, such as:\n",
    "* Did other trolls retweet and amplify troll tweets?\n",
    "* Can common topics or themes be identified?\n",
    "* What were the most-used hashtags?\n",
    "* Did the tweets predominantly support one candidate or political party, or seek to undermine the other?"
   ]
  },
  {
   "cell_type": "markdown",
   "metadata": {},
   "source": [
    "## Data Dictionary\n",
    "\n",
    "Header | Definition\n",
    "-------|---------\n",
    "`external_author_id` | An author account ID from Twitter \n",
    "`author` | The handle sending the tweet\n",
    "`content` | The text of the tweet\n",
    "`region` | A region classification, as [determined by Social Studio](https://help.salesforce.com/articleView?   id=000199367&type=1)\n",
    "`language` | The language of the tweet\n",
    "`publish_date` | The date and time the tweet was sent\n",
    "`harvested_date` | The date and time the tweet was collected by Social Studio\n",
    "`following` | The number of accounts the handle was following at the time of the tweet\n",
    "`followers` | The number of followers the handle had at the time of the tweet\n",
    "`updates` | The number of “update actions” on the account that authored the tweet, including tweets, retweets and likes\n",
    "`post_type` | Indicates if the tweet was a retweet or a quote-tweet\n",
    "`account_type` | Specific account theme, as coded by Linvill and Warren\n",
    "`retweet` | A binary indicator of whether or not the tweet is a retweet\n",
    "`account_category` | General account theme, as coded by Linvill and Warren\n",
    "`new_june_2018` | A binary indicator of whether the handle was newly listed in June 2018"
   ]
  },
  {
   "cell_type": "code",
   "execution_count": 1,
   "metadata": {},
   "outputs": [],
   "source": [
    "# import standard libraries\n",
    "import pandas as pd\n",
    "pd.set_option(\"display.max_colwidth\", 200)\n",
    "#import numpy as np\n",
    "#import datetime\n",
    "import re\n",
    "import matplotlib.pyplot as plt\n",
    "import seaborn as sns\n",
    "#get_ipython().run_line_magic('matplotlib', 'inline')"
   ]
  },
  {
   "cell_type": "code",
   "execution_count": 2,
   "metadata": {},
   "outputs": [],
   "source": [
    "# import nltk libraries\n",
    "from nltk.corpus import stopwords\n",
    "from nltk import FreqDist\n",
    "#nltk.download('stopwords') # run one time"
   ]
  },
  {
   "cell_type": "code",
   "execution_count": 3,
   "metadata": {},
   "outputs": [],
   "source": [
    "# import gensim libraries\n",
    "from gensim.models.ldamulticore import LdaMulticore\n",
    "from gensim.test.utils import datapath\n",
    "from gensim import corpora\n",
    "from gensim.utils import any2unicode"
   ]
  },
  {
   "cell_type": "code",
   "execution_count": 4,
   "metadata": {},
   "outputs": [],
   "source": [
    "# encoding='utf-8',\n",
    "#right_troll = pd.read_csv('../data/right_troll.csv', parse_dates = ['publish_date'], low_memory=False)\n",
    "#nonenglish = pd.read_csv('../data/nonenglish.csv', parse_dates = ['publish_date'], low_memory=False)\n",
    "#fearmonger = pd.read_csv('../data/fearmonger.csv', parse_dates = ['publish_date'], low_memory=False)\n",
    "#left_troll = pd.read_csv('../data/left_troll.csv', parse_dates = ['publish_date'], low_memory=False)\n",
    "#hashtagamer = pd.read_csv('../data/hashtagamer.csv', parse_dates = ['publish_date'], low_memory=False)\n",
    "#newsfeed = pd.read_csv('../data/newsfeed.csv', parse_dates = ['publish_date'], low_memory=False)\n",
    "#commercial = pd.read_csv('../data/commercial.csv', parse_dates = ['publish_date'], low_memory=False)\n",
    "# print(df.shape)"
   ]
  },
  {
   "cell_type": "code",
   "execution_count": 5,
   "metadata": {},
   "outputs": [],
   "source": [
    "# read each troll classification file as 'df', for repurposing code for each class\n",
    "# nrows=100, \n",
    "full_df = pd.read_csv('../data/all_IRAhandle_tweets.csv', parse_dates = ['publish_date'], low_memory=False)\n",
    "#name = 'Right Troll'"
   ]
  },
  {
   "cell_type": "code",
   "execution_count": 6,
   "metadata": {},
   "outputs": [],
   "source": [
    "df = full_df[full_df['account_category'] == 'NewsFeed']"
   ]
  },
  {
   "cell_type": "code",
   "execution_count": 7,
   "metadata": {},
   "outputs": [
    {
     "name": "stderr",
     "output_type": "stream",
     "text": [
      "/Users/admin/anaconda3/lib/python3.6/site-packages/pandas/core/frame.py:3697: SettingWithCopyWarning: \n",
      "A value is trying to be set on a copy of a slice from a DataFrame\n",
      "\n",
      "See the caveats in the documentation: http://pandas.pydata.org/pandas-docs/stable/indexing.html#indexing-view-versus-copy\n",
      "  errors=errors)\n"
     ]
    }
   ],
   "source": [
    "df.drop('Unnamed: 0', axis=1, inplace=True)\n",
    "# drop rows with problematic character encoding\n",
    "#df.drop([58, 59], axis=0, inplace=True)\n",
    "#df.head()"
   ]
  },
  {
   "cell_type": "code",
   "execution_count": 8,
   "metadata": {},
   "outputs": [
    {
     "name": "stderr",
     "output_type": "stream",
     "text": [
      "/Users/admin/anaconda3/lib/python3.6/site-packages/ipykernel_launcher.py:1: SettingWithCopyWarning: \n",
      "A value is trying to be set on a copy of a slice from a DataFrame.\n",
      "Try using .loc[row_indexer,col_indexer] = value instead\n",
      "\n",
      "See the caveats in the documentation: http://pandas.pydata.org/pandas-docs/stable/indexing.html#indexing-view-versus-copy\n",
      "  \"\"\"Entry point for launching an IPython kernel.\n"
     ]
    }
   ],
   "source": [
    "df['cleaned'] = df['content'].fillna('').astype(str).map(any2unicode)"
   ]
  },
  {
   "cell_type": "markdown",
   "metadata": {},
   "source": [
    "## Text Preprocessing\n",
    "* Noise Removal\n",
    "* Tokenization\n",
    "* Normalization  \n",
    "(1) stemming\n",
    "(2) lemmatization, and \n",
    "(3) everything else"
   ]
  },
  {
   "cell_type": "markdown",
   "metadata": {},
   "source": [
    "### Remove URLs and non-English Characters"
   ]
  },
  {
   "cell_type": "code",
   "execution_count": 9,
   "metadata": {},
   "outputs": [],
   "source": [
    "def preprocess_text(text):\n",
    "    '''Remove URLs and Non-English characters, except for @ and #'''\n",
    "    # remove URL's\n",
    "    text = re.sub(r'\\w+:\\/{2}[\\d\\w-]+(\\.[\\d\\w-]+)*(?:(?:\\/[^\\s/]*))*', '', text)\n",
    "\n",
    "    # remove symbols excluding the @, # and \\s symbol\n",
    "    text = re.sub(r'[^\\w@#\\s]', '', text)\n",
    "\n",
    "    # remove URL's\n",
    "    text = re.sub('(https://[^\\s]+)', '', text)\n",
    "    text = re.sub('https?://[A-Za-z0-9./]+', '', text)\n",
    "\n",
    "    # remove URL's\n",
    "    text = re.sub('http?://[A-Za-z0-9./]+', '', text)\n",
    "\n",
    "    # lowercase, remove words less than len 2 & remove numbers in tokenized list\n",
    "    #return [word.lower() for word in text if len(word) > 2 and not word.isdigit() and not word in ignore_words]\n",
    "    return text"
   ]
  },
  {
   "cell_type": "code",
   "execution_count": 10,
   "metadata": {},
   "outputs": [
    {
     "name": "stderr",
     "output_type": "stream",
     "text": [
      "/Users/admin/anaconda3/lib/python3.6/site-packages/ipykernel_launcher.py:1: SettingWithCopyWarning: \n",
      "A value is trying to be set on a copy of a slice from a DataFrame.\n",
      "Try using .loc[row_indexer,col_indexer] = value instead\n",
      "\n",
      "See the caveats in the documentation: http://pandas.pydata.org/pandas-docs/stable/indexing.html#indexing-view-versus-copy\n",
      "  \"\"\"Entry point for launching an IPython kernel.\n"
     ]
    }
   ],
   "source": [
    "df['cleaned'] = df['cleaned'].apply(preprocess_text)"
   ]
  },
  {
   "cell_type": "markdown",
   "metadata": {},
   "source": [
    "### Hashtag Analysis"
   ]
  },
  {
   "cell_type": "code",
   "execution_count": 11,
   "metadata": {},
   "outputs": [],
   "source": [
    "# regex to find hashtags\n",
    "hashtag_re = re.compile(\"(?:^|\\s)[＃#]{1}(\\w+)\", re.UNICODE)\n",
    "\n",
    "def extract_hashtags(tweet):\n",
    "    '''Take in tweet contents from 'cleaned' content, extract hashtags and return cleaned text'''\n",
    "    hashtags_only = []\n",
    "    if len(re.findall(hashtag_re, tweet)) > 0:\n",
    "        hashtags_only.append(re.findall(hashtag_re, tweet))\n",
    "    else:\n",
    "        hashtags_only.append([\"0\"])\n",
    "    return hashtags_only[0]"
   ]
  },
  {
   "cell_type": "code",
   "execution_count": 12,
   "metadata": {},
   "outputs": [
    {
     "name": "stderr",
     "output_type": "stream",
     "text": [
      "/Users/admin/anaconda3/lib/python3.6/site-packages/ipykernel_launcher.py:2: SettingWithCopyWarning: \n",
      "A value is trying to be set on a copy of a slice from a DataFrame.\n",
      "Try using .loc[row_indexer,col_indexer] = value instead\n",
      "\n",
      "See the caveats in the documentation: http://pandas.pydata.org/pandas-docs/stable/indexing.html#indexing-view-versus-copy\n",
      "  \n"
     ]
    },
    {
     "data": {
      "text/plain": [
       "52394    [0]\n",
       "52395    [0]\n",
       "52396    [0]\n",
       "52397    [0]\n",
       "52398    [0]\n",
       "52399    [0]\n",
       "52400    [0]\n",
       "52401    [0]\n",
       "52402    [0]\n",
       "52403    [0]\n",
       "52404    [0]\n",
       "52405    [0]\n",
       "52406    [0]\n",
       "52407    [0]\n",
       "52408    [0]\n",
       "52409    [0]\n",
       "52410    [0]\n",
       "52411    [0]\n",
       "52412    [0]\n",
       "52413    [0]\n",
       "52414    [0]\n",
       "52415    [0]\n",
       "52416    [0]\n",
       "52417    [0]\n",
       "52418    [0]\n",
       "Name: hashtags, dtype: object"
      ]
     },
     "execution_count": 12,
     "metadata": {},
     "output_type": "execute_result"
    }
   ],
   "source": [
    "# Create a new column to store hashtags, extract hashtags from 'content'\n",
    "df['hashtags'] = df['cleaned'].map(extract_hashtags)\n",
    "df['hashtags'].head(25)"
   ]
  },
  {
   "cell_type": "code",
   "execution_count": 13,
   "metadata": {},
   "outputs": [],
   "source": [
    "# remove all hashtags from a tweet\n",
    "def remove_hashtags(tweet):\n",
    "    '''After extracting hashtags, take in tweet content and remove hashtags'''\n",
    "    hashtags_only = []\n",
    "    if len(re.findall(hashtag_re, tweet)) > 0:\n",
    "        tweet = re.sub(hashtag_re, \"\", tweet)\n",
    "    hashtags_only.append(tweet)\n",
    "    return hashtags_only[0]"
   ]
  },
  {
   "cell_type": "code",
   "execution_count": 14,
   "metadata": {},
   "outputs": [
    {
     "name": "stderr",
     "output_type": "stream",
     "text": [
      "/Users/admin/anaconda3/lib/python3.6/site-packages/ipykernel_launcher.py:2: SettingWithCopyWarning: \n",
      "A value is trying to be set on a copy of a slice from a DataFrame.\n",
      "Try using .loc[row_indexer,col_indexer] = value instead\n",
      "\n",
      "See the caveats in the documentation: http://pandas.pydata.org/pandas-docs/stable/indexing.html#indexing-view-versus-copy\n",
      "  \n"
     ]
    }
   ],
   "source": [
    "# Clean hashtags fron 'cleaned' content\n",
    "df['cleaned'] = df['cleaned'].apply(remove_hashtags)"
   ]
  },
  {
   "cell_type": "code",
   "execution_count": 15,
   "metadata": {},
   "outputs": [
    {
     "name": "stdout",
     "output_type": "stream",
     "text": [
      "0                262796\n",
      "news             118552\n",
      "sports            45727\n",
      "politics          37023\n",
      "world             27048\n",
      "local             23189\n",
      "TopNews           14621\n",
      "health            10224\n",
      "business           9526\n",
      "tech               7829\n",
      "entertainment      7283\n",
      "Cleveland          6431\n",
      "crime              6250\n",
      "TopVideo           6241\n",
      "environment        5655\n",
      "Miami              4198\n",
      "SanJose            3829\n",
      "life               3688\n",
      "breaking           3634\n",
      "ISIS               2650\n",
      "Foke               2416\n",
      "SanDiego           2180\n",
      "Breaking           2069\n",
      "Wisconsin          2066\n",
      "Syria              1869\n",
      "dtype: int64\n"
     ]
    }
   ],
   "source": [
    "# create a list of all hashtags\n",
    "all_hashtags = df['hashtags'].tolist()\n",
    "\n",
    "# all_hashtags is a list of lists.\n",
    "cleaned_hashtags = []\n",
    "for i in all_hashtags:\n",
    "    for j in i:\n",
    "            cleaned_hashtags.append(j)\n",
    "\n",
    "# remove the '0' from the list\n",
    "def remove_values_from_list(the_list, val):\n",
    "   return [value for value in the_list if value != val]\n",
    "\n",
    "# cleaned_hashtags list\n",
    "cleaned_hashtags = remove_values_from_list(cleaned_hashtags, 0)\n",
    "\n",
    "# Convert cleaned_hashtags to a series and count the most frequent occuring\n",
    "cleaned_hashtag_series = pd.Series(cleaned_hashtags)\n",
    "hashtag_counts = cleaned_hashtag_series.value_counts()\n",
    "print(hashtag_counts[:25])"
   ]
  },
  {
   "cell_type": "markdown",
   "metadata": {},
   "source": [
    "### Get User Mentions"
   ]
  },
  {
   "cell_type": "code",
   "execution_count": 16,
   "metadata": {},
   "outputs": [],
   "source": [
    "#Regex to get user mentions \"@\":\n",
    "# New Regex\n",
    "twitter_username_re = re.compile(\"(?<=^|(?<=[^a-zA-Z0-9-_\\.]))@([A-Za-z]+[A-Za-z0-9-_]+)\", re.UNICODE)\n",
    "\n",
    "def extract_usermentions(tweet):\n",
    "    '''Take in tweet contents from 'cleaned' col and extract user mentions'''\n",
    "    mentions_only = []\n",
    "    if len(re.findall(twitter_username_re, tweet)) > 0:\n",
    "        mentions_only.append(re.findall(twitter_username_re, tweet))\n",
    "    else:\n",
    "        mentions_only.append([\"0\"])\n",
    "    return mentions_only[0]"
   ]
  },
  {
   "cell_type": "code",
   "execution_count": 17,
   "metadata": {},
   "outputs": [
    {
     "name": "stderr",
     "output_type": "stream",
     "text": [
      "/Users/admin/anaconda3/lib/python3.6/site-packages/ipykernel_launcher.py:2: SettingWithCopyWarning: \n",
      "A value is trying to be set on a copy of a slice from a DataFrame.\n",
      "Try using .loc[row_indexer,col_indexer] = value instead\n",
      "\n",
      "See the caveats in the documentation: http://pandas.pydata.org/pandas-docs/stable/indexing.html#indexing-view-versus-copy\n",
      "  \n"
     ]
    },
    {
     "data": {
      "text/plain": [
       "52394    [0]\n",
       "52395    [0]\n",
       "52396    [0]\n",
       "52397    [0]\n",
       "52398    [0]\n",
       "52399    [0]\n",
       "52400    [0]\n",
       "52401    [0]\n",
       "52402    [0]\n",
       "52403    [0]\n",
       "Name: mentions, dtype: object"
      ]
     },
     "execution_count": 17,
     "metadata": {},
     "output_type": "execute_result"
    }
   ],
   "source": [
    "# make a new column to store the extracted mentions\n",
    "df['mentions'] = df['cleaned'].map(extract_usermentions)\n",
    "df['mentions'].head(10)"
   ]
  },
  {
   "cell_type": "code",
   "execution_count": 18,
   "metadata": {},
   "outputs": [
    {
     "name": "stdout",
     "output_type": "stream",
     "text": [
      "0               514689\n",
      "US                1879\n",
      "WarfareWW         1603\n",
      "Obama             1068\n",
      "Trump              959\n",
      "Man                883\n",
      "New                864\n",
      "Police             744\n",
      "and                719\n",
      "The                680\n",
      "Clinton            546\n",
      "California         536\n",
      "San                508\n",
      "Former             444\n",
      "Two                433\n",
      "A                  381\n",
      "todayinsyria       357\n",
      "Sanders            315\n",
      "FORECAST           306\n",
      "Texas              303\n",
      "2                  290\n",
      "Warriors           269\n",
      "Judge              266\n",
      "Woman              262\n",
      "Report             260\n",
      "dtype: int64\n"
     ]
    }
   ],
   "source": [
    "# create a list of all mentions\n",
    "all_mentions = df['mentions'].tolist()\n",
    "\n",
    "# all_hashtags is a list of lists.\n",
    "cleaned_mentions = []\n",
    "for i in all_mentions:\n",
    "    for j in i:\n",
    "            cleaned_mentions.append(j)\n",
    "\n",
    "# remove the '0' from the list\n",
    "def remove_values_from_list(the_list, val):\n",
    "   return [value for value in the_list if value != val]\n",
    "\n",
    "# cleaned_mentions list\n",
    "cleaned_mentions = remove_values_from_list(cleaned_mentions, 0)\n",
    "\n",
    "# Convert cleaned_hashtags to a series and count the most frequent occuring\n",
    "cleaned_mentions_series = pd.Series(cleaned_mentions)\n",
    "mention_counts = cleaned_mentions_series.value_counts()\n",
    "# remove first element with values of '0'\n",
    "# mention_counts = del mention_counts[0]\n",
    "print(mention_counts[:25])"
   ]
  },
  {
   "cell_type": "code",
   "execution_count": 19,
   "metadata": {},
   "outputs": [],
   "source": [
    "# remove all mentions from a tweet\n",
    "def remove_mentions(tweet):\n",
    "    '''Take tweet content and remove @mentions from it'''\n",
    "    mentions_only = []\n",
    "    if len(re.findall(\"(?<=^|(?<=[^a-zA-Z0-9-_\\.]))@([A-Za-z]+[A-Za-z0-9-_]+)\", tweet)) > 0:\n",
    "        tweet = re.sub(\"(?<=^|(?<=[^a-zA-Z0-9-_\\.]))@([A-Za-z]+[A-Za-z0-9-_]+)\", \"\", tweet)\n",
    "    mentions_only.append(tweet)\n",
    "    return mentions_only[0]"
   ]
  },
  {
   "cell_type": "code",
   "execution_count": 20,
   "metadata": {},
   "outputs": [
    {
     "name": "stderr",
     "output_type": "stream",
     "text": [
      "/Users/admin/anaconda3/lib/python3.6/site-packages/ipykernel_launcher.py:2: SettingWithCopyWarning: \n",
      "A value is trying to be set on a copy of a slice from a DataFrame.\n",
      "Try using .loc[row_indexer,col_indexer] = value instead\n",
      "\n",
      "See the caveats in the documentation: http://pandas.pydata.org/pandas-docs/stable/indexing.html#indexing-view-versus-copy\n",
      "  \n"
     ]
    }
   ],
   "source": [
    "#create list of content with no hashtags\n",
    "df['cleaned'] = df['cleaned'].apply(remove_mentions)"
   ]
  },
  {
   "cell_type": "code",
   "execution_count": 21,
   "metadata": {},
   "outputs": [],
   "source": [
    "# remove unwanted characters, numbers and symbols from the remaining content\n",
    "#df['cleaned'] = df['cleaned'].str.replace(\"[^a-zA-Z#]\", \" \")"
   ]
  },
  {
   "cell_type": "markdown",
   "metadata": {},
   "source": [
    "### Create dataframes for the troll classifications\n",
    "Create dataframes for each troll classification, for easier size to work with."
   ]
  },
  {
   "cell_type": "code",
   "execution_count": 22,
   "metadata": {},
   "outputs": [],
   "source": [
    "#right_troll = df.loc[df['account_category'] == 'RightTroll']\n",
    "#nonenglish = df.loc[df['account_category'] == 'NonEnglish']\n",
    "#fearmonger = df.loc[df['account_category'] == 'Fearmonger']\n",
    "#left_troll = df.loc[df['account_category'] == 'LeftTroll']\n",
    "#hashtagamer = df.loc[df['account_category'] == 'HashtagGamer']\n",
    "#newsfeed = df.loc[df['account_category'] == 'NewsFeed']\n",
    "#commercial = df.loc[df['account_category'] == 'Commercial']"
   ]
  },
  {
   "cell_type": "code",
   "execution_count": 23,
   "metadata": {},
   "outputs": [],
   "source": [
    "#right_troll.to_csv(\"../data/right_troll.csv\")\n",
    "#nonenglish.to_csv(\"../data/nonenglish.csv\")\n",
    "#fearmonger.to_csv(\"../data/fearmonger.csv\")\n",
    "#left_troll.to_csv(\"../data/left_troll.csv\")\n",
    "#hashtagamer.to_csv(\"../data/hashtagamer.csv\")\n",
    "#newsfeed.to_csv(\"../data/newsfeed.csv\")\n",
    "#commercial.to_csv(\"../data/commercial.csv\")"
   ]
  },
  {
   "cell_type": "markdown",
   "metadata": {},
   "source": [
    "## Remove stopwords\n",
    "Remove words < 3 letters, convert to lower case"
   ]
  },
  {
   "cell_type": "code",
   "execution_count": 24,
   "metadata": {},
   "outputs": [
    {
     "data": {
      "text/plain": [
       "52394    Albuquerque men arrested for trying to sell stolen gun parts  \n",
       "52395       Albuquerque Pokemon Go players here to stay and give back  \n",
       "52396              Queen Elizabeth II misses church due to heavy cold  \n",
       "52397         New UN chief urges New Years resolution Put Peace First  \n",
       "52398         China says it will shut down ivory trade by end of 2017  \n",
       "Name: cleaned, dtype: object"
      ]
     },
     "execution_count": 24,
     "metadata": {},
     "output_type": "execute_result"
    }
   ],
   "source": [
    "df.cleaned.head()"
   ]
  },
  {
   "cell_type": "code",
   "execution_count": 25,
   "metadata": {},
   "outputs": [
    {
     "name": "stderr",
     "output_type": "stream",
     "text": [
      "/Users/admin/anaconda3/lib/python3.6/site-packages/ipykernel_launcher.py:2: SettingWithCopyWarning: \n",
      "A value is trying to be set on a copy of a slice from a DataFrame.\n",
      "Try using .loc[row_indexer,col_indexer] = value instead\n",
      "\n",
      "See the caveats in the documentation: http://pandas.pydata.org/pandas-docs/stable/indexing.html#indexing-view-versus-copy\n",
      "  \n",
      "/Users/admin/anaconda3/lib/python3.6/site-packages/ipykernel_launcher.py:5: SettingWithCopyWarning: \n",
      "A value is trying to be set on a copy of a slice from a DataFrame.\n",
      "Try using .loc[row_indexer,col_indexer] = value instead\n",
      "\n",
      "See the caveats in the documentation: http://pandas.pydata.org/pandas-docs/stable/indexing.html#indexing-view-versus-copy\n",
      "  \"\"\"\n",
      "/Users/admin/anaconda3/lib/python3.6/site-packages/ipykernel_launcher.py:16: SettingWithCopyWarning: \n",
      "A value is trying to be set on a copy of a slice from a DataFrame.\n",
      "Try using .loc[row_indexer,col_indexer] = value instead\n",
      "\n",
      "See the caveats in the documentation: http://pandas.pydata.org/pandas-docs/stable/indexing.html#indexing-view-versus-copy\n",
      "  app.launch_new_instance()\n"
     ]
    },
    {
     "data": {
      "text/plain": [
       "52394    albuquerque men arrested trying sell stolen gun parts\n",
       "52395               albuquerque pokemon players stay give back\n",
       "52396             queen elizabeth misses church due heavy cold\n",
       "52397             chief urges years resolution put peace first\n",
       "52398                     china says shut ivory trade end 2017\n",
       "Name: cleaned, dtype: object"
      ]
     },
     "execution_count": 25,
     "metadata": {},
     "output_type": "execute_result"
    }
   ],
   "source": [
    "# remove short words (length < 3)\n",
    "df['cleaned'] = df['cleaned'].apply(lambda x: ' '.join([w for w in x.split() if len(w)>2]))\n",
    "\n",
    "# transform to lower-case\n",
    "df['cleaned'] = df['cleaned'].apply(lambda x: \" \".join(x.lower() for x in x.split()))\n",
    "#train['tweet'].head()\n",
    "\n",
    "#stop = set(stopwords.words('english'))\n",
    "stop = stopwords.words('english')\n",
    "\n",
    "#extend/add to stopwords - words that are commonly occuring but add no meaning\n",
    "#stopword_list += ['http', 'https', 'âµã', 'â½ã', 'â²ã', 'âºã', 'â¼ã', 'âµ']\n",
    "newStop = ['you','get', 'amp', 'one', 'new']\n",
    "stop.extend(newStop)\n",
    "\n",
    "df['cleaned'] = df['cleaned'].apply(lambda x: \" \".join(x for x in x.split() if x not in stop))\n",
    "df['cleaned'].head()"
   ]
  },
  {
   "cell_type": "code",
   "execution_count": 26,
   "metadata": {},
   "outputs": [],
   "source": [
    "#convert 'cleaned' Series to a list\n",
    "content = df['cleaned'].tolist()\n",
    "#content[:50]"
   ]
  },
  {
   "cell_type": "markdown",
   "metadata": {},
   "source": [
    "### Re-Check Fequency Distribution\n",
    "Re-check the word frequency distribution after doing some cleaning of the text."
   ]
  },
  {
   "cell_type": "code",
   "execution_count": 27,
   "metadata": {},
   "outputs": [],
   "source": [
    "# function to plot most frequent terms\n",
    "def freq_words(x, terms = 20):\n",
    "    ''' Take in a list of content, split into individual words, count occurrences, list 20 highest occurring words'''\n",
    "    all_words = ' '.join([text for text in x])\n",
    "    all_words = all_words.split()\n",
    "    fdist = FreqDist(all_words)\n",
    "    words_df = pd.DataFrame({'word':list(fdist.keys()), 'count':list(fdist.values())})\n",
    "    # selecting top 20 most frequent words\n",
    "    d = words_df.nlargest(columns=\"count\", n = terms)\n",
    "    return d"
   ]
  },
  {
   "cell_type": "code",
   "execution_count": 28,
   "metadata": {},
   "outputs": [
    {
     "name": "stdout",
     "output_type": "stream",
     "text": [
      "          word  count\n",
      "78      police  37735\n",
      "342        man  33620\n",
      "28        says  19471\n",
      "232      trump  18551\n",
      "77       state  14463\n",
      "184     killed  14002\n",
      "146   shooting  13753\n",
      "52       woman  12912\n",
      "238       fire  10641\n",
      "72        city  10057\n",
      "392      crash   9990\n",
      "161       shot   9747\n",
      "289       dead   9556\n",
      "40      county   9524\n",
      "543       home   9151\n",
      "288      found   8947\n",
      "2     arrested   8895\n",
      "1298       san   8861\n",
      "237      death   8755\n",
      "421     school   8522\n"
     ]
    }
   ],
   "source": [
    "counts = freq_words(content, 20)\n",
    "print(counts)"
   ]
  },
  {
   "cell_type": "markdown",
   "metadata": {},
   "source": [
    "### Plot most frequently occurring words "
   ]
  },
  {
   "cell_type": "code",
   "execution_count": 29,
   "metadata": {},
   "outputs": [
    {
     "data": {
      "image/png": "[encoded data removed]",
      "text/plain": [
       "<Figure size 1440x360 with 1 Axes>"
      ]
     },
     "metadata": {
      "needs_background": "light"
     },
     "output_type": "display_data"
    }
   ],
   "source": [
    "# Plot most frequent words\n",
    "plt.figure(figsize=(20,5))\n",
    "# rotate and right align group names\n",
    "plt.xticks(rotation=45, ha='right')\n",
    "ax = sns.barplot(data=counts, x= \"word\", y = \"count\")\n",
    "ax.set(ylabel = 'Count')\n",
    "ax.set(title = 'Top 20 Most Frequent Words')    \n",
    "plt.show()"
   ]
  },
  {
   "cell_type": "markdown",
   "metadata": {},
   "source": [
    "## Troll Amplification\n",
    "Examining the troll \"echo chamber\". Are trolls retweeting or mentioning other trolls?"
   ]
  },
  {
   "cell_type": "code",
   "execution_count": 30,
   "metadata": {},
   "outputs": [
    {
     "name": "stdout",
     "output_type": "stream",
     "text": [
      "360\n",
      "There are 360 trolls in the echo chamber.\n"
     ]
    }
   ],
   "source": [
    "# read list of users created during EDA\n",
    "users = pd.read_csv('../data/users_totals.csv', encoding='utf-8',low_memory=False)\n",
    "\n",
    "userlist = users['author'].tolist()\n",
    "lc_userlist = [x.lower() for x in userlist]\n",
    "lc_userlist.sort()\n",
    "\n",
    "amplify = cleaned_mentions_series[cleaned_mentions_series.isin(lc_userlist)]\n",
    "\n",
    "print(amplify.shape[0])\n",
    "\n",
    "# Get counts of amplified troll tweets\n",
    "amp_counts = amplify.value_counts()\n",
    "print(\"There are\",(amplify.shape[0]), \"trolls in the echo chamber.\")"
   ]
  },
  {
   "cell_type": "markdown",
   "metadata": {},
   "source": [
    "### Normalization\n",
    "3 distinct steps:  \n",
    "* stemming  \n",
    "* lemmatization  \n",
    "* everything else"
   ]
  },
  {
   "cell_type": "markdown",
   "metadata": {},
   "source": [
    "### Lemmatization"
   ]
  },
  {
   "cell_type": "code",
   "execution_count": 31,
   "metadata": {},
   "outputs": [
    {
     "name": "stderr",
     "output_type": "stream",
     "text": [
      "/Users/admin/anaconda3/lib/python3.6/site-packages/ipykernel_launcher.py:2: SettingWithCopyWarning: \n",
      "A value is trying to be set on a copy of a slice from a DataFrame.\n",
      "Try using .loc[row_indexer,col_indexer] = value instead\n",
      "\n",
      "See the caveats in the documentation: http://pandas.pydata.org/pandas-docs/stable/indexing.html#indexing-view-versus-copy\n",
      "  \n"
     ]
    },
    {
     "data": {
      "text/plain": [
       "52394    albuquerque men arrested trying sell stolen gun part\n",
       "52395               albuquerque pokemon player stay give back\n",
       "52396              queen elizabeth miss church due heavy cold\n",
       "52397              chief urge year resolution put peace first\n",
       "52398                     china say shut ivory trade end 2017\n",
       "Name: cleaned, dtype: object"
      ]
     },
     "execution_count": 31,
     "metadata": {},
     "output_type": "execute_result"
    }
   ],
   "source": [
    "from textblob import Word\n",
    "df['cleaned'] = df['cleaned'].apply(lambda x: \" \".join([Word(word).lemmatize() for word in x.split()]))\n",
    "df['cleaned'].head()"
   ]
  },
  {
   "cell_type": "markdown",
   "metadata": {},
   "source": [
    "### Tokenize"
   ]
  },
  {
   "cell_type": "code",
   "execution_count": 32,
   "metadata": {},
   "outputs": [],
   "source": [
    "#create a list from df['cleaned']\n",
    "content_notags = df['cleaned'].tolist()\n",
    "\n",
    "# First, create a new column with the tokenized text\n",
    "from nltk.tokenize import TweetTokenizer\n",
    "tt = TweetTokenizer()\n",
    "#df['tokenized_text'] = df['content'].apply(tt.tokenize)\n",
    "# map tt.tokenize to 'content' list\n",
    "documents = list(map(tt.tokenize, content_notags))"
   ]
  },
  {
   "cell_type": "code",
   "execution_count": 33,
   "metadata": {},
   "outputs": [],
   "source": [
    "from collections import defaultdict\n",
    "\n",
    "frequency = defaultdict(int)\n",
    "for document in documents:\n",
    "    for token in document:\n",
    "        frequency[token] += 1"
   ]
  },
  {
   "cell_type": "code",
   "execution_count": 34,
   "metadata": {},
   "outputs": [],
   "source": [
    "documents = [[token for token in document if frequency[token] > 10] for document in documents]\n",
    "# create a dictionary using from gensim.corpora.Dictionary\n",
    "dictionary = corpora.Dictionary(documents)\n",
    "#Convert document (a list of words) into the bag-of-words format = list of (token_id, token_count) 2-tuples. \n",
    "corpus = [dictionary.doc2bow(document) for document in documents]"
   ]
  },
  {
   "cell_type": "code",
   "execution_count": 35,
   "metadata": {},
   "outputs": [
    {
     "data": {
      "text/plain": [
       "598226"
      ]
     },
     "execution_count": 35,
     "metadata": {},
     "output_type": "execute_result"
    }
   ],
   "source": [
    "len(corpus)"
   ]
  },
  {
   "cell_type": "markdown",
   "metadata": {},
   "source": [
    "## LDA Model\n",
    "Fit an LDA Model for the tweet topics"
   ]
  },
  {
   "cell_type": "code",
   "execution_count": 36,
   "metadata": {},
   "outputs": [],
   "source": [
    "# comment out once model is trained.\n",
    "# fit LDA model\n",
    "tweet_topics = LdaMulticore(corpus=corpus,\n",
    "                          id2word=dictionary,\n",
    "                          num_topics=10,\n",
    "                          passes=10,\n",
    "                          workers=2)"
   ]
  },
  {
   "cell_type": "code",
   "execution_count": 37,
   "metadata": {},
   "outputs": [],
   "source": [
    "# save/load model to/from disk\n",
    "\n",
    "temp_file = datapath(\"model_newsfeed_tweets\")\n",
    "tweet_topics.save(temp_file)\n",
    "\n",
    "# Load a pretrained model from disk.\n",
    "#tweet_topics = LdaMulticore.load(\"model\")\n",
    "# - or -\n",
    "#m1 = LdaMulticore.load(datapath(\"lda_3_0_1_model\"))"
   ]
  },
  {
   "cell_type": "code",
   "execution_count": 38,
   "metadata": {},
   "outputs": [
    {
     "name": "stdout",
     "output_type": "stream",
     "text": [
      "0 --- (0, '0.065*\"trump\" + 0.023*\"clinton\" + 0.013*\"donald\" + 0.013*\"game\" + 0.012*\"win\" + 0.012*\"ohio\" + 0.009*\"cleveland\" + 0.009*\"campaign\" + 0.009*\"lead\" + 0.009*\"sander\"')\n",
      "1 --- (1, '0.028*\"cleveland\" + 0.013*\"weather\" + 0.011*\"weekend\" + 0.011*\"week\" + 0.010*\"storm\" + 0.010*\"news\" + 0.009*\"san\" + 0.008*\"monday\" + 0.007*\"friday\" + 0.007*\"area\"')\n",
      "2 --- (2, '0.020*\"west\" + 0.019*\"phx\" + 0.017*\"east\" + 0.017*\"jersey\" + 0.016*\"philadelphia\" + 0.013*\"resident\" + 0.010*\"sun\" + 0.010*\"side\" + 0.009*\"tempe\" + 0.009*\"crime\"')\n",
      "3 --- (3, '0.019*\"orleans\" + 0.012*\"year\" + 0.009*\"photo\" + 0.009*\"day\" + 0.007*\"season\" + 0.007*\"coach\" + 0.007*\"look\" + 0.007*\"best\" + 0.007*\"player\" + 0.007*\"star\"')\n",
      "4 --- (4, '0.043*\"arizona\" + 0.025*\"court\" + 0.016*\"kansa\" + 0.014*\"judge\" + 0.013*\"face\" + 0.013*\"case\" + 0.012*\"trial\" + 0.008*\"life\" + 0.008*\"nashville\" + 0.007*\"story\"')\n",
      "5 --- (5, '0.031*\"school\" + 0.030*\"fire\" + 0.029*\"phoenix\" + 0.020*\"crash\" + 0.011*\"high\" + 0.010*\"student\" + 0.009*\"louisiana\" + 0.008*\"county\" + 0.008*\"oakland\" + 0.008*\"house\"')\n",
      "6 --- (6, '0.016*\"warrior\" + 0.014*\"cancer\" + 0.012*\"threat\" + 0.011*\"attack\" + 0.010*\"north\" + 0.010*\"battle\" + 0.010*\"force\" + 0.010*\"comment\" + 0.009*\"nbc\" + 0.008*\"community\"')\n",
      "7 --- (7, '0.018*\"bill\" + 0.013*\"plan\" + 0.012*\"house\" + 0.010*\"health\" + 0.010*\"tax\" + 0.010*\"state\" + 0.008*\"city\" + 0.008*\"million\" + 0.008*\"senate\" + 0.008*\"deal\"')\n",
      "8 --- (8, '0.054*\"police\" + 0.050*\"man\" + 0.024*\"woman\" + 0.022*\"shooting\" + 0.014*\"shot\" + 0.014*\"suspect\" + 0.012*\"officer\" + 0.012*\"found\" + 0.012*\"arrested\" + 0.011*\"say\"')\n",
      "9 --- (9, '0.036*\"state\" + 0.018*\"say\" + 0.013*\"valley\" + 0.010*\"zika\" + 0.009*\"attorney\" + 0.009*\"right\" + 0.008*\"water\" + 0.007*\"group\" + 0.007*\"order\" + 0.007*\"prosecutor\"')\n"
     ]
    }
   ],
   "source": [
    "# print out first 10 topics\n",
    "for i, topic in enumerate(tweet_topics.print_topics(10)):\n",
    "    print('{} --- {}'.format(i, topic))"
   ]
  },
  {
   "cell_type": "markdown",
   "metadata": {},
   "source": [
    "### Wordcloud\n",
    "Crate a basic word cloud of the topic groupings"
   ]
  },
  {
   "cell_type": "code",
   "execution_count": 39,
   "metadata": {},
   "outputs": [
    {
     "data": {
      "image/png": "[encoded data removed]",
      "text/plain": [
       "<Figure size 720x720 with 4 Axes>"
      ]
     },
     "metadata": {
      "needs_background": "light"
     },
     "output_type": "display_data"
    }
   ],
   "source": [
    "#Wordcloud of Top N words in each topic\n",
    "from matplotlib import pyplot as plt\n",
    "from wordcloud import WordCloud, STOPWORDS\n",
    "import matplotlib.colors as mcolors\n",
    "\n",
    "cols = [color for name, color in mcolors.TABLEAU_COLORS.items()]  # more colors: 'mcolors.XKCD_COLORS'\n",
    "\n",
    "cloud = WordCloud(stopwords=stop,\n",
    "                  background_color='white',\n",
    "                  width=2500,\n",
    "                  height=1800,\n",
    "                  max_words=10,\n",
    "                  colormap='tab10',\n",
    "                  color_func=lambda *args, **kwargs: cols[i],\n",
    "                  prefer_horizontal=1.0)\n",
    "\n",
    "topics = tweet_topics.show_topics(formatted=False)\n",
    "\n",
    "fig, axes = plt.subplots(2, 2, figsize=(10,10), sharex=True, sharey=True)\n",
    "\n",
    "for i, ax in enumerate(axes.flatten()):\n",
    "    fig.add_subplot(ax)\n",
    "    topic_words = dict(topics[i][1])\n",
    "    cloud.generate_from_frequencies(topic_words, max_font_size=300)\n",
    "    plt.gca().imshow(cloud)\n",
    "    plt.gca().set_title('Topic ' + str(i), fontdict=dict(size=16))\n",
    "    plt.gca().axis('off')\n",
    "\n",
    "\n",
    "plt.subplots_adjust(wspace=0, hspace=0)\n",
    "plt.axis('off')\n",
    "plt.margins(x=0, y=0)\n",
    "plt.tight_layout()\n",
    "plt.show()"
   ]
  },
  {
   "cell_type": "markdown",
   "metadata": {},
   "source": [
    "### Use pyLDAvis library to Visualize Topics"
   ]
  },
  {
   "cell_type": "code",
   "execution_count": 40,
   "metadata": {},
   "outputs": [],
   "source": [
    "## Try the pyLDAvis visualization\n",
    "import pyLDAvis.gensim as gensimvis\n",
    "import pyLDAvis"
   ]
  },
  {
   "cell_type": "code",
   "execution_count": 41,
   "metadata": {},
   "outputs": [
    {
     "name": "stderr",
     "output_type": "stream",
     "text": [
      "/Users/admin/anaconda3/lib/python3.6/site-packages/pyLDAvis/_prepare.py:257: FutureWarning: Sorting because non-concatenation axis is not aligned. A future version\n",
      "of pandas will change to not sort by default.\n",
      "\n",
      "To accept the future behavior, pass 'sort=False'.\n",
      "\n",
      "To retain the current behavior and silence the warning, pass 'sort=True'.\n",
      "\n",
      "  return pd.concat([default_term_info] + list(topic_dfs))\n"
     ]
    },
    {
     "data": {
      "text/html": [
       "\n",
       "<link rel=\"stylesheet\" type=\"text/css\" href=\"https://cdn.rawgit.com/bmabey/pyLDAvis/files/ldavis.v1.0.0.css\">\n",
       "\n",
       "\n",
       "<div id=\"ldavis_el346571149487379289408816103\"></div>\n",
       "<script type=\"text/javascript\">\n",
       "\n",
       "var ldavis_el346571149487379289408816103_data = {\"mdsDat\": {\"x\": [0.23354095618349002, -0.1469443124592239, -0.20393959931438832, -0.184594737731573, 0.24176974875503304, -0.07245736884914851, 0.000342027322116261, -0.07076932488772907, -0.03810379624596285, 0.24115640722738696], \"y\": [-0.06352983181851554, 0.11773565929430659, -0.11587541476572846, -0.18706191227052998, -0.11121733317135943, -0.17444813709010007, -0.027664420054652007, 0.28209121184884545, 0.21241705174012113, 0.06755312628761292], \"topics\": [1, 2, 3, 4, 5, 6, 7, 8, 9, 10], \"cluster\": [1, 1, 1, 1, 1, 1, 1, 1, 1, 1], \"Freq\": [17.176359176635742, 10.968937873840332, 10.945642471313477, 10.263657569885254, 10.149825096130371, 8.628388404846191, 8.612508773803711, 8.401558876037598, 7.680274486541748, 7.172845363616943]}, \"tinfo\": {\"Category\": [\"Default\", \"Default\", \"Default\", \"Default\", \"Default\", \"Default\", \"Default\", \"Default\", \"Default\", \"Default\", \"Default\", \"Default\", \"Default\", \"Default\", \"Default\", \"Default\", \"Default\", \"Default\", \"Default\", \"Default\", \"Default\", \"Default\", \"Default\", \"Default\", \"Default\", \"Default\", \"Default\", \"Default\", \"Default\", \"Default\", \"Topic1\", \"Topic1\", \"Topic1\", \"Topic1\", \"Topic1\", \"Topic1\", \"Topic1\", \"Topic1\", \"Topic1\", \"Topic1\", \"Topic1\", \"Topic1\", \"Topic1\", \"Topic1\", \"Topic1\", \"Topic1\", \"Topic1\", \"Topic1\", \"Topic1\", \"Topic1\", \"Topic1\", \"Topic1\", \"Topic1\", \"Topic1\", \"Topic1\", \"Topic1\", \"Topic1\", \"Topic1\", \"Topic1\", \"Topic1\", \"Topic1\", \"Topic1\", \"Topic1\", \"Topic1\", \"Topic1\", \"Topic1\", \"Topic1\", \"Topic1\", \"Topic1\", \"Topic1\", \"Topic1\", \"Topic1\", \"Topic1\", \"Topic2\", \"Topic2\", \"Topic2\", \"Topic2\", \"Topic2\", \"Topic2\", \"Topic2\", \"Topic2\", \"Topic2\", \"Topic2\", \"Topic2\", \"Topic2\", \"Topic2\", \"Topic2\", \"Topic2\", \"Topic2\", \"Topic2\", \"Topic2\", \"Topic2\", \"Topic2\", \"Topic2\", \"Topic2\", \"Topic2\", \"Topic2\", \"Topic2\", \"Topic2\", \"Topic2\", \"Topic2\", \"Topic2\", \"Topic2\", \"Topic2\", \"Topic2\", \"Topic2\", \"Topic2\", \"Topic2\", \"Topic2\", \"Topic2\", \"Topic2\", \"Topic2\", \"Topic2\", \"Topic2\", \"Topic3\", \"Topic3\", \"Topic3\", \"Topic3\", \"Topic3\", \"Topic3\", \"Topic3\", \"Topic3\", \"Topic3\", \"Topic3\", \"Topic3\", \"Topic3\", \"Topic3\", \"Topic3\", \"Topic3\", \"Topic3\", \"Topic3\", \"Topic3\", \"Topic3\", \"Topic3\", \"Topic3\", \"Topic3\", \"Topic3\", \"Topic3\", \"Topic3\", \"Topic3\", \"Topic3\", \"Topic3\", \"Topic3\", \"Topic3\", \"Topic3\", \"Topic3\", \"Topic3\", \"Topic3\", \"Topic3\", \"Topic3\", \"Topic3\", \"Topic3\", \"Topic3\", \"Topic3\", \"Topic3\", \"Topic3\", \"Topic4\", \"Topic4\", \"Topic4\", \"Topic4\", \"Topic4\", \"Topic4\", \"Topic4\", \"Topic4\", \"Topic4\", \"Topic4\", \"Topic4\", \"Topic4\", \"Topic4\", \"Topic4\", \"Topic4\", \"Topic4\", \"Topic4\", \"Topic4\", \"Topic4\", \"Topic4\", \"Topic4\", \"Topic4\", \"Topic4\", \"Topic4\", \"Topic4\", \"Topic4\", \"Topic4\", \"Topic4\", \"Topic4\", \"Topic4\", \"Topic4\", \"Topic4\", \"Topic4\", \"Topic4\", \"Topic4\", \"Topic4\", \"Topic4\", \"Topic4\", \"Topic4\", \"Topic4\", \"Topic4\", \"Topic4\", \"Topic4\", \"Topic4\", \"Topic4\", \"Topic4\", \"Topic4\", \"Topic4\", \"Topic4\", \"Topic4\", \"Topic5\", \"Topic5\", \"Topic5\", \"Topic5\", \"Topic5\", \"Topic5\", \"Topic5\", \"Topic5\", \"Topic5\", \"Topic5\", \"Topic5\", \"Topic5\", \"Topic5\", \"Topic5\", \"Topic5\", \"Topic5\", \"Topic5\", \"Topic5\", \"Topic5\", \"Topic5\", \"Topic5\", \"Topic5\", \"Topic5\", \"Topic5\", \"Topic5\", \"Topic5\", \"Topic5\", \"Topic5\", \"Topic5\", \"Topic5\", \"Topic5\", \"Topic5\", \"Topic5\", \"Topic5\", \"Topic5\", \"Topic5\", \"Topic5\", \"Topic5\", \"Topic5\", \"Topic5\", \"Topic5\", \"Topic5\", \"Topic5\", \"Topic5\", \"Topic5\", \"Topic5\", \"Topic5\", \"Topic5\", \"Topic5\", \"Topic6\", \"Topic6\", \"Topic6\", \"Topic6\", \"Topic6\", \"Topic6\", \"Topic6\", \"Topic6\", \"Topic6\", \"Topic6\", \"Topic6\", \"Topic6\", \"Topic6\", \"Topic6\", \"Topic6\", \"Topic6\", \"Topic6\", \"Topic6\", \"Topic6\", \"Topic6\", \"Topic6\", \"Topic6\", \"Topic6\", \"Topic6\", \"Topic6\", \"Topic6\", \"Topic6\", \"Topic6\", \"Topic6\", \"Topic6\", \"Topic6\", \"Topic6\", \"Topic6\", \"Topic6\", \"Topic6\", \"Topic6\", \"Topic6\", \"Topic6\", \"Topic6\", \"Topic6\", \"Topic6\", \"Topic6\", \"Topic6\", \"Topic6\", \"Topic7\", \"Topic7\", \"Topic7\", \"Topic7\", \"Topic7\", \"Topic7\", \"Topic7\", \"Topic7\", \"Topic7\", \"Topic7\", \"Topic7\", \"Topic7\", \"Topic7\", \"Topic7\", \"Topic7\", \"Topic7\", \"Topic7\", \"Topic7\", \"Topic7\", \"Topic7\", \"Topic7\", \"Topic7\", \"Topic7\", \"Topic7\", \"Topic7\", \"Topic7\", \"Topic7\", \"Topic7\", \"Topic7\", \"Topic7\", \"Topic7\", \"Topic7\", \"Topic7\", \"Topic7\", \"Topic7\", \"Topic7\", \"Topic7\", \"Topic7\", \"Topic7\", \"Topic7\", \"Topic7\", \"Topic7\", \"Topic7\", \"Topic7\", \"Topic7\", \"Topic8\", \"Topic8\", \"Topic8\", \"Topic8\", \"Topic8\", \"Topic8\", \"Topic8\", \"Topic8\", \"Topic8\", \"Topic8\", \"Topic8\", \"Topic8\", \"Topic8\", \"Topic8\", \"Topic8\", \"Topic8\", \"Topic8\", \"Topic8\", \"Topic8\", \"Topic8\", \"Topic8\", \"Topic8\", \"Topic8\", \"Topic8\", \"Topic8\", \"Topic8\", \"Topic8\", \"Topic8\", \"Topic8\", \"Topic8\", \"Topic8\", \"Topic8\", \"Topic8\", \"Topic8\", \"Topic8\", \"Topic8\", \"Topic8\", \"Topic8\", \"Topic8\", \"Topic8\", \"Topic8\", \"Topic9\", \"Topic9\", \"Topic9\", \"Topic9\", \"Topic9\", \"Topic9\", \"Topic9\", \"Topic9\", \"Topic9\", \"Topic9\", \"Topic9\", \"Topic9\", \"Topic9\", \"Topic9\", \"Topic9\", \"Topic9\", \"Topic9\", \"Topic9\", \"Topic9\", \"Topic9\", \"Topic9\", \"Topic9\", \"Topic9\", \"Topic9\", \"Topic9\", \"Topic9\", \"Topic9\", \"Topic9\", \"Topic9\", \"Topic9\", \"Topic9\", \"Topic9\", \"Topic9\", \"Topic9\", \"Topic9\", \"Topic9\", \"Topic9\", \"Topic9\", \"Topic9\", \"Topic10\", \"Topic10\", \"Topic10\", \"Topic10\", \"Topic10\", \"Topic10\", \"Topic10\", \"Topic10\", \"Topic10\", \"Topic10\", \"Topic10\", \"Topic10\", \"Topic10\", \"Topic10\", \"Topic10\", \"Topic10\", \"Topic10\", \"Topic10\", \"Topic10\", \"Topic10\", \"Topic10\", \"Topic10\", \"Topic10\", \"Topic10\", \"Topic10\", \"Topic10\", \"Topic10\", \"Topic10\", \"Topic10\", \"Topic10\", \"Topic10\", \"Topic10\", \"Topic10\", \"Topic10\", \"Topic10\", \"Topic10\", \"Topic10\", \"Topic10\", \"Topic10\", \"Topic10\", \"Topic10\", \"Topic10\"], \"Freq\": [37496.0, 28929.0, 35071.0, 15019.0, 16619.0, 17138.0, 18402.0, 12751.0, 12352.0, 15188.0, 14089.0, 10101.0, 8853.0, 12483.0, 9253.0, 7958.0, 9897.0, 9685.0, 5976.0, 24841.0, 5574.0, 8300.0, 8252.0, 8098.0, 7816.0, 5116.0, 5493.0, 8447.0, 5971.0, 4849.0, 37495.96484375, 35070.01953125, 17137.619140625, 15187.6337890625, 9896.60546875, 9684.0654296875, 8299.4775390625, 8251.462890625, 8097.54833984375, 7815.9560546875, 6697.12841796875, 6339.7509765625, 5229.345703125, 4748.4755859375, 4305.17041015625, 4070.705810546875, 4018.53955078125, 3895.9033203125, 3716.330322265625, 3029.62109375, 2891.18896484375, 2858.99462890625, 2851.79931640625, 2826.0166015625, 2566.93017578125, 2422.468994140625, 2284.0986328125, 2258.063720703125, 2239.545166015625, 2038.081298828125, 5172.56640625, 4709.49072265625, 6337.03857421875, 7177.00537109375, 6376.04150390625, 5234.3935546875, 3622.48388671875, 5766.04443359375, 7981.37060546875, 6193.56298828125, 3717.082275390625, 4351.11376953125, 4361.57958984375, 7957.54638671875, 5970.5615234375, 4697.49853515625, 4568.26171875, 3669.6162109375, 3600.9736328125, 3485.802734375, 3274.57373046875, 3132.119873046875, 3093.788330078125, 2957.648681640625, 2806.5263671875, 2719.925537109375, 2606.14404296875, 2596.515380859375, 2589.056396484375, 2519.92138671875, 2416.95458984375, 2179.4091796875, 2137.702880859375, 1715.13525390625, 1599.2113037109375, 1558.3443603515625, 1495.220703125, 1478.61865234375, 1436.0540771484375, 1430.20849609375, 1965.72802734375, 1424.8638916015625, 1405.8958740234375, 5316.9990234375, 2174.181640625, 3717.269775390625, 2177.3779296875, 2083.01220703125, 1986.20947265625, 2538.426025390625, 2878.512939453125, 4303.1005859375, 3761.294677734375, 3565.31591796875, 28928.439453125, 10100.49609375, 5604.14453125, 5590.34814453125, 4040.791015625, 3847.87451171875, 3702.294921875, 3137.3896484375, 2951.680419921875, 2938.4326171875, 2749.5859375, 2588.951416015625, 2549.801513671875, 2509.26171875, 2359.27685546875, 2348.101318359375, 2295.859619140625, 2252.081787109375, 2228.095703125, 2206.549072265625, 2188.84033203125, 2078.673095703125, 2062.0283203125, 2048.096923828125, 2014.6646728515625, 1987.3328857421875, 1611.798583984375, 1546.97314453125, 1504.2955322265625, 1481.89599609375, 3989.0625, 5405.076171875, 2830.62109375, 3206.16552734375, 5202.56591796875, 3702.6875, 2597.631591796875, 2957.57373046875, 4233.20947265625, 2838.49853515625, 2691.834716796875, 3450.410400390625, 2999.495849609375, 2933.03515625, 2909.646728515625, 2887.910400390625, 2658.582275390625, 2320.248046875, 2130.723388671875, 2074.572021484375, 1980.2506103515625, 1751.9727783203125, 1717.8328857421875, 1658.3621826171875, 1625.7664794921875, 1600.8988037109375, 1562.2178955078125, 1544.7242431640625, 1535.9488525390625, 1497.9564208984375, 1474.64697265625, 1453.9842529296875, 1452.7745361328125, 1378.8924560546875, 1330.7611083984375, 1323.130859375, 1290.6202392578125, 1278.5126953125, 1272.288330078125, 1192.445068359375, 1180.938720703125, 1171.7127685546875, 3052.294677734375, 7877.06689453125, 3653.412841796875, 2979.476806640625, 2620.253173828125, 5155.548828125, 1722.88720703125, 2769.620849609375, 2841.61669921875, 3582.853271484375, 1910.09423828125, 1711.7769775390625, 2618.61376953125, 2662.778076171875, 2262.349365234375, 2351.649169921875, 2077.10888671875, 1919.618408203125, 1860.612548828125, 1790.89306640625, 12750.970703125, 12351.9150390625, 3577.171630859375, 3155.962158203125, 2645.16748046875, 2610.2119140625, 2481.547119140625, 2453.195556640625, 2384.4384765625, 2100.18798828125, 2093.91162109375, 2069.086181640625, 2044.5269775390625, 1828.1236572265625, 1722.653076171875, 1705.3433837890625, 1693.7626953125, 1629.0386962890625, 1601.869873046875, 1590.558837890625, 1560.4342041015625, 1529.3056640625, 1523.64013671875, 1421.6773681640625, 1343.7840576171875, 1321.5518798828125, 1318.7972412109375, 1288.812744140625, 1238.340576171875, 1148.1939697265625, 1914.7889404296875, 4753.98095703125, 12207.60546875, 8120.70947265625, 4114.4677734375, 1826.7620849609375, 2206.860595703125, 2521.354248046875, 3064.93505859375, 2510.92236328125, 2188.936279296875, 3129.490966796875, 3262.65673828125, 2427.64990234375, 2584.32421875, 2513.817138671875, 2185.7236328125, 2317.408447265625, 2047.9764404296875, 4613.58203125, 3983.4599609375, 3565.2421875, 3407.845703125, 2652.1767578125, 2500.015625, 2398.154541015625, 2384.05419921875, 2378.76220703125, 2169.546630859375, 2168.0107421875, 2042.853271484375, 1823.7650146484375, 1671.159912109375, 1639.8721923828125, 1474.8480224609375, 1409.7451171875, 1332.1201171875, 1329.656982421875, 1321.6046142578125, 1317.7843017578125, 1223.91015625, 1207.71044921875, 1170.659423828125, 1126.5035400390625, 1059.953369140625, 1053.2694091796875, 1051.1644287109375, 1049.63623046875, 1045.4742431640625, 9855.2626953125, 3924.132080078125, 3223.9541015625, 2004.2855224609375, 1889.8087158203125, 1456.656005859375, 1789.5611572265625, 2440.95556640625, 1638.0760498046875, 1723.7198486328125, 2124.84228515625, 1466.92529296875, 1467.0341796875, 1504.09814453125, 15018.9521484375, 8852.4873046875, 5492.2646484375, 4756.2548828125, 4590.88671875, 4366.896484375, 2666.79443359375, 2602.803955078125, 2590.64990234375, 2298.1591796875, 2026.4658203125, 1926.5634765625, 1892.857666015625, 1881.9158935546875, 1837.362060546875, 1706.720458984375, 1638.9259033203125, 1455.5697021484375, 1305.6307373046875, 1254.2674560546875, 1252.9287109375, 1242.1622314453125, 1124.209228515625, 1089.0504150390625, 1052.3551025390625, 916.6199340820312, 879.071533203125, 865.8953857421875, 845.8575439453125, 838.3890380859375, 2506.866943359375, 2147.259033203125, 1917.3724365234375, 2021.126953125, 4541.1826171875, 2798.8115234375, 1896.3441162109375, 2472.476806640625, 2135.6494140625, 1674.9449462890625, 2259.038330078125, 1919.156982421875, 1913.1036376953125, 1833.15380859375, 1756.7410888671875, 3536.393310546875, 3250.28466796875, 3193.00830078125, 2497.25927734375, 2494.044921875, 2460.24609375, 2083.91259765625, 1964.1048583984375, 1916.1717529296875, 1866.9918212890625, 1795.257080078125, 1793.469970703125, 1717.24365234375, 1709.4119873046875, 1692.9727783203125, 1578.307861328125, 1521.5548095703125, 1474.404296875, 1468.580322265625, 1445.1116943359375, 1396.72998046875, 1307.2803955078125, 1296.2872314453125, 1253.60546875, 1253.185546875, 1235.5281982421875, 1219.672607421875, 1207.7330322265625, 1193.845703125, 1184.06689453125, 12315.1044921875, 4533.19287109375, 2564.06396484375, 2578.68505859375, 6261.92041015625, 1439.9705810546875, 2375.7119140625, 2330.071533203125, 2343.514404296875, 1857.70556640625, 1514.6358642578125, 4872.9833984375, 4487.2626953125, 3645.456298828125, 3162.87109375, 3152.435302734375, 3068.952880859375, 2945.34716796875, 2258.101318359375, 2252.201171875, 2165.22412109375, 2062.0771484375, 1881.872802734375, 1851.143798828125, 1690.0665283203125, 1661.2550048828125, 1531.615234375, 1408.1226806640625, 1376.93896484375, 1365.140625, 1340.1614990234375, 1329.01806640625, 1318.692138671875, 1301.182861328125, 1137.6409912109375, 1133.0465087890625, 1099.16064453125, 1093.1380615234375, 1092.9578857421875, 1082.315673828125, 1051.4901123046875, 2605.399658203125, 3457.685791015625, 3169.212890625, 1929.032958984375, 1792.9593505859375, 2197.3818359375, 1294.5501708984375, 1383.6171875, 2475.41650390625, 5976.02392578125, 5573.14013671875, 5115.69580078125, 4848.28125, 4825.783203125, 3768.994873046875, 2933.616943359375, 2888.263671875, 2648.448974609375, 2315.45556640625, 2274.20849609375, 2049.423095703125, 1607.7335205078125, 1585.0592041015625, 1564.6982421875, 1538.2940673828125, 1505.94384765625, 1407.47900390625, 1347.9354248046875, 1333.694091796875, 1279.77392578125, 1241.525634765625, 1119.5003662109375, 1117.6815185546875, 1110.70361328125, 1078.7999267578125, 1061.50927734375, 1034.825439453125, 1031.0252685546875, 1022.0122680664062, 2637.72705078125, 1532.0113525390625, 1593.8973388671875, 2253.706787109375, 2355.326904296875, 1717.48291015625, 1289.1162109375, 1476.69384765625, 1909.755615234375, 1919.7476806640625, 2151.650146484375, 1370.8228759765625], \"Term\": [\"police\", \"trump\", \"man\", \"arizona\", \"state\", \"woman\", \"phoenix\", \"school\", \"fire\", \"shooting\", \"cleveland\", \"clinton\", \"court\", \"crash\", \"orleans\", \"bill\", \"shot\", \"suspect\", \"west\", \"say\", \"phx\", \"officer\", \"found\", \"arrested\", \"philly\", \"east\", \"kansa\", \"house\", \"plan\", \"jersey\", \"police\", \"man\", \"woman\", \"shooting\", \"shot\", \"suspect\", \"officer\", \"found\", \"arrested\", \"philly\", \"teen\", \"charged\", \"missing\", \"girl\", \"boy\", \"blotter\", \"robbery\", \"cop\", \"arrest\", \"men\", \"guilty\", \"body\", \"search\", \"killing\", \"mother\", \"stolen\", \"investigating\", \"armed\", \"son\", \"mom\", \"accused\", \"child\", \"death\", \"killed\", \"car\", \"dead\", \"murder\", \"home\", \"say\", \"phoenix\", \"two\", \"county\", \"crash\", \"bill\", \"plan\", \"health\", \"tax\", \"senate\", \"deal\", \"lawmaker\", \"mesa\", \"change\", \"job\", \"saint\", \"budget\", \"white\", \"care\", \"cut\", \"gov\", \"milwaukee\", \"council\", \"raise\", \"company\", \"america\", \"ducey\", \"rep\", \"roundup\", \"congress\", \"fund\", \"fda\", \"montini\", \"cost\", \"key\", \"house\", \"money\", \"million\", \"would\", \"politics\", \"sign\", \"vote\", \"could\", \"state\", \"city\", \"say\", \"trump\", \"clinton\", \"donald\", \"game\", \"campaign\", \"sander\", \"debate\", \"hillary\", \"race\", \"rally\", \"final\", \"presidential\", \"bowl\", \"poll\", \"cruz\", \"candidate\", \"beat\", \"kasich\", \"super\", \"newark\", \"tuesday\", \"primary\", \"miss\", \"red\", \"mccain\", \"robert\", \"celebrity\", \"glendale\", \"baseball\", \"democratic\", \"lead\", \"win\", \"republican\", \"gop\", \"ohio\", \"2016\", \"live\", \"john\", \"cleveland\", \"president\", \"watch\", \"say\", \"coach\", \"best\", \"player\", \"star\", \"nfl\", \"christie\", \"draft\", \"sport\", \"name\", \"like\", \"dont\", \"jose\", \"card\", \"named\", \"chandler\", \"award\", \"justice\", \"ticket\", \"great\", \"2015\", \"number\", \"concert\", \"green\", \"chris\", \"mike\", \"music\", \"social\", \"roll\", \"stand\", \"since\", \"season\", \"orleans\", \"photo\", \"look\", \"team\", \"year\", \"history\", \"time\", \"top\", \"day\", \"fan\", \"christmas\", \"show\", \"first\", \"make\", \"2016\", \"win\", \"former\", \"week\", \"report\", \"school\", \"fire\", \"louisiana\", \"oakland\", \"height\", \"akron\", \"bay\", \"hurt\", \"bus\", \"asu\", \"lsu\", \"firefighter\", \"building\", \"cause\", \"injury\", \"hall\", \"closed\", \"crew\", \"pedestrian\", \"metro\", \"board\", \"plane\", \"planned\", \"funding\", \"robber\", \"damage\", \"memorial\", \"bridge\", \"james\", \"tree\", \"district\", \"high\", \"phoenix\", \"crash\", \"student\", \"downtown\", \"brown\", \"street\", \"driver\", \"road\", \"close\", \"house\", \"county\", \"near\", \"car\", \"home\", \"dy\", \"killed\", \"injured\", \"weather\", \"weekend\", \"storm\", \"news\", \"monday\", \"friday\", \"marijuana\", \"snow\", \"medical\", \"rain\", \"around\", \"thursday\", \"expected\", \"morning\", \"10\", \"thousand\", \"summer\", \"across\", \"obamacare\", \"guard\", \"winter\", \"ice\", \"chance\", \"animal\", \"warning\", \"tornado\", \"wisconsin\", \"pet\", \"wind\", \"cold\", \"cleveland\", \"week\", \"san\", \"saturday\", \"night\", \"mississippi\", \"sunday\", \"area\", \"early\", \"power\", \"day\", \"alert\", \"california\", \"ohio\", \"arizona\", \"court\", \"kansa\", \"judge\", \"face\", \"trial\", \"nashville\", \"story\", \"supreme\", \"american\", \"jury\", \"wednesday\", \"travel\", \"today\", \"daughter\", \"jackson\", \"grand\", \"appeal\", \"abuse\", \"hearing\", \"recall\", \"fraud\", \"911\", \"whats\", \"movie\", \"celebrates\", \"low\", \"daily\", \"flag\", \"lakewood\", \"ban\", \"teacher\", \"federal\", \"protest\", \"case\", \"life\", \"prison\", \"family\", \"charge\", \"lawsuit\", \"year\", \"student\", \"former\", \"death\", \"city\", \"zika\", \"attorney\", \"right\", \"order\", \"prosecutor\", \"nba\", \"probe\", \"washington\", \"lawyer\", \"eagle\", \"pennsylvania\", \"general\", \"joe\", \"maricopa\", \"cartoon\", \"abortion\", \"trade\", \"file\", \"hospitalized\", \"expert\", \"crisis\", \"cosby\", \"virus\", \"harbor\", \"doesnt\", \"flint\", \"township\", \"syria\", \"hire\", \"activist\", \"state\", \"valley\", \"group\", \"water\", \"say\", \"post\", \"official\", \"case\", \"report\", \"former\", \"rule\", \"warrior\", \"cancer\", \"threat\", \"battle\", \"force\", \"comment\", \"nbc\", \"air\", \"target\", \"heart\", \"launch\", \"patient\", \"title\", \"delaware\", \"military\", \"urge\", \"ncaa\", \"detail\", \"link\", \"donation\", \"panel\", \"royal\", \"russian\", \"memo\", \"book\", \"volunteer\", \"walker\", \"garden\", \"septum\", \"fighting\", \"community\", \"attack\", \"north\", \"test\", \"strike\", \"talk\", \"historic\", \"special\", \"say\", \"west\", \"phx\", \"east\", \"jersey\", \"philadelphia\", \"resident\", \"sun\", \"side\", \"tempe\", \"border\", \"train\", \"tennessee\", \"wall\", \"email\", \"check\", \"mountain\", \"rescued\", \"least\", \"avenue\", \"dad\", \"blast\", \"used\", \"penny\", \"soldier\", \"lost\", \"southern\", \"collision\", \"middle\", \"gunpoint\", \"canyon\", \"crime\", \"rescue\", \"foke\", \"people\", \"south\", \"kill\", \"hotel\", \"three\", \"near\", \"hit\", \"city\", \"killed\"], \"Total\": [37496.0, 28929.0, 35071.0, 15019.0, 16619.0, 17138.0, 18402.0, 12751.0, 12352.0, 15188.0, 14089.0, 10101.0, 8853.0, 12483.0, 9253.0, 7958.0, 9897.0, 9685.0, 5976.0, 24841.0, 5574.0, 8300.0, 8252.0, 8098.0, 7816.0, 5116.0, 5493.0, 8447.0, 5971.0, 4849.0, 37496.95703125, 35071.01171875, 17138.615234375, 15188.62890625, 9897.6005859375, 9685.060546875, 8300.47265625, 8252.4580078125, 8098.54296875, 7816.95556640625, 6698.123046875, 6340.74560546875, 5230.34033203125, 4749.47021484375, 4306.1650390625, 4071.701171875, 4019.53369140625, 3896.8974609375, 3717.324462890625, 3030.615234375, 2892.18310546875, 2859.98876953125, 2852.79345703125, 2827.0107421875, 2567.92431640625, 2423.463134765625, 2285.0927734375, 2259.057861328125, 2240.539306640625, 2039.0758056640625, 6140.99462890625, 5958.96923828125, 8959.92578125, 10866.0205078125, 9695.189453125, 7534.28125, 4386.6748046875, 11129.46484375, 24841.70703125, 18402.0703125, 5662.71533203125, 10267.8828125, 12483.1923828125, 7958.5205078125, 5971.53564453125, 4698.4873046875, 4569.23583984375, 3670.589599609375, 3601.947021484375, 3486.776123046875, 3275.548095703125, 3133.09326171875, 3094.76171875, 2958.62255859375, 2807.499755859375, 2720.89892578125, 2607.117431640625, 2597.48876953125, 2590.02978515625, 2520.896240234375, 2417.927978515625, 2180.382568359375, 2138.67626953125, 1716.10888671875, 1600.185791015625, 1559.3179931640625, 1496.1944580078125, 1479.59228515625, 1437.0277099609375, 1431.18212890625, 1967.0704345703125, 1425.8375244140625, 1406.8695068359375, 8447.373046875, 2523.5693359375, 5396.6845703125, 2606.036376953125, 2572.22021484375, 2508.2763671875, 4009.5283203125, 5508.74072265625, 16619.046875, 13040.833984375, 24841.70703125, 28929.421875, 10101.4794921875, 5605.12744140625, 5591.3310546875, 4041.7734375, 3848.85693359375, 3703.27734375, 3138.3720703125, 2952.662841796875, 2939.4150390625, 2750.568359375, 2589.933837890625, 2550.783935546875, 2510.244140625, 2360.25927734375, 2349.083740234375, 2296.842041015625, 2253.064208984375, 2229.078125, 2207.534912109375, 2189.82275390625, 2079.655517578125, 2063.0107421875, 2049.079345703125, 2015.6475830078125, 1988.3157958984375, 1612.7811279296875, 1547.956298828125, 1505.2781982421875, 1482.87841796875, 4885.05712890625, 7483.06689453125, 3748.056396484375, 4765.49755859375, 10423.8095703125, 6055.21875, 3499.479248046875, 4839.37353515625, 14089.3544921875, 4882.16796875, 4689.0390625, 24841.70703125, 3000.47119140625, 2934.010498046875, 2910.6220703125, 2888.8857421875, 2659.5576171875, 2321.2236328125, 2131.69873046875, 2075.54736328125, 1981.22607421875, 1752.9482421875, 1718.8084716796875, 1659.337646484375, 1626.7420654296875, 1601.874267578125, 1563.1951904296875, 1545.6995849609375, 1536.92431640625, 1498.9317626953125, 1475.6226806640625, 1454.959716796875, 1453.7501220703125, 1379.8680419921875, 1331.736572265625, 1324.1063232421875, 1291.5958251953125, 1279.4881591796875, 1273.2637939453125, 1193.420654296875, 1181.9141845703125, 1172.688232421875, 3056.896484375, 9253.4677734375, 4462.38427734375, 3744.47998046875, 3303.193115234375, 9331.19140625, 2113.47216796875, 5072.7734375, 5365.521484375, 9706.4521484375, 2742.690185546875, 2155.2236328125, 6558.18212890625, 7531.64013671875, 5135.04833984375, 6055.21875, 7483.06689453125, 6733.853515625, 5785.61865234375, 9755.099609375, 12751.9560546875, 12352.900390625, 3578.156982421875, 3156.94677734375, 2646.152587890625, 2611.201904296875, 2482.53173828125, 2454.18017578125, 2385.423095703125, 2101.17529296875, 2094.89697265625, 2070.07080078125, 2045.51171875, 1829.1083984375, 1723.6378173828125, 1706.328125, 1694.747314453125, 1630.0234375, 1602.8544921875, 1591.543701171875, 1561.4190673828125, 1530.2904052734375, 1524.6248779296875, 1422.6636962890625, 1344.7689208984375, 1322.53662109375, 1319.781982421875, 1289.7974853515625, 1239.325439453125, 1149.1785888671875, 1916.77734375, 5399.70458984375, 18402.0703125, 12483.1923828125, 6601.9248046875, 2174.778564453125, 2996.681396484375, 3760.0537109375, 6023.6923828125, 4095.614990234375, 3246.601318359375, 8447.373046875, 10267.8828125, 5716.171875, 9695.189453125, 11129.46484375, 5763.5927734375, 10866.0205078125, 5271.67578125, 4614.55712890625, 3984.43505859375, 3566.21728515625, 3408.82080078125, 2653.15185546875, 2500.99072265625, 2399.129638671875, 2385.029296875, 2379.7373046875, 2170.521728515625, 2168.98583984375, 2043.8284912109375, 1824.7401123046875, 1672.135009765625, 1640.849853515625, 1475.8232421875, 1410.7203369140625, 1333.0953369140625, 1330.63232421875, 1322.579833984375, 1318.7593994140625, 1224.8853759765625, 1208.6856689453125, 1171.634521484375, 1127.478759765625, 1060.928466796875, 1054.24462890625, 1052.1395263671875, 1050.611328125, 1046.449462890625, 14089.3544921875, 5785.61865234375, 4773.71435546875, 2577.18310546875, 2425.955810546875, 1672.3236083984375, 2296.992919921875, 4740.2021484375, 2209.1298828125, 2662.6474609375, 9706.4521484375, 2386.370849609375, 3358.96484375, 10423.8095703125, 15019.9287109375, 8853.4638671875, 5493.24072265625, 4757.23095703125, 4591.86279296875, 4367.87255859375, 2667.77294921875, 2603.780029296875, 2591.6259765625, 2299.13525390625, 2027.4420166015625, 1927.539794921875, 1893.833984375, 1882.8922119140625, 1838.3382568359375, 1707.69677734375, 1639.9022216796875, 1456.5457763671875, 1306.60693359375, 1255.24365234375, 1253.905029296875, 1243.138427734375, 1125.185546875, 1090.0267333984375, 1053.3314208984375, 917.5961303710938, 880.0477905273438, 866.8717041015625, 846.833740234375, 839.36572265625, 3143.740234375, 2652.31982421875, 2453.511474609375, 2652.743896484375, 7956.2568359375, 4154.73388671875, 3034.7880859375, 6242.853515625, 4675.76611328125, 2727.49755859375, 9331.19140625, 6601.9248046875, 6733.853515625, 8959.92578125, 13040.833984375, 3537.3359375, 3251.227294921875, 3193.950927734375, 2498.201904296875, 2494.987548828125, 2461.18896484375, 2084.855224609375, 1965.0474853515625, 1917.1143798828125, 1867.9345703125, 1796.199951171875, 1794.41259765625, 1718.186279296875, 1710.3582763671875, 1693.9161376953125, 1579.2506103515625, 1522.4974365234375, 1475.346923828125, 1469.52294921875, 1446.054443359375, 1397.672607421875, 1308.2232666015625, 1297.2298583984375, 1254.54833984375, 1254.1282958984375, 1236.4708251953125, 1220.615478515625, 1208.67578125, 1194.788330078125, 1185.009521484375, 16619.046875, 5439.3623046875, 3638.381103515625, 4340.51953125, 24841.70703125, 1715.5361328125, 6168.92431640625, 7956.2568359375, 9755.099609375, 6733.853515625, 2477.6689453125, 4873.91015625, 4488.189453125, 3646.383056640625, 3163.7978515625, 3153.362060546875, 3069.879638671875, 2946.274169921875, 2259.028076171875, 2253.1279296875, 2166.15087890625, 2063.00390625, 1882.799560546875, 1852.070556640625, 1690.9937744140625, 1662.1817626953125, 1532.5419921875, 1409.0494384765625, 1377.86572265625, 1366.0673828125, 1341.0882568359375, 1329.94482421875, 1319.618896484375, 1302.1094970703125, 1138.5687255859375, 1133.9732666015625, 1100.08740234375, 1094.0648193359375, 1093.8846435546875, 1083.247802734375, 1052.4168701171875, 3427.40087890625, 5922.7236328125, 5873.7099609375, 2790.769775390625, 2522.87744140625, 3833.96533203125, 1646.3900146484375, 2078.11474609375, 24841.70703125, 5976.97900390625, 5574.10205078125, 5116.65087890625, 4849.23681640625, 4826.73876953125, 3769.9501953125, 2934.572509765625, 2889.21875, 2649.41015625, 2316.410888671875, 2275.16357421875, 2050.37841796875, 1608.688720703125, 1586.014404296875, 1565.6534423828125, 1539.2493896484375, 1506.8990478515625, 1408.4342041015625, 1348.890625, 1334.6492919921875, 1280.7291259765625, 1242.4808349609375, 1120.4556884765625, 1118.63671875, 1111.6588134765625, 1079.755126953125, 1062.4644775390625, 1035.7806396484375, 1031.98046875, 1022.9677124023438, 3368.115478515625, 1987.5496826171875, 2222.5322265625, 4522.0048828125, 5519.865234375, 3037.7412109375, 1605.28076171875, 2394.5595703125, 5716.171875, 6333.6103515625, 13040.833984375, 10866.0205078125], \"loglift\": [30.0, 29.0, 28.0, 27.0, 26.0, 25.0, 24.0, 23.0, 22.0, 21.0, 20.0, 19.0, 18.0, 17.0, 16.0, 15.0, 14.0, 13.0, 12.0, 11.0, 10.0, 9.0, 8.0, 7.0, 6.0, 5.0, 4.0, 3.0, 2.0, 1.0, 1.7616000175476074, 1.7616000175476074, 1.7616000175476074, 1.7616000175476074, 1.7615000009536743, 1.7615000009536743, 1.7615000009536743, 1.7615000009536743, 1.7615000009536743, 1.7615000009536743, 1.7615000009536743, 1.7615000009536743, 1.7613999843597412, 1.7613999843597412, 1.7613999843597412, 1.7613999843597412, 1.7613999843597412, 1.7613999843597412, 1.7613999843597412, 1.761299967765808, 1.761299967765808, 1.761299967765808, 1.761299967765808, 1.761299967765808, 1.761199951171875, 1.761199951171875, 1.761199951171875, 1.761199951171875, 1.761199951171875, 1.7611000537872314, 1.590000033378601, 1.5262999534606934, 1.4153000116348267, 1.3468999862670898, 1.3425999879837036, 1.3974000215530396, 1.570199966430664, 1.1039999723434448, 0.6262000203132629, 0.6726999878883362, 1.3407000303268433, 0.902999997138977, 0.710099995136261, 2.2100000381469727, 2.20989990234375, 2.20989990234375, 2.20989990234375, 2.2098000049591064, 2.2098000049591064, 2.2098000049591064, 2.2098000049591064, 2.2098000049591064, 2.2098000049591064, 2.2098000049591064, 2.2098000049591064, 2.209700107574463, 2.209700107574463, 2.209700107574463, 2.209700107574463, 2.209700107574463, 2.209700107574463, 2.209700107574463, 2.2095999717712402, 2.2095000743865967, 2.2095000743865967, 2.2095000743865967, 2.2095000743865967, 2.209399938583374, 2.209399938583374, 2.209399938583374, 2.209399938583374, 2.209399938583374, 2.209399938583374, 1.7472000122070312, 2.0611000061035156, 1.8372999429702759, 2.030400037765503, 1.9990999698638916, 1.976699948310852, 1.753000020980835, 1.5609999895095825, 0.8589000105857849, 0.9667999744415283, 0.2687999904155731, 2.2121999263763428, 2.212100028991699, 2.212100028991699, 2.212100028991699, 2.2119998931884766, 2.2119998931884766, 2.2119998931884766, 2.211899995803833, 2.211899995803833, 2.211899995803833, 2.211899995803833, 2.2118000984191895, 2.2118000984191895, 2.2118000984191895, 2.2118000984191895, 2.2118000984191895, 2.2118000984191895, 2.2118000984191895, 2.2118000984191895, 2.2118000984191895, 2.2118000984191895, 2.2118000984191895, 2.2118000984191895, 2.211699962615967, 2.211699962615967, 2.211699962615967, 2.2116000652313232, 2.2116000652313232, 2.2116000652313232, 2.2116000652313232, 2.0095999240875244, 1.8868999481201172, 1.93149995803833, 1.8158999681472778, 1.517300009727478, 1.7203999757766724, 1.914199948310852, 1.7197999954223633, 1.0097999572753906, 1.6698999404907227, 1.6571999788284302, 0.23819999396800995, 2.27620005607605, 2.27620005607605, 2.27620005607605, 2.27620005607605, 2.27620005607605, 2.276099920272827, 2.276099920272827, 2.276099920272827, 2.276099920272827, 2.2760000228881836, 2.2760000228881836, 2.2760000228881836, 2.2760000228881836, 2.2760000228881836, 2.275899887084961, 2.275899887084961, 2.275899887084961, 2.275899887084961, 2.275899887084961, 2.275899887084961, 2.275899887084961, 2.275899887084961, 2.2757999897003174, 2.2757999897003174, 2.2757999897003174, 2.2757999897003174, 2.2757999897003174, 2.275700092315674, 2.275700092315674, 2.275700092315674, 2.275099992752075, 2.115499973297119, 2.0764999389648438, 2.0480000972747803, 2.0448999404907227, 1.6833000183105469, 2.072200059890747, 1.6713999509811401, 1.6409000158309937, 1.2798999547958374, 1.9148000478744507, 2.0462000370025635, 1.3585000038146973, 1.236799955368042, 1.4569000005722046, 1.3308000564575195, 0.9948999881744385, 1.0214999914169312, 1.1420999765396118, 0.5814999938011169, 2.287600040435791, 2.287600040435791, 2.287400007247925, 2.287400007247925, 2.2873001098632812, 2.2873001098632812, 2.2873001098632812, 2.2873001098632812, 2.2873001098632812, 2.2871999740600586, 2.2871999740600586, 2.2871999740600586, 2.2871999740600586, 2.2871999740600586, 2.287100076675415, 2.287100076675415, 2.287100076675415, 2.287100076675415, 2.287100076675415, 2.287100076675415, 2.287100076675415, 2.287100076675415, 2.287100076675415, 2.2869999408721924, 2.2869999408721924, 2.2869999408721924, 2.2869999408721924, 2.286900043487549, 2.286900043487549, 2.286900043487549, 2.2867000102996826, 2.160399913787842, 1.8773000240325928, 1.857699990272522, 1.8149000406265259, 2.113300085067749, 1.9817999601364136, 1.888100028038025, 1.6119999885559082, 1.7984000444412231, 1.8934999704360962, 1.294700026512146, 1.1411999464035034, 1.4313000440597534, 0.965499997138977, 0.7998999953269958, 1.3180999755859375, 0.7425000071525574, 1.3422000408172607, 2.449899911880493, 2.449899911880493, 2.4498000144958496, 2.4498000144958496, 2.449700117111206, 2.449700117111206, 2.449700117111206, 2.449700117111206, 2.449700117111206, 2.449700117111206, 2.449700117111206, 2.4495999813079834, 2.4495999813079834, 2.44950008392334, 2.44950008392334, 2.44950008392334, 2.449399948120117, 2.449399948120117, 2.449399948120117, 2.449399948120117, 2.449399948120117, 2.4493000507354736, 2.4493000507354736, 2.4493000507354736, 2.449199914932251, 2.449199914932251, 2.449199914932251, 2.449199914932251, 2.449199914932251, 2.449199914932251, 2.0927000045776367, 2.0618999004364014, 2.0576000213623047, 2.198699951171875, 2.2004001140594482, 2.312000036239624, 2.200500011444092, 1.7863999605178833, 2.1510000228881836, 2.0153000354766846, 0.9309999942779541, 1.9635000228881836, 1.6217000484466553, 0.51419997215271, 2.451900005340576, 2.4518001079559326, 2.4518001079559326, 2.45169997215271, 2.45169997215271, 2.45169997215271, 2.4516000747680664, 2.4516000747680664, 2.4516000747680664, 2.4514999389648438, 2.4514999389648438, 2.4514000415802, 2.4514000415802, 2.4514000415802, 2.4514000415802, 2.4514000415802, 2.4514000415802, 2.4512999057769775, 2.451200008392334, 2.451200008392334, 2.451200008392334, 2.451200008392334, 2.4511001110076904, 2.4511001110076904, 2.4509999752044678, 2.450900077819824, 2.4507999420166016, 2.4507999420166016, 2.4507999420166016, 2.4507999420166016, 2.225600004196167, 2.2407000064849854, 2.205399990081787, 2.180000066757202, 1.8911999464035034, 2.0569000244140625, 1.9816999435424805, 1.5256999731063843, 1.6683000326156616, 1.964400053024292, 1.0334999561309814, 1.2165000438690186, 1.19350004196167, 0.8651999831199646, 0.447299987077713, 2.4765000343322754, 2.4765000343322754, 2.4765000343322754, 2.4763998985290527, 2.4763998985290527, 2.4763998985290527, 2.476300001144409, 2.476300001144409, 2.476300001144409, 2.4762001037597656, 2.4762001037597656, 2.4762001037597656, 2.4762001037597656, 2.4762001037597656, 2.4762001037597656, 2.4762001037597656, 2.476099967956543, 2.476099967956543, 2.476099967956543, 2.476099967956543, 2.476099967956543, 2.4760000705718994, 2.4760000705718994, 2.4760000705718994, 2.4760000705718994, 2.4760000705718994, 2.4760000705718994, 2.4760000705718994, 2.4760000705718994, 2.4760000705718994, 2.177000045776367, 2.2945001125335693, 2.126800060272217, 1.9559999704360962, 1.0987000465393066, 2.3015999794006348, 1.5225000381469727, 1.2487000226974487, 1.0506000518798828, 1.1888999938964844, 1.9845999479293823, 2.5662999153137207, 2.5662999153137207, 2.5662999153137207, 2.566200017929077, 2.566200017929077, 2.566200017929077, 2.566200017929077, 2.5660998821258545, 2.5660998821258545, 2.5660998821258545, 2.5660998821258545, 2.565999984741211, 2.565999984741211, 2.565999984741211, 2.565999984741211, 2.5659000873565674, 2.5659000873565674, 2.5657999515533447, 2.5657999515533447, 2.5657999515533447, 2.5657999515533447, 2.5657999515533447, 2.5657999515533447, 2.565700054168701, 2.565700054168701, 2.565700054168701, 2.565700054168701, 2.565700054168701, 2.565700054168701, 2.5655999183654785, 2.29229998588562, 2.0283000469207764, 1.9494999647140503, 2.197200059890747, 2.2249999046325684, 2.0099000930786133, 2.3261001110076904, 2.1598000526428223, 0.2603999972343445, 2.634700059890747, 2.634700059890747, 2.634700059890747, 2.634700059890747, 2.634700059890747, 2.6345999240875244, 2.634500026702881, 2.634500026702881, 2.634500026702881, 2.634500026702881, 2.634399890899658, 2.634399890899658, 2.6342999935150146, 2.6342999935150146, 2.6342999935150146, 2.634200096130371, 2.634200096130371, 2.634200096130371, 2.634200096130371, 2.634200096130371, 2.6340999603271484, 2.6340999603271484, 2.634000062942505, 2.634000062942505, 2.634000062942505, 2.634000062942505, 2.634000062942505, 2.6338999271392822, 2.6338999271392822, 2.6338999271392822, 2.390399932861328, 2.374500036239624, 2.3024001121520996, 1.9385000467300415, 1.7832000255584717, 2.0645999908447266, 2.4154999256134033, 2.1514999866485596, 1.5384999513626099, 1.4412000179290771, 0.8330000042915344, 0.5645999908447266], \"logprob\": [30.0, 29.0, 28.0, 27.0, 26.0, 25.0, 24.0, 23.0, 22.0, 21.0, 20.0, 19.0, 18.0, 17.0, 16.0, 15.0, 14.0, 13.0, 12.0, 11.0, 10.0, 9.0, 8.0, 7.0, 6.0, 5.0, 4.0, 3.0, 2.0, 1.0, -2.9277000427246094, -2.9946000576019287, -3.710700035095215, -3.831399917602539, -4.259699821472168, -4.281400203704834, -4.435699939727783, -4.441500186920166, -4.460400104522705, -4.495800018310547, -4.650300025939941, -4.705100059509277, -4.897600173950195, -4.994100093841553, -5.092100143432617, -5.148099899291992, -5.160999774932861, -5.191999912261963, -5.239200115203857, -5.44350004196167, -5.490300178527832, -5.501500129699707, -5.504000186920166, -5.5131001472473145, -5.6092000007629395, -5.667099952697754, -5.72599983215332, -5.737400054931641, -5.745699882507324, -5.839900016784668, -4.908599853515625, -5.002399921417236, -4.70550012588501, -4.580999851226807, -4.699399948120117, -4.896699905395508, -5.264800071716309, -4.799900054931641, -4.474800109863281, -4.728400230407715, -5.238999843597412, -5.081500053405762, -5.079100131988525, -4.029300212860107, -4.3165998458862305, -4.556399822235107, -4.5843000411987305, -4.803400039672852, -4.822299957275391, -4.854800224304199, -4.917300224304199, -4.9618000984191895, -4.974100112915039, -5.019100189208984, -5.071499824523926, -5.10290002822876, -5.145599842071533, -5.1493000984191895, -5.152200222015381, -5.179200172424316, -5.2210001945495605, -5.324399948120117, -5.343699932098389, -5.564000129699707, -5.633999824523926, -5.659800052642822, -5.701200008392334, -5.712399959564209, -5.741600036621094, -5.74560022354126, -5.427599906921387, -5.7494001388549805, -5.762800216674805, -4.432600021362305, -5.3267998695373535, -4.790500164031982, -5.325300216674805, -5.36959981918335, -5.417200088500977, -5.171899795532227, -5.046199798583984, -4.644100189208984, -4.77869987487793, -4.832200050354004, -2.7365000247955322, -3.788800001144409, -4.377799987792969, -4.380300045013428, -4.704899787902832, -4.753799915313721, -4.792399883270264, -4.957900047302246, -5.019000053405762, -5.023499965667725, -5.089900016784668, -5.150100231170654, -5.165299892425537, -5.181300163269043, -5.243000030517578, -5.247700214385986, -5.270199775695801, -5.2895002365112305, -5.30019998550415, -5.309899806976318, -5.317999839782715, -5.36959981918335, -5.377600193023682, -5.384399890899658, -5.400899887084961, -5.4145002365112305, -5.624000072479248, -5.664999961853027, -5.692999839782715, -5.708000183105469, -4.717800140380859, -4.414000034332275, -5.060800075531006, -4.936299800872803, -4.452199935913086, -4.792300224304199, -5.146699905395508, -5.017000198364258, -4.658400058746338, -5.05810022354126, -5.111100196838379, -4.862800121307373, -4.938600063323975, -4.960999965667725, -4.968999862670898, -4.976500034332275, -5.059199810028076, -5.195300102233887, -5.2804999351501465, -5.307300090789795, -5.353799819946289, -5.47629976272583, -5.4959001541137695, -5.531199932098389, -5.551000118255615, -5.566400051116943, -5.59089994430542, -5.602200031280518, -5.607900142669678, -5.632900238037109, -5.648600101470947, -5.662700176239014, -5.66349983215332, -5.715700149536133, -5.751299858093262, -5.756999969482422, -5.781899929046631, -5.791299819946289, -5.796199798583984, -5.861000061035156, -5.870699882507324, -5.878499984741211, -4.92110013961792, -3.9730000495910645, -4.741300106048584, -4.945300102233887, -5.073699951171875, -4.396900177001953, -5.493000030517578, -5.0183000564575195, -4.992599964141846, -4.760799884796143, -5.389900207519531, -5.499499797821045, -5.074399948120117, -5.057600021362305, -5.220600128173828, -5.1819000244140625, -5.306000232696533, -5.384900093078613, -5.416100025177002, -5.4542999267578125, -3.4802000522613525, -3.51200008392334, -4.751299858093262, -4.8765997886657715, -5.053100109100342, -5.066400051116943, -5.117000102996826, -5.128499984741211, -5.156899929046631, -5.28380012512207, -5.286799907684326, -5.298699855804443, -5.310699939727783, -5.422599792480469, -5.48199987411499, -5.492099761962891, -5.498899936676025, -5.537899971008301, -5.554699897766113, -5.561800003051758, -5.580900192260742, -5.60099983215332, -5.604800224304199, -5.673999786376953, -5.730400085449219, -5.747000217437744, -5.749100208282471, -5.77209997177124, -5.812099933624268, -5.887700080871582, -5.376200199127197, -4.466899871826172, -3.5237998962402344, -3.9314000606536865, -4.611299991607666, -5.423299789428711, -5.234300136566162, -5.101099967956543, -4.905799865722656, -5.105199813842773, -5.242400169372559, -4.885000228881836, -4.843299865722656, -5.138899803161621, -5.076399803161621, -5.104100227355957, -5.243899822235107, -5.185400009155273, -5.309000015258789, -4.334400177001953, -4.481299877166748, -4.592199802398682, -4.637400150299072, -4.8881001472473145, -4.947199821472168, -4.988800048828125, -4.994699954986572, -4.9969000816345215, -5.088900089263916, -5.089600086212158, -5.149099826812744, -5.262599945068359, -5.349899768829346, -5.368800163269043, -5.474899768829346, -5.519999980926514, -5.576700210571289, -5.578499794006348, -5.58459997177124, -5.587500095367432, -5.661399841308594, -5.674699783325195, -5.705900192260742, -5.74429988861084, -5.805200099945068, -5.811600208282471, -5.813600063323975, -5.815000057220459, -5.818999767303467, -3.5754001140594482, -4.496300220489502, -4.692800045013428, -5.1682000160217285, -5.2270002365112305, -5.487299919128418, -5.281499862670898, -4.971099853515625, -5.369900226593018, -5.318999767303467, -5.109799861907959, -5.480299949645996, -5.480199813842773, -5.4552998542785645, -3.1522998809814453, -3.6809000968933105, -4.158299922943115, -4.302199840545654, -4.337500095367432, -4.387599945068359, -4.88070011138916, -4.90500020980835, -4.9096999168396, -5.0295000076293945, -5.155300140380859, -5.205900192260742, -5.223499774932861, -5.229300022125244, -5.253300189971924, -5.327000141143799, -5.367599964141846, -5.486199855804443, -5.594900131225586, -5.6350998878479, -5.636099815368652, -5.644800186157227, -5.744500160217285, -5.776299953460693, -5.8105998039245605, -5.948699951171875, -5.990499973297119, -6.0055999755859375, -6.0289998054504395, -6.037899971008301, -4.942599773406982, -5.097400188446045, -5.210700035095215, -5.1579999923706055, -4.348400115966797, -4.832399845123291, -5.221700191497803, -4.956399917602539, -5.102799892425537, -5.345799922943115, -5.0467000007629395, -5.209700107574463, -5.212900161743164, -5.2555999755859375, -5.2982001304626465, -4.573699951171875, -4.658100128173828, -4.675899982452393, -4.921599864959717, -4.922900199890137, -4.936600208282471, -5.10260009765625, -5.161799907684326, -5.186500072479248, -5.212500095367432, -5.251699924468994, -5.252699851989746, -5.29610013961792, -5.3007001876831055, -5.310299873352051, -5.380499839782715, -5.417099952697754, -5.448599815368652, -5.452499866485596, -5.468599796295166, -5.502699851989746, -5.568900108337402, -5.577300071716309, -5.610799789428711, -5.611100196838379, -5.62529993057251, -5.638199806213379, -5.648099899291992, -5.659599781036377, -5.667900085449219, -3.3259999752044678, -4.325399875640869, -4.895199775695801, -4.889500141143799, -4.002299785614014, -5.4721999168396, -4.971499919891357, -4.990900039672852, -4.985199928283691, -5.21750020980835, -5.421599864959717, -4.163300037384033, -4.245800018310547, -4.45359992980957, -4.595600128173828, -4.598899841308594, -4.625699996948242, -4.666800022125244, -4.932499885559082, -4.935100078582764, -4.9745001792907715, -5.0233001708984375, -5.114799976348877, -5.131199836730957, -5.222300052642822, -5.239500045776367, -5.320700168609619, -5.404799938201904, -5.427199840545654, -5.435800075531006, -5.4542999267578125, -5.462600231170654, -5.470399856567383, -5.483799934387207, -5.618100166320801, -5.622099876403809, -5.652500152587891, -5.6579999923706055, -5.658199787139893, -5.667900085449219, -5.696800231933594, -4.7895002365112305, -4.506499767303467, -4.593599796295166, -5.090000152587891, -5.1631999015808105, -4.959799766540527, -5.488900184631348, -5.422399997711182, -4.84060001373291, -3.890899896621704, -3.960700035095215, -4.04640007019043, -4.100100040435791, -4.104700088500977, -4.351900100708008, -4.602499961853027, -4.618000030517578, -4.704699993133545, -4.839099884033203, -4.857100009918213, -4.961100101470947, -5.20389986038208, -5.218100070953369, -5.230999946594238, -5.248000144958496, -5.2692999839782715, -5.336900234222412, -5.380099773406982, -5.390699863433838, -5.432000160217285, -5.462399959564209, -5.565800189971924, -5.567399978637695, -5.573699951171875, -5.602799892425537, -5.61899995803833, -5.644499778747559, -5.648099899291992, -5.656899929046631, -4.708799839019775, -5.252099990844727, -5.212500095367432, -4.866099834442139, -4.822000026702881, -5.137800216674805, -5.424699783325195, -5.288899898529053, -5.031700134277344, -5.026500225067139, -4.912499904632568, -5.36329984664917]}, \"token.table\": {\"Topic\": [6, 4, 3, 4, 7, 8, 7, 1, 7, 6, 8, 9, 5, 1, 5, 6, 2, 7, 6, 7, 5, 6, 10, 7, 1, 6, 1, 1, 5, 1, 8, 9, 10, 8, 10, 4, 2, 7, 3, 9, 5, 3, 4, 2, 10, 1, 5, 1, 9, 10, 3, 1, 5, 5, 7, 2, 5, 5, 1, 2, 6, 7, 3, 9, 3, 10, 1, 5, 10, 4, 2, 8, 1, 7, 8, 5, 7, 3, 6, 4, 2, 1, 7, 1, 10, 1, 7, 4, 4, 4, 5, 1, 2, 5, 6, 7, 8, 9, 10, 3, 6, 3, 2, 3, 5, 6, 5, 4, 6, 10, 9, 5, 9, 2, 4, 2, 1, 8, 2, 2, 3, 4, 6, 7, 8, 2, 1, 2, 5, 6, 8, 7, 1, 5, 5, 1, 10, 8, 3, 2, 10, 7, 5, 7, 1, 3, 4, 5, 6, 7, 1, 5, 10, 2, 1, 7, 10, 3, 9, 3, 9, 5, 9, 8, 3, 9, 4, 1, 5, 4, 1, 5, 2, 1, 4, 5, 8, 3, 6, 10, 10, 6, 8, 7, 1, 5, 7, 3, 4, 2, 2, 7, 9, 8, 3, 5, 5, 2, 3, 4, 6, 8, 9, 7, 8, 9, 10, 9, 1, 4, 5, 7, 8, 1, 7, 6, 2, 5, 3, 9, 8, 1, 3, 2, 3, 2, 7, 4, 4, 2, 8, 6, 1, 10, 5, 8, 2, 7, 9, 5, 5, 6, 3, 8, 5, 9, 3, 4, 1, 3, 5, 6, 9, 10, 1, 3, 5, 6, 10, 8, 1, 10, 2, 5, 5, 6, 1, 5, 10, 5, 1, 7, 5, 10, 2, 8, 2, 3, 7, 4, 7, 7, 4, 7, 3, 2, 1, 10, 1, 5, 10, 1, 7, 9, 2, 7, 8, 8, 1, 3, 10, 1, 4, 7, 4, 9, 3, 4, 2, 4, 10, 5, 7, 5, 2, 3, 4, 6, 1, 8, 6, 3, 6, 9, 5, 1, 2, 5, 10, 4, 9, 2, 4, 7, 2, 3, 1, 1, 6, 1, 6, 1, 2, 2, 6, 1, 10, 7, 1, 7, 4, 4, 4, 7, 8, 9, 9, 1, 5, 10, 3, 6, 4, 3, 6, 1, 9, 4, 5, 6, 1, 1, 2, 5, 8, 9, 10, 1, 3, 5, 6, 7, 8, 1, 4, 9, 9, 5, 8, 10, 1, 5, 7, 10, 6, 10, 1, 1, 5, 1, 4, 10, 2, 5, 5, 4, 1, 2, 6, 3, 4, 8, 2, 6, 9, 2, 3, 8, 9, 3, 3, 1, 7, 8, 8, 7, 8, 3, 6, 2, 3, 7, 3, 2, 1, 2, 4, 5, 6, 7, 8, 9, 10, 2, 3, 1, 10, 10, 10, 8, 1, 5, 6, 5, 1, 3, 4, 2, 9, 2, 8, 9, 2, 5, 6, 3, 3, 6, 1, 2, 3, 4, 8, 9, 10, 5, 1, 3, 4, 2, 9, 1, 1, 1, 3, 4, 6, 7, 9, 10, 2, 4, 4, 6, 4, 10, 1, 1, 3, 5, 7, 9, 10, 10, 2, 4, 9, 4, 4, 4, 2, 8, 1, 6, 7, 1, 5, 9, 10, 1, 5, 7, 6, 10, 3, 6, 3, 7, 1, 8, 3, 8, 9, 9, 2, 5, 7, 3, 4, 1, 10, 10, 8, 9, 6, 9, 1, 10, 6, 4, 1, 2, 3, 4, 9, 7, 3, 4, 6, 7, 9, 6, 8, 8, 10, 7, 5, 7, 3, 3, 1, 5, 10, 9, 10, 1, 8, 8, 9, 2, 3, 9, 10, 6, 9, 8, 3, 4, 6, 2, 5, 8, 6, 7, 4, 6, 6, 10, 7, 2, 3, 4, 6, 6, 6, 1, 2, 3, 1, 2, 4, 7, 8], \"Freq\": [0.9994820356369019, 0.9993403553962708, 0.6115385890007019, 0.3884252607822418, 0.9989463686943054, 0.9992080926895142, 0.9995355010032654, 0.8423717021942139, 0.15762919187545776, 0.9991783499717712, 0.9991480708122253, 0.9995449185371399, 0.9995397329330444, 0.3096752464771271, 0.07542834430932999, 0.6147410273551941, 0.99935382604599, 0.9995062351226807, 0.9994584321975708, 0.9996252655982971, 0.41622698307037354, 0.5149569511413574, 0.06856247782707214, 0.9999381899833679, 0.9995317459106445, 0.9995454549789429, 0.9996436834335327, 0.9999329447746277, 0.9994406700134277, 0.21358416974544525, 0.0682118609547615, 0.583853006362915, 0.13439762592315674, 0.9996225237846375, 0.999339759349823, 0.9995474219322205, 0.20230679214000702, 0.797457754611969, 0.9991508722305298, 0.9997478127479553, 0.9997857809066772, 0.9996333718299866, 0.9996556043624878, 0.9999346137046814, 0.9994307160377502, 0.9998278021812439, 0.9990911483764648, 0.9996542930603027, 0.9991416931152344, 0.9993909001350403, 0.9996926784515381, 0.9997294545173645, 0.9993817210197449, 0.7364813685417175, 0.26329123973846436, 0.9998220205307007, 0.9997498393058777, 0.9994034171104431, 0.11045069247484207, 0.3280772566795349, 0.4367417097091675, 0.12474080920219421, 0.9998086094856262, 0.9997349977493286, 0.9995386600494385, 0.9990540146827698, 0.6576457619667053, 0.26652392745018005, 0.07570765167474747, 0.9995438456535339, 0.9995713829994202, 0.9994591474533081, 0.1362449675798416, 0.5707457661628723, 0.2928512692451477, 0.9993939995765686, 0.9993503093719482, 0.9995156526565552, 0.9994327425956726, 0.9992353916168213, 0.9996510744094849, 0.5430126190185547, 0.45682352781295776, 0.9998824000358582, 0.9995826482772827, 0.7902373671531677, 0.20960000157356262, 0.9991644620895386, 0.9994728565216064, 0.7943491339683533, 0.20508313179016113, 0.1272924691438675, 0.2884018123149872, 0.14861012995243073, 0.0795961394906044, 0.13473065197467804, 0.0059045301750302315, 0.05053357779979706, 0.16502012312412262, 0.30043959617614746, 0.6994642615318298, 0.9998535513877869, 0.07731162011623383, 0.04805024713277817, 0.6742435693740845, 0.2002093642950058, 0.9995590448379517, 0.9995096921920776, 0.9986148476600647, 0.9995628595352173, 0.9997134804725647, 0.23954011499881744, 0.7600511312484741, 0.9996837973594666, 0.9993709325790405, 0.9995996952056885, 0.9997696876525879, 0.9990649223327637, 0.9994125962257385, 0.5226239562034607, 0.1043795719742775, 0.07896541804075241, 0.1621060073375702, 0.13124597072601318, 0.0007261187420226634, 0.9996162056922913, 0.4237484931945801, 0.13313357532024384, 0.3177870213985443, 0.05940854549407959, 0.06593374907970428, 0.9998346567153931, 0.3494298458099365, 0.6505547165870667, 0.999372124671936, 0.21673841774463654, 0.7832273244857788, 0.9995187520980835, 0.9994664788246155, 0.9998118281364441, 0.9995135068893433, 0.9989944100379944, 0.9995942711830139, 0.9992720484733582, 0.05892987549304962, 0.16545695066452026, 0.36913591623306274, 0.10817546397447586, 0.2189265489578247, 0.0794316977262497, 0.6946913599967957, 0.1677664965391159, 0.13737209141254425, 0.9997370839118958, 0.7072603106498718, 0.20457758009433746, 0.08805876225233078, 0.9996550679206848, 0.9994122982025146, 0.9994076490402222, 0.9993717074394226, 0.9990727305412292, 0.0005217089783400297, 0.9991003274917603, 0.9997988343238831, 0.9991885423660278, 0.9995296597480774, 0.15955647826194763, 0.840085506439209, 0.9996722340583801, 0.49106094241142273, 0.5088241100311279, 0.9992589950561523, 0.4391358196735382, 0.18148402869701385, 0.3792773187160492, 0.9994996786117554, 0.2580201327800751, 0.7414684295654297, 0.9998728036880493, 0.9993603825569153, 0.9995943903923035, 0.9992707967758179, 0.999812126159668, 0.383959025144577, 0.21977129578590393, 0.39597275853157043, 0.3033517897129059, 0.69639652967453, 0.9991739988327026, 0.21805481612682343, 0.7813291549682617, 0.9986537098884583, 0.9990870356559753, 0.9997933506965637, 0.9999271035194397, 0.9994827508926392, 0.06359836459159851, 0.22266066074371338, 0.35357505083084106, 0.18574970960617065, 0.0678471103310585, 0.10661688446998596, 0.9990154504776001, 0.9996192455291748, 0.28211063146591187, 0.7171999216079712, 0.9995680451393127, 0.0840529128909111, 0.2851264774799347, 0.07083611190319061, 0.2840869724750519, 0.2759192883968353, 0.9998233318328857, 0.9990842342376709, 0.9996038675308228, 0.9992848634719849, 0.999533474445343, 0.9997619390487671, 0.9991912841796875, 0.9992128014564514, 0.9996904730796814, 0.9993821978569031, 0.3269333243370056, 0.6727524399757385, 0.9996023774147034, 0.9994498491287231, 0.9995779991149902, 0.9994469285011292, 0.29491138458251953, 0.7047090530395508, 0.999561607837677, 0.9995909333229065, 0.9990499019622803, 0.9992216229438782, 0.9995629191398621, 0.9996834397315979, 0.9990092515945435, 0.9994686841964722, 0.9995644092559814, 0.8804185390472412, 0.11945097893476486, 0.9995627999305725, 0.9993401765823364, 0.21319371461868286, 0.7865694165229797, 0.18453046679496765, 0.8152461051940918, 0.16783475875854492, 0.08778563141822815, 0.27693524956703186, 0.1179422065615654, 0.04626113548874855, 0.303144633769989, 0.5180842280387878, 0.052922580391168594, 0.22588686645030975, 0.10566546022891998, 0.09739911556243896, 0.9996441602706909, 0.19622735679149628, 0.8029748201370239, 0.6294264197349548, 0.3704110085964203, 0.9995191097259521, 0.9992771744728088, 0.49187394976615906, 0.38849127292633057, 0.1195065900683403, 0.9996299743652344, 0.999521791934967, 0.9995920062065125, 0.9989305138587952, 0.9997449517250061, 0.9997538924217224, 0.9993095993995667, 0.27400240302085876, 0.6112361550331116, 0.11468426883220673, 0.9991938471794128, 0.99974125623703, 0.9992887377738953, 0.9993985891342163, 0.999774158000946, 0.999527633190155, 0.999381959438324, 0.43420419096946716, 0.5652226209640503, 0.6604993939399719, 0.21323354542255402, 0.12617315351963043, 0.9996424913406372, 0.9983729124069214, 0.9995133876800537, 0.9997774362564087, 0.6141160130500793, 0.3857015371322632, 0.9994187355041504, 0.1832117736339569, 0.816571831703186, 0.9989817142486572, 0.14008116722106934, 0.1860528290271759, 0.6736893653869629, 0.9994590878486633, 0.9992186427116394, 0.7423961758613586, 0.2574668824672699, 0.20403367280960083, 0.7955710887908936, 0.9994073510169983, 0.9996766448020935, 0.9988093972206116, 0.9995718002319336, 0.2553043067455292, 0.1961033195257187, 0.44050219655036926, 0.10788603127002716, 0.9999711513519287, 0.9992058277130127, 0.9995291233062744, 0.9996787309646606, 0.9996901750564575, 0.9995005130767822, 0.9994074702262878, 0.999796986579895, 0.9998326897621155, 0.9996584057807922, 0.9992462992668152, 0.9995387196540833, 0.9992890357971191, 0.6887562274932861, 0.12748567759990692, 0.18363125622272491, 0.9996444582939148, 0.9995100498199463, 0.9997437596321106, 0.12856362760066986, 0.871242880821228, 0.9994723796844482, 0.999565839767456, 0.13789992034435272, 0.8614782094955444, 0.9994558095932007, 0.9993212223052979, 0.9996400475502014, 0.9991883039474487, 0.9987359642982483, 0.8256823420524597, 0.17393584549427032, 0.9996184706687927, 0.9993811249732971, 0.9994542002677917, 0.9997102618217468, 0.9995169043540955, 0.9995675086975098, 0.9992552399635315, 0.2410704344511032, 0.42475980520248413, 0.33413970470428467, 0.999757707118988, 0.9997591972351074, 0.9997903108596802, 0.22053162753582, 0.7790743708610535, 0.4603564143180847, 0.5395227074623108, 0.9994840025901794, 0.9997000694274902, 0.9995247721672058, 0.9998225569725037, 0.12660229206085205, 0.12076659500598907, 0.11541720479726791, 0.3851563036441803, 0.1280612200498581, 0.12384655326604843, 0.163951575756073, 0.4991457164287567, 0.03971676528453827, 0.14428506791591644, 0.15291914343833923, 0.999518871307373, 0.148701012134552, 0.8512484431266785, 0.9992895722389221, 0.9995753169059753, 0.9994668960571289, 0.9993319511413574, 0.9995933175086975, 0.19570964574813843, 0.15325060486793518, 0.1525871902704239, 0.49845147132873535, 0.9989169239997864, 0.9998469352722168, 0.9998777508735657, 0.33659255504608154, 0.6634036302566528, 0.18106912076473236, 0.8186206817626953, 0.99980229139328, 0.999910295009613, 0.9991567730903625, 0.9995901584625244, 0.9997862577438354, 0.9999744892120361, 0.809806227684021, 0.18971936404705048, 0.9995043873786926, 0.16029974818229675, 0.8393877148628235, 0.15548434853553772, 0.6474758982658386, 0.19679661095142365, 0.1190045103430748, 0.5812991261482239, 0.2871675193309784, 0.012289621867239475, 0.9996394515037537, 0.9996848106384277, 0.374985009431839, 0.624755322933197, 0.9995898008346558, 0.9996041655540466, 0.7618526816368103, 0.23786690831184387, 0.9997755289077759, 0.9997596144676208, 0.9993659257888794, 0.9995185732841492, 0.9992782473564148, 0.9994732737541199, 0.9991547465324402, 0.1782657355070114, 0.17631803452968597, 0.18359628319740295, 0.07093725353479385, 0.018964439630508423, 0.00645816046744585, 0.24028457701206207, 0.08744144439697266, 0.03762134909629822, 0.2446601390838623, 0.7553248405456543, 0.22892509400844574, 0.7707983255386353, 0.9994033575057983, 0.9997479319572449, 0.9997022747993469, 0.23122291266918182, 0.6130947470664978, 0.15553219616413116, 0.9994282126426697, 0.9998672008514404, 0.9993382096290588, 0.9988095760345459, 0.9992016553878784, 0.9995310306549072, 0.3882681727409363, 0.6114618182182312, 0.9991479516029358, 0.9997895956039429, 0.32448527216911316, 0.6753650903701782, 0.9997773766517639, 0.22194775938987732, 0.777593195438385, 0.3212742209434509, 0.1435086578130722, 0.13887934386730194, 0.0001207646491820924, 0.25207608938217163, 0.09963083267211914, 0.04444139078259468, 0.9999250173568726, 0.999721884727478, 0.0013085167156532407, 0.9983982443809509, 0.9998393654823303, 0.9988480806350708, 0.9999585747718811, 0.9999393224716187, 0.09621568769216537, 0.16361241042613983, 0.3993484675884247, 0.13387855887413025, 0.12152758240699768, 0.08538951724767685, 0.9995781779289246, 0.7917788028717041, 0.2077123522758484, 0.9994131326675415, 0.9995684623718262, 0.9990074634552002, 0.9994308352470398, 0.999759316444397, 0.21395449340343475, 0.0884079560637474, 0.13333658874034882, 0.023551300168037415, 0.11395205557346344, 0.4266408383846283, 0.9993006587028503, 0.2040310800075531, 0.1299254596233368, 0.6659882664680481, 0.9997363090515137, 0.9992265105247498, 0.9996933937072754, 0.25891977548599243, 0.74101722240448, 0.9993962645530701, 0.9996586441993713, 0.9997004270553589, 0.32925060391426086, 0.6704691648483276, 0.7106964588165283, 0.28895577788352966, 0.08588404208421707, 0.6231516003608704, 0.29067280888557434, 0.9994893670082092, 0.9998049139976501, 0.22072336077690125, 0.7792797088623047, 0.9995163083076477, 0.9997584819793701, 0.9998905062675476, 0.9994409084320068, 0.21048703789710999, 0.21622522175312042, 0.5730359554290771, 0.9994993805885315, 0.9997295141220093, 0.1900223344564438, 0.8094800710678101, 0.2064668834209442, 0.7931718826293945, 0.9998323321342468, 0.9994677305221558, 0.9993277192115784, 0.3085170388221741, 0.6912071704864502, 0.9994421601295471, 0.9996206760406494, 0.38295143842697144, 0.616814911365509, 0.9995946288108826, 0.9993783831596375, 0.15514196455478668, 0.08654043078422546, 0.21230989694595337, 0.5460523962974548, 0.9994219541549683, 0.9995261430740356, 0.23408721387386322, 0.529678225517273, 0.12487136572599411, 0.042866289615631104, 0.068586066365242, 0.9991248250007629, 0.9994957447052002, 0.9996732473373413, 0.9994885921478271, 0.9995596408843994, 0.9989743828773499, 0.9998002052307129, 0.9999508261680603, 0.9996243119239807, 0.6563988924026489, 0.17376822233200073, 0.1697065681219101, 0.9996463656425476, 0.9996129870414734, 0.16637979447841644, 0.8333697319030762, 0.9990519285202026, 0.9990115165710449, 0.632992148399353, 0.36662667989730835, 0.9990267157554626, 0.9995718598365784, 0.9995753765106201, 0.9998132586479187, 0.9994669556617737, 0.5741048455238342, 0.21283678710460663, 0.21283678710460663, 0.10321345180273056, 0.30249834060668945, 0.594168484210968, 0.9998792409896851, 0.9997199773788452, 0.3216596245765686, 0.6782334446907043, 0.9996398091316223, 0.9998362064361572, 0.9990580677986145, 0.99966961145401, 0.7222974300384521, 0.2775599956512451, 0.9994181394577026, 0.999424159526825, 0.9988194108009338, 0.9999641180038452, 0.8353682160377502, 0.16423408687114716, 0.2036181539297104, 0.00171467917971313, 0.5525553822517395, 0.24209126830101013, 0.9996223449707031], \"Term\": [\"10\", \"2015\", \"2016\", \"2016\", \"911\", \"abortion\", \"abuse\", \"accused\", \"accused\", \"across\", \"activist\", \"air\", \"akron\", \"alert\", \"alert\", \"alert\", \"america\", \"american\", \"animal\", \"appeal\", \"area\", \"area\", \"area\", \"arizona\", \"armed\", \"around\", \"arrest\", \"arrested\", \"asu\", \"attack\", \"attack\", \"attack\", \"attack\", \"attorney\", \"avenue\", \"award\", \"ban\", \"ban\", \"baseball\", \"battle\", \"bay\", \"beat\", \"best\", \"bill\", \"blast\", \"blotter\", \"board\", \"body\", \"book\", \"border\", \"bowl\", \"boy\", \"bridge\", \"brown\", \"brown\", \"budget\", \"building\", \"bus\", \"california\", \"california\", \"california\", \"california\", \"campaign\", \"cancer\", \"candidate\", \"canyon\", \"car\", \"car\", \"car\", \"card\", \"care\", \"cartoon\", \"case\", \"case\", \"case\", \"cause\", \"celebrates\", \"celebrity\", \"chance\", \"chandler\", \"change\", \"charge\", \"charge\", \"charged\", \"check\", \"child\", \"child\", \"chris\", \"christie\", \"christmas\", \"christmas\", \"city\", \"city\", \"city\", \"city\", \"city\", \"city\", \"city\", \"city\", \"cleveland\", \"cleveland\", \"clinton\", \"close\", \"close\", \"close\", \"close\", \"closed\", \"coach\", \"cold\", \"collision\", \"comment\", \"community\", \"community\", \"company\", \"concert\", \"congress\", \"cop\", \"cosby\", \"cost\", \"could\", \"could\", \"could\", \"could\", \"could\", \"could\", \"council\", \"county\", \"county\", \"county\", \"county\", \"county\", \"court\", \"crash\", \"crash\", \"crew\", \"crime\", \"crime\", \"crisis\", \"cruz\", \"cut\", \"dad\", \"daily\", \"damage\", \"daughter\", \"day\", \"day\", \"day\", \"day\", \"day\", \"day\", \"dead\", \"dead\", \"dead\", \"deal\", \"death\", \"death\", \"death\", \"debate\", \"delaware\", \"democratic\", \"detail\", \"district\", \"district\", \"doesnt\", \"donald\", \"donation\", \"dont\", \"downtown\", \"downtown\", \"draft\", \"driver\", \"driver\", \"ducey\", \"dy\", \"dy\", \"dy\", \"eagle\", \"early\", \"early\", \"east\", \"email\", \"expected\", \"expert\", \"face\", \"family\", \"family\", \"family\", \"fan\", \"fan\", \"fda\", \"federal\", \"federal\", \"fighting\", \"file\", \"final\", \"fire\", \"firefighter\", \"first\", \"first\", \"first\", \"first\", \"first\", \"first\", \"flag\", \"flint\", \"foke\", \"foke\", \"force\", \"former\", \"former\", \"former\", \"former\", \"former\", \"found\", \"fraud\", \"friday\", \"fund\", \"funding\", \"game\", \"garden\", \"general\", \"girl\", \"glendale\", \"gop\", \"gop\", \"gov\", \"grand\", \"great\", \"green\", \"group\", \"group\", \"guard\", \"guilty\", \"gunpoint\", \"hall\", \"harbor\", \"health\", \"hearing\", \"heart\", \"height\", \"high\", \"high\", \"hillary\", \"hire\", \"historic\", \"historic\", \"history\", \"history\", \"hit\", \"hit\", \"hit\", \"hit\", \"hit\", \"hit\", \"home\", \"home\", \"home\", \"home\", \"home\", \"hospitalized\", \"hotel\", \"hotel\", \"house\", \"house\", \"hurt\", \"ice\", \"injured\", \"injured\", \"injured\", \"injury\", \"investigating\", \"jackson\", \"james\", \"jersey\", \"job\", \"joe\", \"john\", \"john\", \"john\", \"jose\", \"judge\", \"jury\", \"justice\", \"kansa\", \"kasich\", \"key\", \"kill\", \"kill\", \"killed\", \"killed\", \"killed\", \"killing\", \"lakewood\", \"launch\", \"lawmaker\", \"lawsuit\", \"lawsuit\", \"lawyer\", \"lead\", \"lead\", \"least\", \"life\", \"life\", \"life\", \"like\", \"link\", \"live\", \"live\", \"look\", \"look\", \"lost\", \"louisiana\", \"low\", \"lsu\", \"make\", \"make\", \"make\", \"make\", \"man\", \"maricopa\", \"marijuana\", \"mccain\", \"medical\", \"memo\", \"memorial\", \"men\", \"mesa\", \"metro\", \"middle\", \"mike\", \"military\", \"million\", \"million\", \"million\", \"milwaukee\", \"miss\", \"missing\", \"mississippi\", \"mississippi\", \"mom\", \"monday\", \"money\", \"money\", \"montini\", \"morning\", \"mother\", \"mountain\", \"movie\", \"murder\", \"murder\", \"music\", \"name\", \"named\", \"nashville\", \"nba\", \"nbc\", \"ncaa\", \"near\", \"near\", \"near\", \"newark\", \"news\", \"nfl\", \"night\", \"night\", \"north\", \"north\", \"number\", \"oakland\", \"obamacare\", \"officer\", \"official\", \"official\", \"official\", \"official\", \"official\", \"official\", \"ohio\", \"ohio\", \"ohio\", \"ohio\", \"ohio\", \"order\", \"orleans\", \"orleans\", \"panel\", \"patient\", \"pedestrian\", \"pennsylvania\", \"penny\", \"people\", \"people\", \"people\", \"people\", \"pet\", \"philadelphia\", \"philly\", \"phoenix\", \"phoenix\", \"photo\", \"photo\", \"phx\", \"plan\", \"plane\", \"planned\", \"player\", \"police\", \"politics\", \"politics\", \"poll\", \"post\", \"post\", \"power\", \"power\", \"power\", \"president\", \"president\", \"president\", \"president\", \"presidential\", \"primary\", \"prison\", \"prison\", \"probe\", \"prosecutor\", \"protest\", \"protest\", \"race\", \"rain\", \"raise\", \"rally\", \"recall\", \"red\", \"rep\", \"report\", \"report\", \"report\", \"report\", \"report\", \"report\", \"report\", \"report\", \"report\", \"republican\", \"republican\", \"rescue\", \"rescue\", \"rescued\", \"resident\", \"right\", \"road\", \"road\", \"road\", \"robber\", \"robbery\", \"robert\", \"roll\", \"roundup\", \"royal\", \"rule\", \"rule\", \"russian\", \"saint\", \"san\", \"san\", \"sander\", \"saturday\", \"saturday\", \"say\", \"say\", \"say\", \"say\", \"say\", \"say\", \"say\", \"school\", \"search\", \"season\", \"season\", \"senate\", \"septum\", \"shooting\", \"shot\", \"show\", \"show\", \"show\", \"show\", \"show\", \"show\", \"side\", \"sign\", \"sign\", \"since\", \"snow\", \"social\", \"soldier\", \"son\", \"south\", \"south\", \"south\", \"south\", \"south\", \"south\", \"southern\", \"special\", \"special\", \"special\", \"sport\", \"stand\", \"star\", \"state\", \"state\", \"stolen\", \"storm\", \"story\", \"street\", \"street\", \"strike\", \"strike\", \"student\", \"student\", \"student\", \"summer\", \"sun\", \"sunday\", \"sunday\", \"super\", \"supreme\", \"suspect\", \"syria\", \"talk\", \"talk\", \"talk\", \"target\", \"tax\", \"teacher\", \"teacher\", \"team\", \"team\", \"teen\", \"tempe\", \"tennessee\", \"test\", \"test\", \"thousand\", \"threat\", \"three\", \"three\", \"thursday\", \"ticket\", \"time\", \"time\", \"time\", \"time\", \"title\", \"today\", \"top\", \"top\", \"top\", \"top\", \"top\", \"tornado\", \"township\", \"trade\", \"train\", \"travel\", \"tree\", \"trial\", \"trump\", \"tuesday\", \"two\", \"two\", \"two\", \"urge\", \"used\", \"valley\", \"valley\", \"virus\", \"volunteer\", \"vote\", \"vote\", \"walker\", \"wall\", \"warning\", \"warrior\", \"washington\", \"watch\", \"watch\", \"watch\", \"water\", \"water\", \"water\", \"weather\", \"wednesday\", \"week\", \"week\", \"weekend\", \"west\", \"whats\", \"white\", \"win\", \"win\", \"wind\", \"winter\", \"wisconsin\", \"woman\", \"would\", \"would\", \"year\", \"year\", \"year\", \"year\", \"zika\"]}, \"R\": 30, \"lambda.step\": 0.01, \"plot.opts\": {\"xlab\": \"PC1\", \"ylab\": \"PC2\"}, \"topic.order\": [9, 8, 1, 4, 6, 2, 5, 10, 7, 3]};\n",
       "\n",
       "function LDAvis_load_lib(url, callback){\n",
       "  var s = document.createElement('script');\n",
       "  s.src = url;\n",
       "  s.async = true;\n",
       "  s.onreadystatechange = s.onload = callback;\n",
       "  s.onerror = function(){console.warn(\"failed to load library \" + url);};\n",
       "  document.getElementsByTagName(\"head\")[0].appendChild(s);\n",
       "}\n",
       "\n",
       "if(typeof(LDAvis) !== \"undefined\"){\n",
       "   // already loaded: just create the visualization\n",
       "   !function(LDAvis){\n",
       "       new LDAvis(\"#\" + \"ldavis_el346571149487379289408816103\", ldavis_el346571149487379289408816103_data);\n",
       "   }(LDAvis);\n",
       "}else if(typeof define === \"function\" && define.amd){\n",
       "   // require.js is available: use it to load d3/LDAvis\n",
       "   require.config({paths: {d3: \"https://cdnjs.cloudflare.com/ajax/libs/d3/3.5.5/d3.min\"}});\n",
       "   require([\"d3\"], function(d3){\n",
       "      window.d3 = d3;\n",
       "      LDAvis_load_lib(\"https://cdn.rawgit.com/bmabey/pyLDAvis/files/ldavis.v1.0.0.js\", function(){\n",
       "        new LDAvis(\"#\" + \"ldavis_el346571149487379289408816103\", ldavis_el346571149487379289408816103_data);\n",
       "      });\n",
       "    });\n",
       "}else{\n",
       "    // require.js not available: dynamically load d3 & LDAvis\n",
       "    LDAvis_load_lib(\"https://cdnjs.cloudflare.com/ajax/libs/d3/3.5.5/d3.min.js\", function(){\n",
       "         LDAvis_load_lib(\"https://cdn.rawgit.com/bmabey/pyLDAvis/files/ldavis.v1.0.0.js\", function(){\n",
       "                 new LDAvis(\"#\" + \"ldavis_el346571149487379289408816103\", ldavis_el346571149487379289408816103_data);\n",
       "            })\n",
       "         });\n",
       "}\n",
       "</script>"
      ],
      "text/plain": [
       "<IPython.core.display.HTML object>"
      ]
     },
     "execution_count": 41,
     "metadata": {},
     "output_type": "execute_result"
    }
   ],
   "source": [
    "# http://tlfvincent.github.io/2015/10/23/presidential-speech-topics/#topic=1&lambda=1&term=\n",
    "vis_data = gensimvis.prepare(tweet_topics, corpus, dictionary)\n",
    "pyLDAvis.display(vis_data)"
   ]
  },
  {
   "cell_type": "markdown",
   "metadata": {},
   "source": [
    "### Output Visualization Tool to HTML"
   ]
  },
  {
   "cell_type": "code",
   "execution_count": 42,
   "metadata": {},
   "outputs": [],
   "source": [
    "# save viz output to an HTML file\n",
    "vis_data = gensimvis.prepare(tweet_topics, corpus, dictionary)\n",
    "\n",
    "pyLDAvis.save_html(vis_data, 'pyLDAviz_newsfeed.html')"
   ]
  },
  {
   "cell_type": "markdown",
   "metadata": {},
   "source": [
    "### Next, examine the hashtags and topics of each troll group\n",
    "Analyze the hashtags, mentions, and topics of each of the seven \"troll classes\", as defined by Clemson University's Darren Linvill and Patrick Warren in their analysis of the Russian Troll Farm Twitter data."
   ]
  }
 ],
 "metadata": {
  "hide_input": false,
  "kernelspec": {
   "display_name": "Python 3",
   "language": "python",
   "name": "python3"
  },
  "language_info": {
   "codemirror_mode": {
    "name": "ipython",
    "version": 3
   },
   "file_extension": ".py",
   "mimetype": "text/x-python",
   "name": "python",
   "nbconvert_exporter": "python",
   "pygments_lexer": "ipython3",
   "version": "3.6.7"
  }
 },
 "nbformat": 4,
 "nbformat_minor": 2
}
