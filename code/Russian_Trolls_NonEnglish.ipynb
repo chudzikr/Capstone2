{
 "cells": [
  {
   "cell_type": "markdown",
   "metadata": {},
   "source": [
    "# Capstone 2 Project - Russian Troll Group - NonEnglish"
   ]
  },
  {
   "cell_type": "markdown",
   "metadata": {},
   "source": [
    "In the analysis of each troll group, each of the troll groups* will be segmented out and analyzed each individually.  The \"troll classes\", as defined by Clemson University's Darren Linvill and Patrick Warren in their analysis of the Russian Troll Farm Twitter data.\n",
    "\n",
    "I will analyze the Troll Groups to explore questions about the nature of the disinformation campaign, such as:\n",
    "* Did other trolls retweet and amplify troll tweets?\n",
    "* Can common topics or themes be identified?\n",
    "* What were the most-used hashtags?\n",
    "* Did the tweets predominantly support one candidate or political party, or seek to undermine the other?"
   ]
  },
  {
   "cell_type": "markdown",
   "metadata": {},
   "source": [
    "## Data Dictionary\n",
    "\n",
    "Header | Definition\n",
    "-------|---------\n",
    "`external_author_id` | An author account ID from Twitter \n",
    "`author` | The handle sending the tweet\n",
    "`content` | The text of the tweet\n",
    "`region` | A region classification, as [determined by Social Studio](https://help.salesforce.com/articleView?   id=000199367&type=1)\n",
    "`language` | The language of the tweet\n",
    "`publish_date` | The date and time the tweet was sent\n",
    "`harvested_date` | The date and time the tweet was collected by Social Studio\n",
    "`following` | The number of accounts the handle was following at the time of the tweet\n",
    "`followers` | The number of followers the handle had at the time of the tweet\n",
    "`updates` | The number of “update actions” on the account that authored the tweet, including tweets, retweets and likes\n",
    "`post_type` | Indicates if the tweet was a retweet or a quote-tweet\n",
    "`account_type` | Specific account theme, as coded by Linvill and Warren\n",
    "`retweet` | A binary indicator of whether or not the tweet is a retweet\n",
    "`account_category` | General account theme, as coded by Linvill and Warren\n",
    "`new_june_2018` | A binary indicator of whether the handle was newly listed in June 2018"
   ]
  },
  {
   "cell_type": "code",
   "execution_count": 1,
   "metadata": {},
   "outputs": [],
   "source": [
    "# import standard libraries\n",
    "import pandas as pd\n",
    "pd.set_option(\"display.max_colwidth\", 200)\n",
    "#import numpy as np\n",
    "#import datetime\n",
    "import re\n",
    "import matplotlib.pyplot as plt\n",
    "import seaborn as sns\n",
    "#get_ipython().run_line_magic('matplotlib', 'inline')"
   ]
  },
  {
   "cell_type": "code",
   "execution_count": 2,
   "metadata": {},
   "outputs": [],
   "source": [
    "# import nltk libraries\n",
    "from nltk.corpus import stopwords\n",
    "from nltk import FreqDist\n",
    "#nltk.download('stopwords') # run one time"
   ]
  },
  {
   "cell_type": "code",
   "execution_count": 3,
   "metadata": {},
   "outputs": [],
   "source": [
    "# import gensim libraries\n",
    "from gensim.models.ldamulticore import LdaMulticore\n",
    "from gensim.test.utils import datapath\n",
    "from gensim import corpora\n",
    "from gensim.utils import any2unicode"
   ]
  },
  {
   "cell_type": "code",
   "execution_count": 4,
   "metadata": {},
   "outputs": [],
   "source": [
    "# read each troll classification file as 'df', for repurposing code for each class\n",
    "# nrows=100, \n",
    "full_df = pd.read_csv('../data/all_IRAhandle_tweets.csv', parse_dates = ['publish_date'], low_memory=False)\n",
    "#name = 'Right Troll'"
   ]
  },
  {
   "cell_type": "code",
   "execution_count": 5,
   "metadata": {},
   "outputs": [],
   "source": [
    "df = full_df[full_df['account_category'] == \"NonEnglish\"]"
   ]
  },
  {
   "cell_type": "code",
   "execution_count": 6,
   "metadata": {},
   "outputs": [
    {
     "name": "stderr",
     "output_type": "stream",
     "text": [
      "/Users/admin/anaconda3/lib/python3.6/site-packages/pandas/core/frame.py:3697: SettingWithCopyWarning: \n",
      "A value is trying to be set on a copy of a slice from a DataFrame\n",
      "\n",
      "See the caveats in the documentation: http://pandas.pydata.org/pandas-docs/stable/indexing.html#indexing-view-versus-copy\n",
      "  errors=errors)\n"
     ]
    }
   ],
   "source": [
    "df.drop('Unnamed: 0', axis=1, inplace=True)\n",
    "# drop rows with problematic character encoding\n",
    "#df.drop([58, 59], axis=0, inplace=True)\n",
    "#df.head()"
   ]
  },
  {
   "cell_type": "code",
   "execution_count": 7,
   "metadata": {},
   "outputs": [
    {
     "name": "stderr",
     "output_type": "stream",
     "text": [
      "/Users/admin/anaconda3/lib/python3.6/site-packages/ipykernel_launcher.py:1: SettingWithCopyWarning: \n",
      "A value is trying to be set on a copy of a slice from a DataFrame.\n",
      "Try using .loc[row_indexer,col_indexer] = value instead\n",
      "\n",
      "See the caveats in the documentation: http://pandas.pydata.org/pandas-docs/stable/indexing.html#indexing-view-versus-copy\n",
      "  \"\"\"Entry point for launching an IPython kernel.\n"
     ]
    }
   ],
   "source": [
    "df['cleaned'] = df['content'].fillna('').astype(str).map(any2unicode)"
   ]
  },
  {
   "cell_type": "markdown",
   "metadata": {},
   "source": [
    "## Text Preprocessing\n",
    "* Noise Removal\n",
    "* Tokenization\n",
    "* Normalization  \n",
    "(1) stemming\n",
    "(2) lemmatization, and \n",
    "(3) everything else"
   ]
  },
  {
   "cell_type": "markdown",
   "metadata": {},
   "source": [
    "### Remove URLs and non-English Characters"
   ]
  },
  {
   "cell_type": "code",
   "execution_count": 8,
   "metadata": {},
   "outputs": [],
   "source": [
    "def preprocess_text(text):\n",
    "    '''Remove URLs and Non-English characters, except for @ and #'''\n",
    "    # remove URL's\n",
    "    text = re.sub(r'\\w+:\\/{2}[\\d\\w-]+(\\.[\\d\\w-]+)*(?:(?:\\/[^\\s/]*))*', '', text)\n",
    "\n",
    "    # remove symbols excluding the @, # and \\s symbol\n",
    "    text = re.sub(r'[^\\w@#\\s]', '', text)\n",
    "\n",
    "    # remove URL's\n",
    "    text = re.sub('(https://[^\\s]+)', '', text)\n",
    "    text = re.sub('https?://[A-Za-z0-9./]+', '', text)\n",
    "\n",
    "    # remove URL's\n",
    "    text = re.sub('http?://[A-Za-z0-9./]+', '', text)\n",
    "\n",
    "    # lowercase, remove words less than len 2 & remove numbers in tokenized list\n",
    "    #return [word.lower() for word in text if len(word) > 2 and not word.isdigit() and not word in ignore_words]\n",
    "    return text"
   ]
  },
  {
   "cell_type": "code",
   "execution_count": 9,
   "metadata": {},
   "outputs": [
    {
     "name": "stderr",
     "output_type": "stream",
     "text": [
      "/Users/admin/anaconda3/lib/python3.6/site-packages/ipykernel_launcher.py:1: SettingWithCopyWarning: \n",
      "A value is trying to be set on a copy of a slice from a DataFrame.\n",
      "Try using .loc[row_indexer,col_indexer] = value instead\n",
      "\n",
      "See the caveats in the documentation: http://pandas.pydata.org/pandas-docs/stable/indexing.html#indexing-view-versus-copy\n",
      "  \"\"\"Entry point for launching an IPython kernel.\n"
     ]
    }
   ],
   "source": [
    "df['cleaned'] = df['cleaned'].apply(preprocess_text)"
   ]
  },
  {
   "cell_type": "markdown",
   "metadata": {},
   "source": [
    "### Hashtag Analysis"
   ]
  },
  {
   "cell_type": "code",
   "execution_count": 10,
   "metadata": {},
   "outputs": [],
   "source": [
    "# regex to find hashtags\n",
    "hashtag_re = re.compile(\"(?:^|\\s)[＃#]{1}(\\w+)\", re.UNICODE)\n",
    "\n",
    "def extract_hashtags(tweet):\n",
    "    '''Take in tweet contents from 'cleaned' content, extract hashtags and return cleaned text'''\n",
    "    hashtags_only = []\n",
    "    if len(re.findall(hashtag_re, tweet)) > 0:\n",
    "        hashtags_only.append(re.findall(hashtag_re, tweet))\n",
    "    else:\n",
    "        hashtags_only.append([\"0\"])\n",
    "    return hashtags_only[0]"
   ]
  },
  {
   "cell_type": "code",
   "execution_count": 11,
   "metadata": {},
   "outputs": [
    {
     "name": "stderr",
     "output_type": "stream",
     "text": [
      "/Users/admin/anaconda3/lib/python3.6/site-packages/ipykernel_launcher.py:2: SettingWithCopyWarning: \n",
      "A value is trying to be set on a copy of a slice from a DataFrame.\n",
      "Try using .loc[row_indexer,col_indexer] = value instead\n",
      "\n",
      "See the caveats in the documentation: http://pandas.pydata.org/pandas-docs/stable/indexing.html#indexing-view-versus-copy\n",
      "  \n"
     ]
    },
    {
     "data": {
      "text/plain": [
       "372     [67]\n",
       "373     [70]\n",
       "374     [74]\n",
       "375     [75]\n",
       "376     [77]\n",
       "377      [1]\n",
       "378      [2]\n",
       "379      [5]\n",
       "380      [8]\n",
       "381      [9]\n",
       "382     [10]\n",
       "383     [27]\n",
       "384     [37]\n",
       "385     [90]\n",
       "386     [94]\n",
       "387     [95]\n",
       "388     [81]\n",
       "389    [102]\n",
       "390    [103]\n",
       "391     [86]\n",
       "392    [104]\n",
       "393    [112]\n",
       "394    [113]\n",
       "395    [117]\n",
       "396    [105]\n",
       "Name: hashtags, dtype: object"
      ]
     },
     "execution_count": 11,
     "metadata": {},
     "output_type": "execute_result"
    }
   ],
   "source": [
    "# Create a new column to store hashtags, extract hashtags from 'content'\n",
    "df['hashtags'] = df['cleaned'].map(extract_hashtags)\n",
    "df['hashtags'].head(25)"
   ]
  },
  {
   "cell_type": "code",
   "execution_count": 12,
   "metadata": {},
   "outputs": [],
   "source": [
    "# remove all hashtags from a tweet\n",
    "def remove_hashtags(tweet):\n",
    "    '''After extracting hashtags, take in tweet content and remove hashtags'''\n",
    "    hashtags_only = []\n",
    "    if len(re.findall(hashtag_re, tweet)) > 0:\n",
    "        tweet = re.sub(hashtag_re, \"\", tweet)\n",
    "    hashtags_only.append(tweet)\n",
    "    return hashtags_only[0]"
   ]
  },
  {
   "cell_type": "code",
   "execution_count": 13,
   "metadata": {},
   "outputs": [
    {
     "name": "stderr",
     "output_type": "stream",
     "text": [
      "/Users/admin/anaconda3/lib/python3.6/site-packages/ipykernel_launcher.py:2: SettingWithCopyWarning: \n",
      "A value is trying to be set on a copy of a slice from a DataFrame.\n",
      "Try using .loc[row_indexer,col_indexer] = value instead\n",
      "\n",
      "See the caveats in the documentation: http://pandas.pydata.org/pandas-docs/stable/indexing.html#indexing-view-versus-copy\n",
      "  \n"
     ]
    }
   ],
   "source": [
    "# Clean hashtags fron 'cleaned' content\n",
    "df['cleaned'] = df['cleaned'].apply(remove_hashtags)"
   ]
  },
  {
   "cell_type": "code",
   "execution_count": 14,
   "metadata": {},
   "outputs": [
    {
     "name": "stdout",
     "output_type": "stream",
     "text": [
      "0                    677146\n",
      "новости               10314\n",
      "Merkelmussbleiben      5818\n",
      "Merkel                 4565\n",
      "Россия                 3484\n",
      "Пластмассовыйвек       3054\n",
      "РФ                     2706\n",
      "СПб                    2408\n",
      "США                    2327\n",
      "политика               2195\n",
      "hitech                 2188\n",
      "JugendmitMerkel        1911\n",
      "спорт                  1688\n",
      "TagderJugend           1678\n",
      "Украина                1666\n",
      "Тюмень                 1553\n",
      "Erdogan                1451\n",
      "news                   1450\n",
      "Deutschland            1447\n",
      "Flüchtlinge            1402\n",
      "НевскиеНовости         1379\n",
      "CDU                    1288\n",
      "спб                    1261\n",
      "ВСУ                    1251\n",
      "usa                    1213\n",
      "dtype: int64\n"
     ]
    }
   ],
   "source": [
    "# create a list of all hashtags\n",
    "all_hashtags = df['hashtags'].tolist()\n",
    "\n",
    "# all_hashtags is a list of lists.\n",
    "cleaned_hashtags = []\n",
    "for i in all_hashtags:\n",
    "    for j in i:\n",
    "            cleaned_hashtags.append(j)\n",
    "\n",
    "# remove the '0' from the list\n",
    "def remove_values_from_list(the_list, val):\n",
    "   return [value for value in the_list if value != val]\n",
    "\n",
    "# cleaned_hashtags list\n",
    "cleaned_hashtags = remove_values_from_list(cleaned_hashtags, 0)\n",
    "\n",
    "# Convert cleaned_hashtags to a series and count the most frequent occuring\n",
    "cleaned_hashtag_series = pd.Series(cleaned_hashtags)\n",
    "hashtag_counts = cleaned_hashtag_series.value_counts()\n",
    "print(hashtag_counts[:25])"
   ]
  },
  {
   "cell_type": "markdown",
   "metadata": {},
   "source": [
    "### Get User Mentions"
   ]
  },
  {
   "cell_type": "code",
   "execution_count": 15,
   "metadata": {},
   "outputs": [],
   "source": [
    "#Regex to get user mentions \"@\":\n",
    "#twitter_username_re = re.compile(\"(?:^|\\s)[＠ @]{1}([^\\s#<>[\\]|{}]+)\", re.UNICODE)\n",
    "twitter_username_re = re.compile(\"(?<=^|(?<=[^a-zA-Z0-9-_\\.]))@([A-Za-z]+[A-Za-z0-9-_]+)\", re.UNICODE)\n",
    "\n",
    "def extract_usermentions(tweet):\n",
    "    '''Take in tweet contents from 'cleaned' col and extract user mentions'''\n",
    "    mentions_only = []\n",
    "    if len(re.findall(twitter_username_re, tweet)) > 0:\n",
    "        mentions_only.append(re.findall(twitter_username_re, tweet))\n",
    "    else:\n",
    "        mentions_only.append([\"0\"])\n",
    "    return mentions_only[0]"
   ]
  },
  {
   "cell_type": "code",
   "execution_count": 16,
   "metadata": {},
   "outputs": [
    {
     "name": "stderr",
     "output_type": "stream",
     "text": [
      "/Users/admin/anaconda3/lib/python3.6/site-packages/ipykernel_launcher.py:2: SettingWithCopyWarning: \n",
      "A value is trying to be set on a copy of a slice from a DataFrame.\n",
      "Try using .loc[row_indexer,col_indexer] = value instead\n",
      "\n",
      "See the caveats in the documentation: http://pandas.pydata.org/pandas-docs/stable/indexing.html#indexing-view-versus-copy\n",
      "  \n"
     ]
    },
    {
     "data": {
      "text/plain": [
       "372    [0]\n",
       "373    [0]\n",
       "374    [0]\n",
       "375    [0]\n",
       "376    [0]\n",
       "377    [0]\n",
       "378    [0]\n",
       "379    [0]\n",
       "380    [0]\n",
       "381    [0]\n",
       "Name: mentions, dtype: object"
      ]
     },
     "execution_count": 16,
     "metadata": {},
     "output_type": "execute_result"
    }
   ],
   "source": [
    "# make a new column to store the extracted mentions\n",
    "df['mentions'] = df['cleaned'].map(extract_usermentions)\n",
    "df['mentions'].head(10)"
   ]
  },
  {
   "cell_type": "code",
   "execution_count": 17,
   "metadata": {},
   "outputs": [
    {
     "name": "stdout",
     "output_type": "stream",
     "text": [
      "0                    764839\n",
      "YouTube                4935\n",
      "rus_improvisation      2485\n",
      "salty_1970             1068\n",
      "realDonaldTrump         866\n",
      "GrahamWP_UK             797\n",
      "SFGO76                  659\n",
      "MariaSharapova          602\n",
      "MatchTV                 517\n",
      "byDrBre                 482\n",
      "wylsacom                456\n",
      "welt                    430\n",
      "rubin_paceka            430\n",
      "russdem                 426\n",
      "marina_al_22889         417\n",
      "MaxDementiev            404\n",
      "SPB_citizen             388\n",
      "zubovnik                345\n",
      "LevSharansky            339\n",
      "Dasssha2010             321\n",
      "ComradZampolit          308\n",
      "Spoontamer              305\n",
      "volkova_v               288\n",
      "korobkov                282\n",
      "DLGreez                 274\n",
      "dtype: int64\n"
     ]
    }
   ],
   "source": [
    "# create a list of all mentions\n",
    "all_mentions = df['mentions'].tolist()\n",
    "\n",
    "# all_hashtags is a list of lists.\n",
    "cleaned_mentions = []\n",
    "for i in all_mentions:\n",
    "    for j in i:\n",
    "            cleaned_mentions.append(j)\n",
    "\n",
    "# remove the '0' from the list\n",
    "def remove_values_from_list(the_list, val):\n",
    "   return [value for value in the_list if value != val]\n",
    "\n",
    "# cleaned_mentions list\n",
    "cleaned_mentions = remove_values_from_list(cleaned_mentions, 0)\n",
    "\n",
    "# Convert cleaned_hashtags to a series and count the most frequent occuring\n",
    "cleaned_mentions_series = pd.Series(cleaned_mentions)\n",
    "mention_counts = cleaned_mentions_series.value_counts()\n",
    "# remove first element with values of '0'\n",
    "# mention_counts = del mention_counts[0]\n",
    "print(mention_counts[:25])"
   ]
  },
  {
   "cell_type": "code",
   "execution_count": 18,
   "metadata": {},
   "outputs": [],
   "source": [
    "# remove all mentions from a tweet\n",
    "def remove_mentions(tweet):\n",
    "    '''Take tweet content and remove @mentions from it'''\n",
    "    mentions_only = []\n",
    "    if len(re.findall(\"(?<=^|(?<=[^a-zA-Z0-9-_\\.]))@([A-Za-z]+[A-Za-z0-9-_]+)\", tweet)) > 0:\n",
    "        tweet = re.sub(\"(?<=^|(?<=[^a-zA-Z0-9-_\\.]))@([A-Za-z]+[A-Za-z0-9-_]+)\", \"\", tweet)\n",
    "    mentions_only.append(tweet)\n",
    "    return mentions_only[0]"
   ]
  },
  {
   "cell_type": "code",
   "execution_count": 19,
   "metadata": {},
   "outputs": [
    {
     "name": "stderr",
     "output_type": "stream",
     "text": [
      "/Users/admin/anaconda3/lib/python3.6/site-packages/ipykernel_launcher.py:2: SettingWithCopyWarning: \n",
      "A value is trying to be set on a copy of a slice from a DataFrame.\n",
      "Try using .loc[row_indexer,col_indexer] = value instead\n",
      "\n",
      "See the caveats in the documentation: http://pandas.pydata.org/pandas-docs/stable/indexing.html#indexing-view-versus-copy\n",
      "  \n"
     ]
    }
   ],
   "source": [
    "#create list of content with no hashtags\n",
    "df['cleaned'] = df['cleaned'].apply(remove_mentions)"
   ]
  },
  {
   "cell_type": "code",
   "execution_count": 20,
   "metadata": {},
   "outputs": [],
   "source": [
    "# remove unwanted characters, numbers and symbols from the remaining content\n",
    "#df['cleaned'] = df['cleaned'].str.replace(\"[^a-zA-Z#]\", \" \")"
   ]
  },
  {
   "cell_type": "markdown",
   "metadata": {},
   "source": [
    "### Create dataframes for the troll classifications\n",
    "Create dataframes for each troll classification, for easier size to work with."
   ]
  },
  {
   "cell_type": "code",
   "execution_count": 21,
   "metadata": {},
   "outputs": [],
   "source": [
    "#right_troll = df.loc[df['account_category'] == 'RightTroll']\n",
    "#nonenglish = df.loc[df['account_category'] == 'NonEnglish']\n",
    "#fearmonger = df.loc[df['account_category'] == 'Fearmonger']\n",
    "#left_troll = df.loc[df['account_category'] == 'LeftTroll']\n",
    "#hashtagamer = df.loc[df['account_category'] == 'HashtagGamer']\n",
    "#newsfeed = df.loc[df['account_category'] == 'NewsFeed']\n",
    "#commercial = df.loc[df['account_category'] == 'Commercial']"
   ]
  },
  {
   "cell_type": "code",
   "execution_count": 22,
   "metadata": {},
   "outputs": [],
   "source": [
    "#right_troll.to_csv(\"../data/right_troll.csv\")\n",
    "#nonenglish.to_csv(\"../data/nonenglish.csv\")\n",
    "#fearmonger.to_csv(\"../data/fearmonger.csv\")\n",
    "#left_troll.to_csv(\"../data/left_troll.csv\")\n",
    "#hashtagamer.to_csv(\"../data/hashtagamer.csv\")\n",
    "#newsfeed.to_csv(\"../data/newsfeed.csv\")\n",
    "#commercial.to_csv(\"../data/commercial.csv\")"
   ]
  },
  {
   "cell_type": "markdown",
   "metadata": {},
   "source": [
    "## Remove stopwords\n",
    "Remove words < 3 letters, convert to lower case"
   ]
  },
  {
   "cell_type": "code",
   "execution_count": 23,
   "metadata": {},
   "outputs": [
    {
     "data": {
      "text/plain": [
       "372                          Причина Мутко ЗенитАрене для адаптации к ЧМ потребуется 152 млрд рублей\n",
       "373                                               Причина Житель Самары умер в очереди в поликлинике\n",
       "374                         Причина Президентский советник предложил ограничить Интернет как в Китае\n",
       "375                                      Причина Казаков благословили на защиту интернетпространства\n",
       "376    Причина В Кстово полицейские сломали женщине лицевую кость когда та отказалась показать грудь\n",
       "Name: cleaned, dtype: object"
      ]
     },
     "execution_count": 23,
     "metadata": {},
     "output_type": "execute_result"
    }
   ],
   "source": [
    "df.cleaned.head()"
   ]
  },
  {
   "cell_type": "code",
   "execution_count": 24,
   "metadata": {},
   "outputs": [
    {
     "name": "stderr",
     "output_type": "stream",
     "text": [
      "/Users/admin/anaconda3/lib/python3.6/site-packages/ipykernel_launcher.py:2: SettingWithCopyWarning: \n",
      "A value is trying to be set on a copy of a slice from a DataFrame.\n",
      "Try using .loc[row_indexer,col_indexer] = value instead\n",
      "\n",
      "See the caveats in the documentation: http://pandas.pydata.org/pandas-docs/stable/indexing.html#indexing-view-versus-copy\n",
      "  \n",
      "/Users/admin/anaconda3/lib/python3.6/site-packages/ipykernel_launcher.py:5: SettingWithCopyWarning: \n",
      "A value is trying to be set on a copy of a slice from a DataFrame.\n",
      "Try using .loc[row_indexer,col_indexer] = value instead\n",
      "\n",
      "See the caveats in the documentation: http://pandas.pydata.org/pandas-docs/stable/indexing.html#indexing-view-versus-copy\n",
      "  \"\"\"\n",
      "/Users/admin/anaconda3/lib/python3.6/site-packages/ipykernel_launcher.py:16: SettingWithCopyWarning: \n",
      "A value is trying to be set on a copy of a slice from a DataFrame.\n",
      "Try using .loc[row_indexer,col_indexer] = value instead\n",
      "\n",
      "See the caveats in the documentation: http://pandas.pydata.org/pandas-docs/stable/indexing.html#indexing-view-versus-copy\n",
      "  app.launch_new_instance()\n"
     ]
    },
    {
     "data": {
      "text/plain": [
       "372                          причина мутко зенитарене для адаптации потребуется 152 млрд рублей\n",
       "373                                              причина житель самары умер очереди поликлинике\n",
       "374                      причина президентский советник предложил ограничить интернет как китае\n",
       "375                                    причина казаков благословили защиту интернетпространства\n",
       "376    причина кстово полицейские сломали женщине лицевую кость когда отказалась показать грудь\n",
       "Name: cleaned, dtype: object"
      ]
     },
     "execution_count": 24,
     "metadata": {},
     "output_type": "execute_result"
    }
   ],
   "source": [
    "# remove short words (length < 3)\n",
    "df['cleaned'] = df['cleaned'].apply(lambda x: ' '.join([w for w in x.split() if len(w)>2]))\n",
    "\n",
    "# transform to lower-case\n",
    "df['cleaned'] = df['cleaned'].apply(lambda x: \" \".join(x.lower() for x in x.split()))\n",
    "#train['tweet'].head()\n",
    "\n",
    "#stop = set(stopwords.words('english'))\n",
    "stop = stopwords.words('english')\n",
    "\n",
    "#extend/add to stopwords - words that are commonly occuring but add no meaning\n",
    "#stopword_list += ['http', 'https', 'âµã', 'â½ã', 'â²ã', 'âºã', 'â¼ã', 'âµ']\n",
    "newStop = ['you','get', 'amp', 'one', 'new']\n",
    "stop.extend(newStop)\n",
    "\n",
    "df['cleaned'] = df['cleaned'].apply(lambda x: \" \".join(x for x in x.split() if x not in stop))\n",
    "df['cleaned'].head()"
   ]
  },
  {
   "cell_type": "code",
   "execution_count": 25,
   "metadata": {},
   "outputs": [],
   "source": [
    "#convert 'cleaned' Series to a list\n",
    "content = df['cleaned'].tolist()\n",
    "#content[:50]"
   ]
  },
  {
   "cell_type": "markdown",
   "metadata": {},
   "source": [
    "### Re-Check Fequency Distribution\n",
    "Re-check the word frequency distribution after doing some cleaning of the text."
   ]
  },
  {
   "cell_type": "code",
   "execution_count": 26,
   "metadata": {},
   "outputs": [],
   "source": [
    "# function to plot most frequent terms\n",
    "def freq_words(x, terms = 20):\n",
    "    ''' Take in a list of content, split into individual words, count occurrences, list 20 highest occurring words'''\n",
    "    all_words = ' '.join([text for text in x])\n",
    "    all_words = all_words.split()\n",
    "    fdist = FreqDist(all_words)\n",
    "    words_df = pd.DataFrame({'word':list(fdist.keys()), 'count':list(fdist.values())})\n",
    "    # selecting top 20 most frequent words\n",
    "    d = words_df.nlargest(columns=\"count\", n = terms)\n",
    "    return d"
   ]
  },
  {
   "cell_type": "code",
   "execution_count": 27,
   "metadata": {},
   "outputs": [
    {
     "name": "stdout",
     "output_type": "stream",
     "text": [
      "         word  count\n",
      "205    россии  31073\n",
      "149       что  29688\n",
      "8343      сша  24804\n",
      "3         для  22472\n",
      "19        как  18941\n",
      "21284     die  15502\n",
      "8288    сирии  15239\n",
      "5482      der  14460\n",
      "305       это  14183\n",
      "65       года  13751\n",
      "22278     und  11367\n",
      "10805   видео  11242\n",
      "136    россия  11075\n",
      "37      путин  10861\n",
      "10978     сми  10319\n",
      "8344     изза  10172\n",
      "169     после  10146\n",
      "8274   против  10085\n",
      "8405    будет   9987\n",
      "56        под   9740\n"
     ]
    }
   ],
   "source": [
    "counts = freq_words(content, 20)\n",
    "print(counts)"
   ]
  },
  {
   "cell_type": "markdown",
   "metadata": {},
   "source": [
    "### Plot most frequently occurring words "
   ]
  },
  {
   "cell_type": "code",
   "execution_count": 28,
   "metadata": {},
   "outputs": [
    {
     "data": {
      "image/png": "[encoded data removed]",
      "text/plain": [
       "<Figure size 1440x360 with 1 Axes>"
      ]
     },
     "metadata": {
      "needs_background": "light"
     },
     "output_type": "display_data"
    }
   ],
   "source": [
    "# Plot most frequent words\n",
    "plt.figure(figsize=(20,5))\n",
    "# rotate and right align group names\n",
    "plt.xticks(rotation=45, ha='right')\n",
    "ax = sns.barplot(data=counts, x= \"word\", y = \"count\")\n",
    "ax.set(ylabel = 'Count')\n",
    "ax.set(title = 'Top 20 Most Frequent Words')    \n",
    "plt.show()"
   ]
  },
  {
   "cell_type": "markdown",
   "metadata": {},
   "source": [
    "## Troll Amplification\n",
    "Examining the troll \"echo chamber\". Are trolls retweeting or mentioning other trolls?"
   ]
  },
  {
   "cell_type": "code",
   "execution_count": 29,
   "metadata": {},
   "outputs": [
    {
     "name": "stdout",
     "output_type": "stream",
     "text": [
      "982\n",
      "There are 982 trolls in the echo chamber.\n"
     ]
    }
   ],
   "source": [
    "# read list of users created during EDA\n",
    "users = pd.read_csv('../data/users_totals.csv', encoding='utf-8',low_memory=False)\n",
    "\n",
    "userlist = users['author'].tolist()\n",
    "lc_userlist = [x.lower() for x in userlist]\n",
    "lc_userlist.sort()\n",
    "\n",
    "amplify = cleaned_mentions_series[cleaned_mentions_series.isin(lc_userlist)]\n",
    "\n",
    "print(amplify.shape[0])\n",
    "\n",
    "# Get counts of amplified troll tweets\n",
    "amp_counts = amplify.value_counts()\n",
    "print(\"There are\",(amplify.shape[0]), \"trolls in the echo chamber.\")"
   ]
  },
  {
   "cell_type": "markdown",
   "metadata": {},
   "source": [
    "### Normalization\n",
    "3 distinct steps:  \n",
    "* stemming  \n",
    "* lemmatization  \n",
    "* everything else"
   ]
  },
  {
   "cell_type": "markdown",
   "metadata": {},
   "source": [
    "### Lemmatization"
   ]
  },
  {
   "cell_type": "code",
   "execution_count": 30,
   "metadata": {},
   "outputs": [
    {
     "name": "stderr",
     "output_type": "stream",
     "text": [
      "/Users/admin/anaconda3/lib/python3.6/site-packages/ipykernel_launcher.py:2: SettingWithCopyWarning: \n",
      "A value is trying to be set on a copy of a slice from a DataFrame.\n",
      "Try using .loc[row_indexer,col_indexer] = value instead\n",
      "\n",
      "See the caveats in the documentation: http://pandas.pydata.org/pandas-docs/stable/indexing.html#indexing-view-versus-copy\n",
      "  \n"
     ]
    },
    {
     "data": {
      "text/plain": [
       "372                          причина мутко зенитарене для адаптации потребуется 152 млрд рублей\n",
       "373                                              причина житель самары умер очереди поликлинике\n",
       "374                      причина президентский советник предложил ограничить интернет как китае\n",
       "375                                    причина казаков благословили защиту интернетпространства\n",
       "376    причина кстово полицейские сломали женщине лицевую кость когда отказалась показать грудь\n",
       "Name: cleaned, dtype: object"
      ]
     },
     "execution_count": 30,
     "metadata": {},
     "output_type": "execute_result"
    }
   ],
   "source": [
    "from textblob import Word\n",
    "df['cleaned'] = df['cleaned'].apply(lambda x: \" \".join([Word(word).lemmatize() for word in x.split()]))\n",
    "df['cleaned'].head()"
   ]
  },
  {
   "cell_type": "markdown",
   "metadata": {},
   "source": [
    "### Tokenize"
   ]
  },
  {
   "cell_type": "code",
   "execution_count": 31,
   "metadata": {},
   "outputs": [],
   "source": [
    "#create a list from df['cleaned']\n",
    "content_notags = df['cleaned'].tolist()\n",
    "\n",
    "# First, create a new column with the tokenized text\n",
    "from nltk.tokenize import TweetTokenizer\n",
    "tt = TweetTokenizer()\n",
    "#df['tokenized_text'] = df['content'].apply(tt.tokenize)\n",
    "# map tt.tokenize to 'content' list\n",
    "documents = list(map(tt.tokenize, content_notags))"
   ]
  },
  {
   "cell_type": "code",
   "execution_count": 32,
   "metadata": {},
   "outputs": [],
   "source": [
    "from collections import defaultdict\n",
    "\n",
    "frequency = defaultdict(int)\n",
    "for document in documents:\n",
    "    for token in document:\n",
    "        frequency[token] += 1"
   ]
  },
  {
   "cell_type": "code",
   "execution_count": 33,
   "metadata": {},
   "outputs": [],
   "source": [
    "documents = [[token for token in document if frequency[token] > 10] for document in documents]\n",
    "# create a dictionary using from gensim.corpora.Dictionary\n",
    "dictionary = corpora.Dictionary(documents)\n",
    "#Convert document (a list of words) into the bag-of-words format = list of (token_id, token_count) 2-tuples. \n",
    "corpus = [dictionary.doc2bow(document) for document in documents]"
   ]
  },
  {
   "cell_type": "code",
   "execution_count": 34,
   "metadata": {},
   "outputs": [
    {
     "data": {
      "text/plain": [
       "820803"
      ]
     },
     "execution_count": 34,
     "metadata": {},
     "output_type": "execute_result"
    }
   ],
   "source": [
    "len(corpus)"
   ]
  },
  {
   "cell_type": "markdown",
   "metadata": {},
   "source": [
    "## LDA Model\n",
    "Fit an LDA Model for the tweet topics"
   ]
  },
  {
   "cell_type": "code",
   "execution_count": 35,
   "metadata": {},
   "outputs": [],
   "source": [
    "# comment out once model is trained.\n",
    "# fit LDA model\n",
    "tweet_topics = LdaMulticore(corpus=corpus,\n",
    "                          id2word=dictionary,\n",
    "                          num_topics=10,\n",
    "                          passes=10,\n",
    "                          workers=2)"
   ]
  },
  {
   "cell_type": "code",
   "execution_count": 36,
   "metadata": {},
   "outputs": [],
   "source": [
    "# save/load model to/from disk\n",
    "\n",
    "temp_file = datapath(\"model_right_troll_tweets\")\n",
    "tweet_topics.save(temp_file)\n",
    "\n",
    "# Load a pretrained model from disk.\n",
    "#tweet_topics = LdaMulticore.load(\"model\")\n",
    "# - or -\n",
    "#m1 = LdaMulticore.load(datapath(\"lda_3_0_1_model\"))"
   ]
  },
  {
   "cell_type": "code",
   "execution_count": 37,
   "metadata": {},
   "outputs": [
    {
     "name": "stdout",
     "output_type": "stream",
     "text": [
      "0 --- (0, '0.016*\"россии\" + 0.016*\"сирии\" + 0.014*\"что\" + 0.014*\"сша\" + 0.013*\"путин\" + 0.010*\"для\" + 0.009*\"россия\" + 0.007*\"путина\" + 0.006*\"меня\" + 0.006*\"заявил\"')\n",
      "1 --- (1, '0.009*\"суд\" + 0.007*\"украины\" + 0.007*\"трамп\" + 0.006*\"дело\" + 0.005*\"трассе\" + 0.005*\"россии\" + 0.004*\"области\" + 0.004*\"для\" + 0.004*\"изза\" + 0.003*\"сша\"')\n",
      "2 --- (2, '0.018*\"для\" + 0.015*\"фото\" + 0.008*\"утро\" + 0.008*\"акция\" + 0.007*\"доброе\" + 0.007*\"петербурге\" + 0.005*\"россии\" + 0.005*\"дом\" + 0.005*\"нового\" + 0.005*\"российские\"')\n",
      "3 --- (3, '0.032*\"сочи\" + 0.026*\"года\" + 0.020*\"году\" + 0.019*\"2016\" + 0.019*\"2017\" + 0.013*\"рублей\" + 0.011*\"россии\" + 0.010*\"год\" + 0.009*\"более\" + 0.009*\"тысяч\"')\n",
      "4 --- (4, '0.018*\"видео\" + 0.014*\"метро\" + 0.014*\"под\" + 0.013*\"дтп\" + 0.010*\"районе\" + 0.009*\"водитель\" + 0.008*\"москве\" + 0.008*\"фото\" + 0.007*\"области\" + 0.007*\"lada\"')\n",
      "5 --- (5, '0.010*\"und\" + 0.009*\"россии\" + 0.007*\"цска\" + 0.006*\"ростов\" + 0.006*\"динамо\" + 0.006*\"матч\" + 0.005*\"матче\" + 0.005*\"февраля\" + 0.005*\"merkel\" + 0.005*\"самых\"')\n",
      "6 --- (6, '0.010*\"сирии\" + 0.009*\"боевиков\" + 0.009*\"июня\" + 0.008*\"армия\" + 0.008*\"городе\" + 0.007*\"саа\" + 0.007*\"алеппо\" + 0.007*\"террористов\" + 0.007*\"связи\" + 0.005*\"сирийская\"')\n",
      "7 --- (7, '0.024*\"как\" + 0.023*\"что\" + 0.017*\"это\" + 0.011*\"все\" + 0.008*\"уже\" + 0.008*\"так\" + 0.007*\"сегодня\" + 0.007*\"когда\" + 0.007*\"кто\" + 0.006*\"если\"')\n",
      "8 --- (8, '0.024*\"die\" + 0.019*\"der\" + 0.013*\"ist\" + 0.011*\"für\" + 0.008*\"da\" + 0.008*\"sie\" + 0.007*\"von\" + 0.006*\"auf\" + 0.006*\"den\" + 0.005*\"ein\"')\n",
      "9 --- (9, '0.015*\"против\" + 0.014*\"сша\" + 0.013*\"россии\" + 0.010*\"санкции\" + 0.009*\"помощью\" + 0.009*\"при\" + 0.008*\"человек\" + 0.006*\"сми\" + 0.006*\"под\" + 0.006*\"украине\"')\n"
     ]
    }
   ],
   "source": [
    "# print out first 10 topics\n",
    "for i, topic in enumerate(tweet_topics.print_topics(10)):\n",
    "    print('{} --- {}'.format(i, topic))"
   ]
  },
  {
   "cell_type": "markdown",
   "metadata": {},
   "source": [
    "### Wordcloud\n",
    "Crate a basic word cloud of the topic groupings"
   ]
  },
  {
   "cell_type": "code",
   "execution_count": 38,
   "metadata": {},
   "outputs": [
    {
     "data": {
      "image/png": "[encoded data removed]",
      "text/plain": [
       "<Figure size 720x720 with 4 Axes>"
      ]
     },
     "metadata": {
      "needs_background": "light"
     },
     "output_type": "display_data"
    }
   ],
   "source": [
    "#Wordcloud of Top N words in each topic\n",
    "from matplotlib import pyplot as plt\n",
    "from wordcloud import WordCloud, STOPWORDS\n",
    "import matplotlib.colors as mcolors\n",
    "\n",
    "cols = [color for name, color in mcolors.TABLEAU_COLORS.items()]  # more colors: 'mcolors.XKCD_COLORS'\n",
    "\n",
    "cloud = WordCloud(stopwords=stop,\n",
    "                  background_color='white',\n",
    "                  width=2500,\n",
    "                  height=1800,\n",
    "                  max_words=10,\n",
    "                  colormap='tab10',\n",
    "                  color_func=lambda *args, **kwargs: cols[i],\n",
    "                  prefer_horizontal=1.0)\n",
    "\n",
    "topics = tweet_topics.show_topics(formatted=False)\n",
    "\n",
    "fig, axes = plt.subplots(2, 2, figsize=(10,10), sharex=True, sharey=True)\n",
    "\n",
    "for i, ax in enumerate(axes.flatten()):\n",
    "    fig.add_subplot(ax)\n",
    "    topic_words = dict(topics[i][1])\n",
    "    cloud.generate_from_frequencies(topic_words, max_font_size=300)\n",
    "    plt.gca().imshow(cloud)\n",
    "    plt.gca().set_title('Topic ' + str(i), fontdict=dict(size=16))\n",
    "    plt.gca().axis('off')\n",
    "\n",
    "\n",
    "plt.subplots_adjust(wspace=0, hspace=0)\n",
    "plt.axis('off')\n",
    "plt.margins(x=0, y=0)\n",
    "plt.tight_layout()\n",
    "plt.show()"
   ]
  },
  {
   "cell_type": "markdown",
   "metadata": {},
   "source": [
    "### Use pyLDAvis library to Visualize Topics"
   ]
  },
  {
   "cell_type": "code",
   "execution_count": 39,
   "metadata": {},
   "outputs": [],
   "source": [
    "## Try the pyLDAvis visualization\n",
    "import pyLDAvis.gensim as gensimvis\n",
    "import pyLDAvis"
   ]
  },
  {
   "cell_type": "code",
   "execution_count": 40,
   "metadata": {},
   "outputs": [
    {
     "name": "stderr",
     "output_type": "stream",
     "text": [
      "/Users/admin/anaconda3/lib/python3.6/site-packages/pyLDAvis/_prepare.py:257: FutureWarning: Sorting because non-concatenation axis is not aligned. A future version\n",
      "of pandas will change to not sort by default.\n",
      "\n",
      "To accept the future behavior, pass 'sort=False'.\n",
      "\n",
      "To retain the current behavior and silence the warning, pass 'sort=True'.\n",
      "\n",
      "  return pd.concat([default_term_info] + list(topic_dfs))\n"
     ]
    },
    {
     "data": {
      "text/html": [
       "\n",
       "<link rel=\"stylesheet\" type=\"text/css\" href=\"https://cdn.rawgit.com/bmabey/pyLDAvis/files/ldavis.v1.0.0.css\">\n",
       "\n",
       "\n",
       "<div id=\"ldavis_el451071150637538487064725101\"></div>\n",
       "<script type=\"text/javascript\">\n",
       "\n",
       "var ldavis_el451071150637538487064725101_data = {\"mdsDat\": {\"x\": [0.09607659245470555, 0.13683617165105075, 0.1456451743201532, -0.35720440121590696, 0.124628801764585, 0.010139775322508046, 0.09123986469250775, -0.12939812356436295, 0.09108702606041784, -0.2090508814856579], \"y\": [-0.046713561031258025, 0.09238024504119664, 0.08021904653917304, -0.05075772469678622, -0.0770573025448005, -0.049936458640058974, -0.014447636773480528, -0.29577370922336227, 0.036259631531752594, 0.3258274697976243], \"topics\": [1, 2, 3, 4, 5, 6, 7, 8, 9, 10], \"cluster\": [1, 1, 1, 1, 1, 1, 1, 1, 1, 1], \"Freq\": [13.822242736816406, 12.061001777648926, 11.23361587524414, 10.25118350982666, 9.968486785888672, 9.569363594055176, 8.602561950683594, 8.58073616027832, 8.547873497009277, 7.362931251525879]}, \"tinfo\": {\"Category\": [\"Default\", \"Default\", \"Default\", \"Default\", \"Default\", \"Default\", \"Default\", \"Default\", \"Default\", \"Default\", \"Default\", \"Default\", \"Default\", \"Default\", \"Default\", \"Default\", \"Default\", \"Default\", \"Default\", \"Default\", \"Default\", \"Default\", \"Default\", \"Default\", \"Default\", \"Default\", \"Default\", \"Default\", \"Default\", \"Default\", \"Topic1\", \"Topic1\", \"Topic1\", \"Topic1\", \"Topic1\", \"Topic1\", \"Topic1\", \"Topic1\", \"Topic1\", \"Topic1\", \"Topic1\", \"Topic1\", \"Topic1\", \"Topic1\", \"Topic1\", \"Topic1\", \"Topic1\", \"Topic1\", \"Topic1\", \"Topic1\", \"Topic1\", \"Topic1\", \"Topic1\", \"Topic1\", \"Topic1\", \"Topic1\", \"Topic1\", \"Topic1\", \"Topic1\", \"Topic1\", \"Topic1\", \"Topic1\", \"Topic1\", \"Topic1\", \"Topic1\", \"Topic1\", \"Topic1\", \"Topic1\", \"Topic1\", \"Topic1\", \"Topic1\", \"Topic1\", \"Topic2\", \"Topic2\", \"Topic2\", \"Topic2\", \"Topic2\", \"Topic2\", \"Topic2\", \"Topic2\", \"Topic2\", \"Topic2\", \"Topic2\", \"Topic2\", \"Topic2\", \"Topic2\", \"Topic2\", \"Topic2\", \"Topic2\", \"Topic2\", \"Topic2\", \"Topic2\", \"Topic2\", \"Topic2\", \"Topic2\", \"Topic2\", \"Topic2\", \"Topic2\", \"Topic2\", \"Topic2\", \"Topic2\", \"Topic2\", \"Topic2\", \"Topic2\", \"Topic2\", \"Topic2\", \"Topic2\", \"Topic2\", \"Topic2\", \"Topic2\", \"Topic2\", \"Topic2\", \"Topic2\", \"Topic2\", \"Topic2\", \"Topic2\", \"Topic2\", \"Topic2\", \"Topic2\", \"Topic2\", \"Topic2\", \"Topic2\", \"Topic3\", \"Topic3\", \"Topic3\", \"Topic3\", \"Topic3\", \"Topic3\", \"Topic3\", \"Topic3\", \"Topic3\", \"Topic3\", \"Topic3\", \"Topic3\", \"Topic3\", \"Topic3\", \"Topic3\", \"Topic3\", \"Topic3\", \"Topic3\", \"Topic3\", \"Topic3\", \"Topic3\", \"Topic3\", \"Topic3\", \"Topic3\", \"Topic3\", \"Topic3\", \"Topic3\", \"Topic3\", \"Topic3\", \"Topic3\", \"Topic3\", \"Topic3\", \"Topic3\", \"Topic3\", \"Topic3\", \"Topic3\", \"Topic3\", \"Topic3\", \"Topic3\", \"Topic3\", \"Topic3\", \"Topic3\", \"Topic3\", \"Topic3\", \"Topic3\", \"Topic3\", \"Topic3\", \"Topic3\", \"Topic3\", \"Topic3\", \"Topic3\", \"Topic3\", \"Topic3\", \"Topic3\", \"Topic4\", \"Topic4\", \"Topic4\", \"Topic4\", \"Topic4\", \"Topic4\", \"Topic4\", \"Topic4\", \"Topic4\", \"Topic4\", \"Topic4\", \"Topic4\", \"Topic4\", \"Topic4\", \"Topic4\", \"Topic4\", \"Topic4\", \"Topic4\", \"Topic4\", \"Topic4\", \"Topic4\", \"Topic4\", \"Topic4\", \"Topic4\", \"Topic4\", \"Topic4\", \"Topic4\", \"Topic4\", \"Topic4\", \"Topic4\", \"Topic4\", \"Topic5\", \"Topic5\", \"Topic5\", \"Topic5\", \"Topic5\", \"Topic5\", \"Topic5\", \"Topic5\", \"Topic5\", \"Topic5\", \"Topic5\", \"Topic5\", \"Topic5\", \"Topic5\", \"Topic5\", \"Topic5\", \"Topic5\", \"Topic5\", \"Topic5\", \"Topic5\", \"Topic5\", \"Topic5\", \"Topic5\", \"Topic5\", \"Topic5\", \"Topic5\", \"Topic5\", \"Topic5\", \"Topic5\", \"Topic5\", \"Topic5\", \"Topic5\", \"Topic5\", \"Topic5\", \"Topic5\", \"Topic5\", \"Topic5\", \"Topic5\", \"Topic5\", \"Topic5\", \"Topic5\", \"Topic5\", \"Topic5\", \"Topic6\", \"Topic6\", \"Topic6\", \"Topic6\", \"Topic6\", \"Topic6\", \"Topic6\", \"Topic6\", \"Topic6\", \"Topic6\", \"Topic6\", \"Topic6\", \"Topic6\", \"Topic6\", \"Topic6\", \"Topic6\", \"Topic6\", \"Topic6\", \"Topic6\", \"Topic6\", \"Topic6\", \"Topic6\", \"Topic6\", \"Topic6\", \"Topic6\", \"Topic6\", \"Topic6\", \"Topic6\", \"Topic6\", \"Topic6\", \"Topic6\", \"Topic6\", \"Topic6\", \"Topic6\", \"Topic6\", \"Topic6\", \"Topic6\", \"Topic6\", \"Topic6\", \"Topic6\", \"Topic6\", \"Topic6\", \"Topic6\", \"Topic7\", \"Topic7\", \"Topic7\", \"Topic7\", \"Topic7\", \"Topic7\", \"Topic7\", \"Topic7\", \"Topic7\", \"Topic7\", \"Topic7\", \"Topic7\", \"Topic7\", \"Topic7\", \"Topic7\", \"Topic7\", \"Topic7\", \"Topic7\", \"Topic7\", \"Topic7\", \"Topic7\", \"Topic7\", \"Topic7\", \"Topic7\", \"Topic7\", \"Topic7\", \"Topic7\", \"Topic7\", \"Topic7\", \"Topic7\", \"Topic7\", \"Topic7\", \"Topic7\", \"Topic7\", \"Topic7\", \"Topic7\", \"Topic7\", \"Topic7\", \"Topic7\", \"Topic7\", \"Topic7\", \"Topic7\", \"Topic7\", \"Topic7\", \"Topic7\", \"Topic7\", \"Topic8\", \"Topic8\", \"Topic8\", \"Topic8\", \"Topic8\", \"Topic8\", \"Topic8\", \"Topic8\", \"Topic8\", \"Topic8\", \"Topic8\", \"Topic8\", \"Topic8\", \"Topic8\", \"Topic8\", \"Topic8\", \"Topic8\", \"Topic8\", \"Topic8\", \"Topic8\", \"Topic8\", \"Topic8\", \"Topic8\", \"Topic8\", \"Topic8\", \"Topic8\", \"Topic8\", \"Topic8\", \"Topic8\", \"Topic8\", \"Topic8\", \"Topic8\", \"Topic8\", \"Topic8\", \"Topic9\", \"Topic9\", \"Topic9\", \"Topic9\", \"Topic9\", \"Topic9\", \"Topic9\", \"Topic9\", \"Topic9\", \"Topic9\", \"Topic9\", \"Topic9\", \"Topic9\", \"Topic9\", \"Topic9\", \"Topic9\", \"Topic9\", \"Topic9\", \"Topic9\", \"Topic9\", \"Topic9\", \"Topic9\", \"Topic9\", \"Topic9\", \"Topic9\", \"Topic9\", \"Topic9\", \"Topic9\", \"Topic9\", \"Topic9\", \"Topic9\", \"Topic9\", \"Topic9\", \"Topic9\", \"Topic9\", \"Topic9\", \"Topic9\", \"Topic9\", \"Topic9\", \"Topic9\", \"Topic9\", \"Topic9\", \"Topic9\", \"Topic9\", \"Topic9\", \"Topic9\", \"Topic10\", \"Topic10\", \"Topic10\", \"Topic10\", \"Topic10\", \"Topic10\", \"Topic10\", \"Topic10\", \"Topic10\", \"Topic10\", \"Topic10\", \"Topic10\", \"Topic10\", \"Topic10\", \"Topic10\", \"Topic10\", \"Topic10\", \"Topic10\", \"Topic10\", \"Topic10\", \"Topic10\", \"Topic10\", \"Topic10\", \"Topic10\", \"Topic10\", \"Topic10\", \"Topic10\", \"Topic10\", \"Topic10\", \"Topic10\", \"Topic10\", \"Topic10\", \"Topic10\", \"Topic10\", \"Topic10\", \"Topic10\", \"Topic10\", \"Topic10\", \"Topic10\", \"Topic10\", \"Topic10\", \"Topic10\"], \"Freq\": [16879.0, 25119.0, 17568.0, 13878.0, 13164.0, 10518.0, 12229.0, 10324.0, 10200.0, 10168.0, 16082.0, 9107.0, 20235.0, 9589.0, 22774.0, 13610.0, 32315.0, 10858.0, 7365.0, 9554.0, 8221.0, 7053.0, 7073.0, 6648.0, 6530.0, 5994.0, 5328.0, 6391.0, 5912.0, 7178.0, 17567.859375, 12228.05859375, 8220.5205078125, 5911.369140625, 5659.79150390625, 4977.8876953125, 4786.91943359375, 4774.3818359375, 4549.53955078125, 4394.90087890625, 3830.2607421875, 3407.260498046875, 3392.9140625, 3347.119140625, 3000.43505859375, 2916.9111328125, 2866.233642578125, 2846.844482421875, 2638.4404296875, 2629.144287109375, 2594.82958984375, 2544.572265625, 2478.725341796875, 2275.443115234375, 2190.810546875, 2158.116455078125, 2141.136962890625, 2057.63818359375, 2025.85693359375, 1961.8956298828125, 16795.8046875, 3272.522705078125, 3069.037841796875, 3535.468505859375, 5051.01123046875, 2449.5400390625, 4442.3056640625, 3191.78759765625, 4076.131103515625, 3064.09716796875, 2764.81201171875, 3506.493896484375, 9588.6220703125, 6529.306640625, 3176.73779296875, 3079.163330078125, 3067.520263671875, 2981.149169921875, 2861.946533203125, 2503.7080078125, 2343.138427734375, 2109.634521484375, 1927.5380859375, 1628.5565185546875, 1570.97265625, 1421.4117431640625, 1349.77978515625, 1342.596435546875, 1325.1746826171875, 1309.9954833984375, 1308.835205078125, 1285.7135009765625, 1273.1351318359375, 1242.3773193359375, 1230.161376953125, 1180.09130859375, 1171.8538818359375, 1131.87353515625, 1106.672119140625, 1103.9862060546875, 1084.059814453125, 1021.8485717773438, 3608.969970703125, 5625.6865234375, 4880.33544921875, 1854.64013671875, 6061.7412109375, 8750.8056640625, 2261.07666015625, 3013.125, 3973.621826171875, 8047.4755859375, 3821.8671875, 2717.213134765625, 2266.179931640625, 2103.552978515625, 2062.560791015625, 3037.7353515625, 1631.37060546875, 2700.6416015625, 1825.0948486328125, 2020.1373291015625, 4111.08935546875, 3710.342041015625, 3699.87451171875, 2249.007568359375, 1673.431884765625, 1656.2996826171875, 1603.3812255859375, 1579.9722900390625, 1538.4337158203125, 1451.9925537109375, 1446.1075439453125, 1360.1014404296875, 1320.21826171875, 1265.8922119140625, 1262.20751953125, 1246.9840087890625, 1207.833740234375, 1203.1107177734375, 1081.8843994140625, 1077.31201171875, 1052.831787109375, 1025.4271240234375, 1014.5220947265625, 1009.890380859375, 1001.9476928710938, 961.8638305664062, 942.3773193359375, 938.2192993164062, 923.8370971679688, 922.6767578125, 8051.42919921875, 3442.93798828125, 1879.69970703125, 9578.1455078125, 2475.004638671875, 5269.01220703125, 2329.9599609375, 8280.671875, 9818.857421875, 8322.5830078125, 3004.44189453125, 1935.4544677734375, 6002.04296875, 3079.712890625, 1561.635498046875, 1699.5048828125, 1701.004638671875, 2701.099609375, 1876.7200927734375, 2516.546875, 2195.9794921875, 1812.460693359375, 1979.125244140625, 1638.759521484375, 13163.6279296875, 10167.650390625, 7072.2421875, 5994.00830078125, 4441.33251953125, 4259.68310546875, 3825.16162109375, 3225.177978515625, 3148.7080078125, 2747.41455078125, 2625.660400390625, 2602.95654296875, 2560.85302734375, 2539.694580078125, 2441.768310546875, 2178.36474609375, 2155.27392578125, 2032.90087890625, 1866.7703857421875, 1863.7186279296875, 1815.7569580078125, 1782.7548828125, 1734.3096923828125, 1602.4542236328125, 1579.4566650390625, 1557.426513671875, 1533.0020751953125, 1531.06396484375, 1350.949462890625, 1338.3585205078125, 2024.292724609375, 16878.513671875, 13877.6337890625, 10517.58984375, 10323.8203125, 10199.30078125, 7052.376953125, 4526.376953125, 4224.8857421875, 3101.258056640625, 3098.329345703125, 2965.64501953125, 2360.3349609375, 2216.6875, 2212.56640625, 2164.927490234375, 2140.72998046875, 2027.1722412109375, 1987.8349609375, 1481.2034912109375, 1458.4554443359375, 1383.2706298828125, 1374.0963134765625, 1370.9305419921875, 1236.8712158203125, 1181.4620361328125, 1113.022216796875, 1072.291015625, 1044.55908203125, 1037.8218994140625, 1022.2806396484375, 2036.909912109375, 5336.71533203125, 4743.42626953125, 1602.7200927734375, 1701.68017578125, 2168.811279296875, 2666.760498046875, 5581.1953125, 1697.3638916015625, 2455.939697265625, 3168.034912109375, 2175.30810546875, 1784.1944580078125, 9106.62890625, 7364.97607421875, 6647.2275390625, 5327.9111328125, 4340.306640625, 3622.97119140625, 3599.698974609375, 2836.4853515625, 2748.33740234375, 2555.18017578125, 2233.2470703125, 2106.369140625, 1977.3917236328125, 1957.15087890625, 1762.7244873046875, 1605.348388671875, 1401.13916015625, 1336.1981201171875, 1306.89013671875, 1293.8006591796875, 1254.439208984375, 1252.7711181640625, 1215.9056396484375, 1213.23486328125, 1213.0435791015625, 1172.3070068359375, 1158.3514404296875, 1143.2401123046875, 1130.8675537109375, 1111.719482421875, 7036.21240234375, 2457.988525390625, 4192.7421875, 1259.1768798828125, 3735.994140625, 1764.727294921875, 4134.5634765625, 1885.117431640625, 3221.490966796875, 2919.327392578125, 1463.514404296875, 1676.4649658203125, 1552.0989990234375, 3680.233642578125, 3578.004638671875, 3163.509033203125, 2029.3187255859375, 2008.986572265625, 1876.6429443359375, 1468.0223388671875, 1423.8367919921875, 1357.6107177734375, 1323.61669921875, 1319.1824951171875, 1285.913330078125, 1215.9749755859375, 1150.2900390625, 1136.63525390625, 1047.9329833984375, 1011.8890991210938, 966.6423950195312, 963.7482299804688, 952.6911010742188, 915.5342407226562, 889.2685546875, 889.0375366210938, 878.278076171875, 874.4329223632812, 865.1891479492188, 856.2896118164062, 816.5177612304688, 814.6664428710938, 791.019775390625, 2239.816650390625, 6881.216796875, 1905.0389404296875, 2187.581298828125, 8402.3310546875, 2145.45361328125, 2982.786376953125, 1356.496337890625, 1212.16162109375, 1536.2327880859375, 2331.637939453125, 1388.0406494140625, 1096.12548828125, 1660.6748046875, 1286.296142578125, 1246.7559814453125, 4568.72216796875, 3171.145751953125, 2950.274169921875, 2727.591796875, 2699.770263671875, 2405.599609375, 2307.538330078125, 2262.751220703125, 2159.1455078125, 2114.083251953125, 1738.5560302734375, 1708.751953125, 1691.8157958984375, 1671.493408203125, 1639.255126953125, 1458.20751953125, 1454.3675537109375, 1433.7554931640625, 1400.8314208984375, 1321.3973388671875, 1312.97412109375, 1295.6593017578125, 1280.460205078125, 1259.9390869140625, 1252.1033935546875, 1222.8880615234375, 1206.8756103515625, 1152.5633544921875, 1145.58544921875, 1112.77197265625, 1744.1927490234375, 4067.74072265625, 1302.7449951171875, 1463.1715087890625, 4182.83984375, 3035.4990234375, 2608.130859375, 2469.75048828125, 1459.7935791015625, 1362.9945068359375, 1311.8759765625, 1268.186767578125, 1239.2879638671875, 1176.395751953125, 1133.654541015625, 1132.4921875, 1114.6641845703125, 1053.569580078125, 1028.9735107421875, 1027.2218017578125, 1000.9537353515625, 932.1123657226562, 907.4414672851562, 901.1156616210938, 895.4847412109375, 861.9596557617188, 826.2969970703125, 820.1024780273438, 811.2814331054688, 799.6533813476562, 792.2698364257812, 789.93701171875, 781.28955078125, 769.8212890625, 3058.15478515625, 1188.167236328125, 1194.2373046875, 1179.9443359375, 1815.3267822265625, 2468.37353515625, 1662.892578125, 1502.5693359375, 1694.6700439453125, 1542.1905517578125, 1371.151611328125, 1288.9730224609375, 1075.072265625, 1224.455078125, 1035.445556640625, 1035.0723876953125, 3404.48681640625, 3285.628662109375, 3196.629638671875, 2877.67529296875, 2000.763916015625, 1844.2049560546875, 1821.79638671875, 1817.6492919921875, 1697.0235595703125, 1537.3330078125, 1511.3546142578125, 1422.5872802734375, 1259.8004150390625, 1120.766845703125, 1119.19287109375, 1070.8009033203125, 1049.6973876953125, 954.8807373046875, 910.1148071289062, 896.2611083984375, 893.408447265625, 865.09716796875, 830.4631958007812, 827.5008544921875, 806.2357788085938, 806.0906372070312, 794.6516723632812, 785.6774291992188, 784.358642578125, 778.786376953125, 3705.49169921875, 2566.119873046875, 2812.785400390625, 2815.68017578125, 1816.1121826171875, 1442.083251953125, 1088.4482421875, 3802.650390625, 1545.9906005859375, 1041.006591796875, 1115.8162841796875, 1002.6282348632812], \"Term\": [\"\\u0441\\u043e\\u0447\\u0438\", \"\\u0447\\u0442\\u043e\", \"\\u043a\\u0430\\u043a\", \"\\u0433\\u043e\\u0434\\u0430\", \"die\", \"\\u0433\\u043e\\u0434\\u0443\", \"\\u044d\\u0442\\u043e\", \"2016\", \"2017\", \"der\", \"\\u0441\\u0438\\u0440\\u0438\\u0438\", \"\\u0432\\u0438\\u0434\\u0435\\u043e\", \"\\u0441\\u0448\\u0430\", \"\\u043f\\u0440\\u043e\\u0442\\u0438\\u0432\", \"\\u0434\\u043b\\u044f\", \"\\u0444\\u043e\\u0442\\u043e\", \"\\u0440\\u043e\\u0441\\u0441\\u0438\\u0438\", \"\\u043f\\u043e\\u0434\", \"\\u043c\\u0435\\u0442\\u0440\\u043e\", \"\\u043f\\u0443\\u0442\\u0438\\u043d\", \"\\u0432\\u0441\\u0435\", \"\\u0440\\u0443\\u0431\\u043b\\u0435\\u0439\", \"ist\", \"\\u0434\\u0442\\u043f\", \"\\u0441\\u0430\\u043d\\u043a\\u0446\\u0438\\u0438\", \"f\\u00fcr\", \"\\u0440\\u0430\\u0439\\u043e\\u043d\\u0435\", \"\\u0433\\u043e\\u0434\", \"\\u0443\\u0436\\u0435\", \"\\u043f\\u0440\\u0438\", \"\\u043a\\u0430\\u043a\", \"\\u044d\\u0442\\u043e\", \"\\u0432\\u0441\\u0435\", \"\\u0443\\u0436\\u0435\", \"\\u0442\\u0430\\u043a\", \"\\u043a\\u043e\\u0433\\u0434\\u0430\", \"\\u043a\\u0442\\u043e\", \"\\u0435\\u0441\\u043b\\u0438\", \"\\u0432\\u043e\\u0442\", \"\\u0442\\u043e\\u043b\\u044c\\u043a\\u043e\", \"\\u0442\\u044e\\u043c\\u0435\\u043d\\u0438\", \"\\u0431\\u043e\\u043b\\u044c\\u0448\\u0435\", \"\\u0431\\u044b\\u043b\\u043e\", \"\\u043c\\u043e\\u0436\\u043d\\u043e\", \"\\u043e\\u0447\\u0435\\u043d\\u044c\", \"\\u043c\\u043d\\u0435\", \"\\u0441\\u043f\\u0430\\u0441\\u0438\\u0431\\u043e\", \"\\u0432\\u0430\\u043c\", \"\\u0432\\u0441\\u0451\", \"\\u0430\\u0432\\u0442\\u043e\\u0440\", \"\\u043f\\u0440\\u043e\\u0441\\u0442\\u043e\", \"\\u0442\\u0435\\u043f\\u0435\\u0440\\u044c\", \"\\u043e\\u043d\\u0438\", \"\\u0432\\u0441\\u0435\\u043c\", \"\\u0441\\u0435\\u0439\\u0447\\u0430\\u0441\", \"\\u044d\\u0442\\u043e\\u043c\", \"\\u0432\\u0430\\u0441\", \"\\u043b\\u044e\\u0434\\u0438\", \"\\u043a\\u043e\\u0442\\u043e\\u0440\\u044b\\u0435\", \"\\u0435\\u0449\\u0451\", \"\\u0447\\u0442\\u043e\", \"\\u043d\\u0435\\u0442\", \"\\u0447\\u0442\\u043e\\u0431\\u044b\", \"\\u0435\\u0441\\u0442\\u044c\", \"\\u0441\\u0435\\u0433\\u043e\\u0434\\u043d\\u044f\", \"\\u043d\\u0430\\u0441\", \"\\u0434\\u0435\\u043d\\u044c\", \"\\u0435\\u0449\\u0435\", \"\\u0431\\u0443\\u0434\\u0435\\u0442\", \"\\u0435\\u0433\\u043e\", \"\\u043f\\u043e\\u0447\\u0435\\u043c\\u0443\", \"\\u0434\\u043b\\u044f\", \"\\u043f\\u0440\\u043e\\u0442\\u0438\\u0432\", \"\\u0441\\u0430\\u043d\\u043a\\u0446\\u0438\\u0438\", \"\\u043f\\u043e\\u0433\\u0438\\u0431\", \"\\u0447\\u0435\\u043b\\u043e\\u0432\\u0435\\u043a\\u0430\", \"\\u043f\\u043e\\u0433\\u0438\\u0431\\u043b\\u0438\", \"\\u043e\\u043e\\u043d\", \"\\u0443\\u043b\\u0438\\u0446\\u0435\", \"\\u0438\\u044e\\u043b\\u044f\", \"\\u0440\\u0435\\u0437\\u0443\\u043b\\u044c\\u0442\\u0430\\u0442\\u0435\", \"\\u043f\\u043e\\u0441\\u0442\\u0440\\u0430\\u0434\\u0430\\u043b\\u0438\", \"\\u0444\\u0435\\u0441\\u0442\\u0438\\u0432\\u0430\\u043b\\u044c\", \"volkswagen\", \"\\u0441\\u0430\\u043d\\u043a\\u0446\\u0438\\u0439\", \"\\u043e\\u0440\\u0435\\u043d\\u0431\\u0443\\u0440\\u0433\\u0435\", \"\\u043b\\u0430\\u0434\\u0430\", \"\\u0441\\u0442\\u043e\\u043b\\u043a\\u043d\\u043e\\u0432\\u0435\\u043d\\u0438\\u0438\", \"\\u043e\\u0442\\u043d\\u043e\\u0448\\u0435\\u043d\\u0438\\u0438\", \"\\u0440\\u0430\\u0439\\u043e\\u043d\\u0430\", \"\\u0440\\u043e\\u0434\\u0438\\u043b\\u0441\\u044f\", \"ford\", \"\\u0445\\u043e\\u0434\\u0435\", \"\\u043e\\u0442\\u0432\\u0435\\u0442\", \"\\u0432\\u043e\\u0439\\u043d\\u0430\", \"\\u0441\\u0432\\u0435\\u0442\\u0430\", \"\\u043d\\u0438\\u0436\\u043d\\u0435\\u043c\", \"\\u0432\\u043e\\u0441\\u0442\\u043e\\u043a\\u0435\", \"\\u043d\\u043e\\u0432\\u043e\\u0441\\u0442\\u0438\", \"\\u043d\\u043e\\u0432\\u0433\\u043e\\u0440\\u043e\\u0434\\u0435\", \"\\u043f\\u043e\\u0441\\u0442\\u0440\\u0430\\u0434\\u0430\\u043b\", \"\\u043e\\u0440\\u0443\\u0436\\u0438\\u0435\", \"\\u0443\\u043a\\u0440\\u0430\\u0438\\u043d\\u0435\", \"\\u043f\\u0440\\u0438\", \"\\u0447\\u0435\\u043b\\u043e\\u0432\\u0435\\u043a\", \"\\u0434\\u043d\\u0440\", \"\\u043f\\u043e\\u043c\\u043e\\u0449\\u044c\\u044e\", \"\\u0441\\u0448\\u0430\", \"\\u043f\\u043e\\u0440\\u043e\\u0448\\u0435\\u043d\\u043a\\u043e\", \"\\u0442\\u0443\\u0440\\u0446\\u0438\\u0438\", \"\\u0441\\u043c\\u0438\", \"\\u0440\\u043e\\u0441\\u0441\\u0438\\u0438\", \"\\u043f\\u043e\\u0434\", \"\\u0443\\u043a\\u0440\\u0430\\u0438\\u043d\\u044b\", \"\\u0433\\u043b\\u0430\\u0432\\u0430\", \"\\u043e\\u0434\\u0438\\u043d\", \"\\u0440\\u043e\\u0441\\u0441\\u0438\\u044e\", \"\\u0438\\u0437\\u0437\\u0430\", \"\\u0436\\u0438\\u0442\\u0435\\u043b\\u0435\\u0439\", \"\\u0441\\u0438\\u0440\\u0438\\u0438\", \"\\u0432\\u043b\\u0430\\u0441\\u0442\\u0438\", \"\\u043f\\u043e\\u0441\\u043b\\u0435\", \"\\u043f\\u0443\\u0442\\u0438\\u043d\\u0430\", \"\\u043c\\u0435\\u043d\\u044f\", \"\\u0437\\u0430\\u044f\\u0432\\u0438\\u043b\", \"\\u0440\\u043e\\u0436\\u0434\\u0435\\u043d\\u0438\\u044f\", \"\\u0442\\u0435\\u0431\\u044f\", \"\\u043f\\u043e\\u043c\\u043e\\u0449\\u0438\", \"\\u0441\\u0438\\u0440\\u0438\\u0439\\u0441\\u043a\\u043e\\u0439\", \"\\u043d\\u0430\\u0437\\u0432\\u0430\\u043b\\u0438\", \"\\u0441\\u0447\\u0438\\u0442\\u0430\\u0435\\u0442\", \"\\u043b\\u0430\\u0432\\u0440\\u043e\\u0432\", \"\\u0433\\u043e\\u043b\\u043e\\u0441\", \"\\u043f\\u0435\\u0441\\u043a\\u043e\\u0432\", \"\\u0440\\u0430\\u0431\\u043e\\u0442\\u0430\\u0442\\u044c\", \"\\u0441\\u0438\\u0440\\u0438\\u044e\", \"cnn\", \"\\u0434\\u043d\\u0435\\u043c\", \"\\u0441\\u0431\\u0435\\u0440\\u0431\\u0430\\u043d\\u043a\", \"\\u0442\\u043e\\u0436\\u0435\", \"\\u043d\\u0438\\u043a\\u043e\\u0433\\u0434\\u0430\", \"\\u0430\\u0432\\u0442\\u043e\\u043b\\u0435\\u0434\\u0438\", \"\\u0444\\u0443\\u0442\\u0431\\u043e\\u043b\", \"\\u0433\\u043e\\u0442\\u043e\\u0432\\u0430\", \"\\u044d\\u0440\\u0434\\u043e\\u0433\\u0430\\u043d\", \"\\u043f\\u043e\\u0441\\u0442\", \"\\u043f\\u043e\\u0442\\u043e\\u043c\\u0443\", \"chevrolet\", \"\\u0442\\u0430\\u043a\\u0438\\u0435\", \"\\u0438\\u0434\\u0435\\u0442\", \"\\u0441\\u0430\\u043c\\u044b\\u043c\", \"\\u043a\\u0435\\u0440\\u0440\\u0438\", \"\\u043f\\u0443\\u0442\\u0438\\u043d\", \"\\u0432\\u043b\\u0430\\u0434\\u0438\\u043c\\u0438\\u0440\", \"\\u043e\\u0431\\u0430\\u043c\\u0430\", \"\\u0441\\u0438\\u0440\\u0438\\u0438\", \"\\u0440\\u0430\\u0441\\u0441\\u043a\\u0430\\u0437\\u0430\\u043b\", \"\\u0440\\u043e\\u0441\\u0441\\u0438\\u044f\", \"\\u043d\\u0430\\u0437\\u0432\\u0430\\u043b\", \"\\u0441\\u0448\\u0430\", \"\\u0440\\u043e\\u0441\\u0441\\u0438\\u0438\", \"\\u0447\\u0442\\u043e\", \"\\u043d\\u0430\\u0434\", \"\\u043f\\u0440\\u0435\\u0437\\u0438\\u0434\\u0435\\u043d\\u0442\", \"\\u0434\\u043b\\u044f\", \"\\u043c\\u043e\\u0436\\u0435\\u0442\", \"\\u0441\\u044324\", \"\\u043f\\u0440\\u0435\\u0437\\u0438\\u0434\\u0435\\u043d\\u0442\\u0430\", \"\\u0441\\u0435\\u0440\\u0433\\u0435\\u0439\", \"\\u0441\\u043c\\u0438\", \"\\u043c\\u0438\\u0434\", \"\\u043f\\u043e\\u043c\\u043e\\u0449\\u044c\\u044e\", \"\\u0431\\u0443\\u0434\\u0435\\u0442\", \"\\u0442\\u0443\\u0440\\u0446\\u0438\\u0438\", \"\\u0441\\u0435\\u0433\\u043e\\u0434\\u043d\\u044f\", \"\\u0441\\u0442\\u0430\\u043b\", \"die\", \"der\", \"ist\", \"f\\u00fcr\", \"da\", \"sie\", \"von\", \"auf\", \"den\", \"ein\", \"hat\", \"deutschland\", \"wird\", \"ich\", \"eine\", \"sind\", \"frau\", \"\\u0441\\u0431\\u0438\\u043b\\u0430\", \"\\u043a\\u043e\\u043d\\u043a\\u0443\\u0440\\u0441\", \"\\u0432\\u043e\\u0440\\u043e\\u043d\\u0435\\u0436\\u0435\", \"gegen\", \"\\u043d\\u0430\\u0431\\u0435\\u0440\\u0435\\u0436\\u043d\\u043e\\u0439\", \"wir\", \"wie\", \"al\", \"auch\", \"vor\", \"dem\", \"skoda\", \"haben\", \"trump\", \"\\u0441\\u043e\\u0447\\u0438\", \"\\u0433\\u043e\\u0434\\u0430\", \"\\u0433\\u043e\\u0434\\u0443\", \"2016\", \"2017\", \"\\u0440\\u0443\\u0431\\u043b\\u0435\\u0439\", \"\\u0442\\u044b\\u0441\\u044f\\u0447\", \"\\u043c\\u043b\\u043d\", \"\\u0432\\u0430\\u0437\", \"\\u043c\\u0430\\u044f\", \"\\u043c\\u0430\\u0440\\u0442\\u0430\", \"\\u043f\\u043e\\u0447\\u0442\\u0438\", \"apple\", \"2015\", \"\\u0434\\u0440\\u0443\\u0437\\u044c\\u044f\", \"\\u0437\\u0435\\u043d\\u0438\\u0442\", \"\\u043c\\u043b\\u0440\\u0434\", \"100\", \"\\u0435\\u0432\\u0440\\u043e\\u043f\\u044b\", \"\\u044f\\u043d\\u0432\\u0430\\u0440\\u044f\", \"\\u043f\\u0430\\u043c\\u044f\\u0442\\u043d\\u0438\\u043a\", \"\\u0447\\u0438\\u0441\\u043b\\u043e\", \"\\u0442\\u044e\\u043c\\u0435\\u043d\\u0441\\u043a\\u043e\\u0439\", \"\\u043f\\u043b\\u043e\\u0449\\u0430\\u0434\\u0438\", \"\\u0442\\u044e\\u043c\\u0435\\u043d\\u0441\\u043a\\u0438\\u0435\", \"\\u043f\\u0440\\u0430\\u0437\\u0434\\u043d\\u0438\\u043a\", \"\\u0434\\u043e\\u043b\\u043b\\u0430\\u0440\\u043e\\u0432\", \"\\u043f\\u0440\\u043e\\u0448\\u0435\\u043b\", \"\\u0443\\u0442\\u0440\\u043e\\u043c\", \"\\u043a\\u0443\\u0431\\u043a\\u0430\", \"2018\", \"\\u0433\\u043e\\u0434\", \"\\u0431\\u043e\\u043b\\u0435\\u0435\", \"\\u0442\\u044b\\u0441\", \"iphone\", \"\\u043f\\u0440\\u043e\\u0439\\u0434\\u0435\\u0442\", \"\\u043b\\u0435\\u0442\", \"\\u0440\\u043e\\u0441\\u0441\\u0438\\u0438\", \"\\u043d\\u0430\\u0437\\u0430\\u0434\", \"\\u043e\\u0431\\u043b\\u0430\\u0441\\u0442\\u0438\", \"\\u0434\\u043b\\u044f\", \"\\u043d\\u043e\\u0432\\u044b\\u0439\", \"\\u0434\\u0435\\u043d\\u044c\", \"\\u0432\\u0438\\u0434\\u0435\\u043e\", \"\\u043c\\u0435\\u0442\\u0440\\u043e\", \"\\u0434\\u0442\\u043f\", \"\\u0440\\u0430\\u0439\\u043e\\u043d\\u0435\", \"\\u0432\\u043e\\u0434\\u0438\\u0442\\u0435\\u043b\\u044c\", \"lada\", \"\\u0433\\u043e\\u0440\\u043e\\u0434\\u0430\", \"\\u0446\\u0435\\u043d\\u0442\\u0440\\u0435\", \"\\u043f\\u0435\\u0442\\u0435\\u0440\\u0431\\u0443\\u0440\\u0433\\u0430\", \"\\u0441\\u0431\\u0438\\u043b\", \"toyota\", \"\\u0441\\u0442\\u043e\\u043b\\u043a\\u043d\\u0443\\u043b\\u0438\\u0441\\u044c\", \"\\u0430\\u0432\\u0442\\u043e\\u043c\\u043e\\u0431\\u0438\\u043b\\u044c\", \"\\u043f\\u0435\\u0442\\u0435\\u0440\\u0431\\u0443\\u0440\\u0433\", \"bmw\", \"\\u0441\\u0430\\u043c\\u043e\\u043b\\u0435\\u0442\", \"\\u0441\\u0442\\u0430\\u043d\\u0446\\u0438\\u0438\", \"\\u043f\\u043e\\u044f\\u0432\\u0438\\u0442\\u0441\\u044f\", \"\\u043f\\u044c\\u044f\\u043d\\u044b\\u0439\", \"\\u043c\\u0438\\u043b\\u043b\\u0438\\u043e\\u043d\\u043e\\u0432\", \"\\u0430\\u0432\\u0442\\u043e\\u0432\\u0430\\u0437\", \"nissan\", \"\\u043c\\u0435\\u0441\\u0442\\u0430\", \"\\u043d\\u043e\\u0432\\u044b\\u043c\", \"\\u043f\\u043e\\u043f\\u0430\\u043b\", \"\\u043f\\u0440\\u043e\\u0442\\u0430\\u0440\\u0430\\u043d\\u0438\\u043b\", \"\\u0438\\u0442\\u043e\\u0433\\u0438\", \"\\u043d\\u043e\\u0432\\u043e\\u0435\", \"\\u043a\\u0440\\u0430\\u0435\", \"\\u0436\\u0438\\u0442\\u0435\\u043b\\u044c\", \"\\u043f\\u043e\\u0434\", \"\\u043c\\u043e\\u0441\\u043a\\u0432\\u044b\", \"\\u043c\\u043e\\u0441\\u043a\\u0432\\u0435\", \"hyundai\", \"\\u043e\\u0431\\u043b\\u0430\\u0441\\u0442\\u0438\", \"\\u0442\\u0430\\u043a\\u0441\\u0438\", \"\\u0444\\u043e\\u0442\\u043e\", \"\\u043a\\u0430\\u0444\\u0435\", \"\\u0438\\u0437\\u0437\\u0430\", \"\\u043f\\u043e\\u0441\\u043b\\u0435\", \"\\u043d\\u0430\\u0448\\u043b\\u0438\", \"\\u0434\\u0432\\u0430\", \"\\u043f\\u0440\\u0438\", \"\\u0443\\u0442\\u0440\\u043e\", \"\\u0430\\u043a\\u0446\\u0438\\u044f\", \"\\u0434\\u043e\\u0431\\u0440\\u043e\\u0435\", \"mit\", \"\\u043d\\u043e\\u0432\\u044b\\u0445\", \"\\u0431\\u0435\\u043b\\u044b\\u0439\", \"\\u043f\\u043e\\u044f\\u0432\\u0438\\u043b\\u0438\\u0441\\u044c\", \"\\u043f\\u0440\\u043e\\u0448\\u043b\\u0430\", \"\\u0434\\u043e\\u043d\\u0431\\u0430\\u0441\\u0441\\u0435\", \"\\u0432\\u0440\\u0435\\u0437\\u0430\\u043b\\u0441\\u044f\", \"kia\", \"\\u044d\\u043a\\u0441\\u043f\\u0435\\u0440\\u0442\\u044b\", \"\\u043f\\u0440\\u043e\\u0445\\u043e\\u0434\\u0438\\u0442\", \"\\u043c\\u0438\\u043d\\u0438\\u0441\\u0442\\u0440\", \"\\u043d\\u0430\\u0447\\u0430\\u043b\", \"\\u043f\\u0435\\u0440\\u0435\\u0433\\u043e\\u0432\\u043e\\u0440\\u044b\", \"\\u0441\\u0442\\u0430\\u043d\\u0446\\u0438\\u044f\", \"\\u043a\\u043e\\u043d\\u043a\\u0443\\u0440\\u0441\\u0430\", \"samsung\", \"\\u043d\\u0435\\u0444\\u0442\\u0438\", \"\\u0433\\u0430\\u0437\\u0430\", \"\\u0433\\u043e\\u0442\\u043e\\u0432\\u0438\\u0442\\u0441\\u044f\", \"500\", \"\\u0441\\u0435\\u0442\\u044c\", \"\\u043f\\u0435\\u0440\\u043c\\u044c\", \"\\u0442\\u043e\\u043c\\u0441\\u043a\", \"\\u0434\\u043e\\u0440\\u043e\\u0433\\u0438\", \"\\u0441\\u0442\\u0430\\u0440\\u0442\\u0443\\u0435\\u0442\", \"\\u0444\\u043e\\u0442\\u043e\\u0433\\u0440\\u0430\\u0444\\u0438\\u0438\", \"\\u043f\\u0440\\u043e\\u0432\\u0435\\u0441\\u0442\\u0438\", \"\\u0434\\u043e\\u043c\", \"\\u0444\\u043e\\u0442\\u043e\", \"\\u0430\\u043f\\u0440\\u0435\\u043b\\u044f\", \"\\u043d\\u043e\\u0432\\u043e\\u0433\\u043e\", \"\\u0434\\u043b\\u044f\", \"\\u0440\\u043e\\u0441\\u0441\\u0438\\u0439\\u0441\\u043a\\u0438\\u0435\", \"\\u043f\\u0435\\u0442\\u0435\\u0440\\u0431\\u0443\\u0440\\u0433\\u0435\", \"\\u0443\\u0447\\u0435\\u043d\\u044b\\u0435\", \"\\u0443\\u0444\\u0435\", \"\\u0434\\u043d\\u044f\", \"\\u0440\\u043e\\u0441\\u0441\\u0438\\u0438\", \"\\u0431\\u0443\\u0434\\u0443\\u0442\", \"\\u043d\\u043e\\u0432\\u0430\\u044f\", \"\\u0441\\u0448\\u0430\", \"\\u0440\\u043e\\u0441\\u0441\\u0438\\u044f\", \"\\u043c\\u043e\\u0441\\u043a\\u0432\\u0435\", \"und\", \"\\u0446\\u0441\\u043a\\u0430\", \"\\u0440\\u043e\\u0441\\u0442\\u043e\\u0432\", \"\\u0434\\u0438\\u043d\\u0430\\u043c\\u043e\", \"\\u043c\\u0430\\u0442\\u0447\", \"\\u043c\\u0430\\u0442\\u0447\\u0435\", \"\\u0444\\u0435\\u0432\\u0440\\u0430\\u043b\\u044f\", \"merkel\", \"\\u0441\\u0430\\u043c\\u044b\\u0445\", \"\\u0441\\u0431\\u043e\\u0440\\u043d\\u043e\\u0439\", \"\\u0435\\u0432\\u0440\\u043e\", \"\\u0441\\u043f\\u0430\\u0440\\u0442\\u0430\\u043a\", \"\\u043f\\u043e\\u0431\\u0435\\u0434\\u0443\", \"\\u0432\\u044b\\u0431\\u043e\\u0440\\u0430\\u0445\", \"nicht\", \"renault\", \"bei\", \"sich\", \"\\u043b\\u043e\\u043a\\u043e\\u043c\\u043e\\u0442\\u0438\\u0432\", \"\\u043c\\u043e\\u0440\\u0435\", \"\\u043a\\u0443\\u0431\\u0430\\u043d\\u044c\", \"\\u0444\\u0443\\u0442\\u0431\\u043e\\u043b\\u0443\", \"\\u0447\\u043c2018\", \"\\u0430\\u043d\\u0436\\u0438\", \"\\u0441\\u0431\\u043e\\u0440\\u043d\\u0430\\u044f\", \"\\u0430\\u0432\\u0442\\u043e\", \"\\u043c\\u0430\\u0442\\u0447\\u0430\", \"nach\", \"\\u043a\\u0438\\u0442\\u0430\\u0439\", \"au\", \"\\u043c\\u0435\\u0441\\u0442\\u043e\", \"\\u0440\\u043e\\u0441\\u0441\\u0438\\u0438\", \"\\u043a\\u0430\\u0437\\u0430\\u043d\\u0438\", \"\\u043d\\u0430\\u0434\", \"\\u0441\\u0443\\u0434\", \"\\u0442\\u0440\\u0430\\u043c\\u043f\", \"\\u0434\\u0435\\u043b\\u043e\", \"\\u0442\\u0440\\u0430\\u0441\\u0441\\u0435\", \"\\u0440\\u0435\\u0448\\u0435\\u043d\\u0438\\u0435\", \"\\u043f\\u0440\\u043e\\u0441\\u043f\\u0435\\u043a\\u0442\\u0435\", \"\\u0430\\u0432\\u0430\\u0440\\u0438\\u0438\", \"\\u0447\\u0435\\u043c\\u043f\\u0438\\u043e\\u043d\\u0430\\u0442\\u0430\", \"\\u043c\\u0432\\u0444\", \"\\u0433\\u0440\\u0430\\u0436\\u0434\\u0430\\u043d\", \"\\u0436\\u0435\\u043d\\u0449\\u0438\\u043d\\u0443\", \"\\u043d\\u0430\\u0441\\u043c\\u0435\\u0440\\u0442\\u044c\", \"\\u043f\\u043e\\u0434\\u043f\\u0438\\u0441\\u0430\\u043b\", \"\\u0437\\u0430\\u043a\\u043e\\u043d\", \"\\u0433\\u0443\\u0431\\u0435\\u0440\\u043d\\u0430\\u0442\\u043e\\u0440\", \"\\u043e\\u0442\\u043a\\u043b\\u044e\\u0447\\u0435\\u043d\\u0438\\u044f\", \"\\u043f\\u0435\\u043d\\u0437\\u0435\", \"\\u0441\\u0442\\u043e\\u0440\\u043e\\u043d\\u044b\", \"\\u043f\\u0440\\u043e\\u0434\\u0430\\u0436\\u0443\", \"\\u043f\\u043e\\u043b\\u0443\\u0447\\u0438\\u0442\\u044c\", \"\\u0441\\u0433\\u043e\\u0440\\u0435\\u043b\", \"\\u0443\\u0433\\u043e\\u043b\\u043e\\u0432\\u043d\\u043e\\u0435\", \"de\", \"\\u0433\\u0438\\u0431\\u0434\\u0434\", \"\\u043a\\u0443\\u0431\\u0430\\u043d\\u0438\", \"\\u0433\\u0430\\u0437\", \"\\u0434\\u043e\\u043d\\u0430\\u043b\\u044c\\u0434\", \"\\u043f\\u0440\\u044f\\u043c\\u043e\", \"\\u0440\\u0430\\u0437\\u0432\\u0438\\u0442\\u0438\\u0435\", \"\\u043c\\u0435\\u043d\\u044c\\u0448\\u0435\", \"\\u0443\\u043a\\u0440\\u0430\\u0438\\u043d\\u044b\", \"\\u043a\\u0430\\u0437\\u0430\\u043d\\u044c\", \"\\u043c\\u0443\\u0436\\u0447\\u0438\\u043d\\u0430\", \"\\u0442\\u0440\\u0430\\u043c\\u043f\\u0430\", \"\\u043e\\u0431\\u043b\\u0430\\u0441\\u0442\\u0438\", \"\\u0440\\u043e\\u0441\\u0441\\u0438\\u0438\", \"\\u0438\\u0437\\u0437\\u0430\", \"\\u043f\\u0443\\u0442\\u0438\\u043d\", \"\\u0434\\u043b\\u044f\", \"\\u0441\\u0448\\u0430\", \"\\u043f\\u043e\\u043c\\u043e\\u0449\\u044c\\u044e\", \"\\u043f\\u043e\\u0441\\u043b\\u0435\", \"\\u043f\\u0435\\u0440\\u0435\\u0434\", \"\\u0431\\u0443\\u0434\\u0435\\u0442\", \"\\u043a\\u0430\\u0444\\u0435\", \"\\u043f\\u0435\\u0442\\u0435\\u0440\\u0431\\u0443\\u0440\\u0433\\u0435\", \"\\u0438\\u044e\\u043d\\u044f\", \"\\u0430\\u0440\\u043c\\u0438\\u044f\", \"\\u0433\\u043e\\u0440\\u043e\\u0434\\u0435\", \"\\u0441\\u0430\\u0430\", \"\\u0441\\u0438\\u0440\\u0438\\u0439\\u0441\\u043a\\u0430\\u044f\", \"airbus\", \"\\u043e\\u043f\\u0435\\u0440\\u0430\\u0446\\u0438\\u0438\", \"\\u043e\\u0431\\u043b\\u0430\\u0441\\u0442\\u044c\", \"a321\", \"\\u0442\\u043e\\u043b\\u044c\\u044f\\u0442\\u0442\\u0438\", \"\\u0440\\u0435\\u0436\\u0438\\u043c\", \"\\u0437\\u0430\\u0434\\u0435\\u0440\\u0436\\u0430\\u043d\", \"\\u0441\\u0438\\u0442\\u0443\\u0430\\u0446\\u0438\\u0438\", \"russia\", \"\\u043d\\u0430\\u043d\\u0435\\u0441\\u043b\\u0438\", \"\\u043f\\u043e\\u0437\\u0438\\u0446\\u0438\\u044f\\u043c\", \"\\u0443\\u043d\\u0438\\u0447\\u0442\\u043e\\u0436\\u0438\\u043b\\u0438\", \"\\u0430\\u043b\\u0435\\u043a\\u0441\\u0430\\u043d\\u0434\\u0440\\u0430\", \"\\u0434\\u0440\\u0443\\u0433\", \"\\u0440\\u0435\\u0439\\u0441\\u044b\", \"\\u0438\\u0440\\u0430\\u043a\\u0435\", \"\\u0431\\u043e\\u0435\\u0432\\u0438\\u043a\\u0430\\u043c\\u0438\", \"\\u0432\\u043a\\u043b\\u0430\\u0434\", \"\\u0431\\u043e\\u0440\\u044c\\u0431\\u0443\", \"russian\", \"\\u043f\\u0440\\u043e\\u0434\\u043e\\u043b\\u0436\\u0430\\u0435\\u0442\\u0441\\u044f\", \"brexit\", \"\\u043f\\u0440\\u0430\\u0437\\u0434\\u043d\\u0438\\u043a\\u043e\\u043c\", \"noch\", \"\\u0430\\u044d\\u0440\\u043e\\u0444\\u043b\\u043e\\u0442\", \"\\u0431\\u043e\\u0435\\u0432\\u0438\\u043a\\u043e\\u0432\", \"\\u0441\\u0432\\u044f\\u0437\\u0438\", \"\\u0442\\u0435\\u0440\\u0440\\u043e\\u0440\\u0438\\u0441\\u0442\\u043e\\u0432\", \"\\u0430\\u043b\\u0435\\u043f\\u043f\\u043e\", \"\\u0432\\u043a\\u0441\", \"\\u0431\\u043e\\u0435\\u0432\\u0438\\u043a\\u0438\", \"\\u0442\\u0435\\u0440\\u0440\\u043e\\u0440\\u0438\\u0441\\u0442\\u044b\", \"\\u0441\\u0438\\u0440\\u0438\\u0438\", \"\\u0438\\u0433\\u0438\\u043b\", \"\\u0441\\u0430\\u043c\\u043e\\u043b\\u0435\\u0442\\u044b\", \"\\u0442\\u0440\\u0430\\u043d\\u0441\\u0430\\u044d\\u0440\\u043e\", \"via\"], \"Total\": [16879.0, 25119.0, 17568.0, 13878.0, 13164.0, 10518.0, 12229.0, 10324.0, 10200.0, 10168.0, 16082.0, 9107.0, 20235.0, 9589.0, 22774.0, 13610.0, 32315.0, 10858.0, 7365.0, 9554.0, 8221.0, 7053.0, 7073.0, 6648.0, 6530.0, 5994.0, 5328.0, 6391.0, 5912.0, 7178.0, 17568.8515625, 12229.0517578125, 8221.513671875, 5912.36181640625, 5660.7841796875, 4978.88037109375, 4787.912109375, 4775.37451171875, 4550.5322265625, 4395.8935546875, 3831.2578125, 3408.253173828125, 3393.90673828125, 3348.11181640625, 3001.427734375, 2917.90380859375, 2867.226318359375, 2847.837158203125, 2639.43310546875, 2630.136962890625, 2595.822265625, 2545.56494140625, 2479.718017578125, 2276.435791015625, 2191.80322265625, 2159.109130859375, 2142.129638671875, 2058.630859375, 2026.849853515625, 1962.8885498046875, 25119.279296875, 3925.166259765625, 3660.819580078125, 4619.7236328125, 9418.421875, 2703.755126953125, 8351.033203125, 4471.501953125, 10275.8603515625, 5004.26123046875, 3550.221923828125, 22774.181640625, 9589.61328125, 6530.29736328125, 3177.728271484375, 3080.15380859375, 3068.5107421875, 2982.1396484375, 2862.93701171875, 2504.698486328125, 2344.12890625, 2110.625, 1928.5289306640625, 1629.54736328125, 1571.9635009765625, 1422.408447265625, 1350.770751953125, 1343.5872802734375, 1326.16552734375, 1310.986328125, 1309.8260498046875, 1286.7044677734375, 1274.1259765625, 1243.3681640625, 1231.1522216796875, 1181.082275390625, 1172.8447265625, 1132.8643798828125, 1107.6629638671875, 1104.97705078125, 1085.0506591796875, 1022.8394165039062, 4160.70947265625, 7178.69189453125, 7509.9287109375, 2160.35498046875, 10972.212890625, 20235.03515625, 3039.6142578125, 4826.47607421875, 8236.2509765625, 32315.77734375, 10858.986328125, 6117.3681640625, 4248.90234375, 3716.28515625, 3610.888916015625, 9209.9560546875, 2240.623046875, 16082.201171875, 3834.916748046875, 8917.38671875, 4112.078125, 3711.330322265625, 3700.86279296875, 2249.995849609375, 1674.4205322265625, 1657.288330078125, 1604.369873046875, 1580.9609375, 1539.42236328125, 1452.981201171875, 1447.09619140625, 1361.090087890625, 1321.2069091796875, 1266.880859375, 1263.1961669921875, 1247.97265625, 1208.8223876953125, 1204.099365234375, 1082.873046875, 1078.3011474609375, 1053.8204345703125, 1026.415771484375, 1015.5106201171875, 1010.87890625, 1002.936279296875, 962.8527221679688, 943.3659057617188, 939.2079467773438, 924.8256225585938, 923.665283203125, 9554.8837890625, 4360.64990234375, 2165.394775390625, 16082.201171875, 3130.182861328125, 9255.2275390625, 3209.279052734375, 20235.03515625, 32315.77734375, 25119.279296875, 5271.7255859375, 2961.05615234375, 22774.181640625, 6812.724609375, 2041.5709228515625, 2474.56201171875, 2552.154296875, 8236.2509765625, 3457.571044921875, 10972.212890625, 10275.8603515625, 4826.47607421875, 9418.421875, 3236.048828125, 13164.5283203125, 10168.55078125, 7073.14208984375, 5994.908203125, 4442.232421875, 4260.5830078125, 3826.061279296875, 3226.07763671875, 3149.607666015625, 2748.314208984375, 2626.56005859375, 2603.856201171875, 2561.752685546875, 2540.59423828125, 2442.66796875, 2179.264404296875, 2156.173583984375, 2033.80078125, 1867.6702880859375, 1864.619140625, 1816.65673828125, 1783.65478515625, 1735.20947265625, 1603.35400390625, 1580.3564453125, 1558.3262939453125, 1533.90185546875, 1531.9637451171875, 1351.849365234375, 1339.25830078125, 2504.19482421875, 16879.51953125, 13878.638671875, 10518.5947265625, 10324.8251953125, 10200.3056640625, 7053.38232421875, 4527.38232421875, 4225.89111328125, 3102.263427734375, 3099.33447265625, 2966.650146484375, 2361.340087890625, 2217.692626953125, 2213.571533203125, 2165.9326171875, 2141.735107421875, 2028.1773681640625, 1988.840087890625, 1482.208740234375, 1459.4605712890625, 1384.2757568359375, 1375.1014404296875, 1371.9390869140625, 1237.8763427734375, 1182.520263671875, 1114.02734375, 1073.296142578125, 1045.564208984375, 1038.8270263671875, 1023.2858276367188, 2169.92041015625, 6391.462890625, 5870.1904296875, 1791.3546142578125, 2213.837158203125, 3646.342041015625, 6293.17333984375, 32315.77734375, 2496.048828125, 9130.796875, 22774.181640625, 6406.2236328125, 8351.033203125, 9107.6337890625, 7365.98095703125, 6648.232421875, 5328.916015625, 4341.3115234375, 3623.975830078125, 3600.703857421875, 2837.489990234375, 2749.342041015625, 2556.184814453125, 2234.251708984375, 2107.373779296875, 1978.396240234375, 1958.155517578125, 1763.72900390625, 1606.3529052734375, 1402.1436767578125, 1337.20263671875, 1307.8946533203125, 1294.8052978515625, 1255.4437255859375, 1253.775634765625, 1216.91015625, 1214.2393798828125, 1214.048095703125, 1173.3115234375, 1159.3560791015625, 1144.24462890625, 1131.8720703125, 1112.7239990234375, 10858.986328125, 3225.875732421875, 6650.38427734375, 1326.6368408203125, 9130.796875, 2488.690673828125, 13610.4541015625, 2921.464111328125, 9209.9560546875, 8917.38671875, 1845.0555419921875, 4162.88134765625, 7178.69189453125, 3681.227294921875, 3578.998291015625, 3164.502685546875, 2030.312744140625, 2009.980224609375, 1877.6365966796875, 1469.0159912109375, 1424.8304443359375, 1358.6043701171875, 1324.6103515625, 1320.1763916015625, 1286.906982421875, 1216.9686279296875, 1151.28369140625, 1137.62890625, 1048.9266357421875, 1012.8828735351562, 967.6360473632812, 964.7418212890625, 953.684814453125, 916.5278930664062, 890.2622680664062, 890.0311889648438, 879.271728515625, 875.4268798828125, 866.1830444335938, 857.2832641601562, 817.5114135742188, 815.66015625, 792.013427734375, 2836.07421875, 13610.4541015625, 2629.952880859375, 3213.604736328125, 22774.181640625, 3656.62451171875, 6466.02978515625, 1974.238525390625, 1707.5428466796875, 4069.756591796875, 32315.77734375, 4853.36572265625, 1775.953369140625, 20235.03515625, 9255.2275390625, 6650.38427734375, 4569.69970703125, 3172.122802734375, 2951.251220703125, 2728.56884765625, 2700.747314453125, 2406.57666015625, 2308.515380859375, 2263.72900390625, 2160.12255859375, 2115.060302734375, 1739.533203125, 1709.7291259765625, 1692.79296875, 1672.4705810546875, 1640.2325439453125, 1459.18505859375, 1455.344970703125, 1434.7327880859375, 1401.80859375, 1322.37451171875, 1313.951416015625, 1296.636474609375, 1281.4373779296875, 1260.916259765625, 1253.08056640625, 1223.8653564453125, 1207.852783203125, 1153.5406494140625, 1146.562744140625, 1113.749267578125, 2398.313232421875, 32315.77734375, 2031.705078125, 5271.7255859375, 4183.8251953125, 3036.484619140625, 2609.1162109375, 2470.736083984375, 1460.7791748046875, 1363.9803466796875, 1312.861572265625, 1269.1724853515625, 1240.2735595703125, 1177.38134765625, 1134.64013671875, 1133.4779052734375, 1115.6497802734375, 1054.55517578125, 1029.9591064453125, 1028.208251953125, 1001.9450073242188, 933.0980224609375, 908.4270629882812, 902.1012573242188, 896.4703369140625, 862.9451293945312, 827.2828979492188, 821.0880737304688, 812.2670288085938, 800.638916015625, 793.25537109375, 790.922607421875, 782.2752075195312, 770.806884765625, 6117.3681640625, 2277.50830078125, 2354.94775390625, 2386.83251953125, 9130.796875, 32315.77734375, 9209.9560546875, 9554.8837890625, 22774.181640625, 20235.03515625, 10972.212890625, 8917.38671875, 2943.2275390625, 10275.8603515625, 2921.464111328125, 6466.02978515625, 3405.44873046875, 3286.590576171875, 3197.591552734375, 2878.637451171875, 2001.7257080078125, 1845.166748046875, 1822.7581787109375, 1818.6112060546875, 1697.9853515625, 1538.2955322265625, 1512.31640625, 1423.549072265625, 1260.76220703125, 1121.7286376953125, 1120.1546630859375, 1071.7626953125, 1050.6591796875, 955.8425903320312, 911.07666015625, 897.222900390625, 894.3702392578125, 866.0590209960938, 831.4251098632812, 828.4627075195312, 807.1975708007812, 807.052490234375, 795.6136474609375, 786.6392822265625, 785.3208618164062, 779.7481689453125, 4453.5390625, 3098.9814453125, 3802.19482421875, 4333.552734375, 2523.485595703125, 2170.211669921875, 1391.9354248046875, 16082.201171875, 3087.21142578125, 1299.9508056640625, 1708.720947265625, 1826.95751953125], \"loglift\": [30.0, 29.0, 28.0, 27.0, 26.0, 25.0, 24.0, 23.0, 22.0, 21.0, 20.0, 19.0, 18.0, 17.0, 16.0, 15.0, 14.0, 13.0, 12.0, 11.0, 10.0, 9.0, 8.0, 7.0, 6.0, 5.0, 4.0, 3.0, 2.0, 1.0, 1.9788000583648682, 1.9788000583648682, 1.9788000583648682, 1.978700041770935, 1.978700041770935, 1.978700041770935, 1.978700041770935, 1.978700041770935, 1.978700041770935, 1.978700041770935, 1.978600025177002, 1.978600025177002, 1.978600025177002, 1.978600025177002, 1.978600025177002, 1.978600025177002, 1.9785000085830688, 1.9785000085830688, 1.9785000085830688, 1.9785000085830688, 1.9785000085830688, 1.9785000085830688, 1.9785000085830688, 1.9785000085830688, 1.9783999919891357, 1.9783999919891357, 1.9783999919891357, 1.9783999919891357, 1.9783999919891357, 1.9783999919891357, 1.5764000415802002, 1.7970000505447388, 1.8026000261306763, 1.711400032043457, 1.3558000326156616, 1.8801000118255615, 1.3476999998092651, 1.641700029373169, 1.0542000532150269, 1.4883999824523926, 1.7288999557495117, 0.10790000110864639, 2.1150999069213867, 2.115000009536743, 2.1149001121520996, 2.1149001121520996, 2.1149001121520996, 2.1149001121520996, 2.114799976348877, 2.114799976348877, 2.114799976348877, 2.1147000789642334, 2.1147000789642334, 2.1145999431610107, 2.1145999431610107, 2.114500045776367, 2.114500045776367, 2.114500045776367, 2.1143999099731445, 2.1143999099731445, 2.1143999099731445, 2.1143999099731445, 2.1143999099731445, 2.1143999099731445, 2.1143999099731445, 2.1143999099731445, 2.114300012588501, 2.114300012588501, 2.114300012588501, 2.114300012588501, 2.114300012588501, 2.1142001152038574, 1.9729000329971313, 1.871399998664856, 1.6842000484466553, 1.9625999927520752, 1.5218000411987305, 1.276900053024292, 1.8193000555038452, 1.6440999507904053, 1.386299967765808, 0.7250000238418579, 1.0708999633789062, 1.3036999702453613, 1.4866000413894653, 1.5461000204086304, 1.5551999807357788, 1.00600004196167, 1.7978999614715576, 0.3310000002384186, 1.3726999759674072, 0.6304000020027161, 2.186000108718872, 2.186000108718872, 2.186000108718872, 2.185800075531006, 2.185699939727783, 2.185699939727783, 2.1856000423431396, 2.1856000423431396, 2.1856000423431396, 2.1856000423431396, 2.1856000423431396, 2.185499906539917, 2.185499906539917, 2.185499906539917, 2.185499906539917, 2.185499906539917, 2.1854000091552734, 2.1854000091552734, 2.18530011177063, 2.18530011177063, 2.18530011177063, 2.18530011177063, 2.18530011177063, 2.18530011177063, 2.18530011177063, 2.1851999759674072, 2.1851999759674072, 2.1851999759674072, 2.1851999759674072, 2.1851999759674072, 2.0151000022888184, 1.9500000476837158, 2.044800043106079, 1.6679999828338623, 1.9514000415802002, 1.6229000091552734, 1.8660999536514282, 1.292799949645996, 0.9950000047683716, 1.0815999507904053, 1.6239999532699585, 1.7611000537872314, 0.8526999950408936, 1.392300009727478, 1.9183000326156616, 1.8105000257492065, 1.780500054359436, 1.0714000463485718, 1.5751999616622925, 0.7138000130653381, 0.6431000232696533, 1.2067999839782715, 0.6262000203132629, 1.5058000087738037, 2.2776999473571777, 2.2776999473571777, 2.277600049972534, 2.277600049972534, 2.277600049972534, 2.277600049972534, 2.2774999141693115, 2.2774999141693115, 2.2774999141693115, 2.277400016784668, 2.277400016784668, 2.277400016784668, 2.277400016784668, 2.277400016784668, 2.277400016784668, 2.277400016784668, 2.277400016784668, 2.2772998809814453, 2.2772998809814453, 2.2772998809814453, 2.2772998809814453, 2.2772998809814453, 2.2772998809814453, 2.2771999835968018, 2.2771999835968018, 2.2771999835968018, 2.2771999835968018, 2.2771999835968018, 2.277100086212158, 2.277100086212158, 2.065000057220459, 2.3057000637054443, 2.3057000637054443, 2.3055999279022217, 2.3055999279022217, 2.3055999279022217, 2.3055999279022217, 2.305500030517578, 2.305500030517578, 2.3053998947143555, 2.3053998947143555, 2.3053998947143555, 2.305299997329712, 2.305299997329712, 2.305299997329712, 2.305299997329712, 2.305299997329712, 2.3052000999450684, 2.3052000999450684, 2.3050999641418457, 2.3050999641418457, 2.305000066757202, 2.305000066757202, 2.305000066757202, 2.3048999309539795, 2.304800033569336, 2.304800033569336, 2.304800033569336, 2.304800033569336, 2.304800033569336, 2.304800033569336, 2.242500066757202, 2.1254000663757324, 2.092600107192993, 2.194499969482422, 2.04259991645813, 1.7862000465393066, 1.447100043296814, 0.5496000051498413, 1.9200999736785889, 0.9926000237464905, 0.33320000767707825, 1.225600004196167, 0.7623000144958496, 2.3464999198913574, 2.3464999198913574, 2.3464999198913574, 2.346400022506714, 2.346400022506714, 2.346299886703491, 2.346299886703491, 2.3461999893188477, 2.3461999893188477, 2.3461999893188477, 2.3461999893188477, 2.346100091934204, 2.346100091934204, 2.346100091934204, 2.3459999561309814, 2.3459999561309814, 2.345900058746338, 2.345900058746338, 2.3457999229431152, 2.3457999229431152, 2.3457999229431152, 2.3457999229431152, 2.3457999229431152, 2.3457999229431152, 2.3457999229431152, 2.3457000255584717, 2.3457000255584717, 2.3457000255584717, 2.3457000255584717, 2.3457000255584717, 1.9127000570297241, 2.074700117111206, 1.8853000402450562, 2.2943999767303467, 1.4529999494552612, 2.0027999877929688, 1.1550999879837036, 1.9084999561309814, 1.2962000370025635, 1.2300000190734863, 2.1149001121520996, 1.4371000528335571, 0.8151000142097473, 2.4528000354766846, 2.4528000354766846, 2.4528000354766846, 2.4526000022888184, 2.4526000022888184, 2.4526000022888184, 2.452399969100952, 2.452399969100952, 2.452399969100952, 2.452399969100952, 2.452399969100952, 2.4523000717163086, 2.4523000717163086, 2.452199935913086, 2.452199935913086, 2.452199935913086, 2.4521000385284424, 2.4521000385284424, 2.4521000385284424, 2.4521000385284424, 2.4519999027252197, 2.4519999027252197, 2.4519999027252197, 2.4519999027252197, 2.4519999027252197, 2.4519999027252197, 2.4519999027252197, 2.451900005340576, 2.451900005340576, 2.451900005340576, 2.217099905014038, 1.7711000442504883, 2.1305999755859375, 2.06850004196167, 1.4559999704360962, 1.9198999404907227, 1.6793999671936035, 2.0778000354766846, 2.1105000972747803, 1.4788999557495117, -0.17589999735355377, 1.201300024986267, 1.9706000089645386, -0.0471000000834465, 0.4796999990940094, 0.7789999842643738, 2.455399990081787, 2.4553000926971436, 2.4553000926971436, 2.4553000926971436, 2.4553000926971436, 2.455199956893921, 2.455199956893921, 2.455199956893921, 2.455199956893921, 2.455199956893921, 2.4551000595092773, 2.4551000595092773, 2.4551000595092773, 2.4551000595092773, 2.4551000595092773, 2.4549999237060547, 2.4549999237060547, 2.4549999237060547, 2.4549999237060547, 2.454900026321411, 2.454900026321411, 2.454900026321411, 2.454900026321411, 2.454900026321411, 2.454900026321411, 2.454900026321411, 2.4547998905181885, 2.4547998905181885, 2.4547998905181885, 2.4547998905181885, 2.137200117111206, 0.3831999897956848, 2.011199951171875, 1.1739000082015991, 2.4593000411987305, 2.459199905395508, 2.4591000080108643, 2.4591000080108643, 2.4588000774383545, 2.4588000774383545, 2.458699941635132, 2.458699941635132, 2.458699941635132, 2.458699941635132, 2.4586000442504883, 2.4586000442504883, 2.4586000442504883, 2.4586000442504883, 2.4584999084472656, 2.4584999084472656, 2.4584999084472656, 2.458400011062622, 2.458400011062622, 2.458400011062622, 2.458400011062622, 2.4583001136779785, 2.4583001136779785, 2.4583001136779785, 2.4583001136779785, 2.4583001136779785, 2.458199977874756, 2.458199977874756, 2.458199977874756, 2.458199977874756, 1.7661999464035034, 1.8087999820709229, 1.780500054359436, 1.7549999952316284, 0.8440999984741211, -0.11249999701976776, 0.7477999925613403, 0.6096000075340271, -0.1386999934911728, -0.11469999700784683, 0.3797999918460846, 0.5253000259399414, 1.4523999691009521, 0.33219999074935913, 1.4221999645233154, 0.6273999810218811, 2.6084001064300537, 2.6084001064300537, 2.6084001064300537, 2.6084001064300537, 2.6082000732421875, 2.6082000732421875, 2.6082000732421875, 2.6082000732421875, 2.608099937438965, 2.608099937438965, 2.608099937438965, 2.6080000400543213, 2.6078999042510986, 2.6078999042510986, 2.6078999042510986, 2.607800006866455, 2.607800006866455, 2.6077001094818115, 2.6077001094818115, 2.607599973678589, 2.607599973678589, 2.607599973678589, 2.607599973678589, 2.607599973678589, 2.6075000762939453, 2.6075000762939453, 2.6075000762939453, 2.6075000762939453, 2.6075000762939453, 2.6075000762939453, 2.424799919128418, 2.4200000762939453, 2.307300090789795, 2.177500009536743, 2.2797999382019043, 2.200000047683716, 2.362799882888794, 1.166700005531311, 1.917099952697754, 2.3866000175476074, 2.1826000213623047, 2.008699893951416], \"logprob\": [30.0, 29.0, 28.0, 27.0, 26.0, 25.0, 24.0, 23.0, 22.0, 21.0, 20.0, 19.0, 18.0, 17.0, 16.0, 15.0, 14.0, 13.0, 12.0, 11.0, 10.0, 9.0, 8.0, 7.0, 6.0, 5.0, 4.0, 3.0, 2.0, 1.0, -3.7337000370025635, -4.0960001945495605, -4.493100166320801, -4.82289981842041, -4.866300106048584, -4.994699954986572, -5.03380012512207, -5.036499977111816, -5.084700107574463, -5.11929988861084, -5.256800174713135, -5.373799800872803, -5.377999782562256, -5.391600131988525, -5.500999927520752, -5.529200077056885, -5.5467000007629395, -5.553500175476074, -5.629499912261963, -5.6331000328063965, -5.646200180053711, -5.665800094604492, -5.691999912261963, -5.777599811553955, -5.815499782562256, -5.83050012588501, -5.838399887084961, -5.878200054168701, -5.893700122833252, -5.92579984664917, -3.778599977493286, -5.4141998291015625, -5.478400230407715, -5.336900234222412, -4.980100154876709, -5.703800201416016, -5.10860013961792, -5.4390997886657715, -5.1946001052856445, -5.480000019073486, -5.582799911499023, -5.345099925994873, -4.202899932861328, -4.587100028991699, -5.307600021362305, -5.338799953460693, -5.342599868774414, -5.371099948883057, -5.411900043487549, -5.5457000732421875, -5.6118998527526855, -5.716899871826172, -5.807199954986572, -5.9756999015808105, -6.01170015335083, -6.111800193786621, -6.16349983215332, -6.168799877166748, -6.1819000244140625, -6.193399906158447, -6.194300174713135, -6.212100028991699, -6.22189998626709, -6.246399879455566, -6.25629997253418, -6.297800064086914, -6.304800033569336, -6.339600086212158, -6.362100124359131, -6.364500045776367, -6.382699966430664, -6.441800117492676, -5.179999828338623, -4.736100196838379, -4.878200054168701, -5.845699787139893, -4.661399841308594, -4.294300079345703, -5.647600173950195, -5.360499858856201, -5.083799839019775, -4.3780999183654785, -5.122700214385986, -5.463799953460693, -5.645299911499023, -5.719799995422363, -5.739500045776367, -5.35230016708374, -5.973999977111816, -5.469900131225586, -5.861800193786621, -5.760300159454346, -4.978700160980225, -5.081200122833252, -5.084099769592285, -5.581900119781494, -5.877500057220459, -5.887800216674805, -5.920199871063232, -5.934999942779541, -5.961599826812744, -6.019400119781494, -6.023499965667725, -6.084799766540527, -6.11460018157959, -6.156599998474121, -6.1595001220703125, -6.171599864959717, -6.203499794006348, -6.207499980926514, -6.313700199127197, -6.31790018081665, -6.34089994430542, -6.367300033569336, -6.377900123596191, -6.382500171661377, -6.390399932861328, -6.43120002746582, -6.451700210571289, -6.456099987030029, -6.47160005569458, -6.472799777984619, -4.30649995803833, -5.156000137329102, -5.761199951171875, -4.132900238037109, -5.486100196838379, -4.730500221252441, -5.546500205993652, -4.27839994430542, -4.108099937438965, -4.273399829864502, -5.292300224304199, -5.73199987411499, -4.600299835205078, -5.267499923706055, -5.946599960327148, -5.861999988555908, -5.861100196838379, -5.39870023727417, -5.762800216674805, -5.4695000648498535, -5.6057000160217285, -5.797699928283691, -5.709700107574463, -5.898399829864502, -3.723400115966797, -3.981600046157837, -4.344699859619141, -4.5100998878479, -4.809899806976318, -4.851600170135498, -4.959199905395508, -5.129899978637695, -5.153900146484375, -5.290200233459473, -5.3354997634887695, -5.344200134277344, -5.360499858856201, -5.368800163269043, -5.408100128173828, -5.522299766540527, -5.532899856567383, -5.591400146484375, -5.676599979400635, -5.678299903869629, -5.7042999267578125, -5.722700119018555, -5.750199794769287, -5.8292999267578125, -5.843800067901611, -5.857800006866455, -5.873600006103516, -5.874899864196777, -6.0, -6.009399890899658, -5.595600128173828, -3.4467999935150146, -3.6426000595092773, -3.919800043106079, -3.9384000301361084, -3.9505999088287354, -4.319499969482422, -4.763000011444092, -4.831900119781494, -5.14109992980957, -5.142000198364258, -5.185800075531006, -5.414100170135498, -5.476900100708008, -5.478700160980225, -5.500500202178955, -5.51170015335083, -5.566199779510498, -5.5858001708984375, -5.880000114440918, -5.895500183105469, -5.948400020599365, -5.955100059509277, -5.957399845123291, -6.060299873352051, -6.106100082397461, -6.165800094604492, -6.203100204467773, -6.229300022125244, -6.235799789428711, -6.250800132751465, -5.561399936676025, -4.598299980163574, -4.716100215911865, -5.801199913024902, -5.741300106048584, -5.498700141906738, -5.291999816894531, -4.553500175476074, -5.743800163269043, -5.3744001388549805, -5.119800090789795, -5.495699882507324, -5.693900108337402, -4.0229997634887695, -4.235300064086914, -4.337800025939941, -4.559100151062012, -4.764100074768066, -4.944699764251709, -4.951200008392334, -5.189499855041504, -5.2210001945495605, -5.293900012969971, -5.428599834442139, -5.487100124359131, -5.55019998550415, -5.560500144958496, -5.665200233459473, -5.758699893951416, -5.894700050354004, -5.942200183868408, -5.964399814605713, -5.974400043487549, -6.005300045013428, -6.006700038909912, -6.036499977111816, -6.038700103759766, -6.038899898529053, -6.072999954223633, -6.085000038146973, -6.098199844360352, -6.109000205993652, -6.126100063323975, -4.280900001525879, -5.332699775695801, -4.798699855804443, -6.0015997886657715, -4.914000034332275, -5.664000034332275, -4.812600135803223, -5.5980000495910645, -5.06220006942749, -5.160699844360352, -5.851200103759766, -5.7153000831604, -5.792399883270264, -4.822500228881836, -4.8506999015808105, -4.973800182342529, -5.417799949645996, -5.4278998374938965, -5.495999813079834, -5.741600036621094, -5.772200107574463, -5.819799900054932, -5.845099925994873, -5.848499774932861, -5.874000072479248, -5.929999828338623, -5.985499858856201, -5.997399806976318, -6.078700065612793, -6.113699913024902, -6.15939998626709, -6.162399768829346, -6.173999786376953, -6.213799953460693, -6.2428998947143555, -6.243100166320801, -6.255300045013428, -6.259699821472168, -6.270299911499023, -6.280700206756592, -6.328199863433838, -6.33050012588501, -6.359899997711182, -5.3190999031066895, -4.196700096130371, -5.480999946594238, -5.342700004577637, -3.996999979019165, -5.362199783325195, -5.032700061798096, -5.8206000328063965, -5.93310022354126, -5.696199893951416, -5.278900146484375, -5.797599792480469, -6.033699989318848, -5.618299961090088, -5.873700141906738, -5.90500020980835, -4.603700160980225, -4.968900203704834, -5.041100025177002, -5.11959981918335, -5.129799842834473, -5.245200157165527, -5.286799907684326, -5.306399822235107, -5.353300094604492, -5.374300003051758, -5.569900035858154, -5.587200164794922, -5.5971999168396, -5.609300136566162, -5.628699779510498, -5.745800018310547, -5.7484002113342285, -5.762700080871582, -5.785900115966797, -5.844299793243408, -5.8506999015808105, -5.863999843597412, -5.875800132751465, -5.891900062561035, -5.898099899291992, -5.921800136566162, -5.934899806976318, -5.980999946594238, -5.987100124359131, -6.01609992980957, -5.566699981689453, -4.719900131225586, -5.858500003814697, -5.742400169372559, -4.6880998611450195, -5.008800029754639, -5.1605000495910645, -5.215000152587891, -5.740799903869629, -5.8094000816345215, -5.847700119018555, -5.881499767303467, -5.904600143432617, -5.956699848175049, -5.99370002746582, -5.994699954986572, -6.0106000900268555, -6.066999912261963, -6.09060001373291, -6.092299938201904, -6.118199825286865, -6.1894001960754395, -6.216300010681152, -6.223299980163574, -6.229499816894531, -6.2677001953125, -6.309899806976318, -6.317500114440918, -6.3282999992370605, -6.342700004577637, -6.3520002365112305, -6.354899883270264, -6.365900039672852, -6.38070011138916, -5.001299858093262, -5.946700096130371, -5.9415998458862305, -5.953700065612793, -5.522900104522705, -5.21560001373291, -5.610599994659424, -5.711999893188477, -5.591599941253662, -5.6859002113342285, -5.803500175476074, -5.865300178527832, -6.0467000007629395, -5.916600227355957, -6.0843000411987305, -6.084700107574463, -4.744800090789795, -4.780399799346924, -4.807799816131592, -4.912899971008301, -5.276400089263916, -5.357900142669678, -5.370100021362305, -5.372399806976318, -5.440999984741211, -5.539899826049805, -5.5569000244140625, -5.617400169372559, -5.738999843597412, -5.855899810791016, -5.8572998046875, -5.901500225067139, -5.92140007019043, -6.01609992980957, -6.0640997886657715, -6.079400062561035, -6.082600116729736, -6.114799976348877, -6.155700206756592, -6.159299850463867, -6.185299873352051, -6.185500144958496, -6.19980001449585, -6.211100101470947, -6.212800025939941, -6.219900131225586, -4.660099983215332, -5.027500152587891, -4.935699939727783, -4.934700012207031, -5.373199939727783, -5.603799819946289, -5.885200023651123, -4.634200096130371, -5.534200191497803, -5.929699897766113, -5.860300064086914, -5.967299938201904]}, \"token.table\": {\"Topic\": [5, 5, 5, 5, 5, 7, 7, 10, 10, 4, 5, 8, 4, 4, 8, 6, 10, 3, 3, 4, 9, 4, 4, 4, 4, 4, 4, 4, 2, 4, 4, 4, 4, 4, 5, 6, 4, 1, 5, 4, 7, 6, 8, 7, 8, 8, 6, 10, 8, 10, 10, 7, 8, 4, 4, 4, 6, 4, 10, 8, 4, 10, 2, 4, 4, 4, 4, 4, 9, 8, 6, 3, 6, 1, 7, 10, 2, 10, 8, 1, 7, 10, 10, 7, 10, 2, 6, 10, 2, 10, 2, 5, 1, 10, 1, 3, 5, 7, 8, 9, 1, 3, 5, 7, 9, 1, 5, 1, 1, 6, 10, 3, 10, 3, 9, 2, 3, 5, 6, 7, 6, 2, 4, 2, 1, 7, 1, 1, 1, 8, 9, 7, 9, 2, 3, 9, 1, 5, 5, 5, 3, 6, 10, 3, 7, 9, 9, 1, 2, 5, 6, 7, 9, 1, 3, 5, 6, 8, 1, 3, 5, 7, 9, 3, 2, 7, 1, 3, 5, 6, 7, 7, 5, 6, 7, 9, 7, 7, 10, 5, 6, 8, 5, 1, 3, 9, 1, 1, 6, 1, 2, 5, 1, 9, 2, 5, 6, 10, 9, 3, 5, 2, 3, 10, 3, 2, 5, 6, 8, 9, 10, 10, 6, 2, 10, 6, 8, 5, 7, 9, 1, 6, 9, 3, 8, 1, 4, 7, 1, 6, 1, 9, 8, 5, 3, 2, 1, 2, 5, 9, 8, 1, 5, 8, 8, 8, 5, 9, 9, 3, 6, 1, 8, 6, 2, 3, 6, 7, 5, 5, 1, 1, 2, 3, 8, 9, 1, 8, 5, 6, 7, 6, 9, 1, 2, 9, 4, 3, 6, 8, 1, 5, 2, 3, 3, 10, 1, 10, 9, 7, 6, 7, 1, 3, 7, 2, 3, 1, 7, 2, 1, 3, 7, 6, 2, 1, 3, 5, 6, 7, 6, 7, 2, 3, 2, 5, 6, 9, 10, 1, 2, 1, 2, 10, 2, 2, 2, 9, 2, 1, 5, 9, 7, 1, 6, 8, 9, 7, 3, 6, 6, 2, 5, 7, 9, 5, 8, 2, 2, 2, 6, 9, 10, 9, 3, 2, 3, 5, 9, 6, 2, 9, 1, 2, 3, 6, 7, 8, 9, 3, 2, 2, 3, 1, 2, 5, 7, 6, 5, 10, 2, 3, 9, 3, 8, 9, 2, 6, 7, 9, 10, 1, 5, 6, 9, 1, 6, 2, 7, 5, 7, 9, 3, 9, 3, 6, 3, 9, 2, 6, 2, 3, 10, 2, 10, 9, 2, 3, 2, 3, 5, 7, 8, 9, 5, 7, 10, 1, 2, 5, 7, 2, 3, 5, 7, 9, 8, 5, 10, 6, 7, 10, 3, 8, 2, 2, 3, 6, 4, 8, 8, 2, 9, 10, 9, 1, 2, 3, 5, 1, 3, 5, 8, 7, 2, 3, 10, 10, 3, 3, 10, 2, 3, 6, 7, 5, 8, 1, 3, 5, 9, 6, 7, 7, 2, 6, 9, 3, 10, 9, 3, 2, 3, 7, 9, 1, 3, 1, 2, 6, 10, 3, 1, 3, 10, 6, 10, 3, 1, 10, 7, 9, 3, 9, 6, 9, 10, 9, 2, 3, 2, 5, 5, 1, 5, 5, 9, 1, 2, 7, 2, 7, 9, 2, 10, 7, 5, 5, 7, 1, 7, 8, 2, 1, 6, 7, 7, 3, 8, 2, 6, 8, 2, 5, 6, 2, 9, 5, 8, 1, 3, 1, 3, 7, 3, 1, 1, 5], \"Freq\": [0.9995775818824768, 0.999741792678833, 0.9999200701713562, 0.9998719692230225, 0.9387441277503967, 0.06083172559738159, 0.998841404914856, 0.9994196891784668, 0.9993676543235779, 0.9991416931152344, 0.999687671661377, 0.9993272423744202, 0.9991489052772522, 0.9996659755706787, 0.9990758299827576, 0.9995866417884827, 0.9992287158966064, 0.9991143941879272, 0.9990530610084534, 0.9997225403785706, 0.9984492659568787, 0.9993709325790405, 0.9998070597648621, 0.9999458193778992, 0.9996711611747742, 0.9999598860740662, 0.999521791934967, 0.9997265338897705, 0.999452531337738, 0.9994556903839111, 0.999848484992981, 0.9996384978294373, 0.9990604519844055, 0.9997867941856384, 0.050503648817539215, 0.9490163326263428, 0.9997661113739014, 0.23082095384597778, 0.7688009142875671, 0.9998385310173035, 0.9991089105606079, 0.9997307062149048, 0.9996779561042786, 0.9993534088134766, 0.9995313286781311, 0.9992485642433167, 0.9993813633918762, 0.998318076133728, 0.9991878867149353, 0.9993504285812378, 0.9985163807868958, 0.9992310404777527, 0.9994892477989197, 0.9998631477355957, 0.9994198083877563, 0.9993717074394226, 0.9994397759437561, 0.8082438111305237, 0.19127905368804932, 0.999846875667572, 0.45102307200431824, 0.5490002036094666, 0.9996641278266907, 0.9997225999832153, 0.9994120597839355, 0.9991555213928223, 0.9993029832839966, 0.9997062087059021, 0.999343752861023, 0.9992929100990295, 0.9988500475883484, 0.998793363571167, 0.9992942810058594, 0.9995676875114441, 0.9997210502624512, 0.9991185069084167, 0.3500592112541199, 0.6498132348060608, 0.9992733597755432, 0.2752901017665863, 0.7243475914001465, 0.9998202919960022, 0.9990404844284058, 0.9996609687805176, 0.9987772107124329, 0.20504912734031677, 0.12994123995304108, 0.6644513010978699, 0.16773177683353424, 0.8319226503372192, 0.19181659817695618, 0.8079805970191956, 0.9996322989463806, 0.9994415044784546, 0.396657794713974, 0.21370473504066467, 0.15911076962947845, 0.0709429681301117, 0.04038591310381889, 0.11911411583423615, 0.2136661559343338, 0.12547993659973145, 0.20769092440605164, 0.28598710894584656, 0.16710053384304047, 0.9997328519821167, 0.9995927214622498, 0.9997060298919678, 0.9994726777076721, 0.9999303817749023, 0.9982859492301941, 0.2801680266857147, 0.7196395397186279, 0.7895612120628357, 0.21028976142406464, 0.4758903682231903, 0.1843586266040802, 0.11682131141424179, 0.08891978859901428, 0.13377083837985992, 0.9996979236602783, 0.9990640878677368, 0.9996679425239563, 0.9992370009422302, 0.9998830556869507, 0.9995391964912415, 0.9999375343322754, 0.9993692636489868, 0.999457061290741, 0.9991207122802734, 0.9992020130157471, 0.9994240403175354, 0.9986748099327087, 0.5333142280578613, 0.3382050096988678, 0.12826842069625854, 0.16490747034549713, 0.835020124912262, 0.9999539852142334, 0.9999434351921082, 0.9992424845695496, 0.9998044967651367, 0.9998149871826172, 0.9986206889152527, 0.998582124710083, 0.9988267421722412, 0.9990687966346741, 0.05476975813508034, 0.24622368812561035, 0.1837669461965561, 0.4026057720184326, 0.11242213100194931, 0.999572217464447, 0.531910240650177, 0.16488978266716003, 0.21362626552581787, 0.08945000916719437, 0.9997915029525757, 0.15394625067710876, 0.2635440528392792, 0.13910488784313202, 0.3689265251159668, 0.07442638278007507, 0.999220609664917, 0.8586551547050476, 0.14118050038814545, 0.1557832658290863, 0.10836029052734375, 0.2874864935874939, 0.07052018493413925, 0.3774181604385376, 0.9998411536216736, 0.9987923502922058, 0.20979705452919006, 0.7898241877555847, 0.9984174370765686, 0.9995551705360413, 0.9985030889511108, 0.9988182783126831, 0.9995694160461426, 0.9998146295547485, 0.9996934533119202, 0.9991844892501831, 0.612278163433075, 0.24878796935081482, 0.1386818140745163, 0.9997121691703796, 0.7651972770690918, 0.23442961275577545, 0.7138540744781494, 0.20082737505435944, 0.08520627021789551, 0.9995473027229309, 0.9994358420372009, 0.7279225587844849, 0.2713530957698822, 0.9993493556976318, 0.9996142983436584, 0.9994735717773438, 0.9997668862342834, 0.9996567964553833, 0.1389603614807129, 0.35987168550491333, 0.5007755756378174, 0.9987138509750366, 0.3298604190349579, 0.029533257707953453, 0.3497302234172821, 0.03561363369226456, 0.1805654615163803, 0.07470177114009857, 0.9984679222106934, 0.9988303184509277, 0.999721109867096, 0.999574601650238, 0.3583197295665741, 0.6413332223892212, 0.23227138817310333, 0.24588274955749512, 0.5216226577758789, 0.9999515414237976, 0.6452244520187378, 0.3542744219303131, 0.9992797374725342, 0.9995092153549194, 0.9998231530189514, 0.9996411204338074, 0.999342679977417, 0.9995806813240051, 0.9992295503616333, 0.9998095035552979, 0.998440146446228, 0.9992759227752686, 0.9987434148788452, 0.9993246793746948, 0.9994294047355652, 0.3138321340084076, 0.26139435172080994, 0.4237925410270691, 0.0009534140699543059, 0.9994232058525085, 0.9996935725212097, 0.9997808337211609, 0.9997233152389526, 0.9992939829826355, 0.9997603893280029, 0.9995694160461426, 0.9989731907844543, 0.9989532232284546, 0.9996415376663208, 0.9992520809173584, 0.2722747027873993, 0.7271777391433716, 0.9998668432235718, 0.45696818828582764, 0.5428666472434998, 0.9993780255317688, 0.9988849759101868, 0.9997891187667847, 0.9994195103645325, 0.9996902346611023, 0.2257540225982666, 0.11390449851751328, 0.4520951807498932, 0.07691489160060883, 0.13137181103229523, 0.9996679425239563, 0.998960554599762, 0.1819443702697754, 0.6304898858070374, 0.18750795722007751, 0.7619636058807373, 0.2377648949623108, 0.21741458773612976, 0.2751653492450714, 0.5070176124572754, 0.9996328949928284, 0.5698323845863342, 0.15232203900814056, 0.27751824259757996, 0.3197052776813507, 0.6798745393753052, 0.27358168363571167, 0.7260197401046753, 0.9993921518325806, 0.9989691972732544, 0.9061471223831177, 0.09357356280088425, 0.9986961483955383, 0.9994471669197083, 0.7934720516204834, 0.20649784803390503, 0.8338500261306763, 0.16610760986804962, 0.9992819428443909, 0.9992797374725342, 0.9991937875747681, 0.3823298513889313, 0.6171333193778992, 0.9991157650947571, 0.14345261454582214, 0.17550384998321533, 0.6808553338050842, 0.9989122748374939, 0.9994014501571655, 0.23149363696575165, 0.16437140107154846, 0.3395135998725891, 0.19434227049350739, 0.07008809596300125, 0.9989792704582214, 0.9995123147964478, 0.13161572813987732, 0.8682019710540771, 0.12299036234617233, 0.2689798176288605, 0.4091647267341614, 0.19877782464027405, 0.9996638894081116, 0.4337664842605591, 0.5661567449569702, 0.9997104406356812, 0.9996178150177002, 0.9995840191841125, 0.9990097880363464, 0.9991793036460876, 0.9988996386528015, 0.9988248944282532, 0.9991211295127869, 0.9995242953300476, 0.9990783929824829, 0.9990568161010742, 0.9991165995597839, 0.2531234920024872, 0.10498678684234619, 0.27622735500335693, 0.3652452826499939, 0.9983700513839722, 0.9991990923881531, 0.9994099140167236, 0.9995118975639343, 0.1944005936384201, 0.18403874337673187, 0.46133410930633545, 0.16006730496883392, 0.9992920756340027, 0.9995315670967102, 0.9997708201408386, 0.9998335242271423, 0.3519665598869324, 0.6479426026344299, 0.9994176030158997, 0.9992883801460266, 0.9987792372703552, 0.9992226362228394, 0.5524865388870239, 0.22939766943454742, 0.09314437955617905, 0.12495200335979462, 0.9991366863250732, 0.7438443899154663, 0.25595352053642273, 0.13030722737312317, 0.226523756980896, 0.12077529728412628, 0.3273380398750305, 0.0005607024068012834, 0.04990251362323761, 0.14454907178878784, 0.9991305470466614, 0.9990317225456238, 0.9997038841247559, 0.9990664720535278, 0.7788245677947998, 0.2211129367351532, 0.9994325041770935, 0.9993084073066711, 0.9991006255149841, 0.9990777969360352, 0.9991873502731323, 0.151635080575943, 0.6534830331802368, 0.19452518224716187, 0.6869902610778809, 0.04889754205942154, 0.2638850808143616, 0.7837082147598267, 0.21619537472724915, 0.9987204670906067, 0.9984290599822998, 0.9986959099769592, 0.1469966322183609, 0.5948427319526672, 0.258066862821579, 0.9992812871932983, 0.9996832609176636, 0.9988821744918823, 0.999936044216156, 0.9992040395736694, 0.9994603991508484, 0.9994171857833862, 0.9988334774971008, 0.8426057696342468, 0.15730175375938416, 0.9997377991676331, 0.9993159770965576, 0.9990864992141724, 0.9983698725700378, 0.999247670173645, 0.9998281002044678, 0.208933487534523, 0.7906886339187622, 0.9991295337677002, 0.9995183944702148, 0.9986370205879211, 0.999466598033905, 0.9993693232536316, 0.999557375907898, 0.24901148676872253, 0.3038454055786133, 0.17270201444625854, 0.07216289639472961, 0.12588278949260712, 0.07637136429548264, 0.1796739101409912, 0.5866065621376038, 0.23327524960041046, 0.15619422495365143, 0.5713274478912354, 0.15397870540618896, 0.1182534322142601, 0.08287208527326584, 0.5692998766899109, 0.11831151694059372, 0.1389485001564026, 0.09043537825345993, 0.9995760321617126, 0.9998040199279785, 0.9997785687446594, 0.9991577863693237, 0.19846904277801514, 0.800799548625946, 0.9991072416305542, 0.9994803071022034, 0.9998013377189636, 0.9993870854377747, 0.9993196725845337, 0.9995365142822266, 0.9996062517166138, 0.9991376996040344, 0.9994986653327942, 0.9990836381912231, 0.17166930437088013, 0.8280140161514282, 0.9983598589897156, 0.536289393901825, 0.07336685806512833, 0.21012012660503387, 0.1800726354122162, 0.9996335506439209, 0.6664957404136658, 0.11950688064098358, 0.2135450839996338, 0.9985536336898804, 0.1679496467113495, 0.5955652594566345, 0.23647260665893555, 0.9996374845504761, 0.9991461634635925, 0.9993047118186951, 0.9993954300880432, 0.4825010895729065, 0.3279404640197754, 0.13064196705818176, 0.05888601392507553, 0.9999692440032959, 0.9995735287666321, 0.9995722770690918, 0.5064818263053894, 0.24505192041397095, 0.24814210832118988, 0.9991843104362488, 0.9991283416748047, 0.9993744492530823, 0.9995629191398621, 0.9993481040000916, 0.9988232254981995, 0.7650970816612244, 0.2346232533454895, 0.9998027682304382, 0.9990760684013367, 0.4324677586555481, 0.4092406928539276, 0.08208535611629486, 0.07620446383953094, 0.999861478805542, 0.9985520839691162, 0.22582155466079712, 0.061076290905475616, 0.7092082500457764, 0.0036163595505058765, 0.9991516470909119, 0.9997780919075012, 0.2601129114627838, 0.7398358583450317, 0.21768251061439514, 0.7816454768180847, 0.9990869760513306, 0.9997967481613159, 0.9991577863693237, 0.9986341595649719, 0.9995110630989075, 0.5052721500396729, 0.49437904357910156, 0.1603538542985916, 0.18610411882400513, 0.6531201004981995, 0.9997020959854126, 0.6242649555206299, 0.3754291832447052, 0.1049485132098198, 0.8948535323143005, 0.9996946454048157, 0.9996716976165771, 0.9987143874168396, 0.9993155002593994, 0.9989047646522522, 0.9997696876525879, 0.8674001693725586, 0.1324293315410614, 0.4441452622413635, 0.05574292689561844, 0.49988818168640137, 0.9996727108955383, 0.9993726015090942, 0.9996666312217712, 0.9992038607597351, 0.28930461406707764, 0.7097918391227722, 0.31252557039260864, 0.6868470907211304, 0.9997767210006714, 0.9997257590293884, 0.1905887871980667, 0.30381059646606445, 0.5055672526359558, 0.999190628528595, 0.9992214441299438, 0.9995091557502747, 0.9991163015365601, 0.9994748830795288, 0.9996460676193237, 0.6498064398765564, 0.1849551498889923, 0.16498158872127533, 0.9996253848075867, 0.9990761876106262, 0.9991990327835083, 0.9988783001899719, 0.6686497330665588, 0.33133912086486816, 0.8383368849754333, 0.16143925487995148, 0.9992952346801758, 0.9994971752166748, 0.9999139904975891, 0.9994863271713257, 0.9989992380142212], \"Term\": [\"100\", \"2015\", \"2016\", \"2017\", \"2018\", \"2018\", \"500\", \"a321\", \"airbus\", \"al\", \"apple\", \"au\", \"auch\", \"auf\", \"bei\", \"bmw\", \"brexit\", \"chevrolet\", \"cnn\", \"da\", \"de\", \"dem\", \"den\", \"der\", \"deutschland\", \"die\", \"ein\", \"eine\", \"ford\", \"frau\", \"f\\u00fcr\", \"gegen\", \"haben\", \"hat\", \"hyundai\", \"hyundai\", \"ich\", \"iphone\", \"iphone\", \"ist\", \"kia\", \"lada\", \"merkel\", \"mit\", \"nach\", \"nicht\", \"nissan\", \"noch\", \"renault\", \"russia\", \"russian\", \"samsung\", \"sich\", \"sie\", \"sind\", \"skoda\", \"toyota\", \"trump\", \"trump\", \"und\", \"via\", \"via\", \"volkswagen\", \"von\", \"vor\", \"wie\", \"wir\", \"wird\", \"\\u0430\\u0432\\u0430\\u0440\\u0438\\u0438\", \"\\u0430\\u0432\\u0442\\u043e\", \"\\u0430\\u0432\\u0442\\u043e\\u0432\\u0430\\u0437\", \"\\u0430\\u0432\\u0442\\u043e\\u043b\\u0435\\u0434\\u0438\", \"\\u0430\\u0432\\u0442\\u043e\\u043c\\u043e\\u0431\\u0438\\u043b\\u044c\", \"\\u0430\\u0432\\u0442\\u043e\\u0440\", \"\\u0430\\u043a\\u0446\\u0438\\u044f\", \"\\u0430\\u043b\\u0435\\u043a\\u0441\\u0430\\u043d\\u0434\\u0440\\u0430\", \"\\u0430\\u043b\\u0435\\u043f\\u043f\\u043e\", \"\\u0430\\u043b\\u0435\\u043f\\u043f\\u043e\", \"\\u0430\\u043d\\u0436\\u0438\", \"\\u0430\\u043f\\u0440\\u0435\\u043b\\u044f\", \"\\u0430\\u043f\\u0440\\u0435\\u043b\\u044f\", \"\\u0430\\u0440\\u043c\\u0438\\u044f\", \"\\u0430\\u044d\\u0440\\u043e\\u0444\\u043b\\u043e\\u0442\", \"\\u0431\\u0435\\u043b\\u044b\\u0439\", \"\\u0431\\u043e\\u0435\\u0432\\u0438\\u043a\\u0430\\u043c\\u0438\", \"\\u0431\\u043e\\u0435\\u0432\\u0438\\u043a\\u0438\", \"\\u0431\\u043e\\u0435\\u0432\\u0438\\u043a\\u0438\", \"\\u0431\\u043e\\u0435\\u0432\\u0438\\u043a\\u0438\", \"\\u0431\\u043e\\u0435\\u0432\\u0438\\u043a\\u043e\\u0432\", \"\\u0431\\u043e\\u0435\\u0432\\u0438\\u043a\\u043e\\u0432\", \"\\u0431\\u043e\\u043b\\u0435\\u0435\", \"\\u0431\\u043e\\u043b\\u0435\\u0435\", \"\\u0431\\u043e\\u043b\\u044c\\u0448\\u0435\", \"\\u0431\\u043e\\u0440\\u044c\\u0431\\u0443\", \"\\u0431\\u0443\\u0434\\u0435\\u0442\", \"\\u0431\\u0443\\u0434\\u0435\\u0442\", \"\\u0431\\u0443\\u0434\\u0435\\u0442\", \"\\u0431\\u0443\\u0434\\u0435\\u0442\", \"\\u0431\\u0443\\u0434\\u0435\\u0442\", \"\\u0431\\u0443\\u0434\\u0435\\u0442\", \"\\u0431\\u0443\\u0434\\u0443\\u0442\", \"\\u0431\\u0443\\u0434\\u0443\\u0442\", \"\\u0431\\u0443\\u0434\\u0443\\u0442\", \"\\u0431\\u0443\\u0434\\u0443\\u0442\", \"\\u0431\\u0443\\u0434\\u0443\\u0442\", \"\\u0431\\u044b\\u043b\\u043e\", \"\\u0432\\u0430\\u0437\", \"\\u0432\\u0430\\u043c\", \"\\u0432\\u0430\\u0441\", \"\\u0432\\u0438\\u0434\\u0435\\u043e\", \"\\u0432\\u043a\\u043b\\u0430\\u0434\", \"\\u0432\\u043a\\u0441\", \"\\u0432\\u043a\\u0441\", \"\\u0432\\u043b\\u0430\\u0434\\u0438\\u043c\\u0438\\u0440\", \"\\u0432\\u043b\\u0430\\u0434\\u0438\\u043c\\u0438\\u0440\", \"\\u0432\\u043b\\u0430\\u0441\\u0442\\u0438\", \"\\u0432\\u043b\\u0430\\u0441\\u0442\\u0438\", \"\\u0432\\u043b\\u0430\\u0441\\u0442\\u0438\", \"\\u0432\\u043b\\u0430\\u0441\\u0442\\u0438\", \"\\u0432\\u043b\\u0430\\u0441\\u0442\\u0438\", \"\\u0432\\u043e\\u0434\\u0438\\u0442\\u0435\\u043b\\u044c\", \"\\u0432\\u043e\\u0439\\u043d\\u0430\", \"\\u0432\\u043e\\u0440\\u043e\\u043d\\u0435\\u0436\\u0435\", \"\\u0432\\u043e\\u0441\\u0442\\u043e\\u043a\\u0435\", \"\\u0432\\u043e\\u0442\", \"\\u0432\\u0440\\u0435\\u0437\\u0430\\u043b\\u0441\\u044f\", \"\\u0432\\u0441\\u0435\", \"\\u0432\\u0441\\u0435\\u043c\", \"\\u0432\\u0441\\u0451\", \"\\u0432\\u044b\\u0431\\u043e\\u0440\\u0430\\u0445\", \"\\u0433\\u0430\\u0437\", \"\\u0433\\u0430\\u0437\\u0430\", \"\\u0433\\u0438\\u0431\\u0434\\u0434\", \"\\u0433\\u043b\\u0430\\u0432\\u0430\", \"\\u0433\\u043b\\u0430\\u0432\\u0430\", \"\\u0433\\u043b\\u0430\\u0432\\u0430\", \"\\u0433\\u043e\\u0434\", \"\\u0433\\u043e\\u0434\", \"\\u0433\\u043e\\u0434\\u0430\", \"\\u0433\\u043e\\u0434\\u0443\", \"\\u0433\\u043e\\u043b\\u043e\\u0441\", \"\\u0433\\u043e\\u0440\\u043e\\u0434\\u0430\", \"\\u0433\\u043e\\u0440\\u043e\\u0434\\u0435\", \"\\u0433\\u043e\\u0442\\u043e\\u0432\\u0430\", \"\\u0433\\u043e\\u0442\\u043e\\u0432\\u0438\\u0442\\u0441\\u044f\", \"\\u0433\\u0440\\u0430\\u0436\\u0434\\u0430\\u043d\", \"\\u0433\\u0443\\u0431\\u0435\\u0440\\u043d\\u0430\\u0442\\u043e\\u0440\", \"\\u0434\\u0432\\u0430\", \"\\u0434\\u0432\\u0430\", \"\\u0434\\u0432\\u0430\", \"\\u0434\\u0432\\u0430\", \"\\u0434\\u0432\\u0430\", \"\\u0434\\u0435\\u043b\\u043e\", \"\\u0434\\u0435\\u043d\\u044c\", \"\\u0434\\u0435\\u043d\\u044c\", \"\\u0434\\u0435\\u043d\\u044c\", \"\\u0434\\u0435\\u043d\\u044c\", \"\\u0434\\u0438\\u043d\\u0430\\u043c\\u043e\", \"\\u0434\\u043b\\u044f\", \"\\u0434\\u043b\\u044f\", \"\\u0434\\u043b\\u044f\", \"\\u0434\\u043b\\u044f\", \"\\u0434\\u043b\\u044f\", \"\\u0434\\u043d\\u0435\\u043c\", \"\\u0434\\u043d\\u0440\", \"\\u0434\\u043d\\u0440\", \"\\u0434\\u043d\\u044f\", \"\\u0434\\u043d\\u044f\", \"\\u0434\\u043d\\u044f\", \"\\u0434\\u043d\\u044f\", \"\\u0434\\u043d\\u044f\", \"\\u0434\\u043e\\u0431\\u0440\\u043e\\u0435\", \"\\u0434\\u043e\\u043b\\u043b\\u0430\\u0440\\u043e\\u0432\", \"\\u0434\\u043e\\u043c\", \"\\u0434\\u043e\\u043c\", \"\\u0434\\u043e\\u043d\\u0430\\u043b\\u044c\\u0434\", \"\\u0434\\u043e\\u043d\\u0431\\u0430\\u0441\\u0441\\u0435\", \"\\u0434\\u043e\\u0440\\u043e\\u0433\\u0438\", \"\\u0434\\u0440\\u0443\\u0433\", \"\\u0434\\u0440\\u0443\\u0437\\u044c\\u044f\", \"\\u0434\\u0442\\u043f\", \"\\u0435\\u0432\\u0440\\u043e\", \"\\u0435\\u0432\\u0440\\u043e\\u043f\\u044b\", \"\\u0435\\u0433\\u043e\", \"\\u0435\\u0433\\u043e\", \"\\u0435\\u0433\\u043e\", \"\\u0435\\u0441\\u043b\\u0438\", \"\\u0435\\u0441\\u0442\\u044c\", \"\\u0435\\u0441\\u0442\\u044c\", \"\\u0435\\u0449\\u0435\", \"\\u0435\\u0449\\u0435\", \"\\u0435\\u0449\\u0435\", \"\\u0435\\u0449\\u0451\", \"\\u0436\\u0435\\u043d\\u0449\\u0438\\u043d\\u0443\", \"\\u0436\\u0438\\u0442\\u0435\\u043b\\u0435\\u0439\", \"\\u0436\\u0438\\u0442\\u0435\\u043b\\u0435\\u0439\", \"\\u0436\\u0438\\u0442\\u0435\\u043b\\u044c\", \"\\u0437\\u0430\\u0434\\u0435\\u0440\\u0436\\u0430\\u043d\", \"\\u0437\\u0430\\u043a\\u043e\\u043d\", \"\\u0437\\u0430\\u044f\\u0432\\u0438\\u043b\", \"\\u0437\\u0435\\u043d\\u0438\\u0442\", \"\\u0438\\u0433\\u0438\\u043b\", \"\\u0438\\u0433\\u0438\\u043b\", \"\\u0438\\u0433\\u0438\\u043b\", \"\\u0438\\u0434\\u0435\\u0442\", \"\\u0438\\u0437\\u0437\\u0430\", \"\\u0438\\u0437\\u0437\\u0430\", \"\\u0438\\u0437\\u0437\\u0430\", \"\\u0438\\u0437\\u0437\\u0430\", \"\\u0438\\u0437\\u0437\\u0430\", \"\\u0438\\u0437\\u0437\\u0430\", \"\\u0438\\u0440\\u0430\\u043a\\u0435\", \"\\u0438\\u0442\\u043e\\u0433\\u0438\", \"\\u0438\\u044e\\u043b\\u044f\", \"\\u0438\\u044e\\u043d\\u044f\", \"\\u043a\\u0430\\u0437\\u0430\\u043d\\u0438\", \"\\u043a\\u0430\\u0437\\u0430\\u043d\\u0438\", \"\\u043a\\u0430\\u0437\\u0430\\u043d\\u044c\", \"\\u043a\\u0430\\u0437\\u0430\\u043d\\u044c\", \"\\u043a\\u0430\\u0437\\u0430\\u043d\\u044c\", \"\\u043a\\u0430\\u043a\", \"\\u043a\\u0430\\u0444\\u0435\", \"\\u043a\\u0430\\u0444\\u0435\", \"\\u043a\\u0435\\u0440\\u0440\\u0438\", \"\\u043a\\u0438\\u0442\\u0430\\u0439\", \"\\u043a\\u043e\\u0433\\u0434\\u0430\", \"\\u043a\\u043e\\u043d\\u043a\\u0443\\u0440\\u0441\", \"\\u043a\\u043e\\u043d\\u043a\\u0443\\u0440\\u0441\\u0430\", \"\\u043a\\u043e\\u0442\\u043e\\u0440\\u044b\\u0435\", \"\\u043a\\u0440\\u0430\\u0435\", \"\\u043a\\u0442\\u043e\", \"\\u043a\\u0443\\u0431\\u0430\\u043d\\u0438\", \"\\u043a\\u0443\\u0431\\u0430\\u043d\\u044c\", \"\\u043a\\u0443\\u0431\\u043a\\u0430\", \"\\u043b\\u0430\\u0432\\u0440\\u043e\\u0432\", \"\\u043b\\u0430\\u0434\\u0430\", \"\\u043b\\u0435\\u0442\", \"\\u043b\\u0435\\u0442\", \"\\u043b\\u0435\\u0442\", \"\\u043b\\u0435\\u0442\", \"\\u043b\\u043e\\u043a\\u043e\\u043c\\u043e\\u0442\\u0438\\u0432\", \"\\u043b\\u044e\\u0434\\u0438\", \"\\u043c\\u0430\\u0440\\u0442\\u0430\", \"\\u043c\\u0430\\u0442\\u0447\", \"\\u043c\\u0430\\u0442\\u0447\\u0430\", \"\\u043c\\u0430\\u0442\\u0447\\u0435\", \"\\u043c\\u0430\\u044f\", \"\\u043c\\u0432\\u0444\", \"\\u043c\\u0435\\u043d\\u044c\\u0448\\u0435\", \"\\u043c\\u0435\\u043d\\u044f\", \"\\u043c\\u0435\\u0441\\u0442\\u0430\", \"\\u043c\\u0435\\u0441\\u0442\\u043e\", \"\\u043c\\u0435\\u0441\\u0442\\u043e\", \"\\u043c\\u0435\\u0442\\u0440\\u043e\", \"\\u043c\\u0438\\u0434\", \"\\u043c\\u0438\\u0434\", \"\\u043c\\u0438\\u043b\\u043b\\u0438\\u043e\\u043d\\u043e\\u0432\", \"\\u043c\\u0438\\u043d\\u0438\\u0441\\u0442\\u0440\", \"\\u043c\\u043b\\u043d\", \"\\u043c\\u043b\\u0440\\u0434\", \"\\u043c\\u043d\\u0435\", \"\\u043c\\u043e\\u0436\\u0435\\u0442\", \"\\u043c\\u043e\\u0436\\u0435\\u0442\", \"\\u043c\\u043e\\u0436\\u0435\\u0442\", \"\\u043c\\u043e\\u0436\\u0435\\u0442\", \"\\u043c\\u043e\\u0436\\u0435\\u0442\", \"\\u043c\\u043e\\u0436\\u043d\\u043e\", \"\\u043c\\u043e\\u0440\\u0435\", \"\\u043c\\u043e\\u0441\\u043a\\u0432\\u0435\", \"\\u043c\\u043e\\u0441\\u043a\\u0432\\u0435\", \"\\u043c\\u043e\\u0441\\u043a\\u0432\\u0435\", \"\\u043c\\u043e\\u0441\\u043a\\u0432\\u044b\", \"\\u043c\\u043e\\u0441\\u043a\\u0432\\u044b\", \"\\u043c\\u0443\\u0436\\u0447\\u0438\\u043d\\u0430\", \"\\u043c\\u0443\\u0436\\u0447\\u0438\\u043d\\u0430\", \"\\u043c\\u0443\\u0436\\u0447\\u0438\\u043d\\u0430\", \"\\u043d\\u0430\\u0431\\u0435\\u0440\\u0435\\u0436\\u043d\\u043e\\u0439\", \"\\u043d\\u0430\\u0434\", \"\\u043d\\u0430\\u0434\", \"\\u043d\\u0430\\u0434\", \"\\u043d\\u0430\\u0437\\u0430\\u0434\", \"\\u043d\\u0430\\u0437\\u0430\\u0434\", \"\\u043d\\u0430\\u0437\\u0432\\u0430\\u043b\", \"\\u043d\\u0430\\u0437\\u0432\\u0430\\u043b\", \"\\u043d\\u0430\\u0437\\u0432\\u0430\\u043b\\u0438\", \"\\u043d\\u0430\\u043d\\u0435\\u0441\\u043b\\u0438\", \"\\u043d\\u0430\\u0441\", \"\\u043d\\u0430\\u0441\", \"\\u043d\\u0430\\u0441\\u043c\\u0435\\u0440\\u0442\\u044c\", \"\\u043d\\u0430\\u0447\\u0430\\u043b\", \"\\u043d\\u0430\\u0448\\u043b\\u0438\", \"\\u043d\\u0430\\u0448\\u043b\\u0438\", \"\\u043d\\u0435\\u0442\", \"\\u043d\\u0435\\u0442\", \"\\u043d\\u0435\\u0444\\u0442\\u0438\", \"\\u043d\\u0438\\u0436\\u043d\\u0435\\u043c\", \"\\u043d\\u0438\\u043a\\u043e\\u0433\\u0434\\u0430\", \"\\u043d\\u043e\\u0432\\u0430\\u044f\", \"\\u043d\\u043e\\u0432\\u0430\\u044f\", \"\\u043d\\u043e\\u0432\\u0433\\u043e\\u0440\\u043e\\u0434\\u0435\", \"\\u043d\\u043e\\u0432\\u043e\\u0433\\u043e\", \"\\u043d\\u043e\\u0432\\u043e\\u0433\\u043e\", \"\\u043d\\u043e\\u0432\\u043e\\u0433\\u043e\", \"\\u043d\\u043e\\u0432\\u043e\\u0435\", \"\\u043d\\u043e\\u0432\\u043e\\u0441\\u0442\\u0438\", \"\\u043d\\u043e\\u0432\\u044b\\u0439\", \"\\u043d\\u043e\\u0432\\u044b\\u0439\", \"\\u043d\\u043e\\u0432\\u044b\\u0439\", \"\\u043d\\u043e\\u0432\\u044b\\u0439\", \"\\u043d\\u043e\\u0432\\u044b\\u0439\", \"\\u043d\\u043e\\u0432\\u044b\\u043c\", \"\\u043d\\u043e\\u0432\\u044b\\u0445\", \"\\u043e\\u0431\\u0430\\u043c\\u0430\", \"\\u043e\\u0431\\u0430\\u043c\\u0430\", \"\\u043e\\u0431\\u043b\\u0430\\u0441\\u0442\\u0438\", \"\\u043e\\u0431\\u043b\\u0430\\u0441\\u0442\\u0438\", \"\\u043e\\u0431\\u043b\\u0430\\u0441\\u0442\\u0438\", \"\\u043e\\u0431\\u043b\\u0430\\u0441\\u0442\\u0438\", \"\\u043e\\u0431\\u043b\\u0430\\u0441\\u0442\\u044c\", \"\\u043e\\u0434\\u0438\\u043d\", \"\\u043e\\u0434\\u0438\\u043d\", \"\\u043e\\u043d\\u0438\", \"\\u043e\\u043e\\u043d\", \"\\u043e\\u043f\\u0435\\u0440\\u0430\\u0446\\u0438\\u0438\", \"\\u043e\\u0440\\u0435\\u043d\\u0431\\u0443\\u0440\\u0433\\u0435\", \"\\u043e\\u0440\\u0443\\u0436\\u0438\\u0435\", \"\\u043e\\u0442\\u0432\\u0435\\u0442\", \"\\u043e\\u0442\\u043a\\u043b\\u044e\\u0447\\u0435\\u043d\\u0438\\u044f\", \"\\u043e\\u0442\\u043d\\u043e\\u0448\\u0435\\u043d\\u0438\\u0438\", \"\\u043e\\u0447\\u0435\\u043d\\u044c\", \"\\u043f\\u0430\\u043c\\u044f\\u0442\\u043d\\u0438\\u043a\", \"\\u043f\\u0435\\u043d\\u0437\\u0435\", \"\\u043f\\u0435\\u0440\\u0435\\u0433\\u043e\\u0432\\u043e\\u0440\\u044b\", \"\\u043f\\u0435\\u0440\\u0435\\u0434\", \"\\u043f\\u0435\\u0440\\u0435\\u0434\", \"\\u043f\\u0435\\u0440\\u0435\\u0434\", \"\\u043f\\u0435\\u0440\\u0435\\u0434\", \"\\u043f\\u0435\\u0440\\u043c\\u044c\", \"\\u043f\\u0435\\u0441\\u043a\\u043e\\u0432\", \"\\u043f\\u0435\\u0442\\u0435\\u0440\\u0431\\u0443\\u0440\\u0433\", \"\\u043f\\u0435\\u0442\\u0435\\u0440\\u0431\\u0443\\u0440\\u0433\\u0430\", \"\\u043f\\u0435\\u0442\\u0435\\u0440\\u0431\\u0443\\u0440\\u0433\\u0435\", \"\\u043f\\u0435\\u0442\\u0435\\u0440\\u0431\\u0443\\u0440\\u0433\\u0435\", \"\\u043f\\u0435\\u0442\\u0435\\u0440\\u0431\\u0443\\u0440\\u0433\\u0435\", \"\\u043f\\u0435\\u0442\\u0435\\u0440\\u0431\\u0443\\u0440\\u0433\\u0435\", \"\\u043f\\u043b\\u043e\\u0449\\u0430\\u0434\\u0438\", \"\\u043f\\u043e\\u0431\\u0435\\u0434\\u0443\", \"\\u043f\\u043e\\u0433\\u0438\\u0431\", \"\\u043f\\u043e\\u0433\\u0438\\u0431\\u043b\\u0438\", \"\\u043f\\u043e\\u0434\", \"\\u043f\\u043e\\u0434\", \"\\u043f\\u043e\\u0434\\u043f\\u0438\\u0441\\u0430\\u043b\", \"\\u043f\\u043e\\u0437\\u0438\\u0446\\u0438\\u044f\\u043c\", \"\\u043f\\u043e\\u043b\\u0443\\u0447\\u0438\\u0442\\u044c\", \"\\u043f\\u043e\\u043c\\u043e\\u0449\\u0438\", \"\\u043f\\u043e\\u043c\\u043e\\u0449\\u044c\\u044e\", \"\\u043f\\u043e\\u043c\\u043e\\u0449\\u044c\\u044e\", \"\\u043f\\u043e\\u043c\\u043e\\u0449\\u044c\\u044e\", \"\\u043f\\u043e\\u043c\\u043e\\u0449\\u044c\\u044e\", \"\\u043f\\u043e\\u043f\\u0430\\u043b\", \"\\u043f\\u043e\\u0440\\u043e\\u0448\\u0435\\u043d\\u043a\\u043e\", \"\\u043f\\u043e\\u0440\\u043e\\u0448\\u0435\\u043d\\u043a\\u043e\", \"\\u043f\\u043e\\u0441\\u043b\\u0435\", \"\\u043f\\u043e\\u0441\\u043b\\u0435\", \"\\u043f\\u043e\\u0441\\u043b\\u0435\", \"\\u043f\\u043e\\u0441\\u043b\\u0435\", \"\\u043f\\u043e\\u0441\\u043b\\u0435\", \"\\u043f\\u043e\\u0441\\u043b\\u0435\", \"\\u043f\\u043e\\u0441\\u043b\\u0435\", \"\\u043f\\u043e\\u0441\\u0442\", \"\\u043f\\u043e\\u0441\\u0442\\u0440\\u0430\\u0434\\u0430\\u043b\", \"\\u043f\\u043e\\u0441\\u0442\\u0440\\u0430\\u0434\\u0430\\u043b\\u0438\", \"\\u043f\\u043e\\u0442\\u043e\\u043c\\u0443\", \"\\u043f\\u043e\\u0447\\u0435\\u043c\\u0443\", \"\\u043f\\u043e\\u0447\\u0435\\u043c\\u0443\", \"\\u043f\\u043e\\u0447\\u0442\\u0438\", \"\\u043f\\u043e\\u044f\\u0432\\u0438\\u043b\\u0438\\u0441\\u044c\", \"\\u043f\\u043e\\u044f\\u0432\\u0438\\u0442\\u0441\\u044f\", \"\\u043f\\u0440\\u0430\\u0437\\u0434\\u043d\\u0438\\u043a\", \"\\u043f\\u0440\\u0430\\u0437\\u0434\\u043d\\u0438\\u043a\\u043e\\u043c\", \"\\u043f\\u0440\\u0435\\u0437\\u0438\\u0434\\u0435\\u043d\\u0442\", \"\\u043f\\u0440\\u0435\\u0437\\u0438\\u0434\\u0435\\u043d\\u0442\", \"\\u043f\\u0440\\u0435\\u0437\\u0438\\u0434\\u0435\\u043d\\u0442\", \"\\u043f\\u0440\\u0435\\u0437\\u0438\\u0434\\u0435\\u043d\\u0442\\u0430\", \"\\u043f\\u0440\\u0435\\u0437\\u0438\\u0434\\u0435\\u043d\\u0442\\u0430\", \"\\u043f\\u0440\\u0435\\u0437\\u0438\\u0434\\u0435\\u043d\\u0442\\u0430\", \"\\u043f\\u0440\\u0438\", \"\\u043f\\u0440\\u0438\", \"\\u043f\\u0440\\u043e\\u0432\\u0435\\u0441\\u0442\\u0438\", \"\\u043f\\u0440\\u043e\\u0434\\u0430\\u0436\\u0443\", \"\\u043f\\u0440\\u043e\\u0434\\u043e\\u043b\\u0436\\u0430\\u0435\\u0442\\u0441\\u044f\", \"\\u043f\\u0440\\u043e\\u0439\\u0434\\u0435\\u0442\", \"\\u043f\\u0440\\u043e\\u0439\\u0434\\u0435\\u0442\", \"\\u043f\\u0440\\u043e\\u0439\\u0434\\u0435\\u0442\", \"\\u043f\\u0440\\u043e\\u0441\\u043f\\u0435\\u043a\\u0442\\u0435\", \"\\u043f\\u0440\\u043e\\u0441\\u0442\\u043e\", \"\\u043f\\u0440\\u043e\\u0442\\u0430\\u0440\\u0430\\u043d\\u0438\\u043b\", \"\\u043f\\u0440\\u043e\\u0442\\u0438\\u0432\", \"\\u043f\\u0440\\u043e\\u0445\\u043e\\u0434\\u0438\\u0442\", \"\\u043f\\u0440\\u043e\\u0448\\u0435\\u043b\", \"\\u043f\\u0440\\u043e\\u0448\\u043b\\u0430\", \"\\u043f\\u0440\\u044f\\u043c\\u043e\", \"\\u043f\\u0443\\u0442\\u0438\\u043d\", \"\\u043f\\u0443\\u0442\\u0438\\u043d\", \"\\u043f\\u0443\\u0442\\u0438\\u043d\\u0430\", \"\\u043f\\u044c\\u044f\\u043d\\u044b\\u0439\", \"\\u0440\\u0430\\u0431\\u043e\\u0442\\u0430\\u0442\\u044c\", \"\\u0440\\u0430\\u0437\\u0432\\u0438\\u0442\\u0438\\u0435\", \"\\u0440\\u0430\\u0439\\u043e\\u043d\\u0430\", \"\\u0440\\u0430\\u0439\\u043e\\u043d\\u0435\", \"\\u0440\\u0430\\u0441\\u0441\\u043a\\u0430\\u0437\\u0430\\u043b\", \"\\u0440\\u0430\\u0441\\u0441\\u043a\\u0430\\u0437\\u0430\\u043b\", \"\\u0440\\u0435\\u0436\\u0438\\u043c\", \"\\u0440\\u0435\\u0437\\u0443\\u043b\\u044c\\u0442\\u0430\\u0442\\u0435\", \"\\u0440\\u0435\\u0439\\u0441\\u044b\", \"\\u0440\\u0435\\u0448\\u0435\\u043d\\u0438\\u0435\", \"\\u0440\\u043e\\u0434\\u0438\\u043b\\u0441\\u044f\", \"\\u0440\\u043e\\u0436\\u0434\\u0435\\u043d\\u0438\\u044f\", \"\\u0440\\u043e\\u0441\\u0441\\u0438\\u0438\", \"\\u0440\\u043e\\u0441\\u0441\\u0438\\u0438\", \"\\u0440\\u043e\\u0441\\u0441\\u0438\\u0438\", \"\\u0440\\u043e\\u0441\\u0441\\u0438\\u0438\", \"\\u0440\\u043e\\u0441\\u0441\\u0438\\u0438\", \"\\u0440\\u043e\\u0441\\u0441\\u0438\\u0438\", \"\\u0440\\u043e\\u0441\\u0441\\u0438\\u0439\\u0441\\u043a\\u0438\\u0435\", \"\\u0440\\u043e\\u0441\\u0441\\u0438\\u0439\\u0441\\u043a\\u0438\\u0435\", \"\\u0440\\u043e\\u0441\\u0441\\u0438\\u0439\\u0441\\u043a\\u0438\\u0435\", \"\\u0440\\u043e\\u0441\\u0441\\u0438\\u044e\", \"\\u0440\\u043e\\u0441\\u0441\\u0438\\u044e\", \"\\u0440\\u043e\\u0441\\u0441\\u0438\\u044e\", \"\\u0440\\u043e\\u0441\\u0441\\u0438\\u044e\", \"\\u0440\\u043e\\u0441\\u0441\\u0438\\u044f\", \"\\u0440\\u043e\\u0441\\u0441\\u0438\\u044f\", \"\\u0440\\u043e\\u0441\\u0441\\u0438\\u044f\", \"\\u0440\\u043e\\u0441\\u0441\\u0438\\u044f\", \"\\u0440\\u043e\\u0441\\u0441\\u0438\\u044f\", \"\\u0440\\u043e\\u0441\\u0442\\u043e\\u0432\", \"\\u0440\\u0443\\u0431\\u043b\\u0435\\u0439\", \"\\u0441\\u0430\\u0430\", \"\\u0441\\u0430\\u043c\\u043e\\u043b\\u0435\\u0442\", \"\\u0441\\u0430\\u043c\\u043e\\u043b\\u0435\\u0442\\u044b\", \"\\u0441\\u0430\\u043c\\u043e\\u043b\\u0435\\u0442\\u044b\", \"\\u0441\\u0430\\u043c\\u044b\\u043c\", \"\\u0441\\u0430\\u043c\\u044b\\u0445\", \"\\u0441\\u0430\\u043d\\u043a\\u0446\\u0438\\u0438\", \"\\u0441\\u0430\\u043d\\u043a\\u0446\\u0438\\u0439\", \"\\u0441\\u0431\\u0435\\u0440\\u0431\\u0430\\u043d\\u043a\", \"\\u0441\\u0431\\u0438\\u043b\", \"\\u0441\\u0431\\u0438\\u043b\\u0430\", \"\\u0441\\u0431\\u043e\\u0440\\u043d\\u0430\\u044f\", \"\\u0441\\u0431\\u043e\\u0440\\u043d\\u043e\\u0439\", \"\\u0441\\u0432\\u0435\\u0442\\u0430\", \"\\u0441\\u0432\\u044f\\u0437\\u0438\", \"\\u0441\\u0432\\u044f\\u0437\\u0438\", \"\\u0441\\u0433\\u043e\\u0440\\u0435\\u043b\", \"\\u0441\\u0435\\u0433\\u043e\\u0434\\u043d\\u044f\", \"\\u0441\\u0435\\u0433\\u043e\\u0434\\u043d\\u044f\", \"\\u0441\\u0435\\u0433\\u043e\\u0434\\u043d\\u044f\", \"\\u0441\\u0435\\u0433\\u043e\\u0434\\u043d\\u044f\", \"\\u0441\\u0435\\u0439\\u0447\\u0430\\u0441\", \"\\u0441\\u0435\\u0440\\u0433\\u0435\\u0439\", \"\\u0441\\u0435\\u0440\\u0433\\u0435\\u0439\", \"\\u0441\\u0435\\u0440\\u0433\\u0435\\u0439\", \"\\u0441\\u0435\\u0442\\u044c\", \"\\u0441\\u0438\\u0440\\u0438\\u0438\", \"\\u0441\\u0438\\u0440\\u0438\\u0438\", \"\\u0441\\u0438\\u0440\\u0438\\u0438\", \"\\u0441\\u0438\\u0440\\u0438\\u0439\\u0441\\u043a\\u0430\\u044f\", \"\\u0441\\u0438\\u0440\\u0438\\u0439\\u0441\\u043a\\u043e\\u0439\", \"\\u0441\\u0438\\u0440\\u0438\\u044e\", \"\\u0441\\u0438\\u0442\\u0443\\u0430\\u0446\\u0438\\u0438\", \"\\u0441\\u043c\\u0438\", \"\\u0441\\u043c\\u0438\", \"\\u0441\\u043c\\u0438\", \"\\u0441\\u043c\\u0438\", \"\\u0441\\u043e\\u0447\\u0438\", \"\\u0441\\u043f\\u0430\\u0440\\u0442\\u0430\\u043a\", \"\\u0441\\u043f\\u0430\\u0441\\u0438\\u0431\\u043e\", \"\\u0441\\u0442\\u0430\\u043b\", \"\\u0441\\u0442\\u0430\\u043b\", \"\\u0441\\u0442\\u0430\\u043b\", \"\\u0441\\u0442\\u0430\\u043d\\u0446\\u0438\\u0438\", \"\\u0441\\u0442\\u0430\\u043d\\u0446\\u0438\\u044f\", \"\\u0441\\u0442\\u0430\\u0440\\u0442\\u0443\\u0435\\u0442\", \"\\u0441\\u0442\\u043e\\u043b\\u043a\\u043d\\u043e\\u0432\\u0435\\u043d\\u0438\\u0438\", \"\\u0441\\u0442\\u043e\\u043b\\u043a\\u043d\\u0443\\u043b\\u0438\\u0441\\u044c\", \"\\u0441\\u0442\\u043e\\u0440\\u043e\\u043d\\u044b\", \"\\u0441\\u044324\", \"\\u0441\\u044324\", \"\\u0441\\u0443\\u0434\", \"\\u0441\\u0447\\u0438\\u0442\\u0430\\u0435\\u0442\", \"\\u0441\\u0448\\u0430\", \"\\u0441\\u0448\\u0430\", \"\\u0441\\u0448\\u0430\", \"\\u0441\\u0448\\u0430\", \"\\u0442\\u0430\\u043a\", \"\\u0442\\u0430\\u043a\\u0438\\u0435\", \"\\u0442\\u0430\\u043a\\u0441\\u0438\", \"\\u0442\\u0430\\u043a\\u0441\\u0438\", \"\\u0442\\u0430\\u043a\\u0441\\u0438\", \"\\u0442\\u0430\\u043a\\u0441\\u0438\", \"\\u0442\\u0435\\u0431\\u044f\", \"\\u0442\\u0435\\u043f\\u0435\\u0440\\u044c\", \"\\u0442\\u0435\\u0440\\u0440\\u043e\\u0440\\u0438\\u0441\\u0442\\u043e\\u0432\", \"\\u0442\\u0435\\u0440\\u0440\\u043e\\u0440\\u0438\\u0441\\u0442\\u043e\\u0432\", \"\\u0442\\u0435\\u0440\\u0440\\u043e\\u0440\\u0438\\u0441\\u0442\\u044b\", \"\\u0442\\u0435\\u0440\\u0440\\u043e\\u0440\\u0438\\u0441\\u0442\\u044b\", \"\\u0442\\u043e\\u0436\\u0435\", \"\\u0442\\u043e\\u043b\\u044c\\u043a\\u043e\", \"\\u0442\\u043e\\u043b\\u044c\\u044f\\u0442\\u0442\\u0438\", \"\\u0442\\u043e\\u043c\\u0441\\u043a\", \"\\u0442\\u0440\\u0430\\u043c\\u043f\", \"\\u0442\\u0440\\u0430\\u043c\\u043f\\u0430\", \"\\u0442\\u0440\\u0430\\u043c\\u043f\\u0430\", \"\\u0442\\u0440\\u0430\\u043d\\u0441\\u0430\\u044d\\u0440\\u043e\", \"\\u0442\\u0440\\u0430\\u043d\\u0441\\u0430\\u044d\\u0440\\u043e\", \"\\u0442\\u0440\\u0430\\u043d\\u0441\\u0430\\u044d\\u0440\\u043e\", \"\\u0442\\u0440\\u0430\\u0441\\u0441\\u0435\", \"\\u0442\\u0443\\u0440\\u0446\\u0438\\u0438\", \"\\u0442\\u0443\\u0440\\u0446\\u0438\\u0438\", \"\\u0442\\u044b\\u0441\", \"\\u0442\\u044b\\u0441\", \"\\u0442\\u044b\\u0441\\u044f\\u0447\", \"\\u0442\\u044e\\u043c\\u0435\\u043d\\u0438\", \"\\u0442\\u044e\\u043c\\u0435\\u043d\\u0441\\u043a\\u0438\\u0435\", \"\\u0442\\u044e\\u043c\\u0435\\u043d\\u0441\\u043a\\u043e\\u0439\", \"\\u0443\\u0433\\u043e\\u043b\\u043e\\u0432\\u043d\\u043e\\u0435\", \"\\u0443\\u0436\\u0435\", \"\\u0443\\u043a\\u0440\\u0430\\u0438\\u043d\\u0435\", \"\\u0443\\u043a\\u0440\\u0430\\u0438\\u043d\\u0435\", \"\\u0443\\u043a\\u0440\\u0430\\u0438\\u043d\\u044b\", \"\\u0443\\u043a\\u0440\\u0430\\u0438\\u043d\\u044b\", \"\\u0443\\u043a\\u0440\\u0430\\u0438\\u043d\\u044b\", \"\\u0443\\u043b\\u0438\\u0446\\u0435\", \"\\u0443\\u043d\\u0438\\u0447\\u0442\\u043e\\u0436\\u0438\\u043b\\u0438\", \"\\u0443\\u0442\\u0440\\u043e\", \"\\u0443\\u0442\\u0440\\u043e\\u043c\", \"\\u0443\\u0444\\u0435\", \"\\u0443\\u0444\\u0435\", \"\\u0443\\u0447\\u0435\\u043d\\u044b\\u0435\", \"\\u0443\\u0447\\u0435\\u043d\\u044b\\u0435\", \"\\u0444\\u0435\\u0432\\u0440\\u0430\\u043b\\u044f\", \"\\u0444\\u0435\\u0441\\u0442\\u0438\\u0432\\u0430\\u043b\\u044c\", \"\\u0444\\u043e\\u0442\\u043e\", \"\\u0444\\u043e\\u0442\\u043e\", \"\\u0444\\u043e\\u0442\\u043e\", \"\\u0444\\u043e\\u0442\\u043e\\u0433\\u0440\\u0430\\u0444\\u0438\\u0438\", \"\\u0444\\u0443\\u0442\\u0431\\u043e\\u043b\", \"\\u0444\\u0443\\u0442\\u0431\\u043e\\u043b\\u0443\", \"\\u0445\\u043e\\u0434\\u0435\", \"\\u0446\\u0435\\u043d\\u0442\\u0440\\u0435\", \"\\u0446\\u0441\\u043a\\u0430\", \"\\u0447\\u0435\\u043b\\u043e\\u0432\\u0435\\u043a\", \"\\u0447\\u0435\\u043b\\u043e\\u0432\\u0435\\u043a\", \"\\u0447\\u0435\\u043b\\u043e\\u0432\\u0435\\u043a\", \"\\u0447\\u0435\\u043b\\u043e\\u0432\\u0435\\u043a\\u0430\", \"\\u0447\\u0435\\u043c\\u043f\\u0438\\u043e\\u043d\\u0430\\u0442\\u0430\", \"\\u0447\\u0438\\u0441\\u043b\\u043e\", \"\\u0447\\u043c2018\", \"\\u0447\\u0442\\u043e\", \"\\u0447\\u0442\\u043e\", \"\\u0447\\u0442\\u043e\\u0431\\u044b\", \"\\u0447\\u0442\\u043e\\u0431\\u044b\", \"\\u044d\\u043a\\u0441\\u043f\\u0435\\u0440\\u0442\\u044b\", \"\\u044d\\u0440\\u0434\\u043e\\u0433\\u0430\\u043d\", \"\\u044d\\u0442\\u043e\", \"\\u044d\\u0442\\u043e\\u043c\", \"\\u044f\\u043d\\u0432\\u0430\\u0440\\u044f\"]}, \"R\": 30, \"lambda.step\": 0.01, \"plot.opts\": {\"xlab\": \"PC1\", \"ylab\": \"PC2\"}, \"topic.order\": [8, 10, 1, 9, 4, 5, 3, 6, 2, 7]};\n",
       "\n",
       "function LDAvis_load_lib(url, callback){\n",
       "  var s = document.createElement('script');\n",
       "  s.src = url;\n",
       "  s.async = true;\n",
       "  s.onreadystatechange = s.onload = callback;\n",
       "  s.onerror = function(){console.warn(\"failed to load library \" + url);};\n",
       "  document.getElementsByTagName(\"head\")[0].appendChild(s);\n",
       "}\n",
       "\n",
       "if(typeof(LDAvis) !== \"undefined\"){\n",
       "   // already loaded: just create the visualization\n",
       "   !function(LDAvis){\n",
       "       new LDAvis(\"#\" + \"ldavis_el451071150637538487064725101\", ldavis_el451071150637538487064725101_data);\n",
       "   }(LDAvis);\n",
       "}else if(typeof define === \"function\" && define.amd){\n",
       "   // require.js is available: use it to load d3/LDAvis\n",
       "   require.config({paths: {d3: \"https://cdnjs.cloudflare.com/ajax/libs/d3/3.5.5/d3.min\"}});\n",
       "   require([\"d3\"], function(d3){\n",
       "      window.d3 = d3;\n",
       "      LDAvis_load_lib(\"https://cdn.rawgit.com/bmabey/pyLDAvis/files/ldavis.v1.0.0.js\", function(){\n",
       "        new LDAvis(\"#\" + \"ldavis_el451071150637538487064725101\", ldavis_el451071150637538487064725101_data);\n",
       "      });\n",
       "    });\n",
       "}else{\n",
       "    // require.js not available: dynamically load d3 & LDAvis\n",
       "    LDAvis_load_lib(\"https://cdnjs.cloudflare.com/ajax/libs/d3/3.5.5/d3.min.js\", function(){\n",
       "         LDAvis_load_lib(\"https://cdn.rawgit.com/bmabey/pyLDAvis/files/ldavis.v1.0.0.js\", function(){\n",
       "                 new LDAvis(\"#\" + \"ldavis_el451071150637538487064725101\", ldavis_el451071150637538487064725101_data);\n",
       "            })\n",
       "         });\n",
       "}\n",
       "</script>"
      ],
      "text/plain": [
       "<IPython.core.display.HTML object>"
      ]
     },
     "execution_count": 40,
     "metadata": {},
     "output_type": "execute_result"
    }
   ],
   "source": [
    "vis_data = gensimvis.prepare(tweet_topics, corpus, dictionary)\n",
    "pyLDAvis.display(vis_data)"
   ]
  },
  {
   "cell_type": "markdown",
   "metadata": {},
   "source": [
    "### Output Visualization Tool to HTML"
   ]
  },
  {
   "cell_type": "code",
   "execution_count": 41,
   "metadata": {},
   "outputs": [],
   "source": [
    "# save viz output to an HTML file\n",
    "vis_data = gensimvis.prepare(tweet_topics, corpus, dictionary)\n",
    "\n",
    "pyLDAvis.save_html(vis_data, 'pyLDAviz_NonEnglish-troll.html')"
   ]
  }
 ],
 "metadata": {
  "hide_input": false,
  "kernelspec": {
   "display_name": "Python 3",
   "language": "python",
   "name": "python3"
  },
  "language_info": {
   "codemirror_mode": {
    "name": "ipython",
    "version": 3
   },
   "file_extension": ".py",
   "mimetype": "text/x-python",
   "name": "python",
   "nbconvert_exporter": "python",
   "pygments_lexer": "ipython3",
   "version": "3.6.7"
  }
 },
 "nbformat": 4,
 "nbformat_minor": 2
}
