{
 "cells": [
  {
   "cell_type": "markdown",
   "metadata": {},
   "source": [
    "# Capstone 2 Project - Russian Troll Group - NonEnglish"
   ]
  },
  {
   "cell_type": "markdown",
   "metadata": {},
   "source": [
    "### Initial tweet data exploration\n",
    "First, I'll join together all of the tweet data, reading and joining all of the 13 data files"
   ]
  },
  {
   "cell_type": "markdown",
   "metadata": {},
   "source": [
    "I will use the Tweets to explore questions about the nature of the disinformation campaign, such as:\n",
    "* Did the tweets increase in frequency or volume around the time of major events? \n",
    "* Did other trolls retweet and amplify troll tweets?\n",
    "* Can clusters be made of Twitter handles/’users’ grouped with similar features?\n",
    "* Can common topics or themes be identified?\n",
    "* What were the most-used hashtags?\n",
    "* Did the tweets predominantly support one candidate or political party, or seek to undermine the other?\n",
    "\n",
    "After the analysis of the entire set of troll tweets, I will segment the troll classes* and analyze each individually.  The \"troll classes\", as defined by Clemson University's Darren Linvill and Patrick Warren in their analysis of the Russian Troll Farm Twitter data."
   ]
  },
  {
   "cell_type": "markdown",
   "metadata": {},
   "source": [
    "## Data Dictionary\n",
    "\n",
    "Header | Definition\n",
    "-------|---------\n",
    "`external_author_id` | An author account ID from Twitter \n",
    "`author` | The handle sending the tweet\n",
    "`content` | The text of the tweet\n",
    "`region` | A region classification, as [determined by Social Studio](https://help.salesforce.com/articleView?   id=000199367&type=1)\n",
    "`language` | The language of the tweet\n",
    "`publish_date` | The date and time the tweet was sent\n",
    "`harvested_date` | The date and time the tweet was collected by Social Studio\n",
    "`following` | The number of accounts the handle was following at the time of the tweet\n",
    "`followers` | The number of followers the handle had at the time of the tweet\n",
    "`updates` | The number of “update actions” on the account that authored the tweet, including tweets, retweets and likes\n",
    "`post_type` | Indicates if the tweet was a retweet or a quote-tweet\n",
    "`account_type` | Specific account theme, as coded by Linvill and Warren\n",
    "`retweet` | A binary indicator of whether or not the tweet is a retweet\n",
    "`account_category` | General account theme, as coded by Linvill and Warren\n",
    "`new_june_2018` | A binary indicator of whether the handle was newly listed in June 2018"
   ]
  },
  {
   "cell_type": "code",
   "execution_count": 2,
   "metadata": {},
   "outputs": [],
   "source": [
    "# import standard libraries\n",
    "import pandas as pd\n",
    "pd.set_option(\"display.max_colwidth\", 200)\n",
    "#import numpy as np\n",
    "#import datetime\n",
    "import re\n",
    "import matplotlib.pyplot as plt\n",
    "import seaborn as sns\n",
    "#get_ipython().run_line_magic('matplotlib', 'inline')"
   ]
  },
  {
   "cell_type": "code",
   "execution_count": 3,
   "metadata": {},
   "outputs": [],
   "source": [
    "# import nltk libraries\n",
    "from nltk.corpus import stopwords\n",
    "from nltk import FreqDist\n",
    "#nltk.download('stopwords') # run one time"
   ]
  },
  {
   "cell_type": "code",
   "execution_count": 4,
   "metadata": {},
   "outputs": [],
   "source": [
    "# import gensim libraries\n",
    "from gensim.models.ldamulticore import LdaMulticore\n",
    "from gensim.test.utils import datapath\n",
    "from gensim import corpora\n",
    "from gensim.utils import any2unicode"
   ]
  },
  {
   "cell_type": "code",
   "execution_count": 5,
   "metadata": {},
   "outputs": [],
   "source": [
    "# encoding='utf-8',\n",
    "#right_troll = pd.read_csv('../data/right_troll.csv', parse_dates = ['publish_date'], low_memory=False)\n",
    "#nonenglish = pd.read_csv('../data/nonenglish.csv', parse_dates = ['publish_date'], low_memory=False)\n",
    "#fearmonger = pd.read_csv('../data/fearmonger.csv', parse_dates = ['publish_date'], low_memory=False)\n",
    "#left_troll = pd.read_csv('../data/left_troll.csv', parse_dates = ['publish_date'], low_memory=False)\n",
    "#hashtagamer = pd.read_csv('../data/hashtagamer.csv', parse_dates = ['publish_date'], low_memory=False)\n",
    "#newsfeed = pd.read_csv('../data/newsfeed.csv', parse_dates = ['publish_date'], low_memory=False)\n",
    "#commercial = pd.read_csv('../data/commercial.csv', parse_dates = ['publish_date'], low_memory=False)\n",
    "# print(df.shape)"
   ]
  },
  {
   "cell_type": "code",
   "execution_count": 6,
   "metadata": {},
   "outputs": [],
   "source": [
    "# read each troll classification file as 'df', for repurposing code for each class\n",
    "# nrows=100, \n",
    "full_df = pd.read_csv('../data/all_IRAhandle_tweets.csv', parse_dates = ['publish_date'], low_memory=False)\n",
    "#name = 'Right Troll'"
   ]
  },
  {
   "cell_type": "code",
   "execution_count": 7,
   "metadata": {},
   "outputs": [],
   "source": [
    "df = full_df[full_df['account_category'] == \"NonEnglish\"]"
   ]
  },
  {
   "cell_type": "code",
   "execution_count": 8,
   "metadata": {},
   "outputs": [
    {
     "name": "stderr",
     "output_type": "stream",
     "text": [
      "/Users/admin/anaconda3/lib/python3.6/site-packages/pandas/core/frame.py:3697: SettingWithCopyWarning: \n",
      "A value is trying to be set on a copy of a slice from a DataFrame\n",
      "\n",
      "See the caveats in the documentation: http://pandas.pydata.org/pandas-docs/stable/indexing.html#indexing-view-versus-copy\n",
      "  errors=errors)\n"
     ]
    }
   ],
   "source": [
    "df.drop('Unnamed: 0', axis=1, inplace=True)\n",
    "# drop rows with problematic character encoding\n",
    "#df.drop([58, 59], axis=0, inplace=True)\n",
    "#df.head()"
   ]
  },
  {
   "cell_type": "code",
   "execution_count": 9,
   "metadata": {},
   "outputs": [
    {
     "name": "stderr",
     "output_type": "stream",
     "text": [
      "/Users/admin/anaconda3/lib/python3.6/site-packages/ipykernel_launcher.py:1: SettingWithCopyWarning: \n",
      "A value is trying to be set on a copy of a slice from a DataFrame.\n",
      "Try using .loc[row_indexer,col_indexer] = value instead\n",
      "\n",
      "See the caveats in the documentation: http://pandas.pydata.org/pandas-docs/stable/indexing.html#indexing-view-versus-copy\n",
      "  \"\"\"Entry point for launching an IPython kernel.\n"
     ]
    }
   ],
   "source": [
    "df['cleaned'] = df['content'].fillna('').astype(str).map(any2unicode)"
   ]
  },
  {
   "cell_type": "markdown",
   "metadata": {},
   "source": [
    "## Text Preprocessing\n",
    "* Noise Removal\n",
    "* Tokenization\n",
    "* Normalization  \n",
    "(1) stemming\n",
    "(2) lemmatization, and \n",
    "(3) everything else"
   ]
  },
  {
   "cell_type": "markdown",
   "metadata": {},
   "source": [
    "### Remove URLs and non-English Characters"
   ]
  },
  {
   "cell_type": "code",
   "execution_count": 10,
   "metadata": {},
   "outputs": [],
   "source": [
    "def preprocess_text(text):\n",
    "    '''Remove URLs and Non-English characters, except for @ and #'''\n",
    "    # remove URL's\n",
    "    text = re.sub(r'\\w+:\\/{2}[\\d\\w-]+(\\.[\\d\\w-]+)*(?:(?:\\/[^\\s/]*))*', '', text)\n",
    "\n",
    "    # remove symbols excluding the @, # and \\s symbol\n",
    "    text = re.sub(r'[^\\w@#\\s]', '', text)\n",
    "\n",
    "    # remove URL's\n",
    "    text = re.sub('(https://[^\\s]+)', '', text)\n",
    "    text = re.sub('https?://[A-Za-z0-9./]+', '', text)\n",
    "\n",
    "    # remove URL's\n",
    "    text = re.sub('http?://[A-Za-z0-9./]+', '', text)\n",
    "\n",
    "    # lowercase, remove words less than len 2 & remove numbers in tokenized list\n",
    "    #return [word.lower() for word in text if len(word) > 2 and not word.isdigit() and not word in ignore_words]\n",
    "    return text"
   ]
  },
  {
   "cell_type": "code",
   "execution_count": 11,
   "metadata": {},
   "outputs": [
    {
     "name": "stderr",
     "output_type": "stream",
     "text": [
      "/Users/admin/anaconda3/lib/python3.6/site-packages/ipykernel_launcher.py:1: SettingWithCopyWarning: \n",
      "A value is trying to be set on a copy of a slice from a DataFrame.\n",
      "Try using .loc[row_indexer,col_indexer] = value instead\n",
      "\n",
      "See the caveats in the documentation: http://pandas.pydata.org/pandas-docs/stable/indexing.html#indexing-view-versus-copy\n",
      "  \"\"\"Entry point for launching an IPython kernel.\n"
     ]
    }
   ],
   "source": [
    "df['cleaned'] = df['cleaned'].apply(preprocess_text)"
   ]
  },
  {
   "cell_type": "markdown",
   "metadata": {},
   "source": [
    "### Hashtag Analysis"
   ]
  },
  {
   "cell_type": "code",
   "execution_count": 12,
   "metadata": {},
   "outputs": [],
   "source": [
    "# regex to find hashtags\n",
    "hashtag_re = re.compile(\"(?:^|\\s)[＃#]{1}(\\w+)\", re.UNICODE)\n",
    "\n",
    "def extract_hashtags(tweet):\n",
    "    '''Take in tweet contents from 'cleaned' content, extract hashtags and return cleaned text'''\n",
    "    hashtags_only = []\n",
    "    if len(re.findall(hashtag_re, tweet)) > 0:\n",
    "        hashtags_only.append(re.findall(hashtag_re, tweet))\n",
    "    else:\n",
    "        hashtags_only.append([\"0\"])\n",
    "    return hashtags_only[0]"
   ]
  },
  {
   "cell_type": "code",
   "execution_count": 13,
   "metadata": {},
   "outputs": [
    {
     "name": "stderr",
     "output_type": "stream",
     "text": [
      "/Users/admin/anaconda3/lib/python3.6/site-packages/ipykernel_launcher.py:2: SettingWithCopyWarning: \n",
      "A value is trying to be set on a copy of a slice from a DataFrame.\n",
      "Try using .loc[row_indexer,col_indexer] = value instead\n",
      "\n",
      "See the caveats in the documentation: http://pandas.pydata.org/pandas-docs/stable/indexing.html#indexing-view-versus-copy\n",
      "  \n"
     ]
    },
    {
     "data": {
      "text/plain": [
       "372     [67]\n",
       "373     [70]\n",
       "374     [74]\n",
       "375     [75]\n",
       "376     [77]\n",
       "377      [1]\n",
       "378      [2]\n",
       "379      [5]\n",
       "380      [8]\n",
       "381      [9]\n",
       "382     [10]\n",
       "383     [27]\n",
       "384     [37]\n",
       "385     [90]\n",
       "386     [94]\n",
       "387     [95]\n",
       "388     [81]\n",
       "389    [102]\n",
       "390    [103]\n",
       "391     [86]\n",
       "392    [104]\n",
       "393    [112]\n",
       "394    [113]\n",
       "395    [117]\n",
       "396    [105]\n",
       "Name: hashtags, dtype: object"
      ]
     },
     "execution_count": 13,
     "metadata": {},
     "output_type": "execute_result"
    }
   ],
   "source": [
    "# Create a new column to store hashtags, extract hashtags from 'content'\n",
    "df['hashtags'] = df['cleaned'].map(extract_hashtags)\n",
    "df['hashtags'].head(25)"
   ]
  },
  {
   "cell_type": "code",
   "execution_count": 14,
   "metadata": {},
   "outputs": [],
   "source": [
    "# remove all hashtags from a tweet\n",
    "def remove_hashtags(tweet):\n",
    "    '''After extracting hashtags, take in tweet content and remove hashtags'''\n",
    "    hashtags_only = []\n",
    "    if len(re.findall(hashtag_re, tweet)) > 0:\n",
    "        tweet = re.sub(hashtag_re, \"\", tweet)\n",
    "    hashtags_only.append(tweet)\n",
    "    return hashtags_only[0]"
   ]
  },
  {
   "cell_type": "code",
   "execution_count": 15,
   "metadata": {},
   "outputs": [
    {
     "name": "stderr",
     "output_type": "stream",
     "text": [
      "/Users/admin/anaconda3/lib/python3.6/site-packages/ipykernel_launcher.py:2: SettingWithCopyWarning: \n",
      "A value is trying to be set on a copy of a slice from a DataFrame.\n",
      "Try using .loc[row_indexer,col_indexer] = value instead\n",
      "\n",
      "See the caveats in the documentation: http://pandas.pydata.org/pandas-docs/stable/indexing.html#indexing-view-versus-copy\n",
      "  \n"
     ]
    }
   ],
   "source": [
    "# Clean hashtags fron 'cleaned' content\n",
    "df['cleaned'] = df['cleaned'].apply(remove_hashtags)"
   ]
  },
  {
   "cell_type": "code",
   "execution_count": 16,
   "metadata": {},
   "outputs": [
    {
     "name": "stdout",
     "output_type": "stream",
     "text": [
      "0                    677146\n",
      "новости               10314\n",
      "Merkelmussbleiben      5818\n",
      "Merkel                 4565\n",
      "Россия                 3484\n",
      "Пластмассовыйвек       3054\n",
      "РФ                     2706\n",
      "СПб                    2408\n",
      "США                    2327\n",
      "политика               2195\n",
      "hitech                 2188\n",
      "JugendmitMerkel        1911\n",
      "спорт                  1688\n",
      "TagderJugend           1678\n",
      "Украина                1666\n",
      "Тюмень                 1553\n",
      "Erdogan                1451\n",
      "news                   1450\n",
      "Deutschland            1447\n",
      "Flüchtlinge            1402\n",
      "НевскиеНовости         1379\n",
      "CDU                    1288\n",
      "спб                    1261\n",
      "ВСУ                    1251\n",
      "usa                    1213\n",
      "dtype: int64\n"
     ]
    }
   ],
   "source": [
    "# create a list of all hashtags\n",
    "all_hashtags = df['hashtags'].tolist()\n",
    "\n",
    "# all_hashtags is a list of lists.\n",
    "cleaned_hashtags = []\n",
    "for i in all_hashtags:\n",
    "    for j in i:\n",
    "            cleaned_hashtags.append(j)\n",
    "\n",
    "# remove the '0' from the list\n",
    "def remove_values_from_list(the_list, val):\n",
    "   return [value for value in the_list if value != val]\n",
    "\n",
    "# cleaned_hashtags list\n",
    "cleaned_hashtags = remove_values_from_list(cleaned_hashtags, 0)\n",
    "\n",
    "# Convert cleaned_hashtags to a series and count the most frequent occuring\n",
    "cleaned_hashtag_series = pd.Series(cleaned_hashtags)\n",
    "hashtag_counts = cleaned_hashtag_series.value_counts()\n",
    "print(hashtag_counts[:25])"
   ]
  },
  {
   "cell_type": "markdown",
   "metadata": {},
   "source": [
    "### Get User Mentions"
   ]
  },
  {
   "cell_type": "code",
   "execution_count": 17,
   "metadata": {},
   "outputs": [],
   "source": [
    "#Regex to get user mentions \"@\":\n",
    "twitter_username_re = re.compile(\"(?:^|\\s)[＠ @]{1}([^\\s#<>[\\]|{}]+)\", re.UNICODE)\n",
    "\n",
    "def extract_usermentions(tweet):\n",
    "    '''Take in tweet contents from 'cleaned' col and extract user mentions'''\n",
    "    mentions_only = []\n",
    "    if len(re.findall(twitter_username_re, tweet)) > 0:\n",
    "        mentions_only.append(re.findall(twitter_username_re, tweet))\n",
    "    else:\n",
    "        mentions_only.append([\"0\"])\n",
    "    return mentions_only[0]"
   ]
  },
  {
   "cell_type": "code",
   "execution_count": 18,
   "metadata": {},
   "outputs": [
    {
     "name": "stderr",
     "output_type": "stream",
     "text": [
      "/Users/admin/anaconda3/lib/python3.6/site-packages/ipykernel_launcher.py:2: SettingWithCopyWarning: \n",
      "A value is trying to be set on a copy of a slice from a DataFrame.\n",
      "Try using .loc[row_indexer,col_indexer] = value instead\n",
      "\n",
      "See the caveats in the documentation: http://pandas.pydata.org/pandas-docs/stable/indexing.html#indexing-view-versus-copy\n",
      "  \n"
     ]
    },
    {
     "data": {
      "text/plain": [
       "372    [0]\n",
       "373    [0]\n",
       "374    [0]\n",
       "375    [0]\n",
       "376    [0]\n",
       "377    [0]\n",
       "378    [0]\n",
       "379    [0]\n",
       "380    [0]\n",
       "381    [0]\n",
       "Name: mentions, dtype: object"
      ]
     },
     "execution_count": 18,
     "metadata": {},
     "output_type": "execute_result"
    }
   ],
   "source": [
    "# make a new column to store the extracted mentions\n",
    "df['mentions'] = df['cleaned'].map(extract_usermentions)\n",
    "df['mentions'].head(10)"
   ]
  },
  {
   "cell_type": "code",
   "execution_count": 19,
   "metadata": {},
   "outputs": [
    {
     "name": "stdout",
     "output_type": "stream",
     "text": [
      "0                    637223\n",
      "YouTube                4993\n",
      "с                      4474\n",
      "AP                     2710\n",
      "В                      2518\n",
      "это                    2435\n",
      "Фото                   2302\n",
      "via                    2038\n",
      "rus_improvisation      1841\n",
      "в                      1696\n",
      "на                     1400\n",
      "Flickr                 1078\n",
      "salty_1970             1064\n",
      "и                       982\n",
      "не                      862\n",
      "realDonaldTrump         834\n",
      "@                       803\n",
      "На                      760\n",
      "GrahamWP_UK             755\n",
      "А                       746\n",
      "праздник                700\n",
      "SFGO76                  649\n",
      "Автор                   594\n",
      "MariaSharapova          587\n",
      "und                     581\n",
      "dtype: int64\n"
     ]
    }
   ],
   "source": [
    "# create a list of all mentions\n",
    "all_mentions = df['mentions'].tolist()\n",
    "\n",
    "# all_hashtags is a list of lists.\n",
    "cleaned_mentions = []\n",
    "for i in all_mentions:\n",
    "    for j in i:\n",
    "            cleaned_mentions.append(j)\n",
    "\n",
    "# remove the '0' from the list\n",
    "def remove_values_from_list(the_list, val):\n",
    "   return [value for value in the_list if value != val]\n",
    "\n",
    "# cleaned_mentions list\n",
    "cleaned_mentions = remove_values_from_list(cleaned_mentions, 0)\n",
    "\n",
    "# Convert cleaned_hashtags to a series and count the most frequent occuring\n",
    "cleaned_mentions_series = pd.Series(cleaned_mentions)\n",
    "mention_counts = cleaned_mentions_series.value_counts()\n",
    "# remove first element with values of '0'\n",
    "# mention_counts = del mention_counts[0]\n",
    "print(mention_counts[:25])"
   ]
  },
  {
   "cell_type": "code",
   "execution_count": 20,
   "metadata": {},
   "outputs": [],
   "source": [
    "# remove all mentions from a tweet\n",
    "def remove_mentions(tweet):\n",
    "    '''Take tweet content and remove @mentions from it'''\n",
    "    mentions_only = []\n",
    "    if len(re.findall(\"(@[^@\\s]+)\", tweet)) > 0:\n",
    "        tweet = re.sub(\"(@[^@\\s]+)\", \"\", tweet)\n",
    "    mentions_only.append(tweet)\n",
    "    return mentions_only[0]"
   ]
  },
  {
   "cell_type": "code",
   "execution_count": 21,
   "metadata": {},
   "outputs": [
    {
     "name": "stderr",
     "output_type": "stream",
     "text": [
      "/Users/admin/anaconda3/lib/python3.6/site-packages/ipykernel_launcher.py:2: SettingWithCopyWarning: \n",
      "A value is trying to be set on a copy of a slice from a DataFrame.\n",
      "Try using .loc[row_indexer,col_indexer] = value instead\n",
      "\n",
      "See the caveats in the documentation: http://pandas.pydata.org/pandas-docs/stable/indexing.html#indexing-view-versus-copy\n",
      "  \n"
     ]
    }
   ],
   "source": [
    "#create list of content with no hashtags\n",
    "df['cleaned'] = df['cleaned'].apply(remove_mentions)"
   ]
  },
  {
   "cell_type": "code",
   "execution_count": 22,
   "metadata": {},
   "outputs": [],
   "source": [
    "# remove unwanted characters, numbers and symbols from the remaining content\n",
    "#df['cleaned'] = df['cleaned'].str.replace(\"[^a-zA-Z#]\", \" \")"
   ]
  },
  {
   "cell_type": "markdown",
   "metadata": {},
   "source": [
    "### Create dataframes for the troll classifications\n",
    "Create dataframes for each troll classification, for easier size to work with."
   ]
  },
  {
   "cell_type": "code",
   "execution_count": 23,
   "metadata": {},
   "outputs": [],
   "source": [
    "#right_troll = df.loc[df['account_category'] == 'RightTroll']\n",
    "#nonenglish = df.loc[df['account_category'] == 'NonEnglish']\n",
    "#fearmonger = df.loc[df['account_category'] == 'Fearmonger']\n",
    "#left_troll = df.loc[df['account_category'] == 'LeftTroll']\n",
    "#hashtagamer = df.loc[df['account_category'] == 'HashtagGamer']\n",
    "#newsfeed = df.loc[df['account_category'] == 'NewsFeed']\n",
    "#commercial = df.loc[df['account_category'] == 'Commercial']"
   ]
  },
  {
   "cell_type": "code",
   "execution_count": 24,
   "metadata": {},
   "outputs": [],
   "source": [
    "#right_troll.to_csv(\"../data/right_troll.csv\")\n",
    "#nonenglish.to_csv(\"../data/nonenglish.csv\")\n",
    "#fearmonger.to_csv(\"../data/fearmonger.csv\")\n",
    "#left_troll.to_csv(\"../data/left_troll.csv\")\n",
    "#hashtagamer.to_csv(\"../data/hashtagamer.csv\")\n",
    "#newsfeed.to_csv(\"../data/newsfeed.csv\")\n",
    "#commercial.to_csv(\"../data/commercial.csv\")"
   ]
  },
  {
   "cell_type": "markdown",
   "metadata": {},
   "source": [
    "## Remove stopwords\n",
    "Remove words < 3 letters, convert to lower case"
   ]
  },
  {
   "cell_type": "code",
   "execution_count": 25,
   "metadata": {},
   "outputs": [
    {
     "data": {
      "text/plain": [
       "372                          Причина Мутко ЗенитАрене для адаптации к ЧМ потребуется 152 млрд рублей\n",
       "373                                               Причина Житель Самары умер в очереди в поликлинике\n",
       "374                         Причина Президентский советник предложил ограничить Интернет как в Китае\n",
       "375                                      Причина Казаков благословили на защиту интернетпространства\n",
       "376    Причина В Кстово полицейские сломали женщине лицевую кость когда та отказалась показать грудь\n",
       "Name: cleaned, dtype: object"
      ]
     },
     "execution_count": 25,
     "metadata": {},
     "output_type": "execute_result"
    }
   ],
   "source": [
    "df.cleaned.head()"
   ]
  },
  {
   "cell_type": "code",
   "execution_count": 26,
   "metadata": {},
   "outputs": [
    {
     "name": "stderr",
     "output_type": "stream",
     "text": [
      "/Users/admin/anaconda3/lib/python3.6/site-packages/ipykernel_launcher.py:2: SettingWithCopyWarning: \n",
      "A value is trying to be set on a copy of a slice from a DataFrame.\n",
      "Try using .loc[row_indexer,col_indexer] = value instead\n",
      "\n",
      "See the caveats in the documentation: http://pandas.pydata.org/pandas-docs/stable/indexing.html#indexing-view-versus-copy\n",
      "  \n",
      "/Users/admin/anaconda3/lib/python3.6/site-packages/ipykernel_launcher.py:5: SettingWithCopyWarning: \n",
      "A value is trying to be set on a copy of a slice from a DataFrame.\n",
      "Try using .loc[row_indexer,col_indexer] = value instead\n",
      "\n",
      "See the caveats in the documentation: http://pandas.pydata.org/pandas-docs/stable/indexing.html#indexing-view-versus-copy\n",
      "  \"\"\"\n",
      "/Users/admin/anaconda3/lib/python3.6/site-packages/ipykernel_launcher.py:16: SettingWithCopyWarning: \n",
      "A value is trying to be set on a copy of a slice from a DataFrame.\n",
      "Try using .loc[row_indexer,col_indexer] = value instead\n",
      "\n",
      "See the caveats in the documentation: http://pandas.pydata.org/pandas-docs/stable/indexing.html#indexing-view-versus-copy\n",
      "  app.launch_new_instance()\n"
     ]
    },
    {
     "data": {
      "text/plain": [
       "372                          причина мутко зенитарене для адаптации потребуется 152 млрд рублей\n",
       "373                                              причина житель самары умер очереди поликлинике\n",
       "374                      причина президентский советник предложил ограничить интернет как китае\n",
       "375                                    причина казаков благословили защиту интернетпространства\n",
       "376    причина кстово полицейские сломали женщине лицевую кость когда отказалась показать грудь\n",
       "Name: cleaned, dtype: object"
      ]
     },
     "execution_count": 26,
     "metadata": {},
     "output_type": "execute_result"
    }
   ],
   "source": [
    "# remove short words (length < 3)\n",
    "df['cleaned'] = df['cleaned'].apply(lambda x: ' '.join([w for w in x.split() if len(w)>2]))\n",
    "\n",
    "# transform to lower-case\n",
    "df['cleaned'] = df['cleaned'].apply(lambda x: \" \".join(x.lower() for x in x.split()))\n",
    "#train['tweet'].head()\n",
    "\n",
    "#stop = set(stopwords.words('english'))\n",
    "stop = stopwords.words('english')\n",
    "\n",
    "#extend/add to stopwords - words that are commonly occuring but add no meaning\n",
    "#stopword_list += ['http', 'https', 'âµã', 'â½ã', 'â²ã', 'âºã', 'â¼ã', 'âµ']\n",
    "newStop = ['you','get', 'amp', 'one', 'new']\n",
    "stop.extend(newStop)\n",
    "\n",
    "df['cleaned'] = df['cleaned'].apply(lambda x: \" \".join(x for x in x.split() if x not in stop))\n",
    "df['cleaned'].head()"
   ]
  },
  {
   "cell_type": "code",
   "execution_count": 27,
   "metadata": {},
   "outputs": [],
   "source": [
    "#convert 'cleaned' Series to a list\n",
    "content = df['cleaned'].tolist()\n",
    "#content[:50]"
   ]
  },
  {
   "cell_type": "markdown",
   "metadata": {},
   "source": [
    "### Re-Check Fequency Distribution\n",
    "Re-check the word frequency distribution after doing some cleaning of the text."
   ]
  },
  {
   "cell_type": "code",
   "execution_count": 28,
   "metadata": {},
   "outputs": [],
   "source": [
    "# function to plot most frequent terms\n",
    "def freq_words(x, terms = 20):\n",
    "    ''' Take in a list of content, split into individual words, count occurrences, list 20 highest occurring words'''\n",
    "    all_words = ' '.join([text for text in x])\n",
    "    all_words = all_words.split()\n",
    "    fdist = FreqDist(all_words)\n",
    "    words_df = pd.DataFrame({'word':list(fdist.keys()), 'count':list(fdist.values())})\n",
    "    # selecting top 20 most frequent words\n",
    "    d = words_df.nlargest(columns=\"count\", n = terms)\n",
    "    return d"
   ]
  },
  {
   "cell_type": "code",
   "execution_count": 29,
   "metadata": {},
   "outputs": [
    {
     "name": "stdout",
     "output_type": "stream",
     "text": [
      "         word  count\n",
      "205    россии  31075\n",
      "149       что  29687\n",
      "8325      сша  24804\n",
      "3         для  22472\n",
      "19        как  18941\n",
      "21260     die  15502\n",
      "8270    сирии  15239\n",
      "5474      der  14460\n",
      "305       это  14182\n",
      "65       года  13751\n",
      "22252     und  11367\n",
      "10785   видео  11242\n",
      "136    россия  11075\n",
      "37      путин  10861\n",
      "10958     сми  10319\n",
      "8326     изза  10172\n",
      "169     после  10146\n",
      "8256   против  10085\n",
      "8387    будет   9985\n",
      "56        под   9740\n"
     ]
    }
   ],
   "source": [
    "counts = freq_words(content, 20)\n",
    "print(counts)"
   ]
  },
  {
   "cell_type": "markdown",
   "metadata": {},
   "source": [
    "### Plot most frequently occurring words "
   ]
  },
  {
   "cell_type": "code",
   "execution_count": 30,
   "metadata": {},
   "outputs": [
    {
     "data": {
      "image/png": "[encoded data removed]",
      "text/plain": [
       "<Figure size 1440x360 with 1 Axes>"
      ]
     },
     "metadata": {
      "needs_background": "light"
     },
     "output_type": "display_data"
    }
   ],
   "source": [
    "# Plot most frequent words\n",
    "plt.figure(figsize=(20,5))\n",
    "# rotate and right align group names\n",
    "plt.xticks(rotation=45, ha='right')\n",
    "ax = sns.barplot(data=counts, x= \"word\", y = \"count\")\n",
    "ax.set(ylabel = 'Count')\n",
    "ax.set(title = 'Top 20 Most Frequent Words')    \n",
    "plt.show()"
   ]
  },
  {
   "cell_type": "markdown",
   "metadata": {},
   "source": [
    "## Troll Amplification\n",
    "Examining the troll \"echo chamber\". Are trolls retweeting or mentioning other trolls?"
   ]
  },
  {
   "cell_type": "code",
   "execution_count": 31,
   "metadata": {},
   "outputs": [
    {
     "name": "stdout",
     "output_type": "stream",
     "text": [
      "937\n",
      "There are 937 trolls in the echo chamber.\n"
     ]
    }
   ],
   "source": [
    "# read list of users created during EDA\n",
    "users = pd.read_csv('../data/users_totals.csv', encoding='utf-8',low_memory=False)\n",
    "\n",
    "userlist = users['author'].tolist()\n",
    "lc_userlist = [x.lower() for x in userlist]\n",
    "lc_userlist.sort()\n",
    "\n",
    "amplify = cleaned_mentions_series[cleaned_mentions_series.isin(lc_userlist)]\n",
    "\n",
    "print(amplify.shape[0])\n",
    "\n",
    "# Get counts of amplified troll tweets\n",
    "amp_counts = amplify.value_counts()\n",
    "print(\"There are\",(amplify.shape[0]), \"trolls in the echo chamber.\")"
   ]
  },
  {
   "cell_type": "markdown",
   "metadata": {},
   "source": [
    "### Normalization\n",
    "3 distinct steps:  \n",
    "* stemming  \n",
    "* lemmatization  \n",
    "* everything else"
   ]
  },
  {
   "cell_type": "markdown",
   "metadata": {},
   "source": [
    "### Lemmatization"
   ]
  },
  {
   "cell_type": "code",
   "execution_count": 32,
   "metadata": {},
   "outputs": [
    {
     "name": "stderr",
     "output_type": "stream",
     "text": [
      "/Users/admin/anaconda3/lib/python3.6/site-packages/ipykernel_launcher.py:2: SettingWithCopyWarning: \n",
      "A value is trying to be set on a copy of a slice from a DataFrame.\n",
      "Try using .loc[row_indexer,col_indexer] = value instead\n",
      "\n",
      "See the caveats in the documentation: http://pandas.pydata.org/pandas-docs/stable/indexing.html#indexing-view-versus-copy\n",
      "  \n"
     ]
    },
    {
     "data": {
      "text/plain": [
       "372                          причина мутко зенитарене для адаптации потребуется 152 млрд рублей\n",
       "373                                              причина житель самары умер очереди поликлинике\n",
       "374                      причина президентский советник предложил ограничить интернет как китае\n",
       "375                                    причина казаков благословили защиту интернетпространства\n",
       "376    причина кстово полицейские сломали женщине лицевую кость когда отказалась показать грудь\n",
       "Name: cleaned, dtype: object"
      ]
     },
     "execution_count": 32,
     "metadata": {},
     "output_type": "execute_result"
    }
   ],
   "source": [
    "from textblob import Word\n",
    "df['cleaned'] = df['cleaned'].apply(lambda x: \" \".join([Word(word).lemmatize() for word in x.split()]))\n",
    "df['cleaned'].head()"
   ]
  },
  {
   "cell_type": "markdown",
   "metadata": {},
   "source": [
    "### Tokenize"
   ]
  },
  {
   "cell_type": "code",
   "execution_count": 33,
   "metadata": {},
   "outputs": [],
   "source": [
    "#create a list from df['cleaned']\n",
    "content_notags = df['cleaned'].tolist()\n",
    "\n",
    "# First, create a new column with the tokenized text\n",
    "from nltk.tokenize import TweetTokenizer\n",
    "tt = TweetTokenizer()\n",
    "#df['tokenized_text'] = df['content'].apply(tt.tokenize)\n",
    "# map tt.tokenize to 'content' list\n",
    "documents = list(map(tt.tokenize, content_notags))"
   ]
  },
  {
   "cell_type": "code",
   "execution_count": 34,
   "metadata": {},
   "outputs": [],
   "source": [
    "from collections import defaultdict\n",
    "\n",
    "frequency = defaultdict(int)\n",
    "for document in documents:\n",
    "    for token in document:\n",
    "        frequency[token] += 1"
   ]
  },
  {
   "cell_type": "code",
   "execution_count": 35,
   "metadata": {},
   "outputs": [],
   "source": [
    "documents = [[token for token in document if frequency[token] > 10] for document in documents]\n",
    "# create a dictionary using from gensim.corpora.Dictionary\n",
    "dictionary = corpora.Dictionary(documents)\n",
    "#Convert document (a list of words) into the bag-of-words format = list of (token_id, token_count) 2-tuples. \n",
    "corpus = [dictionary.doc2bow(document) for document in documents]"
   ]
  },
  {
   "cell_type": "code",
   "execution_count": 36,
   "metadata": {},
   "outputs": [
    {
     "data": {
      "text/plain": [
       "820803"
      ]
     },
     "execution_count": 36,
     "metadata": {},
     "output_type": "execute_result"
    }
   ],
   "source": [
    "len(corpus)"
   ]
  },
  {
   "cell_type": "markdown",
   "metadata": {},
   "source": [
    "## LDA Model\n",
    "Fit an LDA Model for the tweet topics"
   ]
  },
  {
   "cell_type": "code",
   "execution_count": 37,
   "metadata": {},
   "outputs": [],
   "source": [
    "# comment out once model is trained.\n",
    "# fit LDA model\n",
    "tweet_topics = LdaMulticore(corpus=corpus,\n",
    "                          id2word=dictionary,\n",
    "                          num_topics=10,\n",
    "                          passes=10,\n",
    "                          workers=2)"
   ]
  },
  {
   "cell_type": "code",
   "execution_count": 38,
   "metadata": {},
   "outputs": [],
   "source": [
    "# save/load model to/from disk\n",
    "\n",
    "temp_file = datapath(\"model_right_troll_tweets\")\n",
    "tweet_topics.save(temp_file)\n",
    "\n",
    "# Load a pretrained model from disk.\n",
    "#tweet_topics = LdaMulticore.load(\"model\")\n",
    "# - or -\n",
    "#m1 = LdaMulticore.load(datapath(\"lda_3_0_1_model\"))"
   ]
  },
  {
   "cell_type": "code",
   "execution_count": 39,
   "metadata": {},
   "outputs": [
    {
     "name": "stdout",
     "output_type": "stream",
     "text": [
      "0 --- (0, '0.015*\"сегодня\" + 0.013*\"день\" + 0.010*\"лет\" + 0.008*\"фото\" + 0.006*\"москве\" + 0.006*\"для\" + 0.006*\"пройдет\" + 0.006*\"новый\" + 0.006*\"через\" + 0.006*\"первый\"')\n",
      "1 --- (1, '0.023*\"сша\" + 0.021*\"россии\" + 0.014*\"путин\" + 0.013*\"против\" + 0.011*\"россия\" + 0.010*\"сирии\" + 0.010*\"санкции\" + 0.009*\"что\" + 0.008*\"для\" + 0.008*\"украины\"')\n",
      "2 --- (2, '0.021*\"году\" + 0.021*\"года\" + 0.020*\"2016\" + 0.020*\"2017\" + 0.014*\"рублей\" + 0.012*\"россии\" + 0.008*\"млн\" + 0.008*\"год\" + 0.008*\"более\" + 0.008*\"тысяч\"')\n",
      "3 --- (3, '0.029*\"сочи\" + 0.018*\"сирии\" + 0.014*\"die\" + 0.009*\"сша\" + 0.008*\"und\" + 0.007*\"для\" + 0.007*\"алеппо\" + 0.006*\"россии\" + 0.006*\"боевиков\" + 0.006*\"стали\"')\n",
      "4 --- (4, '0.018*\"der\" + 0.013*\"ist\" + 0.011*\"für\" + 0.008*\"sie\" + 0.007*\"merkel\" + 0.007*\"von\" + 0.006*\"den\" + 0.005*\"hyundai\" + 0.005*\"ein\" + 0.005*\"hat\"')\n",
      "5 --- (5, '0.017*\"под\" + 0.014*\"человек\" + 0.013*\"дтп\" + 0.011*\"при\" + 0.011*\"районе\" + 0.009*\"метро\" + 0.009*\"водитель\" + 0.008*\"фото\" + 0.008*\"видео\" + 0.008*\"изза\"')\n",
      "6 --- (6, '0.028*\"что\" + 0.022*\"как\" + 0.019*\"это\" + 0.013*\"все\" + 0.009*\"так\" + 0.008*\"когда\" + 0.007*\"если\" + 0.007*\"кто\" + 0.007*\"вот\" + 0.007*\"только\"')\n",
      "7 --- (7, '0.008*\"петербург\" + 0.007*\"кафе\" + 0.007*\"photo\" + 0.006*\"сирийская\" + 0.005*\"область\" + 0.005*\"тюменские\" + 0.005*\"kia\" + 0.005*\"района\" + 0.005*\"мчс\" + 0.004*\"via\"')\n",
      "8 --- (8, '0.012*\"сочи\" + 0.009*\"россии\" + 0.009*\"тюмени\" + 0.008*\"мира\" + 0.007*\"фото\" + 0.006*\"цска\" + 0.006*\"автор\" + 0.006*\"для\" + 0.006*\"ночи\" + 0.006*\"зенит\"')\n",
      "9 --- (9, '0.018*\"помощью\" + 0.006*\"под\" + 0.006*\"жителей\" + 0.005*\"ученые\" + 0.005*\"детей\" + 0.004*\"области\" + 0.004*\"для\" + 0.004*\"военные\" + 0.004*\"места\" + 0.004*\"участие\"')\n"
     ]
    }
   ],
   "source": [
    "# print out first 10 topics\n",
    "for i, topic in enumerate(tweet_topics.print_topics(10)):\n",
    "    print('{} --- {}'.format(i, topic))"
   ]
  },
  {
   "cell_type": "markdown",
   "metadata": {},
   "source": [
    "### Wordcloud\n",
    "Crate a basic word cloud of the topic groupings"
   ]
  },
  {
   "cell_type": "code",
   "execution_count": 40,
   "metadata": {},
   "outputs": [
    {
     "data": {
      "image/png": "[encoded data removed]",
      "text/plain": [
       "<Figure size 720x720 with 4 Axes>"
      ]
     },
     "metadata": {
      "needs_background": "light"
     },
     "output_type": "display_data"
    }
   ],
   "source": [
    "#Wordcloud of Top N words in each topic\n",
    "from matplotlib import pyplot as plt\n",
    "from wordcloud import WordCloud, STOPWORDS\n",
    "import matplotlib.colors as mcolors\n",
    "\n",
    "cols = [color for name, color in mcolors.TABLEAU_COLORS.items()]  # more colors: 'mcolors.XKCD_COLORS'\n",
    "\n",
    "cloud = WordCloud(stopwords=stop,\n",
    "                  background_color='white',\n",
    "                  width=2500,\n",
    "                  height=1800,\n",
    "                  max_words=10,\n",
    "                  colormap='tab10',\n",
    "                  color_func=lambda *args, **kwargs: cols[i],\n",
    "                  prefer_horizontal=1.0)\n",
    "\n",
    "topics = tweet_topics.show_topics(formatted=False)\n",
    "\n",
    "fig, axes = plt.subplots(2, 2, figsize=(10,10), sharex=True, sharey=True)\n",
    "\n",
    "for i, ax in enumerate(axes.flatten()):\n",
    "    fig.add_subplot(ax)\n",
    "    topic_words = dict(topics[i][1])\n",
    "    cloud.generate_from_frequencies(topic_words, max_font_size=300)\n",
    "    plt.gca().imshow(cloud)\n",
    "    plt.gca().set_title('Topic ' + str(i), fontdict=dict(size=16))\n",
    "    plt.gca().axis('off')\n",
    "\n",
    "\n",
    "plt.subplots_adjust(wspace=0, hspace=0)\n",
    "plt.axis('off')\n",
    "plt.margins(x=0, y=0)\n",
    "plt.tight_layout()\n",
    "plt.show()"
   ]
  },
  {
   "cell_type": "markdown",
   "metadata": {},
   "source": [
    "### Use pyLDAvis library to Visualize Topics"
   ]
  },
  {
   "cell_type": "code",
   "execution_count": 41,
   "metadata": {},
   "outputs": [],
   "source": [
    "## Try the pyLDAvis visualization\n",
    "import pyLDAvis.gensim as gensimvis\n",
    "import pyLDAvis"
   ]
  },
  {
   "cell_type": "code",
   "execution_count": 42,
   "metadata": {},
   "outputs": [
    {
     "ename": "NameError",
     "evalue": "name 'got' is not defined",
     "output_type": "error",
     "traceback": [
      "\u001b[0;31m---------------------------------------------------------------------------\u001b[0m",
      "\u001b[0;31mNameError\u001b[0m                                 Traceback (most recent call last)",
      "\u001b[0;32m<ipython-input-42-029d7f36aad8>\u001b[0m in \u001b[0;36m<module>\u001b[0;34m\u001b[0m\n\u001b[0;32m----> 1\u001b[0;31m \u001b[0mgot\u001b[0m\u001b[0;31m# http://tlfvincent.github.io/2015/10/23/presidential-speech-topics/#topic=1&lambda=1&term=\u001b[0m\u001b[0;34m\u001b[0m\u001b[0;34m\u001b[0m\u001b[0m\n\u001b[0m\u001b[1;32m      2\u001b[0m \u001b[0mvis_data\u001b[0m \u001b[0;34m=\u001b[0m \u001b[0mgensimvis\u001b[0m\u001b[0;34m.\u001b[0m\u001b[0mprepare\u001b[0m\u001b[0;34m(\u001b[0m\u001b[0mtweet_topics\u001b[0m\u001b[0;34m,\u001b[0m \u001b[0mcorpus\u001b[0m\u001b[0;34m,\u001b[0m \u001b[0mdictionary\u001b[0m\u001b[0;34m)\u001b[0m\u001b[0;34m\u001b[0m\u001b[0;34m\u001b[0m\u001b[0m\n\u001b[1;32m      3\u001b[0m \u001b[0mpyLDAvis\u001b[0m\u001b[0;34m.\u001b[0m\u001b[0mdisplay\u001b[0m\u001b[0;34m(\u001b[0m\u001b[0mvis_data\u001b[0m\u001b[0;34m)\u001b[0m\u001b[0;34m\u001b[0m\u001b[0;34m\u001b[0m\u001b[0m\n",
      "\u001b[0;31mNameError\u001b[0m: name 'got' is not defined"
     ]
    }
   ],
   "source": [
    "got# http://tlfvincent.github.io/2015/10/23/presidential-speech-topics/#topic=1&lambda=1&term=\n",
    "vis_data = gensimvis.prepare(tweet_topics, corpus, dictionary)\n",
    "pyLDAvis.display(vis_data)"
   ]
  },
  {
   "cell_type": "markdown",
   "metadata": {},
   "source": [
    "### Output Visualization Tool to HTML"
   ]
  },
  {
   "cell_type": "code",
   "execution_count": null,
   "metadata": {},
   "outputs": [],
   "source": [
    "# save viz output to an HTML file\n",
    "vis_data = gensimvis.prepare(tweet_topics, corpus, dictionary)\n",
    "\n",
    "pyLDAvis.save_html(vis_data, 'pyLDAviz_NonEnglish-troll.html')"
   ]
  },
  {
   "cell_type": "markdown",
   "metadata": {},
   "source": [
    "### Next, examine the hashtags and topics of each troll group\n",
    "Analyze the hashtags, mentions, and topics of each of the seven \"troll classes\", as defined by Clemson University's Darren Linvill and Patrick Warren in their analysis of the Russian Troll Farm Twitter data."
   ]
  }
 ],
 "metadata": {
  "hide_input": false,
  "kernelspec": {
   "display_name": "Python 3",
   "language": "python",
   "name": "python3"
  },
  "language_info": {
   "codemirror_mode": {
    "name": "ipython",
    "version": 3
   },
   "file_extension": ".py",
   "mimetype": "text/x-python",
   "name": "python",
   "nbconvert_exporter": "python",
   "pygments_lexer": "ipython3",
   "version": "3.6.7"
  }
 },
 "nbformat": 4,
 "nbformat_minor": 2
}
