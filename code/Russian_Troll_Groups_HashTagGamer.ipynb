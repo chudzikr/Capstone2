{
 "cells": [
  {
   "cell_type": "markdown",
   "metadata": {},
   "source": [
    "# Capstone 2 Project - Russian Troll Groups - HashTagGamer"
   ]
  },
  {
   "cell_type": "markdown",
   "metadata": {},
   "source": [
    "In the analysis of each troll group, each of the troll groups* will be segmented out and analyzed each individually.  The \"troll classes\", as defined by Clemson University's Darren Linvill and Patrick Warren in their analysis of the Russian Troll Farm Twitter data.\n",
    "\n",
    "I will analyze the Troll Groups to explore questions about the nature of the disinformation campaign, such as:\n",
    "* Did other trolls retweet and amplify troll tweets?\n",
    "* Can common topics or themes be identified?\n",
    "* What were the most-used hashtags?\n",
    "* Did the tweets predominantly support one candidate or political party, or seek to undermine the other?"
   ]
  },
  {
   "cell_type": "markdown",
   "metadata": {},
   "source": [
    "## Data Dictionary\n",
    "\n",
    "Header | Definition\n",
    "-------|---------\n",
    "`external_author_id` | An author account ID from Twitter \n",
    "`author` | The handle sending the tweet\n",
    "`content` | The text of the tweet\n",
    "`region` | A region classification, as [determined by Social Studio](https://help.salesforce.com/articleView?   id=000199367&type=1)\n",
    "`language` | The language of the tweet\n",
    "`publish_date` | The date and time the tweet was sent\n",
    "`harvested_date` | The date and time the tweet was collected by Social Studio\n",
    "`following` | The number of accounts the handle was following at the time of the tweet\n",
    "`followers` | The number of followers the handle had at the time of the tweet\n",
    "`updates` | The number of “update actions” on the account that authored the tweet, including tweets, retweets and likes\n",
    "`post_type` | Indicates if the tweet was a retweet or a quote-tweet\n",
    "`account_type` | Specific account theme, as coded by Linvill and Warren\n",
    "`retweet` | A binary indicator of whether or not the tweet is a retweet\n",
    "`account_category` | General account theme, as coded by Linvill and Warren\n",
    "`new_june_2018` | A binary indicator of whether the handle was newly listed in June 2018"
   ]
  },
  {
   "cell_type": "code",
   "execution_count": 1,
   "metadata": {},
   "outputs": [],
   "source": [
    "# import standard libraries\n",
    "import pandas as pd\n",
    "pd.set_option(\"display.max_colwidth\", 200)\n",
    "#import numpy as np\n",
    "#import datetime\n",
    "import re\n",
    "import matplotlib.pyplot as plt\n",
    "import seaborn as sns\n",
    "#get_ipython().run_line_magic('matplotlib', 'inline')"
   ]
  },
  {
   "cell_type": "code",
   "execution_count": 2,
   "metadata": {},
   "outputs": [],
   "source": [
    "# import nltk libraries\n",
    "from nltk.corpus import stopwords\n",
    "from nltk import FreqDist\n",
    "#nltk.download('stopwords') # run one time"
   ]
  },
  {
   "cell_type": "code",
   "execution_count": 3,
   "metadata": {},
   "outputs": [],
   "source": [
    "# import gensim libraries\n",
    "from gensim.models.ldamulticore import LdaMulticore\n",
    "from gensim.test.utils import datapath\n",
    "from gensim import corpora\n",
    "from gensim.utils import any2unicode"
   ]
  },
  {
   "cell_type": "code",
   "execution_count": 4,
   "metadata": {},
   "outputs": [],
   "source": [
    "#suppress pandas future warnings\n",
    "import warnings\n",
    "warnings.simplefilter(action='ignore', category=FutureWarning)"
   ]
  },
  {
   "cell_type": "code",
   "execution_count": 5,
   "metadata": {},
   "outputs": [],
   "source": [
    "# encoding='utf-8',\n",
    "#right_troll = pd.read_csv('../data/right_troll.csv', parse_dates = ['publish_date'], low_memory=False)\n",
    "#nonenglish = pd.read_csv('../data/nonenglish.csv', parse_dates = ['publish_date'], low_memory=False)\n",
    "#fearmonger = pd.read_csv('../data/fearmonger.csv', parse_dates = ['publish_date'], low_memory=False)\n",
    "#left_troll = pd.read_csv('../data/left_troll.csv', parse_dates = ['publish_date'], low_memory=False)\n",
    "#hashtagamer = pd.read_csv('../data/hashtagamer.csv', parse_dates = ['publish_date'], low_memory=False)\n",
    "#newsfeed = pd.read_csv('../data/newsfeed.csv', parse_dates = ['publish_date'], low_memory=False)\n",
    "#commercial = pd.read_csv('../data/commercial.csv', parse_dates = ['publish_date'], low_memory=False)\n",
    "# print(df.shape)"
   ]
  },
  {
   "cell_type": "code",
   "execution_count": 6,
   "metadata": {},
   "outputs": [],
   "source": [
    "# read each troll classification file as 'df', for repurposing code for each class\n",
    "# nrows=100, \n",
    "full_df = pd.read_csv('../data/all_IRAhandle_tweets.csv', parse_dates = ['publish_date'], low_memory=False)\n",
    "name = 'Right Troll'"
   ]
  },
  {
   "cell_type": "code",
   "execution_count": 7,
   "metadata": {},
   "outputs": [
    {
     "data": {
      "text/plain": [
       "array(['RightTroll', 'NonEnglish', 'Fearmonger', 'LeftTroll', 'Unknown',\n",
       "       'HashtagGamer', 'NewsFeed', 'Commercial'], dtype=object)"
      ]
     },
     "execution_count": 7,
     "metadata": {},
     "output_type": "execute_result"
    }
   ],
   "source": [
    "full_df['account_category'].unique()"
   ]
  },
  {
   "cell_type": "code",
   "execution_count": 8,
   "metadata": {},
   "outputs": [],
   "source": [
    "df = full_df[full_df['account_category'] == \"HashtagGamer\"]"
   ]
  },
  {
   "cell_type": "code",
   "execution_count": 9,
   "metadata": {},
   "outputs": [],
   "source": [
    "#Explicitly state that DF is a copy of full_df\n",
    "df.is_copy = True\n",
    "#df.drop('Unnamed: 0', axis=1, inplace=True)\n",
    "# drop rows with problematic character encoding\n",
    "#df.drop([58, 59], axis=0, inplace=True)\n",
    "#df.head()"
   ]
  },
  {
   "cell_type": "code",
   "execution_count": 10,
   "metadata": {},
   "outputs": [
    {
     "name": "stderr",
     "output_type": "stream",
     "text": [
      "/Users/admin/anaconda3/lib/python3.6/site-packages/ipykernel_launcher.py:1: SettingWithCopyWarning: \n",
      "A value is trying to be set on a copy of a slice from a DataFrame.\n",
      "Try using .loc[row_indexer,col_indexer] = value instead\n",
      "\n",
      "See the caveats in the documentation: http://pandas.pydata.org/pandas-docs/stable/indexing.html#indexing-view-versus-copy\n",
      "  \"\"\"Entry point for launching an IPython kernel.\n"
     ]
    }
   ],
   "source": [
    "df['cleaned'] = df['content'].fillna('').astype(str).map(any2unicode)"
   ]
  },
  {
   "cell_type": "markdown",
   "metadata": {},
   "source": [
    "## Text Preprocessing\n",
    "* Noise Removal\n",
    "* Tokenization\n",
    "* Normalization  \n",
    "(1) stemming\n",
    "(2) lemmatization, and \n",
    "(3) everything else"
   ]
  },
  {
   "cell_type": "markdown",
   "metadata": {},
   "source": [
    "### Remove URLs and non-English Characters"
   ]
  },
  {
   "cell_type": "code",
   "execution_count": 11,
   "metadata": {},
   "outputs": [],
   "source": [
    "def preprocess_text(text):\n",
    "    '''Remove URLs and Non-English characters, except for @ and #'''\n",
    "    # remove URL's\n",
    "    text = re.sub(r'\\w+:\\/{2}[\\d\\w-]+(\\.[\\d\\w-]+)*(?:(?:\\/[^\\s/]*))*', '', text)\n",
    "\n",
    "    # remove symbols excluding the @, # and \\s symbol\n",
    "    text = re.sub(r'[^\\w@#\\s]', '', text)\n",
    "\n",
    "    # remove URL's\n",
    "    text = re.sub('(https://[^\\s]+)', '', text)\n",
    "    text = re.sub('https?://[A-Za-z0-9./]+', '', text)\n",
    "\n",
    "    # remove URL's\n",
    "    text = re.sub('http?://[A-Za-z0-9./]+', '', text)\n",
    "\n",
    "    # lowercase, remove words less than len 2 & remove numbers in tokenized list\n",
    "    #return [word.lower() for word in text if len(word) > 2 and not word.isdigit() and not word in ignore_words]\n",
    "    return text"
   ]
  },
  {
   "cell_type": "code",
   "execution_count": 12,
   "metadata": {},
   "outputs": [
    {
     "name": "stderr",
     "output_type": "stream",
     "text": [
      "/Users/admin/anaconda3/lib/python3.6/site-packages/ipykernel_launcher.py:1: SettingWithCopyWarning: \n",
      "A value is trying to be set on a copy of a slice from a DataFrame.\n",
      "Try using .loc[row_indexer,col_indexer] = value instead\n",
      "\n",
      "See the caveats in the documentation: http://pandas.pydata.org/pandas-docs/stable/indexing.html#indexing-view-versus-copy\n",
      "  \"\"\"Entry point for launching an IPython kernel.\n"
     ]
    }
   ],
   "source": [
    "df['cleaned'] = df['cleaned'].apply(preprocess_text)"
   ]
  },
  {
   "cell_type": "markdown",
   "metadata": {},
   "source": [
    "### Hashtag Analysis"
   ]
  },
  {
   "cell_type": "code",
   "execution_count": 13,
   "metadata": {},
   "outputs": [],
   "source": [
    "# regex to find hashtags\n",
    "hashtag_re = re.compile(\"(?:^|\\s)[＃#]{1}(\\w+)\", re.UNICODE)\n",
    "\n",
    "def extract_hashtags(tweet):\n",
    "    '''Take in tweet contents from 'cleaned' content, extract hashtags and return cleaned text'''\n",
    "    hashtags_only = []\n",
    "    if len(re.findall(hashtag_re, tweet)) > 0:\n",
    "        hashtags_only.append(re.findall(hashtag_re, tweet))\n",
    "    else:\n",
    "        hashtags_only.append([\"0\"])\n",
    "    return hashtags_only[0]"
   ]
  },
  {
   "cell_type": "code",
   "execution_count": 14,
   "metadata": {},
   "outputs": [
    {
     "name": "stderr",
     "output_type": "stream",
     "text": [
      "/Users/admin/anaconda3/lib/python3.6/site-packages/ipykernel_launcher.py:2: SettingWithCopyWarning: \n",
      "A value is trying to be set on a copy of a slice from a DataFrame.\n",
      "Try using .loc[row_indexer,col_indexer] = value instead\n",
      "\n",
      "See the caveats in the documentation: http://pandas.pydata.org/pandas-docs/stable/indexing.html#indexing-view-versus-copy\n",
      "  \n"
     ]
    },
    {
     "data": {
      "text/plain": [
       "15045            [ItWasJustThatOneTime]\n",
       "15046                               [0]\n",
       "15047    [TodayIsGoingToBeGreatBecause]\n",
       "15048                               [0]\n",
       "15049    [TodayIsGoingToBeGreatBecause]\n",
       "15050                        [SexAFilm]\n",
       "15051            [FiveWordsToRuinADate]\n",
       "15052                [2017SurvivalTips]\n",
       "15053                  [DiaryNgMALANDI]\n",
       "15054                           [smart]\n",
       "15055                               [0]\n",
       "15056                               [0]\n",
       "15057                     [BradPaisley]\n",
       "15058                               [0]\n",
       "15059                               [0]\n",
       "15060                      [DisneyFact]\n",
       "15061                               [0]\n",
       "15062                     [quote, true]\n",
       "15063                               [0]\n",
       "15064                               [0]\n",
       "15065                               [0]\n",
       "15066                               [0]\n",
       "15067                           [alone]\n",
       "15068                       [USA, imho]\n",
       "15069                               [0]\n",
       "Name: hashtags, dtype: object"
      ]
     },
     "execution_count": 14,
     "metadata": {},
     "output_type": "execute_result"
    }
   ],
   "source": [
    "# Create a new column to store hashtags, extract hashtags from 'content'\n",
    "df['hashtags'] = df['cleaned'].map(extract_hashtags)\n",
    "df['hashtags'].head(25)"
   ]
  },
  {
   "cell_type": "code",
   "execution_count": 15,
   "metadata": {},
   "outputs": [],
   "source": [
    "# remove all hashtags from a tweet\n",
    "def remove_hashtags(tweet):\n",
    "    '''After extracting hashtags, take in tweet content and remove hashtags'''\n",
    "    hashtags_only = []\n",
    "    if len(re.findall(hashtag_re, tweet)) > 0:\n",
    "        tweet = re.sub(hashtag_re, \"\", tweet)\n",
    "    hashtags_only.append(tweet)\n",
    "    return hashtags_only[0]"
   ]
  },
  {
   "cell_type": "code",
   "execution_count": 16,
   "metadata": {},
   "outputs": [
    {
     "name": "stderr",
     "output_type": "stream",
     "text": [
      "/Users/admin/anaconda3/lib/python3.6/site-packages/ipykernel_launcher.py:2: SettingWithCopyWarning: \n",
      "A value is trying to be set on a copy of a slice from a DataFrame.\n",
      "Try using .loc[row_indexer,col_indexer] = value instead\n",
      "\n",
      "See the caveats in the documentation: http://pandas.pydata.org/pandas-docs/stable/indexing.html#indexing-view-versus-copy\n",
      "  \n"
     ]
    }
   ],
   "source": [
    "# Clean hashtags fron 'cleaned' content\n",
    "df['cleaned'] = df['cleaned'].apply(remove_hashtags)"
   ]
  },
  {
   "cell_type": "code",
   "execution_count": 17,
   "metadata": {},
   "outputs": [
    {
     "name": "stdout",
     "output_type": "stream",
     "text": [
      "0                                    35561\n",
      "ToDoListBeforeChristmas               3416\n",
      "ThingsYouCantIgnore                   2951\n",
      "IGetDepressedWhen                     2485\n",
      "2016In4Words                          2479\n",
      "IHatePokemonGoBecause                 2462\n",
      "MustBeBanned                          2402\n",
      "AlternativeAcronymInterpretations     2172\n",
      "IStartCryingWhen                      2147\n",
      "GiftIdeasForPoliticians               2090\n",
      "RejectedDebateTopics                  2089\n",
      "ToAvoidWorkI                          2008\n",
      "DontTellAnyoneBut                     1898\n",
      "MyOlympicSportWouldBe                 1851\n",
      "ToFeelBetterI                         1806\n",
      "ObamasWishList                        1760\n",
      "BetterAlternativeToDebates            1720\n",
      "ChristmasAftermath                    1709\n",
      "ChildrenThinkThat                     1638\n",
      "ThingsThatShouldBeCensored            1591\n",
      "ValentinesDayIn3Words                 1568\n",
      "ObamaNextJob                          1556\n",
      "INeedALawyerBecause                   1524\n",
      "SecondhandGifts                       1523\n",
      "WhenIWasYoung                         1501\n",
      "dtype: int64\n"
     ]
    }
   ],
   "source": [
    "# create a list of all hashtags\n",
    "all_hashtags = df['hashtags'].tolist()\n",
    "\n",
    "# all_hashtags is a list of lists.\n",
    "cleaned_hashtags = []\n",
    "for i in all_hashtags:\n",
    "    for j in i:\n",
    "            cleaned_hashtags.append(j)\n",
    "\n",
    "# remove the '0' from the list\n",
    "def remove_values_from_list(the_list, val):\n",
    "   return [value for value in the_list if value != val]\n",
    "\n",
    "# cleaned_hashtags list\n",
    "cleaned_hashtags = remove_values_from_list(cleaned_hashtags, 0)\n",
    "\n",
    "# Convert cleaned_hashtags to a series and count the most frequent occuring\n",
    "cleaned_hashtag_series = pd.Series(cleaned_hashtags)\n",
    "hashtag_counts = cleaned_hashtag_series.value_counts()\n",
    "print(hashtag_counts[:25])"
   ]
  },
  {
   "cell_type": "markdown",
   "metadata": {},
   "source": [
    "### Get User Mentions"
   ]
  },
  {
   "cell_type": "code",
   "execution_count": 18,
   "metadata": {},
   "outputs": [],
   "source": [
    "#Regex to get user mentions \"@\":\n",
    "# New Regex\n",
    "twitter_username_re = re.compile(\"(?<=^|(?<=[^a-zA-Z0-9-_\\.]))@([A-Za-z]+[A-Za-z0-9-_]+)\", re.UNICODE)\n",
    "\n",
    "def extract_usermentions(tweet):\n",
    "    '''Take in tweet contents from 'cleaned' col and extract user mentions'''\n",
    "    mentions_only = []\n",
    "    if len(re.findall(twitter_username_re, tweet)) > 0:\n",
    "        mentions_only.append(re.findall(twitter_username_re, tweet))\n",
    "    else:\n",
    "        mentions_only.append([\"0\"])\n",
    "    return mentions_only[0]"
   ]
  },
  {
   "cell_type": "code",
   "execution_count": 19,
   "metadata": {},
   "outputs": [
    {
     "name": "stderr",
     "output_type": "stream",
     "text": [
      "/Users/admin/anaconda3/lib/python3.6/site-packages/ipykernel_launcher.py:2: SettingWithCopyWarning: \n",
      "A value is trying to be set on a copy of a slice from a DataFrame.\n",
      "Try using .loc[row_indexer,col_indexer] = value instead\n",
      "\n",
      "See the caveats in the documentation: http://pandas.pydata.org/pandas-docs/stable/indexing.html#indexing-view-versus-copy\n",
      "  \n"
     ]
    },
    {
     "data": {
      "text/plain": [
       "15045    [GooglyTags, googlygirl98]\n",
       "15046                           [0]\n",
       "15047                           [I]\n",
       "15048                           [0]\n",
       "15049                           [I]\n",
       "15050                    [If, know]\n",
       "15051                           [0]\n",
       "15052                         [Ask]\n",
       "15053                           [0]\n",
       "15054                           [0]\n",
       "Name: mentions, dtype: object"
      ]
     },
     "execution_count": 19,
     "metadata": {},
     "output_type": "execute_result"
    }
   ],
   "source": [
    "# make a new column to store the extracted mentions\n",
    "df['mentions'] = df['cleaned'].map(extract_usermentions)\n",
    "df['mentions'].head(10)"
   ]
  },
  {
   "cell_type": "code",
   "execution_count": 20,
   "metadata": {},
   "outputs": [
    {
     "name": "stdout",
     "output_type": "stream",
     "text": [
      "0                 84286\n",
      "I                 14129\n",
      "midnight           7135\n",
      "the                2779\n",
      "Im                 2653\n",
      "The                2590\n",
      "my                 2507\n",
      "you                2383\n",
      "a                  1869\n",
      "@midnight          1837\n",
      "Id                 1658\n",
      "A                  1423\n",
      "to                 1165\n",
      "GiselleEvns        1101\n",
      "is                 1076\n",
      "that               1000\n",
      "they                964\n",
      "You                 933\n",
      "when                866\n",
      "people              864\n",
      "My                  809\n",
      "i                   802\n",
      "it                  775\n",
      "HashtagRoundup      743\n",
      "your                732\n",
      "dtype: int64\n"
     ]
    }
   ],
   "source": [
    "# create a list of all mentions\n",
    "all_mentions = df['mentions'].tolist()\n",
    "\n",
    "# all_hashtags is a list of lists.\n",
    "cleaned_mentions = []\n",
    "for i in all_mentions:\n",
    "    for j in i:\n",
    "            cleaned_mentions.append(j)\n",
    "\n",
    "# remove the '0' from the list\n",
    "def remove_values_from_list(the_list, val):\n",
    "   return [value for value in the_list if value != val]\n",
    "\n",
    "# cleaned_mentions list\n",
    "cleaned_mentions = remove_values_from_list(cleaned_mentions, 0)\n",
    "\n",
    "# Convert cleaned_hashtags to a series and count the most frequent occuring\n",
    "cleaned_mentions_series = pd.Series(cleaned_mentions)\n",
    "mention_counts = cleaned_mentions_series.value_counts()\n",
    "# remove first element with values of '0'\n",
    "# mention_counts = del mention_counts[0]\n",
    "print(mention_counts[:25])"
   ]
  },
  {
   "cell_type": "code",
   "execution_count": 21,
   "metadata": {},
   "outputs": [],
   "source": [
    "# remove all mentions from a tweet\n",
    "def remove_mentions(tweet):\n",
    "    '''Take tweet content and remove @mentions from it'''\n",
    "    mentions_only = []\n",
    "    if len(re.findall(\"(?<=^|(?<=[^a-zA-Z0-9-_\\.]))@([A-Za-z]+[A-Za-z0-9-_]+)\", tweet)) > 0:\n",
    "        tweet = re.sub(\"(?<=^|(?<=[^a-zA-Z0-9-_\\.]))@([A-Za-z]+[A-Za-z0-9-_]+)\", \"\", tweet)\n",
    "    mentions_only.append(tweet)\n",
    "    return mentions_only[0]"
   ]
  },
  {
   "cell_type": "code",
   "execution_count": 22,
   "metadata": {},
   "outputs": [
    {
     "name": "stderr",
     "output_type": "stream",
     "text": [
      "/Users/admin/anaconda3/lib/python3.6/site-packages/ipykernel_launcher.py:2: SettingWithCopyWarning: \n",
      "A value is trying to be set on a copy of a slice from a DataFrame.\n",
      "Try using .loc[row_indexer,col_indexer] = value instead\n",
      "\n",
      "See the caveats in the documentation: http://pandas.pydata.org/pandas-docs/stable/indexing.html#indexing-view-versus-copy\n",
      "  \n"
     ]
    }
   ],
   "source": [
    "#create list of content with no hashtags\n",
    "df['cleaned'] = df['cleaned'].apply(remove_mentions)"
   ]
  },
  {
   "cell_type": "code",
   "execution_count": 23,
   "metadata": {},
   "outputs": [],
   "source": [
    "# remove unwanted characters, numbers and symbols from the remaining content\n",
    "#df['cleaned'] = df['cleaned'].str.replace(\"[^a-zA-Z#]\", \" \")"
   ]
  },
  {
   "cell_type": "markdown",
   "metadata": {},
   "source": [
    "### Create dataframes for the troll classifications\n",
    "Create dataframes for each troll classification, for easier size to work with."
   ]
  },
  {
   "cell_type": "code",
   "execution_count": 24,
   "metadata": {},
   "outputs": [],
   "source": [
    "#right_troll = df.loc[df['account_category'] == 'RightTroll']\n",
    "#nonenglish = df.loc[df['account_category'] == 'NonEnglish']\n",
    "#fearmonger = df.loc[df['account_category'] == 'Fearmonger']\n",
    "#left_troll = df.loc[df['account_category'] == 'LeftTroll']\n",
    "#hashtagamer = df.loc[df['account_category'] == 'HashtagGamer']\n",
    "#newsfeed = df.loc[df['account_category'] == 'NewsFeed']\n",
    "#commercial = df.loc[df['account_category'] == 'Commercial']"
   ]
  },
  {
   "cell_type": "code",
   "execution_count": 25,
   "metadata": {},
   "outputs": [],
   "source": [
    "#right_troll.to_csv(\"../data/right_troll.csv\")\n",
    "#nonenglish.to_csv(\"../data/nonenglish.csv\")\n",
    "#fearmonger.to_csv(\"../data/fearmonger.csv\")\n",
    "#left_troll.to_csv(\"../data/left_troll.csv\")\n",
    "#hashtagamer.to_csv(\"../data/hashtagamer.csv\")\n",
    "#newsfeed.to_csv(\"../data/newsfeed.csv\")\n",
    "#commercial.to_csv(\"../data/commercial.csv\")"
   ]
  },
  {
   "cell_type": "markdown",
   "metadata": {},
   "source": [
    "## Remove stopwords\n",
    "Remove words < 3 letters, convert to lower case"
   ]
  },
  {
   "cell_type": "code",
   "execution_count": 26,
   "metadata": {},
   "outputs": [
    {
     "data": {
      "text/plain": [
       "15045                                                                                                           This weeks  hosted by  is\n",
       "15046    The time spent by senators of the presidents own party asking about situations where POTUS might misbehave seems abnormally high\n",
       "15047                                                  I choose to not give a fuck what anyone says or does Its my life and I live for me\n",
       "15048                                In all seriousness if Sessions goes after porno Trump is gonna lose the Anime Nazis once and for all\n",
       "15049                                                                                                                        I have wine \n",
       "Name: cleaned, dtype: object"
      ]
     },
     "execution_count": 26,
     "metadata": {},
     "output_type": "execute_result"
    }
   ],
   "source": [
    "df.cleaned.head()"
   ]
  },
  {
   "cell_type": "code",
   "execution_count": 27,
   "metadata": {},
   "outputs": [
    {
     "name": "stderr",
     "output_type": "stream",
     "text": [
      "/Users/admin/anaconda3/lib/python3.6/site-packages/ipykernel_launcher.py:2: SettingWithCopyWarning: \n",
      "A value is trying to be set on a copy of a slice from a DataFrame.\n",
      "Try using .loc[row_indexer,col_indexer] = value instead\n",
      "\n",
      "See the caveats in the documentation: http://pandas.pydata.org/pandas-docs/stable/indexing.html#indexing-view-versus-copy\n",
      "  \n",
      "/Users/admin/anaconda3/lib/python3.6/site-packages/ipykernel_launcher.py:5: SettingWithCopyWarning: \n",
      "A value is trying to be set on a copy of a slice from a DataFrame.\n",
      "Try using .loc[row_indexer,col_indexer] = value instead\n",
      "\n",
      "See the caveats in the documentation: http://pandas.pydata.org/pandas-docs/stable/indexing.html#indexing-view-versus-copy\n",
      "  \"\"\"\n",
      "/Users/admin/anaconda3/lib/python3.6/site-packages/ipykernel_launcher.py:16: SettingWithCopyWarning: \n",
      "A value is trying to be set on a copy of a slice from a DataFrame.\n",
      "Try using .loc[row_indexer,col_indexer] = value instead\n",
      "\n",
      "See the caveats in the documentation: http://pandas.pydata.org/pandas-docs/stable/indexing.html#indexing-view-versus-copy\n",
      "  app.launch_new_instance()\n"
     ]
    },
    {
     "data": {
      "text/plain": [
       "15045                                                                                          weeks hosted\n",
       "15046    time spent senators presidents party asking situations potus might misbehave seems abnormally high\n",
       "15047                                                                choose give fuck anyone says life live\n",
       "15048                                          seriousness sessions goes porno trump gonna lose anime nazis\n",
       "15049                                                                                                  wine\n",
       "Name: cleaned, dtype: object"
      ]
     },
     "execution_count": 27,
     "metadata": {},
     "output_type": "execute_result"
    }
   ],
   "source": [
    "# remove short words (length < 3)\n",
    "df['cleaned'] = df['cleaned'].apply(lambda x: ' '.join([w for w in x.split() if len(w)>2]))\n",
    "\n",
    "# transform to lower-case\n",
    "df['cleaned'] = df['cleaned'].apply(lambda x: \" \".join(x.lower() for x in x.split()))\n",
    "#train['tweet'].head()\n",
    "\n",
    "#stop = set(stopwords.words('english'))\n",
    "stop = stopwords.words('english')\n",
    "\n",
    "#extend/add to stopwords - words that are commonly occuring but add no meaning\n",
    "#stopword_list += ['http', 'https', 'âµã', 'â½ã', 'â²ã', 'âºã', 'â¼ã', 'âµ']\n",
    "newStop = ['you','get', 'amp', 'one', 'new']\n",
    "stop.extend(newStop)\n",
    "\n",
    "df['cleaned'] = df['cleaned'].apply(lambda x: \" \".join(x for x in x.split() if x not in stop))\n",
    "df['cleaned'].head()"
   ]
  },
  {
   "cell_type": "code",
   "execution_count": 28,
   "metadata": {},
   "outputs": [],
   "source": [
    "#convert 'cleaned' Series to a list\n",
    "content = df['cleaned'].tolist()\n",
    "#content[:50]"
   ]
  },
  {
   "cell_type": "markdown",
   "metadata": {},
   "source": [
    "### Re-Check Fequency Distribution\n",
    "Re-check the word frequency distribution after doing some cleaning of the text."
   ]
  },
  {
   "cell_type": "code",
   "execution_count": 29,
   "metadata": {},
   "outputs": [],
   "source": [
    "# function to plot most frequent terms\n",
    "def freq_words(x, terms = 20):\n",
    "    ''' Take in a list of content, split into individual words, count occurrences, list 20 highest occurring words'''\n",
    "    all_words = ' '.join([text for text in x])\n",
    "    all_words = all_words.split()\n",
    "    fdist = FreqDist(all_words)\n",
    "    words_df = pd.DataFrame({'word':list(fdist.keys()), 'count':list(fdist.values())})\n",
    "    # selecting top 20 most frequent words\n",
    "    d = words_df.nlargest(columns=\"count\", n = terms)\n",
    "    return d"
   ]
  },
  {
   "cell_type": "code",
   "execution_count": 30,
   "metadata": {},
   "outputs": [
    {
     "name": "stdout",
     "output_type": "stream",
     "text": [
      "       word  count\n",
      "169    dont   9086\n",
      "131    like   8251\n",
      "145  people   6923\n",
      "483   would   4890\n",
      "239    make   4788\n",
      "76     love   4521\n",
      "26    trump   4281\n",
      "2      time   4024\n",
      "36     know   3755\n",
      "584     day   3660\n",
      "89    never   3529\n",
      "136    want   3526\n",
      "135   youre   3480\n",
      "501    good   3420\n",
      "54     cant   3298\n",
      "20     life   3130\n",
      "186   think   3082\n",
      "315  really   2866\n",
      "274    best   2817\n",
      "70     back   2815\n"
     ]
    }
   ],
   "source": [
    "counts = freq_words(content, 20)\n",
    "print(counts)"
   ]
  },
  {
   "cell_type": "markdown",
   "metadata": {},
   "source": [
    "### Plot most frequently occurring words "
   ]
  },
  {
   "cell_type": "code",
   "execution_count": 31,
   "metadata": {},
   "outputs": [
    {
     "data": {
      "image/png": "[encoded data removed]",
      "text/plain": [
       "<Figure size 1440x360 with 1 Axes>"
      ]
     },
     "metadata": {
      "needs_background": "light"
     },
     "output_type": "display_data"
    }
   ],
   "source": [
    "# Plot most frequent words\n",
    "plt.figure(figsize=(20,5))\n",
    "# rotate and right align group names\n",
    "plt.xticks(rotation=45, ha='right')\n",
    "ax = sns.barplot(data=counts, x= \"word\", y = \"count\")\n",
    "ax.set(ylabel = 'Count')\n",
    "ax.set(title = 'Top 20 Most Frequent Words')    \n",
    "plt.show()"
   ]
  },
  {
   "cell_type": "markdown",
   "metadata": {},
   "source": [
    "## Troll Amplification\n",
    "Examining the troll \"echo chamber\". Are trolls retweeting or mentioning other trolls?"
   ]
  },
  {
   "cell_type": "code",
   "execution_count": 32,
   "metadata": {},
   "outputs": [
    {
     "name": "stdout",
     "output_type": "stream",
     "text": [
      "122\n",
      "There are 122 trolls in the echo chamber.\n"
     ]
    }
   ],
   "source": [
    "# read list of users created during EDA\n",
    "users = pd.read_csv('../data/users_totals.csv', encoding='utf-8',low_memory=False)\n",
    "\n",
    "userlist = users['author'].tolist()\n",
    "lc_userlist = [x.lower() for x in userlist]\n",
    "lc_userlist.sort()\n",
    "\n",
    "amplify = cleaned_mentions_series[cleaned_mentions_series.isin(lc_userlist)]\n",
    "\n",
    "print(amplify.shape[0])\n",
    "\n",
    "# Get counts of amplified troll tweets\n",
    "amp_counts = amplify.value_counts()\n",
    "print(\"There are\",(amplify.shape[0]), \"trolls in the echo chamber.\")"
   ]
  },
  {
   "cell_type": "markdown",
   "metadata": {},
   "source": [
    "### Normalization\n",
    "3 distinct steps:  \n",
    "* stemming  \n",
    "* lemmatization  \n",
    "* everything else"
   ]
  },
  {
   "cell_type": "markdown",
   "metadata": {},
   "source": [
    "### Lemmatization"
   ]
  },
  {
   "cell_type": "code",
   "execution_count": 33,
   "metadata": {},
   "outputs": [
    {
     "name": "stderr",
     "output_type": "stream",
     "text": [
      "/Users/admin/anaconda3/lib/python3.6/site-packages/ipykernel_launcher.py:2: SettingWithCopyWarning: \n",
      "A value is trying to be set on a copy of a slice from a DataFrame.\n",
      "Try using .loc[row_indexer,col_indexer] = value instead\n",
      "\n",
      "See the caveats in the documentation: http://pandas.pydata.org/pandas-docs/stable/indexing.html#indexing-view-versus-copy\n",
      "  \n"
     ]
    },
    {
     "data": {
      "text/plain": [
       "15045                                                                                        week hosted\n",
       "15046    time spent senator president party asking situation potus might misbehave seems abnormally high\n",
       "15047                                                              choose give fuck anyone say life live\n",
       "15048                                           seriousness session go porno trump gonna lose anime nazi\n",
       "15049                                                                                               wine\n",
       "Name: cleaned, dtype: object"
      ]
     },
     "execution_count": 33,
     "metadata": {},
     "output_type": "execute_result"
    }
   ],
   "source": [
    "from textblob import Word\n",
    "df['cleaned'] = df['cleaned'].apply(lambda x: \" \".join([Word(word).lemmatize() for word in x.split()]))\n",
    "df['cleaned'].head()"
   ]
  },
  {
   "cell_type": "markdown",
   "metadata": {},
   "source": [
    "### Tokenize"
   ]
  },
  {
   "cell_type": "code",
   "execution_count": 34,
   "metadata": {},
   "outputs": [],
   "source": [
    "#create a list from df['cleaned']\n",
    "content_notags = df['cleaned'].tolist()\n",
    "\n",
    "# First, create a new column with the tokenized text\n",
    "from nltk.tokenize import TweetTokenizer\n",
    "tt = TweetTokenizer()\n",
    "#df['tokenized_text'] = df['content'].apply(tt.tokenize)\n",
    "# map tt.tokenize to 'content' list\n",
    "documents = list(map(tt.tokenize, content_notags))"
   ]
  },
  {
   "cell_type": "code",
   "execution_count": 35,
   "metadata": {},
   "outputs": [],
   "source": [
    "from collections import defaultdict\n",
    "\n",
    "frequency = defaultdict(int)\n",
    "for document in documents:\n",
    "    for token in document:\n",
    "        frequency[token] += 1"
   ]
  },
  {
   "cell_type": "code",
   "execution_count": 36,
   "metadata": {},
   "outputs": [],
   "source": [
    "documents = [[token for token in document if frequency[token] > 10] for document in documents]\n",
    "# create a dictionary using from gensim.corpora.Dictionary\n",
    "dictionary = corpora.Dictionary(documents)\n",
    "#Convert document (a list of words) into the bag-of-words format = list of (token_id, token_count) 2-tuples. \n",
    "corpus = [dictionary.doc2bow(document) for document in documents]"
   ]
  },
  {
   "cell_type": "code",
   "execution_count": 37,
   "metadata": {},
   "outputs": [
    {
     "data": {
      "text/plain": [
       "241786"
      ]
     },
     "execution_count": 37,
     "metadata": {},
     "output_type": "execute_result"
    }
   ],
   "source": [
    "len(corpus)"
   ]
  },
  {
   "cell_type": "markdown",
   "metadata": {},
   "source": [
    "## LDA Model\n",
    "Fit an LDA Model for the tweet topics"
   ]
  },
  {
   "cell_type": "code",
   "execution_count": 38,
   "metadata": {},
   "outputs": [],
   "source": [
    "# comment out once model is trained.\n",
    "# fit LDA model\n",
    "tweet_topics = LdaMulticore(corpus=corpus,\n",
    "                          id2word=dictionary,\n",
    "                          num_topics=10,\n",
    "                          passes=10,\n",
    "                          workers=2)"
   ]
  },
  {
   "cell_type": "code",
   "execution_count": 39,
   "metadata": {},
   "outputs": [],
   "source": [
    "# save/load model to/from disk\n",
    "\n",
    "temp_file = datapath(\"model_right_troll_tweets\")\n",
    "tweet_topics.save(temp_file)\n",
    "\n",
    "# Load a pretrained model from disk.\n",
    "#tweet_topics = LdaMulticore.load(\"model\")\n",
    "# - or -\n",
    "#m1 = LdaMulticore.load(datapath(\"lda_3_0_1_model\"))"
   ]
  },
  {
   "cell_type": "code",
   "execution_count": 40,
   "metadata": {},
   "outputs": [
    {
     "name": "stdout",
     "output_type": "stream",
     "text": [
      "0 --- (0, '0.020*\"hillary\" + 0.019*\"thats\" + 0.017*\"real\" + 0.014*\"life\" + 0.012*\"god\" + 0.012*\"book\" + 0.012*\"clinton\" + 0.011*\"isnt\" + 0.010*\"please\" + 0.010*\"week\"')\n",
      "1 --- (1, '0.050*\"dont\" + 0.032*\"like\" + 0.023*\"know\" + 0.023*\"want\" + 0.019*\"never\" + 0.016*\"people\" + 0.016*\"cant\" + 0.015*\"friend\" + 0.015*\"thing\" + 0.014*\"really\"')\n",
      "2 --- (2, '0.046*\"trump\" + 0.018*\"president\" + 0.012*\"would\" + 0.011*\"donald\" + 0.011*\"eating\" + 0.010*\"country\" + 0.010*\"fuck\" + 0.010*\"give\" + 0.009*\"first\" + 0.009*\"vote\"')\n",
      "3 --- (3, '0.020*\"people\" + 0.016*\"big\" + 0.015*\"woman\" + 0.013*\"dead\" + 0.012*\"american\" + 0.011*\"hand\" + 0.011*\"enough\" + 0.010*\"wear\" + 0.010*\"pant\" + 0.008*\"orange\"')\n",
      "4 --- (4, '0.032*\"good\" + 0.023*\"world\" + 0.012*\"leave\" + 0.011*\"morning\" + 0.010*\"lost\" + 0.009*\"coffee\" + 0.009*\"chocolate\" + 0.009*\"reason\" + 0.009*\"day\" + 0.009*\"bed\"')\n",
      "5 --- (5, '0.030*\"game\" + 0.022*\"hashtag\" + 0.020*\"play\" + 0.015*\"watch\" + 0.015*\"start\" + 0.013*\"day\" + 0.012*\"today\" + 0.012*\"movie\" + 0.010*\"people\" + 0.010*\"live\"')\n",
      "6 --- (6, '0.026*\"got\" + 0.021*\"back\" + 0.016*\"put\" + 0.016*\"baby\" + 0.015*\"christmas\" + 0.014*\"need\" + 0.012*\"like\" + 0.010*\"two\" + 0.009*\"mom\" + 0.009*\"find\"')\n",
      "7 --- (7, '0.021*\"house\" + 0.018*\"great\" + 0.018*\"white\" + 0.017*\"make\" + 0.014*\"black\" + 0.014*\"wrong\" + 0.011*\"hate\" + 0.010*\"men\" + 0.010*\"america\" + 0.010*\"as\"')\n",
      "8 --- (8, '0.024*\"look\" + 0.016*\"night\" + 0.013*\"old\" + 0.013*\"like\" + 0.013*\"year\" + 0.013*\"drink\" + 0.012*\"child\" + 0.011*\"free\" + 0.011*\"eat\" + 0.011*\"long\"')\n",
      "9 --- (9, '0.045*\"love\" + 0.021*\"still\" + 0.020*\"work\" + 0.015*\"dog\" + 0.013*\"show\" + 0.012*\"twitter\" + 0.009*\"tweet\" + 0.008*\"ill\" + 0.008*\"home\" + 0.007*\"dick\"')\n"
     ]
    }
   ],
   "source": [
    "# print out first 10 topics\n",
    "for i, topic in enumerate(tweet_topics.print_topics(10)):\n",
    "    print('{} --- {}'.format(i, topic))"
   ]
  },
  {
   "cell_type": "markdown",
   "metadata": {},
   "source": [
    "### Wordcloud\n",
    "Crate a basic word cloud of the topic groupings"
   ]
  },
  {
   "cell_type": "code",
   "execution_count": 41,
   "metadata": {},
   "outputs": [
    {
     "data": {
      "image/png": "[encoded data removed]",
      "text/plain": [
       "<Figure size 720x720 with 4 Axes>"
      ]
     },
     "metadata": {
      "needs_background": "light"
     },
     "output_type": "display_data"
    }
   ],
   "source": [
    "#Wordcloud of Top N words in each topic\n",
    "from matplotlib import pyplot as plt\n",
    "from wordcloud import WordCloud, STOPWORDS\n",
    "import matplotlib.colors as mcolors\n",
    "\n",
    "cols = [color for name, color in mcolors.TABLEAU_COLORS.items()]  # more colors: 'mcolors.XKCD_COLORS'\n",
    "\n",
    "cloud = WordCloud(stopwords=stop,\n",
    "                  background_color='white',\n",
    "                  width=2500,\n",
    "                  height=1800,\n",
    "                  max_words=10,\n",
    "                  colormap='tab10',\n",
    "                  color_func=lambda *args, **kwargs: cols[i],\n",
    "                  prefer_horizontal=1.0)\n",
    "\n",
    "topics = tweet_topics.show_topics(formatted=False)\n",
    "\n",
    "fig, axes = plt.subplots(2, 2, figsize=(10,10), sharex=True, sharey=True)\n",
    "\n",
    "for i, ax in enumerate(axes.flatten()):\n",
    "    fig.add_subplot(ax)\n",
    "    topic_words = dict(topics[i][1])\n",
    "    cloud.generate_from_frequencies(topic_words, max_font_size=300)\n",
    "    plt.gca().imshow(cloud)\n",
    "    plt.gca().set_title('Topic ' + str(i), fontdict=dict(size=16))\n",
    "    plt.gca().axis('off')\n",
    "\n",
    "\n",
    "plt.subplots_adjust(wspace=0, hspace=0)\n",
    "plt.axis('off')\n",
    "plt.margins(x=0, y=0)\n",
    "plt.tight_layout()\n",
    "plt.show()"
   ]
  },
  {
   "cell_type": "markdown",
   "metadata": {},
   "source": [
    "### Use pyLDAvis library to Visualize Topics"
   ]
  },
  {
   "cell_type": "code",
   "execution_count": 42,
   "metadata": {},
   "outputs": [],
   "source": [
    "## Try the pyLDAvis visualization\n",
    "import pyLDAvis.gensim as gensimvis\n",
    "import pyLDAvis"
   ]
  },
  {
   "cell_type": "code",
   "execution_count": 43,
   "metadata": {},
   "outputs": [
    {
     "data": {
      "text/html": [
       "\n",
       "<link rel=\"stylesheet\" type=\"text/css\" href=\"https://cdn.rawgit.com/bmabey/pyLDAvis/files/ldavis.v1.0.0.css\">\n",
       "\n",
       "\n",
       "<div id=\"ldavis_el616811138608302164543282514\"></div>\n",
       "<script type=\"text/javascript\">\n",
       "\n",
       "var ldavis_el616811138608302164543282514_data = {\"mdsDat\": {\"x\": [-0.05875852387904658, 0.006959229485333149, 0.013257670555746887, -0.0942540622774367, 0.002472472480909237, -0.20067123000755485, -0.2144028026163931, 0.05708442626407487, 0.26221410161926517, 0.2260987183751019], \"y\": [0.007544805124034224, 0.048982150912831375, -0.05098711794940289, 0.06714513940205981, -0.14086890891317191, 0.06746837478206451, -0.18291999447885854, 0.3126633557629348, -0.19103698931088514, 0.06200918466839414], \"topics\": [1, 2, 3, 4, 5, 6, 7, 8, 9, 10], \"cluster\": [1, 1, 1, 1, 1, 1, 1, 1, 1, 1], \"Freq\": [15.929571151733398, 10.442270278930664, 9.864794731140137, 9.832396507263184, 9.482146263122559, 9.326817512512207, 9.281584739685059, 8.923383712768555, 8.563152313232422, 8.353889465332031]}, \"tinfo\": {\"Category\": [\"Default\", \"Default\", \"Default\", \"Default\", \"Default\", \"Default\", \"Default\", \"Default\", \"Default\", \"Default\", \"Default\", \"Default\", \"Default\", \"Default\", \"Default\", \"Default\", \"Default\", \"Default\", \"Default\", \"Default\", \"Default\", \"Default\", \"Default\", \"Default\", \"Default\", \"Default\", \"Default\", \"Default\", \"Default\", \"Default\", \"Topic1\", \"Topic1\", \"Topic1\", \"Topic1\", \"Topic1\", \"Topic1\", \"Topic1\", \"Topic1\", \"Topic1\", \"Topic1\", \"Topic1\", \"Topic1\", \"Topic1\", \"Topic1\", \"Topic1\", \"Topic1\", \"Topic1\", \"Topic1\", \"Topic1\", \"Topic1\", \"Topic1\", \"Topic1\", \"Topic1\", \"Topic1\", \"Topic1\", \"Topic1\", \"Topic1\", \"Topic1\", \"Topic1\", \"Topic1\", \"Topic1\", \"Topic1\", \"Topic1\", \"Topic1\", \"Topic1\", \"Topic1\", \"Topic1\", \"Topic1\", \"Topic1\", \"Topic1\", \"Topic1\", \"Topic1\", \"Topic1\", \"Topic1\", \"Topic1\", \"Topic1\", \"Topic1\", \"Topic1\", \"Topic1\", \"Topic1\", \"Topic1\", \"Topic1\", \"Topic1\", \"Topic1\", \"Topic1\", \"Topic1\", \"Topic2\", \"Topic2\", \"Topic2\", \"Topic2\", \"Topic2\", \"Topic2\", \"Topic2\", \"Topic2\", \"Topic2\", \"Topic2\", \"Topic2\", \"Topic2\", \"Topic2\", \"Topic2\", \"Topic2\", \"Topic2\", \"Topic2\", \"Topic2\", \"Topic2\", \"Topic2\", \"Topic2\", \"Topic2\", \"Topic2\", \"Topic2\", \"Topic2\", \"Topic2\", \"Topic2\", \"Topic2\", \"Topic2\", \"Topic2\", \"Topic2\", \"Topic2\", \"Topic2\", \"Topic2\", \"Topic2\", \"Topic2\", \"Topic2\", \"Topic2\", \"Topic2\", \"Topic2\", \"Topic2\", \"Topic2\", \"Topic2\", \"Topic2\", \"Topic2\", \"Topic2\", \"Topic2\", \"Topic3\", \"Topic3\", \"Topic3\", \"Topic3\", \"Topic3\", \"Topic3\", \"Topic3\", \"Topic3\", \"Topic3\", \"Topic3\", \"Topic3\", \"Topic3\", \"Topic3\", \"Topic3\", \"Topic3\", \"Topic3\", \"Topic3\", \"Topic3\", \"Topic3\", \"Topic3\", \"Topic3\", \"Topic3\", \"Topic3\", \"Topic3\", \"Topic3\", \"Topic3\", \"Topic3\", \"Topic3\", \"Topic3\", \"Topic3\", \"Topic3\", \"Topic3\", \"Topic3\", \"Topic3\", \"Topic3\", \"Topic3\", \"Topic3\", \"Topic3\", \"Topic3\", \"Topic3\", \"Topic3\", \"Topic3\", \"Topic3\", \"Topic3\", \"Topic3\", \"Topic4\", \"Topic4\", \"Topic4\", \"Topic4\", \"Topic4\", \"Topic4\", \"Topic4\", \"Topic4\", \"Topic4\", \"Topic4\", \"Topic4\", \"Topic4\", \"Topic4\", \"Topic4\", \"Topic4\", \"Topic4\", \"Topic4\", \"Topic4\", \"Topic4\", \"Topic4\", \"Topic4\", \"Topic4\", \"Topic4\", \"Topic4\", \"Topic4\", \"Topic4\", \"Topic4\", \"Topic4\", \"Topic4\", \"Topic4\", \"Topic4\", \"Topic4\", \"Topic4\", \"Topic4\", \"Topic4\", \"Topic4\", \"Topic4\", \"Topic4\", \"Topic4\", \"Topic4\", \"Topic4\", \"Topic4\", \"Topic4\", \"Topic4\", \"Topic4\", \"Topic4\", \"Topic4\", \"Topic4\", \"Topic4\", \"Topic4\", \"Topic5\", \"Topic5\", \"Topic5\", \"Topic5\", \"Topic5\", \"Topic5\", \"Topic5\", \"Topic5\", \"Topic5\", \"Topic5\", \"Topic5\", \"Topic5\", \"Topic5\", \"Topic5\", \"Topic5\", \"Topic5\", \"Topic5\", \"Topic5\", \"Topic5\", \"Topic5\", \"Topic5\", \"Topic5\", \"Topic5\", \"Topic5\", \"Topic5\", \"Topic5\", \"Topic5\", \"Topic5\", \"Topic5\", \"Topic5\", \"Topic5\", \"Topic5\", \"Topic5\", \"Topic5\", \"Topic5\", \"Topic5\", \"Topic5\", \"Topic5\", \"Topic5\", \"Topic5\", \"Topic5\", \"Topic5\", \"Topic6\", \"Topic6\", \"Topic6\", \"Topic6\", \"Topic6\", \"Topic6\", \"Topic6\", \"Topic6\", \"Topic6\", \"Topic6\", \"Topic6\", \"Topic6\", \"Topic6\", \"Topic6\", \"Topic6\", \"Topic6\", \"Topic6\", \"Topic6\", \"Topic6\", \"Topic6\", \"Topic6\", \"Topic6\", \"Topic6\", \"Topic6\", \"Topic6\", \"Topic6\", \"Topic6\", \"Topic6\", \"Topic6\", \"Topic6\", \"Topic6\", \"Topic6\", \"Topic6\", \"Topic6\", \"Topic6\", \"Topic6\", \"Topic6\", \"Topic6\", \"Topic6\", \"Topic6\", \"Topic6\", \"Topic6\", \"Topic6\", \"Topic6\", \"Topic7\", \"Topic7\", \"Topic7\", \"Topic7\", \"Topic7\", \"Topic7\", \"Topic7\", \"Topic7\", \"Topic7\", \"Topic7\", \"Topic7\", \"Topic7\", \"Topic7\", \"Topic7\", \"Topic7\", \"Topic7\", \"Topic7\", \"Topic7\", \"Topic7\", \"Topic7\", \"Topic7\", \"Topic7\", \"Topic7\", \"Topic7\", \"Topic7\", \"Topic7\", \"Topic7\", \"Topic7\", \"Topic7\", \"Topic7\", \"Topic7\", \"Topic7\", \"Topic7\", \"Topic7\", \"Topic7\", \"Topic7\", \"Topic7\", \"Topic7\", \"Topic7\", \"Topic7\", \"Topic7\", \"Topic7\", \"Topic7\", \"Topic7\", \"Topic7\", \"Topic7\", \"Topic7\", \"Topic7\", \"Topic8\", \"Topic8\", \"Topic8\", \"Topic8\", \"Topic8\", \"Topic8\", \"Topic8\", \"Topic8\", \"Topic8\", \"Topic8\", \"Topic8\", \"Topic8\", \"Topic8\", \"Topic8\", \"Topic8\", \"Topic8\", \"Topic8\", \"Topic8\", \"Topic8\", \"Topic8\", \"Topic8\", \"Topic8\", \"Topic8\", \"Topic8\", \"Topic8\", \"Topic8\", \"Topic8\", \"Topic8\", \"Topic8\", \"Topic8\", \"Topic8\", \"Topic8\", \"Topic8\", \"Topic8\", \"Topic8\", \"Topic8\", \"Topic8\", \"Topic8\", \"Topic8\", \"Topic8\", \"Topic8\", \"Topic9\", \"Topic9\", \"Topic9\", \"Topic9\", \"Topic9\", \"Topic9\", \"Topic9\", \"Topic9\", \"Topic9\", \"Topic9\", \"Topic9\", \"Topic9\", \"Topic9\", \"Topic9\", \"Topic9\", \"Topic9\", \"Topic9\", \"Topic9\", \"Topic9\", \"Topic9\", \"Topic9\", \"Topic9\", \"Topic9\", \"Topic9\", \"Topic9\", \"Topic9\", \"Topic9\", \"Topic9\", \"Topic9\", \"Topic9\", \"Topic9\", \"Topic9\", \"Topic9\", \"Topic9\", \"Topic9\", \"Topic9\", \"Topic9\", \"Topic9\", \"Topic9\", \"Topic9\", \"Topic9\", \"Topic9\", \"Topic9\", \"Topic10\", \"Topic10\", \"Topic10\", \"Topic10\", \"Topic10\", \"Topic10\", \"Topic10\", \"Topic10\", \"Topic10\", \"Topic10\", \"Topic10\", \"Topic10\", \"Topic10\", \"Topic10\", \"Topic10\", \"Topic10\", \"Topic10\", \"Topic10\", \"Topic10\", \"Topic10\", \"Topic10\", \"Topic10\", \"Topic10\", \"Topic10\", \"Topic10\", \"Topic10\", \"Topic10\", \"Topic10\", \"Topic10\", \"Topic10\", \"Topic10\", \"Topic10\", \"Topic10\", \"Topic10\", \"Topic10\", \"Topic10\", \"Topic10\", \"Topic10\", \"Topic10\"], \"Freq\": [8544.0, 5093.0, 4900.0, 8018.0, 3240.0, 4012.0, 3912.0, 3048.0, 2796.0, 3258.0, 2379.0, 2313.0, 2405.0, 2275.0, 6748.0, 2259.0, 2845.0, 2657.0, 1992.0, 2008.0, 1882.0, 3170.0, 3046.0, 1875.0, 1742.0, 1764.0, 1759.0, 2802.0, 1741.0, 1717.0, 8543.642578125, 4011.9306640625, 3912.0361328125, 3257.12646484375, 2657.072021484375, 1896.0240478515625, 1482.97265625, 1318.394775390625, 1266.207275390625, 918.0806274414062, 849.8545532226562, 718.8325805664062, 672.5230102539062, 663.2616577148438, 645.041748046875, 587.0599365234375, 578.7320556640625, 529.0543212890625, 520.0947265625, 492.9369201660156, 477.3228454589844, 475.7400817871094, 387.58685302734375, 344.173828125, 343.3293762207031, 304.7733154296875, 291.4985046386719, 276.4251403808594, 258.06976318359375, 254.86764526367188, 1601.3634033203125, 1073.149658203125, 2389.23828125, 1119.1224365234375, 2698.550537109375, 2597.647705078125, 630.21044921875, 768.2003173828125, 5460.14501953125, 960.56201171875, 1283.535888671875, 2225.72607421875, 2050.80126953125, 1149.5367431640625, 1907.8367919921875, 1348.7642822265625, 2816.53759765625, 1405.5155029296875, 1480.7357177734375, 1505.715087890625, 1556.06103515625, 1207.73486328125, 1333.6217041015625, 1183.9322509765625, 1547.926513671875, 1297.7222900390625, 5092.318359375, 2404.927978515625, 2258.23974609375, 1702.8385009765625, 833.7815551757812, 734.4814453125, 725.2591552734375, 687.112548828125, 680.4340209960938, 671.2771606445312, 653.3316040039062, 630.9161987304688, 590.0489501953125, 504.8868713378906, 501.6744079589844, 473.9818115234375, 464.7295227050781, 419.3194580078125, 401.3745422363281, 371.5787353515625, 342.1526184082031, 317.8312683105469, 317.0917663574219, 316.5575256347656, 309.0076599121094, 308.04229736328125, 307.2978210449219, 306.7140197753906, 302.0882873535156, 296.14117431640625, 790.603271484375, 1441.1456298828125, 536.2958374023438, 702.4483032226562, 790.200927734375, 1372.1527099609375, 896.3409423828125, 614.1193237304688, 727.9876098632812, 1040.7001953125, 907.2652587890625, 672.0922241210938, 532.0379028320312, 646.3687744140625, 646.645751953125, 664.8779907226562, 541.5460815429688, 4899.64794921875, 1875.0435791015625, 1132.706298828125, 1128.2496337890625, 1094.9293212890625, 983.751708984375, 899.5820922851562, 865.8595581054688, 674.9953002929688, 634.40869140625, 629.6707153320312, 619.4514770507812, 603.2481079101562, 591.4318237304688, 523.4373779296875, 513.659912109375, 509.12213134765625, 498.9727783203125, 464.74212646484375, 451.205078125, 410.84442138671875, 396.8108215332031, 393.4786682128906, 355.4276123046875, 338.1091003417969, 333.91912841796875, 323.2978515625, 322.63916015625, 320.3343505859375, 316.9581604003906, 1092.732421875, 772.6412353515625, 965.4871826171875, 728.65966796875, 489.9460754394531, 703.99951171875, 582.0940551757812, 735.074462890625, 986.9807739257812, 1020.341064453125, 1310.06787109375, 722.72265625, 569.6569213867188, 666.7623291015625, 535.3644409179688, 2795.73095703125, 1740.593505859375, 1716.6763916015625, 1007.41259765625, 712.9398803710938, 696.5005493164062, 653.4667358398438, 561.159912109375, 505.02142333984375, 483.1336975097656, 478.0190124511719, 460.9471740722656, 448.6722412109375, 448.3919677734375, 443.3414001464844, 448.7390441894531, 418.31134033203125, 405.73101806640625, 396.28912353515625, 356.19317626953125, 323.63702392578125, 1586.79150390625, 301.31756591796875, 292.65203857421875, 283.04833984375, 277.95611572265625, 267.7574462890625, 262.5619812011719, 254.96469116210938, 251.41212463378906, 2197.83251953125, 915.6838989257812, 592.8478393554688, 933.9791870117188, 581.443115234375, 1468.0006103515625, 888.7723388671875, 845.6423950195312, 928.716064453125, 722.7383422851562, 840.2927856445312, 1239.079833984375, 537.3851928710938, 750.45947265625, 653.7084350585938, 561.93603515625, 653.4310913085938, 508.4183654785156, 516.2462158203125, 490.2710266113281, 3047.682861328125, 2274.83154296875, 2007.2822265625, 1568.0771484375, 1239.5494384765625, 948.421630859375, 1491.4122314453125, 894.9656982421875, 783.2850952148438, 764.34912109375, 709.8197021484375, 700.5242919921875, 692.0302124023438, 664.0589599609375, 659.5079956054688, 608.5859985351562, 557.4249877929688, 546.467529296875, 527.2860717773438, 516.8181762695312, 480.3675537109375, 479.9068908691406, 476.5018005371094, 465.1974182128906, 388.0365295410156, 373.010009765625, 320.825927734375, 310.2408752441406, 387.0843200683594, 298.4093322753906, 529.4158935546875, 1245.375244140625, 750.7261962890625, 979.3649291992188, 625.3865966796875, 658.4432373046875, 1371.52001953125, 645.2001953125, 984.0006103515625, 809.3828125, 735.69970703125, 610.2832641601562, 3240.0771484375, 2312.596923828125, 1162.075439453125, 1056.7213134765625, 1028.477783203125, 896.9342041015625, 858.6775512695312, 848.9096069335938, 822.0421142578125, 717.2071533203125, 682.6451416015625, 602.5684204101562, 592.3427124023438, 518.4099731445312, 501.5531311035156, 452.868408203125, 449.83819580078125, 410.6933288574219, 396.9505615234375, 378.2998046875, 366.5858459472656, 348.24688720703125, 348.11285400390625, 346.56121826171875, 336.70855712890625, 328.2860412597656, 321.6648864746094, 313.9057922363281, 311.32861328125, 308.5662536621094, 883.1663818359375, 952.1605224609375, 397.35382080078125, 669.5757446289062, 512.6158447265625, 622.7288208007812, 712.9557495117188, 476.1697998046875, 877.9166259765625, 534.1270751953125, 657.7850952148438, 433.6588439941406, 452.2787780761719, 456.980224609375, 2378.638916015625, 1580.2105712890625, 1332.98193359375, 1298.4947509765625, 1215.90576171875, 1079.6048583984375, 1000.5405883789062, 994.75, 965.2907104492188, 824.62353515625, 723.7581787109375, 644.781494140625, 531.4888305664062, 521.4180297851562, 519.8231811523438, 458.2823791503906, 457.084716796875, 411.6635437011719, 364.0873718261719, 357.8733825683594, 354.6037902832031, 348.2213134765625, 343.5870666503906, 343.1905517578125, 341.84783935546875, 334.41656494140625, 331.00567626953125, 321.6316223144531, 317.10589599609375, 306.50567626953125, 680.81005859375, 1141.7530517578125, 540.3060302734375, 944.5630493164062, 1131.48291015625, 989.490478515625, 659.6240234375, 1298.5050048828125, 973.19189453125, 486.1884765625, 384.6451416015625, 1318.1864013671875, 645.216064453125, 577.4525756835938, 768.8410034179688, 800.6346435546875, 569.1536254882812, 581.031982421875, 1991.3428955078125, 1763.6192626953125, 1758.8021240234375, 1386.4520263671875, 1305.1456298828125, 922.5659790039062, 886.98974609375, 661.0823364257812, 630.9515991210938, 608.864013671875, 604.2611694335938, 596.926025390625, 591.4019775390625, 585.3905639648438, 553.330078125, 515.41259765625, 496.81195068359375, 493.0232849121094, 486.2602233886719, 484.1523742675781, 471.5221862792969, 465.73883056640625, 433.5498962402344, 407.4358825683594, 387.6668395996094, 373.2821044921875, 345.32806396484375, 340.32720947265625, 326.3973083496094, 323.1884460449219, 991.5101928710938, 964.133544921875, 597.2743530273438, 477.3473205566406, 1015.97802734375, 1596.373779296875, 532.6777954101562, 646.9473266601562, 537.3804321289062, 531.8687133789062, 667.2108764648438, 1881.1986083984375, 1741.54296875, 1538.6854248046875, 1120.877685546875, 1084.6810302734375, 1084.256103515625, 924.0604248046875, 772.6884765625, 738.7918701171875, 732.8583984375, 710.8327026367188, 669.816162109375, 650.40625, 576.9769287109375, 560.489990234375, 541.7882690429688, 540.105712890625, 523.5084228515625, 386.8236999511719, 379.6619567871094, 367.756591796875, 352.5506286621094, 339.9011535644531, 317.0187683105469, 304.0065612792969, 291.9712219238281, 278.6273498535156, 276.9024963378906, 268.71875, 267.19384765625, 594.2428588867188, 499.85693359375, 943.4666137695312, 507.8572998046875, 1032.166015625, 671.5420532226562, 1290.9552001953125, 755.4361572265625, 474.3857116699219, 599.6920166015625, 427.7491149902344, 547.3623046875, 494.8463439941406, 1463.8111572265625, 1185.531982421875, 1053.8485107421875, 980.5843505859375, 974.6448974609375, 887.2145385742188, 712.7447509765625, 644.0720825195312, 605.0599975585938, 527.2637329101562, 506.991943359375, 452.0882568359375, 442.922119140625, 437.2596130371094, 437.1298522949219, 426.0653076171875, 420.9270935058594, 418.3309631347656, 412.12921142578125, 405.5367126464844, 400.85504150390625, 398.0712585449219, 356.5203857421875, 346.3451843261719, 336.4827880859375, 332.47381591796875, 332.26708984375, 304.59686279296875, 304.1596984863281, 300.89251708984375, 346.4379577636719, 865.1904907226562, 468.4243469238281, 1317.6317138671875, 410.3576965332031, 1824.42529296875, 450.2001647949219, 437.87005615234375, 369.0835876464844], \"Term\": [\"dont\", \"love\", \"trump\", \"like\", \"good\", \"know\", \"want\", \"game\", \"got\", \"never\", \"look\", \"world\", \"still\", \"hashtag\", \"people\", \"work\", \"back\", \"friend\", \"house\", \"play\", \"hillary\", \"cant\", \"thing\", \"president\", \"thats\", \"great\", \"white\", \"need\", \"put\", \"baby\", \"dont\", \"know\", \"want\", \"never\", \"friend\", \"tell\", \"feel\", \"ever\", \"talk\", \"anyone\", \"lie\", \"drunk\", \"done\", \"sometimes\", \"else\", \"forget\", \"politics\", \"late\", \"hurt\", \"truth\", \"trust\", \"understand\", \"cheese\", \"asking\", \"sleeping\", \"selfies\", \"fart\", \"happens\", \"selfie\", \"stick\", \"something\", \"ask\", \"really\", \"wont\", \"cant\", \"thing\", \"care\", \"believe\", \"like\", \"anything\", \"little\", \"think\", \"say\", \"doesnt\", \"youre\", \"even\", \"people\", \"man\", \"best\", \"let\", \"take\", \"much\", \"need\", \"always\", \"make\", \"would\", \"love\", \"still\", \"work\", \"dog\", \"dick\", \"walk\", \"miss\", \"yes\", \"pic\", \"fight\", \"lady\", \"realize\", \"move\", \"favorite\", \"dinner\", \"club\", \"sent\", \"daily\", \"text\", \"king\", \"sunday\", \"toilet\", \"voice\", \"course\", \"facebook\", \"speech\", \"button\", \"business\", \"treat\", \"wonderful\", \"song\", \"show\", \"plan\", \"story\", \"sex\", \"twitter\", \"home\", \"hard\", \"change\", \"tweet\", \"ill\", \"making\", \"part\", \"hate\", \"back\", \"day\", \"could\", \"trump\", \"president\", \"donald\", \"eating\", \"country\", \"vote\", \"star\", \"place\", \"hell\", \"list\", \"card\", \"shot\", \"wasnt\", \"animal\", \"drug\", \"brother\", \"election\", \"secret\", \"dude\", \"drinking\", \"pussy\", \"met\", \"son\", \"ppl\", \"art\", \"jail\", \"duck\", \"attack\", \"hello\", \"united\", \"fuck\", \"war\", \"thought\", \"high\", \"jesus\", \"sorry\", \"obama\", \"party\", \"first\", \"give\", \"would\", \"next\", \"fucking\", \"stop\", \"better\", \"got\", \"put\", \"baby\", \"two\", \"problem\", \"water\", \"hair\", \"sound\", \"walking\", \"shoe\", \"holiday\", \"broke\", \"relationship\", \"married\", \"number\", \"tree\", \"inside\", \"double\", \"cut\", \"diet\", \"decided\", \"christmas\", \"butter\", \"2017\", \"bone\", \"religion\", \"ring\", \"extra\", \"halloween\", \"vodka\", \"back\", \"name\", \"nice\", \"mom\", \"funny\", \"need\", \"phone\", \"ive\", \"find\", \"buy\", \"way\", \"like\", \"gift\", \"year\", \"girl\", \"money\", \"time\", \"many\", \"without\", \"would\", \"game\", \"hashtag\", \"play\", \"watch\", \"movie\", \"pay\", \"start\", \"playing\", \"minute\", \"hour\", \"future\", \"tax\", \"video\", \"join\", \"single\", \"die\", \"law\", \"pokemon\", \"order\", \"hey\", \"kiss\", \"app\", \"history\", \"worst\", \"worth\", \"candy\", \"choose\", \"everybody\", \"train\", \"opinion\", \"tomorrow\", \"today\", \"fun\", \"live\", \"stay\", \"top\", \"day\", \"another\", \"people\", \"time\", \"make\", \"let\", \"good\", \"world\", \"leave\", \"morning\", \"lost\", \"chocolate\", \"bed\", \"music\", \"sleep\", \"idea\", \"wake\", \"social\", \"alone\", \"saw\", \"bar\", \"peace\", \"summer\", \"bacon\", \"cute\", \"choice\", \"blood\", \"cook\", \"friday\", \"hill\", \"early\", \"sun\", \"changed\", \"respect\", \"beach\", \"catch\", \"reason\", \"coffee\", \"monday\", \"thanks\", \"2016\", \"turn\", \"bad\", \"dad\", \"day\", \"end\", \"time\", \"may\", \"last\", \"woman\", \"look\", \"night\", \"old\", \"drink\", \"child\", \"long\", \"dream\", \"pizza\", \"beer\", \"wine\", \"fat\", \"wanna\", \"dance\", \"picture\", \"wanted\", \"went\", \"living\", \"doctor\", \"group\", \"reality\", \"glass\", \"happiness\", \"ticket\", \"alcohol\", \"film\", \"government\", \"fish\", \"character\", \"rain\", \"russia\", \"hit\", \"free\", \"fall\", \"lot\", \"eat\", \"happy\", \"school\", \"year\", \"last\", \"learn\", \"broken\", \"like\", \"said\", \"nothing\", \"day\", \"make\", \"there\", \"take\", \"house\", \"great\", \"white\", \"black\", \"wrong\", \"as\", \"death\", \"lol\", \"wall\", \"weed\", \"gun\", \"talking\", \"side\", \"office\", \"yeah\", \"brain\", \"laugh\", \"blue\", \"million\", \"gone\", \"girlfriend\", \"smoke\", \"ice\", \"dollar\", \"saved\", \"worry\", \"smell\", \"husband\", \"bank\", \"easy\", \"men\", \"america\", \"break\", \"smile\", \"hate\", \"make\", \"photo\", \"family\", \"check\", \"boy\", \"people\", \"hillary\", \"thats\", \"real\", \"god\", \"book\", \"clinton\", \"week\", \"matter\", \"read\", \"bill\", \"thank\", \"human\", \"running\", \"started\", \"email\", \"rock\", \"youve\", \"share\", \"voting\", \"city\", \"space\", \"step\", \"short\", \"ugly\", \"iphone\", \"note\", \"everyday\", \"west\", \"potter\", \"block\", \"news\", \"ball\", \"please\", \"enjoy\", \"isnt\", \"food\", \"life\", \"money\", \"also\", \"word\", \"kill\", \"see\", \"youre\", \"big\", \"dead\", \"american\", \"hand\", \"enough\", \"wear\", \"orange\", \"father\", \"second\", \"body\", \"age\", \"box\", \"dress\", \"fit\", \"cold\", \"awesome\", \"netflix\", \"cake\", \"weird\", \"butt\", \"control\", \"finger\", \"rule\", \"edt\", \"died\", \"caught\", \"pet\", \"dear\", \"park\", \"vegan\", \"suit\", \"pant\", \"fear\", \"woman\", \"naked\", \"people\", \"tag\", \"wearing\", \"life\"], \"Total\": [8544.0, 5093.0, 4900.0, 8018.0, 3240.0, 4012.0, 3912.0, 3048.0, 2796.0, 3258.0, 2379.0, 2313.0, 2405.0, 2275.0, 6748.0, 2259.0, 2845.0, 2657.0, 1992.0, 2008.0, 1882.0, 3170.0, 3046.0, 1875.0, 1742.0, 1764.0, 1759.0, 2802.0, 1741.0, 1717.0, 8544.537109375, 4012.825927734375, 3912.931396484375, 3258.021728515625, 2657.96728515625, 1896.9190673828125, 1483.86767578125, 1319.2899169921875, 1267.102294921875, 918.9757690429688, 850.749755859375, 719.7277221679688, 673.4181518554688, 664.1614379882812, 645.9368896484375, 587.955078125, 579.6272583007812, 529.9495849609375, 520.9898681640625, 493.8321228027344, 478.2179870605469, 476.6352233886719, 388.4820556640625, 345.0690002441406, 344.22454833984375, 305.66845703125, 292.3935852050781, 277.32025146484375, 258.96490478515625, 255.76283264160156, 1612.0013427734375, 1079.462890625, 2714.835693359375, 1222.5289306640625, 3170.864501953125, 3046.979248046875, 673.5278930664062, 843.9367065429688, 8018.1083984375, 1088.2227783203125, 1564.1636962890625, 3245.615966796875, 3144.455810546875, 1488.725341796875, 3234.710693359375, 2047.2109375, 6748.31201171875, 2233.7646484375, 2480.693359375, 2696.26123046875, 2901.519287109375, 2130.46923828125, 2802.41845703125, 2139.858642578125, 5329.13232421875, 3921.294677734375, 5093.21142578125, 2405.8212890625, 2259.133056640625, 1703.73193359375, 834.6749267578125, 735.3748779296875, 726.1525268554688, 688.0059204101562, 681.327392578125, 672.1705322265625, 654.2249755859375, 631.8095703125, 590.9423828125, 505.7801818847656, 502.56768798828125, 474.8751220703125, 465.6229248046875, 420.21282958984375, 402.2678527832031, 372.4800109863281, 343.0459899902344, 318.724609375, 317.98516845703125, 317.45086669921875, 309.9009704589844, 308.93560791015625, 308.19110107421875, 307.6073913574219, 302.98162841796875, 297.0345458984375, 825.9732055664062, 1720.1644287109375, 590.722900390625, 820.1347045898438, 954.7464599609375, 2035.4481201171875, 1301.357421875, 791.1209716796875, 1075.3511962890625, 1929.851318359375, 1676.6566162109375, 1035.0701904296875, 700.610595703125, 2001.45263671875, 2845.2724609375, 4348.09423828125, 1749.9544677734375, 4900.53759765625, 1875.9332275390625, 1133.595947265625, 1129.1392822265625, 1095.8189697265625, 984.6414184570312, 900.4718017578125, 866.749267578125, 675.885009765625, 635.2984008789062, 630.5604248046875, 620.3412475585938, 604.1378173828125, 592.321533203125, 524.3270874023438, 514.5496215820312, 510.0118408203125, 499.8624572753906, 465.6318054199219, 452.0947265625, 411.73406982421875, 397.70050048828125, 394.36834716796875, 356.3226318359375, 338.998779296875, 334.808837890625, 324.1875, 323.5288391113281, 321.22406005859375, 317.8478088378906, 1147.9366455078125, 842.294677734375, 1185.97509765625, 917.3928833007812, 560.3120727539062, 976.1502685546875, 757.1322021484375, 1109.63037109375, 1915.1070556640625, 2179.166748046875, 3921.294677734375, 1224.0267333984375, 868.0416259765625, 1699.962890625, 1954.2833251953125, 2796.621337890625, 1741.4840087890625, 1717.5667724609375, 1008.302978515625, 713.8302612304688, 697.3909912109375, 654.3571166992188, 562.05029296875, 505.91180419921875, 484.0240173339844, 478.90936279296875, 461.8375244140625, 449.5626220703125, 449.28228759765625, 444.2318115234375, 449.6598815917969, 419.20172119140625, 406.6213684082031, 397.1794738769531, 357.08349609375, 324.5273742675781, 1591.45458984375, 302.2078857421875, 293.54241943359375, 283.938720703125, 278.8465270996094, 268.6477966308594, 263.45233154296875, 255.85504150390625, 252.30247497558594, 2845.2724609375, 1151.4195556640625, 692.2930908203125, 1279.220703125, 759.8290405273438, 2802.41845703125, 1426.0174560546875, 1455.83642578125, 1725.023193359375, 1381.352783203125, 2263.076904296875, 8018.1083984375, 894.4931640625, 2838.316650390625, 1852.202392578125, 1553.855712890625, 4389.39501953125, 1227.2149658203125, 1627.097412109375, 3921.294677734375, 3048.572021484375, 2275.720703125, 2008.171630859375, 1568.966552734375, 1240.4388427734375, 949.3109741210938, 1492.889892578125, 895.8550415039062, 784.1744384765625, 765.2384643554688, 710.7090454101562, 701.4136962890625, 692.9195556640625, 664.9483032226562, 660.3973388671875, 609.475341796875, 558.3143920898438, 547.3568725585938, 528.1754760742188, 517.7075805664062, 481.2569274902344, 480.7962341308594, 477.39117431640625, 466.0867919921875, 388.9259033203125, 373.8993835449219, 321.7153015136719, 311.1302490234375, 388.2107238769531, 299.2987060546875, 534.1731567382812, 1419.165283203125, 965.8681640625, 1457.223876953125, 829.2677001953125, 901.5414428710938, 4348.09423828125, 1166.1279296875, 6748.31201171875, 4389.39501953125, 5329.13232421875, 2696.26123046875, 3240.96826171875, 2313.488037109375, 1162.966552734375, 1057.6124267578125, 1029.368896484375, 897.8252563476562, 859.5686645507812, 849.8007202148438, 822.9332275390625, 718.1054077148438, 683.5363159179688, 603.45947265625, 593.2338256835938, 519.3010864257812, 502.4442443847656, 453.759521484375, 450.72930908203125, 411.5844421386719, 397.8416748046875, 379.1909484863281, 367.4769592285156, 349.1379699707031, 349.00396728515625, 347.45233154296875, 337.59967041015625, 329.1771545410156, 322.55596923828125, 314.79693603515625, 312.21978759765625, 309.4573669433594, 898.1629638671875, 1001.1389770507812, 418.3162841796875, 825.2708129882812, 609.205810546875, 883.724853515625, 1424.9425048828125, 680.680908203125, 4348.09423828125, 1211.39453125, 4389.39501953125, 962.3158569335938, 1824.3170166015625, 2166.71630859375, 2379.529296875, 1581.1009521484375, 1333.872314453125, 1299.385009765625, 1216.796142578125, 1080.4952392578125, 1001.430908203125, 995.6403198242188, 966.1810302734375, 825.5138549804688, 724.6484985351562, 645.6718139648438, 532.379150390625, 522.308349609375, 520.7135620117188, 459.1727294921875, 457.97503662109375, 412.5538635253906, 364.97772216796875, 358.7637023925781, 355.4941101074219, 349.1116943359375, 344.4774169921875, 344.08087158203125, 342.7381896972656, 335.3069152832031, 331.89599609375, 322.52197265625, 317.9962158203125, 307.39599609375, 683.3341674804688, 1267.6568603515625, 569.792724609375, 1209.661865234375, 1512.994384765625, 1555.229736328125, 960.8710327148438, 2838.316650390625, 1824.3170166015625, 678.8297119140625, 420.0705261230469, 8018.1083984375, 1506.674560546875, 1328.0633544921875, 4348.09423828125, 5329.13232421875, 1331.8563232421875, 2901.519287109375, 1992.232421875, 1764.5087890625, 1759.691650390625, 1387.341552734375, 1306.03515625, 923.4555053710938, 887.8792724609375, 661.9718627929688, 631.841064453125, 609.7534790039062, 605.150634765625, 597.8155517578125, 592.29150390625, 586.280029296875, 554.2196044921875, 516.3021850585938, 497.70147705078125, 493.9128112792969, 487.14971923828125, 485.0418701171875, 472.4116516113281, 466.6283264160156, 434.4393615722656, 408.32537841796875, 388.5563049316406, 374.171630859375, 346.2175598144531, 341.2166748046875, 327.2867736816406, 324.0779724121094, 1151.18359375, 1269.1837158203125, 776.3941650390625, 581.3767700195312, 2001.45263671875, 5329.13232421875, 721.6614990234375, 1290.4332275390625, 796.0303955078125, 777.7207641601562, 6748.31201171875, 1882.087158203125, 1742.4315185546875, 1539.573974609375, 1121.7662353515625, 1085.569580078125, 1085.1446533203125, 924.9490356445312, 773.5770874023438, 739.6804809570312, 733.7470092773438, 711.7213134765625, 670.7047729492188, 651.2948608398438, 577.8655395507812, 561.3785400390625, 542.6768188476562, 540.9943237304688, 524.3970336914062, 387.7122497558594, 380.550537109375, 368.6451416015625, 353.439208984375, 340.78973388671875, 317.9073181152344, 304.8951110839844, 292.8597717285156, 279.51593017578125, 277.791015625, 269.6072692871094, 268.0824279785156, 650.5787353515625, 547.7732543945312, 1167.7138671875, 564.9698486328125, 1348.1910400390625, 1062.552978515625, 3698.52880859375, 1553.855712890625, 705.6970825195312, 1414.632080078125, 614.6502685546875, 2732.22802734375, 3234.710693359375, 1464.6990966796875, 1186.4197998046875, 1054.7364501953125, 981.4722290039062, 975.5327758789062, 888.1024169921875, 713.6326293945312, 644.9599609375, 605.9478759765625, 528.151611328125, 507.8798522949219, 452.97613525390625, 443.81011962890625, 438.1474914550781, 438.0177307128906, 426.95318603515625, 421.81494140625, 419.21881103515625, 413.0170593261719, 406.4245910644531, 401.742919921875, 398.9591369628906, 357.40826416015625, 347.2330627441406, 337.37066650390625, 333.3616943359375, 333.15496826171875, 305.4847717285156, 305.04754638671875, 301.7803649902344, 347.5478820800781, 962.2958374023438, 513.0862426757812, 2166.71630859375, 443.8358154296875, 6748.31201171875, 583.4744262695312, 603.9299926757812, 3698.52880859375], \"loglift\": [30.0, 29.0, 28.0, 27.0, 26.0, 25.0, 24.0, 23.0, 22.0, 21.0, 20.0, 19.0, 18.0, 17.0, 16.0, 15.0, 14.0, 13.0, 12.0, 11.0, 10.0, 9.0, 8.0, 7.0, 6.0, 5.0, 4.0, 3.0, 2.0, 1.0, 1.836899995803833, 1.8367999792099, 1.8367999792099, 1.8366999626159668, 1.8366999626159668, 1.8365000486373901, 1.836400032043457, 1.836300015449524, 1.836300015449524, 1.8359999656677246, 1.8358999490737915, 1.8357000350952148, 1.8357000350952148, 1.8356000185012817, 1.8356000185012817, 1.8355000019073486, 1.8353999853134155, 1.8352999687194824, 1.8352999687194824, 1.8351999521255493, 1.8351000547409058, 1.8351000547409058, 1.8346999883651733, 1.8344000577926636, 1.8344000577926636, 1.8341000080108643, 1.833899974822998, 1.833799958229065, 1.8335000276565552, 1.8335000276565552, 1.830399990081787, 1.8310999870300293, 1.7092000246047974, 1.7486000061035156, 1.6756999492645264, 1.67739999294281, 1.7704999446868896, 1.7430000305175781, 1.4528000354766846, 1.7122000455856323, 1.639299988746643, 1.4598000049591064, 1.409600019454956, 1.5784000158309937, 1.309000015258789, 1.419700026512146, 0.9631999731063843, 1.3737000226974487, 1.3209999799728394, 1.2544000148773193, 1.2138999700546265, 1.2694000005722046, 1.0944000482559204, 1.2451000213623047, 0.6007000207901001, 0.7311999797821045, 2.2590999603271484, 2.2588999271392822, 2.2588999271392822, 2.2588000297546387, 2.25819993019104, 2.2581000328063965, 2.2581000328063965, 2.257999897003174, 2.257999897003174, 2.257999897003174, 2.2578999996185303, 2.2578999996185303, 2.2578001022338867, 2.257499933242798, 2.257499933242798, 2.2574000358581543, 2.2574000358581543, 2.257200002670288, 2.2571001052856445, 2.2569000720977783, 2.256700038909912, 2.256500005722046, 2.256500005722046, 2.256500005722046, 2.2564001083374023, 2.2564001083374023, 2.2564001083374023, 2.2564001083374023, 2.2564001083374023, 2.2562999725341797, 2.2155001163482666, 2.0822999477386475, 2.162600040435791, 2.1043999195098877, 2.0701000690460205, 1.8650000095367432, 1.8865000009536743, 2.00600004196167, 1.8691999912261963, 1.641800045967102, 1.6452000141143799, 1.8274999856948853, 1.9840999841690063, 1.128999948501587, 0.7777000069618225, 0.3813999891281128, 1.086400032043457, 2.315999984741211, 2.315700054168701, 2.3153998851776123, 2.3153998851776123, 2.3153998851776123, 2.3152999877929688, 2.315200090408325, 2.315200090408325, 2.3148999214172363, 2.3148000240325928, 2.3148000240325928, 2.3148000240325928, 2.31469988822937, 2.31469988822937, 2.314500093460083, 2.314500093460083, 2.314500093460083, 2.3143999576568604, 2.314300060272217, 2.314199924468994, 2.313999891281128, 2.313999891281128, 2.3138999938964844, 2.313699960708618, 2.3136000633239746, 2.313499927520752, 2.313499927520752, 2.3134000301361084, 2.3134000301361084, 2.3134000301361084, 2.266900062561035, 2.2298998832702637, 2.1105000972747803, 2.085900068283081, 2.181999921798706, 1.989400029182434, 2.053299903869629, 1.9043999910354614, 1.6533000469207764, 1.5573999881744385, 1.2199000120162964, 1.7892999649047852, 1.8949999809265137, 1.3803000450134277, 1.021399974822998, 2.319200038909912, 2.319000005722046, 2.319000005722046, 2.3185999393463135, 2.31820011138916, 2.31820011138916, 2.3180999755859375, 2.3178999423980713, 2.317699909210205, 2.3176000118255615, 2.3176000118255615, 2.3176000118255615, 2.317500114440918, 2.317500114440918, 2.317500114440918, 2.3173999786376953, 2.3173999786376953, 2.3173000812530518, 2.317199945449829, 2.316999912261963, 2.316699981689453, 2.3166000843048096, 2.316499948501587, 2.3164000511169434, 2.3162999153137207, 2.3162999153137207, 2.316200017929077, 2.3160998821258545, 2.315999984741211, 2.315999984741211, 2.061300039291382, 2.090399980545044, 2.164400100708008, 2.0048999786376953, 2.0518999099731445, 1.6728999614715576, 1.8466999530792236, 1.7762000560760498, 1.7002999782562256, 1.6717000007629395, 1.3287999629974365, 0.4521999955177307, 1.8099000453948975, 0.9891999959945679, 1.277999997138977, 1.30239999294281, 0.4147999882698059, 1.4383000135421753, 1.1714999675750732, 0.2402999997138977, 2.3554999828338623, 2.3554000854492188, 2.355299949645996, 2.3552000522613525, 2.3550000190734863, 2.35479998588562, 2.35479998588562, 2.35479998588562, 2.354599952697754, 2.354599952697754, 2.3545000553131104, 2.3545000553131104, 2.3545000553131104, 2.3543999195098877, 2.3543999195098877, 2.354300022125244, 2.3541998863220215, 2.354099988937378, 2.354099988937378, 2.3540000915527344, 2.3538999557495117, 2.3538999557495117, 2.3538999557495117, 2.353800058364868, 2.3534998893737793, 2.3533999919891357, 2.3529999256134033, 2.3529000282287598, 2.3529000282287598, 2.352799892425537, 2.3468000888824463, 2.225100040435791, 2.103800058364868, 1.958400011062622, 2.0736000537872314, 2.0415000915527344, 1.2019000053405762, 1.7639000415802002, 0.4302999973297119, 0.6650999784469604, 0.37560001015663147, 0.8701000213623047, 2.371999979019165, 2.3719000816345215, 2.371500015258789, 2.3714001178741455, 2.3714001178741455, 2.371299982070923, 2.3712000846862793, 2.3712000846862793, 2.3712000846862793, 2.371000051498413, 2.371000051498413, 2.370800018310547, 2.370800018310547, 2.3705999851226807, 2.370500087738037, 2.370300054550171, 2.370300054550171, 2.3701000213623047, 2.369999885559082, 2.3698999881744385, 2.369800090789795, 2.3696999549865723, 2.3696999549865723, 2.3696999549865723, 2.3696000576019287, 2.3696000576019287, 2.369499921798706, 2.3694000244140625, 2.3694000244140625, 2.3694000244140625, 2.3554000854492188, 2.3220999240875244, 2.3208999633789062, 2.1631999015808105, 2.1995999813079834, 2.022200107574463, 1.679800033569336, 2.015000104904175, 0.7723000049591064, 1.5534000396728516, 0.4742000102996826, 1.5751999616622925, 0.9775999784469604, 0.8159000277519226, 2.376800060272217, 2.3766000270843506, 2.376499891281128, 2.376499891281128, 2.3763999938964844, 2.376300096511841, 2.376199960708618, 2.376199960708618, 2.376199960708618, 2.3761000633239746, 2.3759000301361084, 2.3757998943328857, 2.375499963760376, 2.3754000663757324, 2.3754000663757324, 2.375200033187866, 2.375200033187866, 2.375, 2.3747000694274902, 2.3747000694274902, 2.3745999336242676, 2.3745999336242676, 2.374500036239624, 2.374500036239624, 2.374500036239624, 2.374500036239624, 2.374500036239624, 2.3743999004364014, 2.374300003051758, 2.3742001056671143, 2.3733999729156494, 2.2725000381469727, 2.3239998817443848, 2.1298000812530518, 2.0866000652313232, 1.9249000549316406, 2.000999927520752, 1.5951000452041626, 1.7488000392913818, 2.0434000492095947, 2.2890000343322754, 0.5716999769210815, 1.529099941253662, 1.5442999601364136, 0.6445000171661377, 0.48159998655319214, 1.5269999504089355, 0.7689999938011169, 2.4159998893737793, 2.4159998893737793, 2.4159998893737793, 2.4158999919891357, 2.415800094604492, 2.4154999256134033, 2.4154999256134033, 2.4151999950408936, 2.41510009765625, 2.4149999618530273, 2.4149999618530273, 2.4149999618530273, 2.4149999618530273, 2.4149999618530273, 2.414900064468384, 2.414799928665161, 2.4147000312805176, 2.4147000312805176, 2.4147000312805176, 2.4147000312805176, 2.414599895477295, 2.414599895477295, 2.414400100708008, 2.414299964904785, 2.4142000675201416, 2.414099931716919, 2.4138998985290527, 2.4138998985290527, 2.413800001144409, 2.4137001037597656, 2.267199993133545, 2.1415998935699463, 2.1542000770568848, 2.2193000316619873, 1.7384999990463257, 1.2109999656677246, 2.1129000186920166, 1.7259999513626099, 2.0236001014709473, 2.0364999771118164, 0.10260000079870224, 2.457200050354004, 2.457200050354004, 2.4570999145507812, 2.456899881362915, 2.456899881362915, 2.456899881362915, 2.456700086593628, 2.4565999507904053, 2.4565000534057617, 2.4565000534057617, 2.4565000534057617, 2.456399917602539, 2.4563000202178955, 2.456199884414673, 2.4560999870300293, 2.4560999870300293, 2.4560999870300293, 2.4560000896453857, 2.455399990081787, 2.455399990081787, 2.4553000926971436, 2.455199956893921, 2.4551000595092773, 2.454900026321411, 2.4547998905181885, 2.454699993133545, 2.4544999599456787, 2.4544999599456787, 2.454400062561035, 2.454400062561035, 2.3671000003814697, 2.3661999702453613, 2.244499921798706, 2.351099967956543, 2.1905999183654785, 1.9988000392913818, 1.4050999879837036, 1.7365000247955322, 2.060499906539917, 1.5994999408721924, 2.0952000617980957, 0.8499000072479248, 0.580299973487854, 2.481800079345703, 2.4816999435424805, 2.481600046157837, 2.4814999103546143, 2.4814999103546143, 2.4814000129699707, 2.4811999797821045, 2.481100082397461, 2.4809999465942383, 2.480799913406372, 2.4807000160217285, 2.4804999828338623, 2.4804000854492188, 2.4804000854492188, 2.4804000854492188, 2.4804000854492188, 2.480299949645996, 2.480299949645996, 2.480299949645996, 2.480299949645996, 2.4802000522613525, 2.4802000522613525, 2.4800000190734863, 2.4798998832702637, 2.47979998588562, 2.47979998588562, 2.47979998588562, 2.4795000553131104, 2.4795000553131104, 2.4795000553131104, 2.4791998863220215, 2.3761000633239746, 2.391400098800659, 1.9851000308990479, 2.4040000438690186, 1.174399971961975, 2.223099946975708, 2.160900115966797, 0.1777999997138977], \"logprob\": [30.0, 29.0, 28.0, 27.0, 26.0, 25.0, 24.0, 23.0, 22.0, 21.0, 20.0, 19.0, 18.0, 17.0, 16.0, 15.0, 14.0, 13.0, 12.0, 11.0, 10.0, 9.0, 8.0, 7.0, 6.0, 5.0, 4.0, 3.0, 2.0, 1.0, -2.9993999004364014, -3.7553000450134277, -3.7804999351501465, -3.96370005607605, -4.167300224304199, -4.504799842834473, -4.750500202178955, -4.868100166320801, -4.9085001945495605, -5.230000019073486, -5.307300090789795, -5.474699974060059, -5.541299819946289, -5.555200099945068, -5.583000183105469, -5.677199840545654, -5.691500186920166, -5.781199932098389, -5.798299789428711, -5.851900100708008, -5.884099960327148, -5.887400150299072, -6.092400074005127, -6.21120023727417, -6.213600158691406, -6.332799911499023, -6.377299785614014, -6.4303998947143555, -6.499100208282471, -6.511600017547607, -4.673699855804443, -5.073999881744385, -4.273600101470947, -5.0320000648498535, -4.151800155639648, -4.190000057220459, -5.606299877166748, -5.408299922943115, -3.4470999240875244, -5.184800148010254, -4.894899845123291, -4.3445000648498535, -4.426300048828125, -5.005199909210205, -4.498600006103516, -4.845399856567383, -4.109099864959717, -4.804200172424316, -4.751999855041504, -4.735300064086914, -4.702400207519531, -4.9558000564575195, -4.8566999435424805, -4.9756999015808105, -4.707600116729736, -4.883999824523926, -3.0945000648498535, -3.8447000980377197, -3.9077000617980957, -4.190000057220459, -4.9039998054504395, -5.030799865722656, -5.043499946594238, -5.097499847412109, -5.1072998046875, -5.120800018310547, -5.147900104522705, -5.182799816131592, -5.249800205230713, -5.405700206756592, -5.412099838256836, -5.468800067901611, -5.488500118255615, -5.591400146484375, -5.6350998878479, -5.712200164794922, -5.7947001457214355, -5.868500232696533, -5.870800018310547, -5.872499942779541, -5.896599769592285, -5.899799823760986, -5.902200222015381, -5.904099941253662, -5.919300079345703, -5.939199924468994, -4.957200050354004, -4.356800079345703, -5.345300197601318, -5.075399875640869, -4.957699775695801, -4.405900001525879, -4.831699848175049, -5.209799766540527, -5.039700031280518, -4.682400226593018, -4.8196001052856445, -5.11959981918335, -5.353300094604492, -5.158599853515625, -5.158199787139893, -5.13040018081665, -5.335599899291992, -3.076200008392334, -4.0366997718811035, -4.5406999588012695, -4.5447001457214355, -4.574699878692627, -4.681700229644775, -4.771200180053711, -4.8094000816345215, -5.0584001541137695, -5.1203999519348145, -5.127900123596191, -5.1442999839782715, -5.17080020904541, -5.1905999183654785, -5.312699794769287, -5.331600189208984, -5.340400218963623, -5.360599994659424, -5.431600093841553, -5.46120023727417, -5.554900169372559, -5.589700222015381, -5.598100185394287, -5.69980001449585, -5.74970006942749, -5.762199878692627, -5.79449987411499, -5.796599864959717, -5.803699970245361, -5.814300060272217, -4.576700210571289, -4.923299789428711, -4.700500011444092, -4.981900215148926, -5.378799915313721, -5.016300201416016, -5.206500053405762, -4.973100185394287, -4.678500175476074, -4.645199775695801, -4.395299911499023, -4.990099906921387, -5.228099822998047, -5.070700168609619, -5.290200233459473, -3.634000062942505, -4.107800006866455, -4.121699810028076, -4.654699802398682, -5.000400066375732, -5.023799896240234, -5.087500095367432, -5.239799976348877, -5.345200061798096, -5.389500141143799, -5.400199890136719, -5.436500072479248, -5.463500022888184, -5.464200019836426, -5.475500106811523, -5.463399887084961, -5.533599853515625, -5.5640997886657715, -5.587699890136719, -5.694399833679199, -5.790200233459473, -4.200399875640869, -5.861700057983398, -5.8907999992370605, -5.924200057983398, -5.942399978637695, -5.979700088500977, -5.999300003051758, -6.02869987487793, -6.042699813842773, -3.8745999336242676, -4.750199794769287, -5.184899806976318, -4.730400085449219, -5.2042999267578125, -4.278200149536133, -4.78000020980835, -4.829699993133545, -4.736000061035156, -4.986800193786621, -4.836100101470947, -4.447700023651123, -5.283100128173828, -4.949100017547607, -5.087200164794922, -5.238399982452393, -5.087600231170654, -5.338500022888184, -5.323200225830078, -5.374899864196777, -3.511399984359741, -3.8039000034332275, -3.928999900817871, -4.175899982452393, -4.410999774932861, -4.678800106048584, -4.226099967956543, -4.736800193786621, -4.870100021362305, -4.894499778747559, -4.968500137329102, -4.9816999435424805, -4.993899822235107, -5.035200119018555, -5.042099952697754, -5.122399806976318, -5.21019983291626, -5.230100154876709, -5.2657999992370605, -5.285900115966797, -5.359000205993652, -5.360000133514404, -5.367099761962891, -5.39109992980957, -5.572500228881836, -5.6118998527526855, -5.762700080871582, -5.796199798583984, -5.574900150299072, -5.835100173950195, -5.2617998123168945, -4.406400203704834, -4.912499904632568, -4.646599769592285, -5.095200061798096, -5.043700218200684, -4.309899806976318, -5.064000129699707, -4.641900062561035, -4.837299823760986, -4.932700157165527, -5.11959981918335, -3.4337000846862793, -3.770900011062622, -4.459099769592285, -4.554100036621094, -4.581200122833252, -4.718100070953369, -4.761600017547607, -4.773099899291992, -4.805200099945068, -4.941699981689453, -4.991099834442139, -5.115799903869629, -5.132999897003174, -5.266300201416016, -5.299300193786621, -5.401400089263916, -5.408100128173828, -5.499199867248535, -5.533199787139893, -5.581299781799316, -5.612800121307373, -5.664100170135498, -5.6645002365112305, -5.669000148773193, -5.697800159454346, -5.723199844360352, -5.743500232696533, -5.767899990081787, -5.776199817657471, -5.785099983215332, -4.733500003814697, -4.658299922943115, -5.532199859619141, -5.01039981842041, -5.277500152587891, -5.082900047302246, -4.9475998878479, -5.35129976272583, -4.739500045776367, -5.236400127410889, -5.028200149536133, -5.444799900054932, -5.402699947357178, -5.392399787902832, -3.7379000186920166, -4.146900177001953, -4.316999912261963, -4.343200206756592, -4.408899784088135, -4.5278000831604, -4.603899955749512, -4.6097002029418945, -4.639699935913086, -4.7972002029418945, -4.927700042724609, -5.043300151824951, -5.236499786376953, -5.2555999755859375, -5.258699893951416, -5.384699821472168, -5.38730001449585, -5.492000102996826, -5.614799976348877, -5.631999969482422, -5.641200065612793, -5.659299850463867, -5.672699928283691, -5.673900127410889, -5.677800178527832, -5.69980001449585, -5.710000038146973, -5.738800048828125, -5.752900123596191, -5.786900043487549, -4.988900184631348, -4.47189998626709, -5.21999979019165, -4.661499977111816, -4.480899810791016, -4.614999771118164, -5.020500183105469, -4.343200206756592, -4.6315999031066895, -5.3256001472473145, -5.559899806976318, -4.328199863433838, -5.042600154876709, -5.153500080108643, -4.867300033569336, -4.8267998695373535, -5.168000221252441, -5.14739990234375, -3.876300096511841, -3.9976999759674072, -4.000400066375732, -4.23829984664917, -4.298699855804443, -4.645699977874756, -4.684999942779541, -4.978899955749512, -5.025599956512451, -5.061200141906738, -5.06879997253418, -5.080999851226807, -5.0903000831604, -5.100500106811523, -5.156899929046631, -5.227799892425537, -5.264599800109863, -5.272299766540527, -5.286099910736084, -5.29040002822876, -5.31689977645874, -5.32919979095459, -5.4008002281188965, -5.462900161743164, -5.512700080871582, -5.55049991607666, -5.628300189971924, -5.642899990081787, -5.684700012207031, -5.6946001052856445, -4.573599815368652, -4.601600170135498, -5.080399990081787, -5.304599761962891, -4.549200057983398, -4.097300052642822, -5.194900035858154, -5.0005998611450195, -5.186100006103516, -5.196400165557861, -4.969699859619141, -3.891900062561035, -3.969099998474121, -4.092899799346924, -4.4096999168396, -4.442599773406982, -4.442999839782715, -4.602799892425537, -4.781700134277344, -4.826600074768066, -4.834700107574463, -4.865200042724609, -4.924600124359131, -4.953999996185303, -5.073800086975098, -5.102799892425537, -5.13670015335083, -5.139800071716309, -5.17110013961792, -5.473599910736084, -5.492300033569336, -5.524199962615967, -5.566400051116943, -5.603000164031982, -5.672599792480469, -5.714600086212158, -5.755000114440918, -5.801700115203857, -5.8078999519348145, -5.837900161743164, -5.843599796295166, -5.044300079345703, -5.217299938201904, -4.581999778747559, -5.201399803161621, -4.492199897766113, -4.921999931335449, -4.268499851226807, -4.804299831390381, -5.269599914550781, -5.035200119018555, -5.3730998039245605, -5.126500129699707, -5.227399826049805, -4.118100166320801, -4.32889986038208, -4.446700096130371, -4.518700122833252, -4.524799823760986, -4.618800163269043, -4.837699890136719, -4.9390997886657715, -5.001500129699707, -5.139200210571289, -5.178400039672852, -5.293000221252441, -5.313499927520752, -5.326300144195557, -5.326600074768066, -5.35230016708374, -5.3643999099731445, -5.37060022354126, -5.385499954223633, -5.401700019836426, -5.413300037384033, -5.420199871063232, -5.5304999351501465, -5.5594000816345215, -5.5883002281188965, -5.600299835205078, -5.600900173187256, -5.687900066375732, -5.689300060272217, -5.700099945068359, -5.559199810028076, -4.643899917602539, -5.257500171661377, -4.223299980163574, -5.389800071716309, -3.8977999687194824, -5.2972002029418945, -5.324900150299072, -5.495800018310547]}, \"token.table\": {\"Topic\": [2, 6, 4, 10, 7, 6, 2, 5, 9, 1, 6, 8, 9, 10, 3, 8, 10, 3, 4, 5, 8, 1, 1, 3, 9, 5, 3, 8, 1, 10, 1, 3, 10, 4, 2, 4, 6, 1, 2, 3, 4, 6, 8, 9, 8, 6, 6, 6, 7, 1, 6, 1, 2, 4, 5, 10, 1, 3, 4, 6, 7, 10, 9, 8, 9, 6, 8, 10, 4, 9, 10, 6, 8, 8, 2, 8, 4, 7, 10, 3, 2, 10, 4, 2, 1, 4, 5, 6, 7, 8, 10, 10, 5, 1, 2, 3, 1, 2, 6, 10, 1, 2, 6, 7, 4, 8, 1, 7, 6, 6, 5, 4, 6, 9, 9, 2, 5, 6, 10, 10, 6, 1, 2, 3, 5, 7, 8, 3, 2, 4, 6, 4, 6, 2, 7, 1, 2, 4, 5, 6, 7, 8, 10, 10, 8, 4, 2, 5, 10, 4, 2, 7, 1, 2, 2, 8, 3, 1, 1, 4, 7, 10, 7, 3, 3, 1, 3, 3, 6, 8, 6, 7, 3, 10, 3, 1, 9, 2, 6, 9, 10, 6, 9, 10, 1, 2, 4, 6, 8, 1, 5, 9, 4, 2, 5, 7, 1, 3, 8, 1, 7, 10, 2, 9, 10, 1, 2, 7, 1, 2, 4, 10, 2, 3, 5, 9, 10, 7, 10, 7, 9, 1, 5, 7, 6, 1, 1, 3, 8, 3, 7, 9, 5, 7, 4, 5, 5, 5, 3, 4, 6, 8, 1, 2, 4, 6, 8, 8, 1, 3, 4, 8, 7, 9, 8, 6, 4, 7, 8, 7, 8, 4, 4, 10, 1, 7, 1, 5, 7, 2, 5, 7, 5, 2, 8, 10, 3, 3, 5, 3, 9, 6, 9, 5, 5, 7, 4, 2, 5, 5, 8, 9, 1, 8, 8, 6, 1, 2, 4, 4, 9, 9, 10, 2, 4, 6, 3, 1, 3, 5, 3, 9, 2, 5, 1, 2, 4, 6, 7, 1, 8, 5, 5, 7, 6, 1, 2, 5, 8, 10, 1, 1, 2, 4, 5, 9, 10, 1, 4, 7, 3, 1, 2, 3, 1, 2, 5, 7, 8, 7, 7, 6, 1, 7, 2, 1, 2, 3, 4, 5, 6, 7, 8, 2, 3, 7, 1, 2, 3, 7, 2, 4, 6, 9, 10, 4, 9, 1, 2, 6, 10, 4, 8, 10, 3, 8, 5, 2, 1, 4, 5, 6, 4, 8, 9, 6, 2, 5, 1, 2, 6, 7, 9, 6, 2, 10, 3, 4, 1, 4, 10, 1, 2, 9, 3, 5, 7, 4, 6, 7, 9, 1, 6, 7, 4, 2, 3, 8, 7, 5, 10, 5, 4, 10, 10, 2, 10, 3, 4, 8, 5, 6, 1, 3, 5, 8, 10, 10, 2, 4, 5, 2, 8, 2, 7, 7, 3, 2, 8, 5, 5, 4, 9, 5, 1, 9, 3, 3, 4, 3, 4, 7, 9, 9, 7, 2, 1, 6, 6, 10, 4, 4, 6, 4, 9, 10, 9, 7, 1, 2, 3, 5, 6, 7, 10, 8, 6, 1, 3, 7, 8, 2, 3, 7, 10, 3, 1, 2, 4, 6, 7, 9, 10, 1, 1, 2, 2, 6, 9, 4, 9, 3, 2, 10, 8, 5, 6, 1, 8, 6, 8, 8, 6, 1, 4, 8, 1, 3, 2, 9, 1, 3, 4, 4, 9, 2, 3, 5, 9, 9, 5, 6, 9, 1, 2, 1, 2, 3, 9, 10, 2, 8, 10, 6, 6, 2, 2, 10, 1, 2, 4, 7, 1, 8, 5, 1, 2, 9, 5, 6, 9, 1, 6, 7, 8, 1, 9, 1, 2, 3, 6, 10, 3, 5, 7, 7, 1, 2, 3, 4, 5, 6, 7, 8, 9, 10, 5, 7, 2, 5, 8, 3, 5, 9, 5, 2, 4, 3, 1, 1, 4, 6, 1, 2, 5, 1, 2, 5, 4, 9, 1, 3, 10, 5, 4, 2, 3, 9, 6, 2, 4, 8, 7, 1, 7, 3, 6, 3, 5, 4, 1, 3, 4, 5, 7, 9, 10, 10, 4, 7, 8, 10, 8, 9, 10, 7, 9, 8, 7, 2, 3, 4, 5, 10, 6, 8, 10, 2, 1, 2, 2, 3, 4, 7, 8, 9, 10, 2, 6, 8, 5, 5, 1, 2, 3, 4, 6, 8, 8, 3, 4, 6, 7, 2, 1, 2, 9, 10, 9], \"Freq\": [0.15758220851421356, 0.8420799374580383, 0.9981521368026733, 0.9982675909996033, 0.9968586564064026, 0.9979201555252075, 0.2522328794002533, 0.0751030445098877, 0.6716762781143188, 0.5533075928688049, 0.09066019207239151, 0.09813732653856277, 0.13599029183387756, 0.12197067588567734, 0.23952403664588928, 0.7595432996749878, 0.9993017911911011, 0.9977688789367676, 0.2752699553966522, 0.5531125664710999, 0.17065022885799408, 0.9989382028579712, 0.8830912113189697, 0.050541121512651443, 0.06616292148828506, 0.9983439445495605, 0.9970537424087524, 0.9995067119598389, 0.9940128922462463, 0.00463193329051137, 0.9969020485877991, 0.9983654022216797, 0.997767448425293, 0.9996700286865234, 0.22739474475383759, 0.7725095152854919, 0.9985800385475159, 0.1649189293384552, 0.1354440599679947, 0.15158505737781525, 0.047019440680742264, 0.5003710389137268, 0.08580192923545837, 0.9127864241600037, 0.9960683584213257, 0.9991158246994019, 0.9960931539535522, 0.9993384480476379, 0.9987776279449463, 0.9100208282470703, 0.08886922150850296, 0.5970104932785034, 0.09311912953853607, 0.08787865936756134, 0.12053082138299942, 0.10158450156450272, 0.3776320517063141, 0.2737576365470886, 0.15606744587421417, 0.08596501499414444, 0.1059211790561676, 0.9995226860046387, 0.9989819526672363, 0.9990330338478088, 0.9959623217582703, 0.9987020492553711, 0.9981518983840942, 0.9978195428848267, 0.9966939091682434, 0.9994753003120422, 0.9978450536727905, 0.3150230944156647, 0.6840501427650452, 0.9974778890609741, 0.2292649894952774, 0.7689393162727356, 0.9981865286827087, 0.9165127873420715, 0.08331934362649918, 0.9989318251609802, 0.9980254173278809, 0.9989553093910217, 0.9960031509399414, 0.9961351752281189, 0.09555850178003311, 0.5233999490737915, 0.06153388321399689, 0.0036196401342749596, 0.13899418711662292, 0.14912916719913483, 0.027509264647960663, 0.9970926642417908, 0.9975945949554443, 0.8511874079704285, 0.1488552987575531, 0.9991112351417542, 0.9353733062744141, 0.06384293735027313, 0.9985220432281494, 0.9959152936935425, 0.32268527150154114, 0.6769881248474121, 0.9982763528823853, 0.9983816146850586, 0.32410821318626404, 0.6745973825454712, 0.9987591505050659, 0.9993457198143005, 0.9990808367729187, 0.9968592524528503, 0.9977766275405884, 0.9972009062767029, 0.0025134237948805094, 0.9985533356666565, 0.9989451766014099, 0.9981571435928345, 0.04794539138674736, 0.9509169459342957, 0.9976764917373657, 0.9981507658958435, 0.9967406392097473, 0.24114912748336792, 0.30972233414649963, 0.16514715552330017, 0.09257383644580841, 0.08171641081571579, 0.10914569348096848, 0.9992526173591614, 0.998579740524292, 0.9970303773880005, 0.9978843927383423, 0.29969990253448486, 0.6992997527122498, 0.9971137642860413, 0.997409462928772, 0.0013799149310216308, 0.152940571308136, 0.062326155602931976, 0.3155405521392822, 0.2019275426864624, 0.17685909569263458, 0.08923449367284775, 0.9996461868286133, 0.9984130859375, 0.9990096688270569, 0.9983749389648438, 0.999191403388977, 0.999220073223114, 0.9959372282028198, 0.9969657063484192, 0.9988704323768616, 0.9986574649810791, 0.7724729180335999, 0.2270398586988449, 0.999570369720459, 0.9967541098594666, 0.999474287033081, 0.99937903881073, 0.999937117099762, 0.9984718561172485, 0.9995697140693665, 0.9981746077537537, 0.9989340901374817, 0.9975785613059998, 0.9974689483642578, 0.9989888668060303, 0.9963369965553284, 0.9986431002616882, 0.9982237219810486, 0.9966737031936646, 0.2518185079097748, 0.7475242614746094, 0.9989910125732422, 0.9964488744735718, 0.9980160593986511, 0.9985495805740356, 0.9975443482398987, 0.20472273230552673, 0.4408142864704132, 0.226185604929924, 0.1279517114162445, 0.09912033379077911, 0.899163007736206, 0.9994538426399231, 0.6589452624320984, 0.12309429794549942, 0.037123676389455795, 0.11137103289365768, 0.06936266273260117, 0.9990222454071045, 0.9963672757148743, 0.9981542229652405, 0.9982830882072449, 0.9970927238464355, 0.050895702093839645, 0.9477130770683289, 0.28052595257759094, 0.21775633096694946, 0.5013819932937622, 0.9952338933944702, 0.9991050958633423, 0.9985116124153137, 0.9984574913978577, 0.08575556427240372, 0.9121273756027222, 0.9994152784347534, 0.9982585906982422, 0.9978461861610413, 0.24869230389595032, 0.21275076270103455, 0.5385434627532959, 0.9975959062576294, 0.1921563595533371, 0.5153759121894836, 0.13941779732704163, 0.0010443280916661024, 0.15142756700515747, 0.997300386428833, 0.9973810315132141, 0.3670405149459839, 0.6324390769004822, 0.9983755946159363, 0.0986071228981018, 0.9008747339248657, 0.9971233606338501, 0.9996360540390015, 0.0008711282280273736, 0.952143132686615, 0.04616979509592056, 0.6566505432128906, 0.18317094445228577, 0.160130575299263, 0.7775388360023499, 0.22156232595443726, 0.7646456956863403, 0.23426322638988495, 0.9990023374557495, 0.9998123645782471, 0.16657477617263794, 0.600339949131012, 0.0469539649784565, 0.18557995557785034, 0.2780473530292511, 0.1527910828590393, 0.3530931770801544, 0.10204068571329117, 0.11445833742618561, 0.9991286396980286, 0.2872657775878906, 0.46806880831718445, 0.09544932842254639, 0.14913956820964813, 0.9986100792884827, 0.999316930770874, 0.9978520274162292, 0.9997012615203857, 0.9997778534889221, 0.9961023330688477, 0.9997116327285767, 0.9973211288452148, 0.998098611831665, 0.9979260563850403, 0.9966580867767334, 0.999518871307373, 0.9952392578125, 0.9968156218528748, 0.17360779643058777, 0.18968258798122406, 0.635918915271759, 0.7761139273643494, 0.012640291824936867, 0.20982883870601654, 0.9996833205223083, 0.3227655589580536, 0.5076313018798828, 0.16887734830379486, 0.9986906051635742, 0.9961894154548645, 0.9986332654953003, 0.7946431636810303, 0.20492856204509735, 0.9986981749534607, 0.9994223713874817, 0.9991806149482727, 0.0029268257785588503, 0.9965841770172119, 0.9981011748313904, 0.688511848449707, 0.31044507026672363, 0.9983816146850586, 0.9993813633918762, 0.9989492297172546, 0.9981000423431396, 0.9964343309402466, 0.998988687992096, 0.9984606504440308, 0.3453300893306732, 0.540957510471344, 0.11272433400154114, 0.9971333146095276, 0.9970641732215881, 0.7654701471328735, 0.23364640772342682, 0.24109850823879242, 0.5811092257499695, 0.17721770703792572, 0.9975841641426086, 0.12493038177490234, 0.8745126724243164, 0.9985738396644592, 0.3026111125946045, 0.6963309645652771, 0.9987112879753113, 0.9973882436752319, 0.9997941851615906, 0.9981275796890259, 0.21816383302211761, 0.2477639615535736, 0.5333502888679504, 0.9982081651687622, 0.9985905885696411, 0.9976457953453064, 0.28283971548080444, 0.7159380316734314, 0.999168872833252, 0.5585511922836304, 0.10755634307861328, 0.22623920440673828, 0.01817331276834011, 0.08938302844762802, 0.9991186857223511, 0.23603980243206024, 0.11031413078308105, 0.06380915641784668, 0.14086681604385376, 0.34905770421028137, 0.09976939857006073, 0.68095862865448, 0.15452522039413452, 0.16437792778015137, 0.9979562163352966, 0.820885956287384, 0.1489613950252533, 0.030048005282878876, 0.2539074420928955, 0.07411352545022964, 0.6718254089355469, 0.9978709816932678, 0.9985318779945374, 0.9995416402816772, 0.9997775554656982, 0.9986701607704163, 0.218242809176445, 0.7812100648880005, 0.9997621774673462, 0.29047879576683044, 0.0015011824434623122, 0.01595006324350834, 0.033776603639125824, 0.13810878992080688, 0.07018028199672699, 0.15030589699745178, 0.2994858920574188, 0.6492313146591187, 0.16230782866477966, 0.18742690980434418, 0.6294306516647339, 0.12266287952661514, 0.04297677427530289, 0.20458735525608063, 0.11407944560050964, 0.41394540667533875, 0.2306034415960312, 0.07170707732439041, 0.16867460310459137, 0.9971458911895752, 0.9992539882659912, 0.27329903841018677, 0.11119010299444199, 0.45099538564682007, 0.1641872525215149, 0.11900795251131058, 0.8617218136787415, 0.01911076530814171, 0.9982386231422424, 0.9976398944854736, 0.9985023140907288, 0.9984128475189209, 0.26891371607780457, 0.7301320433616638, 0.047810714691877365, 0.9490426778793335, 0.3616809546947479, 0.15188024938106537, 0.4858880937099457, 0.9994209408760071, 0.9984052777290344, 0.9996462464332581, 0.5670112371444702, 0.11640628427267075, 0.13236521184444427, 0.12814077734947205, 0.055856239050626755, 0.9990577697753906, 0.07435181736946106, 0.9237650036811829, 0.20409588515758514, 0.7955397367477417, 0.47601741552352905, 0.5238332748413086, 0.9980680346488953, 0.9996864199638367, 0.08607720583677292, 0.9130332469940186, 0.5906733870506287, 0.1740158051252365, 0.23528897762298584, 0.8565736413002014, 0.14300301671028137, 0.9993036985397339, 0.9970642328262329, 0.2981785535812378, 0.2665535509586334, 0.43446722626686096, 0.9972270727157593, 0.2298145592212677, 0.7686900496482849, 0.9978166818618774, 0.9993460178375244, 0.9956608414649963, 0.9991135001182556, 0.9977744817733765, 0.09976141899824142, 0.8988919854164124, 0.9965659379959106, 0.7593376636505127, 0.23979084193706512, 0.6623827219009399, 0.2838783264160156, 0.05226965621113777, 0.998619019985199, 0.9983261823654175, 0.41743773221969604, 0.0675724521279335, 0.14581423997879028, 0.09883952885866165, 0.270289808511734, 0.996533215045929, 0.15076954662799835, 0.6234145164489746, 0.22510243952274323, 0.2605099380016327, 0.738573431968689, 0.9980517625808716, 0.9974950551986694, 0.9993568658828735, 0.9991355538368225, 0.9073628187179565, 0.09141341596841812, 0.9994165897369385, 0.9990455508232117, 0.19097143411636353, 0.8075608611106873, 0.9975210428237915, 0.998917818069458, 0.9977476000785828, 0.9962881207466125, 0.9995025396347046, 0.998836874961853, 0.9982171058654785, 0.9997220635414124, 0.9968671798706055, 0.9990800619125366, 0.9996271729469299, 0.9978712797164917, 0.9987186193466187, 0.8799796104431152, 0.11971258372068405, 0.9831178188323975, 0.01558737177401781, 0.9987485408782959, 0.996964156627655, 0.9974684119224548, 0.9975886940956116, 0.9987528324127197, 0.9988577365875244, 0.9980118870735168, 0.9987117648124695, 0.16725575923919678, 0.053097065538167953, 0.15265406668186188, 0.03318566828966141, 0.13606123626232147, 0.42809510231018066, 0.029867099598050117, 0.9985682964324951, 0.9974945187568665, 0.652259111404419, 0.14183694124221802, 0.10049434006214142, 0.10526463389396667, 0.09990935027599335, 0.21230736374855042, 0.6868767738342285, 0.9984357357025146, 0.9982746243476868, 0.3257414698600769, 0.14347265660762787, 0.10797049105167389, 0.04867821931838989, 0.09333042055368423, 0.20020291209220886, 0.08052036911249161, 0.9962739944458008, 0.9978131055831909, 0.9986621737480164, 0.8274447917938232, 0.17177335917949677, 0.999242901802063, 0.9978843927383423, 0.9976826310157776, 0.9978379011154175, 0.8377106189727783, 0.16161245107650757, 0.9978194832801819, 0.9993983507156372, 0.9988659620285034, 0.9964426159858704, 0.9964832663536072, 0.1771656572818756, 0.8204662203788757, 0.9986534714698792, 0.9992386102676392, 0.9931753277778625, 0.005583121906965971, 0.0006203468656167388, 0.9982512593269348, 0.996530294418335, 0.9576581716537476, 0.04237425699830055, 0.1669824868440628, 0.7212004661560059, 0.11166313290596008, 0.9981313347816467, 0.9982499480247498, 0.9969714879989624, 0.9994760751724243, 0.9987340569496155, 0.0006698417710140347, 0.9985021948814392, 0.7536770105361938, 0.24479429423809052, 0.9987573027610779, 0.9970174431800842, 0.9996586441993713, 0.3188304901123047, 0.1335323303937912, 0.39236149191856384, 0.08706072717905045, 0.06823678314685822, 0.8559569716453552, 0.1426594853401184, 0.995546281337738, 0.9983819127082825, 0.9964239597320557, 0.9969508647918701, 0.22623099386692047, 0.7712420225143433, 0.536270797252655, 0.15715904533863068, 0.10580664128065109, 0.20023992657661438, 0.9991300702095032, 0.9986357688903809, 0.9994102120399475, 0.9995154738426208, 0.9968482255935669, 0.998986542224884, 0.18781714141368866, 0.8118547201156616, 0.9997523427009583, 0.25978776812553406, 0.2297545075416565, 0.427223265171051, 0.08259148895740509, 0.8526477217674255, 0.14735905826091766, 0.6858482360839844, 0.00061621586792171, 0.15282152593135834, 0.09458913654088974, 0.06624320149421692, 0.8136764168739319, 0.11888951063156128, 0.06661185622215271, 0.9986140727996826, 0.18977558612823486, 0.11687260121107101, 0.06219536066055298, 0.1487676501274109, 0.18430785834789276, 0.14990676939487457, 0.09067308902740479, 0.0009112873231060803, 0.033261988312006, 0.023010004311800003, 0.8772762417793274, 0.12190264463424683, 0.997726559638977, 0.9903155565261841, 0.00748820835724473, 0.18080145120620728, 0.7298610806465149, 0.08873690664768219, 0.9968812465667725, 0.9967601299285889, 0.9985324740409851, 0.9998903274536133, 0.9974530935287476, 0.9983149766921997, 0.29420921206474304, 0.7049705386161804, 0.2818869948387146, 0.5394197702407837, 0.1787702441215515, 0.1331402212381363, 0.6740530729293823, 0.19258658587932587, 0.9987077713012695, 0.99714595079422, 0.998667299747467, 0.9973326325416565, 0.9974141120910645, 0.9986729025840759, 0.9948376417160034, 0.9969018697738647, 0.9993485808372498, 0.9981629252433777, 0.9992153644561768, 0.9981303811073303, 0.9981976747512817, 0.9986688494682312, 0.9989595413208008, 0.9997619986534119, 0.998629629611969, 0.9177310466766357, 0.08191907405853271, 0.9981166124343872, 0.9993839263916016, 0.9994393587112427, 0.27882394194602966, 0.01811692677438259, 0.3711760640144348, 0.12372535467147827, 0.07732834666967392, 0.09632902592420578, 0.034024473279714584, 0.9987586736679077, 0.20532181859016418, 0.00993492640554905, 0.059609558433294296, 0.7252496480941772, 0.9987642765045166, 0.9989739656448364, 0.9975374937057495, 0.9974460005760193, 0.9971525073051453, 0.9996069669723511, 0.9993775486946106, 0.20957565307617188, 0.11861613392829895, 0.31712913513183594, 0.14442896842956543, 0.20957565307617188, 0.21091824769973755, 0.18045739829540253, 0.6082937717437744, 0.9965170621871948, 0.9153157472610474, 0.08425158262252808, 0.0699828639626503, 0.1364312320947647, 0.11451740562915802, 0.12087948620319366, 0.11381050944328308, 0.42413854598999023, 0.020500030368566513, 0.9994984269142151, 0.9997890591621399, 0.9968687295913696, 0.9976682662963867, 0.9976193308830261, 0.33101311326026917, 0.10659744590520859, 0.33407333493232727, 0.12495873123407364, 0.10328221321105957, 0.9992073774337769, 0.9977993965148926, 0.12542645633220673, 0.26424112915992737, 0.1525552123785019, 0.45766565203666687, 0.9985378980636597, 0.5898517966270447, 0.14993612468242645, 0.15302759408950806, 0.1072738915681839, 0.998162031173706], \"Term\": [\"2016\", \"2016\", \"2017\", \"age\", \"alcohol\", \"alone\", \"also\", \"also\", \"also\", \"always\", \"always\", \"always\", \"always\", \"always\", \"america\", \"america\", \"american\", \"animal\", \"another\", \"another\", \"another\", \"anyone\", \"anything\", \"anything\", \"anything\", \"app\", \"art\", \"as\", \"ask\", \"ask\", \"asking\", \"attack\", \"awesome\", \"baby\", \"back\", \"back\", \"bacon\", \"bad\", \"bad\", \"bad\", \"bad\", \"bad\", \"ball\", \"ball\", \"bank\", \"bar\", \"beach\", \"bed\", \"beer\", \"believe\", \"believe\", \"best\", \"best\", \"best\", \"best\", \"best\", \"better\", \"better\", \"better\", \"better\", \"better\", \"big\", \"bill\", \"black\", \"block\", \"blood\", \"blue\", \"body\", \"bone\", \"book\", \"box\", \"boy\", \"boy\", \"brain\", \"break\", \"break\", \"broke\", \"broken\", \"broken\", \"brother\", \"business\", \"butt\", \"butter\", \"button\", \"buy\", \"buy\", \"buy\", \"buy\", \"buy\", \"buy\", \"buy\", \"cake\", \"candy\", \"cant\", \"cant\", \"card\", \"care\", \"care\", \"catch\", \"caught\", \"change\", \"change\", \"changed\", \"character\", \"check\", \"check\", \"cheese\", \"child\", \"chocolate\", \"choice\", \"choose\", \"christmas\", \"christmas\", \"city\", \"clinton\", \"club\", \"coffee\", \"coffee\", \"cold\", \"control\", \"cook\", \"could\", \"could\", \"could\", \"could\", \"could\", \"could\", \"country\", \"course\", \"cut\", \"cute\", \"dad\", \"dad\", \"daily\", \"dance\", \"day\", \"day\", \"day\", \"day\", \"day\", \"day\", \"day\", \"dead\", \"dear\", \"death\", \"decided\", \"dick\", \"die\", \"died\", \"diet\", \"dinner\", \"doctor\", \"doesnt\", \"doesnt\", \"dog\", \"dollar\", \"donald\", \"done\", \"dont\", \"double\", \"dream\", \"dress\", \"drink\", \"drinking\", \"drug\", \"drunk\", \"duck\", \"dude\", \"early\", \"easy\", \"eat\", \"eat\", \"eating\", \"edt\", \"election\", \"else\", \"email\", \"end\", \"end\", \"end\", \"end\", \"enjoy\", \"enjoy\", \"enough\", \"even\", \"even\", \"even\", \"even\", \"even\", \"ever\", \"everybody\", \"everyday\", \"extra\", \"facebook\", \"fall\", \"fall\", \"family\", \"family\", \"family\", \"fart\", \"fat\", \"father\", \"favorite\", \"fear\", \"fear\", \"feel\", \"fight\", \"film\", \"find\", \"find\", \"find\", \"finger\", \"first\", \"first\", \"first\", \"first\", \"first\", \"fish\", \"fit\", \"food\", \"food\", \"forget\", \"free\", \"free\", \"friday\", \"friend\", \"fuck\", \"fuck\", \"fuck\", \"fucking\", \"fucking\", \"fucking\", \"fun\", \"fun\", \"funny\", \"funny\", \"future\", \"game\", \"gift\", \"gift\", \"gift\", \"gift\", \"girl\", \"girl\", \"girl\", \"girl\", \"girl\", \"girlfriend\", \"give\", \"give\", \"give\", \"give\", \"glass\", \"god\", \"gone\", \"good\", \"got\", \"government\", \"great\", \"group\", \"gun\", \"hair\", \"halloween\", \"hand\", \"happens\", \"happiness\", \"happy\", \"happy\", \"happy\", \"hard\", \"hard\", \"hard\", \"hashtag\", \"hate\", \"hate\", \"hate\", \"hell\", \"hello\", \"hey\", \"high\", \"high\", \"hill\", \"hillary\", \"history\", \"hit\", \"hit\", \"holiday\", \"home\", \"home\", \"hour\", \"house\", \"human\", \"hurt\", \"husband\", \"ice\", \"idea\", \"ill\", \"ill\", \"ill\", \"inside\", \"iphone\", \"isnt\", \"isnt\", \"ive\", \"ive\", \"ive\", \"jail\", \"jesus\", \"jesus\", \"join\", \"kill\", \"kill\", \"king\", \"kiss\", \"know\", \"lady\", \"last\", \"last\", \"last\", \"late\", \"laugh\", \"law\", \"learn\", \"learn\", \"leave\", \"let\", \"let\", \"let\", \"let\", \"let\", \"lie\", \"life\", \"life\", \"life\", \"life\", \"life\", \"life\", \"like\", \"like\", \"like\", \"list\", \"little\", \"little\", \"little\", \"live\", \"live\", \"live\", \"living\", \"lol\", \"long\", \"look\", \"lost\", \"lot\", \"lot\", \"love\", \"make\", \"make\", \"make\", \"make\", \"make\", \"make\", \"make\", \"make\", \"making\", \"making\", \"making\", \"man\", \"man\", \"man\", \"man\", \"many\", \"many\", \"many\", \"many\", \"many\", \"married\", \"matter\", \"may\", \"may\", \"may\", \"may\", \"men\", \"men\", \"men\", \"met\", \"million\", \"minute\", \"miss\", \"mom\", \"mom\", \"monday\", \"monday\", \"money\", \"money\", \"money\", \"morning\", \"move\", \"movie\", \"much\", \"much\", \"much\", \"much\", \"much\", \"music\", \"naked\", \"naked\", \"name\", \"name\", \"need\", \"need\", \"netflix\", \"never\", \"news\", \"news\", \"next\", \"next\", \"next\", \"nice\", \"nice\", \"night\", \"note\", \"nothing\", \"nothing\", \"nothing\", \"number\", \"obama\", \"obama\", \"office\", \"old\", \"opinion\", \"orange\", \"order\", \"pant\", \"pant\", \"park\", \"part\", \"part\", \"party\", \"party\", \"party\", \"pay\", \"peace\", \"people\", \"people\", \"people\", \"people\", \"people\", \"pet\", \"phone\", \"phone\", \"phone\", \"photo\", \"photo\", \"pic\", \"picture\", \"pizza\", \"place\", \"plan\", \"plan\", \"play\", \"playing\", \"please\", \"please\", \"pokemon\", \"politics\", \"potter\", \"ppl\", \"president\", \"problem\", \"pussy\", \"put\", \"rain\", \"read\", \"real\", \"reality\", \"realize\", \"really\", \"really\", \"reason\", \"reason\", \"relationship\", \"religion\", \"respect\", \"ring\", \"rock\", \"rule\", \"running\", \"russia\", \"said\", \"said\", \"said\", \"said\", \"said\", \"said\", \"said\", \"saved\", \"saw\", \"say\", \"say\", \"say\", \"say\", \"school\", \"school\", \"school\", \"second\", \"secret\", \"see\", \"see\", \"see\", \"see\", \"see\", \"see\", \"see\", \"selfie\", \"selfies\", \"sent\", \"sex\", \"sex\", \"share\", \"shoe\", \"short\", \"shot\", \"show\", \"show\", \"side\", \"single\", \"sleep\", \"sleeping\", \"smell\", \"smile\", \"smile\", \"smoke\", \"social\", \"something\", \"something\", \"something\", \"sometimes\", \"son\", \"song\", \"song\", \"sorry\", \"sorry\", \"sorry\", \"sound\", \"space\", \"speech\", \"star\", \"start\", \"start\", \"started\", \"stay\", \"stay\", \"step\", \"stick\", \"still\", \"stop\", \"stop\", \"stop\", \"stop\", \"stop\", \"story\", \"story\", \"suit\", \"summer\", \"sun\", \"sunday\", \"tag\", \"tag\", \"take\", \"take\", \"take\", \"take\", \"talk\", \"talking\", \"tax\", \"tell\", \"text\", \"thank\", \"thanks\", \"thanks\", \"thats\", \"there\", \"there\", \"there\", \"there\", \"thing\", \"thing\", \"think\", \"think\", \"think\", \"think\", \"think\", \"thought\", \"thought\", \"thought\", \"ticket\", \"time\", \"time\", \"time\", \"time\", \"time\", \"time\", \"time\", \"time\", \"time\", \"time\", \"today\", \"today\", \"toilet\", \"tomorrow\", \"tomorrow\", \"top\", \"top\", \"top\", \"train\", \"treat\", \"tree\", \"trump\", \"trust\", \"truth\", \"turn\", \"turn\", \"tweet\", \"tweet\", \"tweet\", \"twitter\", \"twitter\", \"twitter\", \"two\", \"ugly\", \"understand\", \"united\", \"vegan\", \"video\", \"vodka\", \"voice\", \"vote\", \"voting\", \"wake\", \"walk\", \"walking\", \"wall\", \"wanna\", \"want\", \"wanted\", \"war\", \"war\", \"wasnt\", \"watch\", \"water\", \"way\", \"way\", \"way\", \"way\", \"way\", \"way\", \"way\", \"wear\", \"wearing\", \"wearing\", \"wearing\", \"wearing\", \"weed\", \"week\", \"weird\", \"went\", \"west\", \"white\", \"wine\", \"without\", \"without\", \"without\", \"without\", \"without\", \"woman\", \"woman\", \"woman\", \"wonderful\", \"wont\", \"wont\", \"word\", \"word\", \"word\", \"word\", \"word\", \"word\", \"word\", \"work\", \"world\", \"worry\", \"worst\", \"worth\", \"would\", \"would\", \"would\", \"would\", \"would\", \"wrong\", \"yeah\", \"year\", \"year\", \"year\", \"year\", \"yes\", \"youre\", \"youre\", \"youre\", \"youre\", \"youve\"]}, \"R\": 30, \"lambda.step\": 0.01, \"plot.opts\": {\"xlab\": \"PC1\", \"ylab\": \"PC2\"}, \"topic.order\": [2, 10, 3, 7, 6, 5, 9, 8, 1, 4]};\n",
       "\n",
       "function LDAvis_load_lib(url, callback){\n",
       "  var s = document.createElement('script');\n",
       "  s.src = url;\n",
       "  s.async = true;\n",
       "  s.onreadystatechange = s.onload = callback;\n",
       "  s.onerror = function(){console.warn(\"failed to load library \" + url);};\n",
       "  document.getElementsByTagName(\"head\")[0].appendChild(s);\n",
       "}\n",
       "\n",
       "if(typeof(LDAvis) !== \"undefined\"){\n",
       "   // already loaded: just create the visualization\n",
       "   !function(LDAvis){\n",
       "       new LDAvis(\"#\" + \"ldavis_el616811138608302164543282514\", ldavis_el616811138608302164543282514_data);\n",
       "   }(LDAvis);\n",
       "}else if(typeof define === \"function\" && define.amd){\n",
       "   // require.js is available: use it to load d3/LDAvis\n",
       "   require.config({paths: {d3: \"https://cdnjs.cloudflare.com/ajax/libs/d3/3.5.5/d3.min\"}});\n",
       "   require([\"d3\"], function(d3){\n",
       "      window.d3 = d3;\n",
       "      LDAvis_load_lib(\"https://cdn.rawgit.com/bmabey/pyLDAvis/files/ldavis.v1.0.0.js\", function(){\n",
       "        new LDAvis(\"#\" + \"ldavis_el616811138608302164543282514\", ldavis_el616811138608302164543282514_data);\n",
       "      });\n",
       "    });\n",
       "}else{\n",
       "    // require.js not available: dynamically load d3 & LDAvis\n",
       "    LDAvis_load_lib(\"https://cdnjs.cloudflare.com/ajax/libs/d3/3.5.5/d3.min.js\", function(){\n",
       "         LDAvis_load_lib(\"https://cdn.rawgit.com/bmabey/pyLDAvis/files/ldavis.v1.0.0.js\", function(){\n",
       "                 new LDAvis(\"#\" + \"ldavis_el616811138608302164543282514\", ldavis_el616811138608302164543282514_data);\n",
       "            })\n",
       "         });\n",
       "}\n",
       "</script>"
      ],
      "text/plain": [
       "<IPython.core.display.HTML object>"
      ]
     },
     "execution_count": 43,
     "metadata": {},
     "output_type": "execute_result"
    }
   ],
   "source": [
    "# http://tlfvincent.github.io/2015/10/23/presidential-speech-topics/#topic=1&lambda=1&term=\n",
    "vis_data = gensimvis.prepare(tweet_topics, corpus, dictionary)\n",
    "pyLDAvis.display(vis_data)"
   ]
  },
  {
   "cell_type": "markdown",
   "metadata": {},
   "source": [
    "### Output Visualization Tool to HTML"
   ]
  },
  {
   "cell_type": "code",
   "execution_count": 44,
   "metadata": {},
   "outputs": [],
   "source": [
    "# save viz output to an HTML file\n",
    "vis_data = gensimvis.prepare(tweet_topics, corpus, dictionary)\n",
    "\n",
    "pyLDAvis.save_html(vis_data, 'pyLDAviz_left-troll.html')"
   ]
  }
 ],
 "metadata": {
  "hide_input": false,
  "kernelspec": {
   "display_name": "Python 3",
   "language": "python",
   "name": "python3"
  },
  "language_info": {
   "codemirror_mode": {
    "name": "ipython",
    "version": 3
   },
   "file_extension": ".py",
   "mimetype": "text/x-python",
   "name": "python",
   "nbconvert_exporter": "python",
   "pygments_lexer": "ipython3",
   "version": "3.6.7"
  }
 },
 "nbformat": 4,
 "nbformat_minor": 2
}
