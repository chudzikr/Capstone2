{
 "cells": [
  {
   "cell_type": "markdown",
   "metadata": {},
   "source": [
    "# Capstone 2 Project - Russian Troll Tweets NLP"
   ]
  },
  {
   "cell_type": "markdown",
   "metadata": {},
   "source": [
    "### Initial tweet data exploration\n",
    "First, I'll join together all of the tweet data, reading and joining all of the 13 data files"
   ]
  },
  {
   "cell_type": "markdown",
   "metadata": {},
   "source": [
    "I will use the Tweets to explore questions about the nature of the disinformation campaign, such as:\n",
    "* Did the tweets increase in frequency or volume around the time of major events? \n",
    "* Did other trolls retweet and amplify troll tweets?\n",
    "* Can clusters be made of Twitter handles/’users’ grouped with similar features?\n",
    "* Can common topics or themes be identified?\n",
    "* What were the most-used hashtags?\n",
    "* Did the tweets predominantly support one candidate or political party, or seek to undermine the other?\n",
    "\n",
    "After the analysis of the entire set of troll tweets, I will segment the troll classes* and analyze each individually.  The \"troll classes\", as defined by Clemson University's Darren Linvill and Patrick Warren in their analysis of the Russian Troll Farm Twitter data."
   ]
  },
  {
   "cell_type": "markdown",
   "metadata": {},
   "source": [
    "## Data Dictionary\n",
    "\n",
    "Header | Definition\n",
    "-------|---------\n",
    "`external_author_id` | An author account ID from Twitter \n",
    "`author` | The handle sending the tweet\n",
    "`content` | The text of the tweet\n",
    "`region` | A region classification, as [determined by Social Studio](https://help.salesforce.com/articleView?   id=000199367&type=1)\n",
    "`language` | The language of the tweet\n",
    "`publish_date` | The date and time the tweet was sent\n",
    "`harvested_date` | The date and time the tweet was collected by Social Studio\n",
    "`following` | The number of accounts the handle was following at the time of the tweet\n",
    "`followers` | The number of followers the handle had at the time of the tweet\n",
    "`updates` | The number of “update actions” on the account that authored the tweet, including tweets, retweets and likes\n",
    "`post_type` | Indicates if the tweet was a retweet or a quote-tweet\n",
    "`account_type` | Specific account theme, as coded by Linvill and Warren\n",
    "`retweet` | A binary indicator of whether or not the tweet is a retweet\n",
    "`account_category` | General account theme, as coded by Linvill and Warren\n",
    "`new_june_2018` | A binary indicator of whether the handle was newly listed in June 2018"
   ]
  },
  {
   "cell_type": "code",
   "execution_count": 11,
   "metadata": {},
   "outputs": [],
   "source": [
    "# import standard libraries\n",
    "import pandas as pd\n",
    "pd.set_option(\"display.max_colwidth\", 200)\n",
    "#import numpy as np\n",
    "#import datetime\n",
    "import re\n",
    "import matplotlib.pyplot as plt\n",
    "import seaborn as sns\n",
    "#get_ipython().run_line_magic('matplotlib', 'inline')"
   ]
  },
  {
   "cell_type": "code",
   "execution_count": 12,
   "metadata": {},
   "outputs": [],
   "source": [
    "# import nltk libraries\n",
    "from nltk.corpus import stopwords\n",
    "from nltk import FreqDist\n",
    "#nltk.download('stopwords') # run one time"
   ]
  },
  {
   "cell_type": "code",
   "execution_count": 13,
   "metadata": {},
   "outputs": [],
   "source": [
    "# import gensim libraries\n",
    "from gensim.models.ldamulticore import LdaMulticore\n",
    "from gensim.test.utils import datapath\n",
    "from gensim import corpora\n",
    "from gensim.utils import any2unicode"
   ]
  },
  {
   "cell_type": "code",
   "execution_count": 20,
   "metadata": {},
   "outputs": [],
   "source": [
    "# encoding='utf-8',\n",
    "#right_troll = pd.read_csv('../data/right_troll.csv', parse_dates = ['publish_date'], low_memory=False)\n",
    "#nonenglish = pd.read_csv('../data/nonenglish.csv', parse_dates = ['publish_date'], low_memory=False)\n",
    "#fearmonger = pd.read_csv('../data/fearmonger.csv', parse_dates = ['publish_date'], low_memory=False)\n",
    "#left_troll = pd.read_csv('../data/left_troll.csv', parse_dates = ['publish_date'], low_memory=False)\n",
    "#hashtagamer = pd.read_csv('../data/hashtagamer.csv', parse_dates = ['publish_date'], low_memory=False)\n",
    "#newsfeed = pd.read_csv('../data/newsfeed.csv', parse_dates = ['publish_date'], low_memory=False)\n",
    "#commercial = pd.read_csv('../data/commercial.csv', parse_dates = ['publish_date'], low_memory=False)\n",
    "# print(df.shape)"
   ]
  },
  {
   "cell_type": "code",
   "execution_count": 21,
   "metadata": {},
   "outputs": [],
   "source": [
    "# read each troll classification file as 'df', for repurposing code for each class\n",
    "# nrows=100, \n",
    "full_df = pd.read_csv('../data/all_IRAhandle_tweets.csv', parse_dates = ['publish_date'], low_memory=False)\n",
    "name = 'Right Troll'"
   ]
  },
  {
   "cell_type": "code",
   "execution_count": 22,
   "metadata": {},
   "outputs": [],
   "source": [
    "df = full_df[full_df['account_category'] == \"RightTroll\"]"
   ]
  },
  {
   "cell_type": "code",
   "execution_count": 23,
   "metadata": {},
   "outputs": [
    {
     "name": "stderr",
     "output_type": "stream",
     "text": [
      "/Users/admin/anaconda3/lib/python3.6/site-packages/pandas/core/frame.py:3697: SettingWithCopyWarning: \n",
      "A value is trying to be set on a copy of a slice from a DataFrame\n",
      "\n",
      "See the caveats in the documentation: http://pandas.pydata.org/pandas-docs/stable/indexing.html#indexing-view-versus-copy\n",
      "  errors=errors)\n"
     ]
    }
   ],
   "source": [
    "df.drop('Unnamed: 0', axis=1, inplace=True)\n",
    "# drop rows with problematic character encoding\n",
    "#df.drop([58, 59], axis=0, inplace=True)\n",
    "#df.head()"
   ]
  },
  {
   "cell_type": "code",
   "execution_count": 24,
   "metadata": {},
   "outputs": [
    {
     "name": "stderr",
     "output_type": "stream",
     "text": [
      "/Users/admin/anaconda3/lib/python3.6/site-packages/ipykernel_launcher.py:1: SettingWithCopyWarning: \n",
      "A value is trying to be set on a copy of a slice from a DataFrame.\n",
      "Try using .loc[row_indexer,col_indexer] = value instead\n",
      "\n",
      "See the caveats in the documentation: http://pandas.pydata.org/pandas-docs/stable/indexing.html#indexing-view-versus-copy\n",
      "  \"\"\"Entry point for launching an IPython kernel.\n"
     ]
    }
   ],
   "source": [
    "df['cleaned'] = df['content'].fillna('').astype(str).map(any2unicode)"
   ]
  },
  {
   "cell_type": "markdown",
   "metadata": {},
   "source": [
    "## Text Preprocessing\n",
    "* Noise Removal\n",
    "* Tokenization\n",
    "* Normalization  \n",
    "(1) stemming\n",
    "(2) lemmatization, and \n",
    "(3) everything else"
   ]
  },
  {
   "cell_type": "markdown",
   "metadata": {},
   "source": [
    "### Remove URLs and non-English Characters"
   ]
  },
  {
   "cell_type": "code",
   "execution_count": 25,
   "metadata": {},
   "outputs": [],
   "source": [
    "def preprocess_text(text):\n",
    "    '''Remove URLs and Non-English characters, except for @ and #'''\n",
    "    # remove URL's\n",
    "    text = re.sub(r'\\w+:\\/{2}[\\d\\w-]+(\\.[\\d\\w-]+)*(?:(?:\\/[^\\s/]*))*', '', text)\n",
    "\n",
    "    # remove symbols excluding the @, # and \\s symbol\n",
    "    text = re.sub(r'[^\\w@#\\s]', '', text)\n",
    "\n",
    "    # remove URL's\n",
    "    text = re.sub('(https://[^\\s]+)', '', text)\n",
    "    text = re.sub('https?://[A-Za-z0-9./]+', '', text)\n",
    "\n",
    "    # remove URL's\n",
    "    text = re.sub('http?://[A-Za-z0-9./]+', '', text)\n",
    "\n",
    "    # lowercase, remove words less than len 2 & remove numbers in tokenized list\n",
    "    #return [word.lower() for word in text if len(word) > 2 and not word.isdigit() and not word in ignore_words]\n",
    "    return text"
   ]
  },
  {
   "cell_type": "code",
   "execution_count": 26,
   "metadata": {},
   "outputs": [
    {
     "name": "stderr",
     "output_type": "stream",
     "text": [
      "/Users/admin/anaconda3/lib/python3.6/site-packages/ipykernel_launcher.py:1: SettingWithCopyWarning: \n",
      "A value is trying to be set on a copy of a slice from a DataFrame.\n",
      "Try using .loc[row_indexer,col_indexer] = value instead\n",
      "\n",
      "See the caveats in the documentation: http://pandas.pydata.org/pandas-docs/stable/indexing.html#indexing-view-versus-copy\n",
      "  \"\"\"Entry point for launching an IPython kernel.\n"
     ]
    }
   ],
   "source": [
    "df['cleaned'] = df['cleaned'].apply(preprocess_text)"
   ]
  },
  {
   "cell_type": "markdown",
   "metadata": {},
   "source": [
    "### Hashtag Analysis"
   ]
  },
  {
   "cell_type": "code",
   "execution_count": 27,
   "metadata": {},
   "outputs": [],
   "source": [
    "# regex to find hashtags\n",
    "hashtag_re = re.compile(\"(?:^|\\s)[＃#]{1}(\\w+)\", re.UNICODE)\n",
    "\n",
    "def extract_hashtags(tweet):\n",
    "    '''Take in tweet contents from 'cleaned' content, extract hashtags and return cleaned text'''\n",
    "    hashtags_only = []\n",
    "    if len(re.findall(hashtag_re, tweet)) > 0:\n",
    "        hashtags_only.append(re.findall(hashtag_re, tweet))\n",
    "    else:\n",
    "        hashtags_only.append([\"0\"])\n",
    "    return hashtags_only[0]"
   ]
  },
  {
   "cell_type": "code",
   "execution_count": 28,
   "metadata": {},
   "outputs": [
    {
     "name": "stderr",
     "output_type": "stream",
     "text": [
      "/Users/admin/anaconda3/lib/python3.6/site-packages/ipykernel_launcher.py:2: SettingWithCopyWarning: \n",
      "A value is trying to be set on a copy of a slice from a DataFrame.\n",
      "Try using .loc[row_indexer,col_indexer] = value instead\n",
      "\n",
      "See the caveats in the documentation: http://pandas.pydata.org/pandas-docs/stable/indexing.html#indexing-view-versus-copy\n",
      "  \n"
     ]
    },
    {
     "data": {
      "text/plain": [
       "0                     [0]\n",
       "1                     [0]\n",
       "2            [BoycottNFL]\n",
       "3                     [0]\n",
       "4     [StandForOurAnthem]\n",
       "5                     [0]\n",
       "6                     [0]\n",
       "7                     [0]\n",
       "8                     [0]\n",
       "9                     [0]\n",
       "10                    [0]\n",
       "11                    [0]\n",
       "12                    [0]\n",
       "13                    [0]\n",
       "14                    [0]\n",
       "15                    [0]\n",
       "16                    [0]\n",
       "17                    [0]\n",
       "18                    [0]\n",
       "19                    [0]\n",
       "20                    [0]\n",
       "21                    [0]\n",
       "22                    [0]\n",
       "23                    [0]\n",
       "24         [HipHopAwards]\n",
       "Name: hashtags, dtype: object"
      ]
     },
     "execution_count": 28,
     "metadata": {},
     "output_type": "execute_result"
    }
   ],
   "source": [
    "# Create a new column to store hashtags, extract hashtags from 'content'\n",
    "df['hashtags'] = df['cleaned'].map(extract_hashtags)\n",
    "df['hashtags'].head(25)"
   ]
  },
  {
   "cell_type": "code",
   "execution_count": 29,
   "metadata": {},
   "outputs": [],
   "source": [
    "# remove all hashtags from a tweet\n",
    "def remove_hashtags(tweet):\n",
    "    '''After extracting hashtags, take in tweet content and remove hashtags'''\n",
    "    hashtags_only = []\n",
    "    if len(re.findall(hashtag_re, tweet)) > 0:\n",
    "        tweet = re.sub(hashtag_re, \"\", tweet)\n",
    "    hashtags_only.append(tweet)\n",
    "    return hashtags_only[0]"
   ]
  },
  {
   "cell_type": "code",
   "execution_count": 30,
   "metadata": {},
   "outputs": [
    {
     "name": "stderr",
     "output_type": "stream",
     "text": [
      "/Users/admin/anaconda3/lib/python3.6/site-packages/ipykernel_launcher.py:2: SettingWithCopyWarning: \n",
      "A value is trying to be set on a copy of a slice from a DataFrame.\n",
      "Try using .loc[row_indexer,col_indexer] = value instead\n",
      "\n",
      "See the caveats in the documentation: http://pandas.pydata.org/pandas-docs/stable/indexing.html#indexing-view-versus-copy\n",
      "  \n"
     ]
    }
   ],
   "source": [
    "# Clean hashtags fron 'cleaned' content\n",
    "df['cleaned'] = df['cleaned'].apply(remove_hashtags)"
   ]
  },
  {
   "cell_type": "code",
   "execution_count": 31,
   "metadata": {},
   "outputs": [
    {
     "name": "stdout",
     "output_type": "stream",
     "text": [
      "0                 429355\n",
      "MAGA               14394\n",
      "tcot               10531\n",
      "PJNET              10138\n",
      "top                 7416\n",
      "news                6708\n",
      "mar                 4865\n",
      "topl                4399\n",
      "FAKENEWS            4352\n",
      "IslamKills          4209\n",
      "2A                  3999\n",
      "Trump               3728\n",
      "WakeUpAmerica       3705\n",
      "TCOT                3367\n",
      "ccot                3335\n",
      "GOPDebate           3210\n",
      "amb                 2914\n",
      "TrumpTrain          2774\n",
      "may                 2583\n",
      "DemnDebate          2469\n",
      "ISIS                2315\n",
      "Trump2016           2288\n",
      "VegasGOPDebate      2271\n",
      "DemDebate           2258\n",
      "pjnet               2244\n",
      "dtype: int64\n"
     ]
    }
   ],
   "source": [
    "# create a list of all hashtags\n",
    "all_hashtags = df['hashtags'].tolist()\n",
    "\n",
    "# all_hashtags is a list of lists.\n",
    "cleaned_hashtags = []\n",
    "for i in all_hashtags:\n",
    "    for j in i:\n",
    "            cleaned_hashtags.append(j)\n",
    "\n",
    "# remove the '0' from the list\n",
    "def remove_values_from_list(the_list, val):\n",
    "   return [value for value in the_list if value != val]\n",
    "\n",
    "# cleaned_hashtags list\n",
    "cleaned_hashtags = remove_values_from_list(cleaned_hashtags, 0)\n",
    "\n",
    "# Convert cleaned_hashtags to a series and count the most frequent occuring\n",
    "cleaned_hashtag_series = pd.Series(cleaned_hashtags)\n",
    "hashtag_counts = cleaned_hashtag_series.value_counts()\n",
    "print(hashtag_counts[:25])"
   ]
  },
  {
   "cell_type": "markdown",
   "metadata": {},
   "source": [
    "### Get User Mentions"
   ]
  },
  {
   "cell_type": "code",
   "execution_count": 32,
   "metadata": {},
   "outputs": [],
   "source": [
    "#Regex to get user mentions \"@\":\n",
    "twitter_username_re = re.compile(\"(?:^|\\s)[＠ @]{1}([^\\s#<>[\\]|{}]+)\", re.UNICODE)\n",
    "\n",
    "def extract_usermentions(tweet):\n",
    "    '''Take in tweet contents from 'cleaned' col and extract user mentions'''\n",
    "    mentions_only = []\n",
    "    if len(re.findall(twitter_username_re, tweet)) > 0:\n",
    "        mentions_only.append(re.findall(twitter_username_re, tweet))\n",
    "    else:\n",
    "        mentions_only.append([\"0\"])\n",
    "    return mentions_only[0]"
   ]
  },
  {
   "cell_type": "code",
   "execution_count": 33,
   "metadata": {},
   "outputs": [
    {
     "name": "stderr",
     "output_type": "stream",
     "text": [
      "/Users/admin/anaconda3/lib/python3.6/site-packages/ipykernel_launcher.py:2: SettingWithCopyWarning: \n",
      "A value is trying to be set on a copy of a slice from a DataFrame.\n",
      "Try using .loc[row_indexer,col_indexer] = value instead\n",
      "\n",
      "See the caveats in the documentation: http://pandas.pydata.org/pandas-docs/stable/indexing.html#indexing-view-versus-copy\n",
      "  \n"
     ]
    },
    {
     "data": {
      "text/plain": [
       "0                            [@nedryun]\n",
       "1                                   [0]\n",
       "2                                   [0]\n",
       "3                                   [0]\n",
       "4                                   [0]\n",
       "5                                   [0]\n",
       "6                                   [0]\n",
       "7    [SenatorMenendez, CarmenYulinCruz]\n",
       "8                                   [0]\n",
       "9                                 [CNN]\n",
       "Name: mentions, dtype: object"
      ]
     },
     "execution_count": 33,
     "metadata": {},
     "output_type": "execute_result"
    }
   ],
   "source": [
    "# make a new column to store the extracted mentions\n",
    "df['mentions'] = df['cleaned'].map(extract_usermentions)\n",
    "df['mentions'].head(10)"
   ]
  },
  {
   "cell_type": "code",
   "execution_count": 34,
   "metadata": {},
   "outputs": [
    {
     "name": "stdout",
     "output_type": "stream",
     "text": [
      "0                  385096\n",
      "RT                  17230\n",
      "via                 12593\n",
      "realDonaldTrump      9507\n",
      "BREAKING             6403\n",
      "The                  5348\n",
      "Trump                4736\n",
      "POTUS                4036\n",
      "CNN                  3753\n",
      "I                    3626\n",
      "HillaryClinton       3351\n",
      "Look                 2930\n",
      "FoxNews              2351\n",
      "You                  2198\n",
      "This                 2039\n",
      "Rewind               1977\n",
      "LOL                  1961\n",
      "We                   1942\n",
      "BB4SP                1902\n",
      "is                   1875\n",
      "Obama                1683\n",
      "YouTube              1592\n",
      "Watch                1500\n",
      "Why                  1401\n",
      "VIDEO                1394\n",
      "dtype: int64\n"
     ]
    }
   ],
   "source": [
    "# create a list of all mentions\n",
    "all_mentions = df['mentions'].tolist()\n",
    "\n",
    "# all_hashtags is a list of lists.\n",
    "cleaned_mentions = []\n",
    "for i in all_mentions:\n",
    "    for j in i:\n",
    "            cleaned_mentions.append(j)\n",
    "\n",
    "# remove the '0' from the list\n",
    "def remove_values_from_list(the_list, val):\n",
    "   return [value for value in the_list if value != val]\n",
    "\n",
    "# cleaned_mentions list\n",
    "cleaned_mentions = remove_values_from_list(cleaned_mentions, 0)\n",
    "\n",
    "# Convert cleaned_hashtags to a series and count the most frequent occuring\n",
    "cleaned_mentions_series = pd.Series(cleaned_mentions)\n",
    "mention_counts = cleaned_mentions_series.value_counts()\n",
    "# remove first element with values of '0'\n",
    "# mention_counts = del mention_counts[0]\n",
    "print(mention_counts[:25])"
   ]
  },
  {
   "cell_type": "code",
   "execution_count": 35,
   "metadata": {},
   "outputs": [],
   "source": [
    "# remove all mentions from a tweet\n",
    "def remove_mentions(tweet):\n",
    "    '''Take tweet content and remove @mentions from it'''\n",
    "    mentions_only = []\n",
    "    if len(re.findall(\"(@[^@\\s]+)\", tweet)) > 0:\n",
    "        tweet = re.sub(\"(@[^@\\s]+)\", \"\", tweet)\n",
    "    mentions_only.append(tweet)\n",
    "    return mentions_only[0]"
   ]
  },
  {
   "cell_type": "code",
   "execution_count": 36,
   "metadata": {},
   "outputs": [
    {
     "name": "stderr",
     "output_type": "stream",
     "text": [
      "/Users/admin/anaconda3/lib/python3.6/site-packages/ipykernel_launcher.py:2: SettingWithCopyWarning: \n",
      "A value is trying to be set on a copy of a slice from a DataFrame.\n",
      "Try using .loc[row_indexer,col_indexer] = value instead\n",
      "\n",
      "See the caveats in the documentation: http://pandas.pydata.org/pandas-docs/stable/indexing.html#indexing-view-versus-copy\n",
      "  \n"
     ]
    }
   ],
   "source": [
    "#create list of content with no hashtags\n",
    "df['cleaned'] = df['cleaned'].apply(remove_mentions)"
   ]
  },
  {
   "cell_type": "code",
   "execution_count": 37,
   "metadata": {},
   "outputs": [],
   "source": [
    "# remove unwanted characters, numbers and symbols from the remaining content\n",
    "#df['cleaned'] = df['cleaned'].str.replace(\"[^a-zA-Z#]\", \" \")"
   ]
  },
  {
   "cell_type": "markdown",
   "metadata": {},
   "source": [
    "### Create dataframes for the troll classifications\n",
    "Create dataframes for each troll classification, for easier size to work with."
   ]
  },
  {
   "cell_type": "code",
   "execution_count": 38,
   "metadata": {},
   "outputs": [],
   "source": [
    "#right_troll = df.loc[df['account_category'] == 'RightTroll']\n",
    "#nonenglish = df.loc[df['account_category'] == 'NonEnglish']\n",
    "#fearmonger = df.loc[df['account_category'] == 'Fearmonger']\n",
    "#left_troll = df.loc[df['account_category'] == 'LeftTroll']\n",
    "#hashtagamer = df.loc[df['account_category'] == 'HashtagGamer']\n",
    "#newsfeed = df.loc[df['account_category'] == 'NewsFeed']\n",
    "#commercial = df.loc[df['account_category'] == 'Commercial']"
   ]
  },
  {
   "cell_type": "code",
   "execution_count": 39,
   "metadata": {},
   "outputs": [],
   "source": [
    "#right_troll.to_csv(\"../data/right_troll.csv\")\n",
    "#nonenglish.to_csv(\"../data/nonenglish.csv\")\n",
    "#fearmonger.to_csv(\"../data/fearmonger.csv\")\n",
    "#left_troll.to_csv(\"../data/left_troll.csv\")\n",
    "#hashtagamer.to_csv(\"../data/hashtagamer.csv\")\n",
    "#newsfeed.to_csv(\"../data/newsfeed.csv\")\n",
    "#commercial.to_csv(\"../data/commercial.csv\")"
   ]
  },
  {
   "cell_type": "markdown",
   "metadata": {},
   "source": [
    "## Remove stopwords\n",
    "Remove words < 3 letters, convert to lower case"
   ]
  },
  {
   "cell_type": "code",
   "execution_count": 40,
   "metadata": {},
   "outputs": [
    {
     "data": {
      "text/plain": [
       "0    We have a sitting Democrat US Senator on trial for corruption and youve barely heard a peep from the mainstream media   \n",
       "1          Marshawn Lynch arrives to game in antiTrump shirt Judging by his sagging pants the shirt should say Lynch vs belt \n",
       "2                  Daughter of fallen Navy Sailor delivers powerful monologue on anthem protests burns her NFL packers gear  \n",
       "3     JUST IN President Trump dedicates Presidents Cup golf tournament trophy to the people of Florida Texas and Puerto Rico \n",
       "4                                                                                       19000 RESPECTING our National Anthem \n",
       "Name: cleaned, dtype: object"
      ]
     },
     "execution_count": 40,
     "metadata": {},
     "output_type": "execute_result"
    }
   ],
   "source": [
    "df.cleaned.head()"
   ]
  },
  {
   "cell_type": "code",
   "execution_count": 41,
   "metadata": {},
   "outputs": [
    {
     "name": "stderr",
     "output_type": "stream",
     "text": [
      "/Users/admin/anaconda3/lib/python3.6/site-packages/ipykernel_launcher.py:2: SettingWithCopyWarning: \n",
      "A value is trying to be set on a copy of a slice from a DataFrame.\n",
      "Try using .loc[row_indexer,col_indexer] = value instead\n",
      "\n",
      "See the caveats in the documentation: http://pandas.pydata.org/pandas-docs/stable/indexing.html#indexing-view-versus-copy\n",
      "  \n",
      "/Users/admin/anaconda3/lib/python3.6/site-packages/ipykernel_launcher.py:5: SettingWithCopyWarning: \n",
      "A value is trying to be set on a copy of a slice from a DataFrame.\n",
      "Try using .loc[row_indexer,col_indexer] = value instead\n",
      "\n",
      "See the caveats in the documentation: http://pandas.pydata.org/pandas-docs/stable/indexing.html#indexing-view-versus-copy\n",
      "  \"\"\"\n",
      "/Users/admin/anaconda3/lib/python3.6/site-packages/ipykernel_launcher.py:16: SettingWithCopyWarning: \n",
      "A value is trying to be set on a copy of a slice from a DataFrame.\n",
      "Try using .loc[row_indexer,col_indexer] = value instead\n",
      "\n",
      "See the caveats in the documentation: http://pandas.pydata.org/pandas-docs/stable/indexing.html#indexing-view-versus-copy\n",
      "  app.launch_new_instance()\n"
     ]
    },
    {
     "data": {
      "text/plain": [
       "0                  sitting democrat senator trial corruption youve barely heard peep mainstream media\n",
       "1              marshawn lynch arrives game antitrump shirt judging sagging pants shirt say lynch belt\n",
       "2      daughter fallen navy sailor delivers powerful monologue anthem protests burns nfl packers gear\n",
       "3    president trump dedicates presidents cup golf tournament trophy people florida texas puerto rico\n",
       "4                                                                    19000 respecting national anthem\n",
       "Name: cleaned, dtype: object"
      ]
     },
     "execution_count": 41,
     "metadata": {},
     "output_type": "execute_result"
    }
   ],
   "source": [
    "# remove short words (length < 3)\n",
    "df['cleaned'] = df['cleaned'].apply(lambda x: ' '.join([w for w in x.split() if len(w)>2]))\n",
    "\n",
    "# transform to lower-case\n",
    "df['cleaned'] = df['cleaned'].apply(lambda x: \" \".join(x.lower() for x in x.split()))\n",
    "#train['tweet'].head()\n",
    "\n",
    "#stop = set(stopwords.words('english'))\n",
    "stop = stopwords.words('english')\n",
    "\n",
    "#extend/add to stopwords - words that are commonly occuring but add no meaning\n",
    "#stopword_list += ['http', 'https', 'âµã', 'â½ã', 'â²ã', 'âºã', 'â¼ã', 'âµ']\n",
    "newStop = ['you','get', 'amp', 'one', 'new']\n",
    "stop.extend(newStop)\n",
    "\n",
    "df['cleaned'] = df['cleaned'].apply(lambda x: \" \".join(x for x in x.split() if x not in stop))\n",
    "df['cleaned'].head()"
   ]
  },
  {
   "cell_type": "code",
   "execution_count": 42,
   "metadata": {},
   "outputs": [],
   "source": [
    "#convert 'cleaned' Series to a list\n",
    "content = df['cleaned'].tolist()\n",
    "#content[:50]"
   ]
  },
  {
   "cell_type": "markdown",
   "metadata": {},
   "source": [
    "### Re-Check Fequency Distribution\n",
    "Re-check the word frequency distribution after doing some cleaning of the text."
   ]
  },
  {
   "cell_type": "code",
   "execution_count": 43,
   "metadata": {},
   "outputs": [],
   "source": [
    "# function to plot most frequent terms\n",
    "def freq_words(x, terms = 20):\n",
    "    ''' Take in a list of content, split into individual words, count occurrences, list 20 highest occurring words'''\n",
    "    all_words = ' '.join([text for text in x])\n",
    "    all_words = all_words.split()\n",
    "    fdist = FreqDist(all_words)\n",
    "    words_df = pd.DataFrame({'word':list(fdist.keys()), 'count':list(fdist.values())})\n",
    "    # selecting top 20 most frequent words\n",
    "    d = words_df.nlargest(columns=\"count\", n = terms)\n",
    "    return d"
   ]
  },
  {
   "cell_type": "code",
   "execution_count": 44,
   "metadata": {},
   "outputs": [
    {
     "name": "stdout",
     "output_type": "stream",
     "text": [
      "           word  count\n",
      "36        trump  83653\n",
      "120       obama  27900\n",
      "135    breaking  27381\n",
      "149     hillary  23625\n",
      "483       video  21742\n",
      "43       people  21107\n",
      "35    president  18735\n",
      "259        like  17510\n",
      "191        dont  16710\n",
      "1915        via  16142\n",
      "398     america  15113\n",
      "255     clinton  14981\n",
      "222        news  14198\n",
      "10        media  14168\n",
      "916      trumps  13296\n",
      "451       white  12283\n",
      "332        look  11516\n",
      "594        time  11355\n",
      "702        says  10894\n",
      "175        want  10775\n"
     ]
    }
   ],
   "source": [
    "counts = freq_words(content, 20)\n",
    "print(counts)"
   ]
  },
  {
   "cell_type": "markdown",
   "metadata": {},
   "source": [
    "### Plot most frequently occurring words "
   ]
  },
  {
   "cell_type": "code",
   "execution_count": 45,
   "metadata": {},
   "outputs": [
    {
     "data": {
      "image/png": "[encoded data removed]",
      "text/plain": [
       "<Figure size 1440x360 with 1 Axes>"
      ]
     },
     "metadata": {
      "needs_background": "light"
     },
     "output_type": "display_data"
    }
   ],
   "source": [
    "# Plot most frequent words\n",
    "plt.figure(figsize=(20,5))\n",
    "# rotate and right align group names\n",
    "plt.xticks(rotation=45, ha='right')\n",
    "ax = sns.barplot(data=counts, x= \"word\", y = \"count\")\n",
    "ax.set(ylabel = 'Count')\n",
    "ax.set(title = 'Top 20 Most Frequent Words')    \n",
    "plt.show()"
   ]
  },
  {
   "cell_type": "markdown",
   "metadata": {},
   "source": [
    "## Troll Amplification\n",
    "Examining the troll \"echo chamber\". Are trolls retweeting or mentioning other trolls?"
   ]
  },
  {
   "cell_type": "code",
   "execution_count": 46,
   "metadata": {},
   "outputs": [
    {
     "name": "stdout",
     "output_type": "stream",
     "text": [
      "70\n",
      "There are 70 trolls in the echo chamber.\n"
     ]
    }
   ],
   "source": [
    "# read list of users created during EDA\n",
    "users = pd.read_csv('../data/users_totals.csv', encoding='utf-8',low_memory=False)\n",
    "\n",
    "userlist = users['author'].tolist()\n",
    "lc_userlist = [x.lower() for x in userlist]\n",
    "lc_userlist.sort()\n",
    "\n",
    "amplify = cleaned_mentions_series[cleaned_mentions_series.isin(lc_userlist)]\n",
    "\n",
    "print(amplify.shape[0])\n",
    "\n",
    "# Get counts of amplified troll tweets\n",
    "amp_counts = amplify.value_counts()\n",
    "print(\"There are\",(amplify.shape[0]), \"trolls in the echo chamber.\")"
   ]
  },
  {
   "cell_type": "markdown",
   "metadata": {},
   "source": [
    "### Normalization\n",
    "3 distinct steps:  \n",
    "* stemming  \n",
    "* lemmatization  \n",
    "* everything else"
   ]
  },
  {
   "cell_type": "markdown",
   "metadata": {},
   "source": [
    "### Lemmatization"
   ]
  },
  {
   "cell_type": "code",
   "execution_count": 47,
   "metadata": {},
   "outputs": [
    {
     "name": "stderr",
     "output_type": "stream",
     "text": [
      "/Users/admin/anaconda3/lib/python3.6/site-packages/ipykernel_launcher.py:2: SettingWithCopyWarning: \n",
      "A value is trying to be set on a copy of a slice from a DataFrame.\n",
      "Try using .loc[row_indexer,col_indexer] = value instead\n",
      "\n",
      "See the caveats in the documentation: http://pandas.pydata.org/pandas-docs/stable/indexing.html#indexing-view-versus-copy\n",
      "  \n"
     ]
    },
    {
     "data": {
      "text/plain": [
       "0                sitting democrat senator trial corruption youve barely heard peep mainstream medium\n",
       "1              marshawn lynch arrives game antitrump shirt judging sagging pant shirt say lynch belt\n",
       "2        daughter fallen navy sailor delivers powerful monologue anthem protest burn nfl packer gear\n",
       "3    president trump dedicates president cup golf tournament trophy people florida texas puerto rico\n",
       "4                                                                   19000 respecting national anthem\n",
       "Name: cleaned, dtype: object"
      ]
     },
     "execution_count": 47,
     "metadata": {},
     "output_type": "execute_result"
    }
   ],
   "source": [
    "from textblob import Word\n",
    "df['cleaned'] = df['cleaned'].apply(lambda x: \" \".join([Word(word).lemmatize() for word in x.split()]))\n",
    "df['cleaned'].head()"
   ]
  },
  {
   "cell_type": "markdown",
   "metadata": {},
   "source": [
    "### Tokenize"
   ]
  },
  {
   "cell_type": "code",
   "execution_count": 48,
   "metadata": {},
   "outputs": [],
   "source": [
    "#create a list from df['cleaned']\n",
    "content_notags = df['cleaned'].tolist()\n",
    "\n",
    "# First, create a new column with the tokenized text\n",
    "from nltk.tokenize import TweetTokenizer\n",
    "tt = TweetTokenizer()\n",
    "#df['tokenized_text'] = df['content'].apply(tt.tokenize)\n",
    "# map tt.tokenize to 'content' list\n",
    "documents = list(map(tt.tokenize, content_notags))"
   ]
  },
  {
   "cell_type": "code",
   "execution_count": 49,
   "metadata": {},
   "outputs": [],
   "source": [
    "from collections import defaultdict\n",
    "\n",
    "frequency = defaultdict(int)\n",
    "for document in documents:\n",
    "    for token in document:\n",
    "        frequency[token] += 1"
   ]
  },
  {
   "cell_type": "code",
   "execution_count": 50,
   "metadata": {},
   "outputs": [],
   "source": [
    "documents = [[token for token in document if frequency[token] > 10] for document in documents]\n",
    "# create a dictionary using from gensim.corpora.Dictionary\n",
    "dictionary = corpora.Dictionary(documents)\n",
    "#Convert document (a list of words) into the bag-of-words format = list of (token_id, token_count) 2-tuples. \n",
    "corpus = [dictionary.doc2bow(document) for document in documents]"
   ]
  },
  {
   "cell_type": "code",
   "execution_count": 51,
   "metadata": {},
   "outputs": [
    {
     "data": {
      "text/plain": [
       "711668"
      ]
     },
     "execution_count": 51,
     "metadata": {},
     "output_type": "execute_result"
    }
   ],
   "source": [
    "len(corpus)"
   ]
  },
  {
   "cell_type": "markdown",
   "metadata": {},
   "source": [
    "## LDA Model\n",
    "Fit an LDA Model for the tweet topics"
   ]
  },
  {
   "cell_type": "code",
   "execution_count": 52,
   "metadata": {},
   "outputs": [],
   "source": [
    "# comment out once model is trained.\n",
    "# fit LDA model\n",
    "tweet_topics = LdaMulticore(corpus=corpus,\n",
    "                          id2word=dictionary,\n",
    "                          num_topics=10,\n",
    "                          passes=10,\n",
    "                          workers=2)"
   ]
  },
  {
   "cell_type": "code",
   "execution_count": 53,
   "metadata": {},
   "outputs": [],
   "source": [
    "# save/load model to/from disk\n",
    "\n",
    "temp_file = datapath(\"model_right_troll_tweets\")\n",
    "tweet_topics.save(temp_file)\n",
    "\n",
    "# Load a pretrained model from disk.\n",
    "#tweet_topics = LdaMulticore.load(\"model\")\n",
    "# - or -\n",
    "#m1 = LdaMulticore.load(datapath(\"lda_3_0_1_model\"))"
   ]
  },
  {
   "cell_type": "code",
   "execution_count": 54,
   "metadata": {},
   "outputs": [
    {
     "name": "stdout",
     "output_type": "stream",
     "text": [
      "0 --- (0, '0.106*\"trump\" + 0.043*\"obama\" + 0.040*\"president\" + 0.018*\"donald\" + 0.010*\"american\" + 0.010*\"supporter\" + 0.008*\"support\" + 0.007*\"job\" + 0.007*\"border\" + 0.007*\"poll\"')\n",
      "1 --- (1, '0.032*\"news\" + 0.017*\"post\" + 0.015*\"god\" + 0.015*\"fake\" + 0.014*\"medium\" + 0.013*\"shooting\" + 0.012*\"good\" + 0.008*\"thank\" + 0.008*\"morning\" + 0.007*\"bless\"')\n",
      "2 --- (2, '0.012*\"police\" + 0.011*\"man\" + 0.008*\"breaking\" + 0.007*\"killed\" + 0.007*\"found\" + 0.006*\"woman\" + 0.006*\"dead\" + 0.005*\"national\" + 0.005*\"official\" + 0.005*\"video\"')\n",
      "3 --- (3, '0.015*\"gop\" + 0.015*\"republican\" + 0.011*\"democrat\" + 0.010*\"bernie\" + 0.010*\"party\" + 0.010*\"election\" + 0.009*\"candidate\" + 0.009*\"john\" + 0.009*\"tax\" + 0.009*\"sander\"')\n",
      "4 --- (4, '0.067*\"hillary\" + 0.047*\"clinton\" + 0.016*\"well\" + 0.015*\"obama\" + 0.011*\"email\" + 0.011*\"campaign\" + 0.010*\"thanks\" + 0.009*\"comey\" + 0.009*\"fbi\" + 0.008*\"bill\"')\n",
      "5 --- (5, '0.034*\"trump\" + 0.020*\"video\" + 0.014*\"lol\" + 0.011*\"look\" + 0.010*\"tweet\" + 0.010*\"happy\" + 0.009*\"antifa\" + 0.009*\"victim\" + 0.008*\"week\" + 0.008*\"breaking\"')\n",
      "6 --- (6, '0.029*\"white\" + 0.026*\"trump\" + 0.022*\"house\" + 0.021*\"via\" + 0.016*\"cnn\" + 0.015*\"war\" + 0.010*\"racist\" + 0.009*\"cruz\" + 0.008*\"call\" + 0.008*\"liberal\"')\n",
      "7 --- (7, '0.022*\"state\" + 0.022*\"obama\" + 0.018*\"muslim\" + 0.012*\"terrorist\" + 0.012*\"russia\" + 0.012*\"isi\" + 0.010*\"attack\" + 0.009*\"via\" + 0.009*\"say\" + 0.009*\"refugee\"')\n",
      "8 --- (8, '0.021*\"america\" + 0.018*\"day\" + 0.017*\"year\" + 0.012*\"american\" + 0.011*\"country\" + 0.011*\"great\" + 0.009*\"time\" + 0.009*\"people\" + 0.009*\"best\" + 0.008*\"fight\"')\n",
      "9 --- (9, '0.023*\"people\" + 0.022*\"dont\" + 0.020*\"like\" + 0.016*\"know\" + 0.016*\"want\" + 0.014*\"think\" + 0.012*\"gun\" + 0.012*\"need\" + 0.011*\"right\" + 0.011*\"make\"')\n"
     ]
    }
   ],
   "source": [
    "# print out first 10 topics\n",
    "for i, topic in enumerate(tweet_topics.print_topics(10)):\n",
    "    print('{} --- {}'.format(i, topic))"
   ]
  },
  {
   "cell_type": "markdown",
   "metadata": {},
   "source": [
    "### Wordcloud\n",
    "Crate a basic word cloud of the topic groupings"
   ]
  },
  {
   "cell_type": "code",
   "execution_count": 55,
   "metadata": {},
   "outputs": [
    {
     "data": {
      "image/png": "[encoded data removed]",
      "text/plain": [
       "<Figure size 720x720 with 4 Axes>"
      ]
     },
     "metadata": {
      "needs_background": "light"
     },
     "output_type": "display_data"
    }
   ],
   "source": [
    "#Wordcloud of Top N words in each topic\n",
    "from matplotlib import pyplot as plt\n",
    "from wordcloud import WordCloud, STOPWORDS\n",
    "import matplotlib.colors as mcolors\n",
    "\n",
    "cols = [color for name, color in mcolors.TABLEAU_COLORS.items()]  # more colors: 'mcolors.XKCD_COLORS'\n",
    "\n",
    "cloud = WordCloud(stopwords=stop,\n",
    "                  background_color='white',\n",
    "                  width=2500,\n",
    "                  height=1800,\n",
    "                  max_words=10,\n",
    "                  colormap='tab10',\n",
    "                  color_func=lambda *args, **kwargs: cols[i],\n",
    "                  prefer_horizontal=1.0)\n",
    "\n",
    "topics = tweet_topics.show_topics(formatted=False)\n",
    "\n",
    "fig, axes = plt.subplots(2, 2, figsize=(10,10), sharex=True, sharey=True)\n",
    "\n",
    "for i, ax in enumerate(axes.flatten()):\n",
    "    fig.add_subplot(ax)\n",
    "    topic_words = dict(topics[i][1])\n",
    "    cloud.generate_from_frequencies(topic_words, max_font_size=300)\n",
    "    plt.gca().imshow(cloud)\n",
    "    plt.gca().set_title('Topic ' + str(i), fontdict=dict(size=16))\n",
    "    plt.gca().axis('off')\n",
    "\n",
    "\n",
    "plt.subplots_adjust(wspace=0, hspace=0)\n",
    "plt.axis('off')\n",
    "plt.margins(x=0, y=0)\n",
    "plt.tight_layout()\n",
    "plt.show()"
   ]
  },
  {
   "cell_type": "markdown",
   "metadata": {},
   "source": [
    "### Use pyLDAvis library to Visualize Topics"
   ]
  },
  {
   "cell_type": "code",
   "execution_count": 56,
   "metadata": {},
   "outputs": [],
   "source": [
    "## Try the pyLDAvis visualization\n",
    "import pyLDAvis.gensim as gensimvis\n",
    "import pyLDAvis"
   ]
  },
  {
   "cell_type": "code",
   "execution_count": 57,
   "metadata": {},
   "outputs": [
    {
     "ename": "NameError",
     "evalue": "name 'got' is not defined",
     "output_type": "error",
     "traceback": [
      "\u001b[0;31m---------------------------------------------------------------------------\u001b[0m",
      "\u001b[0;31mNameError\u001b[0m                                 Traceback (most recent call last)",
      "\u001b[0;32m<ipython-input-57-029d7f36aad8>\u001b[0m in \u001b[0;36m<module>\u001b[0;34m\u001b[0m\n\u001b[0;32m----> 1\u001b[0;31m \u001b[0mgot\u001b[0m\u001b[0;31m# http://tlfvincent.github.io/2015/10/23/presidential-speech-topics/#topic=1&lambda=1&term=\u001b[0m\u001b[0;34m\u001b[0m\u001b[0;34m\u001b[0m\u001b[0m\n\u001b[0m\u001b[1;32m      2\u001b[0m \u001b[0mvis_data\u001b[0m \u001b[0;34m=\u001b[0m \u001b[0mgensimvis\u001b[0m\u001b[0;34m.\u001b[0m\u001b[0mprepare\u001b[0m\u001b[0;34m(\u001b[0m\u001b[0mtweet_topics\u001b[0m\u001b[0;34m,\u001b[0m \u001b[0mcorpus\u001b[0m\u001b[0;34m,\u001b[0m \u001b[0mdictionary\u001b[0m\u001b[0;34m)\u001b[0m\u001b[0;34m\u001b[0m\u001b[0;34m\u001b[0m\u001b[0m\n\u001b[1;32m      3\u001b[0m \u001b[0mpyLDAvis\u001b[0m\u001b[0;34m.\u001b[0m\u001b[0mdisplay\u001b[0m\u001b[0;34m(\u001b[0m\u001b[0mvis_data\u001b[0m\u001b[0;34m)\u001b[0m\u001b[0;34m\u001b[0m\u001b[0;34m\u001b[0m\u001b[0m\n",
      "\u001b[0;31mNameError\u001b[0m: name 'got' is not defined"
     ]
    }
   ],
   "source": [
    "got# http://tlfvincent.github.io/2015/10/23/presidential-speech-topics/#topic=1&lambda=1&term=\n",
    "vis_data = gensimvis.prepare(tweet_topics, corpus, dictionary)\n",
    "pyLDAvis.display(vis_data)"
   ]
  },
  {
   "cell_type": "markdown",
   "metadata": {},
   "source": [
    "### Output Visualization Tool to HTML"
   ]
  },
  {
   "cell_type": "code",
   "execution_count": null,
   "metadata": {},
   "outputs": [],
   "source": [
    "# save viz output to an HTML file\n",
    "vis_data = gensimvis.prepare(tweet_topics, corpus, dictionary)\n",
    "\n",
    "pyLDAvis.save_html(vis_data, 'pyLDAviz_right-troll.html')"
   ]
  },
  {
   "cell_type": "markdown",
   "metadata": {},
   "source": [
    "### Next, examine the hashtags and topics of each troll group\n",
    "Analyze the hashtags, mentions, and topics of each of the seven \"troll classes\", as defined by Clemson University's Darren Linvill and Patrick Warren in their analysis of the Russian Troll Farm Twitter data."
   ]
  }
 ],
 "metadata": {
  "hide_input": false,
  "kernelspec": {
   "display_name": "Python 3",
   "language": "python",
   "name": "python3"
  },
  "language_info": {
   "codemirror_mode": {
    "name": "ipython",
    "version": 3
   },
   "file_extension": ".py",
   "mimetype": "text/x-python",
   "name": "python",
   "nbconvert_exporter": "python",
   "pygments_lexer": "ipython3",
   "version": "3.6.7"
  }
 },
 "nbformat": 4,
 "nbformat_minor": 2
}
