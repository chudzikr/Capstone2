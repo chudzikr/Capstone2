{
 "cells": [
  {
   "attachments": {},
   "cell_type": "markdown",
   "metadata": {},
   "source": [
    "## Get hashtags and topics of different troll classes\n",
    "\n",
    "Analyze the hashtags, mentions, and topics of each of the seven \"troll classes\", as defined by Clemson University; Darren Linvill and Patrick Warren in their analysis of the Russian Troll Farm Twitter data.\n",
    "\n",
    "***Background info on classes***\n",
    "\n",
    "### Troll Classes  \n",
    "* Right Troll - \n",
    "* Left Troll - \n",
    "* NonEnglish - \n",
    "* FearMonger - \n",
    "* HashTagGamer - \n",
    "* NewsFeed - \n",
    "* Commercial - "
   ]
  },
  {
   "cell_type": "code",
   "execution_count": 33,
   "metadata": {},
   "outputs": [],
   "source": [
    "# import standard libraries\n",
    "import pandas as pd\n",
    "pd.set_option(\"display.max_colwidth\", 200)\n",
    "import re\n",
    "import matplotlib.pyplot as plt\n",
    "import seaborn as sns\n",
    "%matplotlib inline"
   ]
  },
  {
   "cell_type": "code",
   "execution_count": 34,
   "metadata": {},
   "outputs": [],
   "source": [
    "# encoding='utf-8',\n",
    "#right_troll = pd.read_csv('../data/right_troll.csv', parse_dates = ['publish_date'], low_memory=False)\n",
    "#nonenglish = pd.read_csv('../data/nonenglish.csv', parse_dates = ['publish_date'], low_memory=False)\n",
    "#fearmonger = pd.read_csv('../data/fearmonger.csv', parse_dates = ['publish_date'], low_memory=False)\n",
    "#left_troll = pd.read_csv('../data/left_troll.csv', parse_dates = ['publish_date'], low_memory=False)\n",
    "#hashtagamer = pd.read_csv('../data/hashtagamer.csv', parse_dates = ['publish_date'], low_memory=False)\n",
    "#newsfeed = pd.read_csv('../data/newsfeed.csv', parse_dates = ['publish_date'], low_memory=False)\n",
    "#commercial = pd.read_csv('../data/commercial.csv', parse_dates = ['publish_date'], low_memory=False)\n",
    "# print(df.shape)"
   ]
  },
  {
   "cell_type": "code",
   "execution_count": 35,
   "metadata": {},
   "outputs": [],
   "source": [
    "# read each troll classification file as 'df'\n",
    "df = pd.read_csv('../data/right_troll.csv', parse_dates = ['publish_date'], low_memory=False)\n",
    "name = 'Right Troll'"
   ]
  },
  {
   "cell_type": "markdown",
   "metadata": {},
   "source": [
    "## Stopwords"
   ]
  },
  {
   "cell_type": "code",
   "execution_count": 36,
   "metadata": {},
   "outputs": [
    {
     "name": "stdout",
     "output_type": "stream",
     "text": [
      "StopWords List: \n",
      " ['i', 'me', 'my', 'myself', 'we', 'our', 'ours', 'ourselves', 'you', \"you're\", \"you've\", \"you'll\", \"you'd\", 'your', 'yours', 'yourself', 'yourselves', 'he', 'him', 'his', 'himself', 'she', \"she's\", 'her', 'hers', 'herself', 'it', \"it's\", 'its', 'itself', 'they', 'them', 'their', 'theirs', 'themselves', 'what', 'which', 'who', 'whom', 'this', 'that', \"that'll\", 'these', 'those', 'am', 'is', 'are', 'was', 'were', 'be', 'been', 'being', 'have', 'has', 'had', 'having', 'do', 'does', 'did', 'doing', 'a', 'an', 'the', 'and', 'but', 'if', 'or', 'because', 'as', 'until', 'while', 'of', 'at', 'by', 'for', 'with', 'about', 'against', 'between', 'into', 'through', 'during', 'before', 'after', 'above', 'below', 'to', 'from', 'up', 'down', 'in', 'out', 'on', 'off', 'over', 'under', 'again', 'further', 'then', 'once', 'here', 'there', 'when', 'where', 'why', 'how', 'all', 'any', 'both', 'each', 'few', 'more', 'most', 'other', 'some', 'such', 'no', 'nor', 'not', 'only', 'own', 'same', 'so', 'than', 'too', 'very', 's', 't', 'can', 'will', 'just', 'don', \"don't\", 'should', \"should've\", 'now', 'd', 'll', 'm', 'o', 're', 've', 'y', 'ain', 'aren', \"aren't\", 'couldn', \"couldn't\", 'didn', \"didn't\", 'doesn', \"doesn't\", 'hadn', \"hadn't\", 'hasn', \"hasn't\", 'haven', \"haven't\", 'isn', \"isn't\", 'ma', 'mightn', \"mightn't\", 'mustn', \"mustn't\", 'needn', \"needn't\", 'shan', \"shan't\", 'shouldn', \"shouldn't\", 'wasn', \"wasn't\", 'weren', \"weren't\", 'won', \"won't\", 'wouldn', \"wouldn't\", 'http', 'https', 'âµã', 'â½ã', 'â²ã', 'âºã', 'â¼ã', 'âµ', 'â³ã', 'â¾', 'â²', 'â¹', 'â¼', 'â¹ã', 'â½', 'âº', 'âªã']\n"
     ]
    }
   ],
   "source": [
    "# Use a stopwords list and add my own custom stopwords\n",
    "\n",
    "from nltk.corpus import stopwords\n",
    "stop_words = stopwords.words('english')\n",
    "# Use a stopwords list\n",
    "\n",
    "stopword_list = stopwords.words('english')\n",
    "\n",
    "\"\"\"\n",
    "Add my own stopwords list\n",
    "\"\"\"\n",
    "\n",
    "stopword_list += ['http', 'https', 'âµã', 'â½ã', 'â²ã', 'âºã', 'â¼ã', 'âµ']\n",
    "stopword_list += ['â³ã', 'â¾', 'â²', 'â¹', 'â¼', 'â¹ã', 'â½', 'âº', 'âªã']\n",
    "\n",
    "print(\"StopWords List: \\n\", stopword_list)"
   ]
  },
  {
   "cell_type": "markdown",
   "metadata": {},
   "source": [
    "### Remove Stopwords from each DF"
   ]
  },
  {
   "cell_type": "code",
   "execution_count": 37,
   "metadata": {},
   "outputs": [
    {
     "data": {
      "text/plain": [
       "pandas.core.series.Series"
      ]
     },
     "execution_count": 37,
     "metadata": {},
     "output_type": "execute_result"
    }
   ],
   "source": [
    "type(df['cleaned'])"
   ]
  },
  {
   "cell_type": "code",
   "execution_count": 38,
   "metadata": {},
   "outputs": [],
   "source": [
    "# function to remove stopwords\n",
    "def remove_stopwords(con):\n",
    "    con_new = \" \".join([i for i in con if i not in stop_words])\n",
    "    return con_new\n",
    "\n",
    "# remove short words (length < 3)\n",
    "df['cleaned'] = df['cleaned'].apply(lambda x: ' '.join([w for w in str(x).split() if len(w)>2]))\n",
    "#df['cleaned'] = df['cleaned'].astype(str).str.split()\n",
    "#df['cleaned'] = df['cleaned'].apply(lambda x: \" \".join(x.lower() for x in str(x).split() \\\n",
    "#                                    if x not in stop_words))\n",
    "\n",
    "#df.cleaned[1]\n",
    "\n",
    "# remove stopwords from the text\n",
    "content = [remove_stopwords(r.split()) for r in df['cleaned']]\n",
    "\n",
    "# make entire text lowercase\n",
    "content = [r.lower() for r in content]"
   ]
  },
  {
   "cell_type": "code",
   "execution_count": 39,
   "metadata": {},
   "outputs": [
    {
     "data": {
      "text/plain": [
       "['sitting democrat senator trial corruption youve barely heard peep mainstream media nedryun',\n",
       " 'marshawn lynch arrives game antitrump shirt judging sagging pants shirt say lynch belt',\n",
       " 'daughter fallen navy sailor delivers powerful monologue anthem protests burns nfl packers gear #boycottnfl',\n",
       " 'just president trump dedicates presidents cup golf tournament trophy people florida texas puerto rico',\n",
       " 'respecting national anthem #standforouranthem',\n",
       " 'dan bongino nobody trolls liberals better donald trump exactly',\n",
       " '',\n",
       " 'senatormenendez carmenyulincruz doesnt matter cnn doesnt report crimes this wont change fact youre going',\n",
       " 'much hate promoting cnn article admitting everything trump said relief two days ago',\n",
       " 'after genocide remark san juan mayor narrative changed though cnn fixes reporting constantly']"
      ]
     },
     "execution_count": 39,
     "metadata": {},
     "output_type": "execute_result"
    }
   ],
   "source": [
    "#right_troll_content = clean_stop(right_troll)\n",
    "content[:10]"
   ]
  },
  {
   "cell_type": "markdown",
   "metadata": {},
   "source": [
    "## Word Frequency"
   ]
  },
  {
   "cell_type": "code",
   "execution_count": 42,
   "metadata": {},
   "outputs": [],
   "source": [
    "from nltk import FreqDist\n",
    "\n",
    "# function to plot most frequent terms\n",
    "def freq_words(x, terms = 20):\n",
    "    all_words = ' '.join([text for text in x])\n",
    "    all_words = all_words.split()\n",
    "    fdist = FreqDist(all_words)\n",
    "    words_df = pd.DataFrame({'word':list(fdist.keys()), 'count':list(fdist.values())})\n",
    "    # selecting top 20 most frequent words\n",
    "    d = words_df.nlargest(columns=\"count\", n = terms) \n",
    "    return d"
   ]
  },
  {
   "cell_type": "code",
   "execution_count": 47,
   "metadata": {},
   "outputs": [
    {
     "name": "stdout",
     "output_type": "stream",
     "text": [
      "                 word  count\n",
      "39              trump  86262\n",
      "149               the  57527\n",
      "132             obama  27973\n",
      "148          breaking  27610\n",
      "163           hillary  23703\n",
      "69               this  23502\n",
      "341               amp  22912\n",
      "512             video  21747\n",
      "943               new  21559\n",
      "46             people  21206\n",
      "37               just  19101\n",
      "38          president  18943\n",
      "634               you  18927\n",
      "281              like  17530\n",
      "207              dont  16715\n",
      "427           america  16704\n",
      "271   realdonaldtrump  16519\n",
      "227               one  16343\n",
      "2089              via  16143\n",
      "371             #maga  15857\n"
     ]
    }
   ],
   "source": [
    "counts = freq_words(content, 20)\n",
    "print(counts)"
   ]
  },
  {
   "cell_type": "code",
   "execution_count": 44,
   "metadata": {},
   "outputs": [
    {
     "data": {
      "image/png": "[encoded data removed]",
      "text/plain": [
       "<Figure size 1440x360 with 1 Axes>"
      ]
     },
     "metadata": {
      "needs_background": "light"
     },
     "output_type": "display_data"
    }
   ],
   "source": [
    "# Plot most frequent words\n",
    "plt.figure(figsize=(20,5))\n",
    "# rotate and right align group names\n",
    "plt.xticks(rotation=45, ha='right')\n",
    "ax = sns.barplot(data=counts, x= \"word\", y = \"count\")\n",
    "ax.set(ylabel = 'Count')\n",
    "ax.set(title = 'Top 20 Most Frequent Words in ' + name + ' Class')    \n",
    "plt.show()"
   ]
  },
  {
   "cell_type": "code",
   "execution_count": 45,
   "metadata": {
    "code_folding": []
   },
   "outputs": [],
   "source": [
    "# strip hashtags from 'cleaned'\n",
    "# remove all hashtags from a tweet\n",
    "def remove_hashtags(tweet):\n",
    "    '''Provide a tweet and remove hashtags from it'''\n",
    "    hashtags_only = []\n",
    "    if len(re.findall(\"(#[^#\\s]+)\", tweet)) > 0:\n",
    "        tweet = re.sub(\"(#[^#\\s]+)\", \"\", tweet) \n",
    "    hashtags_only.append(tweet)\n",
    "    return hashtags_only[0]"
   ]
  },
  {
   "cell_type": "code",
   "execution_count": 46,
   "metadata": {},
   "outputs": [],
   "source": [
    "#create list of content with no hashtags\n",
    "content_notags = list(map(remove_hashtags, content))"
   ]
  },
  {
   "cell_type": "markdown",
   "metadata": {},
   "source": [
    "### Hashtag Analysis"
   ]
  },
  {
   "cell_type": "code",
   "execution_count": null,
   "metadata": {},
   "outputs": [],
   "source": [
    "# create a list of all hashtags\n",
    "all_hashtags = right_troll['hashtags'].tolist()\n",
    "\n",
    "# all_hashtags is a list of lists.\n",
    "cleaned_hashtags = []\n",
    "for i in all_hashtags:\n",
    "    for j in i:\n",
    "            cleaned_hashtags.append(j)\n",
    "\n",
    "# Convert cleaned_hashtags to a series and count the most frequent occuring\n",
    "cleaned_hashtag_series = pd.Series(cleaned_hashtags)\n",
    "hashtag_counts = cleaned_hashtag_series.value_counts()\n",
    "print(hashtag_counts[:25])"
   ]
  },
  {
   "cell_type": "code",
   "execution_count": null,
   "metadata": {},
   "outputs": [],
   "source": [
    "#right_troll_counts = count_hashtags(right_troll)\n",
    "#print(right_troll_counts[:25])\n",
    "#right_troll['hashtags'][:25]"
   ]
  },
  {
   "cell_type": "markdown",
   "metadata": {},
   "source": [
    "# use pre-trained model\n",
    "https://radimrehurek.com/gensim/wiki.html#latent-dirichlet-allocation\n",
    "\n",
    "As usual, a trained model can used be to transform new, unseen documents (plain bag-of-words count vectors) into LDA topic distributions:\n",
    "\n",
    "<code>doc_lda = lda[doc_bow]</code>\n",
    "\n",
    "Also, look at using Googles pre-trained model.\n",
    "\n",
    "https://machinelearningmastery.com/develop-word-embeddings-python-gensim/\n",
    "\n"
   ]
  },
  {
   "cell_type": "code",
   "execution_count": null,
   "metadata": {},
   "outputs": [],
   "source": []
  }
 ],
 "metadata": {
  "hide_input": false,
  "kernelspec": {
   "display_name": "Python 3",
   "language": "python",
   "name": "python3"
  },
  "language_info": {
   "codemirror_mode": {
    "name": "ipython",
    "version": 3
   },
   "file_extension": ".py",
   "mimetype": "text/x-python",
   "name": "python",
   "nbconvert_exporter": "python",
   "pygments_lexer": "ipython3",
   "version": "3.6.7"
  }
 },
 "nbformat": 4,
 "nbformat_minor": 2
}
