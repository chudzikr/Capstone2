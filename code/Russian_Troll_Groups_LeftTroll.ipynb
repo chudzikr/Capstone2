{
 "cells": [
  {
   "cell_type": "markdown",
   "metadata": {},
   "source": [
    "# Capstone 2 Project - Russian Troll Groups - LeftTroll"
   ]
  },
  {
   "cell_type": "markdown",
   "metadata": {},
   "source": [
    "In the analysis of each troll group, each of the troll groups* will be segmented out and analyzed each individually.  The \"troll classes\", as defined by Clemson University's Darren Linvill and Patrick Warren in their analysis of the Russian Troll Farm Twitter data.\n",
    "\n",
    "I will analyze the Troll Groups to explore questions about the nature of the disinformation campaign, such as:\n",
    "* Did other trolls retweet and amplify troll tweets?\n",
    "* Can common topics or themes be identified?\n",
    "* What were the most-used hashtags?\n",
    "* Did the tweets predominantly support one candidate or political party, or seek to undermine the other?"
   ]
  },
  {
   "cell_type": "markdown",
   "metadata": {},
   "source": [
    "## Data Dictionary\n",
    "\n",
    "Header | Definition\n",
    "-------|---------\n",
    "`external_author_id` | An author account ID from Twitter \n",
    "`author` | The handle sending the tweet\n",
    "`content` | The text of the tweet\n",
    "`region` | A region classification, as [determined by Social Studio](https://help.salesforce.com/articleView?   id=000199367&type=1)\n",
    "`language` | The language of the tweet\n",
    "`publish_date` | The date and time the tweet was sent\n",
    "`harvested_date` | The date and time the tweet was collected by Social Studio\n",
    "`following` | The number of accounts the handle was following at the time of the tweet\n",
    "`followers` | The number of followers the handle had at the time of the tweet\n",
    "`updates` | The number of “update actions” on the account that authored the tweet, including tweets, retweets and likes\n",
    "`post_type` | Indicates if the tweet was a retweet or a quote-tweet\n",
    "`account_type` | Specific account theme, as coded by Linvill and Warren\n",
    "`retweet` | A binary indicator of whether or not the tweet is a retweet\n",
    "`account_category` | General account theme, as coded by Linvill and Warren\n",
    "`new_june_2018` | A binary indicator of whether the handle was newly listed in June 2018"
   ]
  },
  {
   "cell_type": "code",
   "execution_count": 6,
   "metadata": {},
   "outputs": [],
   "source": [
    "# import standard libraries\n",
    "import pandas as pd\n",
    "pd.set_option(\"display.max_colwidth\", 200)\n",
    "#import numpy as np\n",
    "#import datetime\n",
    "import re\n",
    "import matplotlib.pyplot as plt\n",
    "import seaborn as sns\n",
    "#get_ipython().run_line_magic('matplotlib', 'inline')"
   ]
  },
  {
   "cell_type": "code",
   "execution_count": 7,
   "metadata": {},
   "outputs": [],
   "source": [
    "# import nltk libraries\n",
    "from nltk.corpus import stopwords\n",
    "from nltk import FreqDist\n",
    "#nltk.download('stopwords') # run one time"
   ]
  },
  {
   "cell_type": "code",
   "execution_count": 8,
   "metadata": {},
   "outputs": [],
   "source": [
    "# import gensim libraries\n",
    "from gensim.models.ldamulticore import LdaMulticore\n",
    "from gensim.test.utils import datapath\n",
    "from gensim import corpora\n",
    "from gensim.utils import any2unicode"
   ]
  },
  {
   "cell_type": "code",
   "execution_count": 9,
   "metadata": {},
   "outputs": [],
   "source": [
    "#suppress pandas future warnings\n",
    "import warnings\n",
    "warnings.simplefilter(action='ignore', category=FutureWarning)"
   ]
  },
  {
   "cell_type": "code",
   "execution_count": 10,
   "metadata": {},
   "outputs": [],
   "source": [
    "# read each troll classification file as 'df', for repurposing code for each class\n",
    "# nrows=100, \n",
    "full_df = pd.read_csv('../data/all_IRAhandle_tweets.csv', parse_dates = ['publish_date'], low_memory=False)"
   ]
  },
  {
   "cell_type": "code",
   "execution_count": 11,
   "metadata": {},
   "outputs": [
    {
     "data": {
      "text/plain": [
       "array(['RightTroll', 'NonEnglish', 'Fearmonger', 'LeftTroll', 'Unknown',\n",
       "       'HashtagGamer', 'NewsFeed', 'Commercial'], dtype=object)"
      ]
     },
     "execution_count": 11,
     "metadata": {},
     "output_type": "execute_result"
    }
   ],
   "source": [
    "full_df['account_category'].unique()"
   ]
  },
  {
   "cell_type": "code",
   "execution_count": 12,
   "metadata": {},
   "outputs": [],
   "source": [
    "df = full_df[full_df['account_category'] == \"LeftTroll\"]"
   ]
  },
  {
   "cell_type": "code",
   "execution_count": 13,
   "metadata": {},
   "outputs": [],
   "source": [
    "#Explicitly state that DF is a copy of full_df\n",
    "df.is_copy = True\n",
    "#df.drop('Unnamed: 0', axis=1, inplace=True)\n",
    "# drop rows with problematic character encoding\n",
    "#df.drop([58, 59], axis=0, inplace=True)\n",
    "#df.head()"
   ]
  },
  {
   "cell_type": "code",
   "execution_count": 14,
   "metadata": {},
   "outputs": [
    {
     "name": "stderr",
     "output_type": "stream",
     "text": [
      "/Users/admin/anaconda3/lib/python3.6/site-packages/ipykernel_launcher.py:1: SettingWithCopyWarning: \n",
      "A value is trying to be set on a copy of a slice from a DataFrame.\n",
      "Try using .loc[row_indexer,col_indexer] = value instead\n",
      "\n",
      "See the caveats in the documentation: http://pandas.pydata.org/pandas-docs/stable/indexing.html#indexing-view-versus-copy\n",
      "  \"\"\"Entry point for launching an IPython kernel.\n"
     ]
    }
   ],
   "source": [
    "df['cleaned'] = df['content'].fillna('').astype(str).map(any2unicode)"
   ]
  },
  {
   "cell_type": "code",
   "execution_count": 49,
   "metadata": {},
   "outputs": [],
   "source": [
    "# export data for LeftTroll to a CSV \n",
    "#df.to_csv('../data/LeftTroll_tweets.csv')"
   ]
  },
  {
   "cell_type": "markdown",
   "metadata": {},
   "source": [
    "## Text Preprocessing\n",
    "* Noise Removal\n",
    "* Tokenization\n",
    "* Normalization  \n",
    "(1) stemming\n",
    "(2) lemmatization, and \n",
    "(3) everything else"
   ]
  },
  {
   "cell_type": "markdown",
   "metadata": {},
   "source": [
    "### Remove URLs and non-English Characters"
   ]
  },
  {
   "cell_type": "code",
   "execution_count": 15,
   "metadata": {},
   "outputs": [],
   "source": [
    "def preprocess_text(text):\n",
    "    '''Remove URLs and Non-English characters, except for @ and #'''\n",
    "    # remove URL's\n",
    "    text = re.sub(r'\\w+:\\/{2}[\\d\\w-]+(\\.[\\d\\w-]+)*(?:(?:\\/[^\\s/]*))*', '', text)\n",
    "\n",
    "    # remove symbols excluding the @, # and \\s symbol\n",
    "    text = re.sub(r'[^\\w@#\\s]', '', text)\n",
    "\n",
    "    # remove URL's\n",
    "    text = re.sub('(https://[^\\s]+)', '', text)\n",
    "    text = re.sub('https?://[A-Za-z0-9./]+', '', text)\n",
    "\n",
    "    # remove URL's\n",
    "    text = re.sub('http?://[A-Za-z0-9./]+', '', text)\n",
    "\n",
    "    # lowercase, remove words less than len 2 & remove numbers in tokenized list\n",
    "    #return [word.lower() for word in text if len(word) > 2 and not word.isdigit() and not word in ignore_words]\n",
    "    return text"
   ]
  },
  {
   "cell_type": "code",
   "execution_count": 16,
   "metadata": {},
   "outputs": [
    {
     "name": "stderr",
     "output_type": "stream",
     "text": [
      "/Users/admin/anaconda3/lib/python3.6/site-packages/ipykernel_launcher.py:1: SettingWithCopyWarning: \n",
      "A value is trying to be set on a copy of a slice from a DataFrame.\n",
      "Try using .loc[row_indexer,col_indexer] = value instead\n",
      "\n",
      "See the caveats in the documentation: http://pandas.pydata.org/pandas-docs/stable/indexing.html#indexing-view-versus-copy\n",
      "  \"\"\"Entry point for launching an IPython kernel.\n"
     ]
    }
   ],
   "source": [
    "df['cleaned'] = df['cleaned'].apply(preprocess_text)"
   ]
  },
  {
   "cell_type": "markdown",
   "metadata": {},
   "source": [
    "### Hashtag Analysis"
   ]
  },
  {
   "cell_type": "code",
   "execution_count": 17,
   "metadata": {},
   "outputs": [],
   "source": [
    "# regex to find hashtags\n",
    "hashtag_re = re.compile(\"(?:^|\\s)[＃#]{1}(\\w+)\", re.UNICODE)\n",
    "\n",
    "def extract_hashtags(tweet):\n",
    "    '''Take in tweet contents from 'cleaned' content, extract hashtags and return cleaned text'''\n",
    "    hashtags_only = []\n",
    "    if len(re.findall(hashtag_re, tweet)) > 0:\n",
    "        hashtags_only.append(re.findall(hashtag_re, tweet))\n",
    "    else:\n",
    "        hashtags_only.append([\"0\"])\n",
    "    return hashtags_only[0]"
   ]
  },
  {
   "cell_type": "code",
   "execution_count": 18,
   "metadata": {},
   "outputs": [
    {
     "name": "stderr",
     "output_type": "stream",
     "text": [
      "/Users/admin/anaconda3/lib/python3.6/site-packages/ipykernel_launcher.py:2: SettingWithCopyWarning: \n",
      "A value is trying to be set on a copy of a slice from a DataFrame.\n",
      "Try using .loc[row_indexer,col_indexer] = value instead\n",
      "\n",
      "See the caveats in the documentation: http://pandas.pydata.org/pandas-docs/stable/indexing.html#indexing-view-versus-copy\n",
      "  \n"
     ]
    },
    {
     "data": {
      "text/plain": [
       "5181                                       [blacklivesmatter, blm, equality, equalrights]\n",
       "5182                                                                                  [0]\n",
       "5183                                                                                  [0]\n",
       "5184                                                                       [blacktwitter]\n",
       "5185                                                                  [RacistScum, idiot]\n",
       "5186                                                                                [BLM]\n",
       "5187                                                                                  [0]\n",
       "5188                                                                    [policebrutality]\n",
       "5189                                     [blacklivesmatter, policestate, policebrutality]\n",
       "5190                                                                                  [0]\n",
       "5191                                                       [policebrutality, policestate]\n",
       "5192                                                              [equality, equalrights]\n",
       "5193                                                                                [BLM]\n",
       "5194                                        [policestate, policebrutality, incarceration]\n",
       "5195                                                                       [blacktwitter]\n",
       "5196                                                       [policestate, policebrutality]\n",
       "5197                                                                        [policestate]\n",
       "5198                                                                              [black]\n",
       "5199                                                                                  [0]\n",
       "5200                                                       [moron, policestate, stopcops]\n",
       "5201                                                           [BlackLivesMatter, racism]\n",
       "5202                                          [blaclivesmatter, blacktivist, blactwitter]\n",
       "5203    [Justice, equality, racism, policestate, incarceration, prison, BlackLivesMatter]\n",
       "5204                                                                                  [0]\n",
       "5205                                                                         [black, art]\n",
       "Name: hashtags, dtype: object"
      ]
     },
     "execution_count": 18,
     "metadata": {},
     "output_type": "execute_result"
    }
   ],
   "source": [
    "# Create a new column to store hashtags, extract hashtags from 'content'\n",
    "df['hashtags'] = df['cleaned'].map(extract_hashtags)\n",
    "df['hashtags'].head(25)"
   ]
  },
  {
   "cell_type": "code",
   "execution_count": 19,
   "metadata": {},
   "outputs": [],
   "source": [
    "# remove all hashtags from a tweet\n",
    "def remove_hashtags(tweet):\n",
    "    '''After extracting hashtags, take in tweet content and remove hashtags'''\n",
    "    hashtags_only = []\n",
    "    if len(re.findall(hashtag_re, tweet)) > 0:\n",
    "        tweet = re.sub(hashtag_re, \"\", tweet)\n",
    "    hashtags_only.append(tweet)\n",
    "    return hashtags_only[0]"
   ]
  },
  {
   "cell_type": "code",
   "execution_count": 20,
   "metadata": {},
   "outputs": [
    {
     "name": "stderr",
     "output_type": "stream",
     "text": [
      "/Users/admin/anaconda3/lib/python3.6/site-packages/ipykernel_launcher.py:2: SettingWithCopyWarning: \n",
      "A value is trying to be set on a copy of a slice from a DataFrame.\n",
      "Try using .loc[row_indexer,col_indexer] = value instead\n",
      "\n",
      "See the caveats in the documentation: http://pandas.pydata.org/pandas-docs/stable/indexing.html#indexing-view-versus-copy\n",
      "  \n"
     ]
    }
   ],
   "source": [
    "# Clean hashtags fron 'cleaned' content\n",
    "df['cleaned'] = df['cleaned'].apply(remove_hashtags)"
   ]
  },
  {
   "cell_type": "code",
   "execution_count": 21,
   "metadata": {},
   "outputs": [
    {
     "name": "stdout",
     "output_type": "stream",
     "text": [
      "0                       274747\n",
      "BlackLivesMatter         10550\n",
      "NowPlaying                5241\n",
      "BlackTwitter              2109\n",
      "news                      1779\n",
      "PoliceBrutality           1615\n",
      "blacklivesmatter          1595\n",
      "StayWoke                  1483\n",
      "God                       1457\n",
      "BlackSkinIsNotACrime      1455\n",
      "BLM                       1422\n",
      "soundcloud                1353\n",
      "hiphop                    1350\n",
      "BlackHistoryMonth         1245\n",
      "music                     1224\n",
      "p2                        1195\n",
      "nowplaying                1181\n",
      "RAPStationRadio           1149\n",
      "dagr8fm                   1139\n",
      "staywoke                  1057\n",
      "NoDAPL                    1043\n",
      "NYC                       1016\n",
      "blacktwitter               972\n",
      "rap                        916\n",
      "SoundCloud                 892\n",
      "dtype: int64\n"
     ]
    }
   ],
   "source": [
    "# create a list of all hashtags\n",
    "all_hashtags = df['hashtags'].tolist()\n",
    "\n",
    "# all_hashtags is a list of lists.\n",
    "cleaned_hashtags = []\n",
    "for i in all_hashtags:\n",
    "    for j in i:\n",
    "            cleaned_hashtags.append(j)\n",
    "\n",
    "# remove the '0' from the list\n",
    "def remove_values_from_list(the_list, val):\n",
    "   return [value for value in the_list if value != val]\n",
    "\n",
    "# cleaned_hashtags list\n",
    "cleaned_hashtags = remove_values_from_list(cleaned_hashtags, 0)\n",
    "\n",
    "# Convert cleaned_hashtags to a series and count the most frequent occuring\n",
    "cleaned_hashtag_series = pd.Series(cleaned_hashtags)\n",
    "hashtag_counts = cleaned_hashtag_series.value_counts()\n",
    "print(hashtag_counts[:25])"
   ]
  },
  {
   "cell_type": "markdown",
   "metadata": {},
   "source": [
    "### Get User Mentions"
   ]
  },
  {
   "cell_type": "code",
   "execution_count": 22,
   "metadata": {},
   "outputs": [],
   "source": [
    "#Regex to get user mentions \"@\":\n",
    "# New Regex\n",
    "twitter_username_re = re.compile(\"(?<=^|(?<=[^a-zA-Z0-9-_\\.]))@([A-Za-z]+[A-Za-z0-9-_]+)\", re.UNICODE)\n",
    "\n",
    "def extract_usermentions(tweet):\n",
    "    '''Take in tweet contents from 'cleaned' col and extract user mentions'''\n",
    "    mentions_only = []\n",
    "    if len(re.findall(twitter_username_re, tweet)) > 0:\n",
    "        mentions_only.append(re.findall(twitter_username_re, tweet))\n",
    "    else:\n",
    "        mentions_only.append([\"0\"])\n",
    "    return mentions_only[0]"
   ]
  },
  {
   "cell_type": "code",
   "execution_count": 23,
   "metadata": {},
   "outputs": [
    {
     "name": "stderr",
     "output_type": "stream",
     "text": [
      "/Users/admin/anaconda3/lib/python3.6/site-packages/ipykernel_launcher.py:2: SettingWithCopyWarning: \n",
      "A value is trying to be set on a copy of a slice from a DataFrame.\n",
      "Try using .loc[row_indexer,col_indexer] = value instead\n",
      "\n",
      "See the caveats in the documentation: http://pandas.pydata.org/pandas-docs/stable/indexing.html#indexing-view-versus-copy\n",
      "  \n"
     ]
    },
    {
     "data": {
      "text/plain": [
       "5181                  [0]\n",
       "5182    [big_gun_in_utah]\n",
       "5183    [big_gun_in_utah]\n",
       "5184                  [0]\n",
       "5185                  [0]\n",
       "5186                  [0]\n",
       "5187                  [0]\n",
       "5188                  [0]\n",
       "5189                  [0]\n",
       "5190                  [0]\n",
       "Name: mentions, dtype: object"
      ]
     },
     "execution_count": 23,
     "metadata": {},
     "output_type": "execute_result"
    }
   ],
   "source": [
    "# make a new column to store the extracted mentions\n",
    "df['mentions'] = df['cleaned'].map(extract_usermentions)\n",
    "df['mentions'].head(10)"
   ]
  },
  {
   "cell_type": "code",
   "execution_count": 24,
   "metadata": {},
   "outputs": [
    {
     "name": "stdout",
     "output_type": "stream",
     "text": [
      "0                  323102\n",
      "YouTube              2145\n",
      "TalibKweli           1851\n",
      "realDonaldTrump      1779\n",
      "josephjett           1067\n",
      "POTUS                 847\n",
      "deray                 775\n",
      "docrocktex26          632\n",
      "ShaunKing             543\n",
      "HillaryClinton        441\n",
      "BlackGirlNerds        408\n",
      "A5KEM                 401\n",
      "CNN                   374\n",
      "TIDALHiFi             359\n",
      "MrNegroMilitant       347\n",
      "FoxNews               347\n",
      "BlackMoses2015        326\n",
      "nine_oh               317\n",
      "AllAfrica             314\n",
      "EurWeb                309\n",
      "BernieSanders         296\n",
      "RAPStationRadio       284\n",
      "Spinrilla             282\n",
      "rolandsmartin         276\n",
      "nytimes               267\n",
      "dtype: int64\n"
     ]
    }
   ],
   "source": [
    "# create a list of all mentions\n",
    "all_mentions = df['mentions'].tolist()\n",
    "\n",
    "# all_hashtags is a list of lists.\n",
    "cleaned_mentions = []\n",
    "for i in all_mentions:\n",
    "    for j in i:\n",
    "            cleaned_mentions.append(j)\n",
    "\n",
    "# remove the '0' from the list\n",
    "def remove_values_from_list(the_list, val):\n",
    "   return [value for value in the_list if value != val]\n",
    "\n",
    "# cleaned_mentions list\n",
    "cleaned_mentions = remove_values_from_list(cleaned_mentions, 0)\n",
    "\n",
    "# Convert cleaned_hashtags to a series and count the most frequent occuring\n",
    "cleaned_mentions_series = pd.Series(cleaned_mentions)\n",
    "mention_counts = cleaned_mentions_series.value_counts()\n",
    "# remove first element with values of '0'\n",
    "# mention_counts = del mention_counts[0]\n",
    "print(mention_counts[:25])"
   ]
  },
  {
   "cell_type": "code",
   "execution_count": 25,
   "metadata": {},
   "outputs": [],
   "source": [
    "# remove all mentions from a tweet\n",
    "def remove_mentions(tweet):\n",
    "    '''Take tweet content and remove @mentions from it'''\n",
    "    mentions_only = []\n",
    "    if len(re.findall(\"(?<=^|(?<=[^a-zA-Z0-9-_\\.]))@([A-Za-z]+[A-Za-z0-9-_]+)\", tweet)) > 0:\n",
    "        tweet = re.sub(\"(?<=^|(?<=[^a-zA-Z0-9-_\\.]))@([A-Za-z]+[A-Za-z0-9-_]+)\", \"\", tweet)\n",
    "    mentions_only.append(tweet)\n",
    "    return mentions_only[0]"
   ]
  },
  {
   "cell_type": "code",
   "execution_count": 26,
   "metadata": {},
   "outputs": [
    {
     "name": "stderr",
     "output_type": "stream",
     "text": [
      "/Users/admin/anaconda3/lib/python3.6/site-packages/ipykernel_launcher.py:2: SettingWithCopyWarning: \n",
      "A value is trying to be set on a copy of a slice from a DataFrame.\n",
      "Try using .loc[row_indexer,col_indexer] = value instead\n",
      "\n",
      "See the caveats in the documentation: http://pandas.pydata.org/pandas-docs/stable/indexing.html#indexing-view-versus-copy\n",
      "  \n"
     ]
    }
   ],
   "source": [
    "#create list of content with no hashtags\n",
    "df['cleaned'] = df['cleaned'].apply(remove_mentions)"
   ]
  },
  {
   "cell_type": "code",
   "execution_count": 27,
   "metadata": {},
   "outputs": [],
   "source": [
    "# remove unwanted characters, numbers and symbols from the remaining content\n",
    "#df['cleaned'] = df['cleaned'].str.replace(\"[^a-zA-Z#]\", \" \")"
   ]
  },
  {
   "cell_type": "markdown",
   "metadata": {},
   "source": [
    "### Create dataframes for the troll classifications\n",
    "Create dataframes for each troll classification, for easier size to work with."
   ]
  },
  {
   "cell_type": "code",
   "execution_count": 28,
   "metadata": {},
   "outputs": [],
   "source": [
    "#right_troll = df.loc[df['account_category'] == 'RightTroll']\n",
    "#nonenglish = df.loc[df['account_category'] == 'NonEnglish']\n",
    "#fearmonger = df.loc[df['account_category'] == 'Fearmonger']\n",
    "#left_troll = df.loc[df['account_category'] == 'LeftTroll']\n",
    "#hashtagamer = df.loc[df['account_category'] == 'HashtagGamer']\n",
    "#newsfeed = df.loc[df['account_category'] == 'NewsFeed']\n",
    "#commercial = df.loc[df['account_category'] == 'Commercial']"
   ]
  },
  {
   "cell_type": "code",
   "execution_count": 29,
   "metadata": {},
   "outputs": [],
   "source": [
    "#right_troll.to_csv(\"../data/right_troll.csv\")\n",
    "#nonenglish.to_csv(\"../data/nonenglish.csv\")\n",
    "#fearmonger.to_csv(\"../data/fearmonger.csv\")\n",
    "#left_troll.to_csv(\"../data/left_troll.csv\")\n",
    "#hashtagamer.to_csv(\"../data/hashtagamer.csv\")\n",
    "#newsfeed.to_csv(\"../data/newsfeed.csv\")\n",
    "#commercial.to_csv(\"../data/commercial.csv\")"
   ]
  },
  {
   "cell_type": "markdown",
   "metadata": {},
   "source": [
    "## Remove stopwords\n",
    "Remove words < 3 letters, convert to lower case"
   ]
  },
  {
   "cell_type": "code",
   "execution_count": 30,
   "metadata": {},
   "outputs": [
    {
     "data": {
      "text/plain": [
       "5181                                                                                  \n",
       "5182                   so If you pay more taxes you have more rights This how it works\n",
       "5183                                                                       some of you\n",
       "5184    Black Students force the university to divest 25 Million in private prisons   \n",
       "5185                                               Racist Maine Gov on drug problem   \n",
       "Name: cleaned, dtype: object"
      ]
     },
     "execution_count": 30,
     "metadata": {},
     "output_type": "execute_result"
    }
   ],
   "source": [
    "df.cleaned.head()"
   ]
  },
  {
   "cell_type": "code",
   "execution_count": 31,
   "metadata": {},
   "outputs": [
    {
     "name": "stderr",
     "output_type": "stream",
     "text": [
      "/Users/admin/anaconda3/lib/python3.6/site-packages/ipykernel_launcher.py:2: SettingWithCopyWarning: \n",
      "A value is trying to be set on a copy of a slice from a DataFrame.\n",
      "Try using .loc[row_indexer,col_indexer] = value instead\n",
      "\n",
      "See the caveats in the documentation: http://pandas.pydata.org/pandas-docs/stable/indexing.html#indexing-view-versus-copy\n",
      "  \n",
      "/Users/admin/anaconda3/lib/python3.6/site-packages/ipykernel_launcher.py:5: SettingWithCopyWarning: \n",
      "A value is trying to be set on a copy of a slice from a DataFrame.\n",
      "Try using .loc[row_indexer,col_indexer] = value instead\n",
      "\n",
      "See the caveats in the documentation: http://pandas.pydata.org/pandas-docs/stable/indexing.html#indexing-view-versus-copy\n",
      "  \"\"\"\n",
      "/Users/admin/anaconda3/lib/python3.6/site-packages/ipykernel_launcher.py:16: SettingWithCopyWarning: \n",
      "A value is trying to be set on a copy of a slice from a DataFrame.\n",
      "Try using .loc[row_indexer,col_indexer] = value instead\n",
      "\n",
      "See the caveats in the documentation: http://pandas.pydata.org/pandas-docs/stable/indexing.html#indexing-view-versus-copy\n",
      "  app.launch_new_instance()\n"
     ]
    },
    {
     "data": {
      "text/plain": [
       "5181                                                                  \n",
       "5182                                            pay taxes rights works\n",
       "5183                                                                  \n",
       "5184    black students force university divest million private prisons\n",
       "5185                                     racist maine gov drug problem\n",
       "Name: cleaned, dtype: object"
      ]
     },
     "execution_count": 31,
     "metadata": {},
     "output_type": "execute_result"
    }
   ],
   "source": [
    "# remove short words (length < 3)\n",
    "df['cleaned'] = df['cleaned'].apply(lambda x: ' '.join([w for w in x.split() if len(w)>2]))\n",
    "\n",
    "# transform to lower-case\n",
    "df['cleaned'] = df['cleaned'].apply(lambda x: \" \".join(x.lower() for x in x.split()))\n",
    "#train['tweet'].head()\n",
    "\n",
    "#stop = set(stopwords.words('english'))\n",
    "stop = stopwords.words('english')\n",
    "\n",
    "#extend/add to stopwords - words that are commonly occuring but add no meaning\n",
    "#stopword_list += ['http', 'https', 'âµã', 'â½ã', 'â²ã', 'âºã', 'â¼ã', 'âµ']\n",
    "newStop = ['you','get', 'amp', 'one', 'new']\n",
    "stop.extend(newStop)\n",
    "\n",
    "df['cleaned'] = df['cleaned'].apply(lambda x: \" \".join(x for x in x.split() if x not in stop))\n",
    "df['cleaned'].head()"
   ]
  },
  {
   "cell_type": "code",
   "execution_count": 32,
   "metadata": {},
   "outputs": [],
   "source": [
    "#convert 'cleaned' Series to a list\n",
    "content = df['cleaned'].tolist()\n",
    "#content[:50]"
   ]
  },
  {
   "cell_type": "markdown",
   "metadata": {},
   "source": [
    "### Re-Check Fequency Distribution\n",
    "Re-check the word frequency distribution after doing some cleaning of the text."
   ]
  },
  {
   "cell_type": "code",
   "execution_count": 33,
   "metadata": {},
   "outputs": [],
   "source": [
    "# function to plot most frequent terms\n",
    "def freq_words(x, terms = 20):\n",
    "    ''' Take in a list of content, split into individual words, count occurrences, list 20 highest occurring words'''\n",
    "    all_words = ' '.join([text for text in x])\n",
    "    all_words = all_words.split()\n",
    "    fdist = FreqDist(all_words)\n",
    "    words_df = pd.DataFrame({'word':list(fdist.keys()), 'count':list(fdist.values())})\n",
    "    # selecting top 20 most frequent words\n",
    "    d = words_df.nlargest(columns=\"count\", n = terms)\n",
    "    return d"
   ]
  },
  {
   "cell_type": "code",
   "execution_count": 34,
   "metadata": {},
   "outputs": [
    {
     "name": "stdout",
     "output_type": "stream",
     "text": [
      "        word  count\n",
      "4      black  25899\n",
      "1429   trump  19181\n",
      "118   people  18725\n",
      "181     like  15074\n",
      "164     dont  14119\n",
      "57     white  12875\n",
      "1892     via  10809\n",
      "20    police   9755\n",
      "516     know   8690\n",
      "36       man   8317\n",
      "693     love   8203\n",
      "108     time   8104\n",
      "115     need   7784\n",
      "91      make   7503\n",
      "71       day   7451\n",
      "19     video   7027\n",
      "784     want   6879\n",
      "657      see   6617\n",
      "1065    good   6590\n",
      "809    today   6580\n"
     ]
    }
   ],
   "source": [
    "counts = freq_words(content, 20)\n",
    "print(counts)"
   ]
  },
  {
   "cell_type": "markdown",
   "metadata": {},
   "source": [
    "### Plot most frequently occurring words "
   ]
  },
  {
   "cell_type": "code",
   "execution_count": 35,
   "metadata": {},
   "outputs": [
    {
     "data": {
      "image/png": "[encoded data removed]",
      "text/plain": [
       "<Figure size 1440x360 with 1 Axes>"
      ]
     },
     "metadata": {
      "needs_background": "light"
     },
     "output_type": "display_data"
    }
   ],
   "source": [
    "# Plot most frequent words\n",
    "plt.figure(figsize=(20,5))\n",
    "# rotate and right align group names\n",
    "plt.xticks(rotation=45, ha='right')\n",
    "ax = sns.barplot(data=counts, x= \"word\", y = \"count\")\n",
    "ax.set(ylabel = 'Count')\n",
    "ax.set(title = 'Top 20 Most Frequent Words')    \n",
    "plt.show()"
   ]
  },
  {
   "cell_type": "markdown",
   "metadata": {},
   "source": [
    "## Troll Amplification\n",
    "Examining the troll \"echo chamber\". Are trolls retweeting or mentioning other trolls?"
   ]
  },
  {
   "cell_type": "code",
   "execution_count": 36,
   "metadata": {},
   "outputs": [
    {
     "name": "stdout",
     "output_type": "stream",
     "text": [
      "195\n",
      "There are 195 trolls in the echo chamber.\n"
     ]
    }
   ],
   "source": [
    "# read list of users created during EDA\n",
    "users = pd.read_csv('../data/users_totals.csv', encoding='utf-8',low_memory=False)\n",
    "\n",
    "userlist = users['author'].tolist()\n",
    "lc_userlist = [x.lower() for x in userlist]\n",
    "lc_userlist.sort()\n",
    "\n",
    "amplify = cleaned_mentions_series[cleaned_mentions_series.isin(lc_userlist)]\n",
    "\n",
    "print(amplify.shape[0])\n",
    "\n",
    "# Get counts of amplified troll tweets\n",
    "amp_counts = amplify.value_counts()\n",
    "print(\"There are\",(amplify.shape[0]), \"trolls in the echo chamber.\")"
   ]
  },
  {
   "cell_type": "markdown",
   "metadata": {},
   "source": [
    "### Normalization\n",
    "3 distinct steps:  \n",
    "* stemming  \n",
    "* lemmatization  \n",
    "* everything else"
   ]
  },
  {
   "cell_type": "markdown",
   "metadata": {},
   "source": [
    "### Lemmatization"
   ]
  },
  {
   "cell_type": "code",
   "execution_count": 37,
   "metadata": {},
   "outputs": [
    {
     "name": "stderr",
     "output_type": "stream",
     "text": [
      "/Users/admin/anaconda3/lib/python3.6/site-packages/ipykernel_launcher.py:2: SettingWithCopyWarning: \n",
      "A value is trying to be set on a copy of a slice from a DataFrame.\n",
      "Try using .loc[row_indexer,col_indexer] = value instead\n",
      "\n",
      "See the caveats in the documentation: http://pandas.pydata.org/pandas-docs/stable/indexing.html#indexing-view-versus-copy\n",
      "  \n"
     ]
    },
    {
     "data": {
      "text/plain": [
       "5181                                                                \n",
       "5182                                              pay tax right work\n",
       "5183                                                                \n",
       "5184    black student force university divest million private prison\n",
       "5185                                   racist maine gov drug problem\n",
       "Name: cleaned, dtype: object"
      ]
     },
     "execution_count": 37,
     "metadata": {},
     "output_type": "execute_result"
    }
   ],
   "source": [
    "from textblob import Word\n",
    "df['cleaned'] = df['cleaned'].apply(lambda x: \" \".join([Word(word).lemmatize() for word in x.split()]))\n",
    "df['cleaned'].head()"
   ]
  },
  {
   "cell_type": "markdown",
   "metadata": {},
   "source": [
    "### Tokenize"
   ]
  },
  {
   "cell_type": "code",
   "execution_count": 38,
   "metadata": {},
   "outputs": [],
   "source": [
    "#create a list from df['cleaned']\n",
    "content_notags = df['cleaned'].tolist()\n",
    "\n",
    "# First, create a new column with the tokenized text\n",
    "from nltk.tokenize import TweetTokenizer\n",
    "tt = TweetTokenizer()\n",
    "#df['tokenized_text'] = df['content'].apply(tt.tokenize)\n",
    "# map tt.tokenize to 'content' list\n",
    "documents = list(map(tt.tokenize, content_notags))"
   ]
  },
  {
   "cell_type": "code",
   "execution_count": 39,
   "metadata": {},
   "outputs": [],
   "source": [
    "from collections import defaultdict\n",
    "\n",
    "frequency = defaultdict(int)\n",
    "for document in documents:\n",
    "    for token in document:\n",
    "        frequency[token] += 1"
   ]
  },
  {
   "cell_type": "code",
   "execution_count": 40,
   "metadata": {},
   "outputs": [],
   "source": [
    "documents = [[token for token in document if frequency[token] > 10] for document in documents]\n",
    "# create a dictionary using from gensim.corpora.Dictionary\n",
    "dictionary = corpora.Dictionary(documents)\n",
    "#Convert document (a list of words) into the bag-of-words format = list of (token_id, token_count) 2-tuples. \n",
    "corpus = [dictionary.doc2bow(document) for document in documents]"
   ]
  },
  {
   "cell_type": "code",
   "execution_count": 41,
   "metadata": {},
   "outputs": [
    {
     "data": {
      "text/plain": [
       "427141"
      ]
     },
     "execution_count": 41,
     "metadata": {},
     "output_type": "execute_result"
    }
   ],
   "source": [
    "len(corpus)"
   ]
  },
  {
   "cell_type": "markdown",
   "metadata": {},
   "source": [
    "## LDA Model\n",
    "Fit an LDA Model for the tweet topics"
   ]
  },
  {
   "cell_type": "code",
   "execution_count": 42,
   "metadata": {},
   "outputs": [],
   "source": [
    "# comment out once model is trained.\n",
    "# fit LDA model\n",
    "tweet_topics = LdaMulticore(corpus=corpus,\n",
    "                          id2word=dictionary,\n",
    "                          num_topics=10,\n",
    "                          passes=10,\n",
    "                          workers=2)"
   ]
  },
  {
   "cell_type": "code",
   "execution_count": 43,
   "metadata": {},
   "outputs": [],
   "source": [
    "# save/load model to/from disk\n",
    "\n",
    "temp_file = datapath(\"model_right_troll_tweets\")\n",
    "tweet_topics.save(temp_file)\n",
    "\n",
    "# Load a pretrained model from disk.\n",
    "#tweet_topics = LdaMulticore.load(\"model\")\n",
    "# - or -\n",
    "#m1 = LdaMulticore.load(datapath(\"lda_3_0_1_model\"))"
   ]
  },
  {
   "cell_type": "code",
   "execution_count": 44,
   "metadata": {},
   "outputs": [
    {
     "name": "stdout",
     "output_type": "stream",
     "text": [
      "0 --- (0, '0.025*\"playing\" + 0.021*\"music\" + 0.019*\"listen\" + 0.012*\"campaign\" + 0.011*\"album\" + 0.010*\"track\" + 0.010*\"feat\" + 0.010*\"song\" + 0.009*\"artist\" + 0.008*\"team\"')\n",
      "1 --- (1, '0.032*\"police\" + 0.017*\"man\" + 0.016*\"cop\" + 0.012*\"killed\" + 0.012*\"shot\" + 0.010*\"officer\" + 0.010*\"death\" + 0.009*\"shooting\" + 0.009*\"gun\" + 0.009*\"city\"')\n",
      "2 --- (2, '0.072*\"black\" + 0.033*\"woman\" + 0.032*\"white\" + 0.015*\"american\" + 0.014*\"people\" + 0.011*\"house\" + 0.011*\"men\" + 0.011*\"school\" + 0.010*\"america\" + 0.008*\"racist\"')\n",
      "3 --- (3, '0.095*\"trump\" + 0.017*\"president\" + 0.015*\"obama\" + 0.014*\"donald\" + 0.013*\"vote\" + 0.010*\"clinton\" + 0.010*\"election\" + 0.009*\"muslim\" + 0.008*\"gop\" + 0.008*\"republican\"')\n",
      "4 --- (4, '0.023*\"year\" + 0.013*\"day\" + 0.012*\"last\" + 0.012*\"live\" + 0.012*\"week\" + 0.010*\"night\" + 0.010*\"today\" + 0.009*\"check\" + 0.008*\"tonight\" + 0.008*\"free\"')\n",
      "5 --- (5, '0.019*\"right\" + 0.015*\"play\" + 0.013*\"beat\" + 0.013*\"need\" + 0.012*\"issue\" + 0.012*\"via\" + 0.011*\"2017\" + 0.010*\"million\" + 0.010*\"yes\" + 0.010*\"best\"')\n",
      "6 --- (6, '0.019*\"love\" + 0.012*\"twitter\" + 0.012*\"yall\" + 0.012*\"story\" + 0.011*\"please\" + 0.011*\"thank\" + 0.011*\"like\" + 0.010*\"thanks\" + 0.010*\"look\" + 0.009*\"tweet\"')\n",
      "7 --- (7, '0.023*\"dont\" + 0.021*\"people\" + 0.019*\"like\" + 0.015*\"know\" + 0.010*\"thing\" + 0.009*\"cant\" + 0.009*\"never\" + 0.009*\"make\" + 0.009*\"think\" + 0.008*\"want\"')\n",
      "8 --- (8, '0.015*\"life\" + 0.014*\"medium\" + 0.013*\"happy\" + 0.012*\"power\" + 0.010*\"state\" + 0.009*\"justice\" + 0.008*\"social\" + 0.008*\"king\" + 0.008*\"hit\" + 0.008*\"movement\"')\n",
      "9 --- (9, '0.038*\"video\" + 0.025*\"watch\" + 0.009*\"via\" + 0.007*\"future\" + 0.007*\"daily\" + 0.007*\"latest\" + 0.007*\"music\" + 0.007*\"political\" + 0.007*\"peace\" + 0.006*\"mom\"')\n"
     ]
    }
   ],
   "source": [
    "# print out first 10 topics\n",
    "for i, topic in enumerate(tweet_topics.print_topics(10)):\n",
    "    print('{} --- {}'.format(i, topic))"
   ]
  },
  {
   "cell_type": "markdown",
   "metadata": {},
   "source": [
    "### Wordcloud\n",
    "Crate a basic word cloud of the topic groupings"
   ]
  },
  {
   "cell_type": "code",
   "execution_count": 45,
   "metadata": {},
   "outputs": [
    {
     "data": {
      "image/png": "[encoded data removed]",
      "text/plain": [
       "<Figure size 720x720 with 4 Axes>"
      ]
     },
     "metadata": {
      "needs_background": "light"
     },
     "output_type": "display_data"
    }
   ],
   "source": [
    "#Wordcloud of Top N words in each topic\n",
    "from matplotlib import pyplot as plt\n",
    "from wordcloud import WordCloud, STOPWORDS\n",
    "import matplotlib.colors as mcolors\n",
    "\n",
    "cols = [color for name, color in mcolors.TABLEAU_COLORS.items()]  # more colors: 'mcolors.XKCD_COLORS'\n",
    "\n",
    "cloud = WordCloud(stopwords=stop,\n",
    "                  background_color='white',\n",
    "                  width=2500,\n",
    "                  height=1800,\n",
    "                  max_words=10,\n",
    "                  colormap='tab10',\n",
    "                  color_func=lambda *args, **kwargs: cols[i],\n",
    "                  prefer_horizontal=1.0)\n",
    "\n",
    "topics = tweet_topics.show_topics(formatted=False)\n",
    "\n",
    "fig, axes = plt.subplots(2, 2, figsize=(10,10), sharex=True, sharey=True)\n",
    "\n",
    "for i, ax in enumerate(axes.flatten()):\n",
    "    fig.add_subplot(ax)\n",
    "    topic_words = dict(topics[i][1])\n",
    "    cloud.generate_from_frequencies(topic_words, max_font_size=300)\n",
    "    plt.gca().imshow(cloud)\n",
    "    plt.gca().set_title('Topic ' + str(i), fontdict=dict(size=16))\n",
    "    plt.gca().axis('off')\n",
    "\n",
    "\n",
    "plt.subplots_adjust(wspace=0, hspace=0)\n",
    "plt.axis('off')\n",
    "plt.margins(x=0, y=0)\n",
    "plt.tight_layout()\n",
    "plt.show()"
   ]
  },
  {
   "cell_type": "markdown",
   "metadata": {},
   "source": [
    "### Use pyLDAvis library to Visualize Topics"
   ]
  },
  {
   "cell_type": "code",
   "execution_count": 46,
   "metadata": {},
   "outputs": [],
   "source": [
    "## Try the pyLDAvis visualization\n",
    "import pyLDAvis.gensim as gensimvis\n",
    "import pyLDAvis"
   ]
  },
  {
   "cell_type": "code",
   "execution_count": 47,
   "metadata": {},
   "outputs": [
    {
     "data": {
      "text/html": [
       "\n",
       "<link rel=\"stylesheet\" type=\"text/css\" href=\"https://cdn.rawgit.com/bmabey/pyLDAvis/files/ldavis.v1.0.0.css\">\n",
       "\n",
       "\n",
       "<div id=\"ldavis_el603941142944227689641525140\"></div>\n",
       "<script type=\"text/javascript\">\n",
       "\n",
       "var ldavis_el603941142944227689641525140_data = {\"mdsDat\": {\"x\": [-0.10973561480651295, -0.19338934079983774, -0.04603640706225426, 0.11086264772664672, -0.10016161316505964, -0.12896548604156594, 0.23695765634562516, -0.13366359345040607, 0.27157780650672564, 0.09255394474663871], \"y\": [0.19538034129382426, -0.1068001760617952, 0.27939978796853254, 0.03797205996848648, -0.13942438484452696, -0.1957246008852314, 0.032982236010049557, 0.10059450171363578, -0.029164052851291564, -0.17521571231168326], \"topics\": [1, 2, 3, 4, 5, 6, 7, 8, 9, 10], \"cluster\": [1, 1, 1, 1, 1, 1, 1, 1, 1, 1], \"Freq\": [20.589534759521484, 11.538511276245117, 9.43500804901123, 9.405491828918457, 9.152856826782227, 9.127534866333008, 8.159747123718262, 8.142462730407715, 7.225045680999756, 7.223809719085693]}, \"tinfo\": {\"Category\": [\"Default\", \"Default\", \"Default\", \"Default\", \"Default\", \"Default\", \"Default\", \"Default\", \"Default\", \"Default\", \"Default\", \"Default\", \"Default\", \"Default\", \"Default\", \"Default\", \"Default\", \"Default\", \"Default\", \"Default\", \"Default\", \"Default\", \"Default\", \"Default\", \"Default\", \"Default\", \"Default\", \"Default\", \"Default\", \"Default\", \"Topic1\", \"Topic1\", \"Topic1\", \"Topic1\", \"Topic1\", \"Topic1\", \"Topic1\", \"Topic1\", \"Topic1\", \"Topic1\", \"Topic1\", \"Topic1\", \"Topic1\", \"Topic1\", \"Topic1\", \"Topic1\", \"Topic1\", \"Topic1\", \"Topic1\", \"Topic1\", \"Topic1\", \"Topic1\", \"Topic1\", \"Topic1\", \"Topic1\", \"Topic1\", \"Topic1\", \"Topic1\", \"Topic1\", \"Topic1\", \"Topic1\", \"Topic1\", \"Topic1\", \"Topic1\", \"Topic1\", \"Topic1\", \"Topic1\", \"Topic1\", \"Topic1\", \"Topic1\", \"Topic1\", \"Topic1\", \"Topic1\", \"Topic1\", \"Topic1\", \"Topic1\", \"Topic1\", \"Topic1\", \"Topic1\", \"Topic1\", \"Topic1\", \"Topic1\", \"Topic1\", \"Topic1\", \"Topic1\", \"Topic2\", \"Topic2\", \"Topic2\", \"Topic2\", \"Topic2\", \"Topic2\", \"Topic2\", \"Topic2\", \"Topic2\", \"Topic2\", \"Topic2\", \"Topic2\", \"Topic2\", \"Topic2\", \"Topic2\", \"Topic2\", \"Topic2\", \"Topic2\", \"Topic2\", \"Topic2\", \"Topic2\", \"Topic2\", \"Topic2\", \"Topic2\", \"Topic2\", \"Topic2\", \"Topic2\", \"Topic2\", \"Topic2\", \"Topic2\", \"Topic2\", \"Topic2\", \"Topic2\", \"Topic2\", \"Topic2\", \"Topic2\", \"Topic2\", \"Topic2\", \"Topic2\", \"Topic2\", \"Topic2\", \"Topic2\", \"Topic2\", \"Topic2\", \"Topic2\", \"Topic2\", \"Topic2\", \"Topic2\", \"Topic2\", \"Topic2\", \"Topic3\", \"Topic3\", \"Topic3\", \"Topic3\", \"Topic3\", \"Topic3\", \"Topic3\", \"Topic3\", \"Topic3\", \"Topic3\", \"Topic3\", \"Topic3\", \"Topic3\", \"Topic3\", \"Topic3\", \"Topic3\", \"Topic3\", \"Topic3\", \"Topic3\", \"Topic3\", \"Topic3\", \"Topic3\", \"Topic3\", \"Topic3\", \"Topic3\", \"Topic3\", \"Topic3\", \"Topic3\", \"Topic3\", \"Topic3\", \"Topic3\", \"Topic3\", \"Topic3\", \"Topic3\", \"Topic3\", \"Topic3\", \"Topic3\", \"Topic3\", \"Topic3\", \"Topic3\", \"Topic3\", \"Topic3\", \"Topic3\", \"Topic3\", \"Topic3\", \"Topic3\", \"Topic3\", \"Topic4\", \"Topic4\", \"Topic4\", \"Topic4\", \"Topic4\", \"Topic4\", \"Topic4\", \"Topic4\", \"Topic4\", \"Topic4\", \"Topic4\", \"Topic4\", \"Topic4\", \"Topic4\", \"Topic4\", \"Topic4\", \"Topic4\", \"Topic4\", \"Topic4\", \"Topic4\", \"Topic4\", \"Topic4\", \"Topic4\", \"Topic4\", \"Topic4\", \"Topic4\", \"Topic4\", \"Topic4\", \"Topic4\", \"Topic4\", \"Topic4\", \"Topic4\", \"Topic4\", \"Topic4\", \"Topic4\", \"Topic4\", \"Topic4\", \"Topic4\", \"Topic4\", \"Topic4\", \"Topic4\", \"Topic4\", \"Topic4\", \"Topic4\", \"Topic4\", \"Topic4\", \"Topic4\", \"Topic4\", \"Topic4\", \"Topic5\", \"Topic5\", \"Topic5\", \"Topic5\", \"Topic5\", \"Topic5\", \"Topic5\", \"Topic5\", \"Topic5\", \"Topic5\", \"Topic5\", \"Topic5\", \"Topic5\", \"Topic5\", \"Topic5\", \"Topic5\", \"Topic5\", \"Topic5\", \"Topic5\", \"Topic5\", \"Topic5\", \"Topic5\", \"Topic5\", \"Topic5\", \"Topic5\", \"Topic5\", \"Topic5\", \"Topic5\", \"Topic5\", \"Topic5\", \"Topic5\", \"Topic5\", \"Topic5\", \"Topic5\", \"Topic5\", \"Topic5\", \"Topic5\", \"Topic5\", \"Topic6\", \"Topic6\", \"Topic6\", \"Topic6\", \"Topic6\", \"Topic6\", \"Topic6\", \"Topic6\", \"Topic6\", \"Topic6\", \"Topic6\", \"Topic6\", \"Topic6\", \"Topic6\", \"Topic6\", \"Topic6\", \"Topic6\", \"Topic6\", \"Topic6\", \"Topic6\", \"Topic6\", \"Topic6\", \"Topic6\", \"Topic6\", \"Topic6\", \"Topic6\", \"Topic6\", \"Topic6\", \"Topic6\", \"Topic6\", \"Topic6\", \"Topic6\", \"Topic6\", \"Topic6\", \"Topic6\", \"Topic6\", \"Topic6\", \"Topic6\", \"Topic6\", \"Topic6\", \"Topic6\", \"Topic6\", \"Topic6\", \"Topic6\", \"Topic6\", \"Topic7\", \"Topic7\", \"Topic7\", \"Topic7\", \"Topic7\", \"Topic7\", \"Topic7\", \"Topic7\", \"Topic7\", \"Topic7\", \"Topic7\", \"Topic7\", \"Topic7\", \"Topic7\", \"Topic7\", \"Topic7\", \"Topic7\", \"Topic7\", \"Topic7\", \"Topic7\", \"Topic7\", \"Topic7\", \"Topic7\", \"Topic7\", \"Topic7\", \"Topic7\", \"Topic7\", \"Topic7\", \"Topic7\", \"Topic7\", \"Topic7\", \"Topic7\", \"Topic7\", \"Topic7\", \"Topic7\", \"Topic7\", \"Topic7\", \"Topic7\", \"Topic7\", \"Topic7\", \"Topic7\", \"Topic7\", \"Topic7\", \"Topic8\", \"Topic8\", \"Topic8\", \"Topic8\", \"Topic8\", \"Topic8\", \"Topic8\", \"Topic8\", \"Topic8\", \"Topic8\", \"Topic8\", \"Topic8\", \"Topic8\", \"Topic8\", \"Topic8\", \"Topic8\", \"Topic8\", \"Topic8\", \"Topic8\", \"Topic8\", \"Topic8\", \"Topic8\", \"Topic8\", \"Topic8\", \"Topic8\", \"Topic8\", \"Topic8\", \"Topic8\", \"Topic8\", \"Topic8\", \"Topic8\", \"Topic8\", \"Topic8\", \"Topic8\", \"Topic8\", \"Topic8\", \"Topic8\", \"Topic8\", \"Topic8\", \"Topic8\", \"Topic8\", \"Topic8\", \"Topic8\", \"Topic8\", \"Topic8\", \"Topic8\", \"Topic8\", \"Topic8\", \"Topic9\", \"Topic9\", \"Topic9\", \"Topic9\", \"Topic9\", \"Topic9\", \"Topic9\", \"Topic9\", \"Topic9\", \"Topic9\", \"Topic9\", \"Topic9\", \"Topic9\", \"Topic9\", \"Topic9\", \"Topic9\", \"Topic9\", \"Topic9\", \"Topic9\", \"Topic9\", \"Topic9\", \"Topic9\", \"Topic9\", \"Topic9\", \"Topic9\", \"Topic9\", \"Topic9\", \"Topic9\", \"Topic9\", \"Topic9\", \"Topic9\", \"Topic9\", \"Topic9\", \"Topic9\", \"Topic9\", \"Topic9\", \"Topic9\", \"Topic9\", \"Topic9\", \"Topic9\", \"Topic9\", \"Topic9\", \"Topic9\", \"Topic9\", \"Topic10\", \"Topic10\", \"Topic10\", \"Topic10\", \"Topic10\", \"Topic10\", \"Topic10\", \"Topic10\", \"Topic10\", \"Topic10\", \"Topic10\", \"Topic10\", \"Topic10\", \"Topic10\", \"Topic10\", \"Topic10\", \"Topic10\", \"Topic10\", \"Topic10\", \"Topic10\", \"Topic10\", \"Topic10\", \"Topic10\", \"Topic10\", \"Topic10\", \"Topic10\", \"Topic10\", \"Topic10\", \"Topic10\", \"Topic10\", \"Topic10\", \"Topic10\", \"Topic10\", \"Topic10\", \"Topic10\", \"Topic10\", \"Topic10\", \"Topic10\", \"Topic10\", \"Topic10\", \"Topic10\", \"Topic10\", \"Topic10\", \"Topic10\", \"Topic10\", \"Topic10\", \"Topic10\", \"Topic10\"], \"Freq\": [24840.0, 23882.0, 11021.0, 12853.0, 13313.0, 7843.0, 8513.0, 17941.0, 14760.0, 8347.0, 8923.0, 8167.0, 5243.0, 5833.0, 8303.0, 7240.0, 8027.0, 5078.0, 4521.0, 7897.0, 3843.0, 4213.0, 3975.0, 5898.0, 9295.0, 3484.0, 5491.0, 3568.0, 3277.0, 3433.0, 13312.439453125, 8922.1103515625, 5897.4404296875, 5490.158203125, 5190.552734375, 4352.96484375, 3064.013671875, 3059.017333984375, 2970.468505859375, 2675.79150390625, 2591.402099609375, 2383.79638671875, 2193.541259765625, 2115.866455078125, 2050.69189453125, 2030.0863037109375, 1955.6761474609375, 1863.300537109375, 1820.961669921875, 1794.0458984375, 1741.19091796875, 1740.6549072265625, 1735.3880615234375, 1716.9765625, 1507.2174072265625, 1334.0567626953125, 1277.39892578125, 1108.93017578125, 1082.3287353515625, 1031.4554443359375, 3887.996337890625, 5450.123046875, 2376.19873046875, 3930.575439453125, 4954.15185546875, 11474.390625, 3782.503662109375, 12489.279296875, 3761.33154296875, 4608.54638671875, 2754.95263671875, 2908.595458984375, 3942.82080078125, 4990.4375, 5253.91650390625, 4041.667236328125, 3265.8369140625, 3149.63720703125, 4688.990234375, 4510.81640625, 4005.6416015625, 3420.2216796875, 3781.940673828125, 3299.0263671875, 3032.2939453125, 23881.494140625, 11020.986328125, 5077.3017578125, 3580.757080078125, 3490.730224609375, 3563.3359375, 2437.680419921875, 1864.3380126953125, 1758.9378662109375, 1280.5623779296875, 1269.3721923828125, 1111.256103515625, 1000.576171875, 946.300048828125, 944.926025390625, 898.3035888671875, 825.3297119140625, 758.1104736328125, 757.676513671875, 755.5774536132812, 708.5753784179688, 677.3016357421875, 662.4811401367188, 653.9986572265625, 649.6406860351562, 640.01904296875, 637.60107421875, 631.1431274414062, 628.558837890625, 602.161376953125, 10614.9208984375, 1505.1910400390625, 1540.9027099609375, 3174.951904296875, 2715.607666015625, 1146.065673828125, 1962.4853515625, 1037.2635498046875, 1353.387939453125, 1141.90771484375, 4779.40625, 1752.9697265625, 1419.4970703125, 2201.555419921875, 1186.424560546875, 1568.6370849609375, 1311.958740234375, 1436.2657470703125, 1140.7611083984375, 1202.164794921875, 3194.032470703125, 3183.864990234375, 3174.128662109375, 2998.17431640625, 2974.32275390625, 2530.9931640625, 2213.67236328125, 2063.498779296875, 2023.6971435546875, 1860.706298828125, 1771.327392578125, 1737.0009765625, 1375.6473388671875, 1357.245849609375, 1301.269775390625, 1220.8465576171875, 1106.483154296875, 989.7278442382812, 946.1589965820312, 925.7903442382812, 888.521240234375, 845.465087890625, 786.0198974609375, 782.6697998046875, 778.6683349609375, 727.9605712890625, 717.94140625, 709.4784545898438, 707.2904052734375, 692.3057861328125, 2690.831298828125, 2423.812255859375, 5104.27099609375, 2392.747314453125, 2607.20263671875, 1683.771240234375, 1939.771728515625, 2383.538818359375, 1720.669189453125, 1447.6654052734375, 2907.234375, 2196.28955078125, 1387.6387939453125, 1255.049072265625, 1392.0584716796875, 1447.637451171875, 1310.9501953125, 3316.137939453125, 3233.40966796875, 2768.322509765625, 2175.1708984375, 1869.653564453125, 1577.9925537109375, 1375.977783203125, 1371.4996337890625, 1368.3636474609375, 1317.2899169921875, 1315.513916015625, 1310.98681640625, 1307.4691162109375, 1299.7822265625, 1075.077880859375, 1035.348388671875, 936.40234375, 885.7513427734375, 867.1665649414062, 837.3673706054688, 828.2978515625, 803.06787109375, 801.235107421875, 769.5042724609375, 748.2068481445312, 732.7689208984375, 670.8699340820312, 663.8272094726562, 633.3786010742188, 612.5718383789062, 6340.46435546875, 3314.177734375, 2114.72705078125, 1769.46240234375, 2022.74462890625, 1525.82080078125, 2425.705810546875, 3598.4697265625, 2170.738037109375, 1525.4359130859375, 2606.0068359375, 1074.4180908203125, 1725.7569580078125, 1829.5587158203125, 1706.5679931640625, 1873.3966064453125, 1403.26318359375, 1638.01708984375, 1339.1036376953125, 24839.76171875, 4520.1572265625, 3974.130615234375, 3567.364501953125, 3432.64306640625, 2736.919677734375, 2581.33349609375, 2364.74853515625, 2177.606689453125, 2175.681396484375, 2099.234130859375, 1937.72900390625, 1886.3255615234375, 1802.251708984375, 1501.0479736328125, 1209.98974609375, 1109.37109375, 1107.658935546875, 1066.069580078125, 976.2927856445312, 944.7570190429688, 935.9442749023438, 929.6880493164062, 874.1831665039062, 860.8335571289062, 850.2989501953125, 824.2014770507812, 815.19873046875, 803.675537109375, 800.387451171875, 1762.252197265625, 1064.8262939453125, 1574.0343017578125, 1901.8046875, 1073.2769775390625, 1567.9842529296875, 1163.0982666015625, 1003.9076538085938, 8512.9130859375, 4212.9609375, 3176.52392578125, 3060.44775390625, 2645.668212890625, 2494.472412109375, 2250.6513671875, 2248.801513671875, 2192.010986328125, 2080.659423828125, 1687.4405517578125, 1496.6849365234375, 1463.93115234375, 1432.292724609375, 1412.426513671875, 1299.9488525390625, 1197.8157958984375, 988.8935546875, 988.2696533203125, 911.9066162109375, 897.87890625, 837.5602416992188, 824.3021850585938, 809.051025390625, 792.1302490234375, 784.9081420898438, 784.3312377929688, 775.8771362304688, 758.7073364257812, 746.2313842773438, 1403.955322265625, 2234.71337890625, 4529.6923828125, 1581.4991455078125, 1444.8641357421875, 967.1549682617188, 1163.366943359375, 1222.6414794921875, 1240.1060791015625, 2005.8875732421875, 1775.611328125, 1342.6546630859375, 1214.806396484375, 1046.202880859375, 1099.710205078125, 3483.853759765625, 3064.501708984375, 2812.97265625, 2681.65478515625, 2311.441162109375, 2064.4755859375, 1811.08349609375, 1798.08740234375, 1670.1470947265625, 1560.16162109375, 1539.4111328125, 1430.6439208984375, 1422.1632080078125, 1325.244384765625, 1232.0032958984375, 1107.453857421875, 1102.9395751953125, 1062.540771484375, 1053.395263671875, 982.4515380859375, 968.6430053710938, 877.5322875976562, 822.1884155273438, 782.3125610351562, 770.626708984375, 763.3092041015625, 663.577880859375, 662.1725463867188, 656.97607421875, 650.8818359375, 2374.120849609375, 4384.83837890625, 1463.2255859375, 2095.56787109375, 1319.886962890625, 2268.763671875, 2956.974365234375, 2766.453125, 1063.69970703125, 1422.841552734375, 1383.8641357421875, 1460.641357421875, 1203.2509765625, 3276.451416015625, 3057.31884765625, 1973.708740234375, 1948.6427001953125, 1781.5145263671875, 1727.2005615234375, 1492.2860107421875, 1492.0748291015625, 1428.74853515625, 1243.6591796875, 1179.515625, 1088.7349853515625, 997.11865234375, 989.3859252929688, 938.510986328125, 931.987548828125, 927.3737182617188, 914.9292602539062, 889.6843872070312, 865.4638671875, 847.7103881835938, 843.833984375, 784.57470703125, 771.4212646484375, 751.8888549804688, 725.0531005859375, 698.2916870117188, 666.9398803710938, 659.2186279296875, 646.1834106445312, 2858.59521484375, 2075.8994140625, 2452.85498046875, 1854.687255859375, 1122.9840087890625, 1677.8555908203125, 3428.966064453125, 1306.3812255859375, 1240.142578125, 1278.1253662109375, 1233.59423828125, 1466.9315185546875, 1189.9757080078125, 1074.215576171875, 1088.5576171875, 1180.62841796875, 1014.74755859375, 1000.7357177734375, 3842.32666015625, 2472.280517578125, 2310.4111328125, 2155.0625, 1631.05078125, 1458.091064453125, 1429.8485107421875, 1369.7786865234375, 1325.1640625, 1193.316650390625, 1187.274658203125, 1132.6307373046875, 1007.9265747070312, 919.4359741210938, 911.2107543945312, 876.00634765625, 875.6220703125, 819.8779296875, 763.8245239257812, 762.8833618164062, 752.9993286132812, 747.5557861328125, 740.8790893554688, 723.4720458984375, 695.1605834960938, 685.217529296875, 674.97216796875, 668.7239379882812, 651.6453857421875, 640.647216796875, 5233.75146484375, 4358.0263671875, 1956.629638671875, 2142.24169921875, 1367.461181640625, 1970.7242431640625, 972.5833129882812, 1236.2564697265625, 1366.7044677734375, 1392.8203125, 1237.973876953125, 872.0661010742188, 1068.357666015625, 958.9121704101562, 7842.7353515625, 5242.46044921875, 1351.9935302734375, 1350.365966796875, 1203.30078125, 1158.3167724609375, 1036.0819091796875, 954.8399047851562, 945.406982421875, 892.3500366210938, 861.6546630859375, 705.392578125, 690.0491943359375, 682.1203002929688, 659.1705322265625, 632.2529907226562, 627.878173828125, 624.2779541015625, 615.4053344726562, 612.7899169921875, 587.7276611328125, 585.9839477539062, 574.65576171875, 572.4758911132812, 559.7112426757812, 549.0081176757812, 546.4425659179688, 532.5072021484375, 527.765625, 527.037353515625, 714.0963745117188, 1460.7545166015625, 1521.96728515625, 1430.823486328125, 994.7096557617188, 1104.8719482421875, 876.9672241210938, 1061.1412353515625, 662.8385009765625, 990.3676147460938, 1783.7388916015625, 1420.7835693359375, 698.4911499023438, 1106.867431640625, 677.399169921875, 839.5176391601562, 775.2835083007812, 677.7849731445312], \"Term\": [\"trump\", \"black\", \"woman\", \"white\", \"dont\", \"video\", \"police\", \"people\", \"like\", \"year\", \"know\", \"right\", \"watch\", \"playing\", \"love\", \"music\", \"man\", \"american\", \"president\", \"life\", \"listen\", \"cop\", \"obama\", \"thing\", \"need\", \"play\", \"cant\", \"donald\", \"medium\", \"vote\", \"dont\", \"know\", \"thing\", \"cant\", \"think\", \"youre\", \"better\", \"shit\", \"doesnt\", \"feel\", \"mean\", \"something\", \"fuck\", \"aint\", \"there\", \"ive\", \"wrong\", \"enough\", \"theyre\", \"as\", \"damn\", \"hard\", \"lie\", \"nigga\", \"anything\", \"wait\", \"gotta\", \"understand\", \"trust\", \"else\", \"even\", \"never\", \"nothing\", \"thats\", \"way\", \"like\", \"really\", \"people\", \"going\", \"let\", \"didnt\", \"always\", \"still\", \"want\", \"make\", \"see\", \"work\", \"stop\", \"time\", \"need\", \"say\", \"got\", \"right\", \"life\", \"good\", \"black\", \"woman\", \"american\", \"house\", \"school\", \"men\", \"student\", \"african\", \"high\", \"session\", \"proud\", \"supremacist\", \"protect\", \"female\", \"university\", \"supremacy\", \"teacher\", \"slave\", \"general\", \"panther\", \"usa\", \"administration\", \"bar\", \"society\", \"kkk\", \"private\", \"camp\", \"accused\", \"cancer\", \"rape\", \"white\", \"voter\", \"group\", \"america\", \"racist\", \"prison\", \"history\", \"government\", \"pay\", \"college\", \"people\", \"child\", \"community\", \"first\", \"race\", \"girl\", \"war\", \"man\", \"law\", \"say\", \"twitter\", \"yall\", \"story\", \"please\", \"thank\", \"tweet\", \"thought\", \"share\", \"ready\", \"true\", \"baby\", \"movie\", \"africa\", \"amazing\", \"following\", \"fake\", \"picture\", \"comment\", \"hey\", \"account\", \"fun\", \"one\", \"retweet\", \"article\", \"pic\", \"interesting\", \"earth\", \"reading\", \"everybody\", \"george\", \"thanks\", \"read\", \"love\", \"great\", \"look\", \"friend\", \"much\", \"good\", \"news\", \"word\", \"like\", \"make\", \"god\", \"part\", \"support\", \"see\", \"help\", \"last\", \"week\", \"night\", \"tonight\", \"month\", \"open\", \"order\", \"ago\", \"season\", \"tomorrow\", \"drop\", \"march\", \"event\", \"tune\", \"dope\", \"weekend\", \"james\", \"global\", \"archive\", \"atlanta\", \"rap\", \"goal\", \"saturday\", \"land\", \"blue\", \"catch\", \"begin\", \"forever\", \"final\", \"tuesday\", \"year\", \"live\", \"next\", \"join\", \"game\", \"radio\", \"check\", \"day\", \"free\", \"end\", \"today\", \"meet\", \"world\", \"show\", \"first\", \"time\", \"come\", \"via\", \"every\", \"trump\", \"president\", \"obama\", \"donald\", \"vote\", \"clinton\", \"election\", \"muslim\", \"gop\", \"republican\", \"hillary\", \"morning\", \"russia\", \"plan\", \"russian\", \"episode\", \"tax\", \"democrat\", \"press\", \"policy\", \"senate\", \"voted\", \"candidate\", \"meeting\", \"putin\", \"congress\", \"poll\", \"perfect\", \"paul\", \"entire\", \"2016\", \"lil\", \"state\", \"say\", \"bill\", \"via\", \"call\", \"party\", \"police\", \"cop\", \"killed\", \"shot\", \"officer\", \"death\", \"shooting\", \"gun\", \"chicago\", \"case\", \"miss\", \"car\", \"arrested\", \"murder\", \"killing\", \"charge\", \"baltimore\", \"rip\", \"fired\", \"jail\", \"shoot\", \"mayor\", \"arrest\", \"jones\", \"late\", \"contest\", \"thug\", \"trial\", \"prayer\", \"county\", \"judge\", \"city\", \"man\", \"kill\", \"hand\", \"protester\", \"violence\", \"dead\", \"report\", \"year\", \"say\", \"family\", \"wont\", \"found\", \"young\", \"play\", \"beat\", \"issue\", \"2017\", \"yes\", \"click\", \"magazine\", \"app\", \"interview\", \"mixtape\", \"health\", \"100\", \"buy\", \"bernie\", \"sale\", \"available\", \"view\", \"rapper\", \"york\", \"follower\", \"civil\", \"opportunity\", \"holiday\", \"town\", \"space\", \"choice\", \"hook\", \"hall\", \"google\", \"stream\", \"million\", \"right\", \"stand\", \"start\", \"promotion\", \"best\", \"need\", \"via\", \"record\", \"real\", \"free\", \"music\", \"day\", \"medium\", \"happy\", \"social\", \"king\", \"movement\", \"beautiful\", \"birthday\", \"system\", \"dream\", \"detail\", \"martin\", \"security\", \"answer\", \"jackson\", \"united\", \"queen\", \"small\", \"powerful\", \"spend\", \"success\", \"audio\", \"push\", \"podcast\", \"create\", \"forward\", \"reminder\", \"jesus\", \"greatest\", \"across\", \"knowledge\", \"power\", \"justice\", \"state\", \"hit\", \"leader\", \"matter\", \"life\", \"protest\", \"looking\", \"change\", \"fight\", \"call\", \"must\", \"photo\", \"big\", \"today\", \"water\", \"day\", \"listen\", \"campaign\", \"album\", \"track\", \"team\", \"prod\", \"brother\", \"link\", \"email\", \"indie\", \"supporter\", \"online\", \"friday\", \"update\", \"lmao\", \"nice\", \"drake\", \"lit\", \"chris\", \"sad\", \"send\", \"april\", \"mix\", \"cartoon\", \"producer\", \"beyonc\\u00e9\", \"title\", \"flag\", \"reach\", \"store\", \"playing\", \"music\", \"artist\", \"feat\", \"single\", \"song\", \"project\", \"follow\", \"top\", \"money\", \"party\", \"visit\", \"want\", \"check\", \"video\", \"watch\", \"political\", \"peace\", \"mom\", \"control\", \"father\", \"finally\", \"park\", \"hop\", \"hip\", \"needed\", \"gift\", \"discus\", \"kanye\", \"pro\", \"sense\", \"liked\", \"rick\", \"fresh\", \"common\", \"alert\", \"present\", \"purpose\", \"prince\", \"trailer\", \"jordan\", \"dance\", \"brought\", \"steve\", \"dad\", \"daily\", \"future\", \"latest\", \"art\", \"son\", \"west\", \"official\", \"age\", \"truth\", \"via\", \"music\", \"series\", \"show\", \"died\", \"thanks\", \"live\", \"study\"], \"Total\": [24840.0, 23882.0, 11021.0, 12853.0, 13313.0, 7843.0, 8513.0, 17941.0, 14760.0, 8347.0, 8923.0, 8167.0, 5243.0, 5833.0, 8303.0, 7240.0, 8027.0, 5078.0, 4521.0, 7897.0, 3843.0, 4213.0, 3975.0, 5898.0, 9295.0, 3484.0, 5491.0, 3568.0, 3277.0, 3433.0, 13313.33984375, 8923.0107421875, 5898.34228515625, 5491.06005859375, 5191.45458984375, 4353.86669921875, 3064.91552734375, 3059.919189453125, 2971.370361328125, 2676.693359375, 2592.303955078125, 2384.6982421875, 2194.443115234375, 2116.768310546875, 2051.59375, 2030.988037109375, 1956.577880859375, 1864.2022705078125, 1821.863525390625, 1794.94775390625, 1742.0927734375, 1741.5567626953125, 1736.289794921875, 1717.8782958984375, 1508.119140625, 1334.9586181640625, 1278.30078125, 1109.8319091796875, 1083.23046875, 1032.357177734375, 4063.324951171875, 6023.50244140625, 2501.05615234375, 4318.0810546875, 5563.09912109375, 14760.548828125, 4335.60595703125, 17941.578125, 4409.208984375, 5717.998046875, 3062.91357421875, 3401.09326171875, 5539.18505859375, 8259.259765625, 9234.4384765625, 6754.1298828125, 4670.70703125, 4381.14599609375, 9505.337890625, 9295.654296875, 9279.0537109375, 5927.37939453125, 8167.5830078125, 7897.6708984375, 6638.77734375, 23882.38671875, 11021.87890625, 5078.19580078125, 3581.651123046875, 3491.624267578125, 3564.442138671875, 2438.574462890625, 1865.2318115234375, 1759.831787109375, 1281.456298828125, 1270.2659912109375, 1112.14990234375, 1001.4699096679688, 947.19384765625, 945.8197631835938, 899.1973266601562, 826.2235107421875, 759.0042114257812, 758.5702514648438, 756.47119140625, 709.4691772460938, 678.1954345703125, 663.3749389648438, 654.8924560546875, 650.5344848632812, 640.912841796875, 638.4948120117188, 632.0369262695312, 629.4525756835938, 603.05517578125, 12853.2783203125, 1797.1634521484375, 1860.8466796875, 4622.55859375, 4312.21337890625, 1444.488525390625, 3169.162109375, 1265.781005859375, 1929.9400634765625, 1497.51171875, 17941.578125, 3189.44677734375, 2343.916748046875, 5623.3369140625, 1708.697021484375, 3763.00439453125, 2415.66015625, 8027.4970703125, 2167.6064453125, 9279.0537109375, 3194.93115234375, 3184.763671875, 3175.032958984375, 2999.072998046875, 2975.221435546875, 2531.891845703125, 2214.571044921875, 2064.3974609375, 2024.5955810546875, 1861.6046142578125, 1772.2257080078125, 1737.8994140625, 1376.5457763671875, 1358.144287109375, 1302.1680908203125, 1221.744873046875, 1107.3814697265625, 990.6261596679688, 947.0572509765625, 926.6885375976562, 889.41943359375, 846.3633422851562, 786.9180908203125, 783.5679931640625, 779.5665893554688, 728.8587646484375, 718.8397216796875, 710.376708984375, 708.1886596679688, 693.2040405273438, 3531.142822265625, 3227.912353515625, 8303.3603515625, 4159.853515625, 4778.87890625, 2649.61767578125, 3986.16650390625, 6638.77734375, 3586.567138671875, 2711.7822265625, 14760.548828125, 9234.4384765625, 2806.88818359375, 2109.349853515625, 3726.87353515625, 6754.1298828125, 4047.586669921875, 3317.038818359375, 3234.310546875, 2769.223388671875, 2176.07177734375, 1870.55419921875, 1578.8931884765625, 1376.87841796875, 1372.4002685546875, 1369.2642822265625, 1318.1905517578125, 1316.41455078125, 1311.887451171875, 1308.3697509765625, 1300.682861328125, 1075.978515625, 1036.2490234375, 937.3027954101562, 886.65185546875, 868.0674438476562, 838.2678833007812, 829.1983642578125, 803.9683227539062, 802.1355590820312, 770.40478515625, 749.1073608398438, 733.6693725585938, 671.7703857421875, 664.7276611328125, 634.279052734375, 613.4723510742188, 8347.1435546875, 4728.21630859375, 2806.865478515625, 2296.864013671875, 2730.35888671875, 1921.1817626953125, 4294.4365234375, 9738.2265625, 4288.5419921875, 2417.342041015625, 7010.21044921875, 1357.853759765625, 4689.0869140625, 5765.1484375, 5623.3369140625, 9505.337890625, 3964.574462890625, 10940.6953125, 4847.28466796875, 24840.6640625, 4521.06005859375, 3975.032958984375, 3568.266845703125, 3433.54541015625, 2737.822021484375, 2582.23583984375, 2365.651123046875, 2178.509033203125, 2176.583740234375, 2100.136474609375, 1938.6314697265625, 1887.2279052734375, 1803.1541748046875, 1501.9503173828125, 1210.8922119140625, 1110.2734375, 1108.5614013671875, 1066.9720458984375, 977.1950073242188, 945.6592407226562, 936.8464965820312, 930.5902709960938, 875.0853881835938, 861.7357788085938, 851.201171875, 825.1036987304688, 816.1009521484375, 804.5777587890625, 801.289794921875, 3123.445068359375, 1460.604736328125, 4027.690673828125, 9279.0537109375, 2170.676025390625, 10940.6953125, 4869.62548828125, 2566.060546875, 8513.80078125, 4213.8505859375, 3177.413330078125, 3061.337158203125, 2646.5576171875, 2495.36181640625, 2251.540771484375, 2249.69091796875, 2192.900390625, 2081.548828125, 1688.3299560546875, 1497.5743408203125, 1464.820556640625, 1433.18212890625, 1413.31591796875, 1300.8382568359375, 1198.7052001953125, 989.78271484375, 989.1588745117188, 912.7957763671875, 898.76806640625, 838.4494018554688, 825.1913452148438, 809.940185546875, 793.0194702148438, 785.7973022460938, 785.2203979492188, 776.7662963867188, 759.5964965820312, 747.1205444335938, 1554.244384765625, 2820.618896484375, 8027.4970703125, 2006.2421875, 1949.642333984375, 1120.924560546875, 1593.996826171875, 1784.073974609375, 2137.394287109375, 8347.1435546875, 9279.0537109375, 3639.043212890625, 2810.402587890625, 1546.4776611328125, 2524.863525390625, 3484.75244140625, 3065.400390625, 2813.871337890625, 2682.553466796875, 2312.33984375, 2065.374267578125, 1811.982177734375, 1798.986083984375, 1671.0457763671875, 1561.060302734375, 1540.309814453125, 1431.5426025390625, 1423.0618896484375, 1326.14306640625, 1232.9019775390625, 1108.3525390625, 1103.8382568359375, 1063.439453125, 1054.2939453125, 983.3500366210938, 969.5415649414062, 878.4308471679688, 823.0869750976562, 783.2111206054688, 771.5252685546875, 764.207763671875, 664.4763793945312, 663.071044921875, 657.8745727539062, 651.7803344726562, 3159.00927734375, 8167.5830078125, 1976.094482421875, 3258.95703125, 1728.4427490234375, 4952.65185546875, 9295.654296875, 10940.6953125, 1596.51416015625, 4348.0068359375, 4288.5419921875, 7240.14697265625, 9738.2265625, 3277.34716796875, 3058.214599609375, 1974.6043701171875, 1949.5384521484375, 1782.41015625, 1728.09619140625, 1493.181640625, 1492.9705810546875, 1429.7425537109375, 1244.554931640625, 1180.4112548828125, 1089.6307373046875, 998.0142822265625, 990.2815551757812, 939.4066162109375, 932.8831787109375, 928.2693481445312, 915.8248901367188, 890.5800170898438, 866.3594970703125, 848.6060180664062, 844.7296142578125, 785.4703369140625, 772.31689453125, 752.7845458984375, 725.94873046875, 699.1873168945312, 667.8355102539062, 660.1142578125, 647.0790405273438, 3086.43212890625, 2721.78662109375, 4027.690673828125, 2823.108154296875, 1390.13720703125, 2577.40771484375, 7897.6708984375, 2186.958740234375, 2003.4588623046875, 2517.282958984375, 2525.734619140625, 4869.62548828125, 2891.82275390625, 2314.110107421875, 3024.37646484375, 7010.21044921875, 1932.96337890625, 9738.2265625, 3843.224609375, 2473.1787109375, 2311.30908203125, 2155.960693359375, 1631.948974609375, 1458.9892578125, 1430.7467041015625, 1370.6768798828125, 1326.062255859375, 1194.21484375, 1188.1729736328125, 1133.5289306640625, 1008.82470703125, 920.3341674804688, 912.10888671875, 876.904541015625, 876.5202026367188, 820.7760620117188, 764.72265625, 763.781494140625, 753.8975219726562, 748.4539794921875, 741.7772216796875, 724.3701782226562, 696.0587158203125, 686.1156616210938, 675.8703002929688, 669.6220703125, 652.5435180664062, 641.5453491210938, 5833.529296875, 7240.14697265625, 2875.856201171875, 3264.800537109375, 1810.7257080078125, 3147.206787109375, 1211.2691650390625, 1874.5057373046875, 2424.487548828125, 3249.685791015625, 2566.060546875, 1263.5780029296875, 8259.259765625, 4294.4365234375, 7843.62744140625, 5243.3525390625, 1352.8853759765625, 1351.2578125, 1204.192626953125, 1159.208740234375, 1036.9737548828125, 955.7318115234375, 946.2988891601562, 893.2418823242188, 862.5465087890625, 706.2844848632812, 690.9411010742188, 683.01220703125, 660.0623779296875, 633.1448364257812, 628.7700805664062, 625.1697998046875, 616.2971801757812, 613.6817626953125, 588.6195678710938, 586.8758544921875, 575.5476684570312, 573.3677978515625, 560.6031494140625, 549.8999633789062, 547.3344116210938, 533.3990478515625, 528.6575317382812, 527.9292602539062, 715.43603515625, 1633.680419921875, 1791.1910400390625, 1820.0196533203125, 1293.6334228515625, 1658.679931640625, 1223.006591796875, 1981.7208251953125, 770.5927124023438, 1963.290283203125, 10940.6953125, 7240.14697265625, 941.8213500976562, 5765.1484375, 882.88916015625, 3531.142822265625, 4728.21630859375, 956.4034423828125], \"loglift\": [30.0, 29.0, 28.0, 27.0, 26.0, 25.0, 24.0, 23.0, 22.0, 21.0, 20.0, 19.0, 18.0, 17.0, 16.0, 15.0, 14.0, 13.0, 12.0, 11.0, 10.0, 9.0, 8.0, 7.0, 6.0, 5.0, 4.0, 3.0, 2.0, 1.0, 1.580299973487854, 1.580299973487854, 1.580199956893921, 1.580199956893921, 1.580199956893921, 1.580199956893921, 1.5801000595092773, 1.5801000595092773, 1.5801000595092773, 1.5801000595092773, 1.5800000429153442, 1.5800000429153442, 1.5800000429153442, 1.5800000429153442, 1.5799000263214111, 1.5799000263214111, 1.5799000263214111, 1.5799000263214111, 1.5799000263214111, 1.5799000263214111, 1.5799000263214111, 1.5799000263214111, 1.5799000263214111, 1.5799000263214111, 1.579800009727478, 1.579699993133545, 1.579699993133545, 1.5795999765396118, 1.5795999765396118, 1.5794999599456787, 1.5362999439239502, 1.4803999662399292, 1.5291999578475952, 1.4864000082015991, 1.4644999504089355, 1.3285000324249268, 1.4438999891281128, 1.2180999517440796, 1.4214999675750732, 1.3646999597549438, 1.4744000434875488, 1.4240000247955322, 1.240399956703186, 1.0765999555587769, 1.0163999795913696, 1.0669000148773193, 1.222599983215332, 1.2503999471664429, 0.8737999796867371, 0.8572999835014343, 0.7402999997138977, 1.030500054359436, 0.8105000257492065, 0.7074000239372253, 0.7968000173568726, 2.15939998626709, 2.15939998626709, 2.1593000888824463, 2.1591999530792236, 2.1591999530792236, 2.1591999530792236, 2.15910005569458, 2.1589999198913574, 2.1589999198913574, 2.158799886703491, 2.158799886703491, 2.1586999893188477, 2.158600091934204, 2.1584999561309814, 2.1584999561309814, 2.1584999561309814, 2.158400058746338, 2.1582999229431152, 2.1582999229431152, 2.1582999229431152, 2.1582000255584717, 2.1582000255584717, 2.158099889755249, 2.158099889755249, 2.158099889755249, 2.158099889755249, 2.158099889755249, 2.158099889755249, 2.158099889755249, 2.1579999923706055, 1.9680999517440796, 1.982200026512146, 1.9708000421524048, 1.7838000059127808, 1.6970000267028809, 1.9280999898910522, 1.6801999807357788, 1.9603999853134155, 1.8046000003814697, 1.8883999586105347, 0.8367000222206116, 1.5608999729156494, 1.6579999923706055, 1.2216999530792236, 1.794700026512146, 1.284500002861023, 1.5490000247955322, 0.43869999051094055, 1.5176000595092773, 0.11580000072717667, 2.3605000972747803, 2.3605000972747803, 2.3605000972747803, 2.3603999614715576, 2.3603999614715576, 2.3603999614715576, 2.360300064086914, 2.360300064086914, 2.360300064086914, 2.360300064086914, 2.3601999282836914, 2.3601999282836914, 2.360100030899048, 2.360100030899048, 2.360100030899048, 2.359999895095825, 2.3598999977111816, 2.359800100326538, 2.359800100326538, 2.359800100326538, 2.3596999645233154, 2.3596999645233154, 2.359600067138672, 2.359600067138672, 2.359600067138672, 2.359499931335449, 2.359499931335449, 2.359499931335449, 2.359499931335449, 2.3594000339508057, 2.0889999866485596, 2.074199914932251, 1.8741999864578247, 1.8077000379562378, 1.7547999620437622, 1.9074000120162964, 1.6404999494552612, 1.336400032043457, 1.6262999773025513, 1.7331000566482544, 0.7360000014305115, 0.9246000051498413, 1.6562999486923218, 1.8415000438690186, 1.3760000467300415, 0.8205000162124634, 1.2333999872207642, 2.363600015640259, 2.363600015640259, 2.363600015640259, 2.3635001182556152, 2.3633999824523926, 2.363300085067749, 2.3631999492645264, 2.3631999492645264, 2.3631999492645264, 2.3631999492645264, 2.3631999492645264, 2.3631999492645264, 2.3631999492645264, 2.3631999492645264, 2.36299991607666, 2.36299991607666, 2.3629000186920166, 2.3629000186920166, 2.362799882888794, 2.362799882888794, 2.362799882888794, 2.362799882888794, 2.362799882888794, 2.3626999855041504, 2.3626999855041504, 2.362600088119507, 2.362499952316284, 2.362499952316284, 2.362499952316284, 2.3624000549316406, 2.088900089263916, 2.008500099182129, 2.080699920654297, 2.1029999256134033, 2.0638999938964844, 2.133500099182129, 1.7927000522613525, 1.368299961090088, 1.6829999685287476, 1.903499960899353, 1.3743000030517578, 2.1298000812530518, 1.364300012588501, 1.2160999774932861, 1.1713999509811401, 0.739799976348877, 1.3252999782562256, 0.4648999869823456, 1.0774999856948853, 2.3910999298095703, 2.390899896621704, 2.390899896621704, 2.390899896621704, 2.3907999992370605, 2.3907999992370605, 2.3907999992370605, 2.390700101852417, 2.390700101852417, 2.390700101852417, 2.390700101852417, 2.3905999660491943, 2.3905999660491943, 2.3905999660491943, 2.390500068664551, 2.390399932861328, 2.3903000354766846, 2.3903000354766846, 2.3903000354766846, 2.390199899673462, 2.3901000022888184, 2.3901000022888184, 2.3901000022888184, 2.3901000022888184, 2.3901000022888184, 2.390000104904175, 2.390000104904175, 2.390000104904175, 2.390000104904175, 2.390000104904175, 1.8187999725341797, 2.0750999450683594, 1.4515999555587769, 0.8061000108718872, 1.6868000030517578, 0.44839999079704285, 0.9592000246047974, 1.4526000022888184, 2.3938000202178955, 2.393699884414673, 2.3935999870300293, 2.3935999870300293, 2.3935000896453857, 2.3935000896453857, 2.3935000896453857, 2.3935000896453857, 2.3935000896453857, 2.393399953842163, 2.3933000564575195, 2.3933000564575195, 2.3933000564575195, 2.3933000564575195, 2.393199920654297, 2.393199920654297, 2.3931000232696533, 2.3929998874664307, 2.3929998874664307, 2.392899990081787, 2.392899990081787, 2.3928000926971436, 2.3928000926971436, 2.3928000926971436, 2.3928000926971436, 2.392699956893921, 2.392699956893921, 2.392699956893921, 2.392699956893921, 2.392699956893921, 2.2922000885009766, 2.1610000133514404, 1.8216999769210815, 2.1559998989105225, 2.0941998958587646, 2.246299982070923, 2.078900098800659, 2.0160000324249268, 1.8494999408721924, 0.9679999947547913, 0.7402999997138977, 1.3968000411987305, 1.5550999641418457, 2.0030999183654785, 1.5627000331878662, 2.50570011138916, 2.50570011138916, 2.5055999755859375, 2.5055999755859375, 2.5055999755859375, 2.505500078201294, 2.505500078201294, 2.505500078201294, 2.5053999423980713, 2.5053999423980713, 2.5053999423980713, 2.5053000450134277, 2.5053000450134277, 2.5053000450134277, 2.505199909210205, 2.5051000118255615, 2.5051000118255615, 2.5051000118255615, 2.5051000118255615, 2.505000114440918, 2.505000114440918, 2.5048999786376953, 2.5048999786376953, 2.5048000812530518, 2.5048000812530518, 2.5048000812530518, 2.5046000480651855, 2.5046000480651855, 2.5046000480651855, 2.5046000480651855, 2.2202999591827393, 1.8839000463485718, 2.2054998874664307, 2.0643999576568604, 2.236299991607666, 1.7252999544143677, 1.3605999946594238, 1.13100004196167, 2.099900007247925, 1.3889000415802002, 1.374899983406067, 0.9052000045776367, 0.414900004863739, 2.5078001022338867, 2.5078001022338867, 2.5076000690460205, 2.5076000690460205, 2.5076000690460205, 2.5076000690460205, 2.507499933242798, 2.507499933242798, 2.5074000358581543, 2.5074000358581543, 2.5072999000549316, 2.5072999000549316, 2.507200002670288, 2.507200002670288, 2.5071001052856445, 2.5071001052856445, 2.5071001052856445, 2.5071001052856445, 2.5071001052856445, 2.506999969482422, 2.506999969482422, 2.506999969482422, 2.5069000720977783, 2.5069000720977783, 2.5069000720977783, 2.5067999362945557, 2.5067999362945557, 2.506700038909912, 2.506700038909912, 2.506700038909912, 2.4314000606536865, 2.2372000217437744, 2.0120999813079834, 2.0880000591278076, 2.2946999073028564, 2.0787999629974365, 1.673799991607666, 1.992799997329712, 2.02839994430542, 1.830299973487854, 1.7914999723434448, 1.3082000017166138, 1.6201000213623047, 1.7405999898910522, 1.486199975013733, 0.7268000245094299, 1.863700032234192, 0.23280000686645508, 2.6273999214172363, 2.6273000240325928, 2.62719988822937, 2.62719988822937, 2.6270999908447266, 2.627000093460083, 2.627000093460083, 2.627000093460083, 2.6268999576568604, 2.6268999576568604, 2.6268999576568604, 2.626800060272217, 2.626699924468994, 2.6266000270843506, 2.6266000270843506, 2.6266000270843506, 2.6266000270843506, 2.626499891281128, 2.6263999938964844, 2.6263999938964844, 2.6263999938964844, 2.6263999938964844, 2.6263999938964844, 2.6263999938964844, 2.626300096511841, 2.626300096511841, 2.626300096511841, 2.626300096511841, 2.626199960708618, 2.626199960708618, 2.5190999507904053, 2.119999885559082, 2.242500066757202, 2.2063000202178955, 2.3468000888824463, 2.1594998836517334, 2.408099889755249, 2.211400032043457, 2.0543999671936035, 1.780400037765503, 1.8986999988555908, 2.2567999362945557, 0.5824000239372253, 1.1282999515533447, 2.627700090408325, 2.6275999546051025, 2.6270999908447266, 2.6270999908447266, 2.627000093460083, 2.627000093460083, 2.6268999576568604, 2.6268999576568604, 2.626800060272217, 2.626800060272217, 2.626800060272217, 2.626499891281128, 2.626499891281128, 2.626499891281128, 2.6263999938964844, 2.6263999938964844, 2.6263999938964844, 2.6263999938964844, 2.626300096511841, 2.626300096511841, 2.626300096511841, 2.626300096511841, 2.626199960708618, 2.626199960708618, 2.626199960708618, 2.626199960708618, 2.626199960708618, 2.6261000633239746, 2.6261000633239746, 2.6261000633239746, 2.6259000301361084, 2.515899896621704, 2.464900016784668, 2.387200117111206, 2.365000009536743, 2.2214999198913574, 2.2952001094818115, 2.003200054168701, 2.4772000312805176, 1.94350004196167, 0.8140000104904175, 0.9994000196456909, 2.328900098800659, 0.9775000214576721, 2.362799882888794, 1.1912000179290771, 0.8197000026702881, 2.283400058746338], \"logprob\": [30.0, 29.0, 28.0, 27.0, 26.0, 25.0, 24.0, 23.0, 22.0, 21.0, 20.0, 19.0, 18.0, 17.0, 16.0, 15.0, 14.0, 13.0, 12.0, 11.0, 10.0, 9.0, 8.0, 7.0, 6.0, 5.0, 4.0, 3.0, 2.0, 1.0, -3.793100118637085, -4.193299770355225, -4.6072998046875, -4.678899765014648, -4.735000133514404, -4.910999774932861, -5.2621002197265625, -5.263800144195557, -5.293099880218506, -5.397600173950195, -5.429599761962891, -5.513199806213379, -5.59630012512207, -5.632400035858154, -5.663700103759766, -5.673799991607666, -5.711100101470947, -5.759500026702881, -5.78249979019165, -5.797399997711182, -5.827300071716309, -5.827600002288818, -5.830599784851074, -5.841300010681152, -5.97160005569458, -6.093599796295166, -6.13700008392334, -6.278500080108643, -6.302700042724609, -6.350900173187256, -5.02400016784668, -4.686200141906738, -5.516300201416016, -5.0131001472473145, -4.781599998474121, -3.941699981689453, -5.051499843597412, -3.8570001125335693, -5.05709981918335, -4.853899955749512, -5.3684000968933105, -5.314199924468994, -5.009900093078613, -4.7743000984191895, -4.722899913787842, -4.985199928283691, -5.198299884796143, -5.234600067138672, -4.836599826812744, -4.875400066375732, -4.994100093841553, -5.152100086212158, -5.051599979400635, -5.188199996948242, -5.272500038146973, -2.6296000480651855, -3.4030001163482666, -4.177999973297119, -4.527200222015381, -4.552599906921387, -4.532100200653076, -4.9116997718811035, -5.179800033569336, -5.23799991607666, -5.555500030517578, -5.564199924468994, -5.697299957275391, -5.802199840545654, -5.857900142669678, -5.859399795532227, -5.909999847412109, -5.994699954986572, -6.079699993133545, -6.0802998542785645, -6.083000183105469, -6.147299766540527, -6.192399978637695, -6.2144999504089355, -6.227399826049805, -6.234099864959717, -6.249000072479248, -6.252799987792969, -6.263000011444092, -6.267099857330322, -6.309999942779541, -3.440500020980835, -5.393799781799316, -5.3703999519348145, -4.647500038146973, -4.803699970245361, -5.666399955749512, -5.128499984741211, -5.766200065612793, -5.500100135803223, -5.670100212097168, -4.238399982452393, -5.241399765014648, -5.452499866485596, -5.013599872589111, -5.631800174713135, -5.352499961853027, -5.531199932098389, -5.440700054168701, -5.67110013961792, -5.618599891662598, -4.440199851989746, -4.443399906158447, -4.446499824523926, -4.503499984741211, -4.511499881744385, -4.672900199890137, -4.80679988861084, -4.877099990844727, -4.896599769592285, -4.980500221252441, -5.029799938201904, -5.049300193786621, -5.282599925994873, -5.296000003814697, -5.338200092315674, -5.401899814605713, -5.50029993057251, -5.611800193786621, -5.656799793243408, -5.678599834442139, -5.719699859619141, -5.769400119781494, -5.842299938201904, -5.846499919891357, -5.8516998291015625, -5.919000148773193, -5.9328999519348145, -5.944699764251709, -5.947800159454346, -5.969200134277344, -4.611599922180176, -4.716100215911865, -3.971400022506714, -4.729000091552734, -4.643199920654297, -5.08050012588501, -4.938899993896484, -4.732900142669678, -5.058800220489502, -5.231500148773193, -4.534299850463867, -4.814700126647949, -5.273900032043457, -5.374300003051758, -5.270699977874756, -5.231599807739258, -5.330699920654297, -4.399600028991699, -4.424799919128418, -4.580100059509277, -4.821199893951416, -4.972599983215332, -5.142199993133545, -5.279200077056885, -5.28249979019165, -5.2846999168396, -5.322800159454346, -5.324100017547607, -5.327600002288818, -5.3302998542785645, -5.33620023727417, -5.526000022888184, -5.563600063323975, -5.664100170135498, -5.719699859619141, -5.740900039672852, -5.7758002281188965, -5.7866997718811035, -5.817699909210205, -5.820000171661377, -5.860400199890137, -5.888400077819824, -5.909299850463867, -5.997499942779541, -6.0081000328063965, -6.054999828338623, -6.088399887084961, -3.7513999938964844, -4.400100231170654, -4.849400043487549, -5.027699947357178, -4.893899917602539, -5.17579984664917, -4.712200164794922, -4.317800045013428, -4.823299884796143, -5.17609977722168, -4.640500068664551, -5.526599884033203, -5.052700042724609, -4.99429988861084, -5.063899993896484, -4.970600128173828, -5.2596001625061035, -5.104899883270264, -5.306399822235107, -2.3587000370025635, -4.062600135803223, -4.191299915313721, -4.299300193786621, -4.337800025939941, -4.564300060272217, -4.622799873352051, -4.7104997634887695, -4.792900085449219, -4.793799877166748, -4.829599857330322, -4.909599781036377, -4.936500072479248, -4.982100009918213, -5.164999961853027, -5.380499839782715, -5.467299938201904, -5.468900203704834, -5.507199764251709, -5.595099925994873, -5.627999782562256, -5.63730001449585, -5.644000053405762, -5.705599784851074, -5.7210001945495605, -5.73330020904541, -5.764500141143799, -5.7754998207092285, -5.789700031280518, -5.793799877166748, -5.004499912261963, -5.508299827575684, -5.117499828338623, -4.928299903869629, -5.500400066375732, -5.121300220489502, -5.420000076293945, -5.567200183868408, -3.426800012588501, -4.130199909210205, -4.412600040435791, -4.44980001449585, -4.595399856567383, -4.654300212860107, -4.7571001052856445, -4.757999897003174, -4.7835001945495605, -4.835700035095215, -5.045100212097168, -5.16510009765625, -5.18720006942749, -5.209099769592285, -5.2230000495910645, -5.306000232696533, -5.387899875640869, -5.579500198364258, -5.5802001953125, -5.660600185394287, -5.67609977722168, -5.74560022354126, -5.761600017547607, -5.780300140380859, -5.801400184631348, -5.810500144958496, -5.811299800872803, -5.8221001625061035, -5.8445000648498535, -5.861100196838379, -5.229100227355957, -4.764200210571289, -4.057700157165527, -5.110000133514404, -5.200300216674805, -5.601799964904785, -5.416999816894531, -5.367300033569336, -5.3531999588012695, -4.872300148010254, -4.994200229644775, -5.27370023727417, -5.373799800872803, -5.523200035095215, -5.473299980163574, -4.208099842071533, -4.336400032043457, -4.421999931335449, -4.469799995422363, -4.6184000968933105, -4.731400012969971, -4.862400054931641, -4.86959981918335, -4.943399906158447, -5.011499881744385, -5.024899959564209, -5.098199844360352, -5.104100227355957, -5.174699783325195, -5.247600078582764, -5.3541998863220215, -5.35830020904541, -5.395599842071533, -5.404300212860107, -5.473999977111816, -5.488100051879883, -5.586900234222412, -5.652100086212158, -5.7017998695373535, -5.716800212860107, -5.726399898529053, -5.866399765014648, -5.868500232696533, -5.876399993896484, -5.885700225830078, -4.591599941253662, -3.978100061416626, -5.0756001472473145, -4.7164998054504395, -5.178699970245361, -4.63700008392334, -4.372099876403809, -4.438700199127197, -5.394499778747559, -5.103600025177002, -5.131400108337402, -5.077400207519531, -5.271200180053711, -4.267399787902832, -4.336599826812744, -4.774199962615967, -4.7870001792907715, -4.876699924468994, -4.907700061798096, -5.053800106048584, -5.053999900817871, -5.097400188446045, -5.236100196838379, -5.289100170135498, -5.369100093841553, -5.456999778747559, -5.464799880981445, -5.517600059509277, -5.524600028991699, -5.529600143432617, -5.543099880218506, -5.571000099182129, -5.598599910736084, -5.6194000244140625, -5.624000072479248, -5.696800231933594, -5.713699817657471, -5.739299774169922, -5.775700092315674, -5.813300132751465, -5.8592000007629395, -5.8709001541137695, -5.8907999992370605, -4.403800010681152, -4.723800182342529, -4.5569000244140625, -4.836400032043457, -5.338200092315674, -4.936600208282471, -4.22189998626709, -5.1869001388549805, -5.238900184631348, -5.208799839019775, -5.244200229644775, -5.071000099182129, -5.280200004577637, -5.382599830627441, -5.36929988861084, -5.288099765777588, -5.439499855041504, -5.453400135040283, -3.9885001182556152, -4.429500102996826, -4.497200012207031, -4.566800117492676, -4.845399856567383, -4.957499980926514, -4.9770002365112305, -5.019999980926514, -5.053100109100342, -5.157899856567383, -5.163000106811523, -5.210100173950195, -5.326700210571289, -5.418600082397461, -5.427599906921387, -5.4670000076293945, -5.467400074005127, -5.533199787139893, -5.604000091552734, -5.605299949645996, -5.618299961090088, -5.6255998611450195, -5.634500026702881, -5.658299922943115, -5.698200225830078, -5.712600231170654, -5.727700233459473, -5.736999988555908, -5.762899875640869, -5.779900074005127, -3.679500102996826, -3.862600088119507, -4.663400173187256, -4.572800159454346, -5.021699905395508, -4.656199932098389, -5.362400054931641, -5.122499942779541, -5.022200107574463, -5.003300189971924, -5.121099948883057, -5.471499919891357, -5.268499851226807, -5.3765997886657715, -3.274899959564209, -3.6777000427246094, -5.032899856567383, -5.03410005569458, -5.149400234222412, -5.1875, -5.298999786376953, -5.38070011138916, -5.390600204467773, -5.448299884796143, -5.48330020904541, -5.6834001541137695, -5.705399990081787, -5.7170000076293945, -5.751200199127197, -5.792900085449219, -5.799900054931641, -5.805600166320801, -5.819900035858154, -5.82420015335083, -5.865900039672852, -5.868899822235107, -5.888400077819824, -5.892199993133545, -5.91480016708374, -5.934100151062012, -5.938799858093262, -5.964600086212158, -5.973499774932861, -5.974899768829346, -5.671199798583984, -4.95550012588501, -4.914400100708008, -4.976200103759766, -5.339799880981445, -5.2347002029418945, -5.465700149536133, -5.275100231170654, -5.745699882507324, -5.344099998474121, -4.75570011138916, -4.9832000732421875, -5.693299770355225, -5.232900142669678, -5.723899841308594, -5.509399890899658, -5.589000225067139, -5.723400115966797]}, \"token.table\": {\"Topic\": [7, 3, 4, 5, 7, 3, 2, 8, 2, 3, 2, 2, 10, 4, 1, 9, 10, 1, 3, 3, 1, 2, 5, 2, 8, 1, 7, 9, 4, 6, 6, 4, 10, 3, 7, 9, 1, 4, 8, 7, 3, 6, 2, 7, 8, 4, 7, 1, 3, 4, 7, 1, 9, 1, 4, 8, 9, 2, 3, 5, 7, 8, 2, 4, 9, 10, 7, 1, 2, 5, 6, 8, 9, 2, 9, 2, 5, 1, 6, 9, 6, 4, 1, 8, 6, 4, 7, 9, 6, 1, 2, 6, 10, 7, 9, 6, 7, 7, 7, 5, 2, 10, 1, 3, 4, 3, 10, 2, 4, 8, 5, 6, 10, 6, 6, 8, 3, 10, 7, 10, 1, 10, 1, 3, 4, 5, 6, 7, 8, 9, 1, 6, 10, 6, 5, 8, 1, 5, 2, 10, 10, 1, 5, 1, 4, 9, 8, 4, 3, 5, 1, 9, 1, 4, 1, 5, 5, 1, 10, 4, 1, 4, 5, 7, 3, 3, 2, 3, 4, 6, 10, 10, 4, 5, 9, 1, 2, 1, 2, 8, 4, 10, 6, 2, 3, 4, 5, 7, 9, 3, 9, 7, 3, 4, 8, 3, 6, 10, 4, 7, 9, 10, 9, 1, 3, 1, 3, 4, 8, 10, 4, 7, 2, 3, 10, 1, 2, 3, 6, 10, 4, 4, 1, 3, 1, 4, 1, 3, 5, 9, 7, 5, 1, 3, 4, 7, 9, 10, 1, 1, 2, 1, 3, 4, 7, 8, 2, 7, 6, 7, 1, 6, 8, 1, 7, 1, 2, 3, 6, 7, 9, 3, 2, 5, 10, 2, 3, 4, 8, 6, 8, 7, 7, 10, 2, 9, 3, 7, 7, 1, 8, 6, 4, 8, 4, 8, 6, 10, 5, 6, 2, 6, 8, 10, 1, 6, 6, 6, 8, 2, 1, 8, 4, 4, 6, 9, 10, 2, 5, 6, 7, 3, 8, 1, 3, 9, 1, 1, 3, 4, 8, 10, 1, 3, 7, 10, 5, 7, 9, 9, 9, 4, 7, 10, 9, 1, 3, 1, 4, 8, 1, 3, 8, 7, 1, 3, 7, 8, 10, 1, 2, 6, 4, 8, 1, 8, 6, 1, 8, 4, 5, 5, 2, 2, 7, 6, 9, 7, 10, 1, 3, 7, 9, 4, 5, 8, 3, 1, 3, 6, 7, 9, 10, 5, 1, 2, 5, 6, 8, 1, 3, 7, 9, 10, 1, 8, 2, 3, 4, 5, 6, 1, 4, 9, 9, 1, 4, 1, 6, 5, 6, 5, 6, 9, 10, 3, 9, 4, 7, 4, 2, 10, 2, 3, 8, 2, 5, 9, 5, 2, 6, 7, 10, 1, 2, 6, 5, 3, 4, 8, 10, 3, 3, 5, 7, 4, 6, 9, 10, 3, 8, 6, 5, 10, 5, 8, 9, 8, 6, 10, 5, 5, 10, 2, 4, 8, 2, 10, 9, 9, 3, 9, 6, 7, 2, 2, 8, 6, 9, 2, 10, 8, 5, 8, 1, 2, 8, 1, 2, 4, 7, 4, 2, 7, 9, 3, 7, 3, 3, 1, 3, 7, 10, 1, 3, 4, 6, 7, 8, 2, 5, 6, 5, 3, 10, 1, 7, 6, 5, 5, 9, 7, 4, 1, 2, 3, 5, 6, 2, 4, 8, 1, 3, 4, 7, 8, 5, 9, 10, 3, 10, 2, 3, 1, 6, 6, 6, 1, 3, 4, 5, 6, 8, 9, 10, 7, 9, 10, 2, 8, 8, 2, 1, 6, 10, 6, 8, 9, 7, 8, 6, 7, 1, 7, 9, 5, 8, 10, 1, 2, 5, 6, 8, 10, 1, 6, 8, 9, 3, 7, 2, 1, 10, 8, 1, 2, 3, 7, 8, 9, 9, 2, 2, 8, 5, 2, 9, 3, 3, 10, 1, 3, 1, 1, 1, 1, 3, 6, 1, 2, 3, 4, 5, 6, 7, 9, 1, 2, 3, 4, 5, 6, 7, 8, 4, 4, 4, 9, 7, 9, 10, 6, 3, 5, 1, 1, 10, 4, 4, 3, 3, 1, 8, 2, 9, 2, 2, 4, 5, 6, 7, 8, 9, 10, 10, 7, 2, 6, 4, 9, 5, 5, 2, 9, 1, 1, 2, 3, 5, 6, 7, 8, 9, 2, 4, 5, 10, 10, 2, 8, 1, 4, 4, 4, 4, 10, 1, 2, 2, 1, 6, 1, 3, 1, 4, 8, 9, 1, 4, 8, 10, 1, 3, 4, 6, 7, 7, 1, 6, 7, 9, 10, 1], \"Freq\": [0.9996209740638733, 0.15175551176071167, 0.2839812934398651, 0.5641207098960876, 0.9997937083244324, 0.99925696849823, 0.9983593821525574, 0.9983119964599609, 0.9982373118400574, 0.9996035099029541, 0.9993395805358887, 0.13885416090488434, 0.8603766560554504, 0.9989796876907349, 0.9996370077133179, 0.9994336366653442, 0.9985076189041138, 0.8553131818771362, 0.1446593701839447, 0.9991574883460999, 0.14797000586986542, 0.686849057674408, 0.1650601029396057, 0.9997645020484924, 0.9989836812019348, 0.9992579221725464, 0.9994518756866455, 0.9993934631347656, 0.9987702965736389, 0.9985562562942505, 0.9994398355484009, 0.23035892844200134, 0.7691514492034912, 0.9992751479148865, 0.3192092776298523, 0.6804929971694946, 0.9994719624519348, 0.9984874725341797, 0.999285876750946, 0.9987797141075134, 0.9993084073066711, 0.9994117021560669, 0.9979273676872253, 0.9998694062232971, 0.9993656873703003, 0.9988532066345215, 0.9991380572319031, 0.29337817430496216, 0.1486072540283203, 0.09994645416736603, 0.4581384062767029, 0.9997012615203857, 0.9983739256858826, 0.15209746360778809, 0.23575107753276825, 0.3600742220878601, 0.25195276737213135, 0.3644025921821594, 0.07785592973232269, 0.494316041469574, 0.0631139799952507, 0.9992086291313171, 0.9999419450759888, 0.9985217452049255, 0.9994781017303467, 0.9987562298774719, 0.9992538094520569, 0.1673640012741089, 0.1661318689584732, 0.2388274073600769, 0.12280204892158508, 0.3012551963329315, 0.0034910282120108604, 0.9992250204086304, 0.999523401260376, 0.9992809891700745, 0.9993656873703003, 0.9998069405555725, 0.9996165037155151, 0.998108446598053, 0.9997363090515137, 0.9990876317024231, 0.49180009961128235, 0.5076902508735657, 0.9993556141853333, 0.5649169683456421, 0.2116692066192627, 0.22331218421459198, 0.9995893836021423, 0.1379549652338028, 0.5496250987052917, 0.19533167779445648, 0.11663464456796646, 0.9984195828437805, 0.999055027961731, 0.7923793196678162, 0.20740129053592682, 0.9994414448738098, 0.9993346333503723, 0.9996997714042664, 0.7625983953475952, 0.23705992102622986, 0.48328012228012085, 0.16269084811210632, 0.35388413071632385, 0.999367892742157, 0.9989474415779114, 0.6053969264030457, 0.21545134484767914, 0.1787606179714203, 0.9985888600349426, 0.9989853501319885, 0.9989572763442993, 0.9997981190681458, 0.9985001683235168, 0.9982948899269104, 0.0013977489434182644, 0.997992753982544, 0.10528375208377838, 0.8942997455596924, 0.9993727207183838, 0.9992519021034241, 0.17189988493919373, 0.11521604657173157, 0.36947178840637207, 0.0005134405218996108, 0.03244943916797638, 0.12353378534317017, 0.10279078781604767, 0.08410155773162842, 0.16815446317195892, 0.6855096817016602, 0.14629438519477844, 0.9994542598724365, 0.9994935989379883, 0.9995540976524353, 0.8994703888893127, 0.1002313643693924, 0.2321922332048416, 0.7668006420135498, 0.9985180497169495, 0.9995388388633728, 0.9996449947357178, 0.9998993873596191, 0.9990905523300171, 0.9994065165519714, 0.999480664730072, 0.9996851086616516, 0.9988318085670471, 0.9995214343070984, 0.998685359954834, 0.9991989135742188, 0.3685866594314575, 0.6308581829071045, 0.9993550777435303, 0.9983903765678406, 0.9992631673812866, 0.9568518400192261, 0.04306817799806595, 0.998953104019165, 0.4183785617351532, 0.2762371301651001, 0.15843921899795532, 0.14688636362552643, 0.998321533203125, 0.9993903040885925, 0.19648021459579468, 0.24814215302467346, 0.06952376663684845, 0.36905306577682495, 0.11678893864154816, 0.9990609884262085, 0.17152655124664307, 0.17213915288448334, 0.6560890674591064, 0.9997409582138062, 0.9987396001815796, 0.28546151518821716, 0.22567690908908844, 0.4885707199573517, 0.997983455657959, 0.9992343187332153, 0.9988284111022949, 0.3915824294090271, 0.1122109517455101, 0.3035564124584198, 0.11523406952619553, 0.0775340348482132, 0.9990710020065308, 0.339822918176651, 0.6593738198280334, 0.9986271262168884, 0.9991029500961304, 0.9989053010940552, 0.9989578127861023, 0.19592911005020142, 0.6763757467269897, 0.12738625705242157, 0.5062326788902283, 0.32272040843963623, 0.17092056572437286, 0.9988890886306763, 0.9991825222969055, 0.36420348286628723, 0.6355633735656738, 0.999798059463501, 0.9995284080505371, 0.0050245895981788635, 0.14459653198719025, 0.849713921546936, 0.7409282326698303, 0.25894030928611755, 0.9992482662200928, 0.9982630610466003, 0.9986379146575928, 0.27052852511405945, 0.41695407032966614, 0.1820354014635086, 0.04597390443086624, 0.08450694382190704, 0.9992648363113403, 0.9987955689430237, 0.5051857829093933, 0.49449777603149414, 0.8529874682426453, 0.14673833549022675, 0.4567106068134308, 0.3591022789478302, 0.10348290950059891, 0.08058712631464005, 0.9986706376075745, 0.9997663497924805, 0.5769834518432617, 0.07203858345746994, 0.07676242291927338, 0.13007435202598572, 0.09734487533569336, 0.04690099507570267, 0.9989824295043945, 0.18012595176696777, 0.8192570209503174, 0.21010355651378632, 0.5752606391906738, 0.14447623491287231, 0.06995438784360886, 0.9987488985061646, 0.8281176686286926, 0.17142733931541443, 0.9996928572654724, 0.9983847141265869, 0.25850895047187805, 0.741161584854126, 0.9996028542518616, 0.9996802806854248, 0.9991496205329895, 0.2221076637506485, 0.10302435606718063, 0.32389670610427856, 0.09240073710680008, 0.1655307412147522, 0.09289485961198807, 0.9988836646080017, 0.9995273351669312, 0.9994588494300842, 0.9993664026260376, 0.6190910935401917, 0.1647123098373413, 0.09182237833738327, 0.12400753796100616, 0.34288448095321655, 0.6570771932601929, 0.9986793994903564, 0.9992830753326416, 0.9986096620559692, 0.9998182058334351, 0.9989827275276184, 0.9988217949867249, 0.9993741512298584, 0.9996903538703918, 0.9995135068893433, 0.9987058639526367, 0.9991282224655151, 0.9986100792884827, 0.9983018636703491, 0.7701805830001831, 0.2294432669878006, 0.9988391995429993, 0.9975619912147522, 0.09586651623249054, 0.9033328294754028, 0.004041463136672974, 0.23293523490428925, 0.7627342939376831, 0.9983904957771301, 0.21134038269519806, 0.7880404591560364, 0.9998699426651001, 0.9990689158439636, 0.9997237920761108, 0.999178409576416, 0.9998867511749268, 0.9983324408531189, 0.9994745850563049, 0.9996868371963501, 0.9987144470214844, 0.21318450570106506, 0.7862552404403687, 0.526387095451355, 0.1264067143201828, 0.27080562710762024, 0.07565949112176895, 0.19134801626205444, 0.8078339099884033, 0.8060513138771057, 0.1448059231042862, 0.04896818846464157, 0.9992571473121643, 0.4177180826663971, 0.14687874913215637, 0.0005064784199930727, 0.4341786503791809, 0.0006330980686470866, 0.7773423790931702, 0.19694389402866364, 0.02560880407691002, 0.9981288313865662, 0.7291500568389893, 0.2704359292984009, 0.9995061755180359, 0.9996813535690308, 0.999054491519928, 0.7008985877037048, 0.13493460416793823, 0.16390958428382874, 0.9987842440605164, 0.4542906582355499, 0.5455254316329956, 0.19765816628932953, 0.182684063911438, 0.6189296245574951, 0.3244469463825226, 0.614690899848938, 0.06081875041127205, 0.9994579553604126, 0.5689571499824524, 0.23780547082424164, 0.07829387485980988, 0.05728556215763092, 0.0575021430850029, 0.25674253702163696, 0.17888514697551727, 0.5643103718757629, 0.9993235468864441, 0.9996516108512878, 0.34880006313323975, 0.6510417461395264, 0.9994640350341797, 0.9994969964027405, 0.9995889663696289, 0.7909541130065918, 0.208417147397995, 0.9987596869468689, 0.9995954036712646, 0.24817907810211182, 0.7515014410018921, 0.9992122650146484, 0.9989522099494934, 0.9993208050727844, 0.9990096092224121, 0.45327457785606384, 0.0052312747575342655, 0.11293399333953857, 0.42865681648254395, 0.9997037053108215, 0.9996742606163025, 0.9997698664665222, 0.9994824528694153, 0.5132750868797302, 0.4866831302642822, 0.9991751909255981, 0.20179148018360138, 0.6019214987754822, 0.19626674056053162, 0.9997247457504272, 0.2330709993839264, 0.2054067850112915, 0.127255380153656, 0.022822976112365723, 0.41150516271591187, 0.48528051376342773, 0.10607106983661652, 0.31810563802719116, 0.09047238528728485, 0.9981813430786133, 0.9047892093658447, 0.09512738138437271, 0.1447066217660904, 0.4798460304737091, 0.11515189707279205, 0.2353225201368332, 0.02481481432914734, 0.11222483217716217, 0.7535095810890198, 0.13395725190639496, 0.9989684820175171, 0.9994887113571167, 0.9995582103729248, 0.949998676776886, 0.04957905411720276, 0.9997401237487793, 0.999789297580719, 0.18468797206878662, 0.10798695683479309, 0.17156806588172913, 0.5353932976722717, 0.9983891844749451, 0.9995333552360535, 0.9994342923164368, 0.9995095133781433, 0.999362051486969, 0.9993771314620972, 0.9986274242401123, 0.2645364999771118, 0.5949700474739075, 0.1403276026248932, 0.1258738785982132, 0.3912612199783325, 0.48245158791542053, 0.9992818832397461, 0.701058030128479, 0.11295687407255173, 0.18549798429012299, 0.9990691542625427, 0.6960926055908203, 0.26636451482772827, 0.03745489940047264, 0.9986509680747986, 0.1417391449213028, 0.23680809140205383, 0.46410930156707764, 0.15729588270187378, 0.9992731809616089, 0.9987524747848511, 0.9993599057197571, 0.9997840523719788, 0.1021679937839508, 0.000514268409460783, 0.8972269892692566, 0.00017142281285487115, 0.9996422529220581, 0.9994012117385864, 0.9999059438705444, 0.9987770915031433, 0.9993455410003662, 0.9986623525619507, 0.926312267780304, 0.07354770600795746, 0.9990993142127991, 0.9992147088050842, 0.9990484118461609, 0.9997655153274536, 0.9990889430046082, 0.9989240765571594, 0.7933604121208191, 0.14607246220111847, 0.06022893264889717, 0.9985756874084473, 0.9981918334960938, 0.9993219375610352, 0.9984790086746216, 0.19648811221122742, 0.8032896518707275, 0.23605063557624817, 0.7636932134628296, 0.9995307922363281, 0.40238526463508606, 0.5971763134002686, 0.8626807332038879, 0.1364944726228714, 0.9990033507347107, 0.9976144433021545, 0.9991362690925598, 0.9991461634635925, 0.9990532994270325, 0.18259526789188385, 0.6940961480140686, 0.12290066480636597, 0.3701115548610687, 0.6298389434814453, 0.794302761554718, 0.20560261607170105, 0.9985547661781311, 0.9982503056526184, 0.9995867609977722, 0.9991670846939087, 0.7509497404098511, 0.24876759946346283, 0.998062014579773, 0.9997058510780334, 0.4139827787876129, 0.1833023726940155, 0.32727640867233276, 0.07543686032295227, 0.8725423812866211, 0.12731784582138062, 0.2035685032606125, 0.12965747714042664, 0.6664519906044006, 0.9986931085586548, 0.13193635642528534, 0.2877335250377655, 0.5801456570625305, 0.9997318387031555, 0.9988332986831665, 0.9978951811790466, 0.46305009722709656, 0.5368785262107849, 0.9992092251777649, 0.9993493556976318, 0.9993672966957092, 0.9989768266677856, 0.9992684125900269, 0.9985843300819397, 0.43172505497932434, 0.12953907251358032, 0.04235345497727394, 0.20497779548168182, 0.19139882922172546, 0.9998211860656738, 0.9990766644477844, 0.9994211196899414, 0.598448634147644, 0.21438734233379364, 0.10956259816884995, 0.020283885300159454, 0.05729827657341957, 0.999302864074707, 0.9988095164299011, 0.9987752437591553, 0.25801071524620056, 0.7411171793937683, 0.9996439218521118, 0.9993230700492859, 0.999699592590332, 0.9991454482078552, 0.9997597932815552, 0.9995632171630859, 0.11118534207344055, 0.18698564171791077, 0.31742462515830994, 0.015437589958310127, 0.020988184958696365, 0.07024970650672913, 0.08586075901985168, 0.1920158714056015, 0.23968291282653809, 0.7549459338188171, 0.004418117925524712, 0.9986769556999207, 0.998632550239563, 0.9996939301490784, 0.9986372590065002, 0.9997072219848633, 0.33339765667915344, 0.6661924123764038, 0.10993875563144684, 0.26340818405151367, 0.6262696385383606, 0.9993191957473755, 0.9993487000465393, 0.2590969204902649, 0.7403492331504822, 0.30653977394104004, 0.6431505680084229, 0.05032284930348396, 0.39079466462135315, 0.6090338826179504, 0.9982398152351379, 0.7118375897407532, 0.023288624361157417, 0.07654555886983871, 0.06192246451973915, 0.08214204758405685, 0.04423033446073532, 0.7189899682998657, 0.1869373917579651, 0.09403932094573975, 0.9991499185562134, 0.9996746778488159, 0.9988027811050415, 0.9997644424438477, 0.29067230224609375, 0.7089058756828308, 0.9984307885169983, 0.15696802735328674, 0.27851763367652893, 0.3735034167766571, 0.007781321182847023, 0.09257089346647263, 0.0904243215918541, 0.9990127682685852, 0.9989660382270813, 0.9986684322357178, 0.9993498921394348, 0.9988530278205872, 0.9985191822052002, 0.9994184970855713, 0.9995894432067871, 0.762076199054718, 0.2378833293914795, 0.9103580713272095, 0.08962314575910568, 0.9997106194496155, 0.9995260238647461, 0.9997724294662476, 0.999912440776825, 0.9997421503067017, 0.9984458088874817, 0.49330177903175354, 0.000736428308300674, 0.08353201299905777, 0.1970471739768982, 0.047762636095285416, 0.07006589323282242, 0.10751853138208389, 0.9987123012542725, 0.09528958052396774, 0.047359492629766464, 0.14806973934173584, 0.37174347043037415, 0.02767391875386238, 0.034378424286842346, 0.10698680579662323, 0.16846854984760284, 0.9990968108177185, 0.999507486820221, 0.43596842885017395, 0.5638304948806763, 0.998453676700592, 0.9995543956756592, 0.9983633756637573, 0.9990134835243225, 0.9996752142906189, 0.9999732375144958, 0.9988640546798706, 0.49508726596832275, 0.5042555332183838, 0.9992300271987915, 0.9994750022888184, 0.9996477365493774, 0.9997085332870483, 0.9992504119873047, 0.9995671510696411, 0.999133288860321, 0.9985503554344177, 0.999338686466217, 0.09204167872667313, 0.14971625804901123, 0.14331813156604767, 0.06891700625419617, 0.2528175711631775, 0.06233607605099678, 0.06772878766059875, 0.16306093335151672, 0.9999200105667114, 0.9992405772209167, 0.2697621285915375, 0.7296124696731567, 0.3094387650489807, 0.6901038289070129, 0.9998411536216736, 0.9990964531898499, 0.8374307751655579, 0.16192182898521423, 0.9992818832397461, 0.6041703820228577, 0.004358744248747826, 0.06090134009718895, 0.04479820281267166, 0.13027802109718323, 0.003511210437864065, 0.02252017706632614, 0.12930941581726074, 0.5431227684020996, 0.14737172424793243, 0.19911740720272064, 0.11011482775211334, 0.9997420310974121, 0.4744011163711548, 0.5251004695892334, 0.8905107975006104, 0.10929159820079803, 0.9995948076248169, 0.998794674873352, 0.2820917069911957, 0.7170852422714233, 0.1741189956665039, 0.8258593678474426, 0.9999202489852905, 0.567534327507019, 0.4323224127292633, 0.46574535965919495, 0.5339661836624146, 0.6992517113685608, 0.12953071296215057, 0.11197448521852493, 0.05909169465303421, 0.37171414494514465, 0.3680887222290039, 0.12411797791719437, 0.13606061041355133, 0.9997046589851379, 0.9997602105140686, 0.7595412731170654, 0.24032172560691833, 0.9994205832481384, 0.9987726807594299, 0.1120852679014206, 0.43566709756851196, 0.12396709620952606, 0.18416836857795715, 0.14416620135307312, 0.9998009204864502], \"Term\": [\"100\", \"2016\", \"2016\", \"2016\", \"2017\", \"account\", \"accused\", \"across\", \"administration\", \"africa\", \"african\", \"age\", \"age\", \"ago\", \"aint\", \"album\", \"alert\", \"always\", \"always\", \"amazing\", \"america\", \"america\", \"america\", \"american\", \"answer\", \"anything\", \"app\", \"april\", \"archive\", \"arrest\", \"arrested\", \"art\", \"art\", \"article\", \"artist\", \"artist\", \"as\", \"atlanta\", \"audio\", \"available\", \"baby\", \"baltimore\", \"bar\", \"beat\", \"beautiful\", \"begin\", \"bernie\", \"best\", \"best\", \"best\", \"best\", \"better\", \"beyonc\\u00e9\", \"big\", \"big\", \"big\", \"big\", \"bill\", \"bill\", \"bill\", \"bill\", \"birthday\", \"black\", \"blue\", \"brother\", \"brought\", \"buy\", \"call\", \"call\", \"call\", \"call\", \"call\", \"call\", \"camp\", \"campaign\", \"cancer\", \"candidate\", \"cant\", \"car\", \"cartoon\", \"case\", \"catch\", \"change\", \"change\", \"charge\", \"check\", \"check\", \"check\", \"chicago\", \"child\", \"child\", \"child\", \"child\", \"choice\", \"chris\", \"city\", \"city\", \"civil\", \"click\", \"clinton\", \"college\", \"college\", \"come\", \"come\", \"come\", \"comment\", \"common\", \"community\", \"community\", \"community\", \"congress\", \"contest\", \"control\", \"cop\", \"county\", \"create\", \"dad\", \"dad\", \"daily\", \"daily\", \"damn\", \"dance\", \"day\", \"day\", \"day\", \"day\", \"day\", \"day\", \"day\", \"day\", \"dead\", \"dead\", \"dead\", \"death\", \"democrat\", \"detail\", \"didnt\", \"didnt\", \"died\", \"died\", \"discus\", \"doesnt\", \"donald\", \"dont\", \"dope\", \"drake\", \"dream\", \"drop\", \"earth\", \"election\", \"else\", \"email\", \"end\", \"end\", \"enough\", \"entire\", \"episode\", \"even\", \"even\", \"event\", \"every\", \"every\", \"every\", \"every\", \"everybody\", \"fake\", \"family\", \"family\", \"family\", \"family\", \"family\", \"father\", \"feat\", \"feat\", \"feat\", \"feel\", \"female\", \"fight\", \"fight\", \"fight\", \"final\", \"finally\", \"fired\", \"first\", \"first\", \"first\", \"first\", \"first\", \"flag\", \"follow\", \"follow\", \"follower\", \"following\", \"forever\", \"forward\", \"found\", \"found\", \"found\", \"free\", \"free\", \"free\", \"fresh\", \"friday\", \"friend\", \"friend\", \"fuck\", \"fun\", \"future\", \"future\", \"future\", \"game\", \"game\", \"general\", \"george\", \"gift\", \"girl\", \"girl\", \"girl\", \"girl\", \"girl\", \"global\", \"goal\", \"god\", \"god\", \"going\", \"going\", \"good\", \"good\", \"good\", \"good\", \"google\", \"gop\", \"got\", \"got\", \"got\", \"got\", \"got\", \"got\", \"gotta\", \"government\", \"government\", \"great\", \"great\", \"great\", \"great\", \"greatest\", \"group\", \"group\", \"gun\", \"hall\", \"hand\", \"hand\", \"happy\", \"hard\", \"health\", \"help\", \"help\", \"help\", \"help\", \"help\", \"help\", \"hey\", \"high\", \"hillary\", \"hip\", \"history\", \"history\", \"history\", \"history\", \"hit\", \"hit\", \"holiday\", \"hook\", \"hop\", \"house\", \"indie\", \"interesting\", \"interview\", \"issue\", \"ive\", \"jackson\", \"jail\", \"james\", \"jesus\", \"join\", \"join\", \"jones\", \"jordan\", \"judge\", \"judge\", \"justice\", \"justice\", \"justice\", \"kanye\", \"kill\", \"kill\", \"killed\", \"killing\", \"king\", \"kkk\", \"know\", \"knowledge\", \"land\", \"last\", \"late\", \"latest\", \"latest\", \"law\", \"law\", \"law\", \"law\", \"leader\", \"leader\", \"let\", \"let\", \"let\", \"lie\", \"life\", \"life\", \"life\", \"life\", \"life\", \"like\", \"like\", \"like\", \"liked\", \"lil\", \"lil\", \"link\", \"listen\", \"lit\", \"live\", \"live\", \"live\", \"lmao\", \"look\", \"look\", \"looking\", \"looking\", \"looking\", \"love\", \"love\", \"love\", \"magazine\", \"make\", \"make\", \"make\", \"make\", \"make\", \"man\", \"man\", \"man\", \"march\", \"martin\", \"matter\", \"matter\", \"mayor\", \"mean\", \"medium\", \"meet\", \"meet\", \"meeting\", \"men\", \"million\", \"million\", \"miss\", \"mix\", \"mixtape\", \"mom\", \"money\", \"money\", \"money\", \"money\", \"month\", \"morning\", \"movement\", \"movie\", \"much\", \"much\", \"murder\", \"music\", \"music\", \"music\", \"muslim\", \"must\", \"must\", \"must\", \"must\", \"must\", \"need\", \"need\", \"need\", \"need\", \"needed\", \"never\", \"never\", \"news\", \"news\", \"news\", \"news\", \"news\", \"next\", \"next\", \"next\", \"nice\", \"nigga\", \"night\", \"nothing\", \"nothing\", \"obama\", \"officer\", \"official\", \"official\", \"official\", \"official\", \"one\", \"online\", \"open\", \"opportunity\", \"order\", \"panther\", \"park\", \"part\", \"part\", \"part\", \"party\", \"party\", \"party\", \"paul\", \"pay\", \"pay\", \"pay\", \"peace\", \"people\", \"people\", \"people\", \"perfect\", \"photo\", \"photo\", \"photo\", \"photo\", \"pic\", \"picture\", \"plan\", \"play\", \"playing\", \"playing\", \"playing\", \"playing\", \"please\", \"podcast\", \"police\", \"policy\", \"political\", \"poll\", \"power\", \"power\", \"powerful\", \"prayer\", \"present\", \"president\", \"press\", \"prince\", \"prison\", \"prison\", \"prison\", \"private\", \"pro\", \"prod\", \"producer\", \"project\", \"project\", \"promotion\", \"promotion\", \"protect\", \"protest\", \"protest\", \"protester\", \"protester\", \"proud\", \"purpose\", \"push\", \"putin\", \"queen\", \"race\", \"race\", \"race\", \"racist\", \"racist\", \"radio\", \"radio\", \"rap\", \"rape\", \"rapper\", \"reach\", \"read\", \"read\", \"reading\", \"ready\", \"real\", \"real\", \"real\", \"real\", \"really\", \"really\", \"record\", \"record\", \"record\", \"reminder\", \"report\", \"report\", \"report\", \"republican\", \"retweet\", \"rick\", \"right\", \"right\", \"rip\", \"russia\", \"russian\", \"sad\", \"sale\", \"saturday\", \"say\", \"say\", \"say\", \"say\", \"say\", \"school\", \"season\", \"security\", \"see\", \"see\", \"see\", \"see\", \"see\", \"senate\", \"send\", \"sense\", \"series\", \"series\", \"session\", \"share\", \"shit\", \"shoot\", \"shooting\", \"shot\", \"show\", \"show\", \"show\", \"show\", \"show\", \"show\", \"show\", \"show\", \"single\", \"single\", \"single\", \"slave\", \"small\", \"social\", \"society\", \"something\", \"son\", \"son\", \"song\", \"song\", \"song\", \"space\", \"spend\", \"stand\", \"stand\", \"start\", \"start\", \"start\", \"state\", \"state\", \"steve\", \"still\", \"still\", \"still\", \"still\", \"still\", \"still\", \"stop\", \"stop\", \"stop\", \"store\", \"story\", \"stream\", \"student\", \"study\", \"study\", \"success\", \"support\", \"support\", \"support\", \"support\", \"support\", \"support\", \"supporter\", \"supremacist\", \"supremacy\", \"system\", \"tax\", \"teacher\", \"team\", \"thank\", \"thanks\", \"thanks\", \"thats\", \"thats\", \"there\", \"theyre\", \"thing\", \"think\", \"thought\", \"thug\", \"time\", \"time\", \"time\", \"time\", \"time\", \"time\", \"time\", \"title\", \"today\", \"today\", \"today\", \"today\", \"today\", \"today\", \"today\", \"today\", \"tomorrow\", \"tonight\", \"top\", \"top\", \"town\", \"track\", \"trailer\", \"trial\", \"true\", \"trump\", \"trust\", \"truth\", \"truth\", \"tuesday\", \"tune\", \"tweet\", \"twitter\", \"understand\", \"united\", \"university\", \"update\", \"usa\", \"via\", \"via\", \"via\", \"via\", \"via\", \"via\", \"via\", \"via\", \"video\", \"view\", \"violence\", \"violence\", \"visit\", \"visit\", \"vote\", \"voted\", \"voter\", \"voter\", \"wait\", \"want\", \"want\", \"want\", \"want\", \"want\", \"want\", \"want\", \"want\", \"war\", \"war\", \"war\", \"war\", \"watch\", \"water\", \"water\", \"way\", \"way\", \"week\", \"weekend\", \"west\", \"west\", \"white\", \"white\", \"woman\", \"wont\", \"wont\", \"word\", \"word\", \"work\", \"work\", \"work\", \"work\", \"world\", \"world\", \"world\", \"world\", \"wrong\", \"yall\", \"year\", \"year\", \"yes\", \"york\", \"young\", \"young\", \"young\", \"young\", \"young\", \"youre\"]}, \"R\": 30, \"lambda.step\": 0.01, \"plot.opts\": {\"xlab\": \"PC1\", \"ylab\": \"PC2\"}, \"topic.order\": [8, 3, 7, 5, 4, 2, 6, 9, 1, 10]};\n",
       "\n",
       "function LDAvis_load_lib(url, callback){\n",
       "  var s = document.createElement('script');\n",
       "  s.src = url;\n",
       "  s.async = true;\n",
       "  s.onreadystatechange = s.onload = callback;\n",
       "  s.onerror = function(){console.warn(\"failed to load library \" + url);};\n",
       "  document.getElementsByTagName(\"head\")[0].appendChild(s);\n",
       "}\n",
       "\n",
       "if(typeof(LDAvis) !== \"undefined\"){\n",
       "   // already loaded: just create the visualization\n",
       "   !function(LDAvis){\n",
       "       new LDAvis(\"#\" + \"ldavis_el603941142944227689641525140\", ldavis_el603941142944227689641525140_data);\n",
       "   }(LDAvis);\n",
       "}else if(typeof define === \"function\" && define.amd){\n",
       "   // require.js is available: use it to load d3/LDAvis\n",
       "   require.config({paths: {d3: \"https://cdnjs.cloudflare.com/ajax/libs/d3/3.5.5/d3.min\"}});\n",
       "   require([\"d3\"], function(d3){\n",
       "      window.d3 = d3;\n",
       "      LDAvis_load_lib(\"https://cdn.rawgit.com/bmabey/pyLDAvis/files/ldavis.v1.0.0.js\", function(){\n",
       "        new LDAvis(\"#\" + \"ldavis_el603941142944227689641525140\", ldavis_el603941142944227689641525140_data);\n",
       "      });\n",
       "    });\n",
       "}else{\n",
       "    // require.js not available: dynamically load d3 & LDAvis\n",
       "    LDAvis_load_lib(\"https://cdnjs.cloudflare.com/ajax/libs/d3/3.5.5/d3.min.js\", function(){\n",
       "         LDAvis_load_lib(\"https://cdn.rawgit.com/bmabey/pyLDAvis/files/ldavis.v1.0.0.js\", function(){\n",
       "                 new LDAvis(\"#\" + \"ldavis_el603941142944227689641525140\", ldavis_el603941142944227689641525140_data);\n",
       "            })\n",
       "         });\n",
       "}\n",
       "</script>"
      ],
      "text/plain": [
       "<IPython.core.display.HTML object>"
      ]
     },
     "execution_count": 47,
     "metadata": {},
     "output_type": "execute_result"
    }
   ],
   "source": [
    "# http://tlfvincent.github.io/2015/10/23/presidential-speech-topics/#topic=1&lambda=1&term=\n",
    "vis_data = gensimvis.prepare(tweet_topics, corpus, dictionary)\n",
    "pyLDAvis.display(vis_data)"
   ]
  },
  {
   "cell_type": "markdown",
   "metadata": {},
   "source": [
    "### Output Visualization Tool to HTML"
   ]
  },
  {
   "cell_type": "code",
   "execution_count": 48,
   "metadata": {},
   "outputs": [],
   "source": [
    "# save viz output to an HTML file\n",
    "vis_data = gensimvis.prepare(tweet_topics, corpus, dictionary)\n",
    "\n",
    "pyLDAvis.save_html(vis_data, 'pyLDAviz_left-troll.html')"
   ]
  }
 ],
 "metadata": {
  "hide_input": false,
  "kernelspec": {
   "display_name": "Python 3",
   "language": "python",
   "name": "python3"
  },
  "language_info": {
   "codemirror_mode": {
    "name": "ipython",
    "version": 3
   },
   "file_extension": ".py",
   "mimetype": "text/x-python",
   "name": "python",
   "nbconvert_exporter": "python",
   "pygments_lexer": "ipython3",
   "version": "3.6.7"
  }
 },
 "nbformat": 4,
 "nbformat_minor": 2
}
