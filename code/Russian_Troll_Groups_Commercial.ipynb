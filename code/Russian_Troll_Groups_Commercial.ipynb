{
 "cells": [
  {
   "cell_type": "markdown",
   "metadata": {},
   "source": [
    "# Capstone 2 Project - Russian Troll Groups - Commercial"
   ]
  },
  {
   "cell_type": "markdown",
   "metadata": {},
   "source": [
    "In the analysis of each troll group, each of the troll groups* will be segmented out and analyzed each individually.  The \"troll classes\", as defined by Clemson University's Darren Linvill and Patrick Warren in their analysis of the Russian Troll Farm Twitter data.\n",
    "\n",
    "I will analyze the Troll Groups to explore questions about the nature of the disinformation campaign, such as:\n",
    "* Did other trolls retweet and amplify troll tweets?\n",
    "* Can common topics or themes be identified?\n",
    "* What were the most-used hashtags?\n",
    "* Did the tweets predominantly support one candidate or political party, or seek to undermine the other?"
   ]
  },
  {
   "cell_type": "markdown",
   "metadata": {},
   "source": [
    "## Data Dictionary\n",
    "\n",
    "Header | Definition\n",
    "-------|---------\n",
    "`external_author_id` | An author account ID from Twitter \n",
    "`author` | The handle sending the tweet\n",
    "`content` | The text of the tweet\n",
    "`region` | A region classification, as [determined by Social Studio](https://help.salesforce.com/articleView?   id=000199367&type=1)\n",
    "`language` | The language of the tweet\n",
    "`publish_date` | The date and time the tweet was sent\n",
    "`harvested_date` | The date and time the tweet was collected by Social Studio\n",
    "`following` | The number of accounts the handle was following at the time of the tweet\n",
    "`followers` | The number of followers the handle had at the time of the tweet\n",
    "`updates` | The number of “update actions” on the account that authored the tweet, including tweets, retweets and likes\n",
    "`post_type` | Indicates if the tweet was a retweet or a quote-tweet\n",
    "`account_type` | Specific account theme, as coded by Linvill and Warren\n",
    "`retweet` | A binary indicator of whether or not the tweet is a retweet\n",
    "`account_category` | General account theme, as coded by Linvill and Warren\n",
    "`new_june_2018` | A binary indicator of whether the handle was newly listed in June 2018"
   ]
  },
  {
   "cell_type": "code",
   "execution_count": 2,
   "metadata": {},
   "outputs": [],
   "source": [
    "# import standard libraries\n",
    "import pandas as pd\n",
    "pd.set_option(\"display.max_colwidth\", 200)\n",
    "#import numpy as np\n",
    "#import datetime\n",
    "import re\n",
    "import matplotlib.pyplot as plt\n",
    "import seaborn as sns\n",
    "#get_ipython().run_line_magic('matplotlib', 'inline')"
   ]
  },
  {
   "cell_type": "code",
   "execution_count": 3,
   "metadata": {},
   "outputs": [],
   "source": [
    "# import nltk libraries\n",
    "from nltk.corpus import stopwords\n",
    "from nltk import FreqDist\n",
    "#nltk.download('stopwords') # run one time"
   ]
  },
  {
   "cell_type": "code",
   "execution_count": 4,
   "metadata": {},
   "outputs": [],
   "source": [
    "# import gensim libraries\n",
    "from gensim.models.ldamulticore import LdaMulticore\n",
    "from gensim.test.utils import datapath\n",
    "from gensim import corpora\n",
    "from gensim.utils import any2unicode"
   ]
  },
  {
   "cell_type": "code",
   "execution_count": 5,
   "metadata": {},
   "outputs": [],
   "source": [
    "#suppress pandas future warnings\n",
    "import warnings\n",
    "warnings.simplefilter(action='ignore', category=FutureWarning)"
   ]
  },
  {
   "cell_type": "code",
   "execution_count": 7,
   "metadata": {},
   "outputs": [],
   "source": [
    "# read each troll classification file as 'df', for repurposing code for each class\n",
    "# nrows=100, \n",
    "full_df = pd.read_csv('../data/all_IRAhandle_tweets.csv', parse_dates = ['publish_date'], low_memory=False)\n",
    "name = 'Right Troll'"
   ]
  },
  {
   "cell_type": "code",
   "execution_count": 8,
   "metadata": {},
   "outputs": [
    {
     "data": {
      "text/plain": [
       "array(['RightTroll', 'NonEnglish', 'Fearmonger', 'LeftTroll', 'Unknown',\n",
       "       'HashtagGamer', 'NewsFeed', 'Commercial'], dtype=object)"
      ]
     },
     "execution_count": 8,
     "metadata": {},
     "output_type": "execute_result"
    }
   ],
   "source": [
    "full_df['account_category'].unique()"
   ]
  },
  {
   "cell_type": "code",
   "execution_count": 9,
   "metadata": {},
   "outputs": [],
   "source": [
    "df = full_df[full_df['account_category'] == \"Commercial\"]"
   ]
  },
  {
   "cell_type": "code",
   "execution_count": 10,
   "metadata": {},
   "outputs": [],
   "source": [
    "#Explicitly state that DF is a copy of full_df\n",
    "df.is_copy = True\n",
    "#df.drop('Unnamed: 0', axis=1, inplace=True)\n",
    "# drop rows with problematic character encoding\n",
    "#df.drop([58, 59], axis=0, inplace=True)\n",
    "#df.head()"
   ]
  },
  {
   "cell_type": "code",
   "execution_count": 11,
   "metadata": {},
   "outputs": [
    {
     "name": "stderr",
     "output_type": "stream",
     "text": [
      "/Users/admin/anaconda3/lib/python3.6/site-packages/ipykernel_launcher.py:1: SettingWithCopyWarning: \n",
      "A value is trying to be set on a copy of a slice from a DataFrame.\n",
      "Try using .loc[row_indexer,col_indexer] = value instead\n",
      "\n",
      "See the caveats in the documentation: http://pandas.pydata.org/pandas-docs/stable/indexing.html#indexing-view-versus-copy\n",
      "  \"\"\"Entry point for launching an IPython kernel.\n"
     ]
    }
   ],
   "source": [
    "df['cleaned'] = df['content'].fillna('').astype(str).map(any2unicode)"
   ]
  },
  {
   "cell_type": "markdown",
   "metadata": {},
   "source": [
    "## Text Preprocessing\n",
    "* Noise Removal\n",
    "* Tokenization\n",
    "* Normalization  \n",
    "(1) stemming\n",
    "(2) lemmatization, and \n",
    "(3) everything else"
   ]
  },
  {
   "cell_type": "markdown",
   "metadata": {},
   "source": [
    "### Remove URLs and non-English Characters"
   ]
  },
  {
   "cell_type": "code",
   "execution_count": 12,
   "metadata": {},
   "outputs": [],
   "source": [
    "def preprocess_text(text):\n",
    "    '''Remove URLs and Non-English characters, except for @ and #'''\n",
    "    # remove URL's\n",
    "    text = re.sub(r'\\w+:\\/{2}[\\d\\w-]+(\\.[\\d\\w-]+)*(?:(?:\\/[^\\s/]*))*', '', text)\n",
    "\n",
    "    # remove symbols excluding the @, # and \\s symbol\n",
    "    text = re.sub(r'[^\\w@#\\s]', '', text)\n",
    "\n",
    "    # remove URL's\n",
    "    text = re.sub('(https://[^\\s]+)', '', text)\n",
    "    text = re.sub('https?://[A-Za-z0-9./]+', '', text)\n",
    "\n",
    "    # remove URL's\n",
    "    text = re.sub('http?://[A-Za-z0-9./]+', '', text)\n",
    "\n",
    "    # lowercase, remove words less than len 2 & remove numbers in tokenized list\n",
    "    #return [word.lower() for word in text if len(word) > 2 and not word.isdigit() and not word in ignore_words]\n",
    "    return text"
   ]
  },
  {
   "cell_type": "code",
   "execution_count": 13,
   "metadata": {},
   "outputs": [
    {
     "name": "stderr",
     "output_type": "stream",
     "text": [
      "/Users/admin/anaconda3/lib/python3.6/site-packages/ipykernel_launcher.py:1: SettingWithCopyWarning: \n",
      "A value is trying to be set on a copy of a slice from a DataFrame.\n",
      "Try using .loc[row_indexer,col_indexer] = value instead\n",
      "\n",
      "See the caveats in the documentation: http://pandas.pydata.org/pandas-docs/stable/indexing.html#indexing-view-versus-copy\n",
      "  \"\"\"Entry point for launching an IPython kernel.\n"
     ]
    }
   ],
   "source": [
    "df['cleaned'] = df['cleaned'].apply(preprocess_text)"
   ]
  },
  {
   "cell_type": "markdown",
   "metadata": {},
   "source": [
    "### Hashtag Analysis"
   ]
  },
  {
   "cell_type": "code",
   "execution_count": 14,
   "metadata": {},
   "outputs": [],
   "source": [
    "# regex to find hashtags\n",
    "hashtag_re = re.compile(\"(?:^|\\s)[＃#]{1}(\\w+)\", re.UNICODE)\n",
    "\n",
    "def extract_hashtags(tweet):\n",
    "    '''Take in tweet contents from 'cleaned' content, extract hashtags and return cleaned text'''\n",
    "    hashtags_only = []\n",
    "    if len(re.findall(hashtag_re, tweet)) > 0:\n",
    "        hashtags_only.append(re.findall(hashtag_re, tweet))\n",
    "    else:\n",
    "        hashtags_only.append([\"0\"])\n",
    "    return hashtags_only[0]"
   ]
  },
  {
   "cell_type": "code",
   "execution_count": 15,
   "metadata": {},
   "outputs": [
    {
     "name": "stderr",
     "output_type": "stream",
     "text": [
      "/Users/admin/anaconda3/lib/python3.6/site-packages/ipykernel_launcher.py:2: SettingWithCopyWarning: \n",
      "A value is trying to be set on a copy of a slice from a DataFrame.\n",
      "Try using .loc[row_indexer,col_indexer] = value instead\n",
      "\n",
      "See the caveats in the documentation: http://pandas.pydata.org/pandas-docs/stable/indexing.html#indexing-view-versus-copy\n",
      "  \n"
     ]
    },
    {
     "data": {
      "text/plain": [
       "132225    [0]\n",
       "132226    [0]\n",
       "132227    [0]\n",
       "132228    [0]\n",
       "132229    [0]\n",
       "132230    [0]\n",
       "132231    [0]\n",
       "132232    [0]\n",
       "132233    [0]\n",
       "132234    [0]\n",
       "132235    [0]\n",
       "132236    [0]\n",
       "132237    [0]\n",
       "132238    [0]\n",
       "132239    [0]\n",
       "132240    [0]\n",
       "132241    [0]\n",
       "132242    [0]\n",
       "132243    [0]\n",
       "132244    [0]\n",
       "132245    [0]\n",
       "132246    [0]\n",
       "132247    [0]\n",
       "132248    [0]\n",
       "132249    [0]\n",
       "Name: hashtags, dtype: object"
      ]
     },
     "execution_count": 15,
     "metadata": {},
     "output_type": "execute_result"
    }
   ],
   "source": [
    "# Create a new column to store hashtags, extract hashtags from 'content'\n",
    "df['hashtags'] = df['cleaned'].map(extract_hashtags)\n",
    "df['hashtags'].head(25)"
   ]
  },
  {
   "cell_type": "code",
   "execution_count": 16,
   "metadata": {},
   "outputs": [],
   "source": [
    "# remove all hashtags from a tweet\n",
    "def remove_hashtags(tweet):\n",
    "    '''After extracting hashtags, take in tweet content and remove hashtags'''\n",
    "    hashtags_only = []\n",
    "    if len(re.findall(hashtag_re, tweet)) > 0:\n",
    "        tweet = re.sub(hashtag_re, \"\", tweet)\n",
    "    hashtags_only.append(tweet)\n",
    "    return hashtags_only[0]"
   ]
  },
  {
   "cell_type": "code",
   "execution_count": 17,
   "metadata": {},
   "outputs": [
    {
     "name": "stderr",
     "output_type": "stream",
     "text": [
      "/Users/admin/anaconda3/lib/python3.6/site-packages/ipykernel_launcher.py:2: SettingWithCopyWarning: \n",
      "A value is trying to be set on a copy of a slice from a DataFrame.\n",
      "Try using .loc[row_indexer,col_indexer] = value instead\n",
      "\n",
      "See the caveats in the documentation: http://pandas.pydata.org/pandas-docs/stable/indexing.html#indexing-view-versus-copy\n",
      "  \n"
     ]
    }
   ],
   "source": [
    "# Clean hashtags fron 'cleaned' content\n",
    "df['cleaned'] = df['cleaned'].apply(remove_hashtags)"
   ]
  },
  {
   "cell_type": "code",
   "execution_count": 18,
   "metadata": {},
   "outputs": [
    {
     "name": "stdout",
     "output_type": "stream",
     "text": [
      "0                      120849\n",
      "TBYG                       43\n",
      "1                          41\n",
      "ShesKindaHotVMA            10\n",
      "KiddyHour                   9\n",
      "BlackLivesMatter            8\n",
      "MentalHealthGunGrab         7\n",
      "4                           6\n",
      "BringBackOurGirls           6\n",
      "AdebolaOlomo                6\n",
      "MIWF                        6\n",
      "WorthItVMA                  6\n",
      "The2OfUs_EP                 6\n",
      "3                           5\n",
      "_                           5\n",
      "vote2016                    4\n",
      "StayHumble                  4\n",
      "OGofSleezed                 4\n",
      "doitwonball                 4\n",
      "uniproblems                 4\n",
      "Quote                       4\n",
      "PLoading                    4\n",
      "wild                        3\n",
      "hashtag                     3\n",
      "OVO                         3\n",
      "dtype: int64\n"
     ]
    }
   ],
   "source": [
    "# create a list of all hashtags\n",
    "all_hashtags = df['hashtags'].tolist()\n",
    "\n",
    "# all_hashtags is a list of lists.\n",
    "cleaned_hashtags = []\n",
    "for i in all_hashtags:\n",
    "    for j in i:\n",
    "            cleaned_hashtags.append(j)\n",
    "\n",
    "# remove the '0' from the list\n",
    "def remove_values_from_list(the_list, val):\n",
    "   return [value for value in the_list if value != val]\n",
    "\n",
    "# cleaned_hashtags list\n",
    "cleaned_hashtags = remove_values_from_list(cleaned_hashtags, 0)\n",
    "\n",
    "# Convert cleaned_hashtags to a series and count the most frequent occuring\n",
    "cleaned_hashtag_series = pd.Series(cleaned_hashtags)\n",
    "hashtag_counts = cleaned_hashtag_series.value_counts()\n",
    "print(hashtag_counts[:25])"
   ]
  },
  {
   "cell_type": "markdown",
   "metadata": {},
   "source": [
    "### Get User Mentions"
   ]
  },
  {
   "cell_type": "code",
   "execution_count": 19,
   "metadata": {},
   "outputs": [],
   "source": [
    "#Regex to get user mentions \"@\":\n",
    "twitter_username_re = re.compile(\"(?<=^|(?<=[^a-zA-Z0-9-_\\.]))@([A-Za-z]+[A-Za-z0-9-_]+)\", re.UNICODE)\n",
    "\n",
    "def extract_usermentions(tweet):\n",
    "    '''Take in tweet contents from 'cleaned' col and extract user mentions'''\n",
    "    mentions_only = []\n",
    "    if len(re.findall(twitter_username_re, tweet)) > 0:\n",
    "        mentions_only.append(re.findall(twitter_username_re, tweet))\n",
    "    else:\n",
    "        mentions_only.append([\"0\"])\n",
    "    return mentions_only[0]"
   ]
  },
  {
   "cell_type": "code",
   "execution_count": 20,
   "metadata": {},
   "outputs": [
    {
     "name": "stderr",
     "output_type": "stream",
     "text": [
      "/Users/admin/anaconda3/lib/python3.6/site-packages/ipykernel_launcher.py:2: SettingWithCopyWarning: \n",
      "A value is trying to be set on a copy of a slice from a DataFrame.\n",
      "Try using .loc[row_indexer,col_indexer] = value instead\n",
      "\n",
      "See the caveats in the documentation: http://pandas.pydata.org/pandas-docs/stable/indexing.html#indexing-view-versus-copy\n",
      "  \n"
     ]
    },
    {
     "data": {
      "text/plain": [
       "132225    [0]\n",
       "132226    [0]\n",
       "132227    [0]\n",
       "132228    [0]\n",
       "132229    [0]\n",
       "132230    [0]\n",
       "132231    [0]\n",
       "132232    [0]\n",
       "132233    [0]\n",
       "132234    [0]\n",
       "Name: mentions, dtype: object"
      ]
     },
     "execution_count": 20,
     "metadata": {},
     "output_type": "execute_result"
    }
   ],
   "source": [
    "# make a new column to store the extracted mentions\n",
    "df['mentions'] = df['cleaned'].map(extract_usermentions)\n",
    "df['mentions'].head(10)"
   ]
  },
  {
   "cell_type": "code",
   "execution_count": 21,
   "metadata": {},
   "outputs": [
    {
     "name": "stdout",
     "output_type": "stream",
     "text": [
      "I           6634\n",
      "Workout     2592\n",
      "Im          1407\n",
      "Exercise    1194\n",
      "My          1142\n",
      "Approved    1076\n",
      "That        1035\n",
      "0            827\n",
      "The          810\n",
      "Just         767\n",
      "Good         729\n",
      "You          712\n",
      "This         689\n",
      "Its          641\n",
      "When         638\n",
      "Need         529\n",
      "So           499\n",
      "What         461\n",
      "A            460\n",
      "Why          433\n",
      "Great        427\n",
      "How          397\n",
      "Time         368\n",
      "No           361\n",
      "If           351\n",
      "dtype: int64\n"
     ]
    }
   ],
   "source": [
    "# create a list of all mentions\n",
    "all_mentions = df['mentions'].tolist()\n",
    "\n",
    "# all_hashtags is a list of lists.\n",
    "cleaned_mentions = []\n",
    "for i in all_mentions:\n",
    "    for j in i:\n",
    "            cleaned_mentions.append(j)\n",
    "\n",
    "# remove the '0' from the list\n",
    "def remove_values_from_list(the_list, val):\n",
    "   return [value for value in the_list if value != val]\n",
    "\n",
    "# cleaned_mentions list\n",
    "cleaned_mentions = remove_values_from_list(cleaned_mentions, 0)\n",
    "\n",
    "# Convert cleaned_hashtags to a series and count the most frequent occuring\n",
    "cleaned_mentions_series = pd.Series(cleaned_mentions)\n",
    "mention_counts = cleaned_mentions_series.value_counts()\n",
    "# remove first element with values of '0'\n",
    "# mention_counts = del mention_counts[0]\n",
    "print(mention_counts[:25])"
   ]
  },
  {
   "cell_type": "code",
   "execution_count": 22,
   "metadata": {},
   "outputs": [],
   "source": [
    "# remove all mentions from a tweet\n",
    "def remove_mentions(tweet):\n",
    "    '''Take tweet content and remove @mentions from it'''\n",
    "    mentions_only = []\n",
    "    if len(re.findall(\"(?<=^|(?<=[^a-zA-Z0-9-_\\.]))@([A-Za-z]+[A-Za-z0-9-_]+)\", tweet)) > 0:\n",
    "        tweet = re.sub(\"(?<=^|(?<=[^a-zA-Z0-9-_\\.]))@([A-Za-z]+[A-Za-z0-9-_]+)\", \"\", tweet)\n",
    "    mentions_only.append(tweet)\n",
    "    return mentions_only[0]"
   ]
  },
  {
   "cell_type": "code",
   "execution_count": 23,
   "metadata": {},
   "outputs": [
    {
     "name": "stderr",
     "output_type": "stream",
     "text": [
      "/Users/admin/anaconda3/lib/python3.6/site-packages/ipykernel_launcher.py:2: SettingWithCopyWarning: \n",
      "A value is trying to be set on a copy of a slice from a DataFrame.\n",
      "Try using .loc[row_indexer,col_indexer] = value instead\n",
      "\n",
      "See the caveats in the documentation: http://pandas.pydata.org/pandas-docs/stable/indexing.html#indexing-view-versus-copy\n",
      "  \n"
     ]
    }
   ],
   "source": [
    "#create list of content with no hashtags\n",
    "df['cleaned'] = df['cleaned'].apply(remove_mentions)"
   ]
  },
  {
   "cell_type": "code",
   "execution_count": 24,
   "metadata": {},
   "outputs": [],
   "source": [
    "# remove unwanted characters, numbers and symbols from the remaining content\n",
    "#df['cleaned'] = df['cleaned'].str.replace(\"[^a-zA-Z#]\", \" \")"
   ]
  },
  {
   "cell_type": "markdown",
   "metadata": {},
   "source": [
    "### Create dataframes for the troll classifications\n",
    "Create dataframes for each troll classification, for easier size to work with."
   ]
  },
  {
   "cell_type": "code",
   "execution_count": 25,
   "metadata": {},
   "outputs": [],
   "source": [
    "#right_troll = df.loc[df['account_category'] == 'RightTroll']\n",
    "#nonenglish = df.loc[df['account_category'] == 'NonEnglish']\n",
    "#fearmonger = df.loc[df['account_category'] == 'Fearmonger']\n",
    "#left_troll = df.loc[df['account_category'] == 'LeftTroll']\n",
    "#hashtagamer = df.loc[df['account_category'] == 'HashtagGamer']\n",
    "#newsfeed = df.loc[df['account_category'] == 'NewsFeed']\n",
    "#commercial = df.loc[df['account_category'] == 'Commercial']"
   ]
  },
  {
   "cell_type": "code",
   "execution_count": 26,
   "metadata": {},
   "outputs": [],
   "source": [
    "#right_troll.to_csv(\"../data/right_troll.csv\")\n",
    "#nonenglish.to_csv(\"../data/nonenglish.csv\")\n",
    "#fearmonger.to_csv(\"../data/fearmonger.csv\")\n",
    "#left_troll.to_csv(\"../data/left_troll.csv\")\n",
    "#hashtagamer.to_csv(\"../data/hashtagamer.csv\")\n",
    "#newsfeed.to_csv(\"../data/newsfeed.csv\")\n",
    "#commercial.to_csv(\"../data/commercial.csv\")"
   ]
  },
  {
   "cell_type": "markdown",
   "metadata": {},
   "source": [
    "## Remove stopwords\n",
    "Remove words < 3 letters, convert to lower case"
   ]
  },
  {
   "cell_type": "code",
   "execution_count": 27,
   "metadata": {},
   "outputs": [
    {
     "data": {
      "text/plain": [
       "132225                                         Guide to Writing Research Papers in APA Style   \n",
       "132226                                                Why Classroom Allergies Were The Worst   \n",
       "132227    Dont come to class next week I am going to be sick c Greatest College Professor Ever \n",
       "132228    Dont come to class next week I am going to be sick c Greatest College Professor Ever \n",
       "132229                                              15 Idiots On Facebook Getting Called Out   \n",
       "Name: cleaned, dtype: object"
      ]
     },
     "execution_count": 27,
     "metadata": {},
     "output_type": "execute_result"
    }
   ],
   "source": [
    "df.cleaned.head()"
   ]
  },
  {
   "cell_type": "code",
   "execution_count": 28,
   "metadata": {},
   "outputs": [
    {
     "name": "stderr",
     "output_type": "stream",
     "text": [
      "/Users/admin/anaconda3/lib/python3.6/site-packages/ipykernel_launcher.py:2: SettingWithCopyWarning: \n",
      "A value is trying to be set on a copy of a slice from a DataFrame.\n",
      "Try using .loc[row_indexer,col_indexer] = value instead\n",
      "\n",
      "See the caveats in the documentation: http://pandas.pydata.org/pandas-docs/stable/indexing.html#indexing-view-versus-copy\n",
      "  \n",
      "/Users/admin/anaconda3/lib/python3.6/site-packages/ipykernel_launcher.py:5: SettingWithCopyWarning: \n",
      "A value is trying to be set on a copy of a slice from a DataFrame.\n",
      "Try using .loc[row_indexer,col_indexer] = value instead\n",
      "\n",
      "See the caveats in the documentation: http://pandas.pydata.org/pandas-docs/stable/indexing.html#indexing-view-versus-copy\n",
      "  \"\"\"\n",
      "/Users/admin/anaconda3/lib/python3.6/site-packages/ipykernel_launcher.py:16: SettingWithCopyWarning: \n",
      "A value is trying to be set on a copy of a slice from a DataFrame.\n",
      "Try using .loc[row_indexer,col_indexer] = value instead\n",
      "\n",
      "See the caveats in the documentation: http://pandas.pydata.org/pandas-docs/stable/indexing.html#indexing-view-versus-copy\n",
      "  app.launch_new_instance()\n"
     ]
    },
    {
     "data": {
      "text/plain": [
       "132225                                 guide writing research papers apa style\n",
       "132226                                               classroom allergies worst\n",
       "132227    dont come class next week going sick greatest college professor ever\n",
       "132228    dont come class next week going sick greatest college professor ever\n",
       "132229                                          idiots facebook getting called\n",
       "Name: cleaned, dtype: object"
      ]
     },
     "execution_count": 28,
     "metadata": {},
     "output_type": "execute_result"
    }
   ],
   "source": [
    "# remove short words (length < 3)\n",
    "df['cleaned'] = df['cleaned'].apply(lambda x: ' '.join([w for w in x.split() if len(w)>2]))\n",
    "\n",
    "# transform to lower-case\n",
    "df['cleaned'] = df['cleaned'].apply(lambda x: \" \".join(x.lower() for x in x.split()))\n",
    "#train['tweet'].head()\n",
    "\n",
    "#stop = set(stopwords.words('english'))\n",
    "stop = stopwords.words('english')\n",
    "\n",
    "#extend/add to stopwords - words that are commonly occuring but add no meaning\n",
    "#stopword_list += ['http', 'https', 'âµã', 'â½ã', 'â²ã', 'âºã', 'â¼ã', 'âµ']\n",
    "newStop = ['you','get', 'amp', 'one', 'new']\n",
    "stop.extend(newStop)\n",
    "\n",
    "df['cleaned'] = df['cleaned'].apply(lambda x: \" \".join(x for x in x.split() if x not in stop))\n",
    "df['cleaned'].head()"
   ]
  },
  {
   "cell_type": "code",
   "execution_count": 29,
   "metadata": {},
   "outputs": [],
   "source": [
    "#convert 'cleaned' Series to a list\n",
    "content = df['cleaned'].tolist()\n",
    "#content[:50]"
   ]
  },
  {
   "cell_type": "markdown",
   "metadata": {},
   "source": [
    "### Re-Check Fequency Distribution\n",
    "Re-check the word frequency distribution after doing some cleaning of the text."
   ]
  },
  {
   "cell_type": "code",
   "execution_count": 30,
   "metadata": {},
   "outputs": [],
   "source": [
    "# function to plot most frequent terms\n",
    "def freq_words(x, terms = 20):\n",
    "    ''' Take in a list of content, split into individual words, count occurrences, list 20 highest occurring words'''\n",
    "    all_words = ' '.join([text for text in x])\n",
    "    all_words = all_words.split()\n",
    "    fdist = FreqDist(all_words)\n",
    "    words_df = pd.DataFrame({'word':list(fdist.keys()), 'count':list(fdist.values())})\n",
    "    # selecting top 20 most frequent words\n",
    "    d = words_df.nlargest(columns=\"count\", n = terms)\n",
    "    return d"
   ]
  },
  {
   "cell_type": "code",
   "execution_count": 31,
   "metadata": {},
   "outputs": [
    {
     "name": "stdout",
     "output_type": "stream",
     "text": [
      "           word  count\n",
      "12270   workout  41380\n",
      "5576   exercise  13678\n",
      "12240    weight   9167\n",
      "1085       lose   6810\n",
      "79         need   4525\n",
      "132        good   4487\n",
      "915      stocks   3254\n",
      "1432    fitness   2980\n",
      "12245      diet   2852\n",
      "140       today   2823\n",
      "2458      loans   2416\n",
      "60         like   2267\n",
      "295        time   2253\n",
      "7015        fat   2218\n",
      "3920       loss   2170\n",
      "5682     payday   2158\n",
      "9          dont   1959\n",
      "46          day   1954\n",
      "1486    morning   1917\n",
      "5015        gym   1875\n"
     ]
    }
   ],
   "source": [
    "counts = freq_words(content, 20)\n",
    "print(counts)"
   ]
  },
  {
   "cell_type": "markdown",
   "metadata": {},
   "source": [
    "### Plot most frequently occurring words "
   ]
  },
  {
   "cell_type": "code",
   "execution_count": 32,
   "metadata": {},
   "outputs": [
    {
     "data": {
      "image/png": "[encoded data removed]",
      "text/plain": [
       "<Figure size 1440x360 with 1 Axes>"
      ]
     },
     "metadata": {
      "needs_background": "light"
     },
     "output_type": "display_data"
    }
   ],
   "source": [
    "# Plot most frequent words\n",
    "plt.figure(figsize=(20,5))\n",
    "# rotate and right align group names\n",
    "plt.xticks(rotation=45, ha='right')\n",
    "ax = sns.barplot(data=counts, x= \"word\", y = \"count\")\n",
    "ax.set(ylabel = 'Count')\n",
    "ax.set(title = 'Top 20 Most Frequent Words')    \n",
    "plt.show()"
   ]
  },
  {
   "cell_type": "markdown",
   "metadata": {},
   "source": [
    "## Troll Amplification\n",
    "Examining the troll \"echo chamber\". Are trolls retweeting or mentioning other trolls?"
   ]
  },
  {
   "cell_type": "code",
   "execution_count": 33,
   "metadata": {},
   "outputs": [
    {
     "name": "stdout",
     "output_type": "stream",
     "text": [
      "0\n",
      "There are 0 trolls in the echo chamber.\n"
     ]
    }
   ],
   "source": [
    "# read list of users created during EDA\n",
    "users = pd.read_csv('../data/users_totals.csv', encoding='utf-8',low_memory=False)\n",
    "\n",
    "userlist = users['author'].tolist()\n",
    "lc_userlist = [x.lower() for x in userlist]\n",
    "lc_userlist.sort()\n",
    "\n",
    "amplify = cleaned_mentions_series[cleaned_mentions_series.isin(lc_userlist)]\n",
    "\n",
    "print(amplify.shape[0])\n",
    "\n",
    "# Get counts of amplified troll tweets\n",
    "amp_counts = amplify.value_counts()\n",
    "print(\"There are\",(amplify.shape[0]), \"trolls in the echo chamber.\")"
   ]
  },
  {
   "cell_type": "markdown",
   "metadata": {},
   "source": [
    "### Normalization\n",
    "3 distinct steps:  \n",
    "* stemming  \n",
    "* lemmatization  \n",
    "* everything else"
   ]
  },
  {
   "cell_type": "markdown",
   "metadata": {},
   "source": [
    "### Lemmatization"
   ]
  },
  {
   "cell_type": "code",
   "execution_count": 34,
   "metadata": {},
   "outputs": [
    {
     "name": "stderr",
     "output_type": "stream",
     "text": [
      "/Users/admin/anaconda3/lib/python3.6/site-packages/ipykernel_launcher.py:2: SettingWithCopyWarning: \n",
      "A value is trying to be set on a copy of a slice from a DataFrame.\n",
      "Try using .loc[row_indexer,col_indexer] = value instead\n",
      "\n",
      "See the caveats in the documentation: http://pandas.pydata.org/pandas-docs/stable/indexing.html#indexing-view-versus-copy\n",
      "  \n"
     ]
    },
    {
     "data": {
      "text/plain": [
       "132225                                  guide writing research paper apa style\n",
       "132226                                                 classroom allergy worst\n",
       "132227    dont come class next week going sick greatest college professor ever\n",
       "132228    dont come class next week going sick greatest college professor ever\n",
       "132229                                           idiot facebook getting called\n",
       "Name: cleaned, dtype: object"
      ]
     },
     "execution_count": 34,
     "metadata": {},
     "output_type": "execute_result"
    }
   ],
   "source": [
    "from textblob import Word\n",
    "df['cleaned'] = df['cleaned'].apply(lambda x: \" \".join([Word(word).lemmatize() for word in x.split()]))\n",
    "df['cleaned'].head()"
   ]
  },
  {
   "cell_type": "markdown",
   "metadata": {},
   "source": [
    "### Tokenize"
   ]
  },
  {
   "cell_type": "code",
   "execution_count": 35,
   "metadata": {},
   "outputs": [],
   "source": [
    "#create a list from df['cleaned']\n",
    "content_notags = df['cleaned'].tolist()\n",
    "\n",
    "# First, create a new column with the tokenized text\n",
    "from nltk.tokenize import TweetTokenizer\n",
    "tt = TweetTokenizer()\n",
    "#df['tokenized_text'] = df['content'].apply(tt.tokenize)\n",
    "# map tt.tokenize to 'content' list\n",
    "documents = list(map(tt.tokenize, content_notags))"
   ]
  },
  {
   "cell_type": "code",
   "execution_count": 36,
   "metadata": {},
   "outputs": [],
   "source": [
    "from collections import defaultdict\n",
    "\n",
    "frequency = defaultdict(int)\n",
    "for document in documents:\n",
    "    for token in document:\n",
    "        frequency[token] += 1"
   ]
  },
  {
   "cell_type": "code",
   "execution_count": 37,
   "metadata": {},
   "outputs": [],
   "source": [
    "documents = [[token for token in document if frequency[token] > 10] for document in documents]\n",
    "# create a dictionary using from gensim.corpora.Dictionary\n",
    "dictionary = corpora.Dictionary(documents)\n",
    "#Convert document (a list of words) into the bag-of-words format = list of (token_id, token_count) 2-tuples. \n",
    "corpus = [dictionary.doc2bow(document) for document in documents]"
   ]
  },
  {
   "cell_type": "code",
   "execution_count": 38,
   "metadata": {},
   "outputs": [
    {
     "data": {
      "text/plain": [
       "121904"
      ]
     },
     "execution_count": 38,
     "metadata": {},
     "output_type": "execute_result"
    }
   ],
   "source": [
    "len(corpus)"
   ]
  },
  {
   "cell_type": "markdown",
   "metadata": {},
   "source": [
    "## LDA Model\n",
    "Fit an LDA Model for the tweet topics"
   ]
  },
  {
   "cell_type": "code",
   "execution_count": 39,
   "metadata": {},
   "outputs": [],
   "source": [
    "# comment out once model is trained.\n",
    "# fit LDA model\n",
    "tweet_topics = LdaMulticore(corpus=corpus,\n",
    "                          id2word=dictionary,\n",
    "                          num_topics=10,\n",
    "                          passes=10,\n",
    "                          workers=2)"
   ]
  },
  {
   "cell_type": "code",
   "execution_count": 40,
   "metadata": {},
   "outputs": [],
   "source": [
    "# save/load model to/from disk\n",
    "\n",
    "temp_file = datapath(\"model_right_troll_tweets\")\n",
    "tweet_topics.save(temp_file)\n",
    "\n",
    "# Load a pretrained model from disk.\n",
    "#tweet_topics = LdaMulticore.load(\"model\")\n",
    "# - or -\n",
    "#m1 = LdaMulticore.load(datapath(\"lda_3_0_1_model\"))"
   ]
  },
  {
   "cell_type": "code",
   "execution_count": 41,
   "metadata": {},
   "outputs": [
    {
     "name": "stdout",
     "output_type": "stream",
     "text": [
      "0 --- (0, '0.294*\"workout\" + 0.059*\"minute\" + 0.033*\"good\" + 0.023*\"today\" + 0.017*\"day\" + 0.016*\"need\" + 0.014*\"morning\" + 0.013*\"time\" + 0.012*\"great\" + 0.011*\"got\"')\n",
      "1 --- (1, '0.100*\"workout\" + 0.026*\"come\" + 0.021*\"late\" + 0.018*\"preworkout\" + 0.017*\"music\" + 0.016*\"taylor\" + 0.016*\"night\" + 0.014*\"starting\" + 0.014*\"mark\" + 0.014*\"clothes\"')\n",
      "2 --- (2, '0.012*\"jessica\" + 0.010*\"katie\" + 0.010*\"matt\" + 0.010*\"amanda\" + 0.009*\"queen\" + 0.009*\"laura\" + 0.009*\"rachel\" + 0.008*\"andrew\" + 0.008*\"stephanie\" + 0.007*\"anthony\"')\n",
      "3 --- (3, '0.034*\"lil\" + 0.033*\"sarah\" + 0.023*\"david\" + 0.020*\"stock\" + 0.019*\"lauren\" + 0.014*\"jordan\" + 0.013*\"free\" + 0.012*\"anna\" + 0.011*\"fit\" + 0.011*\"alexis\"')\n",
      "4 --- (4, '0.041*\"partner\" + 0.033*\"sore\" + 0.033*\"buddy\" + 0.029*\"chris\" + 0.027*\"john\" + 0.022*\"ryan\" + 0.021*\"mike\" + 0.019*\"miss\" + 0.017*\"nicole\" + 0.016*\"must\"')\n",
      "5 --- (5, '0.222*\"loan\" + 0.198*\"payday\" + 0.126*\"online\" + 0.111*\"24x7\" + 0.099*\"approved\" + 0.026*\"cash\" + 0.012*\"credit\" + 0.008*\"check\" + 0.007*\"gonna\" + 0.006*\"lender\"')\n",
      "6 --- (6, '0.055*\"exercise\" + 0.040*\"as\" + 0.019*\"big\" + 0.019*\"direct\" + 0.018*\"ashley\" + 0.018*\"diet\" + 0.016*\"nothing\" + 0.015*\"another\" + 0.014*\"lmao\" + 0.013*\"yesterday\"')\n",
      "7 --- (7, '0.160*\"fitness\" + 0.102*\"fat\" + 0.021*\"michael\" + 0.018*\"emily\" + 0.017*\"killed\" + 0.014*\"happy\" + 0.014*\"real\" + 0.013*\"james\" + 0.012*\"king\" + 0.011*\"josh\"')\n",
      "8 --- (8, '0.100*\"gym\" + 0.060*\"really\" + 0.042*\"gotta\" + 0.028*\"hard\" + 0.020*\"hannah\" + 0.019*\"bout\" + 0.018*\"sam\" + 0.017*\"hit\" + 0.017*\"health\" + 0.017*\"advance\"')\n",
      "9 --- (9, '0.147*\"exercise\" + 0.120*\"weight\" + 0.087*\"lose\" + 0.039*\"diet\" + 0.031*\"need\" + 0.030*\"loss\" + 0.014*\"dont\" + 0.011*\"like\" + 0.009*\"want\" + 0.009*\"lol\"')\n"
     ]
    }
   ],
   "source": [
    "# print out first 10 topics\n",
    "for i, topic in enumerate(tweet_topics.print_topics(10)):\n",
    "    print('{} --- {}'.format(i, topic))"
   ]
  },
  {
   "cell_type": "markdown",
   "metadata": {},
   "source": [
    "### Wordcloud\n",
    "Crate a basic word cloud of the topic groupings"
   ]
  },
  {
   "cell_type": "code",
   "execution_count": 42,
   "metadata": {},
   "outputs": [
    {
     "data": {
      "image/png": "[encoded data removed]",
      "text/plain": [
       "<Figure size 720x720 with 4 Axes>"
      ]
     },
     "metadata": {
      "needs_background": "light"
     },
     "output_type": "display_data"
    }
   ],
   "source": [
    "#Wordcloud of Top N words in each topic\n",
    "from matplotlib import pyplot as plt\n",
    "from wordcloud import WordCloud, STOPWORDS\n",
    "import matplotlib.colors as mcolors\n",
    "\n",
    "cols = [color for name, color in mcolors.TABLEAU_COLORS.items()]  # more colors: 'mcolors.XKCD_COLORS'\n",
    "\n",
    "cloud = WordCloud(stopwords=stop,\n",
    "                  background_color='white',\n",
    "                  width=2500,\n",
    "                  height=1800,\n",
    "                  max_words=10,\n",
    "                  colormap='tab10',\n",
    "                  color_func=lambda *args, **kwargs: cols[i],\n",
    "                  prefer_horizontal=1.0)\n",
    "\n",
    "topics = tweet_topics.show_topics(formatted=False)\n",
    "\n",
    "fig, axes = plt.subplots(2, 2, figsize=(10,10), sharex=True, sharey=True)\n",
    "\n",
    "for i, ax in enumerate(axes.flatten()):\n",
    "    fig.add_subplot(ax)\n",
    "    topic_words = dict(topics[i][1])\n",
    "    cloud.generate_from_frequencies(topic_words, max_font_size=300)\n",
    "    plt.gca().imshow(cloud)\n",
    "    plt.gca().set_title('Topic ' + str(i), fontdict=dict(size=16))\n",
    "    plt.gca().axis('off')\n",
    "\n",
    "\n",
    "plt.subplots_adjust(wspace=0, hspace=0)\n",
    "plt.axis('off')\n",
    "plt.margins(x=0, y=0)\n",
    "plt.tight_layout()\n",
    "plt.show()"
   ]
  },
  {
   "cell_type": "markdown",
   "metadata": {},
   "source": [
    "### Use pyLDAvis library to Visualize Topics"
   ]
  },
  {
   "cell_type": "code",
   "execution_count": 43,
   "metadata": {},
   "outputs": [],
   "source": [
    "## Try the pyLDAvis visualization\n",
    "import pyLDAvis.gensim as gensimvis\n",
    "import pyLDAvis"
   ]
  },
  {
   "cell_type": "code",
   "execution_count": 44,
   "metadata": {},
   "outputs": [
    {
     "data": {
      "text/html": [
       "\n",
       "<link rel=\"stylesheet\" type=\"text/css\" href=\"https://cdn.rawgit.com/bmabey/pyLDAvis/files/ldavis.v1.0.0.css\">\n",
       "\n",
       "\n",
       "<div id=\"ldavis_el500141130665424487024079623\"></div>\n",
       "<script type=\"text/javascript\">\n",
       "\n",
       "var ldavis_el500141130665424487024079623_data = {\"mdsDat\": {\"x\": [-0.32988359137651596, -0.26779339380896866, 0.1685992393880873, 0.13862406999673058, 0.1187559829084666, 0.10478174490281138, -0.17165684908328852, -0.02516357197329548, 0.12487486932460536, 0.13886149972136705], \"y\": [0.10964045900654838, -0.194781553272166, 0.06278519506956302, 0.009847303797535463, -0.024392536269201046, -0.006129736048217576, 0.27360186091371486, -0.33677743167444046, 0.04726408945407468, 0.0589423490225885], \"topics\": [1, 2, 3, 4, 5, 6, 7, 8, 9, 10], \"cluster\": [1, 1, 1, 1, 1, 1, 1, 1, 1, 1], \"Freq\": [26.303815841674805, 17.96810531616211, 9.29337215423584, 8.194318771362305, 6.806461334228516, 6.799815654754639, 6.475183963775635, 6.431214332580566, 6.0067620277404785, 5.720956802368164]}, \"tinfo\": {\"Category\": [\"Default\", \"Default\", \"Default\", \"Default\", \"Default\", \"Default\", \"Default\", \"Default\", \"Default\", \"Default\", \"Default\", \"Default\", \"Default\", \"Default\", \"Default\", \"Default\", \"Default\", \"Default\", \"Default\", \"Default\", \"Default\", \"Default\", \"Default\", \"Default\", \"Default\", \"Default\", \"Default\", \"Default\", \"Default\", \"Default\", \"Topic1\", \"Topic1\", \"Topic1\", \"Topic1\", \"Topic1\", \"Topic1\", \"Topic1\", \"Topic1\", \"Topic1\", \"Topic1\", \"Topic1\", \"Topic1\", \"Topic1\", \"Topic1\", \"Topic1\", \"Topic1\", \"Topic1\", \"Topic1\", \"Topic1\", \"Topic1\", \"Topic1\", \"Topic1\", \"Topic1\", \"Topic1\", \"Topic1\", \"Topic1\", \"Topic1\", \"Topic1\", \"Topic1\", \"Topic1\", \"Topic1\", \"Topic1\", \"Topic1\", \"Topic1\", \"Topic1\", \"Topic1\", \"Topic1\", \"Topic1\", \"Topic1\", \"Topic1\", \"Topic1\", \"Topic1\", \"Topic1\", \"Topic2\", \"Topic2\", \"Topic2\", \"Topic2\", \"Topic2\", \"Topic2\", \"Topic2\", \"Topic2\", \"Topic2\", \"Topic2\", \"Topic2\", \"Topic2\", \"Topic2\", \"Topic2\", \"Topic2\", \"Topic2\", \"Topic2\", \"Topic2\", \"Topic2\", \"Topic2\", \"Topic2\", \"Topic2\", \"Topic2\", \"Topic2\", \"Topic2\", \"Topic2\", \"Topic2\", \"Topic2\", \"Topic2\", \"Topic2\", \"Topic2\", \"Topic2\", \"Topic2\", \"Topic2\", \"Topic2\", \"Topic2\", \"Topic2\", \"Topic2\", \"Topic2\", \"Topic2\", \"Topic2\", \"Topic2\", \"Topic2\", \"Topic2\", \"Topic2\", \"Topic2\", \"Topic2\", \"Topic2\", \"Topic2\", \"Topic2\", \"Topic2\", \"Topic2\", \"Topic2\", \"Topic2\", \"Topic3\", \"Topic3\", \"Topic3\", \"Topic3\", \"Topic3\", \"Topic3\", \"Topic3\", \"Topic3\", \"Topic3\", \"Topic3\", \"Topic3\", \"Topic3\", \"Topic3\", \"Topic3\", \"Topic3\", \"Topic3\", \"Topic3\", \"Topic3\", \"Topic3\", \"Topic3\", \"Topic3\", \"Topic3\", \"Topic3\", \"Topic3\", \"Topic3\", \"Topic3\", \"Topic3\", \"Topic3\", \"Topic3\", \"Topic3\", \"Topic4\", \"Topic4\", \"Topic4\", \"Topic4\", \"Topic4\", \"Topic4\", \"Topic4\", \"Topic4\", \"Topic4\", \"Topic4\", \"Topic4\", \"Topic4\", \"Topic4\", \"Topic4\", \"Topic4\", \"Topic4\", \"Topic4\", \"Topic4\", \"Topic4\", \"Topic4\", \"Topic4\", \"Topic4\", \"Topic4\", \"Topic4\", \"Topic4\", \"Topic4\", \"Topic4\", \"Topic4\", \"Topic4\", \"Topic4\", \"Topic4\", \"Topic4\", \"Topic4\", \"Topic5\", \"Topic5\", \"Topic5\", \"Topic5\", \"Topic5\", \"Topic5\", \"Topic5\", \"Topic5\", \"Topic5\", \"Topic5\", \"Topic5\", \"Topic5\", \"Topic5\", \"Topic5\", \"Topic5\", \"Topic5\", \"Topic5\", \"Topic5\", \"Topic5\", \"Topic5\", \"Topic5\", \"Topic5\", \"Topic5\", \"Topic5\", \"Topic5\", \"Topic5\", \"Topic5\", \"Topic5\", \"Topic5\", \"Topic5\", \"Topic5\", \"Topic5\", \"Topic5\", \"Topic6\", \"Topic6\", \"Topic6\", \"Topic6\", \"Topic6\", \"Topic6\", \"Topic6\", \"Topic6\", \"Topic6\", \"Topic6\", \"Topic6\", \"Topic6\", \"Topic6\", \"Topic6\", \"Topic6\", \"Topic6\", \"Topic6\", \"Topic6\", \"Topic6\", \"Topic6\", \"Topic6\", \"Topic6\", \"Topic6\", \"Topic6\", \"Topic6\", \"Topic6\", \"Topic6\", \"Topic6\", \"Topic6\", \"Topic6\", \"Topic6\", \"Topic7\", \"Topic7\", \"Topic7\", \"Topic7\", \"Topic7\", \"Topic7\", \"Topic7\", \"Topic7\", \"Topic7\", \"Topic7\", \"Topic7\", \"Topic7\", \"Topic7\", \"Topic7\", \"Topic7\", \"Topic7\", \"Topic7\", \"Topic7\", \"Topic7\", \"Topic7\", \"Topic7\", \"Topic7\", \"Topic7\", \"Topic7\", \"Topic7\", \"Topic7\", \"Topic7\", \"Topic7\", \"Topic7\", \"Topic7\", \"Topic7\", \"Topic7\", \"Topic7\", \"Topic7\", \"Topic7\", \"Topic7\", \"Topic7\", \"Topic8\", \"Topic8\", \"Topic8\", \"Topic8\", \"Topic8\", \"Topic8\", \"Topic8\", \"Topic8\", \"Topic8\", \"Topic8\", \"Topic8\", \"Topic8\", \"Topic8\", \"Topic8\", \"Topic8\", \"Topic8\", \"Topic8\", \"Topic8\", \"Topic8\", \"Topic8\", \"Topic8\", \"Topic8\", \"Topic8\", \"Topic8\", \"Topic8\", \"Topic8\", \"Topic8\", \"Topic8\", \"Topic8\", \"Topic8\", \"Topic8\", \"Topic8\", \"Topic8\", \"Topic8\", \"Topic8\", \"Topic8\", \"Topic9\", \"Topic9\", \"Topic9\", \"Topic9\", \"Topic9\", \"Topic9\", \"Topic9\", \"Topic9\", \"Topic9\", \"Topic9\", \"Topic9\", \"Topic9\", \"Topic9\", \"Topic9\", \"Topic9\", \"Topic9\", \"Topic9\", \"Topic9\", \"Topic9\", \"Topic9\", \"Topic9\", \"Topic9\", \"Topic9\", \"Topic9\", \"Topic9\", \"Topic9\", \"Topic9\", \"Topic9\", \"Topic9\", \"Topic9\", \"Topic10\", \"Topic10\", \"Topic10\", \"Topic10\", \"Topic10\", \"Topic10\", \"Topic10\", \"Topic10\", \"Topic10\", \"Topic10\", \"Topic10\", \"Topic10\", \"Topic10\", \"Topic10\", \"Topic10\", \"Topic10\", \"Topic10\", \"Topic10\", \"Topic10\", \"Topic10\", \"Topic10\", \"Topic10\", \"Topic10\", \"Topic10\", \"Topic10\", \"Topic10\", \"Topic10\", \"Topic10\", \"Topic10\", \"Topic10\"], \"Freq\": [36962.0, 13225.0, 6650.0, 9524.0, 5938.0, 4797.0, 6855.0, 3789.0, 6888.0, 3322.0, 3044.0, 2975.0, 2639.0, 3566.0, 3792.0, 1588.0, 2394.0, 4365.0, 2715.0, 1119.0, 1138.0, 1225.0, 1206.0, 1042.0, 1967.0, 837.0, 824.0, 1625.0, 778.0, 738.0, 6887.0244140625, 3791.3701171875, 2714.619384765625, 1966.0631103515625, 1624.807373046875, 1357.0101318359375, 1252.6317138671875, 1049.342041015625, 1022.9473876953125, 997.5897216796875, 953.9339599609375, 887.310302734375, 712.2034301757812, 677.4208374023438, 578.986083984375, 561.7504272460938, 558.4955444335938, 499.2675476074219, 467.929443359375, 438.774658203125, 413.0711975097656, 383.0857849121094, 377.1351623535156, 350.53082275390625, 298.29693603515625, 279.4555969238281, 277.9716491699219, 271.6938781738281, 270.9378356933594, 265.1270751953125, 34116.0078125, 1517.89794921875, 902.7703247070312, 661.8133544921875, 559.84423828125, 1903.988525390625, 631.28271484375, 962.462158203125, 812.4622802734375, 646.0225219726562, 595.9755249023438, 657.6622924804688, 565.8845825195312, 9523.587890625, 6854.47998046875, 2393.6201171875, 659.6555786132812, 623.3097534179688, 528.5821533203125, 466.4186706542969, 386.1585693359375, 296.17425537109375, 286.8347473144531, 286.335693359375, 273.2691955566406, 258.8406066894531, 252.34066772460938, 243.19149780273438, 223.77725219726562, 219.65330505371094, 213.3680419921875, 273.5450439453125, 198.66513061523438, 188.19483947753906, 182.05262756347656, 180.76197814941406, 177.6988983154297, 164.7911376953125, 160.99742126464844, 159.84304809570312, 152.03196716308594, 150.7542266845703, 143.50999450683594, 11661.8046875, 3064.657470703125, 460.3358154296875, 1142.43408203125, 271.2161865234375, 2460.84033203125, 720.3388061523438, 268.58056640625, 422.4292297363281, 744.08447265625, 886.7230224609375, 736.4197998046875, 455.0746154785156, 451.05926513671875, 386.8519592285156, 361.3984069824219, 357.2076416015625, 315.7252197265625, 399.3397216796875, 480.9948425292969, 341.74334716796875, 343.4668884277344, 369.9319763183594, 318.522705078125, 498.588623046875, 423.3160705566406, 415.45599365234375, 404.13336181640625, 385.6739807128906, 380.29705810546875, 364.9464416503906, 345.231201171875, 308.7497253417969, 298.1131591796875, 285.77093505859375, 268.46722412109375, 266.5701904296875, 256.431396484375, 251.07974243164062, 249.24212646484375, 242.37774658203125, 241.27210998535156, 241.01495361328125, 224.57421875, 222.77230834960938, 212.718017578125, 212.4549102783203, 192.86279296875, 189.38650512695312, 186.49700927734375, 184.12818908691406, 181.4834442138672, 180.91221618652344, 180.12135314941406, 1224.9930419921875, 1205.2347412109375, 825.2369995117188, 705.1654052734375, 699.9091796875, 489.1642150878906, 436.2410583496094, 401.6025390625, 357.6311950683594, 356.1246032714844, 351.2599182128906, 323.95281982421875, 308.4448547363281, 276.18109130859375, 274.1422424316406, 256.2900390625, 230.008056640625, 219.54002380371094, 213.39532470703125, 212.2964630126953, 205.93263244628906, 194.85659790039062, 194.1020965576172, 180.56582641601562, 167.47055053710938, 155.9945831298828, 153.10694885253906, 152.0697784423828, 148.82809448242188, 147.17124938964844, 469.28717041015625, 408.93426513671875, 178.5584259033203, 6649.0419921875, 5936.9228515625, 3788.640869140625, 3320.9189453125, 2974.214599609375, 777.703369140625, 348.5705871582031, 241.03067016601562, 171.24655151367188, 163.37171936035156, 130.50350952148438, 121.37985229492188, 119.93836212158203, 115.76187896728516, 113.5670166015625, 112.14445495605469, 97.50608825683594, 90.85309600830078, 88.49003601074219, 87.00677490234375, 86.76080322265625, 78.94676971435547, 63.12614440917969, 63.072208404541016, 60.88274383544922, 57.949798583984375, 53.34321975708008, 49.73292922973633, 46.968997955322266, 45.31184387207031, 203.21475219726562, 164.94679260253906, 56.05070495605469, 4796.328125, 3043.6416015625, 620.6952514648438, 541.7802124023438, 520.3206787109375, 420.4898986816406, 405.9731750488281, 400.5704040527344, 353.8302917480469, 333.6266784667969, 325.9084167480469, 299.76776123046875, 281.8032531738281, 280.7421569824219, 273.7727966308594, 261.3060607910156, 226.27963256835938, 221.65899658203125, 217.15382385253906, 212.69757080078125, 208.69786071777344, 205.87025451660156, 205.58364868164062, 197.277099609375, 195.3782196044922, 175.57098388671875, 174.1673583984375, 169.8487548828125, 167.1632537841797, 166.64962768554688, 277.4979553222656, 751.0189208984375, 603.4422607421875, 516.2786254882812, 484.397216796875, 462.805908203125, 406.1772155761719, 402.3968505859375, 394.3370361328125, 350.8452453613281, 338.1514892578125, 284.6492614746094, 254.13983154296875, 249.89157104492188, 236.21498107910156, 230.5768280029297, 222.58433532714844, 214.67733764648438, 213.57943725585938, 207.25933837890625, 201.70538330078125, 197.7263641357422, 185.03854370117188, 182.439697265625, 178.67967224121094, 174.3854217529297, 169.5390167236328, 166.13780212402344, 165.16700744628906, 163.46438598632812, 162.3716583251953, 454.157958984375, 402.0998229980469, 2845.44677734375, 253.24252319335938, 233.69508361816406, 283.9800720214844, 273.78662109375, 1137.2139892578125, 549.3175659179688, 547.9208984375, 517.461181640625, 449.2583312988281, 415.0198669433594, 382.8065185546875, 380.64813232421875, 359.7516174316406, 357.0259094238281, 336.37957763671875, 305.13616943359375, 301.36749267578125, 279.0265197753906, 277.6511535644531, 276.5489501953125, 259.80712890625, 250.59185791015625, 247.3194122314453, 240.91665649414062, 237.90638732910156, 230.79676818847656, 226.37648010253906, 213.63160705566406, 208.3722381591797, 205.8831329345703, 200.23680114746094, 198.837890625, 186.85340881347656, 168.2182159423828, 282.701171875, 313.8836975097656, 270.55938720703125, 374.0415954589844, 1562.9075927734375, 500.8066711425781, 2638.0, 1587.679931640625, 1118.2176513671875, 737.9425048828125, 519.7926025390625, 503.7879638671875, 487.6833801269531, 455.535888671875, 453.2293395996094, 443.7784729003906, 404.7815246582031, 323.1965026855469, 315.6783752441406, 290.9903259277344, 286.6138916015625, 283.046630859375, 274.4231872558594, 263.85540771484375, 252.8948211669922, 226.51654052734375, 217.50831604003906, 209.4993896484375, 208.29290771484375, 205.87652587890625, 199.7111358642578, 193.9669189453125, 186.61007690429688, 183.1061248779297, 182.09222412109375, 175.87960815429688, 1041.0845947265625, 836.0972290039062, 823.5930786132812, 723.3912963867188, 675.153076171875, 566.7450561523438, 540.8463134765625, 479.8185119628906, 420.5285949707031, 410.6881408691406, 321.8905334472656, 317.7123107910156, 295.5928039550781, 291.96356201171875, 255.1319580078125, 237.05960083007812, 225.47776794433594, 218.5955810546875, 217.80987548828125, 215.63949584960938, 214.3109588623047, 213.8026885986328, 207.19859313964844, 202.7867889404297, 198.81564331054688, 192.3634033203125, 190.9723663330078, 189.01193237304688, 182.3494110107422, 181.42633056640625], \"Term\": [\"workout\", \"exercise\", \"loan\", \"weight\", \"payday\", \"fitness\", \"lose\", \"online\", \"minute\", \"24x7\", \"fat\", \"approved\", \"gym\", \"diet\", \"good\", \"really\", \"loss\", \"need\", \"today\", \"gotta\", \"as\", \"lil\", \"sarah\", \"partner\", \"day\", \"sore\", \"buddy\", \"morning\", \"cash\", \"hard\", \"minute\", \"good\", \"today\", \"day\", \"morning\", \"great\", \"got\", \"tomorrow\", \"feel\", \"done\", \"back\", \"pre\", \"leg\", \"sleep\", \"tonight\", \"hour\", \"nice\", \"early\", \"always\", \"ready\", \"home\", \"post\", \"run\", \"shower\", \"routine\", \"wait\", \"ab\", \"every\", \"last\", \"fun\", \"workout\", \"time\", \"work\", \"let\", \"feeling\", \"need\", \"going\", \"like\", \"lol\", \"best\", \"cant\", \"want\", \"wanna\", \"weight\", \"lose\", \"loss\", \"help\", \"trying\", \"food\", \"healthy\", \"eating\", \"bed\", \"gain\", \"say\", \"tip\", \"maybe\", \"goal\", \"emma\", \"also\", \"mean\", \"said\", \"without\", \"mom\", \"muscle\", \"extra\", \"wont\", \"maria\", \"title\", \"program\", \"tell\", \"jake\", \"thought\", \"asap\", \"exercise\", \"diet\", \"people\", \"dont\", \"daily\", \"need\", \"eat\", \"anyone\", \"way\", \"want\", \"like\", \"lol\", \"make\", \"much\", \"gonna\", \"know\", \"think\", \"look\", \"wanna\", \"time\", \"thats\", \"right\", \"cant\", \"start\", \"jessica\", \"katie\", \"matt\", \"amanda\", \"queen\", \"laura\", \"rachel\", \"andrew\", \"stephanie\", \"anthony\", \"intense\", \"jason\", \"alyssa\", \"put\", \"samantha\", \"melissa\", \"tom\", \"ben\", \"scott\", \"mary\", \"matthew\", \"morgan\", \"brittany\", \"patrick\", \"dave\", \"kim\", \"beth\", \"jamie\", \"jonathan\", \"rebecca\", \"lil\", \"sarah\", \"david\", \"stock\", \"lauren\", \"jordan\", \"anna\", \"alexis\", \"mad\", \"victoria\", \"felt\", \"fact\", \"heather\", \"sean\", \"austin\", \"jenna\", \"black\", \"card\", \"mr\", \"shelby\", \"texas\", \"jeremy\", \"top\", \"marie\", \"melanie\", \"word\", \"shawn\", \"ken\", \"mini\", \"cam\", \"free\", \"fit\", \"thomas\", \"loan\", \"payday\", \"online\", \"24x7\", \"approved\", \"cash\", \"credit\", \"check\", \"lender\", \"alex\", \"arm\", \"needed\", \"account\", \"session\", \"amazing\", \"please\", \"song\", \"megan\", \"ball\", \"baby\", \"tyler\", \"instant\", \"kate\", \"pool\", \"bike\", \"august\", \"tony\", \"julie\", \"sport\", \"hair\", \"gonna\", \"bad\", \"bank\", \"fitness\", \"fat\", \"michael\", \"emily\", \"killed\", \"happy\", \"real\", \"james\", \"king\", \"josh\", \"daniel\", \"jess\", \"joe\", \"kelly\", \"planet\", \"call\", \"chest\", \"training\", \"super\", \"princess\", \"eric\", \"serious\", \"jen\", \"joseph\", \"andrea\", \"jeff\", \"literally\", \"follow\", \"vega\", \"chloe\", \"life\", \"come\", \"late\", \"preworkout\", \"music\", \"taylor\", \"starting\", \"mark\", \"easy\", \"monday\", \"kevin\", \"jennifer\", \"count\", \"natalie\", \"favorite\", \"kinda\", \"installment\", \"buy\", \"complete\", \"coming\", \"excited\", \"julia\", \"idk\", \"watching\", \"yay\", \"jasmine\", \"yoga\", \"sophie\", \"worst\", \"meg\", \"forever\", \"night\", \"clothes\", \"workout\", \"little\", \"weightloss\", \"love\", \"best\", \"as\", \"big\", \"direct\", \"ashley\", \"nothing\", \"another\", \"lmao\", \"yesterday\", \"lazy\", \"coke\", \"michelle\", \"finna\", \"soon\", \"jack\", \"paul\", \"drink\", \"ima\", \"water\", \"erin\", \"aint\", \"watch\", \"sesh\", \"short\", \"smh\", \"away\", \"dan\", \"ohio\", \"gone\", \"definitely\", \"woman\", \"money\", \"running\", \"lisa\", \"fast\", \"exercise\", \"diet\", \"gym\", \"really\", \"gotta\", \"hard\", \"hannah\", \"bout\", \"sam\", \"hit\", \"health\", \"advance\", \"amy\", \"god\", \"brandon\", \"hell\", \"steve\", \"wow\", \"robert\", \"hot\", \"working\", \"aaron\", \"elizabeth\", \"stay\", \"amber\", \"die\", \"olivia\", \"christian\", \"karen\", \"tweet\", \"jacob\", \"ice\", \"partner\", \"sore\", \"buddy\", \"chris\", \"john\", \"ryan\", \"mike\", \"miss\", \"nicole\", \"must\", \"jay\", \"adam\", \"kyle\", \"min\", \"mood\", \"city\", \"rob\", \"lady\", \"grind\", \"brooke\", \"young\", \"high\", \"school\", \"kicked\", \"lord\", \"finish\", \"claire\", \"steven\", \"ali\", \"mile\"], \"Total\": [36962.0, 13225.0, 6650.0, 9524.0, 5938.0, 4797.0, 6855.0, 3789.0, 6888.0, 3322.0, 3044.0, 2975.0, 2639.0, 3566.0, 3792.0, 1588.0, 2394.0, 4365.0, 2715.0, 1119.0, 1138.0, 1225.0, 1206.0, 1042.0, 1967.0, 837.0, 824.0, 1625.0, 778.0, 738.0, 6888.1396484375, 3792.47021484375, 2715.7197265625, 1967.1644287109375, 1625.9075927734375, 1358.1104736328125, 1253.7320556640625, 1050.4422607421875, 1024.0477294921875, 998.6900024414062, 955.0342407226562, 888.4105224609375, 713.3036499023438, 678.5211181640625, 580.0863647460938, 562.8507690429688, 559.5958251953125, 500.3677978515625, 469.02978515625, 439.8749084472656, 414.1714782714844, 384.1860656738281, 378.2354431152344, 351.6310729980469, 299.3971862792969, 280.5558776855469, 279.07196044921875, 272.7941589355469, 272.0380859375, 266.2273864746094, 36962.42578125, 1999.9002685546875, 1178.1087646484375, 822.9312744140625, 668.5377807617188, 4365.8369140625, 921.4337158203125, 1850.1927490234375, 1549.8896484375, 1154.46875, 966.9149169921875, 1402.7542724609375, 966.2317504882812, 9524.67578125, 6855.56689453125, 2394.707275390625, 660.7428588867188, 624.39697265625, 529.6693725585938, 467.5059509277344, 387.2458190917969, 297.26153564453125, 287.9219970703125, 287.42291259765625, 274.3564453125, 259.9278564453125, 253.42799377441406, 244.27894592285156, 224.86453247070312, 220.74058532714844, 214.45530700683594, 274.95709228515625, 199.7523956298828, 189.28211975097656, 183.13986206054688, 181.84927368164062, 178.78631591796875, 165.89198303222656, 162.08470153808594, 160.9302978515625, 153.11944580078125, 151.84149169921875, 144.59725952148438, 13225.673828125, 3566.426025390625, 503.41802978515625, 1624.4993896484375, 300.6845703125, 4365.8369140625, 1068.2080078125, 302.48651123046875, 589.7315673828125, 1402.7542724609375, 1850.1927490234375, 1549.8896484375, 750.4971923828125, 771.0556640625, 591.1183471679688, 546.0557861328125, 593.3046875, 448.79052734375, 966.2317504882812, 1999.9002685546875, 603.346435546875, 643.741455078125, 966.9149169921875, 798.304443359375, 499.6455993652344, 424.3714294433594, 416.5113830566406, 405.1887512207031, 386.7293395996094, 381.3524475097656, 366.0018005371094, 346.2865905761719, 309.80511474609375, 299.1685485839844, 286.8263244628906, 269.5226135253906, 267.6255798339844, 257.4868469238281, 252.13510131835938, 250.29747009277344, 243.43309020996094, 242.3274688720703, 242.0703125, 225.62957763671875, 223.82766723632812, 213.77337646484375, 213.51026916503906, 193.91815185546875, 190.44186401367188, 187.55235290527344, 185.18353271484375, 182.53880310058594, 181.9675750732422, 181.17669677734375, 1225.9825439453125, 1206.2242431640625, 826.2265625, 706.1549072265625, 700.8987426757812, 490.15374755859375, 437.2306213378906, 402.5920715332031, 358.62078857421875, 357.1141357421875, 352.2494812011719, 324.9423828125, 309.4344177246094, 277.170654296875, 275.1318054199219, 257.27960205078125, 230.99758911132812, 220.530517578125, 214.38485717773438, 213.28599548339844, 206.92259216308594, 195.84613037109375, 195.09169006347656, 181.5553741455078, 168.46006774902344, 156.98416137695312, 154.0964813232422, 153.05931091308594, 149.81764221191406, 148.1607666015625, 477.4730529785156, 571.8662109375, 212.67123413085938, 6650.1865234375, 5938.10400390625, 3789.78515625, 3322.063232421875, 2975.35888671875, 778.8478393554688, 349.71502685546875, 242.1912078857422, 172.3910369873047, 164.5161895751953, 131.64796447753906, 122.52428436279297, 121.08287811279297, 116.90634155273438, 114.71145629882812, 113.28890991210938, 98.6505355834961, 91.99756622314453, 89.63448333740234, 88.15122985839844, 87.9052734375, 80.09119415283203, 64.2706069946289, 64.21665954589844, 62.027191162109375, 59.09425735473633, 54.4876823425293, 50.87738800048828, 48.11344909667969, 46.45627975463867, 591.1183471679688, 519.9039306640625, 123.7066879272461, 4797.38330078125, 3044.6962890625, 621.7499389648438, 542.8348999023438, 521.3753662109375, 421.5445861816406, 407.0278625488281, 401.6250915527344, 354.8849792480469, 334.681396484375, 326.9631652832031, 300.82244873046875, 282.85797119140625, 281.79681396484375, 274.82763671875, 262.36077880859375, 227.33428955078125, 222.71368408203125, 218.20851135253906, 213.7522430419922, 209.75253295898438, 206.92495727539062, 206.63832092285156, 198.33177185058594, 196.43289184570312, 176.6256561279297, 175.22207641601562, 170.90345764160156, 168.2181854248047, 167.7042999267578, 630.3970947265625, 752.0693359375, 604.49267578125, 517.3290405273438, 485.44757080078125, 463.8563232421875, 407.2276306152344, 403.4472961425781, 395.3876037597656, 351.8956604003906, 339.2018737792969, 285.6996765136719, 255.19021606445312, 250.9419708251953, 237.265380859375, 231.62721252441406, 223.63864135742188, 215.72775268554688, 214.62979125976562, 208.30975341796875, 202.7557830810547, 198.7768096923828, 186.0889434814453, 183.49008178710938, 179.73007202148438, 175.43582153320312, 170.5894012451172, 167.18820190429688, 166.21739196777344, 164.51478576660156, 163.4220428466797, 688.4457397460938, 598.3358764648438, 36962.42578125, 454.290283203125, 381.17987060546875, 1092.220703125, 1154.46875, 1138.2685546875, 550.3721923828125, 548.9797973632812, 518.5156860351562, 450.3128356933594, 416.0743713378906, 383.8612976074219, 381.70263671875, 360.80609130859375, 358.08050537109375, 337.4341125488281, 306.190673828125, 302.4219970703125, 280.0810241699219, 278.7056884765625, 277.60345458984375, 260.86163330078125, 251.6463623046875, 248.37391662597656, 241.97113037109375, 238.9608917236328, 231.8512420654297, 227.43101501464844, 214.6861114501953, 209.42672729492188, 206.93763732910156, 201.2923126220703, 199.8923797607422, 187.9079132080078, 169.272705078125, 289.5403137207031, 348.3157958984375, 324.985595703125, 561.6527099609375, 13225.673828125, 3566.426025390625, 2639.04833984375, 1588.7283935546875, 1119.26611328125, 738.990966796875, 520.841064453125, 504.8363952636719, 488.7318115234375, 456.5843200683594, 454.2778015136719, 444.8301696777344, 405.8299560546875, 324.24493408203125, 316.726806640625, 292.0387878417969, 287.6623229980469, 284.0950927734375, 275.47161865234375, 264.90863037109375, 253.9449462890625, 227.56500244140625, 218.55677795410156, 210.54786682128906, 209.34136962890625, 206.9250030517578, 200.7595977783203, 195.015380859375, 187.65853881835938, 184.15460205078125, 183.14068603515625, 176.9280548095703, 1042.1201171875, 837.1326904296875, 824.6285400390625, 724.4267578125, 676.1885375976562, 567.780517578125, 541.8817749023438, 480.85400390625, 421.5640869140625, 411.7236633300781, 322.926025390625, 318.747802734375, 296.6282958984375, 292.9990539550781, 256.1674499511719, 238.09555053710938, 226.51324462890625, 219.63108825683594, 218.84535217285156, 216.67498779296875, 215.346435546875, 214.8382110595703, 208.2340850830078, 203.82229614257812, 199.8511199951172, 193.39891052246094, 192.0078582763672, 190.0474090576172, 183.38490295410156, 182.46182250976562], \"loglift\": [30.0, 29.0, 28.0, 27.0, 26.0, 25.0, 24.0, 23.0, 22.0, 21.0, 20.0, 19.0, 18.0, 17.0, 16.0, 15.0, 14.0, 13.0, 12.0, 11.0, 10.0, 9.0, 8.0, 7.0, 6.0, 5.0, 4.0, 3.0, 2.0, 1.0, 1.3352999687194824, 1.3351999521255493, 1.3351000547409058, 1.3349000215530396, 1.3348000049591064, 1.3345999717712402, 1.3345999717712402, 1.3344000577926636, 1.3344000577926636, 1.3344000577926636, 1.3343000411987305, 1.3342000246047974, 1.333899974822998, 1.333799958229065, 1.3336000442504883, 1.3335000276565552, 1.3335000276565552, 1.333299994468689, 1.3330999612808228, 1.3329999446868896, 1.332800030708313, 1.3325999975204468, 1.3324999809265137, 1.3322999477386475, 1.3317999839782715, 1.3315000534057617, 1.3315000534057617, 1.3314000368118286, 1.3314000368118286, 1.3313000202178955, 1.2553000450134277, 1.0597000122070312, 1.0693000555038452, 1.1175999641418457, 1.1579999923706055, 0.5055999755859375, 0.9573000073432922, 0.6819000244140625, 0.6895999908447266, 0.7548999786376953, 0.8514999747276306, 0.578000009059906, 0.8004000186920166, 1.7165000438690186, 1.7164000272750854, 1.7160999774932861, 1.714900016784668, 1.7148000001907349, 1.7144999504089355, 1.7142000198364258, 1.7137999534606934, 1.7129000425338745, 1.7128000259399414, 1.7128000259399414, 1.7125999927520752, 1.712399959564209, 1.7122999429702759, 1.7121000289916992, 1.7116999626159668, 1.7115999460220337, 1.7115000486373901, 1.711400032043457, 1.7110999822616577, 1.710800051689148, 1.7106000185012817, 1.7106000185012817, 1.7105000019073486, 1.7099000215530396, 1.7098000049591064, 1.7098000049591064, 1.7094000577926636, 1.7094000577926636, 1.7089999914169312, 1.5907000303268433, 1.5649000406265259, 1.6270999908447266, 1.3645000457763672, 1.6133999824523926, 1.1433000564575195, 1.32260000705719, 1.5976999998092651, 1.3828999996185303, 1.0824999809265137, 0.9811000227928162, 0.9724000096321106, 1.2163000106811523, 1.180400013923645, 1.2926000356674194, 1.3037999868392944, 1.2092000246047974, 1.36489999294281, 0.8330000042915344, 0.29159998893737793, 1.1481000185012817, 1.0884000062942505, 0.7558000087738037, 0.7978000044822693, 2.373800039291382, 2.3733999729156494, 2.373300075531006, 2.373300075531006, 2.3731000423431396, 2.3731000423431396, 2.372999906539917, 2.37280011177063, 2.372499942779541, 2.372299909591675, 2.3722000122070312, 2.3719000816345215, 2.3719000816345215, 2.371799945831299, 2.3717000484466553, 2.3715999126434326, 2.371500015258789, 2.371500015258789, 2.371500015258789, 2.3712000846862793, 2.3710999488830566, 2.3708999156951904, 2.3708999156951904, 2.3703999519348145, 2.370300054550171, 2.3701999187469482, 2.3701999187469482, 2.3701000213623047, 2.3701000213623047, 2.369999885559082, 2.5009000301361084, 2.5009000301361084, 2.500499963760376, 2.5002999305725098, 2.5002999305725098, 2.4997000694274902, 2.499500036239624, 2.499300003051758, 2.499000072479248, 2.499000072479248, 2.4988999366760254, 2.498699903488159, 2.498500108718872, 2.498199939727783, 2.4981000423431396, 2.4979000091552734, 2.4974000453948975, 2.4972000122070312, 2.4971001148223877, 2.4971001148223877, 2.4969000816345215, 2.4967000484466553, 2.4965999126434326, 2.496299982070923, 2.495800018310547, 2.4953999519348145, 2.495300054550171, 2.4951999187469482, 2.4951000213623047, 2.494999885559082, 2.4844000339508057, 2.1663999557495117, 2.326900005340576, 2.6870999336242676, 2.6870999336242676, 2.687000036239624, 2.687000036239624, 2.6868999004364014, 2.685800075531006, 2.684000015258789, 2.682499885559082, 2.6805999279022217, 2.680299997329712, 2.6786000728607178, 2.6779000759124756, 2.677799940109253, 2.677500009536743, 2.677299976348877, 2.6770999431610107, 2.675600051879883, 2.674799919128418, 2.6744000911712646, 2.6742000579833984, 2.6742000579833984, 2.6728999614715576, 2.669300079345703, 2.669300079345703, 2.6686999797821045, 2.6677000522613525, 2.666100025177002, 2.6644999980926514, 2.6631999015808105, 2.662400007247925, 1.6195000410079956, 1.5392999649047852, 1.8955999612808228, 2.6881000995635986, 2.6879000663757324, 2.6865999698638916, 2.686300039291382, 2.686199903488159, 2.685800075531006, 2.685699939727783, 2.6856000423431396, 2.68530011177063, 2.6851000785827637, 2.684999942779541, 2.684799909591675, 2.684499979019165, 2.684499979019165, 2.6844000816345215, 2.6842000484466553, 2.6835999488830566, 2.683500051498413, 2.6833999156951904, 2.683300018310547, 2.683199882507324, 2.683199882507324, 2.683199882507324, 2.6828999519348145, 2.6828999519348145, 2.682300090789795, 2.6821999549865723, 2.6821000576019287, 2.681999921798706, 2.681999921798706, 1.8676999807357788, 2.73580002784729, 2.7355000972747803, 2.7351999282836914, 2.734999895095825, 2.7348999977111816, 2.734600067138672, 2.734600067138672, 2.734499931335449, 2.7342000007629395, 2.734100103378296, 2.7335000038146973, 2.733099937438965, 2.7330000400543213, 2.732800006866455, 2.732599973678589, 2.7325000762939453, 2.732300043106079, 2.732300043106079, 2.732100009918213, 2.7320001125335693, 2.7318999767303467, 2.7314999103546143, 2.7314999103546143, 2.731300115585327, 2.7311999797821045, 2.7309999465942383, 2.7309000492095947, 2.7309000492095947, 2.730799913406372, 2.7307000160217285, 2.321199893951416, 2.3396999835968018, 0.17299999296665192, 2.1528000831604004, 2.2479000091552734, 1.3901000022888184, 1.2980999946594238, 2.7430999279022217, 2.7421000003814697, 2.7421000003814697, 2.742000102996826, 2.7416999340057373, 2.741499900817871, 2.741300106048584, 2.7411999702453613, 2.7411000728607178, 2.7411000728607178, 2.7409000396728516, 2.740600109100342, 2.740499973297119, 2.7402000427246094, 2.7402000427246094, 2.7402000427246094, 2.740000009536743, 2.739799976348877, 2.739799976348877, 2.7395999431610107, 2.7395999431610107, 2.7393999099731445, 2.7393999099731445, 2.7390999794006348, 2.739000082015991, 2.7388999462127686, 2.7386999130249023, 2.7386999130249023, 2.7383999824523926, 2.737799882888794, 2.720099925994873, 2.639899969100952, 2.560699939727783, 2.3375000953674316, 0.6083999872207642, 0.7809000015258789, 2.8118999004364014, 2.8115999698638916, 2.811300039291382, 2.8108999729156494, 2.81030011177063, 2.8101999759674072, 2.8101000785827637, 2.809999942779541, 2.809999942779541, 2.8099000453948975, 2.8097000122070312, 2.809000015258789, 2.809000015258789, 2.8087000846862793, 2.8085999488830566, 2.8085999488830566, 2.808500051498413, 2.808300018310547, 2.8080999851226807, 2.8076999187469482, 2.807499885559082, 2.807300090789795, 2.807300090789795, 2.8071999549865723, 2.806999921798706, 2.8069000244140625, 2.8066999912261963, 2.8066000938415527, 2.80649995803833, 2.806299924850464, 2.859999895095825, 2.859800100326538, 2.859800100326538, 2.859600067138672, 2.859499931335449, 2.8592000007629395, 2.859100103378296, 2.8589000701904297, 2.858599901199341, 2.8585000038146973, 2.857800006866455, 2.857800006866455, 2.8575000762939453, 2.8575000762939453, 2.8570001125335693, 2.8566999435424805, 2.8564999103546143, 2.856300115585327, 2.856300115585327, 2.8561999797821045, 2.8561999797821045, 2.8561999797821045, 2.8559999465942383, 2.8559000492095947, 2.855799913406372, 2.8557000160217285, 2.855600118637085, 2.855600118637085, 2.8554000854492188, 2.855299949645996], \"logprob\": [30.0, 29.0, 28.0, 27.0, 26.0, 25.0, 24.0, 23.0, 22.0, 21.0, 20.0, 19.0, 18.0, 17.0, 16.0, 15.0, 14.0, 13.0, 12.0, 11.0, 10.0, 9.0, 8.0, 7.0, 6.0, 5.0, 4.0, 3.0, 2.0, 1.0, -2.823199987411499, -3.4202001094818115, -3.754199981689453, -4.076900005340576, -4.267499923706055, -4.4475998878479, -4.527599811553955, -4.704699993133545, -4.730199813842773, -4.755300045013428, -4.800000190734863, -4.872399806976318, -5.092299938201904, -5.142300128936768, -5.2993998527526855, -5.329599857330322, -5.335400104522705, -5.447500228881836, -5.51230001449585, -5.576700210571289, -5.63700008392334, -5.712399959564209, -5.728000164031982, -5.801199913024902, -5.962600231170654, -6.0278000831604, -6.033100128173828, -6.056000232696533, -6.058800220489502, -6.080399990081787, -1.223099946975708, -4.335599899291992, -4.855199813842773, -5.1656999588012695, -5.333000183105469, -4.10890007019043, -5.212900161743164, -4.791100025177002, -4.960599899291992, -5.189799785614014, -5.270400047302246, -5.171899795532227, -5.322299957275391, -2.118000030517578, -2.446899890899658, -3.499000072479248, -4.787799835205078, -4.8445000648498535, -5.009300231933594, -5.134399890899658, -5.323299884796143, -5.588600158691406, -5.62060022354126, -5.622399806976318, -5.669099807739258, -5.723299980163574, -5.748700141906738, -5.785699844360352, -5.868899822235107, -5.887499809265137, -5.916500091552734, -5.668099880218506, -5.9878997802734375, -6.041999816894531, -6.075200080871582, -6.082300186157227, -6.099400043487549, -6.174799919128418, -6.1981000900268555, -6.2052998542785645, -6.25540018081665, -6.263899803161621, -6.3130998611450195, -1.9155000448226929, -3.251800060272217, -5.147600173950195, -4.23859977722168, -5.676599979400635, -3.471299886703491, -4.69980001449585, -5.686399936676025, -5.233500003814697, -4.667399883270264, -4.492000102996826, -4.677700042724609, -5.15910005569458, -5.167900085449219, -5.321499824523926, -5.389500141143799, -5.401199817657471, -5.524700164794922, -5.289700031280518, -5.103700160980225, -5.445499897003174, -5.440400123596191, -5.366199970245361, -5.5157999992370605, -4.408400058746338, -4.5721001625061035, -4.59089994430542, -4.618500232696533, -4.665200233459473, -4.679299831390381, -4.7204999923706055, -4.776000022888184, -4.887700080871582, -4.922800064086914, -4.965000152587891, -5.027500152587891, -5.034599781036377, -5.073400020599365, -5.0945000648498535, -5.101799964904785, -5.129700183868408, -5.134300231933594, -5.13539981842041, -5.205999851226807, -5.214099884033203, -5.260300159454346, -5.261499881744385, -5.3582000732421875, -5.376399993896484, -5.3917999267578125, -5.404600143432617, -5.419099807739258, -5.4222002029418945, -5.426599979400635, -3.383699893951416, -3.399899959564209, -3.778700113296509, -3.9358999729156494, -3.9433999061584473, -4.301700115203857, -4.416200160980225, -4.498899936676025, -4.6149001121521, -4.619100093841553, -4.632800102233887, -4.713799953460693, -4.762800216674805, -4.873300075531006, -4.88070011138916, -4.9481000900268555, -5.056300163269043, -5.102799892425537, -5.131199836730957, -5.13640022277832, -5.166800022125244, -5.222099781036377, -5.22599983215332, -5.298299789428711, -5.373600006103516, -5.444499969482422, -5.463200092315674, -5.46999979019165, -5.491600036621094, -5.502799987792969, -4.343200206756592, -4.480800151824951, -5.309500217437744, -1.506600022315979, -1.6198999881744385, -2.069000005722046, -2.2007999420166016, -2.3111000061035156, -3.6524999141693115, -4.454999923706055, -4.82390022277832, -5.1656999588012695, -5.212800025939941, -5.437399864196777, -5.509900093078613, -5.5218000411987305, -5.557300090789795, -5.576399803161621, -5.589000225067139, -5.728899955749512, -5.799600124359131, -5.825900077819824, -5.842800140380859, -5.845600128173828, -5.940000057220459, -6.163700103759766, -6.1645002365112305, -6.19980001449585, -6.249199867248535, -6.332099914550781, -6.402100086212158, -6.4593000411987305, -6.495200157165527, -4.994500160217285, -5.203199863433838, -6.28249979019165, -1.832200050354004, -2.2869999408721924, -3.877000093460083, -4.013000011444092, -4.053400039672852, -4.26639986038208, -4.301499843597412, -4.314899921417236, -4.439000129699707, -4.497799873352051, -4.521200180053711, -4.604800224304199, -4.666600227355957, -4.670400142669678, -4.695499897003174, -4.742099761962891, -4.886099815368652, -4.906700134277344, -4.927199840545654, -4.947999954223633, -4.966899871826172, -4.980599880218506, -4.98199987411499, -5.023200035095215, -5.032899856567383, -5.139800071716309, -5.147799968719482, -5.172900199890137, -5.188899993896484, -5.19189977645874, -4.682000160217285, -3.637500047683716, -3.856300115585327, -4.01230001449585, -4.076000213623047, -4.121600151062012, -4.252099990844727, -4.261499881744385, -4.281700134277344, -4.398600101470947, -4.435400009155273, -4.607600212097168, -4.7210001945495605, -4.7378997802734375, -4.7941999435424805, -4.818299770355225, -4.853600025177002, -4.889800071716309, -4.894899845123291, -4.924900054931641, -4.952099800109863, -4.9720001220703125, -5.038300037384033, -5.052499771118164, -5.073299884796143, -5.097599983215332, -5.125800132751465, -5.146100044250488, -5.151899814605713, -5.162300109863281, -5.169000148773193, -4.140500068664551, -4.262199878692627, -2.3053998947143555, -4.724599838256836, -4.804900169372559, -4.610000133514404, -4.646599769592285, -3.2158000469207764, -3.9433999061584473, -3.946000099182129, -4.003200054168701, -4.144499778747559, -4.223800182342529, -4.304599761962891, -4.310200214385986, -4.366700172424316, -4.374300003051758, -4.433800220489502, -4.531300067901611, -4.543799877166748, -4.620800018310547, -4.625699996948242, -4.629700183868408, -4.692200183868408, -4.728300094604492, -4.741399765014648, -4.767600059509277, -4.780200004577637, -4.8105998039245605, -4.829899787902832, -4.887800216674805, -4.912799835205078, -4.924799919128418, -4.952600002288818, -4.95959997177124, -5.0218000411987305, -5.126800060272217, -4.607699871063232, -4.5030999183654785, -4.651599884033203, -4.327700138092041, -2.8977999687194824, -4.035900115966797, -2.305999994277954, -2.813800096511841, -3.164299964904785, -3.579900026321411, -3.9303998947143555, -3.961699962615967, -3.9941000938415527, -4.062300205230713, -4.067399978637695, -4.088500022888184, -4.180500030517578, -4.405600070953369, -4.429100036621094, -4.510499954223633, -4.525700092315674, -4.5381999015808105, -4.5690999031066895, -4.608399868011475, -4.6508002281188965, -4.761000156402588, -4.801599979400635, -4.839099884033203, -4.844900131225586, -4.856500148773193, -4.886899948120117, -4.916100025177002, -4.954800128936768, -4.973700046539307, -4.979300022125244, -5.013999938964844, -3.187000036239624, -3.4063000679016113, -3.4214000701904297, -3.551100015640259, -3.6201000213623047, -3.7952001094818115, -3.841900110244751, -3.961699962615967, -4.093599796295166, -4.117199897766113, -4.360899925231934, -4.373899936676025, -4.446100234985352, -4.458399772644043, -4.593299865722656, -4.666800022125244, -4.716800212860107, -4.747799873352051, -4.751399993896484, -4.761499881744385, -4.767600059509277, -4.769999980926514, -4.801400184631348, -4.82289981842041, -4.842700004577637, -4.875699996948242, -4.882900238037109, -4.8933000564575195, -4.929100036621094, -4.934199810028076]}, \"token.table\": {\"Topic\": [5, 9, 1, 5, 10, 9, 8, 5, 4, 10, 2, 1, 3, 3, 5, 9, 9, 6, 3, 4, 8, 3, 2, 7, 5, 5, 8, 2, 8, 5, 4, 8, 5, 1, 1, 2, 5, 5, 4, 5, 2, 3, 1, 2, 7, 3, 8, 5, 4, 9, 9, 3, 10, 10, 7, 6, 4, 1, 2, 4, 5, 5, 6, 6, 10, 9, 10, 10, 1, 7, 8, 7, 7, 7, 7, 5, 2, 10, 8, 6, 3, 4, 1, 8, 9, 2, 8, 8, 1, 1, 2, 8, 1, 7, 1, 2, 2, 9, 6, 2, 6, 8, 1, 7, 2, 8, 2, 4, 2, 8, 6, 7, 1, 1, 8, 4, 10, 8, 2, 4, 6, 6, 2, 7, 2, 4, 6, 1, 2, 2, 9, 1, 2, 8, 2, 5, 1, 1, 9, 1, 10, 9, 5, 9, 6, 9, 9, 2, 4, 9, 2, 10, 9, 1, 9, 1, 9, 7, 8, 7, 5, 3, 8, 9, 2, 6, 3, 7, 3, 10, 6, 6, 4, 7, 4, 6, 3, 6, 10, 3, 4, 6, 6, 7, 5, 9, 5, 3, 6, 4, 7, 10, 6, 3, 7, 6, 1, 2, 10, 10, 1, 7, 3, 4, 8, 1, 5, 1, 2, 1, 2, 6, 1, 2, 4, 4, 8, 6, 1, 7, 8, 5, 1, 2, 1, 2, 10, 2, 2, 1, 2, 7, 10, 4, 1, 2, 2, 4, 7, 3, 3, 3, 2, 2, 7, 5, 4, 3, 6, 8, 10, 10, 10, 4, 1, 10, 2, 7, 4, 8, 10, 3, 1, 4, 1, 2, 2, 7, 10, 7, 1, 2, 5, 1, 10, 1, 7, 8, 8, 9, 5, 10, 3, 8, 5, 2, 7, 6, 5, 5, 1, 1, 7, 6, 2, 3, 3, 3, 1, 6, 9, 3, 1, 2, 10, 9, 1, 1, 1, 7, 8, 10, 2, 9, 3, 4, 2, 10, 3, 4, 6, 8, 5, 4, 4, 8, 1, 1, 8, 5, 8, 7, 10, 5, 1, 2, 7, 9, 3, 9, 10, 4, 6, 7, 2, 4, 1, 2, 1, 2, 4, 10, 2, 1, 2, 2, 2, 1, 3, 1, 1, 5, 4, 6, 2, 9, 5, 6, 4, 1, 1, 2, 1, 2, 8, 7, 8, 1, 2, 2, 2, 7, 2, 8, 2, 4, 1, 2, 9, 1, 7, 7, 9, 7, 8, 7, 10], \"Freq\": [0.9996799230575562, 0.9975171685218811, 0.9961588382720947, 0.9910567402839661, 0.9976539611816406, 0.9981337189674377, 0.9959865808486938, 0.9907839298248291, 0.9985293745994568, 0.992448091506958, 0.996155321598053, 0.9978044629096985, 0.9976624846458435, 0.9970661997795105, 0.9937978386878967, 0.9935924410820007, 0.9979549050331116, 0.9927054643630981, 0.9962846040725708, 0.9971854090690613, 0.9974178671836853, 0.9960939884185791, 0.8892958760261536, 0.10909577459096909, 0.999543309211731, 0.9950780272483826, 0.9988855123519897, 0.995869517326355, 0.9970768690109253, 0.9814828634262085, 0.9958863258361816, 0.9931874871253967, 0.9869402647018433, 0.9989170432090759, 0.3981504738330841, 0.28274455666542053, 0.3173663318157196, 0.9817650318145752, 0.541603684425354, 0.452683687210083, 0.9957561492919922, 0.994521975517273, 0.5595647096633911, 0.20269063115119934, 0.2373386025428772, 0.9936088919639587, 0.9975067973136902, 0.9834396839141846, 0.9956814050674438, 0.9983432292938232, 0.9977052807807922, 0.9929264783859253, 0.9968847632408142, 0.9992377758026123, 0.9966264963150024, 0.9948133230209351, 0.9921655058860779, 0.6163934469223022, 0.3826603591442108, 0.9975943565368652, 0.998911440372467, 0.9950815439224243, 0.9941307306289673, 0.9958003759384155, 0.9980304837226868, 0.9947933554649353, 0.9953987002372742, 0.9947509765625, 0.32590389251708984, 0.6718634366989136, 0.9969825148582458, 0.9985781311988831, 0.9937124848365784, 0.9970656633377075, 0.9953359365463257, 0.9979553818702698, 0.901276707649231, 0.09644658863544464, 0.9954689741134644, 0.9970542192459106, 0.9924288392066956, 0.9985154867172241, 0.9994080662727356, 0.9951683282852173, 0.9955297708511353, 0.8594037890434265, 0.1404767632484436, 0.9982152581214905, 0.9993090629577637, 0.296091228723526, 0.7029858231544495, 0.9978262186050415, 0.997266411781311, 0.9964905381202698, 0.3248431086540222, 0.6740260124206543, 0.9967828989028931, 0.9974524974822998, 0.9984619617462158, 0.9947643876075745, 0.9964122772216797, 0.9944683313369751, 0.9970887899398804, 0.9962724447250366, 0.8817698359489441, 0.11817923188209534, 0.9937760233879089, 0.9970998167991638, 0.33294597268104553, 0.6658919453620911, 0.9997712969779968, 0.9946668148040771, 0.9989768862724304, 0.8376489877700806, 0.16154658794403076, 0.9964528679847717, 0.9927667379379272, 0.9961113333702087, 0.2832830548286438, 0.715202271938324, 0.9997116327285767, 0.9947136640548706, 0.9987362623214722, 0.9912983179092407, 0.010471794754266739, 0.9822543859481812, 0.004188718274235725, 0.9953896999359131, 0.9967977404594421, 0.9943652749061584, 0.9961605072021484, 0.6848023533821106, 0.31364166736602783, 0.995535671710968, 0.654691219329834, 0.34341683983802795, 0.9996123313903809, 0.9994161128997803, 0.9988688230514526, 0.9991823434829712, 0.9961372017860413, 0.999602735042572, 0.9686526656150818, 0.9983851909637451, 0.9963358640670776, 0.9986590147018433, 0.9971871972084045, 0.9967787265777588, 0.9953643679618835, 0.996442973613739, 0.9988757371902466, 0.9960983991622925, 0.9987202286720276, 0.9971715211868286, 0.9965700507164001, 0.9984884858131409, 0.9947546124458313, 0.9941482543945312, 0.996696949005127, 0.997144341468811, 0.986375629901886, 0.9971190690994263, 0.9961403012275696, 0.9937715530395508, 0.9926890730857849, 0.998443603515625, 0.991569995880127, 0.9918156862258911, 0.9943507313728333, 0.997132420539856, 0.9964577555656433, 0.9969109296798706, 0.9950264096260071, 0.9975510239601135, 0.9956796169281006, 0.9972659945487976, 0.9987078905105591, 0.9969667792320251, 0.9982423186302185, 0.9946827292442322, 0.997646152973175, 0.9932851195335388, 0.9979640245437622, 0.9960920214653015, 0.9827548265457153, 0.9964907765388489, 0.9802303314208984, 0.9967683553695679, 0.9971723556518555, 0.9930790662765503, 0.9964567422866821, 0.9959656000137329, 0.9973620176315308, 0.9917231202125549, 0.997292160987854, 0.997506320476532, 0.33696189522743225, 0.6611046195030212, 0.9978818893432617, 0.997126579284668, 0.9961840510368347, 0.9975306987762451, 0.9964535236358643, 0.998717725276947, 0.997765839099884, 0.998172402381897, 0.9919309020042419, 0.8044413924217224, 0.19442692399024963, 0.34105485677719116, 0.21732333302497864, 0.4394055902957916, 0.5199458003044128, 0.47940951585769653, 0.9991985559463501, 0.1661612093448639, 0.8338831067085266, 0.993025541305542, 0.44024714827537537, 0.5569126605987549, 0.9977562427520752, 0.9998216032981873, 0.523908257484436, 0.47487252950668335, 0.2941238582134247, 0.7041146755218506, 0.9957412481307983, 0.9997714161872864, 0.9997046589851379, 0.47517868876457214, 0.19959336519241333, 0.2600207030773163, 0.06408961117267609, 0.9982689619064331, 0.3917402923107147, 0.6062647700309753, 0.9956019520759583, 0.9969410300254822, 0.9964126944541931, 0.9972096681594849, 0.996371328830719, 0.9963021874427795, 0.9964303374290466, 0.9966449737548828, 0.9907923936843872, 0.9891566038131714, 0.9913328289985657, 0.9948163032531738, 0.9987938404083252, 0.9957499504089355, 0.9983727335929871, 0.9919883608818054, 0.996590256690979, 0.9945424199104309, 0.9998345375061035, 0.9982239603996277, 0.996233344078064, 0.9974547624588013, 0.02072250284254551, 0.9774113893508911, 0.9954426288604736, 0.9963822364807129, 0.9994418025016785, 0.993540346622467, 0.4137185215950012, 0.5849123597145081, 0.9932264089584351, 0.9970180988311768, 0.9982423782348633, 0.9962462782859802, 0.4361134171485901, 0.5636948943138123, 0.9875593185424805, 0.9971482753753662, 0.9986619353294373, 0.3384435176849365, 0.6594564914703369, 0.9970846176147461, 0.9935799241065979, 0.996216356754303, 0.9997928142547607, 0.9989251494407654, 0.9952652454376221, 0.9974679946899414, 0.9998140931129456, 0.9137535095214844, 0.08342967182397842, 0.9969885349273682, 0.988622784614563, 0.9810538291931152, 0.9969127774238586, 0.9984123110771179, 0.9974309802055359, 0.9964807629585266, 0.9933078289031982, 0.9942255616188049, 0.9981141090393066, 0.9972628355026245, 0.9980109930038452, 0.997474730014801, 0.9995415210723877, 0.9935052394866943, 0.4644721746444702, 0.5328226089477539, 0.9933193922042847, 0.9946578145027161, 0.9953333139419556, 0.9967336654663086, 0.0028709578327834606, 0.09474161267280579, 0.9014807939529419, 0.9986253380775452, 0.993213951587677, 0.9985026121139526, 0.9954980611801147, 0.9989850521087646, 0.9950494170188904, 0.9940735697746277, 0.9955785274505615, 0.9957764148712158, 0.9955300092697144, 0.9963284730911255, 0.9922472834587097, 0.9928844571113586, 0.9939705729484558, 0.9937078952789307, 0.998205304145813, 0.9977582097053528, 0.9968041181564331, 0.9934056401252747, 0.9952979683876038, 0.9928930401802063, 0.9986469149589539, 0.9768578410148621, 0.6000217199325562, 0.3995969295501709, 0.9969853758811951, 0.9926483631134033, 0.997401237487793, 0.9976975917816162, 0.9944887161254883, 0.9983645081520081, 0.9944616556167603, 0.9981539249420166, 0.9942192435264587, 0.9955413937568665, 0.43258729577064514, 0.5668385028839111, 0.39608654379844666, 0.6017144322395325, 0.8416746854782104, 0.15516908466815948, 0.9944580793380737, 0.7590378522872925, 0.24051199853420258, 0.9950559139251709, 0.9946231245994568, 0.9997349977493286, 0.994113028049469, 0.9986270070075989, 0.9981272220611572, 0.9726969003677368, 0.9944041967391968, 0.9967955350875854, 0.9977626800537109, 0.9937302470207214, 0.9897016882896423, 0.9927582740783691, 0.9968801736831665, 0.9944543242454529, 0.5857807993888855, 0.41294440627098083, 0.4690771698951721, 0.5303851366043091, 0.9959788918495178, 0.9918792247772217, 0.9974314570426941, 0.2814840078353882, 0.7155798077583313, 0.9999290704727173, 0.38564470410346985, 0.6138834357261658, 0.996519148349762, 0.9924813508987427, 0.9953297972679138, 0.9937308430671692, 0.7664827108383179, 0.2325761467218399, 0.9962789416313171, 0.9229913949966431, 0.07697005569934845, 0.9926759004592896, 0.9961453080177307, 0.9959379434585571, 0.9981592297554016, 0.9965448975563049, 0.9937475919723511], \"Term\": [\"24x7\", \"aaron\", \"ab\", \"account\", \"adam\", \"advance\", \"aint\", \"alex\", \"alexis\", \"ali\", \"also\", \"always\", \"alyssa\", \"amanda\", \"amazing\", \"amber\", \"amy\", \"andrea\", \"andrew\", \"anna\", \"another\", \"anthony\", \"anyone\", \"anyone\", \"approved\", \"arm\", \"as\", \"asap\", \"ashley\", \"august\", \"austin\", \"away\", \"baby\", \"back\", \"bad\", \"bad\", \"bad\", \"ball\", \"bank\", \"bank\", \"bed\", \"ben\", \"best\", \"best\", \"best\", \"beth\", \"big\", \"bike\", \"black\", \"bout\", \"brandon\", \"brittany\", \"brooke\", \"buddy\", \"buy\", \"call\", \"cam\", \"cant\", \"cant\", \"card\", \"cash\", \"check\", \"chest\", \"chloe\", \"chris\", \"christian\", \"city\", \"claire\", \"clothes\", \"clothes\", \"coke\", \"come\", \"coming\", \"complete\", \"count\", \"credit\", \"daily\", \"daily\", \"dan\", \"daniel\", \"dave\", \"david\", \"day\", \"definitely\", \"die\", \"diet\", \"diet\", \"direct\", \"done\", \"dont\", \"dont\", \"drink\", \"early\", \"easy\", \"eat\", \"eat\", \"eating\", \"elizabeth\", \"emily\", \"emma\", \"eric\", \"erin\", \"every\", \"excited\", \"exercise\", \"exercise\", \"extra\", \"fact\", \"fast\", \"fast\", \"fat\", \"favorite\", \"feel\", \"feeling\", \"feeling\", \"felt\", \"finish\", \"finna\", \"fit\", \"fit\", \"fitness\", \"follow\", \"food\", \"forever\", \"free\", \"free\", \"free\", \"fun\", \"gain\", \"goal\", \"god\", \"going\", \"going\", \"gone\", \"gonna\", \"gonna\", \"good\", \"got\", \"gotta\", \"great\", \"grind\", \"gym\", \"hair\", \"hannah\", \"happy\", \"hard\", \"health\", \"healthy\", \"heather\", \"hell\", \"help\", \"high\", \"hit\", \"home\", \"hot\", \"hour\", \"ice\", \"idk\", \"ima\", \"installment\", \"instant\", \"intense\", \"jack\", \"jacob\", \"jake\", \"james\", \"jamie\", \"jasmine\", \"jason\", \"jay\", \"jeff\", \"jen\", \"jenna\", \"jennifer\", \"jeremy\", \"jess\", \"jessica\", \"joe\", \"john\", \"jonathan\", \"jordan\", \"joseph\", \"josh\", \"julia\", \"julie\", \"karen\", \"kate\", \"katie\", \"kelly\", \"ken\", \"kevin\", \"kicked\", \"killed\", \"kim\", \"kinda\", \"king\", \"know\", \"know\", \"kyle\", \"lady\", \"last\", \"late\", \"laura\", \"lauren\", \"lazy\", \"leg\", \"lender\", \"let\", \"let\", \"life\", \"life\", \"life\", \"like\", \"like\", \"lil\", \"lisa\", \"lisa\", \"literally\", \"little\", \"little\", \"lmao\", \"loan\", \"lol\", \"lol\", \"look\", \"look\", \"lord\", \"lose\", \"loss\", \"love\", \"love\", \"love\", \"love\", \"mad\", \"make\", \"make\", \"maria\", \"marie\", \"mark\", \"mary\", \"matt\", \"matthew\", \"maybe\", \"mean\", \"meg\", \"megan\", \"melanie\", \"melissa\", \"michael\", \"michelle\", \"mike\", \"mile\", \"min\", \"mini\", \"minute\", \"miss\", \"mom\", \"monday\", \"money\", \"money\", \"mood\", \"morgan\", \"morning\", \"mr\", \"much\", \"much\", \"muscle\", \"music\", \"must\", \"natalie\", \"need\", \"need\", \"needed\", \"nice\", \"nicole\", \"night\", \"night\", \"nothing\", \"ohio\", \"olivia\", \"online\", \"partner\", \"patrick\", \"paul\", \"payday\", \"people\", \"people\", \"planet\", \"please\", \"pool\", \"post\", \"pre\", \"preworkout\", \"princess\", \"program\", \"put\", \"queen\", \"rachel\", \"ready\", \"real\", \"really\", \"rebecca\", \"right\", \"right\", \"rob\", \"robert\", \"routine\", \"run\", \"running\", \"running\", \"running\", \"ryan\", \"said\", \"sam\", \"samantha\", \"sarah\", \"say\", \"school\", \"scott\", \"sean\", \"serious\", \"sesh\", \"session\", \"shawn\", \"shelby\", \"short\", \"shower\", \"sleep\", \"smh\", \"song\", \"soon\", \"sophie\", \"sore\", \"sport\", \"start\", \"start\", \"starting\", \"stay\", \"stephanie\", \"steve\", \"steven\", \"stock\", \"super\", \"taylor\", \"tell\", \"texas\", \"thats\", \"thats\", \"think\", \"think\", \"thomas\", \"thomas\", \"thought\", \"time\", \"time\", \"tip\", \"title\", \"today\", \"tom\", \"tomorrow\", \"tonight\", \"tony\", \"top\", \"training\", \"trying\", \"tweet\", \"tyler\", \"vega\", \"victoria\", \"wait\", \"wanna\", \"wanna\", \"want\", \"want\", \"watch\", \"watching\", \"water\", \"way\", \"way\", \"weight\", \"weightloss\", \"weightloss\", \"without\", \"woman\", \"wont\", \"word\", \"work\", \"work\", \"working\", \"workout\", \"workout\", \"worst\", \"wow\", \"yay\", \"yesterday\", \"yoga\", \"young\"]}, \"R\": 30, \"lambda.step\": 0.01, \"plot.opts\": {\"xlab\": \"PC1\", \"ylab\": \"PC2\"}, \"topic.order\": [1, 10, 3, 4, 6, 8, 2, 7, 9, 5]};\n",
       "\n",
       "function LDAvis_load_lib(url, callback){\n",
       "  var s = document.createElement('script');\n",
       "  s.src = url;\n",
       "  s.async = true;\n",
       "  s.onreadystatechange = s.onload = callback;\n",
       "  s.onerror = function(){console.warn(\"failed to load library \" + url);};\n",
       "  document.getElementsByTagName(\"head\")[0].appendChild(s);\n",
       "}\n",
       "\n",
       "if(typeof(LDAvis) !== \"undefined\"){\n",
       "   // already loaded: just create the visualization\n",
       "   !function(LDAvis){\n",
       "       new LDAvis(\"#\" + \"ldavis_el500141130665424487024079623\", ldavis_el500141130665424487024079623_data);\n",
       "   }(LDAvis);\n",
       "}else if(typeof define === \"function\" && define.amd){\n",
       "   // require.js is available: use it to load d3/LDAvis\n",
       "   require.config({paths: {d3: \"https://cdnjs.cloudflare.com/ajax/libs/d3/3.5.5/d3.min\"}});\n",
       "   require([\"d3\"], function(d3){\n",
       "      window.d3 = d3;\n",
       "      LDAvis_load_lib(\"https://cdn.rawgit.com/bmabey/pyLDAvis/files/ldavis.v1.0.0.js\", function(){\n",
       "        new LDAvis(\"#\" + \"ldavis_el500141130665424487024079623\", ldavis_el500141130665424487024079623_data);\n",
       "      });\n",
       "    });\n",
       "}else{\n",
       "    // require.js not available: dynamically load d3 & LDAvis\n",
       "    LDAvis_load_lib(\"https://cdnjs.cloudflare.com/ajax/libs/d3/3.5.5/d3.min.js\", function(){\n",
       "         LDAvis_load_lib(\"https://cdn.rawgit.com/bmabey/pyLDAvis/files/ldavis.v1.0.0.js\", function(){\n",
       "                 new LDAvis(\"#\" + \"ldavis_el500141130665424487024079623\", ldavis_el500141130665424487024079623_data);\n",
       "            })\n",
       "         });\n",
       "}\n",
       "</script>"
      ],
      "text/plain": [
       "<IPython.core.display.HTML object>"
      ]
     },
     "execution_count": 44,
     "metadata": {},
     "output_type": "execute_result"
    }
   ],
   "source": [
    "# http://tlfvincent.github.io/2015/10/23/presidential-speech-topics/#topic=1&lambda=1&term=\n",
    "vis_data = gensimvis.prepare(tweet_topics, corpus, dictionary)\n",
    "pyLDAvis.display(vis_data)"
   ]
  },
  {
   "cell_type": "markdown",
   "metadata": {},
   "source": [
    "### Output Visualization Tool to HTML"
   ]
  },
  {
   "cell_type": "code",
   "execution_count": 45,
   "metadata": {},
   "outputs": [],
   "source": [
    "# save viz output to an HTML file\n",
    "vis_data = gensimvis.prepare(tweet_topics, corpus, dictionary)\n",
    "\n",
    "pyLDAvis.save_html(vis_data, 'pyLDAviz_Commercial.html')"
   ]
  }
 ],
 "metadata": {
  "hide_input": false,
  "kernelspec": {
   "display_name": "Python 3",
   "language": "python",
   "name": "python3"
  },
  "language_info": {
   "codemirror_mode": {
    "name": "ipython",
    "version": 3
   },
   "file_extension": ".py",
   "mimetype": "text/x-python",
   "name": "python",
   "nbconvert_exporter": "python",
   "pygments_lexer": "ipython3",
   "version": "3.6.7"
  }
 },
 "nbformat": 4,
 "nbformat_minor": 2
}
